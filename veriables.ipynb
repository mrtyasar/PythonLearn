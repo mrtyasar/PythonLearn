{
  "nbformat": 4,
  "nbformat_minor": 0,
  "metadata": {
    "colab": {
      "name": "veriables.ipynb",
      "provenance": [],
      "collapsed_sections": []
    },
    "kernelspec": {
      "name": "python3",
      "display_name": "Python 3"
    }
  },
  "cells": [
    {
      "cell_type": "markdown",
      "metadata": {
        "id": "CzevUXgyvDrd",
        "colab_type": "text"
      },
      "source": [
        "# Veriables"
      ]
    },
    {
      "cell_type": "markdown",
      "metadata": {
        "id": "mOBhYosmvL0g",
        "colab_type": "text"
      },
      "source": [
        "# len() Fonksiyonu"
      ]
    },
    {
      "cell_type": "markdown",
      "metadata": {
        "id": "K8o_xSMevOo2",
        "colab_type": "text"
      },
      "source": [
        "len() fonksiyonu karakter dizilerin eleman sayısını yani uzunluğunu gösterir"
      ]
    },
    {
      "cell_type": "code",
      "metadata": {
        "id": "x_NDOfZMvlDU",
        "colab_type": "code",
        "colab": {
          "base_uri": "https://localhost:8080/",
          "height": 50
        },
        "outputId": "f02503ee-a8dc-4278-99fb-d97339b9e71c"
      },
      "source": [
        "print(len(\"firat_ozgul_1980\"))\n",
        "print(len(\"rT%65#$hGfUY56123\"))"
      ],
      "execution_count": 2,
      "outputs": [
        {
          "output_type": "stream",
          "text": [
            "16\n",
            "17\n"
          ],
          "name": "stdout"
        }
      ]
    },
    {
      "cell_type": "markdown",
      "metadata": {
        "id": "aezy6bSHvy77",
        "colab_type": "text"
      },
      "source": [
        "len() fonksiyonu int değer gönderdiği için toplayabiliyoruz"
      ]
    },
    {
      "cell_type": "code",
      "metadata": {
        "id": "HAGCTJ0kv5e2",
        "colab_type": "code",
        "colab": {
          "base_uri": "https://localhost:8080/",
          "height": 34
        },
        "outputId": "e402cd24-9aa0-48ce-b14c-6597a515fc0a"
      },
      "source": [
        "print(len(\"firat_ozgul_1980\")+len(\"rT%65#$hGfUY56123\"))"
      ],
      "execution_count": 3,
      "outputs": [
        {
          "output_type": "stream",
          "text": [
            "33\n"
          ],
          "name": "stdout"
        }
      ]
    },
    {
      "cell_type": "code",
      "metadata": {
        "id": "nil1nrDuwGUi",
        "colab_type": "code",
        "colab": {
          "base_uri": "https://localhost:8080/",
          "height": 34
        },
        "outputId": "1a2722d7-ea80-4687-ad0f-b5ffba7c027c"
      },
      "source": [
        "print(type(len(\"123\")))"
      ],
      "execution_count": 4,
      "outputs": [
        {
          "output_type": "stream",
          "text": [
            "<class 'int'>\n"
          ],
          "name": "stdout"
        }
      ]
    },
    {
      "cell_type": "markdown",
      "metadata": {
        "id": "y0pXBliiwJBK",
        "colab_type": "text"
      },
      "source": [
        "len() fonksiyonu sadece string ifadelerde kullanılır.\n",
        "\n",
        "eğer string olmayan nesnelerin eleman sayılarını öğrenmek istiyorsak\n",
        "bu nesneyi string veri tipine dönüştürerek bulabiliriz\n",
        "\n",
        "len() fonskiyonunda boşluklarda karakter olarak algılanır"
      ]
    },
    {
      "cell_type": "markdown",
      "metadata": {
        "id": "P8uBOT4OwcqJ",
        "colab_type": "text"
      },
      "source": [
        "# Değişkenler"
      ]
    },
    {
      "cell_type": "markdown",
      "metadata": {
        "id": "pL5OtRT4wffw",
        "colab_type": "text"
      },
      "source": [
        "değişkenler içinde belli verileri tutabilen bir yapıdır\n",
        "değişkenler sayesinde daha okunaklı daha düzenli bir kod yazarız"
      ]
    },
    {
      "cell_type": "code",
      "metadata": {
        "id": "VOjMJcIowq72",
        "colab_type": "code",
        "colab": {}
      },
      "source": [
        "m = 15"
      ],
      "execution_count": 0,
      "outputs": []
    },
    {
      "cell_type": "markdown",
      "metadata": {
        "id": "fa_MuWaLwtuP",
        "colab_type": "text"
      },
      "source": [
        "m değişkenin içine 15 sayısını attık. Bu demek ki m i kullandığımız her yerde aslında 15 sayısını kullanmış olacağız:"
      ]
    },
    {
      "cell_type": "code",
      "metadata": {
        "id": "3T9DWTrHw1B_",
        "colab_type": "code",
        "colab": {
          "base_uri": "https://localhost:8080/",
          "height": 67
        },
        "outputId": "16d2e92e-6bae-448b-e613-28c9723c8556"
      },
      "source": [
        "print(m)\n",
        "print(m/2)\n",
        "print(m*10)"
      ],
      "execution_count": 10,
      "outputs": [
        {
          "output_type": "stream",
          "text": [
            "15\n",
            "7.5\n",
            "150\n"
          ],
          "name": "stdout"
        }
      ]
    },
    {
      "cell_type": "code",
      "metadata": {
        "id": "xsOLxWaAxEvZ",
        "colab_type": "code",
        "colab": {
          "base_uri": "https://localhost:8080/",
          "height": 34
        },
        "outputId": "8088f4c6-d893-4a0a-bb6e-6ed703625a0a"
      },
      "source": [
        "pi = 3.14\n",
        "print(pi+m)"
      ],
      "execution_count": 11,
      "outputs": [
        {
          "output_type": "stream",
          "text": [
            "18.14\n"
          ],
          "name": "stdout"
        }
      ]
    },
    {
      "cell_type": "markdown",
      "metadata": {
        "id": "6lZTACWAxQdc",
        "colab_type": "text"
      },
      "source": [
        "elimizde bulunan kullanıcı adını ve parolayı bir değişkenin içine atalım ve toplam uzunluğunu bulalım"
      ]
    },
    {
      "cell_type": "code",
      "metadata": {
        "id": "aPmaSLOsxZ0z",
        "colab_type": "code",
        "colab": {
          "base_uri": "https://localhost:8080/",
          "height": 50
        },
        "outputId": "0e2a05dd-e050-4707-934d-ad0cbd07df42"
      },
      "source": [
        "kullaniciAdi = \"firat_ozgul_1980\"\n",
        "parola = \"rT%65#$hGfUY56123\"\n",
        "\n",
        "print(kullaniciAdi)\n",
        "print(parola)"
      ],
      "execution_count": 12,
      "outputs": [
        {
          "output_type": "stream",
          "text": [
            "firat_ozgul_1980\n",
            "rT%65#$hGfUY56123\n"
          ],
          "name": "stdout"
        }
      ]
    },
    {
      "cell_type": "markdown",
      "metadata": {
        "id": "-rRFVBoOx0ep",
        "colab_type": "text"
      },
      "source": [
        "toplam uzunluğunu bulalım:"
      ]
    },
    {
      "cell_type": "code",
      "metadata": {
        "id": "GJZPL4I2x2gx",
        "colab_type": "code",
        "colab": {
          "base_uri": "https://localhost:8080/",
          "height": 34
        },
        "outputId": "3315daf1-d54a-4513-8c26-61f2abb6a2cf"
      },
      "source": [
        "print(len(kullaniciAdi)+len(parola))"
      ],
      "execution_count": 13,
      "outputs": [
        {
          "output_type": "stream",
          "text": [
            "33\n"
          ],
          "name": "stdout"
        }
      ]
    },
    {
      "cell_type": "markdown",
      "metadata": {
        "id": "sMqZAZg4yFpu",
        "colab_type": "text"
      },
      "source": [
        "istersekte bu işlemi yeni bir değişkenin içine atarak hem işlemin kalıcı hale getiririz. Hem de sürekli aynı işlemi yazmaktan kurtulur"
      ]
    },
    {
      "cell_type": "code",
      "metadata": {
        "id": "kSV-ULEcyZVd",
        "colab_type": "code",
        "colab": {
          "base_uri": "https://localhost:8080/",
          "height": 34
        },
        "outputId": "b7aac6b7-d6a8-4a7c-bce9-0a960088032c"
      },
      "source": [
        "toplamKullanici = len(kullaniciAdi)+len(parola)\n",
        "print(toplamKullanici)"
      ],
      "execution_count": 15,
      "outputs": [
        {
          "output_type": "stream",
          "text": [
            "33\n"
          ],
          "name": "stdout"
        }
      ]
    },
    {
      "cell_type": "markdown",
      "metadata": {
        "id": "U2tcBo8F1bbb",
        "colab_type": "text"
      },
      "source": [
        "+ Değişkenler bir işlemin kalıcı olmasını sağlar"
      ]
    },
    {
      "cell_type": "code",
      "metadata": {
        "id": "Cbvohrny1hl1",
        "colab_type": "code",
        "colab": {
          "base_uri": "https://localhost:8080/",
          "height": 34
        },
        "outputId": "00cfcc2d-c7a3-470b-9214-30a2632d86c1"
      },
      "source": [
        "numbers = len(name)\n",
        "print(numbers)"
      ],
      "execution_count": 22,
      "outputs": [
        {
          "output_type": "stream",
          "text": [
            "5\n"
          ],
          "name": "stdout"
        }
      ]
    },
    {
      "cell_type": "markdown",
      "metadata": {
        "id": "DsGjCK9m1raV",
        "colab_type": "text"
      },
      "source": [
        "+ Değişkenler yazdığımız kodları okunaklı yapar, hangi nesnenin ne işe yaradığını bize açıklar\n",
        "\n",
        "+ daha fazla zaman kazanırız bazen olacak ki bir değeri 100 kere kullanmak gerekecek ve bir değeri 100 kere yazmak yerine değişken sayesinde kolayca her yerde değeri kullanabaileceğiz\n",
        "\n",
        "+ Kullanıcıdan bilgi almak istediğimizde (input()) bir değişkene atamak zorundayız."
      ]
    },
    {
      "cell_type": "markdown",
      "metadata": {
        "id": "OeNhDXdUyizM",
        "colab_type": "text"
      },
      "source": [
        "# Değişken adı belirleme kuralları"
      ]
    },
    {
      "cell_type": "markdown",
      "metadata": {
        "id": "iAonrMW2ymsw",
        "colab_type": "text"
      },
      "source": [
        "değişken adlarını bazı kelimeler hariç tüm kelimelerle oluşturalabilinir.\n",
        "fakat ingilizce kelime kullanılması daha doğru olur."
      ]
    },
    {
      "cell_type": "markdown",
      "metadata": {
        "id": "A3AqDYlNyvQG",
        "colab_type": "text"
      },
      "source": [
        "+ değişken adları bir sayı ile başlayamaz\n",
        "\n",
        "1name = \"Murat\"  # HATA!\n",
        "\n",
        "+ Değişken adları bir işleçle başlayamaz\n",
        "\n",
        "?name = \"Murat\" #Hata\n",
        "\n",
        "+ Değişken adı arasında boşluk olamaz\n",
        "kullanici Adi = \"blaé #hata aldık\n",
        "\n",
        "+ değişken adları değişkenin değerini yansıtmalı\n",
        "personelSayisi = 45\n",
        "burada 45 sayısının personel sayısı olduğunu anlıyoruz\n",
        "\n",
        "+ Değişken adları ne çok uzun ne çok kısa olmalı, değeri betimlemeli ve makul seviyede olmalı.\n",
        "\n",
        "+ değişken adları harflerle veya _ işaretiyle başlamalıdır"
      ]
    },
    {
      "cell_type": "code",
      "metadata": {
        "id": "7YIIBITVzIai",
        "colab_type": "code",
        "colab": {
          "base_uri": "https://localhost:8080/",
          "height": 50
        },
        "outputId": "5082f431-d11b-427c-88ec-801e523b391a"
      },
      "source": [
        "name = \"Murat\"\n",
        "_name= \"Murat\"\n",
        "print(name)\n",
        "print(_name)"
      ],
      "execution_count": 16,
      "outputs": [
        {
          "output_type": "stream",
          "text": [
            "Murat\n",
            "Murat\n"
          ],
          "name": "stdout"
        }
      ]
    },
    {
      "cell_type": "markdown",
      "metadata": {
        "id": "-VfalJKEzPx8",
        "colab_type": "text"
      },
      "source": [
        "Python'da özel anlam ifade eden kelimeler değişken adı olarak kullanılamaz\n",
        "bu yasaklı kelimelere ulaşmak için ise:"
      ]
    },
    {
      "cell_type": "code",
      "metadata": {
        "id": "QFzWSKcrzWrl",
        "colab_type": "code",
        "colab": {
          "base_uri": "https://localhost:8080/",
          "height": 54
        },
        "outputId": "eb597927-f352-4fe1-eaff-90f79a5e14c2"
      },
      "source": [
        "import keyword\n",
        "print(keyword.kwlist)"
      ],
      "execution_count": 17,
      "outputs": [
        {
          "output_type": "stream",
          "text": [
            "['False', 'None', 'True', 'and', 'as', 'assert', 'break', 'class', 'continue', 'def', 'del', 'elif', 'else', 'except', 'finally', 'for', 'from', 'global', 'if', 'import', 'in', 'is', 'lambda', 'nonlocal', 'not', 'or', 'pass', 'raise', 'return', 'try', 'while', 'with', 'yield']\n"
          ],
          "name": "stdout"
        }
      ]
    },
    {
      "cell_type": "code",
      "metadata": {
        "id": "8Dh81gaFzdjS",
        "colab_type": "code",
        "colab": {
          "base_uri": "https://localhost:8080/",
          "height": 34
        },
        "outputId": "c761cfdd-46d3-45f1-a0cd-5b2785117e48"
      },
      "source": [
        "print(len(keyword.kwlist))"
      ],
      "execution_count": 18,
      "outputs": [
        {
          "output_type": "stream",
          "text": [
            "33\n"
          ],
          "name": "stdout"
        }
      ]
    },
    {
      "cell_type": "markdown",
      "metadata": {
        "id": "XwbONz3mzf_B",
        "colab_type": "text"
      },
      "source": [
        "yasaklı kelimeler bir değişkene atama"
      ]
    },
    {
      "cell_type": "code",
      "metadata": {
        "id": "WEAUVM-rzh6y",
        "colab_type": "code",
        "colab": {
          "base_uri": "https://localhost:8080/",
          "height": 70
        },
        "outputId": "0efefd4a-0306-49c6-f266-0bf79189c5e2"
      },
      "source": [
        "yasakliKelimeler = keyword.kwlist\n",
        "print(yasakliKelimeler)\n",
        "print(len(yasakliKelimeler))"
      ],
      "execution_count": 19,
      "outputs": [
        {
          "output_type": "stream",
          "text": [
            "['False', 'None', 'True', 'and', 'as', 'assert', 'break', 'class', 'continue', 'def', 'del', 'elif', 'else', 'except', 'finally', 'for', 'from', 'global', 'if', 'import', 'in', 'is', 'lambda', 'nonlocal', 'not', 'or', 'pass', 'raise', 'return', 'try', 'while', 'with', 'yield']\n",
            "33\n"
          ],
          "name": "stdout"
        }
      ]
    },
    {
      "cell_type": "markdown",
      "metadata": {
        "id": "j8KhUA-4zyO2",
        "colab_type": "text"
      },
      "source": [
        "fonksiyon adlarını da değişkeni adı olarak kullamayız\n",
        "Değişken adı olark kullandığımız fonskiyonu bir daha kullanamayız:\n",
        "\n",
        "type = \"integer\"\n",
        "print(type(\"Apple\") #Hata"
      ]
    },
    {
      "cell_type": "markdown",
      "metadata": {
        "id": "AyxE9BXx0aj9",
        "colab_type": "text"
      },
      "source": [
        "Değişkeni veya farklı bir nesneyi silmek için 'del' komutundan yararlanırız\n"
      ]
    },
    {
      "cell_type": "code",
      "metadata": {
        "id": "_GEMxxKc0hAV",
        "colab_type": "code",
        "colab": {}
      },
      "source": [
        "del name\n",
        "print(name) # hata! NameError hatası # ad bulunamadı"
      ],
      "execution_count": 0,
      "outputs": []
    },
    {
      "cell_type": "markdown",
      "metadata": {
        "id": "LMikQVeB2MOM",
        "colab_type": "text"
      },
      "source": [
        "# Değişkenlere dair bazı ipuçları"
      ]
    },
    {
      "cell_type": "markdown",
      "metadata": {
        "id": "IHcrnYzT2SHH",
        "colab_type": "text"
      },
      "source": [
        "Aynı değere sahip değişkenler tanımlamak"
      ]
    },
    {
      "cell_type": "code",
      "metadata": {
        "id": "hllNPg5s2UsH",
        "colab_type": "code",
        "colab": {}
      },
      "source": [
        "a = 4\n",
        "b = 4\n",
        "print(a)\n",
        "print(b)"
      ],
      "execution_count": 0,
      "outputs": []
    },
    {
      "cell_type": "markdown",
      "metadata": {
        "id": "c2om8vWh2asO",
        "colab_type": "text"
      },
      "source": [
        "aynı değere sahip iki değişken tanımladık\n",
        "fakat bu işlemin Python'da kolay bir yolu vardır:"
      ]
    },
    {
      "cell_type": "code",
      "metadata": {
        "id": "6dY-prpw2kI6",
        "colab_type": "code",
        "colab": {
          "base_uri": "https://localhost:8080/",
          "height": 50
        },
        "outputId": "56f545af-e891-40a4-ed58-bf9c6a7c453a"
      },
      "source": [
        "a = b = 4\n",
        "print(a)\n",
        "print(b)"
      ],
      "execution_count": 23,
      "outputs": [
        {
          "output_type": "stream",
          "text": [
            "4\n",
            "4\n"
          ],
          "name": "stdout"
        }
      ]
    },
    {
      "cell_type": "markdown",
      "metadata": {
        "id": "vN9pfoUq2q6F",
        "colab_type": "text"
      },
      "source": [
        "Bir yıl içinde her ayın çektiği gün sayısını kolayca tanımlayalım:"
      ]
    },
    {
      "cell_type": "code",
      "metadata": {
        "id": "rimhAa6O29xG",
        "colab_type": "code",
        "colab": {
          "base_uri": "https://localhost:8080/",
          "height": 67
        },
        "outputId": "dd618e6b-dc99-4792-b302-e79d5575a35e"
      },
      "source": [
        "ocak = mart = mayis = temmuz = agustos = ekim = aralık = 31\n",
        "nisan = haziran = eylul = kasim = 30\n",
        "subat = 28\n",
        "\n",
        "print(kasim)\n",
        "print(mayis)\n",
        "print(subat)"
      ],
      "execution_count": 24,
      "outputs": [
        {
          "output_type": "stream",
          "text": [
            "30\n",
            "31\n",
            "28\n"
          ],
          "name": "stdout"
        }
      ]
    },
    {
      "cell_type": "markdown",
      "metadata": {
        "id": "d9worQoT3URC",
        "colab_type": "text"
      },
      "source": [
        "**Doğlaz metreküp fiyatını bulalım**\n",
        "\n",
        "+ mart ayı doğalgaz faturasına göre 346 m küp harcanmış\n",
        "+ 346 m küp'ün tüketim bedeli 273.87 tl imiş\n",
        "\n",
        "bu bilgileri değişkenlere atayalım"
      ]
    },
    {
      "cell_type": "code",
      "metadata": {
        "id": "Bkm2tBZV3ua1",
        "colab_type": "code",
        "colab": {}
      },
      "source": [
        "aylikSarfiyat = 346\n",
        "faturaTutari = 273.87"
      ],
      "execution_count": 0,
      "outputs": []
    },
    {
      "cell_type": "markdown",
      "metadata": {
        "id": "tfF-T3pb3zsW",
        "colab_type": "text"
      },
      "source": [
        "Doğalgazın birim fiyatını hesaplayalım"
      ]
    },
    {
      "cell_type": "code",
      "metadata": {
        "id": "H-kV3ZDl32d0",
        "colab_type": "code",
        "colab": {
          "base_uri": "https://localhost:8080/",
          "height": 34
        },
        "outputId": "38db7eff-f5cb-4b84-b47a-43c15b55ca56"
      },
      "source": [
        "birimFiyati = faturaTutari/aylikSarfiyat\n",
        "print(birimFiyati)"
      ],
      "execution_count": 27,
      "outputs": [
        {
          "output_type": "stream",
          "text": [
            "0.7915317919075144\n"
          ],
          "name": "stdout"
        }
      ]
    },
    {
      "cell_type": "markdown",
      "metadata": {
        "id": "uxXYBIrC4CrB",
        "colab_type": "text"
      },
      "source": [
        "Demek ki doğalgazın metre küp fiyatı 0.79"
      ]
    },
    {
      "cell_type": "markdown",
      "metadata": {
        "id": "mJ1-GkhC4LKv",
        "colab_type": "text"
      },
      "source": [
        "Günlük ortalama doğalgaz kullanımı hesaplama:"
      ]
    },
    {
      "cell_type": "code",
      "metadata": {
        "id": "WoLUxPC-4PKS",
        "colab_type": "code",
        "colab": {
          "base_uri": "https://localhost:8080/",
          "height": 34
        },
        "outputId": "8a2da950-905e-4414-f01b-bd67da8c8363"
      },
      "source": [
        "gunlukSarfiyat = aylikSarfiyat/mart\n",
        "print(gunlukSarfiyat)"
      ],
      "execution_count": 28,
      "outputs": [
        {
          "output_type": "stream",
          "text": [
            "11.161290322580646\n"
          ],
          "name": "stdout"
        }
      ]
    },
    {
      "cell_type": "markdown",
      "metadata": {
        "id": "YBAoJKDH4ZT0",
        "colab_type": "text"
      },
      "source": [
        "Nisan ayı fatura tahmini"
      ]
    },
    {
      "cell_type": "code",
      "metadata": {
        "id": "6Uo4PUie4cZb",
        "colab_type": "code",
        "colab": {
          "base_uri": "https://localhost:8080/",
          "height": 34
        },
        "outputId": "87f35799-400a-44bd-b8bd-dd1563a0df96"
      },
      "source": [
        "nisanFaturasi = birimFiyati*gunlukSarfiyat*nisan\n",
        "print(nisanFaturasi)"
      ],
      "execution_count": 29,
      "outputs": [
        {
          "output_type": "stream",
          "text": [
            "265.03548387096777\n"
          ],
          "name": "stdout"
        }
      ]
    },
    {
      "cell_type": "markdown",
      "metadata": {
        "id": "-Dr8SfCK4k67",
        "colab_type": "text"
      },
      "source": [
        "**Değişkenlerin değerlerini takas etmek**"
      ]
    },
    {
      "cell_type": "code",
      "metadata": {
        "id": "ty5d9YRw4oKX",
        "colab_type": "code",
        "colab": {
          "base_uri": "https://localhost:8080/",
          "height": 34
        },
        "outputId": "1792781a-7d7e-4638-d835-083adfd8853c"
      },
      "source": [
        "caner = \"Genel Müdür\"\n",
        "ahmet = \"Müdür\"\n",
        "caner,ahmet = ahmet,caner\n",
        "print(caner)"
      ],
      "execution_count": 30,
      "outputs": [
        {
          "output_type": "stream",
          "text": [
            "Müdür\n"
          ],
          "name": "stdout"
        }
      ]
    },
    {
      "cell_type": "markdown",
      "metadata": {
        "id": "OJ0hJbhQ4wcy",
        "colab_type": "text"
      },
      "source": [
        "caner ile ahmetin değerini değiştirdik\n",
        "\n",
        "caner'in yeni değeri artık Müdür"
      ]
    },
    {
      "cell_type": "code",
      "metadata": {
        "id": "49nuvCgd45Ok",
        "colab_type": "code",
        "colab": {
          "base_uri": "https://localhost:8080/",
          "height": 34
        },
        "outputId": "c1146dc4-39bb-40d9-c7e1-2c59e5700b94"
      },
      "source": [
        "numbersOne = 10\n",
        "numbersTwo = 20\n",
        "numbersOne,numbersTwo = numbersTwo,numbersOne\n",
        "print(numbersTwo)"
      ],
      "execution_count": 31,
      "outputs": [
        {
          "output_type": "stream",
          "text": [
            "10\n"
          ],
          "name": "stdout"
        }
      ]
    },
    {
      "cell_type": "markdown",
      "metadata": {
        "id": "_1P2oUao5D7u",
        "colab_type": "text"
      },
      "source": [
        "eski hallerine döndürelim"
      ]
    },
    {
      "cell_type": "code",
      "metadata": {
        "id": "itoc54eZ5F9U",
        "colab_type": "code",
        "colab": {
          "base_uri": "https://localhost:8080/",
          "height": 34
        },
        "outputId": "7c237bfb-e325-4faa-d58b-bdc210fd1ced"
      },
      "source": [
        "numbersOne,numbersTwo = numbersTwo,numbersOne\n",
        "print(numbersTwo)"
      ],
      "execution_count": 32,
      "outputs": [
        {
          "output_type": "stream",
          "text": [
            "20\n"
          ],
          "name": "stdout"
        }
      ]
    }
  ]
}