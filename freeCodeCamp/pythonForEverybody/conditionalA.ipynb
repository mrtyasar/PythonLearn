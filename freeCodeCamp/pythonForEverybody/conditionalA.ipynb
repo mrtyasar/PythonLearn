{
  "nbformat": 4,
  "nbformat_minor": 0,
  "metadata": {
    "colab": {
      "name": "conditionalA.ipynb",
      "provenance": [],
      "collapsed_sections": []
    },
    "kernelspec": {
      "name": "python3",
      "display_name": "Python 3"
    }
  },
  "cells": [
    {
      "cell_type": "markdown",
      "metadata": {
        "id": "vq0lQ3_aCRir",
        "colab_type": "text"
      },
      "source": [
        "# Conditional Execution"
      ]
    },
    {
      "cell_type": "markdown",
      "metadata": {
        "id": "3ft30QzUQOoD",
        "colab_type": "text"
      },
      "source": [
        "Koşul durumları bir olayın gerçekleşip gerçekleşmediğini kontrol etmek için oluşturulur.\n",
        "\n",
        "Örneğin kullanıcı bize bir girdi yollarsa şunu yap, yollamazsa şunu yap diyebilmemizi sağlayan koşullardır.\n",
        "\n",
        "Koşulların sonucu iki tür olabilir ancak True veya False. True olursa girintili kod bloğu çalışır, False ise varsa diğer koşula yoksa kontrol akışı durur."
      ]
    },
    {
      "cell_type": "code",
      "metadata": {
        "id": "Y-bm-gPvCMUe",
        "colab_type": "code",
        "colab": {
          "base_uri": "https://localhost:8080/",
          "height": 50
        },
        "outputId": "68fec556-1742-479e-cc61-fcb74b3b96d9"
      },
      "source": [
        "x = 5\n",
        "if x < 10:\n",
        "  print('smaller')\n",
        "if x > 20:\n",
        "  print(Bigger)\n",
        "\n",
        "print('Finish')"
      ],
      "execution_count": 1,
      "outputs": [
        {
          "output_type": "stream",
          "text": [
            "smaller\n",
            "Finish\n"
          ],
          "name": "stdout"
        }
      ]
    },
    {
      "cell_type": "markdown",
      "metadata": {
        "id": "BHSfTg5XXSE0",
        "colab_type": "text"
      },
      "source": [
        "# Comparison Operators"
      ]
    },
    {
      "cell_type": "markdown",
      "metadata": {
        "id": "7TU0SQoMX49K",
        "colab_type": "text"
      },
      "source": [
        "koşul durumunu sorgulamak için bazı boolean operatörlerini kullanırız:\n",
        "\n",
        "<  Küçüktür\n",
        "\n",
        "<= küçük veya eşittir\n",
        "\n",
        "== eşittir\n",
        "\n",
        "\">= \"büyük ve eşitti\n",
        "\n",
        "\">\" büyüktür\n",
        "\n",
        "!= eşit değildir\n"
      ]
    },
    {
      "cell_type": "code",
      "metadata": {
        "id": "EJplO_P7Y6EW",
        "colab_type": "code",
        "colab": {}
      },
      "source": [
        "x = 5\n",
        "\n",
        "if x == 5:\n",
        "  print('Equals 5')\n",
        "if x > 4:\n",
        "  print('Greater than 4')\n",
        "if x >= 5:\n",
        "  print('Greater than or Equals 5')\n",
        "if x < 6: print('Less than 6')\n",
        "if x <= 5:\n",
        "  print('Less than or Equals 5')\n",
        "if x != 6:\n",
        "  print('Not equal 6')"
      ],
      "execution_count": null,
      "outputs": []
    },
    {
      "cell_type": "code",
      "metadata": {
        "id": "9kpegGxWZ9LL",
        "colab_type": "code",
        "colab": {
          "base_uri": "https://localhost:8080/",
          "height": 134
        },
        "outputId": "2278cbe8-3354-4ff4-83d4-ad603c2e648b"
      },
      "source": [
        "x = 5\n",
        "print('Before 5')\n",
        "if x == 5:\n",
        "  print('Is 5')\n",
        "  print('Is Still 5')\n",
        "  print('Third 5')\n",
        "print('Afterwards 5')\n",
        "print('Before 6')\n",
        "if x == 6:\n",
        "  print('Is 6')\n",
        "  print('Is Still 6')\n",
        "  print('Thirdh 6')\n",
        "print('Afterwards 6')"
      ],
      "execution_count": 2,
      "outputs": [
        {
          "output_type": "stream",
          "text": [
            "Before 5\n",
            "Is 5\n",
            "Is Still 5\n",
            "Third 5\n",
            "Afterwards 5\n",
            "Before 6\n",
            "Afterwards 6\n"
          ],
          "name": "stdout"
        }
      ]
    },
    {
      "cell_type": "markdown",
      "metadata": {
        "id": "eq37s632buuk",
        "colab_type": "text"
      },
      "source": [
        "# Indentation"
      ]
    },
    {
      "cell_type": "markdown",
      "metadata": {
        "id": "2FIvOm9acvkV",
        "colab_type": "text"
      },
      "source": [
        "Girintiler kodu daha okunaklı ve düzenli yapar.\n",
        "\n",
        "Girintiler if/elif/else ifadesi, for ifadesi ve while ifadesinde kullanılır.\n",
        "\n",
        "(:) işaretinden sonra tab tuşuyla veya 4 adet boşluk tuşuyla yapılması lazım. Tabi bu kullanıcıya bağlıdır fakat girintileriniz tüm kodlarla aynı boşluğa sahip olmalı yoksa program hata üretir.\n",
        "\n",
        "girintili kodlara kod bloğu denir. Bu bloğun dışında girintisiz bir şekilde yazılan kodlar diğer kodlardan bağımsız bir şekilde çalışır."
      ]
    },
    {
      "cell_type": "markdown",
      "metadata": {
        "id": "SmqPGHddf99x",
        "colab_type": "text"
      },
      "source": [
        "girinti kullanımı sayesinde if blokların ve döngü blokların başlangıcını ve sonunu daha iyi görebiliyoruz:"
      ]
    },
    {
      "cell_type": "code",
      "metadata": {
        "id": "v-qbIH8JgFXR",
        "colab_type": "code",
        "colab": {
          "base_uri": "https://localhost:8080/",
          "height": 286
        },
        "outputId": "35cba8be-5112-40a3-a3c8-3915c1b84675"
      },
      "source": [
        "x = 5\n",
        "if x > 2:\n",
        "  print('Bigger than 2')\n",
        "  print('Still bigger')\n",
        "print('Done with 2')\n",
        "\n",
        "for i in range(5):\n",
        "  print(i)\n",
        "  if i > 2:\n",
        "    print('Bigger than 2')\n",
        "  print('Done with i',i)\n",
        "print('All done')"
      ],
      "execution_count": 3,
      "outputs": [
        {
          "output_type": "stream",
          "text": [
            "Bigger than 2\n",
            "Still bigger\n",
            "Done with 2\n",
            "0\n",
            "Done with i 0\n",
            "1\n",
            "Done with i 1\n",
            "2\n",
            "Done with i 2\n",
            "3\n",
            "Bigger than 2\n",
            "Done with i 3\n",
            "4\n",
            "Bigger than 2\n",
            "Done with i 4\n",
            "All done\n"
          ],
          "name": "stdout"
        }
      ]
    },
    {
      "cell_type": "code",
      "metadata": {
        "id": "5eZSTeTFhHbA",
        "colab_type": "code",
        "colab": {
          "base_uri": "https://localhost:8080/",
          "height": 67
        },
        "outputId": "e813a88a-fcf9-45c5-9741-2dc949ffcfef"
      },
      "source": [
        "x = 42\n",
        "if x > 1:\n",
        "  print('More than one')\n",
        "  if x < 100:\n",
        "    print('Less than 100')\n",
        "print('All done')"
      ],
      "execution_count": 5,
      "outputs": [
        {
          "output_type": "stream",
          "text": [
            "More than one\n",
            "Less than 100\n",
            "All done\n"
          ],
          "name": "stdout"
        }
      ]
    },
    {
      "cell_type": "markdown",
      "metadata": {
        "id": "2PowBxBPilUM",
        "colab_type": "text"
      },
      "source": [
        "# Two-way Decisions with else:"
      ]
    },
    {
      "cell_type": "markdown",
      "metadata": {
        "id": "YsaTy9Mdipch",
        "colab_type": "text"
      },
      "source": [
        "else ifadesi eğer önceki koşullar True değilse son çıkış olarak çalışacak kod bloğu olarak geçer.\n",
        "\n",
        "if-else kullanımında her zaman ya bir tane True yada bir tane False olur bu yüzden her iki kod bloğun çalıştırılması imkansızdır.\n",
        "\n",
        "if koşulundaki sonuc False ise o zaman else kod bloğu çalışır ve kontrol akışımız son bulur."
      ]
    },
    {
      "cell_type": "code",
      "metadata": {
        "id": "0vB-3PqsjCgO",
        "colab_type": "code",
        "colab": {
          "base_uri": "https://localhost:8080/",
          "height": 50
        },
        "outputId": "b1ef96f6-db23-4f1a-d7ed-9b5aa5481075"
      },
      "source": [
        "x = 4\n",
        "if x > 2:\n",
        "  print('Bigger')\n",
        "else:\n",
        "  print('Smaller')\n",
        "\n",
        "print('All done')"
      ],
      "execution_count": 6,
      "outputs": [
        {
          "output_type": "stream",
          "text": [
            "Bigger\n",
            "All done\n"
          ],
          "name": "stdout"
        }
      ]
    }
  ]
}