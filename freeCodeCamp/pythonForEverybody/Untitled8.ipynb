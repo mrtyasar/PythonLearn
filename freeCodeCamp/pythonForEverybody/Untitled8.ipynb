{
  "nbformat": 4,
  "nbformat_minor": 0,
  "metadata": {
    "colab": {
      "name": "Untitled8.ipynb",
      "provenance": [],
      "collapsed_sections": []
    },
    "kernelspec": {
      "name": "python3",
      "display_name": "Python 3"
    }
  },
  "cells": [
    {
      "cell_type": "markdown",
      "metadata": {
        "id": "jS6zI62tg5Df",
        "colab_type": "text"
      },
      "source": [
        "# Loop Idioms"
      ]
    },
    {
      "cell_type": "code",
      "metadata": {
        "id": "HdqcERUhe8yF",
        "colab_type": "code",
        "colab": {
          "base_uri": "https://localhost:8080/",
          "height": 151
        },
        "outputId": "ceb743ca-f76c-4ea7-b016-a798bbe2e50d"
      },
      "source": [
        "print('Before')\n",
        "for thing in [9,41,12,3,74,15]:\n",
        "  print(thing)\n",
        "print('After')"
      ],
      "execution_count": 1,
      "outputs": [
        {
          "output_type": "stream",
          "text": [
            "Before\n",
            "9\n",
            "41\n",
            "12\n",
            "3\n",
            "74\n",
            "15\n",
            "After\n"
          ],
          "name": "stdout"
        }
      ]
    },
    {
      "cell_type": "code",
      "metadata": {
        "id": "RQeCR10BjdWQ",
        "colab_type": "code",
        "colab": {
          "base_uri": "https://localhost:8080/",
          "height": 151
        },
        "outputId": "e50ce54f-c506-480b-dc63-6271fb3a4487"
      },
      "source": [
        "largest_so_far = -1\n",
        "print('Before',largest_so_far)\n",
        "for the_num in [9,41,12,3,74,15]:\n",
        "  if the_num > largest_so_far:\n",
        "    largest_so_far = the_num\n",
        "  print(largest_so_far, the_num)\n",
        "\n",
        "print('After',largest_so_far)"
      ],
      "execution_count": 2,
      "outputs": [
        {
          "output_type": "stream",
          "text": [
            "Before -1\n",
            "9 9\n",
            "41 41\n",
            "41 12\n",
            "41 3\n",
            "74 74\n",
            "74 15\n",
            "After 74\n"
          ],
          "name": "stdout"
        }
      ]
    }
  ]
}