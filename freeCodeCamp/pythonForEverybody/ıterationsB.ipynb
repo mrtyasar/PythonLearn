{
  "nbformat": 4,
  "nbformat_minor": 0,
  "metadata": {
    "colab": {
      "name": "ıterationsB.ipynb",
      "provenance": [],
      "collapsed_sections": []
    },
    "kernelspec": {
      "name": "python3",
      "display_name": "Python 3"
    }
  },
  "cells": [
    {
      "cell_type": "markdown",
      "metadata": {
        "id": "8PrRhUwJasF4",
        "colab_type": "text"
      },
      "source": [
        "# Definite Loops"
      ]
    },
    {
      "cell_type": "markdown",
      "metadata": {
        "id": "9LKX3suSbqda",
        "colab_type": "text"
      },
      "source": [
        "for döngüsü bir definite döngüsüdür. Çünkü sadece belirli bir koşulda veya sayıda çalışır, yani sonunu döngünün sonunu önceden belirlemiş oluyoruz."
      ]
    },
    {
      "cell_type": "code",
      "metadata": {
        "id": "Kdx6nm2hap-p",
        "colab_type": "code",
        "colab": {
          "base_uri": "https://localhost:8080/",
          "height": 118
        },
        "outputId": "8193281e-a176-4013-ff2a-15a4526b4474"
      },
      "source": [
        "for i in [5,4,3,2,1]:\n",
        "  print(i)\n",
        "print('Blastoff!')"
      ],
      "execution_count": 1,
      "outputs": [
        {
          "output_type": "stream",
          "text": [
            "5\n",
            "4\n",
            "3\n",
            "2\n",
            "1\n",
            "Blastoff!\n"
          ],
          "name": "stdout"
        }
      ]
    },
    {
      "cell_type": "code",
      "metadata": {
        "id": "qgpclbcQcJIP",
        "colab_type": "code",
        "colab": {
          "base_uri": "https://localhost:8080/",
          "height": 84
        },
        "outputId": "92de9953-8174-49ca-9124-efac0ef5e64c"
      },
      "source": [
        "friends = ['Joseph','Glenn','Sally']\n",
        "for friend in friends:\n",
        "  print('Happy New Year: ',friend)\n",
        "print('Done!')"
      ],
      "execution_count": 2,
      "outputs": [
        {
          "output_type": "stream",
          "text": [
            "Happy New Year:  Joseph\n",
            "Happy New Year:  Glenn\n",
            "Happy New Year:  Sally\n",
            "Done!\n"
          ],
          "name": "stdout"
        }
      ]
    },
    {
      "cell_type": "markdown",
      "metadata": {
        "id": "HyxjkDBZdbk_",
        "colab_type": "text"
      },
      "source": [
        "kod gövdesindeki değerler sadece tek bir defa döndürülür."
      ]
    }
  ]
}