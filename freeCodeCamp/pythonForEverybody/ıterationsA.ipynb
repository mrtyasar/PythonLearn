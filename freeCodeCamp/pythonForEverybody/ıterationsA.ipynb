{
  "nbformat": 4,
  "nbformat_minor": 0,
  "metadata": {
    "colab": {
      "name": "ıterationsA.ipynb",
      "provenance": [],
      "collapsed_sections": []
    },
    "kernelspec": {
      "name": "python3",
      "display_name": "Python 3"
    }
  },
  "cells": [
    {
      "cell_type": "markdown",
      "metadata": {
        "id": "iT7HpY1MMynU",
        "colab_type": "text"
      },
      "source": [
        "# Loops and Iterations"
      ]
    },
    {
      "cell_type": "code",
      "metadata": {
        "id": "RcBCSYoOMtyC",
        "colab_type": "code",
        "colab": {
          "base_uri": "https://localhost:8080/",
          "height": 134
        },
        "outputId": "e5f0fd17-0a32-4e81-cc85-c6364d27fe9c"
      },
      "source": [
        "n = 5\n",
        "while n > 0: # n sıfırdan büyük olduğu müddetçe çalıştır:\n",
        "  print(n) \n",
        "  n = n - 1 # her döngüde n değerini 1 düşür\n",
        "print('Blastoff!')\n",
        "print(n)"
      ],
      "execution_count": 1,
      "outputs": [
        {
          "output_type": "stream",
          "text": [
            "5\n",
            "4\n",
            "3\n",
            "2\n",
            "1\n",
            "Blastoff!\n",
            "0\n"
          ],
          "name": "stdout"
        }
      ]
    },
    {
      "cell_type": "markdown",
      "metadata": {
        "id": "Hcs1Z9jLNu1T",
        "colab_type": "text"
      },
      "source": [
        "While döngüsüyle sonsuz bir döngüye girebileceğimiz için her döngüden sonra n değerini -1 olarak düşürdük bu sayede bir süre sonra n > 0 sonucu False olacak ve döngü çalışmayı bırakıp makine girintili olmayan kodları çalıştıracak."
      ]
    },
    {
      "cell_type": "markdown",
      "metadata": {
        "id": "crNt8EfkOb5K",
        "colab_type": "text"
      },
      "source": [
        "Aşağıdaki döngünün sorunu ne?"
      ]
    },
    {
      "cell_type": "code",
      "metadata": {
        "id": "H87Oj20UOe9h",
        "colab_type": "code",
        "colab": {}
      },
      "source": [
        "n = 5\n",
        "while n > 0:\n",
        "  print('Lather')\n",
        "  print('Rinse')\n",
        "print('Dry off!')"
      ],
      "execution_count": null,
      "outputs": []
    },
    {
      "cell_type": "markdown",
      "metadata": {
        "id": "rhpjhpn3OsEI",
        "colab_type": "text"
      },
      "source": [
        "koşulun bir süre sonra False olmasını sağlyacak bir şey kod bulunmadığı için döngü sonsuz bir döngüye girecek. \n",
        "\n",
        "olması gereken:"
      ]
    },
    {
      "cell_type": "code",
      "metadata": {
        "id": "vLJFgWJ0O-3J",
        "colab_type": "code",
        "colab": {}
      },
      "source": [
        "n = 5\n",
        "while n > 0:\n",
        "  print('Lather')\n",
        "  print('Rinse')\n",
        "  n = n - 1\n",
        "print('Dry Off!')"
      ],
      "execution_count": null,
      "outputs": []
    },
    {
      "cell_type": "markdown",
      "metadata": {
        "id": "MknBy_fvPUoz",
        "colab_type": "text"
      },
      "source": [
        "Bu döngü ne yapar?"
      ]
    },
    {
      "cell_type": "code",
      "metadata": {
        "id": "MOm0rv-_PYip",
        "colab_type": "code",
        "colab": {
          "base_uri": "https://localhost:8080/",
          "height": 34
        },
        "outputId": "b1db1bb6-d363-48d9-da47-1d6b66be842c"
      },
      "source": [
        "m = 0\n",
        "while m > 0:\n",
        "  print('Lather')\n",
        "  print('Rinse')\n",
        "print('Dry off!')"
      ],
      "execution_count": 3,
      "outputs": [
        {
          "output_type": "stream",
          "text": [
            "Dry off!\n"
          ],
          "name": "stdout"
        }
      ]
    },
    {
      "cell_type": "markdown",
      "metadata": {
        "id": "3f9s7KLDPhMx",
        "colab_type": "text"
      },
      "source": [
        "m 0 dan büyük olduğu müddetçe çalıştır diyoruz fakat m in değeri 0 olduğu için döngü False verip döngüyü atlayıp girintisiz olan print('Dry Off!') kodunu çalıştırıyor. "
      ]
    },
    {
      "cell_type": "markdown",
      "metadata": {
        "id": "FWPUFawnP_O5",
        "colab_type": "text"
      },
      "source": [
        "# Breaking Out of a Loop"
      ]
    },
    {
      "cell_type": "markdown",
      "metadata": {
        "id": "2xpPcGORQUOh",
        "colab_type": "text"
      },
      "source": [
        "Break deyimi döngüyü kırabilmek veya döngüyü sonlandırmak için kullandığımız bir ifadedir. "
      ]
    },
    {
      "cell_type": "code",
      "metadata": {
        "id": "BWm4Qw__UoqN",
        "colab_type": "code",
        "colab": {
          "base_uri": "https://localhost:8080/",
          "height": 50
        },
        "outputId": "ccc76e4a-48be-4072-da1b-e18ea5fec26a"
      },
      "source": [
        "while True:\n",
        "  line = input('> ')\n",
        "  if line == 'done':\n",
        "    break\n",
        "  print(line)\n",
        "print('Done!')"
      ],
      "execution_count": 6,
      "outputs": [
        {
          "output_type": "stream",
          "text": [
            "> done\n",
            "Done!\n"
          ],
          "name": "stdout"
        }
      ]
    },
    {
      "cell_type": "markdown",
      "metadata": {
        "id": "6thvkBGNWK9B",
        "colab_type": "text"
      },
      "source": [
        "# Continue"
      ]
    },
    {
      "cell_type": "markdown",
      "metadata": {
        "id": "MDIDFPDuWNZM",
        "colab_type": "text"
      },
      "source": [
        "Continue deyimi belirlediğimiz bir durum oluşursa atlamasını sağlayan yapılardır. Yani şu şu olursa geç önemseme denilir bir nevi. Continue deyimi gerçekleştikten sonra döngü tekrardan başa sarılır."
      ]
    },
    {
      "cell_type": "code",
      "metadata": {
        "id": "O76YZptZWWBv",
        "colab_type": "code",
        "colab": {
          "base_uri": "https://localhost:8080/",
          "height": 151
        },
        "outputId": "0b6c345a-fcc3-4c39-ba41-4906e8055e48"
      },
      "source": [
        "while True:\n",
        "  line = input('> ')\n",
        "  if line[0] == '#':\n",
        "    continue\n",
        "  if line == 'done':\n",
        "    break\n",
        "  print(line)\n",
        "print('Done!')"
      ],
      "execution_count": 7,
      "outputs": [
        {
          "output_type": "stream",
          "text": [
            "> # selam\n",
            "> # oo\n",
            "> oo\n",
            "oo\n",
            "> falan\n",
            "falan\n",
            "> done\n",
            "Done!\n"
          ],
          "name": "stdout"
        }
      ]
    }
  ]
}