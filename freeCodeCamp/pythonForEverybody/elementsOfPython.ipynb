{
  "nbformat": 4,
  "nbformat_minor": 0,
  "metadata": {
    "colab": {
      "name": "elementsOfPython.ipynb",
      "provenance": []
    },
    "kernelspec": {
      "name": "python3",
      "display_name": "Python 3"
    }
  },
  "cells": [
    {
      "cell_type": "markdown",
      "metadata": {
        "id": "veDQwm_u5YRf",
        "colab_type": "text"
      },
      "source": [
        "# Reserved Words"
      ]
    },
    {
      "cell_type": "markdown",
      "metadata": {
        "id": "OSV0tXNt5bJa",
        "colab_type": "text"
      },
      "source": [
        "Python'da belli başlı özel kelimeler vardır. Bu kelimeleri onlara tanımlanan özellikler dışında herhangi başka yerde kullanmak programımızın çökmesine sebebiyet verir.\n",
        "\n",
        "mesala bu keywordları veriable name olarak kullanmak kessinlikle yasaktır, ha kullanılabilir mi evet ama program hata verecektir.\n",
        "\n",
        "Bu özel kelimeler:"
      ]
    },
    {
      "cell_type": "code",
      "metadata": {
        "id": "DJyCkwoLwNq6",
        "colab_type": "code",
        "colab": {}
      },
      "source": [
        "False  class    return    is          finally\n",
        "None   if       for       lambda      continue\n",
        "True   def      from      while       nonlocal\n",
        "and    del      global    not         with\n",
        "as     elif     try       or          yield\n",
        "assert else     import    pass\n",
        "break  except   in        raise"
      ],
      "execution_count": null,
      "outputs": []
    },
    {
      "cell_type": "markdown",
      "metadata": {
        "id": "2gSMJBa970OL",
        "colab_type": "text"
      },
      "source": [
        "# Sentences or Lines"
      ]
    },
    {
      "cell_type": "markdown",
      "metadata": {
        "id": "jGmUDf53738Z",
        "colab_type": "text"
      },
      "source": [
        "sadece pythonda değil programlama dillerini yazarken şiir mantığıyla yazarızç\n",
        "\n",
        "örneğin bla bala yazarız ve bir sonraki satırı yukarıdaki yazdığımızı destekler niteliğinde bir satır daha yazarız, yine ve yine. bu sayede bir şiir elde etmiş oluruz.\n",
        "\n",
        "Python'da da bu durum bu şekilde ilerler, kodumuzu yazarız ve bir sonraki satıra geçeriz."
      ]
    },
    {
      "cell_type": "code",
      "metadata": {
        "id": "uUC7-MCz8WLC",
        "colab_type": "code",
        "colab": {
          "base_uri": "https://localhost:8080/",
          "height": 34
        },
        "outputId": "7f653534-f09c-4bf1-b094-f65d7ea29a3e"
      },
      "source": [
        "x = 2 # 2 sayısını x adlı değişkenin içine (=) atama operatörüyle atarız\n",
        "x = x + 2 # x değişkenimizin değerliyle 2 sayısını toplar x in içine atarız\n",
        "print(x)  # x değişkenini ekrana yazdırırız."
      ],
      "execution_count": 2,
      "outputs": [
        {
          "output_type": "stream",
          "text": [
            "4\n"
          ],
          "name": "stdout"
        }
      ]
    },
    {
      "cell_type": "markdown",
      "metadata": {
        "id": "6BqcHEk-9GFI",
        "colab_type": "text"
      },
      "source": [
        "not:\n",
        "\n",
        "(=) eşittir işareti python'da atama operatörü olarak geçer. Bir değişkenin içine değeri saklamak için bu operatörü kullanırız."
      ]
    },
    {
      "cell_type": "markdown",
      "metadata": {
        "id": "dsm1wobU94mV",
        "colab_type": "text"
      },
      "source": [
        "# Python Scripts"
      ]
    },
    {
      "cell_type": "markdown",
      "metadata": {
        "id": "9mYYH_m_98TJ",
        "colab_type": "text"
      },
      "source": [
        "Projeler çoğunlukla gelişmiş IDE'lerde veya vscode gibi kod editörlerinde yazılır ve burada kolayca çıktısı alınır.\n",
        "\n",
        "Fakat programımızda yeni bir şeyler eklemek istiyorsak veya herhangi bir kod satırını denemek istiyorsak bunu etkileşim kabuğunda yapabiliriz.\n",
        "\n",
        "Projelerimizi etkileşim kabuğunda yapmama nedenimiz, etkileşim kabuğundan çıktığımızda yazdığımız tüm kodların silinmesidir.\n",
        "\n",
        "bu yüzden 3-4 satırlık deneyler ve programları etkileşim kabuğunda hızlıca denemek bizim için oldukça fayda sağlar."
      ]
    },
    {
      "cell_type": "markdown",
      "metadata": {
        "id": "eKOKR8os_wWJ",
        "colab_type": "text"
      },
      "source": [
        "Yazdığımız programlar çoğunlukla uzun olacaktır, bu yüzden yazdığımız kdoları bir file'ın içine koyar ve terminalde çalıştırırız."
      ]
    },
    {
      "cell_type": "markdown",
      "metadata": {
        "id": "DcxIeprUAwaC",
        "colab_type": "text"
      },
      "source": [
        "Zorunlu bir kuraldır, dosya içeriğini belirtmek için dosyamızın sonunda .py koyarız."
      ]
    },
    {
      "cell_type": "markdown",
      "metadata": {
        "id": "ICuYXPccBaIp",
        "colab_type": "text"
      },
      "source": [
        "**Interactive vs Script**"
      ]
    },
    {
      "cell_type": "markdown",
      "metadata": {
        "id": "CrBsZQcOBfQI",
        "colab_type": "text"
      },
      "source": [
        "Interactive:\n",
        "\n",
        "- Etkileşim kabuğunda yazdığımız kodun hızlıca çıktısını görebiliriz. Etkileşim kabuğu olduğu için daha az satırlık kod yazabiliriz.\n",
        "\n",
        "Script:\n",
        "\n",
        "- Daha fazla satırlık kodları bir .py uzantılı dosyanın içine saklayarak terminalde çalıştırılmasını sağlarız.\n",
        "\n",
        "Çoğunlukla bu yöntemi kullanacağız. Küçük bir araç olarakta etkileşim kabuğunu."
      ]
    },
    {
      "cell_type": "markdown",
      "metadata": {
        "id": "FTZ4y5RfCOjA",
        "colab_type": "text"
      },
      "source": [
        "# Program Steps or Program Flow"
      ]
    },
    {
      "cell_type": "markdown",
      "metadata": {
        "id": "vKSMQhFQCnyQ",
        "colab_type": "text"
      },
      "source": [
        "Bir programı yazmak tıpkı bir yemeği yapma veya programı kurmak gibi sırasıyla yapılan bir işlemdir.\n",
        "\n",
        "bazı adımlar şarttır, yapılması zorunludur. Bazı adımlar ise atlanılabilir.\n",
        "\n",
        "bazı durumlarda bir adım ve grup tekrarlanabilir.\n",
        "\n"
      ]
    },
    {
      "cell_type": "code",
      "metadata": {
        "id": "gXosndrREx0K",
        "colab_type": "code",
        "colab": {
          "base_uri": "https://localhost:8080/",
          "height": 50
        },
        "outputId": "de2e4664-8f11-4755-b843-b2d332055fd4"
      },
      "source": [
        "x = 2\n",
        "print(x)\n",
        "x = x + 2\n",
        "print(x)"
      ],
      "execution_count": 3,
      "outputs": [
        {
          "output_type": "stream",
          "text": [
            "2\n",
            "4\n"
          ],
          "name": "stdout"
        }
      ]
    },
    {
      "cell_type": "markdown",
      "metadata": {
        "id": "6xKbcXocG-2s",
        "colab_type": "text"
      },
      "source": [
        "# Conditional Steps"
      ]
    },
    {
      "cell_type": "code",
      "metadata": {
        "id": "_9Xa-T_zHHAY",
        "colab_type": "code",
        "colab": {
          "base_uri": "https://localhost:8080/",
          "height": 50
        },
        "outputId": "fe8a0fc0-a0c5-4170-d2ca-d53b48ba7174"
      },
      "source": [
        "x = 5\n",
        "if x < 10: # eğer x 10 dan küçükse şunu yap\n",
        "  print('smaller') # ekrana smaller yazdır\n",
        "if x > 20:  # eğer x 20'den büyükse şunu yap:\n",
        "  print('Bigger')  # ekrana Bigger yazdır\n",
        "\n",
        "print('Finis') # ekrana Finis yazdır"
      ],
      "execution_count": 4,
      "outputs": [
        {
          "output_type": "stream",
          "text": [
            "smaller\n",
            "Finis\n"
          ],
          "name": "stdout"
        }
      ]
    },
    {
      "cell_type": "markdown",
      "metadata": {
        "id": "MoNXiNqBH1G4",
        "colab_type": "text"
      },
      "source": [
        "if koşulu gerçekleşirse if bloğundaki girintili kodlar çalışır.\n",
        "\n",
        "girintiyi çoğu ide ve kod editörleri otomatik olarak gerçekleştirse de girintiyi 1 tab tuşu veya 4 boşluk tuşuna basarak oluşturabiliriz.\n",
        "\n",
        "print('Finis') in çalışmasının sebebi kod bloğunun içinde olmamasındandır. kod bloğun içine yazmadığımız her kod sürekli çalışır."
      ]
    },
    {
      "cell_type": "markdown",
      "metadata": {
        "id": "7kUsYxeKQcrx",
        "colab_type": "text"
      },
      "source": [
        "# Repeated Steps"
      ]
    },
    {
      "cell_type": "markdown",
      "metadata": {
        "id": "0Zu5lMT5Qss3",
        "colab_type": "text"
      },
      "source": [
        "Tekrarlanan döngüler sayesinde birden fazla kez programamızı çalıştırabilir ve üzerinde işlemler yapabiliriz."
      ]
    },
    {
      "cell_type": "code",
      "metadata": {
        "id": "PFGO3a-eQzOM",
        "colab_type": "code",
        "colab": {
          "base_uri": "https://localhost:8080/",
          "height": 118
        },
        "outputId": "db1308f2-5848-491a-af37-618e21c1f777"
      },
      "source": [
        "n = 5 \n",
        "while n > 0: # n 0 dan büyük olduğu müddetçe şunları yap\n",
        "  print(n) # n değişkenini ekrana yazdır\n",
        "  n = n - 1 # her döngüde n değerini - 1 yap\n",
        "print('Blastoff!') "
      ],
      "execution_count": 5,
      "outputs": [
        {
          "output_type": "stream",
          "text": [
            "5\n",
            "4\n",
            "3\n",
            "2\n",
            "1\n",
            "Blastoff!\n"
          ],
          "name": "stdout"
        }
      ]
    },
    {
      "cell_type": "markdown",
      "metadata": {
        "id": "KI2fo-1MRLht",
        "colab_type": "text"
      },
      "source": [
        "- n değişkenine 5 değeri atadık\n",
        "- while deyimi sayesinde bir döngü yarattıp bir koşul belirledik\n",
        "- koşul True olduğu müddetçe girintili olarak şunları çalıştır dedik\n",
        "- fakat while döngüsünün en büyük sıkıntısı koşulun aksine bir şey yazmazsak sürekli olarak döngüyü tekrarlamasıdır. Buna sonsuz döngü denir.\n",
        "- döngümüzün sonsuz bir döngüye girmesini istemediğimiz için n - 1 işlemini n değişkenin içine attık.\n",
        "- bu sayede her döngüde n değeri bir bir eksilecek bu sayede koşul bir süre sonra False ye dönecek."
      ]
    },
    {
      "cell_type": "markdown",
      "metadata": {
        "id": "LEnVmGq5SFcQ",
        "colab_type": "text"
      },
      "source": [
        "koşullarda her zaman True ve False olarak 2 seçenek vardır. Bunlar 0 ve 1 leri temsil eden önemli parçalardır. \n",
        "\n",
        "- Elimizde bir koşul var, bu koşul True ise girintili olarak yazılan kod blokları çalışacak.\n",
        "\n",
        "- Fakat eğer False ise varsa girintili olmayan diğer bir koda geçilecek."
      ]
    },
    {
      "cell_type": "code",
      "metadata": {
        "id": "hwWV_dbNTt5g",
        "colab_type": "code",
        "colab": {}
      },
      "source": [
        "name = input('Enter file: ')\n",
        "handle = open(name, 'r')\n",
        "\n",
        "counts = dict()\n",
        "for line in handle:\n",
        "  words = line.split()\n",
        "  for word in words:\n",
        "    counts[words] = counts.get(word,0) + 1\n",
        "\n",
        "bigcount = None\n",
        "bigword = None\n",
        "for word.count in counts.items():\n",
        "  if bigcount is None or count > bigcount:\n",
        "    bigword = word\n",
        "    bigcount = count\n",
        "\n",
        "print(bigword, bigcount)"
      ],
      "execution_count": null,
      "outputs": []
    }
  ]
}