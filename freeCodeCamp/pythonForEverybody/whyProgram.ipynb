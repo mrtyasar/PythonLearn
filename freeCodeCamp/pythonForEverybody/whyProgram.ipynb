{
  "nbformat": 4,
  "nbformat_minor": 0,
  "metadata": {
    "colab": {
      "name": "whyProgram.ipynb",
      "provenance": []
    },
    "kernelspec": {
      "name": "python3",
      "display_name": "Python 3"
    }
  },
  "cells": [
    {
      "cell_type": "markdown",
      "metadata": {
        "id": "5bhmxJk3iMfi",
        "colab_type": "text"
      },
      "source": [
        "Proglama bilgisayarı anlayabileceği bir dilden ondan istediğimizi yaptırabilme sanatıdır.\n",
        "\n",
        "bu sanatta bize yardımcı olan bazı araçlar vardır. Bir bilgisayar, bir progrlama dili, bir problem ve algoritma.\n"
      ]
    },
    {
      "cell_type": "markdown",
      "metadata": {
        "id": "JS6I08zCi26B",
        "colab_type": "text"
      },
      "source": [
        "Programlama becerimizi geliştirereki oyun yapabiliriz, kullanıcıya ulaşacak ürünler çıkartabiliriz, verileride kullanarak ortaya bir ürün çıkartabiliriz."
      ]
    },
    {
      "cell_type": "markdown",
      "metadata": {
        "id": "pD-rOvNcjWXV",
        "colab_type": "text"
      },
      "source": [
        "bir normal kullancıyla, programcının arasındaki en büyük fark kullanıcı elindeki teknolojik ürünleri sadece kullanırken, programcı bu ürünü incelemeli içindeki donanımını ve yazılımını araştırmalı, her ürüne farklı açılarla bakmalı."
      ]
    }
  ]
}