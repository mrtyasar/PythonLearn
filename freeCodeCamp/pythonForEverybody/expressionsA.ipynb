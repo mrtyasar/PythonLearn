{
  "nbformat": 4,
  "nbformat_minor": 0,
  "metadata": {
    "colab": {
      "name": "expressionsA.ipynb",
      "provenance": []
    },
    "kernelspec": {
      "name": "python3",
      "display_name": "Python 3"
    }
  },
  "cells": [
    {
      "cell_type": "markdown",
      "metadata": {
        "id": "XaurMcxJlSr-",
        "colab_type": "text"
      },
      "source": [
        "# Veriables, Expressions and Statements"
      ]
    },
    {
      "cell_type": "code",
      "metadata": {
        "id": "_1rA5IePlDpw",
        "colab_type": "code",
        "colab": {
          "base_uri": "https://localhost:8080/",
          "height": 67
        },
        "outputId": "726cc0f5-ab34-4ae2-d322-3bfd7e7d5921"
      },
      "source": [
        "print(123)\n",
        "print(98.6)\n",
        "print('Hello world')"
      ],
      "execution_count": 1,
      "outputs": [
        {
          "output_type": "stream",
          "text": [
            "123\n",
            "98.6\n",
            "Hello world\n"
          ],
          "name": "stdout"
        }
      ]
    },
    {
      "cell_type": "markdown",
      "metadata": {
        "id": "D3bGCQ-Imw2_",
        "colab_type": "text"
      },
      "source": [
        "# Reserved Words"
      ]
    },
    {
      "cell_type": "markdown",
      "metadata": {
        "id": "7NY4Vt1_m13z",
        "colab_type": "text"
      },
      "source": [
        "Python'da ayrılmış özel kelimeler vardır. Bu kelimeleri amacı dışında kullanmak kesinlikle yasaktır. Çünkü programımız hata alabilir ve çökebilir.\n",
        "\n",
        "Örneğin else ifadesini bir değişken adı olarak tanımlarsak, bu seferde else yi koşul içinde kullandığımızda makinenin aklı karışacak ve hata verecek.\n",
        "\n",
        "Bu kelimeler:"
      ]
    },
    {
      "cell_type": "code",
      "metadata": {
        "id": "cjZYZioxnniL",
        "colab_type": "code",
        "colab": {}
      },
      "source": [
        "False  class    return    is          finally\n",
        "None   if       for       lambda      continue\n",
        "True   def      from      while       nonlocal\n",
        "and    del      global    not         with\n",
        "as     elif     try       or          yield\n",
        "assert else     import    pass\n",
        "break  except   in        raise"
      ],
      "execution_count": null,
      "outputs": []
    },
    {
      "cell_type": "markdown",
      "metadata": {
        "id": "cPa59z8ZoGfr",
        "colab_type": "text"
      },
      "source": [
        "# Veriables"
      ]
    },
    {
      "cell_type": "markdown",
      "metadata": {
        "id": "F1AUnh2zrVtD",
        "colab_type": "text"
      },
      "source": [
        "Verilerin sürekli kullanıldığı bir programda değişkenleri kullanmamız kaçınılmazdır.\n",
        "\n",
        "değişkenin mantığı; elimizde bir veri varsa bu veri için ram da bir yer oluşturur ve bu alana değerimizi koyarız. Bilgisayara hangi alanın ne taşıdğını belli etmek için ise bu alana veriyi temsil edecek bir isim koyarız:"
      ]
    },
    {
      "cell_type": "code",
      "metadata": {
        "id": "_DYLRUVAr31p",
        "colab_type": "code",
        "colab": {}
      },
      "source": [
        "x = 12\n",
        "y = 14"
      ],
      "execution_count": 3,
      "outputs": []
    },
    {
      "cell_type": "markdown",
      "metadata": {
        "id": "ryE62HBar6XB",
        "colab_type": "text"
      },
      "source": [
        "x adlı alanın içine 12 sayısını atadık, y adlı alana 14 sayısını atadık."
      ]
    },
    {
      "cell_type": "markdown",
      "metadata": {
        "id": "29kIgJp-sABB",
        "colab_type": "text"
      },
      "source": [
        "değişkenin içine veriyi koymak için = işaretini kullanırız, buna python'da atama operatörü deriz."
      ]
    },
    {
      "cell_type": "markdown",
      "metadata": {
        "id": "tyCGA4Z4sU0j",
        "colab_type": "text"
      },
      "source": [
        "adı üstünde var olan bir değişkene yeniden bir veriyi atama yaparak değerini değiştirebiliriz. Fakat eski değer komple silinir."
      ]
    },
    {
      "cell_type": "code",
      "metadata": {
        "id": "ZI8Z3SZkshTi",
        "colab_type": "code",
        "colab": {
          "base_uri": "https://localhost:8080/",
          "height": 34
        },
        "outputId": "1cf02835-9700-4400-9daf-29eed891f0f1"
      },
      "source": [
        "x = 100\n",
        "print(x)"
      ],
      "execution_count": 4,
      "outputs": [
        {
          "output_type": "stream",
          "text": [
            "100\n"
          ],
          "name": "stdout"
        }
      ]
    },
    {
      "cell_type": "markdown",
      "metadata": {
        "id": "E_80o7OdtdN7",
        "colab_type": "text"
      },
      "source": [
        "# Python Veriable Name Rules"
      ]
    },
    {
      "cell_type": "markdown",
      "metadata": {
        "id": "9keQzGZJtgyp",
        "colab_type": "text"
      },
      "source": [
        "Python'da değişken isimlerini belirlerken bazı kurallara uymamız lazım:\n",
        "\n",
        "- değişken isimlerin uzunluğu veya kısalığı konusunda sınırlandırma yoktur. Fakat tahmin edildiği gibi çok uzun isimler kodu kötü gözüktürecek veya çok kısa isimler değeri tam temsil etmeyecek."
      ]
    },
    {
      "cell_type": "code",
      "metadata": {
        "id": "mfAuKpaat_BR",
        "colab_type": "code",
        "colab": {}
      },
      "source": [
        "turkiyebuyukmilletmeclisi = 'TBMM'\n",
        "x = 'Türkiye Büyük Millet Meclisi'"
      ],
      "execution_count": null,
      "outputs": []
    },
    {
      "cell_type": "markdown",
      "metadata": {
        "id": "k-e3PXyBuSDa",
        "colab_type": "text"
      },
      "source": [
        "Burada görüldüğü gibi turkiyebuyukmilletmeclisi fazlasıyla uzun olup, tekrar tekrar kullanımında bizi yorabilir.\n",
        "\n",
        "x ise aşırı kısa olduğu için veriyi temsil edemiyor. x ama ne x'si ileride hangi veriyi barındırdığını hem biz hemde başkası kodumuzu okuduğunda anlayamaz."
      ]
    },
    {
      "cell_type": "markdown",
      "metadata": {
        "id": "w43PPFyOvAhg",
        "colab_type": "text"
      },
      "source": [
        "Değişken isimlerimiz harfle veya alt çizgi ile başlamalı. değişken isminde özel karakterler hariç harfler, sayılar ve alt çizgiler bulunabilir."
      ]
    },
    {
      "cell_type": "code",
      "metadata": {
        "id": "9GBkguvgvTb7",
        "colab_type": "code",
        "colab": {}
      },
      "source": [
        "spam = 32\n",
        "eggs = 5.5\n",
        "spam43 = 'Spam'\n",
        "_spam = 'spam1223'\n"
      ],
      "execution_count": null,
      "outputs": []
    },
    {
      "cell_type": "markdown",
      "metadata": {
        "id": "53yceQNPv3-B",
        "colab_type": "text"
      },
      "source": [
        "değişken isimleri sayı ve özel karakterle başlayamaz. değişken isminde özel karakter bulunamaz."
      ]
    },
    {
      "cell_type": "code",
      "metadata": {
        "id": "N_pLFdfvwM2p",
        "colab_type": "code",
        "colab": {}
      },
      "source": [
        "23spam \n",
        "!sign\n",
        "var.12\n",
        "\n",
        "# yukarıdaki örneklerin kullanılmazı yasaktır."
      ],
      "execution_count": null,
      "outputs": []
    },
    {
      "cell_type": "markdown",
      "metadata": {
        "id": "PB53JJCLwZDJ",
        "colab_type": "text"
      },
      "source": [
        "Değişken adları benzer olsa da aynı değillerdir. bellekte tutukları yer ayrıdır, bu yüzden her değerin farklı bir kimliği vardır:"
      ]
    },
    {
      "cell_type": "code",
      "metadata": {
        "id": "BcLDgLQhxM9a",
        "colab_type": "code",
        "colab": {
          "base_uri": "https://localhost:8080/",
          "height": 67
        },
        "outputId": "271ca0ae-56ac-4a48-c025-f016407a166d"
      },
      "source": [
        "spam = 30\n",
        "Spam = 45\n",
        "SPAM = 32\n",
        "print(id(spam)) \n",
        "print(id(Spam))\n",
        "print(id(SPAM))"
      ],
      "execution_count": 9,
      "outputs": [
        {
          "output_type": "stream",
          "text": [
            "10915424\n",
            "10915904\n",
            "10915488\n"
          ],
          "name": "stdout"
        }
      ]
    },
    {
      "cell_type": "markdown",
      "metadata": {
        "id": "UCzMF-1y0on5",
        "colab_type": "text"
      },
      "source": [
        "Bir örnek:"
      ]
    },
    {
      "cell_type": "code",
      "metadata": {
        "id": "JzVF29Eh0sCv",
        "colab_type": "code",
        "colab": {}
      },
      "source": [
        "x1q3z9ocd = 35.0\n",
        "x1q3z9afd = 12.50\n",
        "x1q3p9afd = x1q3z9ocd * x1q3p9afd\n",
        "print(x1q3p9afd)"
      ],
      "execution_count": null,
      "outputs": []
    },
    {
      "cell_type": "markdown",
      "metadata": {
        "id": "gawQ1qTj1GKf",
        "colab_type": "text"
      },
      "source": [
        "Python kurallarına göre bu kullanım doğrudur. Fakat bir programcıya göre doğru mudur?\n",
        "\n",
        "- hayır, çünkü veriyi temsil etmiyor. Hem kendimiz için hemde başkası için kodu okurken zorluk çıkartabilir.\n",
        "\n",
        "- hayır, çünkü çok karmaşık herhangi bir karakter karışımı programın hata vermesine sebebiyet verir, üstelik sürekli bu şekilde yazmak yorucu olur.\n",
        "\n",
        "- hayır, çünkü kodu kötü gösterir."
      ]
    },
    {
      "cell_type": "markdown",
      "metadata": {
        "id": "XBR4N3i61uIC",
        "colab_type": "text"
      },
      "source": [
        "Bu kodu daha sade biçimde göze hoş gelecek şekilde yazabiliriz:"
      ]
    },
    {
      "cell_type": "code",
      "metadata": {
        "id": "tNtKfa-B103w",
        "colab_type": "code",
        "colab": {
          "base_uri": "https://localhost:8080/",
          "height": 34
        },
        "outputId": "7f55ca7c-f0f4-4dcc-8713-3d09cac8e70b"
      },
      "source": [
        "a = 35.0\n",
        "b = 12.50\n",
        "c = a * b\n",
        "print(c)"
      ],
      "execution_count": 11,
      "outputs": [
        {
          "output_type": "stream",
          "text": [
            "437.5\n"
          ],
          "name": "stdout"
        }
      ]
    },
    {
      "cell_type": "markdown",
      "metadata": {
        "id": "Swwdn0wq17Ig",
        "colab_type": "text"
      },
      "source": [
        "bu kod daha sadece dursa da maalesef bu kullanımda doğru değildir, çünkü değişken adları çok kısa bu yüzden içinde barındırdığı değeri bize anlatamıyor."
      ]
    },
    {
      "cell_type": "markdown",
      "metadata": {
        "id": "cso5YQfU2LBQ",
        "colab_type": "text"
      },
      "source": [
        "Bu şekilde de yazabiliriz:"
      ]
    },
    {
      "cell_type": "code",
      "metadata": {
        "id": "arrgCpAy2NUY",
        "colab_type": "code",
        "colab": {
          "base_uri": "https://localhost:8080/",
          "height": 34
        },
        "outputId": "cbe83c0f-ae49-4296-fb74-1be77850e387"
      },
      "source": [
        "hours = 35.0\n",
        "rate = 12.50\n",
        "pay = hours * rate\n",
        "print(pay)"
      ],
      "execution_count": 12,
      "outputs": [
        {
          "output_type": "stream",
          "text": [
            "437.5\n"
          ],
          "name": "stdout"
        }
      ]
    },
    {
      "cell_type": "markdown",
      "metadata": {
        "id": "QbwQSLgE2ahZ",
        "colab_type": "text"
      },
      "source": [
        "Bu kullanım en doğrusudur. Çünkü veriyi tam olarak temsil ediyor ne çok kısa ne çok uzun."
      ]
    },
    {
      "cell_type": "markdown",
      "metadata": {
        "id": "_MVwRYBZ37OW",
        "colab_type": "text"
      },
      "source": [
        "# Assignment Statements"
      ]
    },
    {
      "cell_type": "markdown",
      "metadata": {
        "id": "W2L3TU7-3_bY",
        "colab_type": "text"
      },
      "source": [
        "Değişkene veri yerleştirme işlemini atama operatörü olan = işareti ile yaparız.\n",
        "\n",
        "bir değişkene veri aktaracaksak önce veri işlenir, sonra alan oluşturup bir isim verilir ve en sonda bu değişkene atama gerçekleştirilir."
      ]
    },
    {
      "cell_type": "code",
      "metadata": {
        "id": "8yGw5qlm4TCt",
        "colab_type": "code",
        "colab": {}
      },
      "source": [
        "x = 3.9 * x * (1 - x)"
      ],
      "execution_count": 13,
      "outputs": []
    },
    {
      "cell_type": "markdown",
      "metadata": {
        "id": "zqYWojX64Z5f",
        "colab_type": "text"
      },
      "source": [
        "elimizdeki bu değer önce işlem önceliğine göre işlemler gerçekleştirilir ve en sonda çıkan sonucu x adlı değişkenin içine atılır."
      ]
    }
  ]
}