{
  "nbformat": 4,
  "nbformat_minor": 0,
  "metadata": {
    "colab": {
      "name": "functionsA.ipynb",
      "provenance": [],
      "collapsed_sections": []
    },
    "kernelspec": {
      "name": "python3",
      "display_name": "Python 3"
    }
  },
  "cells": [
    {
      "cell_type": "markdown",
      "metadata": {
        "id": "kA1US2lKf7bH",
        "colab_type": "text"
      },
      "source": [
        "# Python Functions"
      ]
    },
    {
      "cell_type": "markdown",
      "metadata": {
        "id": "lFJbjd228Q2Y",
        "colab_type": "text"
      },
      "source": [
        "Fonksiyonlar küçük programları içinde barındırarak kolayca işlemler yapmamızı sağlayan yapılardır.\n",
        "\n",
        "Örneğin kullanıcının adını ve soyadını isteyen bir kod yazdık, bu kodu farklı yerlerde kopyala yapıştır yapmak yerine kodları bir fonksiyonun altında yazmak hem daha kullanışlı hemde daha zahmetsiz bir iş yapmış oluruz."
      ]
    },
    {
      "cell_type": "code",
      "metadata": {
        "id": "sprWeoVqf17Y",
        "colab_type": "code",
        "colab": {
          "base_uri": "https://localhost:8080/",
          "height": 101
        },
        "outputId": "b9b2cf28-a23a-484c-f81e-0f6fff03bb0d"
      },
      "source": [
        "def thing():\n",
        "  print('Hello')\n",
        "  print('Fun')\n",
        "\n",
        "thing()\n",
        "print('Zip')\n",
        "thing()"
      ],
      "execution_count": 1,
      "outputs": [
        {
          "output_type": "stream",
          "text": [
            "Hello\n",
            "Fun\n",
            "Zip\n",
            "Hello\n",
            "Fun\n"
          ],
          "name": "stdout"
        }
      ]
    },
    {
      "cell_type": "markdown",
      "metadata": {
        "id": "Lh1lSHmoCRYL",
        "colab_type": "text"
      },
      "source": [
        "Fonksiyonlar iki türdür:\n",
        "\n",
        "Built-in functions yani yerleşik işlevler.\n",
        "\n",
        "Bunlar print(), input(), type(), len(), float(), int() fonksiyonları örnektir, yani python'da tanımlı ve kullanılmaya hazır fonksiyonlara yerleşik fonksiyonlar denir.\n",
        "\n",
        "diğer bir türde kendi oluşturduğumuz fonksiyonlardır. Burada dikkat edilmesi gereken oluşturduğum fonksionun ismi reserved words olarak geçtiği yani o ismi başka bir yerde işlevi dışında kullanılması yasaktır."
      ]
    },
    {
      "cell_type": "markdown",
      "metadata": {
        "id": "HmstAcu3Dlrg",
        "colab_type": "text"
      },
      "source": [
        "Python da işlevler girdi alabilen bu girdileri işleyebilen ve döndürebilen yapılardır.\n",
        "\n",
        "def ifadesini kullanarak fonksiyonu tanımlarız:"
      ]
    },
    {
      "cell_type": "code",
      "metadata": {
        "id": "MeglnGPzDzdE",
        "colab_type": "code",
        "colab": {}
      },
      "source": [
        "def <fonksiyonİsmi>(<parametre>)"
      ],
      "execution_count": null,
      "outputs": []
    },
    {
      "cell_type": "markdown",
      "metadata": {
        "id": "_ncDLvFZEJmm",
        "colab_type": "text"
      },
      "source": [
        "fonksiyonun ismini ve isterken parantez içinde parametre girerek fonksiyonu çağırabiliriz."
      ]
    },
    {
      "cell_type": "code",
      "metadata": {
        "id": "GFPLcUDUEQdW",
        "colab_type": "code",
        "colab": {}
      },
      "source": [
        "fonksiyonismi(parametreparametre)"
      ],
      "execution_count": null,
      "outputs": []
    },
    {
      "cell_type": "markdown",
      "metadata": {
        "id": "kzabU0SwExJN",
        "colab_type": "text"
      },
      "source": [
        "Fonksiyonları kullanarak en büyük veya en küçük değeri almak."
      ]
    },
    {
      "cell_type": "code",
      "metadata": {
        "id": "Kj8_wG9tE2FC",
        "colab_type": "code",
        "colab": {
          "base_uri": "https://localhost:8080/",
          "height": 50
        },
        "outputId": "9321d84e-bbcb-44b0-c5e4-00fef9353a8a"
      },
      "source": [
        "# max() fonksiyonunu kullanrak en büyük değeri almak\n",
        "big = max('Hello world!')\n",
        "print(big)\n",
        "# min() fonksiyonun kullanarak en küçük değeri alabiliriz\n",
        "tiny = min('Hello world!')\n",
        "print(tiny)"
      ],
      "execution_count": 3,
      "outputs": [
        {
          "output_type": "stream",
          "text": [
            "w\n",
            " \n"
          ],
          "name": "stdout"
        }
      ]
    },
    {
      "cell_type": "markdown",
      "metadata": {
        "id": "FfzDVfvyX8c1",
        "colab_type": "text"
      },
      "source": [
        "# Type Conversions"
      ]
    },
    {
      "cell_type": "code",
      "metadata": {
        "id": "j5E-ZC--X_OM",
        "colab_type": "code",
        "colab": {
          "base_uri": "https://localhost:8080/",
          "height": 84
        },
        "outputId": "1b83e2c5-412c-4314-d3a7-00f2a3249fb7"
      },
      "source": [
        "print(float(99)/100)\n",
        "\n",
        "i = 42\n",
        "print(type(i))\n",
        "\n",
        "f = float(i)\n",
        "print(type(f))\n",
        "\n",
        "print(1+2 * float(3)/4-5)"
      ],
      "execution_count": 8,
      "outputs": [
        {
          "output_type": "stream",
          "text": [
            "0.99\n",
            "<class 'int'>\n",
            "<class 'float'>\n",
            "-2.5\n"
          ],
          "name": "stdout"
        }
      ]
    },
    {
      "cell_type": "markdown",
      "metadata": {
        "id": "_QcM94Q2Yk4k",
        "colab_type": "text"
      },
      "source": [
        "# String Conversions"
      ]
    },
    {
      "cell_type": "code",
      "metadata": {
        "id": "u2tMFG9sYkR8",
        "colab_type": "code",
        "colab": {
          "base_uri": "https://localhost:8080/",
          "height": 212
        },
        "outputId": "10db8717-7bef-4192-9377-58725fa0a34a"
      },
      "source": [
        "sval = '123'\n",
        "print(type(sval))\n",
        "\n",
        "print(sval + 1)"
      ],
      "execution_count": 10,
      "outputs": [
        {
          "output_type": "stream",
          "text": [
            "<class 'str'>\n"
          ],
          "name": "stdout"
        },
        {
          "output_type": "error",
          "ename": "TypeError",
          "evalue": "ignored",
          "traceback": [
            "\u001b[0;31m---------------------------------------------------------------------------\u001b[0m",
            "\u001b[0;31mTypeError\u001b[0m                                 Traceback (most recent call last)",
            "\u001b[0;32m<ipython-input-10-4ddfe5a2c4a3>\u001b[0m in \u001b[0;36m<module>\u001b[0;34m()\u001b[0m\n\u001b[1;32m      2\u001b[0m \u001b[0mprint\u001b[0m\u001b[0;34m(\u001b[0m\u001b[0mtype\u001b[0m\u001b[0;34m(\u001b[0m\u001b[0msval\u001b[0m\u001b[0;34m)\u001b[0m\u001b[0;34m)\u001b[0m\u001b[0;34m\u001b[0m\u001b[0;34m\u001b[0m\u001b[0m\n\u001b[1;32m      3\u001b[0m \u001b[0;34m\u001b[0m\u001b[0m\n\u001b[0;32m----> 4\u001b[0;31m \u001b[0mprint\u001b[0m\u001b[0;34m(\u001b[0m\u001b[0msval\u001b[0m \u001b[0;34m+\u001b[0m \u001b[0;36m1\u001b[0m\u001b[0;34m)\u001b[0m\u001b[0;34m\u001b[0m\u001b[0;34m\u001b[0m\u001b[0m\n\u001b[0m",
            "\u001b[0;31mTypeError\u001b[0m: must be str, not int"
          ]
        }
      ]
    },
    {
      "cell_type": "markdown",
      "metadata": {
        "id": "xCVLPDncYv-i",
        "colab_type": "text"
      },
      "source": [
        "string veri tipine sahip bir değer ile integer bir değer arasında toplama işlemi yaptığımız için hata alıyoruz.\n",
        "\n",
        "bu hatayı karakter dizisini int değere çevirerek düzeltebiliriz."
      ]
    },
    {
      "cell_type": "code",
      "metadata": {
        "id": "VVgeVsWcZLJR",
        "colab_type": "code",
        "colab": {
          "base_uri": "https://localhost:8080/",
          "height": 50
        },
        "outputId": "23e41379-6776-4e1e-e4f8-ab17168462eb"
      },
      "source": [
        "ival = int(sval)\n",
        "print(type(ival))\n",
        "\n",
        "print(ival + 1)"
      ],
      "execution_count": 12,
      "outputs": [
        {
          "output_type": "stream",
          "text": [
            "<class 'int'>\n",
            "124\n"
          ],
          "name": "stdout"
        }
      ]
    },
    {
      "cell_type": "markdown",
      "metadata": {
        "id": "SghKH2_vZVMa",
        "colab_type": "text"
      },
      "source": [
        "sayısal bir değeri int() fonksiyonuyla integer a çevirmeye çalışırsak hata alırız."
      ]
    },
    {
      "cell_type": "code",
      "metadata": {
        "id": "JuCsGF6tZapi",
        "colab_type": "code",
        "colab": {
          "base_uri": "https://localhost:8080/",
          "height": 178
        },
        "outputId": "28942f35-4d12-4038-d58b-3267f1c3e346"
      },
      "source": [
        "nsv = 'Hello bob'\n",
        "niv = int(nsv)"
      ],
      "execution_count": 13,
      "outputs": [
        {
          "output_type": "error",
          "ename": "ValueError",
          "evalue": "ignored",
          "traceback": [
            "\u001b[0;31m---------------------------------------------------------------------------\u001b[0m",
            "\u001b[0;31mValueError\u001b[0m                                Traceback (most recent call last)",
            "\u001b[0;32m<ipython-input-13-fdac06d091f9>\u001b[0m in \u001b[0;36m<module>\u001b[0;34m()\u001b[0m\n\u001b[1;32m      1\u001b[0m \u001b[0mnsv\u001b[0m \u001b[0;34m=\u001b[0m \u001b[0;34m'Hello bob'\u001b[0m\u001b[0;34m\u001b[0m\u001b[0;34m\u001b[0m\u001b[0m\n\u001b[0;32m----> 2\u001b[0;31m \u001b[0mniv\u001b[0m \u001b[0;34m=\u001b[0m \u001b[0mint\u001b[0m\u001b[0;34m(\u001b[0m\u001b[0mnsv\u001b[0m\u001b[0;34m)\u001b[0m\u001b[0;34m\u001b[0m\u001b[0;34m\u001b[0m\u001b[0m\n\u001b[0m",
            "\u001b[0;31mValueError\u001b[0m: invalid literal for int() with base 10: 'Hello bob'"
          ]
        }
      ]
    }
  ]
}