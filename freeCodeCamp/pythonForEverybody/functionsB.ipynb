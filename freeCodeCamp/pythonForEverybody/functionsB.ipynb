{
  "nbformat": 4,
  "nbformat_minor": 0,
  "metadata": {
    "colab": {
      "name": "functionsB.ipynb",
      "provenance": [],
      "collapsed_sections": []
    },
    "kernelspec": {
      "name": "python3",
      "display_name": "Python 3"
    }
  },
  "cells": [
    {
      "cell_type": "markdown",
      "metadata": {
        "id": "RSDe9DCma1On",
        "colab_type": "text"
      },
      "source": [
        "# Build your own Functions"
      ]
    },
    {
      "cell_type": "code",
      "metadata": {
        "id": "k0H2mOMeaxnp",
        "colab_type": "code",
        "colab": {}
      },
      "source": [
        "def print_lyrics():\n",
        "  print(\"I'm a lumberjack, and I'm okay.\")\n",
        "  print('I sleep all night and I work all day.')"
      ],
      "execution_count": null,
      "outputs": []
    },
    {
      "cell_type": "code",
      "metadata": {
        "id": "js860AEzc-0e",
        "colab_type": "code",
        "colab": {
          "base_uri": "https://localhost:8080/",
          "height": 101
        },
        "outputId": "f6549cae-a808-47cf-d801-a3071ea4b45f"
      },
      "source": [
        "x = 5\n",
        "print('Hello')\n",
        "def print_lyrics():\n",
        "  print(\"I'm a lumberjack, and I'm okay.\")\n",
        "  print('I sleep all night and I work all day.')\n",
        "\n",
        "print('Yo')\n",
        "x = x + 2\n",
        "print(x)\n",
        "print_lyrics()"
      ],
      "execution_count": null,
      "outputs": [
        {
          "output_type": "stream",
          "text": [
            "Hello\n",
            "Yo\n",
            "7\n",
            "I'm a lumberjack, and I'm okay.\n",
            "I sleep all night and I work all day.\n"
          ],
          "name": "stdout"
        }
      ]
    },
    {
      "cell_type": "markdown",
      "metadata": {
        "id": "xCVY3DZLd01b",
        "colab_type": "text"
      },
      "source": [
        "Oluştuduğumuz fonksiyonu tanımladıktan sonra kullanmak için çağırmamız lazım.\n",
        "\n",
        "fonksiyonumuzu istediğimiz kadar çağırabilriz."
      ]
    },
    {
      "cell_type": "markdown",
      "metadata": {
        "id": "JoDrnqhXfRLz",
        "colab_type": "text"
      },
      "source": [
        "# Arguments"
      ]
    },
    {
      "cell_type": "markdown",
      "metadata": {
        "id": "Lna_MJk5fUeb",
        "colab_type": "text"
      },
      "source": [
        "fonksiyonlara parantez içinde verdiğimiz değerlere argüman denir."
      ]
    },
    {
      "cell_type": "code",
      "metadata": {
        "id": "HHjARQC-fbxI",
        "colab_type": "code",
        "colab": {}
      },
      "source": [
        "print(<arguments>)"
      ],
      "execution_count": null,
      "outputs": []
    },
    {
      "cell_type": "markdown",
      "metadata": {
        "id": "cJlQKGT_gKpZ",
        "colab_type": "text"
      },
      "source": [
        "# Parameters"
      ]
    },
    {
      "cell_type": "markdown",
      "metadata": {
        "id": "m5v1gmNk-uj_",
        "colab_type": "text"
      },
      "source": [
        "Fonksiyonu oluştururken belirlediğimiz değere parametre denir. Parametre kullanıcıdan alınan girdiyi bir nevi önceden yer tutucu görevini üstlenir."
      ]
    },
    {
      "cell_type": "code",
      "metadata": {
        "id": "kC5CLSeqBvBb",
        "colab_type": "code",
        "colab": {
          "base_uri": "https://localhost:8080/",
          "height": 34
        },
        "outputId": "efb04ca4-596e-493e-b27f-940f7fd49390"
      },
      "source": [
        "def great(lang): # parametre\n",
        "  if lang == 'es':\n",
        "    print('Hola')\n",
        "  elif lang == 'fr':\n",
        "    print('Bonjour')\n",
        "  else:\n",
        "    print('Hello')\n",
        "\n",
        "great('es') # argüman"
      ],
      "execution_count": null,
      "outputs": [
        {
          "output_type": "stream",
          "text": [
            "Hola\n"
          ],
          "name": "stdout"
        }
      ]
    },
    {
      "cell_type": "markdown",
      "metadata": {
        "id": "kB6YMYXACi9M",
        "colab_type": "text"
      },
      "source": [
        "# Return Values"
      ]
    },
    {
      "cell_type": "markdown",
      "metadata": {
        "id": "Zb7jFy18Fa5-",
        "colab_type": "text"
      },
      "source": [
        "fonksiyonlarda değer döndürmeye yarayan ifadeye return denir.\n",
        "\n",
        "return True verip çalıştıysa diğer girintili kodlar işleme alınmaz."
      ]
    },
    {
      "cell_type": "code",
      "metadata": {
        "id": "MTWUBi-eFmkM",
        "colab_type": "code",
        "colab": {
          "base_uri": "https://localhost:8080/",
          "height": 50
        },
        "outputId": "38942066-cc81-4f82-d33f-f21b9a8bd0c0"
      },
      "source": [
        "def great():\n",
        "  return 'Hello'\n",
        "print(great(),'Glenn')\n",
        "print(great(),'Sallv')"
      ],
      "execution_count": null,
      "outputs": [
        {
          "output_type": "stream",
          "text": [
            "Hello Glenn\n",
            "Hello Sallv\n"
          ],
          "name": "stdout"
        }
      ]
    },
    {
      "cell_type": "markdown",
      "metadata": {
        "id": "6_tKmsLP_cvr",
        "colab_type": "text"
      },
      "source": [
        "# Return Value"
      ]
    },
    {
      "cell_type": "code",
      "metadata": {
        "id": "x89obOkr_3bH",
        "colab_type": "code",
        "colab": {
          "base_uri": "https://localhost:8080/",
          "height": 67
        },
        "outputId": "1c79c4ec-c91f-4d70-bff3-349593e52494"
      },
      "source": [
        "def great(lang):\n",
        "  if lang == 'es':\n",
        "    return 'Hola'\n",
        "  elif lang == 'fr':\n",
        "    return 'Bonjour'\n",
        "  else:\n",
        "    return 'Hello'\n",
        "\n",
        "print(great('en'),'Gleen')\n",
        "print(great('es'),'Sally')\n",
        "print(great('fr'),'Micheal')  "
      ],
      "execution_count": 2,
      "outputs": [
        {
          "output_type": "stream",
          "text": [
            "Hello Gleen\n",
            "Hola Sally\n",
            "Bonjour Micheal\n"
          ],
          "name": "stdout"
        }
      ]
    },
    {
      "cell_type": "markdown",
      "metadata": {
        "id": "fjHAkI2rBCET",
        "colab_type": "text"
      },
      "source": [
        "# Multiple Parameters / Arguments"
      ]
    },
    {
      "cell_type": "markdown",
      "metadata": {
        "id": "wgz8l-lVBXrB",
        "colab_type": "text"
      },
      "source": [
        "Birden fazla argüman veya parametre ile çalışabiliriz."
      ]
    },
    {
      "cell_type": "code",
      "metadata": {
        "id": "QtecZNYtBc5K",
        "colab_type": "code",
        "colab": {
          "base_uri": "https://localhost:8080/",
          "height": 34
        },
        "outputId": "d8afe907-d9e0-4cd0-959b-2719bb7007dd"
      },
      "source": [
        "def addtwo(a,b):\n",
        "  added = a + b\n",
        "  return added\n",
        "\n",
        "x = addtwo(3,5)\n",
        "print(x)"
      ],
      "execution_count": 3,
      "outputs": [
        {
          "output_type": "stream",
          "text": [
            "8\n"
          ],
          "name": "stdout"
        }
      ]
    },
    {
      "cell_type": "markdown",
      "metadata": {
        "id": "IP6BFPhQC1Rq",
        "colab_type": "text"
      },
      "source": [
        "# Summary"
      ]
    },
    {
      "cell_type": "markdown",
      "metadata": {
        "id": "SU5OJmKbC3lY",
        "colab_type": "text"
      },
      "source": [
        "- Arguments\n",
        "- result ( fruitful functions)\n",
        "- Void (non-fruitful) functions\n",
        "- Why use functions?\n",
        "- Functions\n",
        "- Built-in Functions\n",
        "- Type conversion(int,float)\n",
        "- String conversions\n",
        "- Parameters"
      ]
    }
  ]
}