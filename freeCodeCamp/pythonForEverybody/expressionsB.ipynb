{
  "nbformat": 4,
  "nbformat_minor": 0,
  "metadata": {
    "colab": {
      "name": "expressionsB.ipynb",
      "provenance": [],
      "collapsed_sections": []
    },
    "kernelspec": {
      "name": "python3",
      "display_name": "Python 3"
    }
  },
  "cells": [
    {
      "cell_type": "markdown",
      "metadata": {
        "id": "3FNaApE1WIbo",
        "colab_type": "text"
      },
      "source": [
        "# Numeric Expressions"
      ]
    },
    {
      "cell_type": "markdown",
      "metadata": {
        "id": "rU0BmtUjW9ct",
        "colab_type": "text"
      },
      "source": [
        "Matematik operatörleri python programımızda matematiksel işlemler yapabilmemizi sağlarlar."
      ]
    },
    {
      "cell_type": "markdown",
      "metadata": {
        "id": "T8PhKOFCXTjG",
        "colab_type": "text"
      },
      "source": [
        "\" + \"  artı toplama\n",
        "\n",
        "\" - \" çıkarma\n",
        "\n",
        "\" * \" çarpma\n",
        "\n",
        "\" / \" ondalıklı bölme\n",
        "\n",
        "\" // \" tam bölme\n",
        "\n",
        "\" ** \" üs alma\n",
        "\n",
        "\" % \" kalanı alma"
      ]
    },
    {
      "cell_type": "code",
      "metadata": {
        "id": "KRWxKuNi5oEQ",
        "colab_type": "code",
        "colab": {
          "base_uri": "https://localhost:8080/",
          "height": 101
        },
        "outputId": "b016f239-91cc-4647-815a-7b1a0df1cf45"
      },
      "source": [
        "x = 2\n",
        "x = x + 2\n",
        "print(x)\n",
        "\n",
        "y = 440\n",
        "y = y * 12\n",
        "print(y)\n",
        "\n",
        "z = y / 1000\n",
        "print(z)\n",
        "\n",
        "j = 23\n",
        "k = j % 5\n",
        "print(k)\n",
        "\n",
        "print(4 ** 3)"
      ],
      "execution_count": null,
      "outputs": [
        {
          "output_type": "stream",
          "text": [
            "4\n",
            "5280\n",
            "5.28\n",
            "3\n",
            "64\n"
          ],
          "name": "stdout"
        }
      ]
    },
    {
      "cell_type": "markdown",
      "metadata": {
        "id": "2R85S2wDZQog",
        "colab_type": "text"
      },
      "source": [
        "# Operator precedence"
      ]
    },
    {
      "cell_type": "markdown",
      "metadata": {
        "id": "DH9euemSZUVt",
        "colab_type": "text"
      },
      "source": [
        "Python'da operatörlerin öncelik sıralınışı şu şekilde:"
      ]
    },
    {
      "cell_type": "markdown",
      "metadata": {
        "id": "cza1bqqEZbmW",
        "colab_type": "text"
      },
      "source": [
        "()\n",
        "\n",
        "**\n",
        "\n",
        "\"*\" sonra / sonra // sonra %\n",
        "\n",
        "\"+\" sonra \"-\"\n",
        "\n"
      ]
    },
    {
      "cell_type": "code",
      "metadata": {
        "id": "H7jVkeW9Z4qh",
        "colab_type": "code",
        "colab": {}
      },
      "source": [
        "x = 1 + 2 * 3 - 4 / 5 ** 6"
      ],
      "execution_count": null,
      "outputs": []
    },
    {
      "cell_type": "markdown",
      "metadata": {
        "id": "OlEz8LoSaLRl",
        "colab_type": "text"
      },
      "source": [
        "Eğer işlem öncelikleirni karıştırıyorsak hayali parantezler koyabiliriz."
      ]
    },
    {
      "cell_type": "markdown",
      "metadata": {
        "id": "Yxwayox-bEAI",
        "colab_type": "text"
      },
      "source": [
        "Örneğin:"
      ]
    },
    {
      "cell_type": "code",
      "metadata": {
        "id": "JkV2AN-9bFxl",
        "colab_type": "code",
        "colab": {
          "base_uri": "https://localhost:8080/",
          "height": 34
        },
        "outputId": "d11c5dbc-d69d-4b76-ce84-03245d08f14b"
      },
      "source": [
        "x = 1 + 2 ** 3 / 4 * 5\n",
        "print(x)"
      ],
      "execution_count": null,
      "outputs": [
        {
          "output_type": "stream",
          "text": [
            "11.0\n"
          ],
          "name": "stdout"
        }
      ]
    },
    {
      "cell_type": "markdown",
      "metadata": {
        "id": "QSa14vmcbKvU",
        "colab_type": "text"
      },
      "source": [
        "İlk önce 2 ** 3 işleme alınır ve sonuç 8\n",
        "\n",
        "daha sonra 8 / 4 işleme alırız sonuç 2\n",
        "\n",
        "daha sonra 2 * 5 işleme alınır sonuç 10\n",
        "\n",
        "en son ise 1 + 10 işleme alınır ve sonuç 11"
      ]
    },
    {
      "cell_type": "markdown",
      "metadata": {
        "id": "0_aw68QpcX9d",
        "colab_type": "text"
      },
      "source": [
        "# What does \"Type\" Mean?"
      ]
    },
    {
      "cell_type": "markdown",
      "metadata": {
        "id": "nRBzm1oVfNv3",
        "colab_type": "text"
      },
      "source": [
        "Veri tipleri Python'da önemlidir. Çünkü Python hangi veri tipinde nasıl işlemler gerçekleştirebileceğini bilir. Yani veri tiplerinde ki bu ayrımı dikkate alır.\n",
        "\n",
        "Örneğin bir integer sayılarda + işaretini kullanırsak toplama işlemini gerçekleştirir fakat aynı işareti stringlerde birleştirme işlemi olarak gerçekleşir."
      ]
    },
    {
      "cell_type": "code",
      "metadata": {
        "id": "Evvto3MiftCE",
        "colab_type": "code",
        "colab": {
          "base_uri": "https://localhost:8080/",
          "height": 50
        },
        "outputId": "6c3d9a1b-ec98-413f-eb72-b61b8f1eeef7"
      },
      "source": [
        "d = 1 + 4\n",
        "print(d)\n",
        "e = \"Hello\"+\"buddy\"\n",
        "print(e)"
      ],
      "execution_count": null,
      "outputs": [
        {
          "output_type": "stream",
          "text": [
            "5\n",
            "Hellobuddy\n"
          ],
          "name": "stdout"
        }
      ]
    },
    {
      "cell_type": "markdown",
      "metadata": {
        "id": "dIdIUSeziSpF",
        "colab_type": "text"
      },
      "source": [
        "Naılsa Python veri tiplerine dikkat ediyorsa bir programcıda o kadar dikkat etmelidir. Örneğin bir string ile bir integer değeri toplayamayız: "
      ]
    },
    {
      "cell_type": "code",
      "metadata": {
        "id": "XI4jv-STiaVh",
        "colab_type": "code",
        "colab": {
          "base_uri": "https://localhost:8080/",
          "height": 178
        },
        "outputId": "6b7decc4-aec7-461c-e564-6a0fd6cd0e01"
      },
      "source": [
        "e = 'Hello '+'there'\n",
        "e = e + 1"
      ],
      "execution_count": null,
      "outputs": [
        {
          "output_type": "error",
          "ename": "TypeError",
          "evalue": "ignored",
          "traceback": [
            "\u001b[0;31m---------------------------------------------------------------------------\u001b[0m",
            "\u001b[0;31mTypeError\u001b[0m                                 Traceback (most recent call last)",
            "\u001b[0;32m<ipython-input-8-03fb14dacbdd>\u001b[0m in \u001b[0;36m<module>\u001b[0;34m()\u001b[0m\n\u001b[1;32m      1\u001b[0m \u001b[0me\u001b[0m \u001b[0;34m=\u001b[0m \u001b[0;34m'Hello '\u001b[0m\u001b[0;34m+\u001b[0m\u001b[0;34m'there'\u001b[0m\u001b[0;34m\u001b[0m\u001b[0;34m\u001b[0m\u001b[0m\n\u001b[0;32m----> 2\u001b[0;31m \u001b[0me\u001b[0m \u001b[0;34m=\u001b[0m \u001b[0me\u001b[0m \u001b[0;34m+\u001b[0m \u001b[0;36m1\u001b[0m\u001b[0;34m\u001b[0m\u001b[0;34m\u001b[0m\u001b[0m\n\u001b[0m",
            "\u001b[0;31mTypeError\u001b[0m: must be str, not int"
          ]
        }
      ]
    },
    {
      "cell_type": "markdown",
      "metadata": {
        "id": "pJW_if9iii_E",
        "colab_type": "text"
      },
      "source": [
        "Python'da verilerin hangi tip olduğunu öğrenmek için type() fonksiyonundan yararlanabiliriz.\n",
        "\n",
        "type() fonksiyonu parametre olarak verdiğimiz değişkenin veya değerin veri tipini gösteren bir fonksiyondur."
      ]
    },
    {
      "cell_type": "code",
      "metadata": {
        "id": "oCb_k75GiyUt",
        "colab_type": "code",
        "colab": {
          "base_uri": "https://localhost:8080/",
          "height": 67
        },
        "outputId": "ad0a6578-3f51-4de1-84cc-1de4688b448c"
      },
      "source": [
        "print(type(e))\n",
        "print(type('Hello'))\n",
        "print(type(1))"
      ],
      "execution_count": null,
      "outputs": [
        {
          "output_type": "stream",
          "text": [
            "<class 'str'>\n",
            "<class 'str'>\n",
            "<class 'int'>\n"
          ],
          "name": "stdout"
        }
      ]
    },
    {
      "cell_type": "markdown",
      "metadata": {
        "id": "2DUL4G6Mjuk1",
        "colab_type": "text"
      },
      "source": [
        "# Several Types of Numbers"
      ]
    },
    {
      "cell_type": "markdown",
      "metadata": {
        "id": "bL63PAUstoRT",
        "colab_type": "text"
      },
      "source": [
        "Sayıları iki tür tipleri vardır:\n",
        "\n",
        "İntegers:\n",
        "\n",
        "- integer kısaltışı olarak int sayılar tam sayıları temsil eder. -14,-2 0,1,100,401233 gibi\n",
        "\n",
        "Floating:\n",
        "\n",
        "- Float sayılar ondalıklı sayıları temsil eder: -2.5, 0.0, 98.6, 14.0"
      ]
    },
    {
      "cell_type": "code",
      "metadata": {
        "id": "ftgcbCmouA94",
        "colab_type": "code",
        "colab": {
          "base_uri": "https://localhost:8080/",
          "height": 67
        },
        "outputId": "b06545c3-70c3-41af-9a2c-7ae5fb64fae9"
      },
      "source": [
        "x = 1\n",
        "print(type(x))\n",
        "temp = 98.6\n",
        "print(type(temp))\n",
        "print(type(1.0))"
      ],
      "execution_count": null,
      "outputs": [
        {
          "output_type": "stream",
          "text": [
            "<class 'int'>\n",
            "<class 'float'>\n",
            "<class 'float'>\n"
          ],
          "name": "stdout"
        }
      ]
    },
    {
      "cell_type": "markdown",
      "metadata": {
        "id": "1qgOIfdkuaRR",
        "colab_type": "text"
      },
      "source": [
        "# Type Conversions"
      ]
    },
    {
      "cell_type": "markdown",
      "metadata": {
        "id": "eHtUe1bqvBIr",
        "colab_type": "text"
      },
      "source": [
        "bir değeri farklı bir veri türüne dönüştürmek için tip dönüştürücülerden yararlanırız. \n",
        "\n",
        "bir değeri string ifadeye çevirmek için str()\n",
        "\n",
        "bir değeri int değere çevirmek için int()\n",
        "\n",
        "bir değeri float değere çevirmek için float()"
      ]
    },
    {
      "cell_type": "code",
      "metadata": {
        "id": "_snlYJcWvOup",
        "colab_type": "code",
        "colab": {
          "base_uri": "https://localhost:8080/",
          "height": 101
        },
        "outputId": "6ed854f6-8ca9-44f8-de32-3921616f136a"
      },
      "source": [
        "print(float(99)+10)\n",
        "i = 42 \n",
        "print(type(i))\n",
        "print(i)\n",
        "f = float(i)\n",
        "print(type(f))\n",
        "print(f)"
      ],
      "execution_count": null,
      "outputs": [
        {
          "output_type": "stream",
          "text": [
            "109.0\n",
            "<class 'int'>\n",
            "42\n",
            "<class 'float'>\n",
            "42.0\n"
          ],
          "name": "stdout"
        }
      ]
    },
    {
      "cell_type": "markdown",
      "metadata": {
        "id": "BRF_9lpBwJUe",
        "colab_type": "text"
      },
      "source": [
        "# String Conversions"
      ]
    },
    {
      "cell_type": "markdown",
      "metadata": {
        "id": "YtqcMLPwjcuM",
        "colab_type": "text"
      },
      "source": [
        "str() kullanarak tüm veri tiplerini string değere çevirebiliriz.\n",
        "\n",
        "stringde karşılacağımız bazı hatalar şunlardır:\n",
        "\n",
        "string bir ifade ile sayısal bir işlem yapmaya çalışırsak TypeError hatası alırız:"
      ]
    },
    {
      "cell_type": "code",
      "metadata": {
        "id": "8DIsrV6MksqI",
        "colab_type": "code",
        "colab": {
          "base_uri": "https://localhost:8080/",
          "height": 212
        },
        "outputId": "a4560422-fe97-4b76-af1e-b32deeb76151"
      },
      "source": [
        "sval = '123'\n",
        "print(type(sval))\n",
        "print(sval + 1)"
      ],
      "execution_count": null,
      "outputs": [
        {
          "output_type": "stream",
          "text": [
            "<class 'str'>\n"
          ],
          "name": "stdout"
        },
        {
          "output_type": "error",
          "ename": "TypeError",
          "evalue": "ignored",
          "traceback": [
            "\u001b[0;31m---------------------------------------------------------------------------\u001b[0m",
            "\u001b[0;31mTypeError\u001b[0m                                 Traceback (most recent call last)",
            "\u001b[0;32m<ipython-input-2-dd39cc565252>\u001b[0m in \u001b[0;36m<module>\u001b[0;34m()\u001b[0m\n\u001b[1;32m      1\u001b[0m \u001b[0msval\u001b[0m \u001b[0;34m=\u001b[0m \u001b[0;34m'123'\u001b[0m\u001b[0;34m\u001b[0m\u001b[0;34m\u001b[0m\u001b[0m\n\u001b[1;32m      2\u001b[0m \u001b[0mprint\u001b[0m\u001b[0;34m(\u001b[0m\u001b[0mtype\u001b[0m\u001b[0;34m(\u001b[0m\u001b[0msval\u001b[0m\u001b[0;34m)\u001b[0m\u001b[0;34m)\u001b[0m\u001b[0;34m\u001b[0m\u001b[0;34m\u001b[0m\u001b[0m\n\u001b[0;32m----> 3\u001b[0;31m \u001b[0mprint\u001b[0m\u001b[0;34m(\u001b[0m\u001b[0msval\u001b[0m \u001b[0;34m+\u001b[0m \u001b[0;36m1\u001b[0m\u001b[0;34m)\u001b[0m\u001b[0;34m\u001b[0m\u001b[0;34m\u001b[0m\u001b[0m\n\u001b[0m",
            "\u001b[0;31mTypeError\u001b[0m: must be str, not int"
          ]
        }
      ]
    },
    {
      "cell_type": "markdown",
      "metadata": {
        "id": "wwPzMMyyk89H",
        "colab_type": "text"
      },
      "source": [
        "Bu hatayı sval değişkenimizi int veri tipine çevirerek çözebiliriz:"
      ]
    },
    {
      "cell_type": "code",
      "metadata": {
        "id": "bT42i463lCAv",
        "colab_type": "code",
        "colab": {
          "base_uri": "https://localhost:8080/",
          "height": 50
        },
        "outputId": "bbb906fb-3c46-4338-ac94-6f32c0e039cf"
      },
      "source": [
        "ival = int(sval)\n",
        "print(type(ival))\n",
        "print(ival + 1)"
      ],
      "execution_count": null,
      "outputs": [
        {
          "output_type": "stream",
          "text": [
            "<class 'int'>\n",
            "124\n"
          ],
          "name": "stdout"
        }
      ]
    },
    {
      "cell_type": "markdown",
      "metadata": {
        "id": "rQ6wEG5IlMDR",
        "colab_type": "text"
      },
      "source": [
        "Eğer sayısal bir değer içermeyen bir karakter dizisini integer a çevirmeye çalışırsak ValueError hatası alırız:"
      ]
    },
    {
      "cell_type": "code",
      "metadata": {
        "id": "tEQ1njB0lT54",
        "colab_type": "code",
        "colab": {
          "base_uri": "https://localhost:8080/",
          "height": 178
        },
        "outputId": "1b1bb771-3d21-4e83-fb0d-a46fd42c661e"
      },
      "source": [
        "nsc = 'Hello'\n",
        "nvm = int(nsc)"
      ],
      "execution_count": null,
      "outputs": [
        {
          "output_type": "error",
          "ename": "ValueError",
          "evalue": "ignored",
          "traceback": [
            "\u001b[0;31m---------------------------------------------------------------------------\u001b[0m",
            "\u001b[0;31mValueError\u001b[0m                                Traceback (most recent call last)",
            "\u001b[0;32m<ipython-input-4-a2ba35c2a256>\u001b[0m in \u001b[0;36m<module>\u001b[0;34m()\u001b[0m\n\u001b[1;32m      1\u001b[0m \u001b[0mnsc\u001b[0m \u001b[0;34m=\u001b[0m \u001b[0;34m'Hello'\u001b[0m\u001b[0;34m\u001b[0m\u001b[0;34m\u001b[0m\u001b[0m\n\u001b[0;32m----> 2\u001b[0;31m \u001b[0mnvm\u001b[0m \u001b[0;34m=\u001b[0m \u001b[0mint\u001b[0m\u001b[0;34m(\u001b[0m\u001b[0mnsc\u001b[0m\u001b[0;34m)\u001b[0m\u001b[0;34m\u001b[0m\u001b[0;34m\u001b[0m\u001b[0m\n\u001b[0m",
            "\u001b[0;31mValueError\u001b[0m: invalid literal for int() with base 10: 'Hello'"
          ]
        }
      ]
    },
    {
      "cell_type": "markdown",
      "metadata": {
        "id": "z0WztFcDluHQ",
        "colab_type": "text"
      },
      "source": [
        "# User Input"
      ]
    },
    {
      "cell_type": "markdown",
      "metadata": {
        "id": "4VyRBl8OuSxp",
        "colab_type": "text"
      },
      "source": [
        "Kullanıcıdan girdi almak için input() fonksiyonunu kullanırız.\n",
        "\n",
        "input() fonksiyonu her zaman karakter dizisi olarak döndürür. Yani matematiksel işlemler yapacaksak int() veya float() içinde yapmamız lazım:"
      ]
    },
    {
      "cell_type": "code",
      "metadata": {
        "id": "4W9ZDULXuqlX",
        "colab_type": "code",
        "colab": {
          "base_uri": "https://localhost:8080/",
          "height": 50
        },
        "outputId": "934b7288-8fb3-48dd-c497-603cf17b6025"
      },
      "source": [
        "numberSum = int(input('5 ile toplayacağınız sayı: '))\n",
        "print(numberSum + 5)"
      ],
      "execution_count": null,
      "outputs": [
        {
          "output_type": "stream",
          "text": [
            "5 ile toplayacağınız sayı: 10\n",
            "15\n"
          ],
          "name": "stdout"
        }
      ]
    },
    {
      "cell_type": "code",
      "metadata": {
        "id": "Ao57HiPgvAoo",
        "colab_type": "code",
        "colab": {
          "base_uri": "https://localhost:8080/",
          "height": 50
        },
        "outputId": "4be4bb73-d146-4556-e25b-5116c72799c2"
      },
      "source": [
        "name = input('Who are you? ')\n",
        "print('Welcome ',name)"
      ],
      "execution_count": null,
      "outputs": [
        {
          "output_type": "stream",
          "text": [
            "Who are you? murat\n",
            "Welcome  murat\n"
          ],
          "name": "stdout"
        }
      ]
    },
    {
      "cell_type": "code",
      "metadata": {
        "id": "QuD5PvzuwGpO",
        "colab_type": "code",
        "colab": {
          "base_uri": "https://localhost:8080/",
          "height": 50
        },
        "outputId": "15eb8e1a-89ac-4f81-cdc3-55f0b65b99bb"
      },
      "source": [
        "inp = input('Europe Floor?')\n",
        "usf = int(inp) + 1\n",
        "print('US floor', usf)"
      ],
      "execution_count": null,
      "outputs": [
        {
          "output_type": "stream",
          "text": [
            "Europe Floor?0\n",
            "US floor 1\n"
          ],
          "name": "stdout"
        }
      ]
    },
    {
      "cell_type": "markdown",
      "metadata": {
        "id": "uULxIbkLwjTC",
        "colab_type": "text"
      },
      "source": [
        "# Comments in Python"
      ]
    },
    {
      "cell_type": "markdown",
      "metadata": {
        "id": "ZLyzjguz3geT",
        "colab_type": "text"
      },
      "source": [
        "Bir programcının en güzel alışkanlığı yazdığı kodlara yorumlar eklemektir.\n",
        "\n",
        "Yorumlar kodlarımızı açıklamamıza yarayan hem ileride unutmamak hem de başkası kodları okuduğunda anlaması için güzel bir yoldur.\n",
        "\n",
        "Python'da yorumlar # ile yapılır. # işaretinden sonra gelen ne varsa Python tarafından işlenmeyecektir. Fakat bu tek satırlık yorumlar içindir.\n",
        "\n",
        "Teknik olarak yorum olmasa da birden fazla yorum satırı yazmak için \"\"\"\"\"\" üç tırnak işaretinin arasında yorumları ekleyebilirsiniz, bu üç tırnak işaretinin arasında yazdığımız her şey Python tarafından işlenmeyecektir.\n",
        "\n",
        "yorumu kullanarak hata veren kodları yorum içine alarak programın nasıl tepki vereceğini çözebiliriz.\n",
        "\n",
        "Yorumları kullanmak faydalı olsa da fazla ve gereksiz yere kullanmak yanlıştır.\n",
        "\n",
        "Örneğin:"
      ]
    },
    {
      "cell_type": "code",
      "metadata": {
        "id": "gZjC_Awa43po",
        "colab_type": "code",
        "colab": {}
      },
      "source": [
        "print('Hello World') # ekrana Hello world yazısı yazdırdık"
      ],
      "execution_count": null,
      "outputs": []
    },
    {
      "cell_type": "markdown",
      "metadata": {
        "id": "vklW3_kq4-HP",
        "colab_type": "text"
      },
      "source": [
        "Yukarıda ki yorum kullanmı yanlıştır. Çünkü kodumuzun zaten ekrana çıktı vereceğini biliyoruz birde bunu yorum satırla belirtmek zaman kaybıdır."
      ]
    },
    {
      "cell_type": "markdown",
      "metadata": {
        "id": "X6c3xzmi5Wen",
        "colab_type": "text"
      },
      "source": [
        "Doğru kullanım şu şekildedir; yorumlar kodun ne yaptığını kısa ve öz bir şekilde anlatmalıdır:"
      ]
    },
    {
      "cell_type": "code",
      "metadata": {
        "id": "NmG0Kifu5e5_",
        "colab_type": "code",
        "colab": {}
      },
      "source": [
        "# Get the name of the file and open it\n",
        "name = input('Enter file: ')\n",
        "handle = open(name, 'r')\n",
        "\n",
        "# Count word frequency\n",
        "counts = dict()\n",
        "for line in handle:\n",
        "  words = line.split()\n",
        "  for word in words:\n",
        "    counts[word] = counts.get(word,0) + 1\n",
        "\n",
        "# Find the most cammon word\n",
        "bigcount = None\n",
        "bigword = None\n",
        "for word.count in counts.items():\n",
        "  if bigcount is None or count > bigcount:\n",
        "    bigword = word\n",
        "    bigcount = count\n",
        "\n",
        "# All done\n",
        "print(bigword, bigcount)"
      ],
      "execution_count": null,
      "outputs": []
    },
    {
      "cell_type": "markdown",
      "metadata": {
        "id": "MTxYteJd6bHS",
        "colab_type": "text"
      },
      "source": [
        "# Summary"
      ]
    },
    {
      "cell_type": "markdown",
      "metadata": {
        "id": "B8Tzmn2H6dY2",
        "colab_type": "text"
      },
      "source": [
        "- Type \n",
        "- Reserved words\n",
        "- Veriables(mnemonic)\n",
        "- Operators\n",
        "- Operator precedence\n",
        "- Integer Division\n",
        "- Conversion between types\n",
        "- User input\n",
        "- Comments(#)"
      ]
    },
    {
      "cell_type": "markdown",
      "metadata": {
        "id": "FAuLU5jK8TcZ",
        "colab_type": "text"
      },
      "source": [
        "# Exercises"
      ]
    },
    {
      "cell_type": "markdown",
      "metadata": {
        "id": "zD6ICDih8d7m",
        "colab_type": "text"
      },
      "source": [
        "Exercises 1 :\n",
        "\n",
        "Kullanıcıdan input() fonksiyonunu kullanarak adını alın ve ona hoşgeldin diyen bir program yazın:"
      ]
    },
    {
      "cell_type": "code",
      "metadata": {
        "id": "7iPCsLp_81WO",
        "colab_type": "code",
        "colab": {
          "base_uri": "https://localhost:8080/",
          "height": 50
        },
        "outputId": "b0368670-b8c6-4655-da24-5ec475b444fd"
      },
      "source": [
        "name = input('Adınız: ')\n",
        "print('Hoşgeldin',name)"
      ],
      "execution_count": 2,
      "outputs": [
        {
          "output_type": "stream",
          "text": [
            "Adınız: Jack\n",
            "Hoşgeldin Jack\n"
          ],
          "name": "stdout"
        }
      ]
    },
    {
      "cell_type": "markdown",
      "metadata": {
        "id": "CF9KPRK29c6W",
        "colab_type": "text"
      },
      "source": [
        "Exercises 2:\n",
        "\n",
        "Kullanıcıdan çalıştığı saati ve saat başına aldığı ücreti isteyin. Ve bu iki değeri çarparak ekrana alacağı miktarı yazın."
      ]
    },
    {
      "cell_type": "code",
      "metadata": {
        "id": "2I0fs96k9oNR",
        "colab_type": "code",
        "colab": {
          "base_uri": "https://localhost:8080/",
          "height": 67
        },
        "outputId": "74170b31-600a-4af1-92bd-208c9d12bfbe"
      },
      "source": [
        "hours = int(input('Kaç saat çalıştınız?'))\n",
        "rate = float(input('Saat başı aldığınız ücret ne kadar? '))\n",
        "pay = hours * rate\n",
        "print('Pay: ', pay)"
      ],
      "execution_count": 1,
      "outputs": [
        {
          "output_type": "stream",
          "text": [
            "Kaç saat çalıştınız?35\n",
            "Saat başı aldığınız ücret ne kadar? 2.75\n",
            "Pay:  96.25\n"
          ],
          "name": "stdout"
        }
      ]
    }
  ]
}