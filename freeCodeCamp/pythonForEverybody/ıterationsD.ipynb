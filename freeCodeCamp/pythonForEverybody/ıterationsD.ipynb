{
  "nbformat": 4,
  "nbformat_minor": 0,
  "metadata": {
    "colab": {
      "name": "ıterationsD.ipynb",
      "provenance": [],
      "collapsed_sections": []
    },
    "kernelspec": {
      "name": "python3",
      "display_name": "Python 3"
    }
  },
  "cells": [
    {
      "cell_type": "markdown",
      "metadata": {
        "id": "Zb4z8XQDlBL7",
        "colab_type": "text"
      },
      "source": [
        "# More Patterns"
      ]
    },
    {
      "cell_type": "code",
      "metadata": {
        "id": "n3jAI5TVkyXg",
        "colab_type": "code",
        "colab": {}
      },
      "source": [
        "zork = 0\n",
        "print('Before', zork)\n",
        "for thing in [9,41,12,3,74,15]:\n",
        "  zork = zork + 1\n",
        "  print(zork, thing)\n",
        "print('After', zork)"
      ],
      "execution_count": null,
      "outputs": []
    },
    {
      "cell_type": "markdown",
      "metadata": {
        "id": "ZrFkdxTNxUa3",
        "colab_type": "text"
      },
      "source": [
        "# Summing in a loop"
      ]
    },
    {
      "cell_type": "code",
      "metadata": {
        "id": "wcVQbSFqxXh-",
        "colab_type": "code",
        "colab": {
          "base_uri": "https://localhost:8080/",
          "height": 151
        },
        "outputId": "f1c50fea-0c60-49a5-f4cd-8beafee50548"
      },
      "source": [
        "zork = 0\n",
        "print('Before',zork)\n",
        "for thing in [9,41,12,3,74,15]:\n",
        "  zork = zork + thing\n",
        "  print(zork,thing)\n",
        "print('After',zork)"
      ],
      "execution_count": 2,
      "outputs": [
        {
          "output_type": "stream",
          "text": [
            "Before 0\n",
            "9 9\n",
            "50 41\n",
            "62 12\n",
            "65 3\n",
            "139 74\n",
            "154 15\n",
            "After 154\n"
          ],
          "name": "stdout"
        }
      ]
    },
    {
      "cell_type": "code",
      "metadata": {
        "id": "NnU5kH_QyAUt",
        "colab_type": "code",
        "colab": {}
      },
      "source": [
        "count = 0\n",
        "sum = 0\n",
        "print('Before',count,sum)\n",
        "for value in [9,41,12,3,74,15]:\n",
        "  count = count + 1\n",
        "  sum = sum + value\n",
        "  print(count,sum,value)\n",
        "print('After',count,sum, sum/count)"
      ],
      "execution_count": null,
      "outputs": []
    },
    {
      "cell_type": "markdown",
      "metadata": {
        "id": "Ge2fds9KyvB1",
        "colab_type": "text"
      },
      "source": [
        "# Filtering in a Loop"
      ]
    },
    {
      "cell_type": "markdown",
      "metadata": {
        "id": "xSjIoL-OyxZF",
        "colab_type": "text"
      },
      "source": [
        "döngüler de koşul ifadeleri kullanılabilir:"
      ]
    },
    {
      "cell_type": "code",
      "metadata": {
        "id": "3R8E7roRy16W",
        "colab_type": "code",
        "colab": {
          "base_uri": "https://localhost:8080/",
          "height": 84
        },
        "outputId": "3de4e988-fa56-4343-a57d-eac701619ba4"
      },
      "source": [
        "print('Before')\n",
        "for value in [9,41,12,3,74,15]:\n",
        "  if value > 20:\n",
        "    print('Large number:',value)\n",
        "print('After')"
      ],
      "execution_count": 3,
      "outputs": [
        {
          "output_type": "stream",
          "text": [
            "Before\n",
            "Large number: 41\n",
            "Large number: 74\n",
            "After\n"
          ],
          "name": "stdout"
        }
      ]
    },
    {
      "cell_type": "markdown",
      "metadata": {
        "id": "uTOdyqHdzxan",
        "colab_type": "text"
      },
      "source": [
        "# Search Using a Booelan Veriable"
      ]
    },
    {
      "cell_type": "code",
      "metadata": {
        "id": "sqhGO09Ez1n-",
        "colab_type": "code",
        "colab": {
          "base_uri": "https://localhost:8080/",
          "height": 151
        },
        "outputId": "d4b691d7-4a33-4b2d-e777-413f2660921b"
      },
      "source": [
        "found = False\n",
        "print('Before',found)\n",
        "for value in [9,41,12,3,74,15]:\n",
        "  if value == 3:\n",
        "      found = True\n",
        "  print(found,value)\n",
        "print('After',found)"
      ],
      "execution_count": 9,
      "outputs": [
        {
          "output_type": "stream",
          "text": [
            "Before False\n",
            "False 9\n",
            "False 41\n",
            "False 12\n",
            "True 3\n",
            "True 74\n",
            "True 15\n",
            "After True\n"
          ],
          "name": "stdout"
        }
      ]
    },
    {
      "cell_type": "markdown",
      "metadata": {
        "id": "BPLRXq5e2hDT",
        "colab_type": "text"
      },
      "source": [
        "# The is and is not operators"
      ]
    },
    {
      "cell_type": "markdown",
      "metadata": {
        "id": "Ovs7HPM05HS8",
        "colab_type": "text"
      },
      "source": [
        "is operatorü kullanmak tehlikelidir. Çünkü is operatörü şu şunla eşit midir dediğinizde bu ifade iki değerin id yani kimliğine bakar. \n",
        "\n",
        "Bu çoğu zaman kafamızı karıştırır ve hata yapmamıza sebebiyet verir. \n",
        "\n",
        "Bu yüzden is veya is not ifadelerini sayılarda, karakter dizilerinde, float sayılarda değil de sadece boolean ifadelerde kullanmak en doğrusudur.\n",
        "\n",
        "bunun yerine == ve != kullanmak en doğrusudur."
      ]
    },
    {
      "cell_type": "markdown",
      "metadata": {
        "id": "bKANmAn6519k",
        "colab_type": "text"
      },
      "source": [
        "# Summary"
      ]
    },
    {
      "cell_type": "markdown",
      "metadata": {
        "id": "c4wQ0a4H53Tt",
        "colab_type": "text"
      },
      "source": [
        "- While loops(indefinite)\n",
        "- Infinite loops\n",
        "- Using break\n",
        "- Using Continue\n",
        "- None constants and veriables\n",
        "- For loops (definite)\n",
        "- Iteration veriables\n",
        "- Loop idioms\n",
        "- Largest or smallest"
      ]
    },
    {
      "cell_type": "markdown",
      "metadata": {
        "id": "blSe_ZLP8Rkt",
        "colab_type": "text"
      },
      "source": [
        "# Exercises"
      ]
    },
    {
      "cell_type": "markdown",
      "metadata": {
        "id": "rO3p55sp8TgU",
        "colab_type": "text"
      },
      "source": [
        "Exercise 1\n",
        "\n",
        "Write a program which repeatedly reads numbers until the user enters “done”. Once “done” is entered, print out the total, count, and average of the numbers. If the user enters anything other than a number, detect their mistake using try and except and print an error message and skip to the next number."
      ]
    },
    {
      "cell_type": "markdown",
      "metadata": {
        "id": "TjDil1pv_rX0",
        "colab_type": "text"
      },
      "source": [
        "istenilen çıktı: \n",
        "\n",
        "Enter a number: 4\n",
        "\n",
        "Enter a number: 5\n",
        "\n",
        "Enter a number: bad data\n",
        "\n",
        "Invalid input\n",
        "\n",
        "Enter a number: 7\n",
        "\n",
        "Enter a number: done\n",
        "\n",
        "16 3 5.333333333333333"
      ]
    },
    {
      "cell_type": "code",
      "metadata": {
        "id": "C6-S7GUC8pOM",
        "colab_type": "code",
        "colab": {
          "base_uri": "https://localhost:8080/",
          "height": 134
        },
        "outputId": "24e343e1-336f-4757-ad50-fc02e36f05f2"
      },
      "source": [
        "number = 0\n",
        "count = 0\n",
        "while True:\n",
        "  try:\n",
        "    usernum = input('Enter a number: ')\n",
        "    if usernum == 'done':\n",
        "      print(number,count,number/count)\n",
        "      break\n",
        "    number += int(usernum)\n",
        "    count += 1\n",
        "  except:\n",
        "    print('Invalid input')"
      ],
      "execution_count": 1,
      "outputs": [
        {
          "output_type": "stream",
          "text": [
            "Enter a number: 4\n",
            "Enter a number: 5\n",
            "Enter a number: bad data\n",
            "Invalid input\n",
            "Enter a number: 7\n",
            "Enter a number: done\n",
            "16 3 5.333333333333333\n"
          ],
          "name": "stdout"
        }
      ]
    },
    {
      "cell_type": "markdown",
      "metadata": {
        "id": "WDH4ybNRALR5",
        "colab_type": "text"
      },
      "source": [
        "Öğretmenin yaptığı:"
      ]
    },
    {
      "cell_type": "code",
      "metadata": {
        "id": "o2TIidMSAOtQ",
        "colab_type": "code",
        "colab": {}
      },
      "source": [
        "num = 0\n",
        "tot = 0.0\n",
        "while True:\n",
        "  sval = input('Enter a number: ')\n",
        "  if sval == 'done':\n",
        "    break\n",
        "  try:\n",
        "    fval = float(sval)\n",
        "  except:\n",
        "    print('Invalid input')\n",
        "    continue\n",
        "  # print(fval)\n",
        "  num = num + 1\n",
        "  tot = tot + fval\n",
        "\n",
        "# print('All Done)\n",
        "print(tot,num,tot/num)"
      ],
      "execution_count": null,
      "outputs": []
    }
  ]
}