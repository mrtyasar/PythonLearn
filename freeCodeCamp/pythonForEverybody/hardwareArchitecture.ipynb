{
  "nbformat": 4,
  "nbformat_minor": 0,
  "metadata": {
    "colab": {
      "name": "hardwareArchitecture.ipynb",
      "provenance": []
    },
    "kernelspec": {
      "name": "python3",
      "display_name": "Python 3"
    }
  },
  "cells": [
    {
      "cell_type": "markdown",
      "metadata": {
        "id": "7q-xMIbZcVX7",
        "colab_type": "text"
      },
      "source": [
        "# CPU"
      ]
    },
    {
      "cell_type": "markdown",
      "metadata": {
        "id": "-MPvBOUwgBLC",
        "colab_type": "text"
      },
      "source": [
        "CPU'lar bir bilgisayarın beynidir. CPU olmadan herhangi bir bilgisayarın çalışması mümkün değildir.\n",
        "\n",
        "CPU'lara gelişmiş hesap makinesi dahi denilebilir, çünkü sayılarla arası oldukça iyidir.\n",
        "\n",
        "CPU bir girdi alır, bu girdiyi yorumlar ve girdiyi gerektiği donanım parçalarına aktarır.\n",
        "\n",
        "CPU lar 32 bit ve 64 bit olmak üzere ikiye ayrılar. ghz olarak saniyede kaç işlem yapabileceklerini gösterebiliriz: 2.4 Ghz, 5 Ghz. Ghz arttıkça, işlemciler, programlar ve çevresel olarak vereceğimiz işlemler daha hızlı çalışır. Birden fazla işlemi gerçekleştirmek için içindeki çekirdeklerden yararlanır. 2,4,8,16 çekirdekli işlemciler bulunmaktadır.\n",
        "\n",
        "çekirdek sayısı arttıkça işlemlerimizin miktarı artabilir. CPU lar çok fazla ısındığı için fanlarla soğutmak zorunludur.\n",
        "\n",
        "Günümüzdeki modern işlemciler 180 milyon işlem gerçekleştirebilir."
      ]
    },
    {
      "cell_type": "markdown",
      "metadata": {
        "id": "UFTQeY02htGs",
        "colab_type": "text"
      },
      "source": [
        "# MEMORY - RAM"
      ]
    },
    {
      "cell_type": "markdown",
      "metadata": {
        "id": "fpf1rOJlyFA0",
        "colab_type": "text"
      },
      "source": [
        "RAM bir girdinin son durağıdır, örneğin bir chrome'u açtığınızda ve bir klavye harfine bastığınızda bu RAM'da hızlıca kaydedilir ve CPU'ya işleme alınması için gönderilir.\n",
        "\n",
        "bilgisayar bilimlerin iki önemli parcası olan 0 ve 1 leri her türlü bilgisayar işlerinde kullanırız. Örneğin bir E harfi tuşuna bastığımızda bu E harfi bellege 010101 olarak yazılır ve şimdi gördüğümüz E harfini görebilmek için CPU ya yollanılır, işlemcide işlenen 0101 ler ekrana E olarak gözükür.\n",
        "\n",
        "Bu işlem çok hızlı bir şekilde gerçekleşir, bu yüzden sabit diskler yerine daha hızlı çalışan RAM leri kullanırız.\n",
        "\n",
        "bu belleklerin içindeki tüm bilgiler uçmaya müsait, bilgisayarı kapattığımızda ise yok olduğu için RAM'lere geçici bellekler de denir. Veya birincil bellekler."
      ]
    },
    {
      "cell_type": "markdown",
      "metadata": {
        "id": "N2c6GYvEzUg8",
        "colab_type": "text"
      },
      "source": [
        "# ANAKART"
      ]
    },
    {
      "cell_type": "markdown",
      "metadata": {
        "id": "OZt5W2CEzWNy",
        "colab_type": "text"
      },
      "source": [
        "Anakartların tek bir görevi vardır, birlgisayar donanımlarını bir arada tutarak birbirleriyle olan bağlantıları sağlamaktır.\n",
        "\n",
        "Bir rami de işlemciyi de sabit diskleri de anakarta takarak birbirleriyle bağlantıya geçmelerini sağlarız."
      ]
    },
    {
      "cell_type": "markdown",
      "metadata": {
        "id": "ABtWOD70zoKi",
        "colab_type": "text"
      },
      "source": [
        "# SABİT DİSKLER"
      ]
    },
    {
      "cell_type": "markdown",
      "metadata": {
        "id": "-kG_t1tz25-y",
        "colab_type": "text"
      },
      "source": [
        "Bir Chrome sekmesini açar ve Netflix'te bir film izlemeye başlarsak bu işlemlerimiz RAM'de kaydedilir, çünkü saklamaya değer bir işlem değildir. Eğer sekmeyi kapatırsak yaptığımız tüm işlemler bellekte silinir.\n",
        "\n",
        "Fakat eğer bir fotografımız, videomuz veya yazdığımız bir program varsa bunlar kalıcı olarak saklamak için ikincil belleklere yani sabit disklere kaydediriz.\n",
        "\n",
        "Sabit diskler yıllar geçtikte daha çok hızlanıyor ve farklı kategorilere ayrılıyor.\n",
        "\n",
        "bugün en hızlı sabit diskler olarak NVME adlı diskleri kullanıyoruz, bundan sonra yine hızlı olaran SSD dileri kullanıyoruz. Uzun ömürlü ve fazla kapasite veren fakat eski tür, bozulmaya meyili olan disklere de HDD diyoruz.\n",
        "\n",
        "diskler genel itibariyle bir veriyi kaydetmek için kullandığımız bir bilgisayar donanımıdır."
      ]
    }
  ]
}