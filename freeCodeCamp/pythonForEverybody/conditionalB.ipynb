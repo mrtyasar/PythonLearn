{
  "nbformat": 4,
  "nbformat_minor": 0,
  "metadata": {
    "colab": {
      "name": "conditionalB.ipynb",
      "provenance": [],
      "collapsed_sections": []
    },
    "kernelspec": {
      "name": "python3",
      "display_name": "Python 3"
    }
  },
  "cells": [
    {
      "cell_type": "markdown",
      "metadata": {
        "id": "dMU4svHBklKC",
        "colab_type": "text"
      },
      "source": [
        "### More Conditional Structures"
      ]
    },
    {
      "cell_type": "markdown",
      "metadata": {
        "id": "QV8BzK0_-jHc",
        "colab_type": "text"
      },
      "source": [
        "if - elif - else"
      ]
    },
    {
      "cell_type": "markdown",
      "metadata": {
        "id": "FetV329F-5Dh",
        "colab_type": "text"
      },
      "source": [
        "Elif ifadesi eğer if ifadesi False vermezse ve kendisi True verirse ancak o zaman çalışır. Yani elif ifadesi if ifadesinden farkı birden fazla koşul üretebilmemizi sağlayabiliyor. \n",
        "\n",
        "elif ifadesini kullarak birden fazla koşul üretebiliriz."
      ]
    },
    {
      "cell_type": "code",
      "metadata": {
        "id": "vHQZtGXqkh3Q",
        "colab_type": "code",
        "colab": {
          "base_uri": "https://localhost:8080/",
          "height": 50
        },
        "outputId": "1c21f5a5-6fdc-4e24-a7b1-5621e3148887"
      },
      "source": [
        "x = 5\n",
        "if x < 2:\n",
        "  print('small')\n",
        "elif x < 10:\n",
        "  print('Medium')\n",
        "else:\n",
        "  print('Large')\n",
        "print('All done')"
      ],
      "execution_count": null,
      "outputs": [
        {
          "output_type": "stream",
          "text": [
            "Medium\n",
            "All done\n"
          ],
          "name": "stdout"
        }
      ]
    },
    {
      "cell_type": "markdown",
      "metadata": {
        "id": "v0ns8fJm_9up",
        "colab_type": "text"
      },
      "source": [
        "else ifadesini kullanmadan da kontrol akışı oluşturalabilir."
      ]
    },
    {
      "cell_type": "code",
      "metadata": {
        "id": "XpfZBM5W_y4B",
        "colab_type": "code",
        "colab": {
          "base_uri": "https://localhost:8080/",
          "height": 50
        },
        "outputId": "cf4ca97a-a5de-4698-8883-b3bdb8b5af26"
      },
      "source": [
        "x = 5\n",
        "if x < 2:\n",
        "  print('small')\n",
        "elif x < 10:\n",
        "  print('Medium')\n",
        "print('All done')"
      ],
      "execution_count": null,
      "outputs": [
        {
          "output_type": "stream",
          "text": [
            "Medium\n",
            "All done\n"
          ],
          "name": "stdout"
        }
      ]
    },
    {
      "cell_type": "markdown",
      "metadata": {
        "id": "692cmqQoAE5K",
        "colab_type": "text"
      },
      "source": [
        "istenilen sayı kadar elif ifadesini kullanarak koşul üretebiliriz:"
      ]
    },
    {
      "cell_type": "code",
      "metadata": {
        "id": "izUkpVD-AIyJ",
        "colab_type": "code",
        "colab": {
          "base_uri": "https://localhost:8080/",
          "height": 34
        },
        "outputId": "9a9eb5dd-935c-49f3-bffb-2019afd4576c"
      },
      "source": [
        "if x < 2:\n",
        "  print('Small')\n",
        "elif x < 10:\n",
        "  print('Medium')\n",
        "elif x < 20:\n",
        "  print('Big')\n",
        "elif x < 40:\n",
        "  print('Large')\n",
        "elif x < 100:\n",
        "  print('Huge')\n",
        "else:\n",
        "  priny('Ginormous')"
      ],
      "execution_count": null,
      "outputs": [
        {
          "output_type": "stream",
          "text": [
            "Medium\n"
          ],
          "name": "stdout"
        }
      ]
    },
    {
      "cell_type": "markdown",
      "metadata": {
        "id": "OJMyV38LAcnK",
        "colab_type": "text"
      },
      "source": [
        "elif ifadesini kullanarak oluşturduğumuz koşullarda ilk True gelen koşulun kod bloğu çalışır ve program diğerlerine dahi işleme koymaz.\n",
        "\n",
        "bu yüzden birden fazla koşulun True olması hepsinin çalışacağı anlamına gelmez, program True olan koşulu çalıştırır ve kontrol akışını sonlandırır."
      ]
    },
    {
      "cell_type": "markdown",
      "metadata": {
        "id": "eKxOCGwYKMmU",
        "colab_type": "text"
      },
      "source": [
        "Hangi satırdaki kodlar çalışmaz?"
      ]
    },
    {
      "cell_type": "code",
      "metadata": {
        "id": "dgvNiSQRKRTU",
        "colab_type": "code",
        "colab": {
          "base_uri": "https://localhost:8080/",
          "height": 34
        },
        "outputId": "e30c05fd-67b1-44d0-ce5e-f48355ec3329"
      },
      "source": [
        "x = 2\n",
        "\n",
        "if x < 2: # 1\n",
        "  print('Below 2')\n",
        "elif x >= 2: # 2\n",
        "  print('Two or more')\n",
        "else: # 3\n",
        "  print('Something else')"
      ],
      "execution_count": null,
      "outputs": [
        {
          "output_type": "stream",
          "text": [
            "Two or more\n"
          ],
          "name": "stdout"
        }
      ]
    },
    {
      "cell_type": "markdown",
      "metadata": {
        "id": "R2b87XF5KmAk",
        "colab_type": "text"
      },
      "source": [
        "2 numaları kod True verdiği için 1 ve 3 işleme alınmaz."
      ]
    },
    {
      "cell_type": "markdown",
      "metadata": {
        "id": "MsIbIUUuK0QT",
        "colab_type": "text"
      },
      "source": [
        "Aşağıdakilerden hangi kodlar çalışmaz?"
      ]
    },
    {
      "cell_type": "code",
      "metadata": {
        "id": "8EnQwNxXK3MT",
        "colab_type": "code",
        "colab": {
          "base_uri": "https://localhost:8080/",
          "height": 34
        },
        "outputId": "ac055e99-04cd-4632-d3d2-a70e02853e19"
      },
      "source": [
        "x = 2\n",
        "if x < 2: # 1\n",
        "  print('Below 2')\n",
        "elif x < 20: # 2\n",
        "  print('Below 20')\n",
        "elif x < 10: # 3\n",
        "  print('Below 10')\n",
        "else: # 4\n",
        "  print('Something else')"
      ],
      "execution_count": null,
      "outputs": [
        {
          "output_type": "stream",
          "text": [
            "Below 20\n"
          ],
          "name": "stdout"
        }
      ]
    },
    {
      "cell_type": "markdown",
      "metadata": {
        "id": "Ti6O9wF9LNuN",
        "colab_type": "text"
      },
      "source": [
        "1,3 ve 4 çalışmaz"
      ]
    },
    {
      "cell_type": "markdown",
      "metadata": {
        "id": "lTo8XMYnOdCH",
        "colab_type": "text"
      },
      "source": [
        "# try / except"
      ]
    },
    {
      "cell_type": "markdown",
      "metadata": {
        "id": "YKoMlQRoOfp7",
        "colab_type": "text"
      },
      "source": [
        "try ve except ifadeleri hata üreteceğini düşündüğümüz kodların olası bir hata oluşmasında programın çökmesi yerine hatayı çözebilmemizi sağlıyor.\n",
        "\n",
        "Hata üretmeye meyili kodları try bloğuna hata oluşursa yapmak istedikleirimizi except bloğuna yazarız."
      ]
    },
    {
      "cell_type": "code",
      "metadata": {
        "id": "ONC__B81QcJu",
        "colab_type": "code",
        "colab": {
          "base_uri": "https://localhost:8080/",
          "height": 229
        },
        "outputId": "f5acc57c-c7af-4135-f6fc-f667bc5b327b"
      },
      "source": [
        "astr = 'Hello bob'\n",
        "istr = int(astr)\n",
        "print('First', istr)\n",
        "astr = '123'\n",
        "istr = int(astr)\n",
        "print('Second',istr)"
      ],
      "execution_count": null,
      "outputs": [
        {
          "output_type": "error",
          "ename": "ValueError",
          "evalue": "ignored",
          "traceback": [
            "\u001b[0;31m---------------------------------------------------------------------------\u001b[0m",
            "\u001b[0;31mValueError\u001b[0m                                Traceback (most recent call last)",
            "\u001b[0;32m<ipython-input-7-8a162d361665>\u001b[0m in \u001b[0;36m<module>\u001b[0;34m()\u001b[0m\n\u001b[1;32m      1\u001b[0m \u001b[0mastr\u001b[0m \u001b[0;34m=\u001b[0m \u001b[0;34m'Hello bob'\u001b[0m\u001b[0;34m\u001b[0m\u001b[0;34m\u001b[0m\u001b[0m\n\u001b[0;32m----> 2\u001b[0;31m \u001b[0mistr\u001b[0m \u001b[0;34m=\u001b[0m \u001b[0mint\u001b[0m\u001b[0;34m(\u001b[0m\u001b[0mastr\u001b[0m\u001b[0;34m)\u001b[0m\u001b[0;34m\u001b[0m\u001b[0;34m\u001b[0m\u001b[0m\n\u001b[0m\u001b[1;32m      3\u001b[0m \u001b[0mprint\u001b[0m\u001b[0;34m(\u001b[0m\u001b[0;34m'First'\u001b[0m\u001b[0;34m,\u001b[0m \u001b[0mistr\u001b[0m\u001b[0;34m)\u001b[0m\u001b[0;34m\u001b[0m\u001b[0;34m\u001b[0m\u001b[0m\n\u001b[1;32m      4\u001b[0m \u001b[0mastr\u001b[0m \u001b[0;34m=\u001b[0m \u001b[0;34m'123'\u001b[0m\u001b[0;34m\u001b[0m\u001b[0;34m\u001b[0m\u001b[0m\n\u001b[1;32m      5\u001b[0m \u001b[0mistr\u001b[0m \u001b[0;34m=\u001b[0m \u001b[0mint\u001b[0m\u001b[0;34m(\u001b[0m\u001b[0mastr\u001b[0m\u001b[0;34m)\u001b[0m\u001b[0;34m\u001b[0m\u001b[0;34m\u001b[0m\u001b[0m\n",
            "\u001b[0;31mValueError\u001b[0m: invalid literal for int() with base 10: 'Hello bob'"
          ]
        }
      ]
    },
    {
      "cell_type": "markdown",
      "metadata": {
        "id": "5xsq4_XXQxNy",
        "colab_type": "text"
      },
      "source": [
        "Bu kodu try...except.. bloğunu kullarak yazabiliriz:"
      ]
    },
    {
      "cell_type": "code",
      "metadata": {
        "id": "cO_RbJahRScD",
        "colab_type": "code",
        "colab": {
          "base_uri": "https://localhost:8080/",
          "height": 50
        },
        "outputId": "33ee5112-bd2c-4055-e561-db6c84904b5f"
      },
      "source": [
        "astr = 'Hello Bob'\n",
        "try:\n",
        "  istr = int(astr)\n",
        "except:\n",
        "  istr = -1\n",
        "\n",
        "print('First',istr)\n",
        "astr = '123'\n",
        "try:\n",
        "  istr = int(astr)\n",
        "except:\n",
        "  istr = -1\n",
        "print('Second',istr)"
      ],
      "execution_count": null,
      "outputs": [
        {
          "output_type": "stream",
          "text": [
            "First -1\n",
            "Second 123\n"
          ],
          "name": "stdout"
        }
      ]
    },
    {
      "cell_type": "markdown",
      "metadata": {
        "id": "c7ZfZv-2Sn62",
        "colab_type": "text"
      },
      "source": [
        "Eğer ki try bloğundaki kodlar hata üretmezse except bloğuna gerek kalmayacak bu yüzden kod akışı except bloğunu atlayarak diğer kodlara geçiş yapacak.\n",
        "\n",
        "hata üretecek kodları try: bloğunda yazdık, hata olursa şu şunları yap dediğimiz kodları da except bloğunda yazdık.\n",
        "\n",
        "except ifadesinin yanına hata adını yazarak, bu hata gerçekleştiğinde ekrana çıktı verecek bir hata mesajı yazdırabiliriz:"
      ]
    },
    {
      "cell_type": "code",
      "metadata": {
        "id": "rNRCjKUWTJyu",
        "colab_type": "code",
        "colab": {
          "base_uri": "https://localhost:8080/",
          "height": 50
        },
        "outputId": "a5237915-151b-4378-cba2-4368b2c6ead1"
      },
      "source": [
        "number = int(input('Bölecek sayıyı yazınız: '))\n",
        "try:\n",
        "  print(number/0)\n",
        "except ZeroDivisionError:\n",
        "  print('Bir sayıyı 0 ile bölemezsiniz!')"
      ],
      "execution_count": null,
      "outputs": [
        {
          "output_type": "stream",
          "text": [
            "Bölecek sayıyı yazınız: 0\n",
            "Bir sayıyı 0 ile bölemezsiniz!\n"
          ],
          "name": "stdout"
        }
      ]
    },
    {
      "cell_type": "markdown",
      "metadata": {
        "id": "UrrZl6jWTemi",
        "colab_type": "text"
      },
      "source": [
        "Böyle bir kullanımında sadece o hata meydana gelirse except bloğu çalışır."
      ]
    },
    {
      "cell_type": "code",
      "metadata": {
        "id": "-hNEALuyZwxJ",
        "colab_type": "code",
        "colab": {
          "base_uri": "https://localhost:8080/",
          "height": 50
        },
        "outputId": "957a2feb-72f4-48fc-cb1f-4b4312617cdf"
      },
      "source": [
        "rawstr = input('Enter a number: ')\n",
        "try:\n",
        "  ival = int(rawstr)\n",
        "except:\n",
        "  ival = -1\n",
        "if ival > 0:\n",
        "  print('Nice work')\n",
        "else:\n",
        "  print('Not a number')"
      ],
      "execution_count": null,
      "outputs": [
        {
          "output_type": "stream",
          "text": [
            "Enter a number: 5\n",
            "Nice work\n"
          ],
          "name": "stdout"
        }
      ]
    },
    {
      "cell_type": "markdown",
      "metadata": {
        "id": "X8E5ZY91aki6",
        "colab_type": "text"
      },
      "source": [
        "eğer try bloğu hata verseydi except bloğu çalışacak ve ival değişkenin değeri -1 olacak. Bu yüzden de else ifadesi çalışacak ve ekrana No a number yazdırılacaktı.\n",
        "\n",
        "\n"
      ]
    },
    {
      "cell_type": "markdown",
      "metadata": {
        "id": "FE8u_LqLcwOC",
        "colab_type": "text"
      },
      "source": [
        "# Summary"
      ]
    },
    {
      "cell_type": "markdown",
      "metadata": {
        "id": "bFFLMkk_cyaR",
        "colab_type": "text"
      },
      "source": [
        " - Comparison operators\n",
        "== <= >= > < ! =\n",
        "\n",
        "- Indentation\n",
        "\n",
        "- One-way Decisions\n",
        "\n",
        "- Two-way decisions: if and else:\n",
        "\n",
        "- Nested Decisions\n",
        "\n",
        "- Multi-way decisions using elif\n",
        "\n",
        "- try/except to compensate for errors\n"
      ]
    },
    {
      "cell_type": "markdown",
      "metadata": {
        "id": "SO_3Ccijd4_j",
        "colab_type": "text"
      },
      "source": [
        "# Exercises"
      ]
    },
    {
      "cell_type": "markdown",
      "metadata": {
        "id": "vsdzI3LDeByK",
        "colab_type": "text"
      },
      "source": [
        "Exercise 1\n",
        "\n",
        "Rewrite your pay computation to give the employee 1.5 times the hourly rate for hours worked above 40 hours.\n"
      ]
    },
    {
      "cell_type": "markdown",
      "metadata": {
        "id": "OolNmz-gggbH",
        "colab_type": "text"
      },
      "source": [
        "Enter Hours: 45\n",
        "\n",
        "Enter Rate: 10\n",
        "\n",
        "Pay: 475.0"
      ]
    },
    {
      "cell_type": "code",
      "metadata": {
        "id": "oDbRDUeygqAp",
        "colab_type": "code",
        "colab": {
          "base_uri": "https://localhost:8080/",
          "height": 84
        },
        "outputId": "a98dace3-9fc5-4a33-83d5-96a023a60080"
      },
      "source": [
        "hours = int(input('Enter Hours: '))\n",
        "rate = int(input('Enter Rate: '))\n",
        "hr = float(hours)\n",
        "rt = float(rate)\n",
        "if hr > 40:\n",
        "  print('overtime')\n",
        "  reg = hr * rt\n",
        "  otp = (hr - 40.0)*(rt*0.5)\n",
        "  xp = reg + otp\n",
        "else:\n",
        "  print('Regular')\n",
        "  xp = hr * rt\n",
        "print('Pay',xp)"
      ],
      "execution_count": 2,
      "outputs": [
        {
          "output_type": "stream",
          "text": [
            "Enter Hours: 45\n",
            "Enter Rate: 10\n",
            "overtime\n",
            "Pay 475.0\n"
          ],
          "name": "stdout"
        }
      ]
    },
    {
      "cell_type": "markdown",
      "metadata": {
        "id": "qbueAaQWa7Ut",
        "colab_type": "text"
      },
      "source": [
        "exercise 2\n"
      ]
    },
    {
      "cell_type": "markdown",
      "metadata": {
        "id": "l-diBVYla-Yo",
        "colab_type": "text"
      },
      "source": [
        "Rewrite your pay program using try and except so that your program handles non-numeric input gracefully by printing a message and exiting the program. The following shows two executions of the program:\n",
        "\n",
        "Çıktı şu şekilde olmalı"
      ]
    },
    {
      "cell_type": "code",
      "metadata": {
        "id": "6qApDFc7bGdY",
        "colab_type": "code",
        "colab": {}
      },
      "source": [
        "Enter Hours: 20\n",
        "Enter Rate: nine\n",
        "Error, please enter numeric input\n",
        "\n",
        "Enter Hours: forty\n",
        "Error, please enter numeric input"
      ],
      "execution_count": null,
      "outputs": []
    },
    {
      "cell_type": "markdown",
      "metadata": {
        "id": "RhRsww1lbWdp",
        "colab_type": "text"
      },
      "source": [
        "Çözüm:"
      ]
    },
    {
      "cell_type": "code",
      "metadata": {
        "id": "PkSPq46vbXpt",
        "colab_type": "code",
        "colab": {
          "base_uri": "https://localhost:8080/",
          "height": 67
        },
        "outputId": "0fcab2f3-b9a6-441b-dece-df0ee916dbbb"
      },
      "source": [
        "try:\n",
        "  hours = int(input('Enter Hours: '))\n",
        "  rate = int(input('Enter Rate: '))\n",
        "except:\n",
        "  print('Error, please enter numeric input!')\n",
        "  quit()"
      ],
      "execution_count": 3,
      "outputs": [
        {
          "output_type": "stream",
          "text": [
            "Enter Hours: 20\n",
            "Enter Rate: nine\n",
            "Error, please enter numeric input!\n"
          ],
          "name": "stdout"
        }
      ]
    },
    {
      "cell_type": "code",
      "metadata": {
        "id": "U08jFz6pb2PD",
        "colab_type": "code",
        "colab": {
          "base_uri": "https://localhost:8080/",
          "height": 50
        },
        "outputId": "a8faedd3-8ff6-4980-bb33-1ed91f08270e"
      },
      "source": [
        "try:\n",
        "  hours = int(input('Enter Hours: '))\n",
        "  rate = int(input('Enter Rate: '))\n",
        "except:\n",
        "  print('Error, please enter numeric input!')\n",
        "  quit()"
      ],
      "execution_count": 4,
      "outputs": [
        {
          "output_type": "stream",
          "text": [
            "Enter Hours: forty\n",
            "Error, please enter numeric input!\n"
          ],
          "name": "stdout"
        }
      ]
    },
    {
      "cell_type": "markdown",
      "metadata": {
        "id": "Wp_kocxGcv6k",
        "colab_type": "text"
      },
      "source": [
        "Exercise 3\n",
        "\n",
        "Write a program to prompt for a score between 0.0 and 1.0. If the score is out of range, print an error message. If the score is between 0.0 and 1.0, print grade using the following table:"
      ]
    },
    {
      "cell_type": "code",
      "metadata": {
        "id": "lW5dukVvdrwN",
        "colab_type": "code",
        "colab": {}
      },
      "source": [
        ">= 0.9 grade A\n",
        ">= 0.8 grade B\n",
        ">= 0.7 grade C\n",
        ">= 0.6 grade D\n",
        "< 0.6 grade F"
      ],
      "execution_count": null,
      "outputs": []
    },
    {
      "cell_type": "code",
      "metadata": {
        "id": "AH4F7Jr_d-cJ",
        "colab_type": "code",
        "colab": {
          "base_uri": "https://localhost:8080/",
          "height": 50
        },
        "outputId": "15864abd-7053-497b-f318-de09dbc5d59a"
      },
      "source": [
        "score = float(input('Enter score'))\n",
        "if score > 1.0:\n",
        "  print('Lütfen sadece 0.0 ile 1.0 arası sayı giriniz.')\n",
        "  exit()\n",
        "elif score >= 0.9:\n",
        "  print('A')\n",
        "elif score >= 0.8:\n",
        "  print('B')\n",
        "elif score >= 0.7:\n",
        "  print('C')\n",
        "elif score >= 0.6:\n",
        "  print('D')\n",
        "elif score < 0.6:\n",
        "  print('Bad Score!')"
      ],
      "execution_count": 2,
      "outputs": [
        {
          "output_type": "stream",
          "text": [
            "Enter score0.5\n",
            "Bad Score!\n"
          ],
          "name": "stdout"
        }
      ]
    }
  ]
}