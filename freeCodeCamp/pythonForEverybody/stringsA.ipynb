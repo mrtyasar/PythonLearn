{
  "nbformat": 4,
  "nbformat_minor": 0,
  "metadata": {
    "colab": {
      "name": "stringsA.ipynb",
      "provenance": [],
      "collapsed_sections": []
    },
    "kernelspec": {
      "name": "python3",
      "display_name": "Python 3"
    }
  },
  "cells": [
    {
      "cell_type": "markdown",
      "metadata": {
        "id": "taZblFPDBdNc",
        "colab_type": "text"
      },
      "source": [
        "# Strings in Python"
      ]
    },
    {
      "cell_type": "markdown",
      "metadata": {
        "id": "MSO3BsHagTzB",
        "colab_type": "text"
      },
      "source": [
        "tırnak işaretinde yazılan her şey string yani karakter dizisidir.\n",
        "\n",
        "tırnak işaretinde yazdığımız 5 de # da bir stringir.\n",
        "\n",
        "karakter dizileri '', \"\" veya \"\"\"\"\"\" ile oluşturulur."
      ]
    },
    {
      "cell_type": "code",
      "metadata": {
        "id": "ROvE5HWzBaJr",
        "colab_type": "code",
        "colab": {}
      },
      "source": [
        "str1 = 'Hello'\n",
        "str2 = \"there\""
      ],
      "execution_count": 3,
      "outputs": []
    },
    {
      "cell_type": "markdown",
      "metadata": {
        "id": "9ePG25XGgvYd",
        "colab_type": "text"
      },
      "source": [
        "\"+\" işareti numaralarda toplama, karakter dizilerinde birleştirme özelliğine sahiptir.\n",
        "\n",
        "ayrıca \"*\" işareti sayısal ifadelerde çarpma, karakter dizilerinde çoğaltma görevinde bulunur."
      ]
    },
    {
      "cell_type": "code",
      "metadata": {
        "id": "wuk2Ht4Zg8Y4",
        "colab_type": "code",
        "colab": {
          "base_uri": "https://localhost:8080/",
          "height": 34
        },
        "outputId": "fc52997d-c3ec-462e-e477-0362a4a5423f"
      },
      "source": [
        "bob = str1 + str2\n",
        "print(bob)"
      ],
      "execution_count": 4,
      "outputs": [
        {
          "output_type": "stream",
          "text": [
            "Hellothere\n"
          ],
          "name": "stdout"
        }
      ]
    },
    {
      "cell_type": "markdown",
      "metadata": {
        "id": "rk16YCm-hD8Q",
        "colab_type": "text"
      },
      "source": [
        "bir karakter dizisiyle bir sayıyı çarpılamaz veya toplanamaz."
      ]
    },
    {
      "cell_type": "code",
      "metadata": {
        "id": "vKjWdJNYhH_g",
        "colab_type": "code",
        "colab": {
          "base_uri": "https://localhost:8080/",
          "height": 178
        },
        "outputId": "51a01a6c-3363-4ca7-ac5f-81b50f2228a8"
      },
      "source": [
        "str3 = '123'\n",
        "str3 = str3 + 1"
      ],
      "execution_count": 5,
      "outputs": [
        {
          "output_type": "error",
          "ename": "TypeError",
          "evalue": "ignored",
          "traceback": [
            "\u001b[0;31m---------------------------------------------------------------------------\u001b[0m",
            "\u001b[0;31mTypeError\u001b[0m                                 Traceback (most recent call last)",
            "\u001b[0;32m<ipython-input-5-a3c2e55be021>\u001b[0m in \u001b[0;36m<module>\u001b[0;34m()\u001b[0m\n\u001b[1;32m      1\u001b[0m \u001b[0mstr3\u001b[0m \u001b[0;34m=\u001b[0m \u001b[0;34m'123'\u001b[0m\u001b[0;34m\u001b[0m\u001b[0;34m\u001b[0m\u001b[0m\n\u001b[0;32m----> 2\u001b[0;31m \u001b[0mstr3\u001b[0m \u001b[0;34m=\u001b[0m \u001b[0mstr3\u001b[0m \u001b[0;34m+\u001b[0m \u001b[0;36m1\u001b[0m\u001b[0;34m\u001b[0m\u001b[0;34m\u001b[0m\u001b[0m\n\u001b[0m",
            "\u001b[0;31mTypeError\u001b[0m: must be str, not int"
          ]
        }
      ]
    },
    {
      "cell_type": "markdown",
      "metadata": {
        "id": "vNICHf5hhN-Y",
        "colab_type": "text"
      },
      "source": [
        "sayısal işlemler yapacağımzı zaman string ifadeyi int() fonksiyonu ile tam sayıya dönüştürebiliriz.\n",
        "\n",
        "fakat unutmamak lazım sadece sayısal bir ifadeye sahip bir karakter dizisini sayısal bir veri tipine çevirebiliriz.\n",
        "\n",
        "yani 'hello' ifadesini integer a veya float bir sayıya çeviremeyiz."
      ]
    },
    {
      "cell_type": "markdown",
      "metadata": {
        "id": "e8Cm14Q2irZA",
        "colab_type": "text"
      },
      "source": [
        "# Index"
      ]
    },
    {
      "cell_type": "markdown",
      "metadata": {
        "id": "A0SrFijMixVZ",
        "colab_type": "text"
      },
      "source": [
        "indexler 0'dan başlar. indexler stringlerde, listeler, tuple larda kullanılır.\n",
        "\n",
        "çoğunlukla syntax yapısı şu şekildedir. "
      ]
    },
    {
      "cell_type": "code",
      "metadata": {
        "id": "vFV7vhJJmqM3",
        "colab_type": "code",
        "colab": {}
      },
      "source": [
        "degiskenAdi[indexNo]"
      ],
      "execution_count": null,
      "outputs": []
    },
    {
      "cell_type": "code",
      "metadata": {
        "id": "zWJrmnS7mtFA",
        "colab_type": "code",
        "colab": {
          "base_uri": "https://localhost:8080/",
          "height": 34
        },
        "outputId": "6cda8a62-fb2c-4aaa-9ad5-ab1de9d5cceb"
      },
      "source": [
        "fruit = 'banana'\n",
        "letter = fruit[1]\n",
        "print(letter)"
      ],
      "execution_count": 7,
      "outputs": [
        {
          "output_type": "stream",
          "text": [
            "a\n"
          ],
          "name": "stdout"
        }
      ]
    },
    {
      "cell_type": "code",
      "metadata": {
        "id": "bKm4TPrGm2NP",
        "colab_type": "code",
        "colab": {
          "base_uri": "https://localhost:8080/",
          "height": 34
        },
        "outputId": "82f3d1b6-a4a2-4588-86d5-c00dbba11a55"
      },
      "source": [
        "x = 3\n",
        "w = fruit[x - 1]\n",
        "print(w)"
      ],
      "execution_count": 8,
      "outputs": [
        {
          "output_type": "stream",
          "text": [
            "n\n"
          ],
          "name": "stdout"
        }
      ]
    },
    {
      "cell_type": "markdown",
      "metadata": {
        "id": "CA0olkb-naig",
        "colab_type": "text"
      },
      "source": [
        "olmayan bir indeksi çağırılırsa hata alırız."
      ]
    },
    {
      "cell_type": "code",
      "metadata": {
        "id": "sQN5_tTNnsHo",
        "colab_type": "code",
        "colab": {
          "base_uri": "https://localhost:8080/",
          "height": 178
        },
        "outputId": "18f83302-dedc-4ea2-8e49-c90873a7b133"
      },
      "source": [
        "zot = 'abc'\n",
        "print(zot[5])"
      ],
      "execution_count": 9,
      "outputs": [
        {
          "output_type": "error",
          "ename": "IndexError",
          "evalue": "ignored",
          "traceback": [
            "\u001b[0;31m---------------------------------------------------------------------------\u001b[0m",
            "\u001b[0;31mIndexError\u001b[0m                                Traceback (most recent call last)",
            "\u001b[0;32m<ipython-input-9-6acb855f1a9c>\u001b[0m in \u001b[0;36m<module>\u001b[0;34m()\u001b[0m\n\u001b[1;32m      1\u001b[0m \u001b[0mzot\u001b[0m \u001b[0;34m=\u001b[0m \u001b[0;34m'abc'\u001b[0m\u001b[0;34m\u001b[0m\u001b[0;34m\u001b[0m\u001b[0m\n\u001b[0;32m----> 2\u001b[0;31m \u001b[0mprint\u001b[0m\u001b[0;34m(\u001b[0m\u001b[0mzot\u001b[0m\u001b[0;34m[\u001b[0m\u001b[0;36m5\u001b[0m\u001b[0;34m]\u001b[0m\u001b[0;34m)\u001b[0m\u001b[0;34m\u001b[0m\u001b[0;34m\u001b[0m\u001b[0m\n\u001b[0m",
            "\u001b[0;31mIndexError\u001b[0m: string index out of range"
          ]
        }
      ]
    },
    {
      "cell_type": "markdown",
      "metadata": {
        "id": "gf8ITMeDnyQU",
        "colab_type": "text"
      },
      "source": [
        "# Strings Have Length"
      ]
    },
    {
      "cell_type": "markdown",
      "metadata": {
        "id": "8Q67yZPzn2Jo",
        "colab_type": "text"
      },
      "source": [
        "karakter dizilerin içinde kaç öge olduğunu bulmak için len() fonksiyonunu kullanırız. Bu işleme uzunluğu bulma denir."
      ]
    },
    {
      "cell_type": "code",
      "metadata": {
        "id": "pFZ0aeozoJc4",
        "colab_type": "code",
        "colab": {
          "base_uri": "https://localhost:8080/",
          "height": 34
        },
        "outputId": "92a4017d-c178-472a-9444-254401efe148"
      },
      "source": [
        "fruit = 'banana'\n",
        "print(len(fruit))"
      ],
      "execution_count": 10,
      "outputs": [
        {
          "output_type": "stream",
          "text": [
            "6\n"
          ],
          "name": "stdout"
        }
      ]
    },
    {
      "cell_type": "markdown",
      "metadata": {
        "id": "C3-lfalaoxzw",
        "colab_type": "text"
      },
      "source": [
        "# Looping Through Strings"
      ]
    },
    {
      "cell_type": "code",
      "metadata": {
        "id": "TUqXEIcyo05P",
        "colab_type": "code",
        "colab": {
          "base_uri": "https://localhost:8080/",
          "height": 118
        },
        "outputId": "1f9f63f4-a87f-4f07-a468-0e4be519ac54"
      },
      "source": [
        "fruit = 'banana'\n",
        "index = 0\n",
        "while index < len(fruit):\n",
        "  letter = fruit[index]\n",
        "  print(index,letter)\n",
        "  index = index + 1"
      ],
      "execution_count": 11,
      "outputs": [
        {
          "output_type": "stream",
          "text": [
            "0 b\n",
            "1 a\n",
            "2 n\n",
            "3 a\n",
            "4 n\n",
            "5 a\n"
          ],
          "name": "stdout"
        }
      ]
    },
    {
      "cell_type": "markdown",
      "metadata": {
        "id": "JuAFDyMlpc7v",
        "colab_type": "text"
      },
      "source": [
        "her bir ögeye işlem yapmak istersek for döngüsünden yararlanırız."
      ]
    },
    {
      "cell_type": "code",
      "metadata": {
        "id": "A1e5VRSMphdf",
        "colab_type": "code",
        "colab": {
          "base_uri": "https://localhost:8080/",
          "height": 118
        },
        "outputId": "542fa6bf-2b5e-46b3-bc03-7c7e5f5001dc"
      },
      "source": [
        "fruit = 'banana'\n",
        "for letter in fruit:\n",
        "  print(letter)"
      ],
      "execution_count": 12,
      "outputs": [
        {
          "output_type": "stream",
          "text": [
            "b\n",
            "a\n",
            "n\n",
            "a\n",
            "n\n",
            "a\n"
          ],
          "name": "stdout"
        }
      ]
    },
    {
      "cell_type": "markdown",
      "metadata": {
        "id": "MtkydQMXp9OX",
        "colab_type": "text"
      },
      "source": [
        "# Looping and Counting"
      ]
    },
    {
      "cell_type": "markdown",
      "metadata": {
        "id": "w19g7qUAqNT3",
        "colab_type": "text"
      },
      "source": [
        "for döngüsünü kullanarak bir karakter dizindeki bir ögenin kaç defa geçtiğini öğrenelim.\n",
        "\n",
        "örneğin a"
      ]
    },
    {
      "cell_type": "code",
      "metadata": {
        "id": "YITkiB6tqTkn",
        "colab_type": "code",
        "colab": {
          "base_uri": "https://localhost:8080/",
          "height": 34
        },
        "outputId": "7fb5ac88-1473-42b7-881b-8790c04492c1"
      },
      "source": [
        "word = 'banana'\n",
        "count = 0\n",
        "for letter in word:\n",
        "  if letter == 'a':\n",
        "    count = count + 1\n",
        "print(count)"
      ],
      "execution_count": 13,
      "outputs": [
        {
          "output_type": "stream",
          "text": [
            "3\n"
          ],
          "name": "stdout"
        }
      ]
    }
  ]
}