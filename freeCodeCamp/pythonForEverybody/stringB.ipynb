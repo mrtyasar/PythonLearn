{
  "nbformat": 4,
  "nbformat_minor": 0,
  "metadata": {
    "colab": {
      "name": "stringB.ipynb",
      "provenance": [],
      "collapsed_sections": []
    },
    "kernelspec": {
      "name": "python3",
      "display_name": "Python 3"
    }
  },
  "cells": [
    {
      "cell_type": "markdown",
      "metadata": {
        "id": "BqwGYE6y4wlH",
        "colab_type": "text"
      },
      "source": [
        "# Intermediate Strings"
      ]
    },
    {
      "cell_type": "markdown",
      "metadata": {
        "id": "gR_3Regn5hw1",
        "colab_type": "text"
      },
      "source": [
        "# Dilimleme"
      ]
    },
    {
      "cell_type": "markdown",
      "metadata": {
        "id": "ItWZt_Et5jHe",
        "colab_type": "text"
      },
      "source": [
        "başlangıç ve son indeksini vererek bu aralıktaki ögelere erişim sağlayabilmemize dilimleme denir."
      ]
    },
    {
      "cell_type": "code",
      "metadata": {
        "id": "9a3cZdmfvLEW",
        "colab_type": "code",
        "colab": {
          "base_uri": "https://localhost:8080/",
          "height": 34
        },
        "outputId": "6bedf44b-ee8f-4d39-85c1-8523a3c32a52"
      },
      "source": [
        "s = 'Monty Python'\n",
        "print(s[0:4])"
      ],
      "execution_count": null,
      "outputs": [
        {
          "output_type": "stream",
          "text": [
            "Mont\n"
          ],
          "name": "stdout"
        }
      ]
    },
    {
      "cell_type": "code",
      "metadata": {
        "id": "srUscGHX5zhF",
        "colab_type": "code",
        "colab": {
          "base_uri": "https://localhost:8080/",
          "height": 34
        },
        "outputId": "97bdbe5d-4a08-4f68-f96a-7eab68888535"
      },
      "source": [
        "print(s[6:7])"
      ],
      "execution_count": null,
      "outputs": [
        {
          "output_type": "stream",
          "text": [
            "P\n"
          ],
          "name": "stdout"
        }
      ]
    },
    {
      "cell_type": "code",
      "metadata": {
        "id": "wTuMBoaL52R0",
        "colab_type": "code",
        "colab": {
          "base_uri": "https://localhost:8080/",
          "height": 34
        },
        "outputId": "29b81cfc-7846-4cee-ba54-f56dcf158e41"
      },
      "source": [
        "print(s[6:20])"
      ],
      "execution_count": null,
      "outputs": [
        {
          "output_type": "stream",
          "text": [
            "Python\n"
          ],
          "name": "stdout"
        }
      ]
    },
    {
      "cell_type": "markdown",
      "metadata": {
        "id": "5jnqmUx76Bac",
        "colab_type": "text"
      },
      "source": [
        "verilen son indeks tahmin edilmez. sadece 5 e kadar git ama dahil etme denir."
      ]
    },
    {
      "cell_type": "markdown",
      "metadata": {
        "id": "lrbXslSC6Vts",
        "colab_type": "text"
      },
      "source": [
        "# Slicing Strings"
      ]
    },
    {
      "cell_type": "markdown",
      "metadata": {
        "id": "5OWonLI_6kv1",
        "colab_type": "text"
      },
      "source": [
        "dilimlemenin ilk veya son indeks numarasını yazmazsak, ilk indeksini yazmadıysan değerin ilk indeksini, son indeksini yazmadıysak son indeksini baz alır."
      ]
    },
    {
      "cell_type": "code",
      "metadata": {
        "id": "RvN0gjy16tFt",
        "colab_type": "code",
        "colab": {
          "base_uri": "https://localhost:8080/",
          "height": 50
        },
        "outputId": "d9b45fee-ad12-41f5-cad1-0f34fa9818c0"
      },
      "source": [
        "s = 'Month Python'\n",
        "print(s[:2])\n",
        "\n",
        "print(s[8:])"
      ],
      "execution_count": null,
      "outputs": [
        {
          "output_type": "stream",
          "text": [
            "Mo\n",
            "thon\n"
          ],
          "name": "stdout"
        }
      ]
    },
    {
      "cell_type": "markdown",
      "metadata": {
        "id": "RdHMSbg365pc",
        "colab_type": "text"
      },
      "source": [
        "Eğer hiçbir indeks numarası yazmazsak tüm değeri alır."
      ]
    },
    {
      "cell_type": "code",
      "metadata": {
        "id": "ogFxyZz769RV",
        "colab_type": "code",
        "colab": {
          "base_uri": "https://localhost:8080/",
          "height": 34
        },
        "outputId": "ed6af6c2-31a1-48a7-81c9-73488e79360c"
      },
      "source": [
        "print(s[:])"
      ],
      "execution_count": null,
      "outputs": [
        {
          "output_type": "stream",
          "text": [
            "Month Python\n"
          ],
          "name": "stdout"
        }
      ]
    },
    {
      "cell_type": "markdown",
      "metadata": {
        "id": "r8nz91gM7VGt",
        "colab_type": "text"
      },
      "source": [
        "# String Concatenation"
      ]
    },
    {
      "cell_type": "markdown",
      "metadata": {
        "id": "UVkXNsVF7XkO",
        "colab_type": "text"
      },
      "source": [
        "\"+\" operatörü karakter dizilerinde birleştirme işlemi yapar.\n",
        "\n",
        "Fakat bu birleştirmede her iki değerin ortasına boşluk koymaz. Bu yüzden ya bir değerin yanına boşluk koyulacak yada ortalarına boşluk içeren bir karakter dizisi koyulacak."
      ]
    },
    {
      "cell_type": "code",
      "metadata": {
        "id": "eYEXNKxd7oal",
        "colab_type": "code",
        "colab": {
          "base_uri": "https://localhost:8080/",
          "height": 34
        },
        "outputId": "ee1d69a5-da56-48d8-c8a5-d7026dc88336"
      },
      "source": [
        "a = 'Hello'\n",
        "b = a + 'There'\n",
        "print(b)"
      ],
      "execution_count": null,
      "outputs": [
        {
          "output_type": "stream",
          "text": [
            "HelloThere\n"
          ],
          "name": "stdout"
        }
      ]
    },
    {
      "cell_type": "code",
      "metadata": {
        "id": "0p-YbNpt7wcs",
        "colab_type": "code",
        "colab": {
          "base_uri": "https://localhost:8080/",
          "height": 34
        },
        "outputId": "3345c422-c573-4cf8-91cb-2aa073a86de8"
      },
      "source": [
        "c = a + ' ' + 'There'\n",
        "print(c)"
      ],
      "execution_count": null,
      "outputs": [
        {
          "output_type": "stream",
          "text": [
            "Hello There\n"
          ],
          "name": "stdout"
        }
      ]
    },
    {
      "cell_type": "markdown",
      "metadata": {
        "id": "IjB405hD79Fe",
        "colab_type": "text"
      },
      "source": [
        "# Using \"in\" as a logical Operator"
      ]
    },
    {
      "cell_type": "markdown",
      "metadata": {
        "id": "QE7zf72Y8QAV",
        "colab_type": "text"
      },
      "source": [
        "in operatörü for döngüsünde kullanıldığı gibi aradığımız bir ögenin bir değerin içinde bulunup bulunmadığını kontrol etmek içinde kullanabaliriz.\n",
        "\n",
        "Örneğin a ögesi laptop dizisinde var mı?\n",
        "\n",
        "bu sorunun cevabı sadece evet veya hayır olduğu için in operatörü de sadece boolean değer döndürür: True veya False."
      ]
    },
    {
      "cell_type": "code",
      "metadata": {
        "id": "G_1rSHNb81n1",
        "colab_type": "code",
        "colab": {
          "base_uri": "https://localhost:8080/",
          "height": 84
        },
        "outputId": "836e0763-cea0-4b8f-d68f-608d9d35681f"
      },
      "source": [
        "fruit = 'banana'\n",
        "print('a' in fruit)\n",
        "\n",
        "print('m' in fruit)\n",
        "\n",
        "print('nan' in fruit)\n",
        "\n",
        "if 'a' in fruit:\n",
        "  print('Found it!')"
      ],
      "execution_count": null,
      "outputs": [
        {
          "output_type": "stream",
          "text": [
            "True\n",
            "False\n",
            "True\n",
            "Found it!\n"
          ],
          "name": "stdout"
        }
      ]
    },
    {
      "cell_type": "markdown",
      "metadata": {
        "id": "Z0zkSeMz9p_G",
        "colab_type": "text"
      },
      "source": [
        "# String Library"
      ]
    },
    {
      "cell_type": "markdown",
      "metadata": {
        "id": "82dWPjto-Oy1",
        "colab_type": "text"
      },
      "source": [
        "String veri tipine özel Python'da yerleşik olarka bulunan bazı fonksiyonlar vardır.\n",
        "\n",
        "Bunları karakter dizisin üzerine kullanarak karakter dizimizin üzerinde değişiklikler yapabiliriz.\n",
        "\n",
        "fakat bu işlemler çoğunlukla kalıcı değildir, eğer kalıcı olmasını istiyorsak yeni bir değişkene atamamız lazım."
      ]
    },
    {
      "cell_type": "code",
      "metadata": {
        "id": "ipkZUgMU-hny",
        "colab_type": "code",
        "colab": {
          "base_uri": "https://localhost:8080/",
          "height": 67
        },
        "outputId": "6dca695f-911e-478a-96be-e552bb09ed57"
      },
      "source": [
        "greet = 'Hello Bob'\n",
        "zap = greet.lower() # tüm harfleri küçük harfe çevirir\n",
        "print(zap)\n",
        "# karakter dizimize bir şey olmadı\n",
        "print(greet)\n",
        "print('Hi There'.lower())"
      ],
      "execution_count": null,
      "outputs": [
        {
          "output_type": "stream",
          "text": [
            "hello bob\n",
            "Hello Bob\n",
            "hi there\n"
          ],
          "name": "stdout"
        }
      ]
    },
    {
      "cell_type": "code",
      "metadata": {
        "id": "_hqhuMll_YDc",
        "colab_type": "code",
        "colab": {
          "base_uri": "https://localhost:8080/",
          "height": 34
        },
        "outputId": "d6b0bd79-51ff-47ac-e7d4-df7457cfdf55"
      },
      "source": [
        "stuff = 'Hello world'\n",
        "print(type(stuff))"
      ],
      "execution_count": null,
      "outputs": [
        {
          "output_type": "stream",
          "text": [
            "<class 'str'>\n"
          ],
          "name": "stdout"
        }
      ]
    },
    {
      "cell_type": "markdown",
      "metadata": {
        "id": "5_gc_hCe_dLK",
        "colab_type": "text"
      },
      "source": [
        "Bir değere uyguyalabileceğimiz tüm methodları öğrenmek için dir() fonksiyonundan yararlanırız."
      ]
    },
    {
      "cell_type": "code",
      "metadata": {
        "id": "K6Bxxn-y_k0k",
        "colab_type": "code",
        "colab": {
          "base_uri": "https://localhost:8080/",
          "height": 1000
        },
        "outputId": "1f2b8976-bfb1-4045-f1da-bf21773ccc57"
      },
      "source": [
        "dir(stuff)"
      ],
      "execution_count": null,
      "outputs": [
        {
          "output_type": "execute_result",
          "data": {
            "text/plain": [
              "['__add__',\n",
              " '__class__',\n",
              " '__contains__',\n",
              " '__delattr__',\n",
              " '__dir__',\n",
              " '__doc__',\n",
              " '__eq__',\n",
              " '__format__',\n",
              " '__ge__',\n",
              " '__getattribute__',\n",
              " '__getitem__',\n",
              " '__getnewargs__',\n",
              " '__gt__',\n",
              " '__hash__',\n",
              " '__init__',\n",
              " '__init_subclass__',\n",
              " '__iter__',\n",
              " '__le__',\n",
              " '__len__',\n",
              " '__lt__',\n",
              " '__mod__',\n",
              " '__mul__',\n",
              " '__ne__',\n",
              " '__new__',\n",
              " '__reduce__',\n",
              " '__reduce_ex__',\n",
              " '__repr__',\n",
              " '__rmod__',\n",
              " '__rmul__',\n",
              " '__setattr__',\n",
              " '__sizeof__',\n",
              " '__str__',\n",
              " '__subclasshook__',\n",
              " 'capitalize',\n",
              " 'casefold',\n",
              " 'center',\n",
              " 'count',\n",
              " 'encode',\n",
              " 'endswith',\n",
              " 'expandtabs',\n",
              " 'find',\n",
              " 'format',\n",
              " 'format_map',\n",
              " 'index',\n",
              " 'isalnum',\n",
              " 'isalpha',\n",
              " 'isdecimal',\n",
              " 'isdigit',\n",
              " 'isidentifier',\n",
              " 'islower',\n",
              " 'isnumeric',\n",
              " 'isprintable',\n",
              " 'isspace',\n",
              " 'istitle',\n",
              " 'isupper',\n",
              " 'join',\n",
              " 'ljust',\n",
              " 'lower',\n",
              " 'lstrip',\n",
              " 'maketrans',\n",
              " 'partition',\n",
              " 'replace',\n",
              " 'rfind',\n",
              " 'rindex',\n",
              " 'rjust',\n",
              " 'rpartition',\n",
              " 'rsplit',\n",
              " 'rstrip',\n",
              " 'split',\n",
              " 'splitlines',\n",
              " 'startswith',\n",
              " 'strip',\n",
              " 'swapcase',\n",
              " 'title',\n",
              " 'translate',\n",
              " 'upper',\n",
              " 'zfill']"
            ]
          },
          "metadata": {
            "tags": []
          },
          "execution_count": 18
        }
      ]
    },
    {
      "cell_type": "markdown",
      "metadata": {
        "id": "LwRyNM5lAcy-",
        "colab_type": "text"
      },
      "source": [
        "# Searching a String"
      ]
    },
    {
      "cell_type": "markdown",
      "metadata": {
        "id": "Hm-FgrNAA-al",
        "colab_type": "text"
      },
      "source": [
        "find() methodu ile ögelerin hangi indexe sahip olduğunu bulabiliriz.\n",
        "\n",
        "eğer olmayan bir ögeye aratmaya çalışırsak -1 değeri döndürülür."
      ]
    },
    {
      "cell_type": "code",
      "metadata": {
        "id": "Q3I2nGZABLNk",
        "colab_type": "code",
        "colab": {
          "base_uri": "https://localhost:8080/",
          "height": 34
        },
        "outputId": "1d907c74-8f76-4bc0-9d85-c580757c7b88"
      },
      "source": [
        "fruit = 'banana'\n",
        "pos = fruit.find('na')\n",
        "print(pos)"
      ],
      "execution_count": null,
      "outputs": [
        {
          "output_type": "stream",
          "text": [
            "2\n"
          ],
          "name": "stdout"
        }
      ]
    },
    {
      "cell_type": "code",
      "metadata": {
        "id": "kaRMis5ABSBN",
        "colab_type": "code",
        "colab": {
          "base_uri": "https://localhost:8080/",
          "height": 34
        },
        "outputId": "4c0008e6-a9da-4a05-cb35-f80c06e5f066"
      },
      "source": [
        "aa = fruit.find('z')\n",
        "print(aa)"
      ],
      "execution_count": null,
      "outputs": [
        {
          "output_type": "stream",
          "text": [
            "-1\n"
          ],
          "name": "stdout"
        }
      ]
    },
    {
      "cell_type": "markdown",
      "metadata": {
        "id": "SgC7zhIHBZ2-",
        "colab_type": "text"
      },
      "source": [
        "# Making everything Upper Case"
      ]
    },
    {
      "cell_type": "markdown",
      "metadata": {
        "id": "VMtQeAyAB1v0",
        "colab_type": "text"
      },
      "source": [
        "harfleri küçültmek için lower() methodunu, \n",
        "\n",
        "harfleri büyütmek için upper() methodunu kullanırız."
      ]
    },
    {
      "cell_type": "code",
      "metadata": {
        "id": "cxt9STukB_Ry",
        "colab_type": "code",
        "colab": {
          "base_uri": "https://localhost:8080/",
          "height": 34
        },
        "outputId": "d1b6b9f1-5193-4ae9-d6ff-2c93f66ce7c9"
      },
      "source": [
        "name = 'Jack Ma'\n",
        "nn = name.lower()\n",
        "print(nn)"
      ],
      "execution_count": null,
      "outputs": [
        {
          "output_type": "stream",
          "text": [
            "jack ma\n"
          ],
          "name": "stdout"
        }
      ]
    },
    {
      "cell_type": "code",
      "metadata": {
        "id": "QhlDGiLfCHwl",
        "colab_type": "code",
        "colab": {
          "base_uri": "https://localhost:8080/",
          "height": 34
        },
        "outputId": "9baa96e7-72cc-4b2b-8651-4e743eb94bd7"
      },
      "source": [
        "name = 'jack ma'\n",
        "mm = name.upper()\n",
        "print(mm)"
      ],
      "execution_count": null,
      "outputs": [
        {
          "output_type": "stream",
          "text": [
            "JACK MA\n"
          ],
          "name": "stdout"
        }
      ]
    },
    {
      "cell_type": "markdown",
      "metadata": {
        "id": "MWnR4lDHi8Ql",
        "colab_type": "text"
      },
      "source": [
        "# Search and Replace"
      ]
    },
    {
      "cell_type": "markdown",
      "metadata": {
        "id": "aGQ8nFeEjUOG",
        "colab_type": "text"
      },
      "source": [
        "replace() methodu karakter dizisindeki ögeleri değiştirebilmemizi yarayan bir yapıdır."
      ]
    },
    {
      "cell_type": "code",
      "metadata": {
        "id": "dQBKZ0q5jT7O",
        "colab_type": "code",
        "colab": {
          "base_uri": "https://localhost:8080/",
          "height": 34
        },
        "outputId": "34df447f-2cbf-4ac9-fb8d-ce4cd674e137"
      },
      "source": [
        "greet = 'Hello Bob'\n",
        "nstr = greet.replace('Bob','Jane')\n",
        "print(nstr)"
      ],
      "execution_count": 1,
      "outputs": [
        {
          "output_type": "stream",
          "text": [
            "Hello Jane\n"
          ],
          "name": "stdout"
        }
      ]
    },
    {
      "cell_type": "code",
      "metadata": {
        "id": "t9N5MroVjyBd",
        "colab_type": "code",
        "colab": {
          "base_uri": "https://localhost:8080/",
          "height": 34
        },
        "outputId": "3de9aa11-ec59-444d-b3f1-badb22e23329"
      },
      "source": [
        "nstr = greet.replace('o','x')\n",
        "print(nstr)"
      ],
      "execution_count": 2,
      "outputs": [
        {
          "output_type": "stream",
          "text": [
            "Hellx Bxb\n"
          ],
          "name": "stdout"
        }
      ]
    },
    {
      "cell_type": "markdown",
      "metadata": {
        "id": "__BpTGIDj31d",
        "colab_type": "text"
      },
      "source": [
        "replace() methodunun syntax yapısı"
      ]
    },
    {
      "cell_type": "code",
      "metadata": {
        "id": "zE5QQegdj6t9",
        "colab_type": "code",
        "colab": {}
      },
      "source": [
        "işlemyapılacaköge.replace('değiştirelecek öge','yeni öge')"
      ],
      "execution_count": null,
      "outputs": []
    },
    {
      "cell_type": "markdown",
      "metadata": {
        "id": "x9VAUilxkUMX",
        "colab_type": "text"
      },
      "source": [
        "# Stripping Whitespace"
      ]
    },
    {
      "cell_type": "markdown",
      "metadata": {
        "id": "Z-HU0cJ8lEWf",
        "colab_type": "text"
      },
      "source": [
        "Karakter dizimizin sağındaki ve solundaki boşlukları kaldırmak için strip() modülünü kullanırız.\n",
        "\n",
        "rstrip() methodu sağ kısımda boşluk varsa, lstrip() methodu soldaki boşluk kısmını veya strip() methodu sağ ve solunda boşlukları siler."
      ]
    },
    {
      "cell_type": "code",
      "metadata": {
        "id": "UxBIHuyHlXFG",
        "colab_type": "code",
        "colab": {
          "base_uri": "https://localhost:8080/",
          "height": 84
        },
        "outputId": "ca9b6c66-b4b8-4bde-c719-613cf7439528"
      },
      "source": [
        "greet = '  Hello Bob  '\n",
        "print(greet.lstrip())\n",
        "print(greet)\n",
        "print(greet.rstrip())\n",
        "print(greet.strip())"
      ],
      "execution_count": 9,
      "outputs": [
        {
          "output_type": "stream",
          "text": [
            "Hello Bob  \n",
            "  Hello Bob  \n",
            "  Hello Bob\n",
            "Hello Bob\n"
          ],
          "name": "stdout"
        }
      ]
    },
    {
      "cell_type": "markdown",
      "metadata": {
        "id": "eOo3DNCEmobB",
        "colab_type": "text"
      },
      "source": [
        "# Prefixes"
      ]
    },
    {
      "cell_type": "markdown",
      "metadata": {
        "id": "yCrJWoi4mq69",
        "colab_type": "text"
      },
      "source": [
        "startswith() methodu bir karakter dizisinin başlama ile başlamadığını gösterir."
      ]
    },
    {
      "cell_type": "code",
      "metadata": {
        "id": "TeVb_SB8m61b",
        "colab_type": "code",
        "colab": {
          "base_uri": "https://localhost:8080/",
          "height": 50
        },
        "outputId": "743578fa-5522-401f-ffda-64511c324c56"
      },
      "source": [
        "line = 'Please have a nice day'\n",
        "print(line.startswith('Please'))\n",
        "print(line.startswith('p'))"
      ],
      "execution_count": 12,
      "outputs": [
        {
          "output_type": "stream",
          "text": [
            "True\n",
            "False\n"
          ],
          "name": "stdout"
        }
      ]
    },
    {
      "cell_type": "markdown",
      "metadata": {
        "id": "dFySogkwnqyI",
        "colab_type": "text"
      },
      "source": [
        "# Parsing and Extracting"
      ]
    },
    {
      "cell_type": "markdown",
      "metadata": {
        "id": "mmLTfizSoAIi",
        "colab_type": "text"
      },
      "source": [
        "fing() methodunu kullanarak aradığımız ögenin karakter dizinin kaçıncı sırada olduğunu bulabiliriz."
      ]
    },
    {
      "cell_type": "code",
      "metadata": {
        "id": "TPnAouLHnutS",
        "colab_type": "code",
        "colab": {
          "base_uri": "https://localhost:8080/",
          "height": 50
        },
        "outputId": "63730242-59bd-469e-d006-425498862f2f"
      },
      "source": [
        "data = 'From stephen.marguard@uct.ac.za Sat Jan 5 09:14:16 2008'\n",
        "atpos = data.find('@')\n",
        "print(atpos)\n",
        "sppos = data.find(' ',atpos)\n",
        "print(sppos)"
      ],
      "execution_count": 15,
      "outputs": [
        {
          "output_type": "stream",
          "text": [
            "21\n",
            "31\n"
          ],
          "name": "stdout"
        }
      ]
    },
    {
      "cell_type": "markdown",
      "metadata": {
        "id": "NUM7UOWcpDBw",
        "colab_type": "text"
      },
      "source": [
        "find() methodu iki parametre alır. Bunlardan biri aramak istediğimiz öge diğeri ise başlayacağımız indeks veya yer.\n",
        "\n",
        "find(arananOge,baslanacakYer)"
      ]
    },
    {
      "cell_type": "code",
      "metadata": {
        "id": "4Ou2vI3bocey",
        "colab_type": "code",
        "colab": {
          "base_uri": "https://localhost:8080/",
          "height": 34
        },
        "outputId": "ce8d6df8-a4e2-49f3-a8f0-df65440221b4"
      },
      "source": [
        "host = data[atpos+1:sppos]\n",
        "print(host)"
      ],
      "execution_count": 18,
      "outputs": [
        {
          "output_type": "stream",
          "text": [
            "uct.ac.za\n"
          ],
          "name": "stdout"
        }
      ]
    },
    {
      "cell_type": "markdown",
      "metadata": {
        "id": "7M_hy11xpldV",
        "colab_type": "text"
      },
      "source": [
        "Eğer bir öge bulunmazsa değer olarak -1 döndürülür."
      ]
    },
    {
      "cell_type": "markdown",
      "metadata": {
        "id": "Fz2MfoPFqNik",
        "colab_type": "text"
      },
      "source": [
        "# Summary"
      ]
    },
    {
      "cell_type": "markdown",
      "metadata": {
        "id": "545_68-KqPwq",
        "colab_type": "text"
      },
      "source": [
        "- String type\n",
        "- Read/Convert\n",
        "- ındexing strings []\n",
        "- Slicing strings [2:4]\n",
        "- Looping through strings with for and while\n",
        "- Concatenating strings wtih '+'\n",
        "- String operations\n",
        "- String library\n",
        "- String Comparisons\n",
        "- Searching in strings\n",
        "- Replacing text\n",
        "- Stripping white space"
      ]
    },
    {
      "cell_type": "markdown",
      "metadata": {
        "id": "zlLImDEDqtUs",
        "colab_type": "text"
      },
      "source": [
        "# Exercise"
      ]
    },
    {
      "cell_type": "markdown",
      "metadata": {
        "id": "JbrZAxQ8rB6f",
        "colab_type": "text"
      },
      "source": [
        "Use find and string slicing to extract the portion of the string after the colon character and then use the float function to convert the extracted string into a floating point number."
      ]
    },
    {
      "cell_type": "code",
      "metadata": {
        "id": "zIbH25lvrDs7",
        "colab_type": "code",
        "colab": {
          "base_uri": "https://localhost:8080/",
          "height": 50
        },
        "outputId": "e514160c-7465-419d-8321-39fb57d37656"
      },
      "source": [
        "str1 = 'X-DSPAM-Confidence: 0.8475'\n",
        "m = str1.find(':')\n",
        "mn = str1[m+1:]\n",
        "value = float(mn)\n",
        "print(value)\n",
        "print(value+45.8)"
      ],
      "execution_count": 30,
      "outputs": [
        {
          "output_type": "stream",
          "text": [
            "0.8475\n",
            "46.647499999999994\n"
          ],
          "name": "stdout"
        }
      ]
    }
  ]
}