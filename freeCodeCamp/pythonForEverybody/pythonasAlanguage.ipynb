{
  "nbformat": 4,
  "nbformat_minor": 0,
  "metadata": {
    "colab": {
      "name": "pythonasAlanguage.ipynb",
      "provenance": []
    },
    "kernelspec": {
      "name": "python3",
      "display_name": "Python 3"
    }
  },
  "cells": [
    {
      "cell_type": "markdown",
      "metadata": {
        "id": "s5cwzBxCZd6A",
        "colab_type": "text"
      },
      "source": [
        "# PYTHON"
      ]
    },
    {
      "cell_type": "markdown",
      "metadata": {
        "id": "cR4kF3ngZfwV",
        "colab_type": "text"
      },
      "source": [
        "Python diğer dillerin yapacağı işleri daha kısa kod yazarak halledebildiğimizden, öğrenmesi zevkli ve kolay olduğundan şuan Dünya'nın en popüler dillerinden biridir.\n",
        "\n",
        "Python hem kolay öğrenilebilir hem işlemleri daha kısa kodlarla halledebilir hem de çok yönlüdür.\n",
        "\n",
        "Örneğin python popüler olarak AI alanında kullanılır; veri bilimi, makine öğrenmesi. veya python ile oyun yazabiliriz, siber güvenlik alanında uygulamalar yazabiliriz veya blockchain dünyasında kullanabiliriz.\n",
        "\n",
        "Bu yüzden Python özellikleriyle özellikle güçlü bir dil olmasından dolayı gelecekte sıkça kullanılacak dillerin başında gelir."
      ]
    },
    {
      "cell_type": "markdown",
      "metadata": {
        "id": "6yIQy8uWaLeP",
        "colab_type": "text"
      },
      "source": [
        "python'nun versiyonunu öğrenmek için Windows 10 işletim sisteminde terminali açarak 'python3' diyerek öğrenebiliriz.\n",
        "\n",
        "aynı şekilde Linux dağıtımlarında da python3 diyerek hangi sürümün bilgisayarımızda kurulu olduğunu öğreniriz."
      ]
    },
    {
      "cell_type": "code",
      "metadata": {
        "id": "k2zOAtWFac4V",
        "colab_type": "code",
        "colab": {}
      },
      "source": [
        "x = 1 # x adlı değişkenin içine 1 ekledik"
      ],
      "execution_count": 2,
      "outputs": []
    },
    {
      "cell_type": "code",
      "metadata": {
        "id": "bDd3-JzRaiOV",
        "colab_type": "code",
        "colab": {
          "base_uri": "https://localhost:8080/",
          "height": 34
        },
        "outputId": "fc3c9bed-5fc3-4f85-c7fc-60ffe50b76c3"
      },
      "source": [
        "x = x + 1 # x değişkenin değerini 1 ile topla sonra x değişkenin içine at\n",
        "print(x) # x değişkenini ekrana yazdır"
      ],
      "execution_count": 3,
      "outputs": [
        {
          "output_type": "stream",
          "text": [
            "2\n"
          ],
          "name": "stdout"
        }
      ]
    },
    {
      "cell_type": "markdown",
      "metadata": {
        "id": "THNce06fatg0",
        "colab_type": "text"
      },
      "source": [
        "python kabuğundan çıkmak için bu komutu yazmamız yeterlidir."
      ]
    },
    {
      "cell_type": "code",
      "metadata": {
        "id": "YY_q-lk2ayVc",
        "colab_type": "code",
        "colab": {}
      },
      "source": [
        "exit()"
      ],
      "execution_count": null,
      "outputs": []
    }
  ]
}