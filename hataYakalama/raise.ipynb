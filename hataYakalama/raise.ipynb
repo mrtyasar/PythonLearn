{
  "nbformat": 4,
  "nbformat_minor": 0,
  "metadata": {
    "colab": {
      "name": "raise.ipynb",
      "provenance": []
    },
    "kernelspec": {
      "name": "python3",
      "display_name": "Python 3"
    }
  },
  "cells": [
    {
      "cell_type": "markdown",
      "metadata": {
        "id": "t8GGvxRIDSKP",
        "colab_type": "text"
      },
      "source": [
        "# raise"
      ]
    },
    {
      "cell_type": "markdown",
      "metadata": {
        "id": "rTSXItZ4C2mI",
        "colab_type": "text"
      },
      "source": [
        "programımız hata üretmiyorsa eğer, kullanıcıya raise deyimi sayesinde python tarzı bir hata gösterebiliriz:"
      ]
    },
    {
      "cell_type": "code",
      "metadata": {
        "id": "IEijna3vDVRF",
        "colab_type": "code",
        "colab": {
          "base_uri": "https://localhost:8080/",
          "height": 245
        },
        "outputId": "d5ace8ee-0efd-4d9c-a29a-5b425aa38e98"
      },
      "source": [
        "bolunen = int(input(\"Bölünecek sayı: \"))\n",
        "if bolunen == 23:\n",
        "  raise Exception(\"Bu programda 23 sayısını görmek istemiyorum!\")\n",
        "bolen = int(input(\"Bölünecek sayı: \"))\n",
        "print(bolunen/bolen)"
      ],
      "execution_count": 2,
      "outputs": [
        {
          "output_type": "stream",
          "text": [
            "Bölünecek sayı: 23\n"
          ],
          "name": "stdout"
        },
        {
          "output_type": "error",
          "ename": "Exception",
          "evalue": "ignored",
          "traceback": [
            "\u001b[0;31m---------------------------------------------------------------------------\u001b[0m",
            "\u001b[0;31mException\u001b[0m                                 Traceback (most recent call last)",
            "\u001b[0;32m<ipython-input-2-9c9bdb2d028d>\u001b[0m in \u001b[0;36m<module>\u001b[0;34m()\u001b[0m\n\u001b[1;32m      1\u001b[0m \u001b[0mbolunen\u001b[0m \u001b[0;34m=\u001b[0m \u001b[0mint\u001b[0m\u001b[0;34m(\u001b[0m\u001b[0minput\u001b[0m\u001b[0;34m(\u001b[0m\u001b[0;34m\"Bölünecek sayı: \"\u001b[0m\u001b[0;34m)\u001b[0m\u001b[0;34m)\u001b[0m\u001b[0;34m\u001b[0m\u001b[0;34m\u001b[0m\u001b[0m\n\u001b[1;32m      2\u001b[0m \u001b[0;32mif\u001b[0m \u001b[0mbolunen\u001b[0m \u001b[0;34m==\u001b[0m \u001b[0;36m23\u001b[0m\u001b[0;34m:\u001b[0m\u001b[0;34m\u001b[0m\u001b[0;34m\u001b[0m\u001b[0m\n\u001b[0;32m----> 3\u001b[0;31m   \u001b[0;32mraise\u001b[0m \u001b[0mException\u001b[0m\u001b[0;34m(\u001b[0m\u001b[0;34m\"Bu programda 23 sayısını görmek istemiyorum!\"\u001b[0m\u001b[0;34m)\u001b[0m\u001b[0;34m\u001b[0m\u001b[0;34m\u001b[0m\u001b[0m\n\u001b[0m\u001b[1;32m      4\u001b[0m \u001b[0mbolen\u001b[0m \u001b[0;34m=\u001b[0m \u001b[0mint\u001b[0m\u001b[0;34m(\u001b[0m\u001b[0minput\u001b[0m\u001b[0;34m(\u001b[0m\u001b[0;34m\"Bölünecek sayı: \"\u001b[0m\u001b[0;34m)\u001b[0m\u001b[0;34m)\u001b[0m\u001b[0;34m\u001b[0m\u001b[0;34m\u001b[0m\u001b[0m\n\u001b[1;32m      5\u001b[0m \u001b[0mprint\u001b[0m\u001b[0;34m(\u001b[0m\u001b[0mbolunen\u001b[0m\u001b[0;34m/\u001b[0m\u001b[0mbolen\u001b[0m\u001b[0;34m)\u001b[0m\u001b[0;34m\u001b[0m\u001b[0;34m\u001b[0m\u001b[0m\n",
            "\u001b[0;31mException\u001b[0m: Bu programda 23 sayısını görmek istemiyorum!"
          ]
        }
      ]
    },
    {
      "cell_type": "markdown",
      "metadata": {
        "id": "7lHffjJWENwj",
        "colab_type": "text"
      },
      "source": [
        "eğer kullanıcı 23 sayısını girerse hata mesajı verilecek\n",
        "23 dışında bir sayı girdiğinde ise bir sonraki kodlar çalışacak."
      ]
    },
    {
      "cell_type": "markdown",
      "metadata": {
        "id": "TLH-NPOhEoPC",
        "colab_type": "text"
      },
      "source": [
        "Dikkat edilmesi gereken yer ise Exception kelimesidir. Çünkü bu kelime yerine istediğimiz kelimeyi yazamayız, ancak ön tanımlı hata mesajlarını yazabiliriz: TypeError, ValueError gibi."
      ]
    },
    {
      "cell_type": "markdown",
      "metadata": {
        "id": "gr8JkRc5E5SN",
        "colab_type": "text"
      },
      "source": [
        "Parola belirlenirken Türkçe karakter kullanılmasını engelleyen bir program yazalım:"
      ]
    },
    {
      "cell_type": "code",
      "metadata": {
        "id": "N9q9omoiFEA3",
        "colab_type": "code",
        "colab": {
          "base_uri": "https://localhost:8080/",
          "height": 245
        },
        "outputId": "ee27a387-2fa2-4c0d-81d4-eeea73c4e2d4"
      },
      "source": [
        "trKarakterler = \"şçğüöıİ\"\n",
        "parola = input(\"Parolanızı belirleyeniz: \")\n",
        "for i in parola: \n",
        "  if i in trKarakterler:\n",
        "    raise TypeError(\"Parolada Türkçe karakter kullanılmaz!\")\n",
        "  else:\n",
        "    pass\n",
        "print(\"Parola kabul edildi!\")    "
      ],
      "execution_count": 3,
      "outputs": [
        {
          "output_type": "stream",
          "text": [
            "Parolanızı belirleyeniz: şççğğ\n"
          ],
          "name": "stdout"
        },
        {
          "output_type": "error",
          "ename": "TypeError",
          "evalue": "ignored",
          "traceback": [
            "\u001b[0;31m---------------------------------------------------------------------------\u001b[0m",
            "\u001b[0;31mTypeError\u001b[0m                                 Traceback (most recent call last)",
            "\u001b[0;32m<ipython-input-3-6969ce2f3b7a>\u001b[0m in \u001b[0;36m<module>\u001b[0;34m()\u001b[0m\n\u001b[1;32m      3\u001b[0m \u001b[0;32mfor\u001b[0m \u001b[0mi\u001b[0m \u001b[0;32min\u001b[0m \u001b[0mparola\u001b[0m\u001b[0;34m:\u001b[0m\u001b[0;34m\u001b[0m\u001b[0;34m\u001b[0m\u001b[0m\n\u001b[1;32m      4\u001b[0m   \u001b[0;32mif\u001b[0m \u001b[0mi\u001b[0m \u001b[0;32min\u001b[0m \u001b[0mtrKarakterler\u001b[0m\u001b[0;34m:\u001b[0m\u001b[0;34m\u001b[0m\u001b[0;34m\u001b[0m\u001b[0m\n\u001b[0;32m----> 5\u001b[0;31m     \u001b[0;32mraise\u001b[0m \u001b[0mTypeError\u001b[0m\u001b[0;34m(\u001b[0m\u001b[0;34m\"Parolada Türkçe karakter kullanılmaz!\"\u001b[0m\u001b[0;34m)\u001b[0m\u001b[0;34m\u001b[0m\u001b[0;34m\u001b[0m\u001b[0m\n\u001b[0m\u001b[1;32m      6\u001b[0m   \u001b[0;32melse\u001b[0m\u001b[0;34m:\u001b[0m\u001b[0;34m\u001b[0m\u001b[0;34m\u001b[0m\u001b[0m\n\u001b[1;32m      7\u001b[0m     \u001b[0;32mpass\u001b[0m\u001b[0;34m\u001b[0m\u001b[0;34m\u001b[0m\u001b[0m\n",
            "\u001b[0;31mTypeError\u001b[0m: Parolada Türkçe karakter kullanılmaz!"
          ]
        }
      ]
    },
    {
      "cell_type": "markdown",
      "metadata": {
        "id": "RlHHKAddFsPm",
        "colab_type": "text"
      },
      "source": [
        "raise deyimini öntanımlı hataların açıklamalarını yazdırmak için de kullanabiliriz: "
      ]
    },
    {
      "cell_type": "code",
      "metadata": {
        "id": "0DtcTar1FygX",
        "colab_type": "code",
        "colab": {
          "base_uri": "https://localhost:8080/",
          "height": 278
        },
        "outputId": "5986f5cf-71ec-4477-98a7-507df22518ca"
      },
      "source": [
        "try:\n",
        "  bolunenOne = int(input(\"Bölünecek sayısını giriniz: \"))\n",
        "  bolen = int(input(\"Bolünecek sayıyı giriniz: \"))\n",
        "  print(bolunenOne/bolen)\n",
        "except ZeroDivisionError:\n",
        "  print(\"Bir sayıyı 0'a bölemezsiniz!\")\n",
        "  raise\n"
      ],
      "execution_count": 8,
      "outputs": [
        {
          "output_type": "stream",
          "text": [
            "Bölünecek sayısını giriniz: 20\n",
            "Bolünecek sayıyı giriniz: 0\n",
            "Bir sayıyı 0'a bölemezsiniz!\n"
          ],
          "name": "stdout"
        },
        {
          "output_type": "error",
          "ename": "ZeroDivisionError",
          "evalue": "ignored",
          "traceback": [
            "\u001b[0;31m---------------------------------------------------------------------------\u001b[0m",
            "\u001b[0;31mZeroDivisionError\u001b[0m                         Traceback (most recent call last)",
            "\u001b[0;32m<ipython-input-8-e583f9b0409a>\u001b[0m in \u001b[0;36m<module>\u001b[0;34m()\u001b[0m\n\u001b[1;32m      2\u001b[0m   \u001b[0mbolunenOne\u001b[0m \u001b[0;34m=\u001b[0m \u001b[0mint\u001b[0m\u001b[0;34m(\u001b[0m\u001b[0minput\u001b[0m\u001b[0;34m(\u001b[0m\u001b[0;34m\"Bölünecek sayısını giriniz: \"\u001b[0m\u001b[0;34m)\u001b[0m\u001b[0;34m)\u001b[0m\u001b[0;34m\u001b[0m\u001b[0;34m\u001b[0m\u001b[0m\n\u001b[1;32m      3\u001b[0m   \u001b[0mbolen\u001b[0m \u001b[0;34m=\u001b[0m \u001b[0mint\u001b[0m\u001b[0;34m(\u001b[0m\u001b[0minput\u001b[0m\u001b[0;34m(\u001b[0m\u001b[0;34m\"Bolünecek sayıyı giriniz: \"\u001b[0m\u001b[0;34m)\u001b[0m\u001b[0;34m)\u001b[0m\u001b[0;34m\u001b[0m\u001b[0;34m\u001b[0m\u001b[0m\n\u001b[0;32m----> 4\u001b[0;31m   \u001b[0mprint\u001b[0m\u001b[0;34m(\u001b[0m\u001b[0mbolunenOne\u001b[0m\u001b[0;34m/\u001b[0m\u001b[0mbolen\u001b[0m\u001b[0;34m)\u001b[0m\u001b[0;34m\u001b[0m\u001b[0;34m\u001b[0m\u001b[0m\n\u001b[0m\u001b[1;32m      5\u001b[0m \u001b[0;32mexcept\u001b[0m \u001b[0mZeroDivisionError\u001b[0m\u001b[0;34m:\u001b[0m\u001b[0;34m\u001b[0m\u001b[0;34m\u001b[0m\u001b[0m\n\u001b[1;32m      6\u001b[0m   \u001b[0mprint\u001b[0m\u001b[0;34m(\u001b[0m\u001b[0;34m\"Bir sayıyı 0'a bölemezsiniz!\"\u001b[0m\u001b[0;34m)\u001b[0m\u001b[0;34m\u001b[0m\u001b[0;34m\u001b[0m\u001b[0m\n",
            "\u001b[0;31mZeroDivisionError\u001b[0m: division by zero"
          ]
        }
      ]
    },
    {
      "cell_type": "markdown",
      "metadata": {
        "id": "KCCbpGviGmvT",
        "colab_type": "text"
      },
      "source": [
        "raise deyimini kullanmasaydık:"
      ]
    },
    {
      "cell_type": "code",
      "metadata": {
        "id": "-rC8wct6Gvux",
        "colab_type": "code",
        "colab": {
          "base_uri": "https://localhost:8080/",
          "height": 67
        },
        "outputId": "ba6de931-4668-4e8b-a8a0-15232460add3"
      },
      "source": [
        "try:\n",
        "  bolunen = int(input(\"Bölünecek sayıyı giriniz: \"))\n",
        "  bolen = int(input(\"Bölecek sayıyı giriniz: \"))\n",
        "  print(bolunen/bolen)\n",
        "except ZeroDivisionError:\n",
        "  print(\"Bir sayıyı sıfıra bölemezsiniz!\")  "
      ],
      "execution_count": 10,
      "outputs": [
        {
          "output_type": "stream",
          "text": [
            "Bölünecek sayıyı giriniz: 20\n",
            "Bölecek sayıyı giriniz: 0\n",
            "Bir sayıyı sıfıra bölemezsiniz!\n"
          ],
          "name": "stdout"
        }
      ]
    }
  ]
}