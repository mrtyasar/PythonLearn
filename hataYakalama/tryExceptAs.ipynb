{
  "nbformat": 4,
  "nbformat_minor": 0,
  "metadata": {
    "colab": {
      "name": "tryExceptAs.ipynb",
      "provenance": []
    },
    "kernelspec": {
      "name": "python3",
      "display_name": "Python 3"
    }
  },
  "cells": [
    {
      "cell_type": "markdown",
      "metadata": {
        "id": "3M-zkjaIUDho",
        "colab_type": "text"
      },
      "source": [
        "# try...except...as"
      ]
    },
    {
      "cell_type": "markdown",
      "metadata": {
        "id": "C_CrYag7USLa",
        "colab_type": "text"
      },
      "source": [
        "as hata mesajını bir kelimeye aktararak bu hata mesajını kullanıcıya göstermemizi sağlıyor.\n",
        "\n",
        "Çünkü kullanıcı hatanın neden oluştuğunu bilmeden, hataya nasıl müdahale edebilir?\n",
        "\n",
        "hata açıklaması nedir:"
      ]
    },
    {
      "cell_type": "markdown",
      "metadata": {
        "id": "PI1HJnTIUl7z",
        "colab_type": "text"
      },
      "source": [
        "Python'da bir hata oluştuğunda makine bize hatanın genel ismini ve o hatanın neden oluştuğu hakkında açıklama verir.\n",
        "örneğin:\n",
        "\n",
        "ValueError: invalid literal for int() with base  10: 'f'"
      ]
    },
    {
      "cell_type": "markdown",
      "metadata": {
        "id": "dcXtrjPCU4JQ",
        "colab_type": "text"
      },
      "source": [
        "hatanın adı: ValueError\n",
        "Hatanın açıklaması:  invalid literal for int() with base 10: 'f'"
      ]
    },
    {
      "cell_type": "markdown",
      "metadata": {
        "id": "z7kzLgYOVMUI",
        "colab_type": "text"
      },
      "source": [
        "Programın üreteceği hatanın açıklamasını kullanıcıya gösterelim:"
      ]
    },
    {
      "cell_type": "code",
      "metadata": {
        "id": "eaBpwiD_VVlI",
        "colab_type": "code",
        "colab": {
          "base_uri": "https://localhost:8080/",
          "height": 84
        },
        "outputId": "3bf37b65-3112-4c5b-dd71-3ee21341c28d"
      },
      "source": [
        "ilkSayi = input(\"ilk sayıyı giriniz: \")\n",
        "ikinciSayi = input(\"İkinci sayıyı giriniz: \")\n",
        "try:\n",
        "  number1 = int(ilkSayi)\n",
        "  number2 = int(ikinciSayi)\n",
        "  print(numbe1,\"/\",number2,\"=\",numer1/number2)\n",
        "except ValueError as hata:\n",
        "  print(hata)  \n",
        "  print(\"Lütfen tekrar deneyiniz!\")"
      ],
      "execution_count": 2,
      "outputs": [
        {
          "output_type": "stream",
          "text": [
            "ilk sayıyı giriniz: ss\n",
            "İkinci sayıyı giriniz: s\n",
            "invalid literal for int() with base 10: 'ss'\n",
            "Lütfen tekrar deneyiniz!\n"
          ],
          "name": "stdout"
        }
      ]
    },
    {
      "cell_type": "markdown",
      "metadata": {
        "id": "48M0CGjdWsM7",
        "colab_type": "text"
      },
      "source": [
        "Hataları gruplayarak yapalım:"
      ]
    },
    {
      "cell_type": "code",
      "metadata": {
        "id": "noUR9xaiWwkn",
        "colab_type": "code",
        "colab": {
          "base_uri": "https://localhost:8080/",
          "height": 84
        },
        "outputId": "ce0d6e5f-62fb-4e81-ccb7-b39710498446"
      },
      "source": [
        "number = input(\"ilk sayıyı giriniz: \")\n",
        "number1 = input(\"İkincii sayıyı giriniz: \")\n",
        "try:\n",
        "  numberOne = int(number)\n",
        "  numberTwo = int(number1)\n",
        "  print(numberOne,\"+\",numberTwo,\"=\",numberOne/numberTwo)\n",
        "except (ValueError,ZeroDivisionError) as hata:\n",
        "  print(\"Bir hata oluştu!\")\n",
        "  print(\"Makinenin ürettiği hata: \",hata)  "
      ],
      "execution_count": 3,
      "outputs": [
        {
          "output_type": "stream",
          "text": [
            "ilk sayıyı giriniz: 90\n",
            "İkincii sayıyı giriniz: 0\n",
            "Bir hata oluştu!\n",
            "Makinenin ürettiği hata:  division by zero\n"
          ],
          "name": "stdout"
        }
      ]
    }
  ]
}