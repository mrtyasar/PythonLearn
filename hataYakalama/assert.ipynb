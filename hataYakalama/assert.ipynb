{
  "nbformat": 4,
  "nbformat_minor": 0,
  "metadata": {
    "colab": {
      "name": "assert.ipynb",
      "provenance": []
    },
    "kernelspec": {
      "name": "python3",
      "display_name": "Python 3"
    }
  },
  "cells": [
    {
      "cell_type": "markdown",
      "metadata": {
        "id": "CpGB5YyANee7",
        "colab_type": "text"
      },
      "source": [
        "# assert"
      ]
    },
    {
      "cell_type": "markdown",
      "metadata": {
        "id": "qzRNfww4N88C",
        "colab_type": "text"
      },
      "source": [
        "assert, kodumuzdaki hataları belirlemek için kullanılır."
      ]
    },
    {
      "cell_type": "code",
      "metadata": {
        "id": "4NGA0oGaRhzB",
        "colab_type": "code",
        "colab": {
          "base_uri": "https://localhost:8080/",
          "height": 50
        },
        "outputId": "31538bd2-7ef5-40d9-e6c2-29306d333afe"
      },
      "source": [
        "giris = input(\"Merhaba! Adın ne?\")\n",
        "if len(giris) == 0:\n",
        "  raise AssertionError(\"İsim bölümü boş\")\n",
        "print(\"Hoşgeldiniz!\")"
      ],
      "execution_count": 2,
      "outputs": [
        {
          "output_type": "stream",
          "text": [
            "Merhaba! Adın ne? m\n",
            "Hoşgeldiniz!\n"
          ],
          "name": "stdout"
        }
      ]
    },
    {
      "cell_type": "markdown",
      "metadata": {
        "id": "870IK-OaR-8z",
        "colab_type": "text"
      },
      "source": [
        "Bu kodu assert kullanarakta yazabiliriz:"
      ]
    },
    {
      "cell_type": "code",
      "metadata": {
        "id": "H2k-3jdzSCSs",
        "colab_type": "code",
        "colab": {
          "base_uri": "https://localhost:8080/",
          "height": 212
        },
        "outputId": "905a7420-33e2-4e96-f7bf-40ab22721627"
      },
      "source": [
        "giris = input(\"Merhaba! Adınız nedir?\")\n",
        "assert len(giris) != 0, \"isim bölümü boş\"\n",
        "print(\"Hoşgeldiniz\")"
      ],
      "execution_count": 3,
      "outputs": [
        {
          "output_type": "stream",
          "text": [
            "Merhaba! Adınız nedir?\n"
          ],
          "name": "stdout"
        },
        {
          "output_type": "error",
          "ename": "AssertionError",
          "evalue": "ignored",
          "traceback": [
            "\u001b[0;31m---------------------------------------------------------------------------\u001b[0m",
            "\u001b[0;31mAssertionError\u001b[0m                            Traceback (most recent call last)",
            "\u001b[0;32m<ipython-input-3-d7090c41015c>\u001b[0m in \u001b[0;36m<module>\u001b[0;34m()\u001b[0m\n\u001b[1;32m      1\u001b[0m \u001b[0mgiris\u001b[0m \u001b[0;34m=\u001b[0m \u001b[0minput\u001b[0m\u001b[0;34m(\u001b[0m\u001b[0;34m\"Merhaba! Adınız nedir?\"\u001b[0m\u001b[0;34m)\u001b[0m\u001b[0;34m\u001b[0m\u001b[0;34m\u001b[0m\u001b[0m\n\u001b[0;32m----> 2\u001b[0;31m \u001b[0;32massert\u001b[0m \u001b[0mlen\u001b[0m\u001b[0;34m(\u001b[0m\u001b[0mgiris\u001b[0m\u001b[0;34m)\u001b[0m \u001b[0;34m!=\u001b[0m \u001b[0;36m0\u001b[0m\u001b[0;34m,\u001b[0m \u001b[0;34m\"isim bölümü boş\"\u001b[0m\u001b[0;34m\u001b[0m\u001b[0;34m\u001b[0m\u001b[0m\n\u001b[0m\u001b[1;32m      3\u001b[0m \u001b[0mprint\u001b[0m\u001b[0;34m(\u001b[0m\u001b[0;34m\"Hoşgeldiniz\"\u001b[0m\u001b[0;34m)\u001b[0m\u001b[0;34m\u001b[0m\u001b[0;34m\u001b[0m\u001b[0m\n",
            "\u001b[0;31mAssertionError\u001b[0m: isim bölümü boş"
          ]
        }
      ]
    },
    {
      "cell_type": "markdown",
      "metadata": {
        "id": "MNpGOOaHS3JA",
        "colab_type": "text"
      },
      "source": [
        "assert ifadesi bool bir ifadedir\n",
        "\n",
        "eğer assert ifademizin doğru olmasını istediğimiz durumu yazmalıyız ki yanlış olursa hata yüklensin.\n"
      ]
    },
    {
      "cell_type": "markdown",
      "metadata": {
        "id": "sTPO8jeKTMNS",
        "colab_type": "text"
      },
      "source": [
        "assert bir fonksiyon değildir bu yüzden parantez içinde kullanılamaz\n",
        "\n",
        "assert(ifade) #yanlış"
      ]
    },
    {
      "cell_type": "markdown",
      "metadata": {
        "id": "Gt7-rtHsTbcE",
        "colab_type": "text"
      },
      "source": [
        "assert ifadesinin if ve raise yerine kullanılma sebepleri:\n",
        "\n",
        "+ geliştirme arayüzünün bul(find) özelliğini kullanarak anahtar kelimelerini hızlıca bulup silebilir veya yorum satırı haline getirebiliriz\n",
        "+ bu işlem satırlarca kodlar yazdığımızda zaman kazanmamızı sağlar"
      ]
    },
    {
      "cell_type": "markdown",
      "metadata": {
        "id": "ZbAUVxgRT016",
        "colab_type": "text"
      },
      "source": [
        "ikinci olarak:\n",
        "\n",
        "+ python yorumlayıcısını komut satırından -0 parametresini şu şekilde çağırdığımızda:"
      ]
    },
    {
      "cell_type": "code",
      "metadata": {
        "id": "0bdF3LOzT-Ve",
        "colab_type": "code",
        "colab": {}
      },
      "source": [
        "C:\\Users\\User> python -O kod_dosyası"
      ],
      "execution_count": 0,
      "outputs": []
    },
    {
      "cell_type": "markdown",
      "metadata": {
        "id": "lPqVYvu8UMoy",
        "colab_type": "text"
      },
      "source": [
        "bu komut kod_dosyası adlı programımızdaki bütün assert ifadelerini python yorumlayıcısı tarafından yok sayılır ve hiçbiri çalıştırılmaz\n",
        "\n",
        "bu yöntem assert ifadelerini hepsini yorum satırı haline getirmek için güzel bir yöntemdir"
      ]
    }
  ]
}