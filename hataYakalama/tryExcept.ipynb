{
  "nbformat": 4,
  "nbformat_minor": 0,
  "metadata": {
    "colab": {
      "name": "tryExcept.ipynb",
      "provenance": []
    },
    "kernelspec": {
      "name": "python3",
      "display_name": "Python 3"
    }
  },
  "cells": [
    {
      "cell_type": "markdown",
      "metadata": {
        "id": "Be0jf4GHDugB",
        "colab_type": "text"
      },
      "source": [
        "# try...except..."
      ]
    },
    {
      "cell_type": "markdown",
      "metadata": {
        "id": "qKp1uGTMD3Mw",
        "colab_type": "text"
      },
      "source": [
        "try..except blogları hata vereceğini düşündüğümüz kodlarını çalışmasını ve programımızın çökmesini engellemek için kullanırız:\n",
        "\n",
        "formül:\n"
      ]
    },
    {
      "cell_type": "code",
      "metadata": {
        "id": "HrQVloENEHVg",
        "colab_type": "code",
        "colab": {}
      },
      "source": [
        "try:\n",
        "  hata verecebileceğini düşündüğümüz kodlar\n",
        "except oluşacak hata adı:\n",
        "  hatayla karşılasınca yapılacak işlemler  "
      ],
      "execution_count": 0,
      "outputs": []
    },
    {
      "cell_type": "code",
      "metadata": {
        "id": "zawY5YVdE54Y",
        "colab_type": "code",
        "colab": {
          "base_uri": "https://localhost:8080/",
          "height": 67
        },
        "outputId": "74cd963e-2608-4600-fce1-713ea6452b91"
      },
      "source": [
        "ilkSayi = input(\"İlk sayıyı giriniz: \")\n",
        "ikinciSayi = input(\"İkinci sayıyı giriniz: \")\n",
        "try:\n",
        "  sayi1 = int(ilkSayi)\n",
        "  sayi2 = int(ikinciSayi)\n",
        "  print(sayi1,\"/\",sayi2,\"=\",sayi1/sayi2)\n",
        "except ValueError:\n",
        "  print(\"Lütfen sadece sayı giriniz!\")  "
      ],
      "execution_count": 1,
      "outputs": [
        {
          "output_type": "stream",
          "text": [
            "İlk sayıyı giriniz: s\n",
            "İkinci sayıyı giriniz: 90\n",
            "Lütfen sadece sayı giriniz: \n"
          ],
          "name": "stdout"
        }
      ]
    },
    {
      "cell_type": "markdown",
      "metadata": {
        "id": "aXaTpsN4FmSh",
        "colab_type": "text"
      },
      "source": [
        "Kullanıcı sayı yerine harf girerse int() fonksiyonu harfi int değerine dönüştüremeyeceği için hata vereceğini biliyoruz.\n",
        "\n",
        "Bu yüzden hata vereceğinden şüphe ettiğimiz kodları try: bloğun içinde\n",
        "eğer düşündüğümüz hata oluşursa bir hata mesajını ise except bloğun içinde yazarız. Böylelikle programımız hata vermez ve çökmez."
      ]
    },
    {
      "cell_type": "markdown",
      "metadata": {
        "id": "i1pTG91qGE9f",
        "colab_type": "text"
      },
      "source": [
        "bir sayıyı 0 ile bölmemiz sonucu oluşan ZeroDivisionError hatasını try..except.. blokları sayesinde önleyelim:"
      ]
    },
    {
      "cell_type": "code",
      "metadata": {
        "id": "TohqIHjKGOHN",
        "colab_type": "code",
        "colab": {
          "base_uri": "https://localhost:8080/",
          "height": 84
        },
        "outputId": "ed0a25cd-5bbb-430f-d9d0-5f4f075c5da1"
      },
      "source": [
        "veri1 = input(\"İlk sayıyı giriniz: \")\n",
        "veri2 = input(\"İkinci sayıyı giriniz: \")\n",
        "try:\n",
        "  number1 = int(veri1)\n",
        "  number2 = int(veri2)\n",
        "  print(number1,\"/\",number2,\"=\",number1/number2)\n",
        "except ZeroDivisionError:\n",
        "  print(\"Bir sayıyı 0 ile bölemezsiniz!\")\n",
        "  print(\"Lütfen sayınızı başka bir sayı ile bölünüz!\")  "
      ],
      "execution_count": 2,
      "outputs": [
        {
          "output_type": "stream",
          "text": [
            "İlk sayıyı giriniz: 20\n",
            "İkinci sayıyı giriniz: 0\n",
            "Bir sayıyı 0 ile bölemezsiniz!\n",
            "Lütfen sayınızı başka bir sayı ile bölünüz!\n"
          ],
          "name": "stdout"
        }
      ]
    },
    {
      "cell_type": "markdown",
      "metadata": {
        "id": "hZ8CnyTVG9hb",
        "colab_type": "text"
      },
      "source": [
        "Yazıdığımız kodlar birden fazla hata vermeye meyiliyse:"
      ]
    },
    {
      "cell_type": "code",
      "metadata": {
        "id": "krOrjjcHHDls",
        "colab_type": "code",
        "colab": {
          "base_uri": "https://localhost:8080/",
          "height": 67
        },
        "outputId": "b52f0063-3311-4462-9680-0a9fa1baf26c"
      },
      "source": [
        "veriOne = input(\"İlk sayı: \")\n",
        "veriTwo = input(\"İkinci sayı: \")\n",
        "try:\n",
        "  numberOne = int(veriOne)\n",
        "  numberTwo = int(veriTwo)\n",
        "  print(numberOne,\"/\",numberTwo,\"=\",numberOne/numberTwo)\n",
        "except ValueError:\n",
        "  print(\"Lütfen sadece sayı yazınız!\")\n",
        "except ZeroDivisionError:\n",
        "  print(\"bir sayıyı O ile bölemezsiniz!\",\"Tekrar deneyiniz!\")    "
      ],
      "execution_count": 3,
      "outputs": [
        {
          "output_type": "stream",
          "text": [
            "İlk sayı: 60\n",
            "İkinci sayı: k\n",
            "Lütfen sadece sayı yazınız!\n"
          ],
          "name": "stdout"
        }
      ]
    },
    {
      "cell_type": "markdown",
      "metadata": {
        "id": "d9vhuCXSHyq9",
        "colab_type": "text"
      },
      "source": [
        "Ayrı ayrı yazmak yerine tüm hatalara tek bir hata mesajı gösterebiliriz"
      ]
    },
    {
      "cell_type": "code",
      "metadata": {
        "id": "rAu_uWTqH3-k",
        "colab_type": "code",
        "colab": {
          "base_uri": "https://localhost:8080/",
          "height": 84
        },
        "outputId": "0ad01370-2278-4394-bfbc-e3d432f72b76"
      },
      "source": [
        "inNum = input(\"İlk sayı: \")\n",
        "inNumOne = input(\"İkinci sayı: \")\n",
        "try:\n",
        "  numOr = int(inNum)\n",
        "  numBor = int(inNumOne)\n",
        "  print(numOr,\"/\",numBor,\"=\",numOr/numBor)\n",
        "except (ZeroDivisionError,ValueError):\n",
        "  print(\"Bir hata oluştu!\",\"\\n\",\"Lütfen Tekrar Deneyiniz!\",sep=\"\")  "
      ],
      "execution_count": 7,
      "outputs": [
        {
          "output_type": "stream",
          "text": [
            "İlk sayı: 20\n",
            "İkinci sayı: 0\n",
            "Bir hata oluştu!\n",
            "Lütfen Tekrar Deneyiniz!\n"
          ],
          "name": "stdout"
        }
      ]
    },
    {
      "cell_type": "markdown",
      "metadata": {
        "id": "MCffhwpUIzGG",
        "colab_type": "text"
      },
      "source": [
        "Programın sadece bir kere çalışmasını engelleyip, sürekli çalışmasını sağlamak için:"
      ]
    },
    {
      "cell_type": "code",
      "metadata": {
        "id": "uby9Uq1ZI3f4",
        "colab_type": "code",
        "colab": {
          "base_uri": "https://localhost:8080/",
          "height": 100
        },
        "outputId": "bb52c7f5-7555-49b0-d50b-b13c4070250a"
      },
      "source": [
        "while True:\n",
        "  number3 = input(\"İlk sayıyı giriniz: (Programdan çıkmak için q tuşuna basınız)\")\n",
        "  if number3 == \"q\":\n",
        "    break\n",
        "  number4 = input(\"İkinci sayıyı giriniz: \")\n",
        "  try:\n",
        "    numberThree = int(number3)\n",
        "    numberFour = int(number4)\n",
        "    print(numberThree,\"/\",numberFour,\"=\",numberThree/numberFour)\n",
        "  except (ValueError,ZeroDivisionError):\n",
        "    print(\"Bir hata oluştu\\nLütfen Tekrar Deneyiniz!\")        "
      ],
      "execution_count": 9,
      "outputs": [
        {
          "output_type": "stream",
          "text": [
            "İlk sayıyı giriniz: (Programdan çıkmak için q tuşuna basınız)90\n",
            "İkinci sayıyı giriniz: 0\n",
            "Bir hata oluştu\n",
            "Lütfen Tekrar Deneyiniz!\n",
            "İlk sayıyı giriniz: (Programdan çıkmak için q tuşuna basınız)q\n"
          ],
          "name": "stdout"
        }
      ]
    }
  ]
}