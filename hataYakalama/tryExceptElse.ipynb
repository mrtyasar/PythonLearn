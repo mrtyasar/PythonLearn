{
  "nbformat": 4,
  "nbformat_minor": 0,
  "metadata": {
    "colab": {
      "name": "tryExceptElse.ipynb",
      "provenance": []
    },
    "kernelspec": {
      "name": "python3",
      "display_name": "Python 3"
    }
  },
  "cells": [
    {
      "cell_type": "markdown",
      "metadata": {
        "id": "cVD54YAodIu3",
        "colab_type": "text"
      },
      "source": [
        "# try...except...else"
      ]
    },
    {
      "cell_type": "markdown",
      "metadata": {
        "id": "n5v6L8TgfgDs",
        "colab_type": "text"
      },
      "source": [
        "else bloğu eğer herhangi bir hata olmazsa şu kodu çalıştır anlamında kullanılır çoğunlukla"
      ]
    },
    {
      "cell_type": "code",
      "metadata": {
        "id": "RkFd2sC4fpnS",
        "colab_type": "code",
        "colab": {
          "base_uri": "https://localhost:8080/",
          "height": 50
        },
        "outputId": "6a15484f-76ed-4006-dbc2-51e30e044f3b"
      },
      "source": [
        "try:\n",
        "  print(\"Hello\")\n",
        "except:\n",
        "  print(\"something went wrong\")\n",
        "else:\n",
        "  print(\"Nothing went wrong\")    "
      ],
      "execution_count": 6,
      "outputs": [
        {
          "output_type": "stream",
          "text": [
            "Hello\n",
            "Nothing went wrong\n"
          ],
          "name": "stdout"
        }
      ]
    },
    {
      "cell_type": "markdown",
      "metadata": {
        "id": "j7r5dN6Gf5lC",
        "colab_type": "text"
      },
      "source": [
        "veya kodları parçalarak ayrı ayrı hata mesajı verdirebilir"
      ]
    },
    {
      "cell_type": "code",
      "metadata": {
        "id": "bVZve2mkgClk",
        "colab_type": "code",
        "colab": {
          "base_uri": "https://localhost:8080/",
          "height": 67
        },
        "outputId": "76e9184e-8024-43fb-9d4f-ca1ae820b2b9"
      },
      "source": [
        "try:\n",
        "  bolunen = int(input(\"Bolunecek sayıyı giriniz: \"))\n",
        "  bolen = int(input(\"Bölecek sayıyı giriniz: \"))\n",
        "except ValueError:\n",
        "  print(\"Lütfen sadece sayı değerini giriniz: \")\n",
        "else:\n",
        "    try: \n",
        "        print(bolunen/bolen)\n",
        "    except ZeroDivisionError:\n",
        "      print(\"Bir sayıyı 0'a bölemezsiniz!\")    "
      ],
      "execution_count": 10,
      "outputs": [
        {
          "output_type": "stream",
          "text": [
            "Bolunecek sayıyı giriniz: 25\n",
            "Bölecek sayıyı giriniz: 0\n",
            "Bir sayıyı 0'a bölemezsiniz!\n"
          ],
          "name": "stdout"
        }
      ]
    },
    {
      "cell_type": "markdown",
      "metadata": {
        "id": "Lv_Kcypcg6wQ",
        "colab_type": "text"
      },
      "source": [
        "+ hata vereceğini düşündüğümüz kodları try bloğun içine yazdık\n",
        "+ beklediğimiz hata ise ValueError olduğu için except bloğu sayesinde, eğer bu hataya ulaşırsan şunu yap dedik\n",
        "+ daha sonra else: print(bolunen/bolen) yazdık böylece eğer hata almazsan iki sayıyı böl dedik\n",
        "+ fakat bir hata daha olduğu için ayrı bir blog daha oluştururak else: bloğunda yazılan kodu try bloğun içine aldık\n",
        "+ daha sonra şu hataya karşılaşınca şunu yazdır dedik"
      ]
    },
    {
      "cell_type": "markdown",
      "metadata": {
        "id": "cnPqtDdZhqTO",
        "colab_type": "text"
      },
      "source": [
        "Yukarıdaki kodu şu şekil yazabilirdik:"
      ]
    },
    {
      "cell_type": "code",
      "metadata": {
        "id": "ILYf-v7Shs-q",
        "colab_type": "code",
        "colab": {
          "base_uri": "https://localhost:8080/",
          "height": 67
        },
        "outputId": "03cff300-906e-490a-f97c-eee7e5dddd26"
      },
      "source": [
        "try:\n",
        "  bolunen = int(input(\"Bölünecek sayıyı giriniz: \"))\n",
        "  bolen = int(input(\"Bölecek sayıyı giriniz: \"))\n",
        "  print(bolunen/bolen)\n",
        "except ValueError:\n",
        "  print(\"Sadece sayı giriniz!\")\n",
        "except ZeroDivisionError:\n",
        "  print(\"bir sayıyı 0 ile bölemezsiniz!\")    "
      ],
      "execution_count": 11,
      "outputs": [
        {
          "output_type": "stream",
          "text": [
            "Bölünecek sayıyı giriniz: 29\n",
            "Bölecek sayıyı giriniz: ss\n",
            "Sadece sayı giriniz!\n"
          ],
          "name": "stdout"
        }
      ]
    }
  ]
}