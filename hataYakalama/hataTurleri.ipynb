{
  "nbformat": 4,
  "nbformat_minor": 0,
  "metadata": {
    "colab": {
      "name": "hataTurleri.ipynb",
      "provenance": [],
      "collapsed_sections": []
    },
    "kernelspec": {
      "name": "python3",
      "display_name": "Python 3"
    }
  },
  "cells": [
    {
      "cell_type": "markdown",
      "metadata": {
        "id": "qmdDWd6j2LxU",
        "colab_type": "text"
      },
      "source": [
        "kullanıcının bize verdiği sayıyla, o sayının karakökünü veya karesini bulan bir program yapıyoruz"
      ]
    },
    {
      "cell_type": "code",
      "metadata": {
        "id": "xymXouQW2ZDH",
        "colab_type": "code",
        "colab": {
          "base_uri": "https://localhost:8080/",
          "height": 212
        },
        "outputId": "cd07163b-1d3a-42b8-c257-a054b00a092f"
      },
      "source": [
        "veri = input(\"Karakökünü hesaplamak istediğiniz sayı: \")\n",
        "karakok = int(veri) ** 0.5\n",
        "print(veri,\"sayısının karakökü: \",karakok)"
      ],
      "execution_count": 2,
      "outputs": [
        {
          "output_type": "stream",
          "text": [
            "Karakökünü hesaplamak istediğiniz sayı: s\n"
          ],
          "name": "stdout"
        },
        {
          "output_type": "error",
          "ename": "ValueError",
          "evalue": "ignored",
          "traceback": [
            "\u001b[0;31m---------------------------------------------------------------------------\u001b[0m",
            "\u001b[0;31mValueError\u001b[0m                                Traceback (most recent call last)",
            "\u001b[0;32m<ipython-input-2-3b56c7ecb25f>\u001b[0m in \u001b[0;36m<module>\u001b[0;34m()\u001b[0m\n\u001b[1;32m      1\u001b[0m \u001b[0mveri\u001b[0m \u001b[0;34m=\u001b[0m \u001b[0minput\u001b[0m\u001b[0;34m(\u001b[0m\u001b[0;34m\"Karakökünü hesaplamak istediğiniz sayı: \"\u001b[0m\u001b[0;34m)\u001b[0m\u001b[0;34m\u001b[0m\u001b[0;34m\u001b[0m\u001b[0m\n\u001b[0;32m----> 2\u001b[0;31m \u001b[0mkarakok\u001b[0m \u001b[0;34m=\u001b[0m \u001b[0mint\u001b[0m\u001b[0;34m(\u001b[0m\u001b[0mveri\u001b[0m\u001b[0;34m)\u001b[0m \u001b[0;34m**\u001b[0m \u001b[0;36m0.5\u001b[0m\u001b[0;34m\u001b[0m\u001b[0;34m\u001b[0m\u001b[0m\n\u001b[0m\u001b[1;32m      3\u001b[0m \u001b[0mprint\u001b[0m\u001b[0;34m(\u001b[0m\u001b[0mveri\u001b[0m\u001b[0;34m,\u001b[0m\u001b[0;34m\"sayısının karakökü: \"\u001b[0m\u001b[0;34m,\u001b[0m\u001b[0mkarakok\u001b[0m\u001b[0;34m)\u001b[0m\u001b[0;34m\u001b[0m\u001b[0;34m\u001b[0m\u001b[0m\n",
            "\u001b[0;31mValueError\u001b[0m: invalid literal for int() with base 10: 's'"
          ]
        }
      ]
    },
    {
      "cell_type": "markdown",
      "metadata": {
        "id": "Z0VzHvWY2xkt",
        "colab_type": "text"
      },
      "source": [
        "kullanıcı eğer sayı değerli bir veri girmek yerine string bir ifade girerse hata alırız.\n",
        "\n",
        "işte bunun gibi hatalar almamak için, hataları önceden kestirip çözmemiz lazım."
      ]
    },
    {
      "cell_type": "markdown",
      "metadata": {
        "id": "bcFTXl5p3BQD",
        "colab_type": "text"
      },
      "source": [
        "# Hata Türleri"
      ]
    },
    {
      "cell_type": "markdown",
      "metadata": {
        "id": "O-XzrrTl3NcQ",
        "colab_type": "text"
      },
      "source": [
        "+ programcı hataları (Error)\n",
        "+ program kusurları (Bug)\n",
        "+ İstisnalar (Exception)"
      ]
    },
    {
      "cell_type": "markdown",
      "metadata": {
        "id": "2kEDNRZE3cug",
        "colab_type": "text"
      },
      "source": [
        "**Programcı Hataları**"
      ]
    },
    {
      "cell_type": "markdown",
      "metadata": {
        "id": "xYGRwF4a3k9A",
        "colab_type": "text"
      },
      "source": [
        "Programı yazan kişinin dikkatsizliğinden dolayı ortaya çıkan hatalardır:"
      ]
    },
    {
      "cell_type": "code",
      "metadata": {
        "id": "aEDJl3zp3pNo",
        "colab_type": "code",
        "colab": {
          "base_uri": "https://localhost:8080/",
          "height": 148
        },
        "outputId": "07338406-f6ce-4998-8837-24705db60273"
      },
      "source": [
        "print \"Merhaba Dünya\""
      ],
      "execution_count": 4,
      "outputs": [
        {
          "output_type": "error",
          "ename": "SyntaxError",
          "evalue": "ignored",
          "traceback": [
            "\u001b[0;36m  File \u001b[0;32m\"<ipython-input-4-267fc15c875c>\"\u001b[0;36m, line \u001b[0;32m1\u001b[0m\n\u001b[0;31m    print \"Merhaba Dünya\"\u001b[0m\n\u001b[0m                        ^\u001b[0m\n\u001b[0;31mSyntaxError\u001b[0m\u001b[0;31m:\u001b[0m Missing parentheses in call to 'print'. Did you mean print(\"Merhaba Dünya\")?\n"
          ]
        }
      ]
    },
    {
      "cell_type": "markdown",
      "metadata": {
        "id": "83n0Aii33s0D",
        "colab_type": "text"
      },
      "source": [
        "SyntaxError, söz dizimi hatası demektir\n",
        "bu hatalar proglama diline ilişkin bir özelliğin kullanımından yani programcının yaptığı yazım yanlışlarından kaynaklanır\n",
        "\n",
        "Bu tür hataların ise tespit edilmesi daha kolaydır"
      ]
    },
    {
      "cell_type": "markdown",
      "metadata": {
        "id": "YWAxrOgp4Axm",
        "colab_type": "text"
      },
      "source": [
        "**Problem Kusurları (Bug)**"
      ]
    },
    {
      "cell_type": "markdown",
      "metadata": {
        "id": "JtEmWlRF4KWF",
        "colab_type": "text"
      },
      "source": [
        "diğer hataların içinde tespit edilmesi en zor olanıdır. Çünkü bu kusurlu programlar hata vermeden çalışır. \n",
        "\n",
        "örneğin bir programda formül hatası yaptık, program belirlediğimiz formüle uyar ve sonucu gösterir, fakat formül hatası yaptığımız için sonuçlar yanlış çıkar:"
      ]
    },
    {
      "cell_type": "code",
      "metadata": {
        "id": "41LL-7Yu4tGg",
        "colab_type": "code",
        "colab": {
          "base_uri": "https://localhost:8080/",
          "height": 67
        },
        "outputId": "cd8804a2-d271-4dc2-e6fb-4312b209c30c"
      },
      "source": [
        "number1 = input(\"Toplama işlemi için ilk sayıyı giriniz: \")\n",
        "number2 = input(\"Toplama işlemi için ikinci sayıyı giriniz: \")\n",
        "print(number1,\"+\",number2,\"=\",number1+number2)"
      ],
      "execution_count": 5,
      "outputs": [
        {
          "output_type": "stream",
          "text": [
            "Toplama işlemi için ilk sayıyı giriniz: 24\n",
            "Toplama işlemi için ikinci sayıyı giriniz: 4\n",
            "24 + 4 = 244\n"
          ],
          "name": "stdout"
        }
      ]
    },
    {
      "cell_type": "markdown",
      "metadata": {
        "id": "UzTn6-M05EQu",
        "colab_type": "text"
      },
      "source": [
        "24 ile 4 sayısının toplamını 28 bulacağımız yerinde programımızda bug olduğundan dolayı program toplamak yerine birleştirip bize 244 sonucunu gösterdi."
      ]
    },
    {
      "cell_type": "markdown",
      "metadata": {
        "id": "iCf1QJ_v5T0F",
        "colab_type": "text"
      },
      "source": [
        "Bu yüzden düzgün çalıştığını düşündüğümüz programlarda bug olmuş olabilir, o yüzden dikkat etmek lazım.\n",
        "\n",
        "mesala eval() fonskiyonunu dikkatsizce  kullanıldığını zaman güvenlik kusuru yaratır\n",
        "\n",
        "buna ise security bug veya security flaw denir."
      ]
    },
    {
      "cell_type": "markdown",
      "metadata": {
        "id": "0RS2FCY85lpg",
        "colab_type": "text"
      },
      "source": [
        "**İstisnalar (Exception)**"
      ]
    },
    {
      "cell_type": "markdown",
      "metadata": {
        "id": "8lzhoiPK5p0v",
        "colab_type": "text"
      },
      "source": [
        "Programın çalışması sırasında ortaya çıkan istisnai, çok fazla görülmeyen hatalardır."
      ]
    },
    {
      "cell_type": "code",
      "metadata": {
        "id": "Wr9n2sco5_Hz",
        "colab_type": "code",
        "colab": {
          "base_uri": "https://localhost:8080/",
          "height": 262
        },
        "outputId": "8b8aba61-01fd-439c-d274-6a841cff52d4"
      },
      "source": [
        "ilkSayi = input(\"İlk sayı: \")\n",
        "ikinciSayi = input(\"ikinci sayı: \")\n",
        "ilkSayi = int(ilkSayi)\n",
        "ikinciSayi = int(ikinciSayi)\n",
        "print(ilkSayi,\"/\",ikinciSayi,\"=\",ilkSayi/ikinciSayi)"
      ],
      "execution_count": 6,
      "outputs": [
        {
          "output_type": "stream",
          "text": [
            "İlk sayı: ss\n",
            "ikinci sayı: 20\n"
          ],
          "name": "stdout"
        },
        {
          "output_type": "error",
          "ename": "ValueError",
          "evalue": "ignored",
          "traceback": [
            "\u001b[0;31m---------------------------------------------------------------------------\u001b[0m",
            "\u001b[0;31mValueError\u001b[0m                                Traceback (most recent call last)",
            "\u001b[0;32m<ipython-input-6-11edb2c8fc08>\u001b[0m in \u001b[0;36m<module>\u001b[0;34m()\u001b[0m\n\u001b[1;32m      1\u001b[0m \u001b[0milkSayi\u001b[0m \u001b[0;34m=\u001b[0m \u001b[0minput\u001b[0m\u001b[0;34m(\u001b[0m\u001b[0;34m\"İlk sayı: \"\u001b[0m\u001b[0;34m)\u001b[0m\u001b[0;34m\u001b[0m\u001b[0;34m\u001b[0m\u001b[0m\n\u001b[1;32m      2\u001b[0m \u001b[0mikinciSayi\u001b[0m \u001b[0;34m=\u001b[0m \u001b[0minput\u001b[0m\u001b[0;34m(\u001b[0m\u001b[0;34m\"ikinci sayı: \"\u001b[0m\u001b[0;34m)\u001b[0m\u001b[0;34m\u001b[0m\u001b[0;34m\u001b[0m\u001b[0m\n\u001b[0;32m----> 3\u001b[0;31m \u001b[0milkSayi\u001b[0m \u001b[0;34m=\u001b[0m \u001b[0mint\u001b[0m\u001b[0;34m(\u001b[0m\u001b[0milkSayi\u001b[0m\u001b[0;34m)\u001b[0m\u001b[0;34m\u001b[0m\u001b[0;34m\u001b[0m\u001b[0m\n\u001b[0m\u001b[1;32m      4\u001b[0m \u001b[0mikinciSayi\u001b[0m \u001b[0;34m=\u001b[0m \u001b[0mint\u001b[0m\u001b[0;34m(\u001b[0m\u001b[0mikinciSayi\u001b[0m\u001b[0;34m)\u001b[0m\u001b[0;34m\u001b[0m\u001b[0;34m\u001b[0m\u001b[0m\n\u001b[1;32m      5\u001b[0m \u001b[0mprint\u001b[0m\u001b[0;34m(\u001b[0m\u001b[0milkSayi\u001b[0m\u001b[0;34m,\u001b[0m\u001b[0;34m\"/\"\u001b[0m\u001b[0;34m,\u001b[0m\u001b[0mikinciSayi\u001b[0m\u001b[0;34m,\u001b[0m\u001b[0;34m\"=\"\u001b[0m\u001b[0;34m,\u001b[0m\u001b[0milkSayi\u001b[0m\u001b[0;34m/\u001b[0m\u001b[0mikinciSayi\u001b[0m\u001b[0;34m)\u001b[0m\u001b[0;34m\u001b[0m\u001b[0;34m\u001b[0m\u001b[0m\n",
            "\u001b[0;31mValueError\u001b[0m: invalid literal for int() with base 10: 'ss'"
          ]
        }
      ]
    },
    {
      "cell_type": "markdown",
      "metadata": {
        "id": "1RQkYr0y6mrR",
        "colab_type": "text"
      },
      "source": [
        "kullanıcı burada sayı yerine string ifadeli veri girmiştir\n",
        "burada ki hata ise int() fonskiyonun string ifadeyi int veri tipine dönüştürememisidir."
      ]
    },
    {
      "cell_type": "markdown",
      "metadata": {
        "id": "AIHbW_5-67gO",
        "colab_type": "text"
      },
      "source": [
        "Veya kullanıcı bir sayıyı 0 a bölmeye çalışadabilir"
      ]
    },
    {
      "cell_type": "code",
      "metadata": {
        "id": "QLjQU5W_7L97",
        "colab_type": "code",
        "colab": {
          "base_uri": "https://localhost:8080/",
          "height": 228
        },
        "outputId": "3f8ffaa3-1102-4cb2-9e95-8a9752e97a32"
      },
      "source": [
        "numberOne = input(\"İlk sayı: \")\n",
        "numberTwo = input(\"İkinci sayı: \")\n",
        "numberOne = int(numberOne)\n",
        "numberTwo = int(numberTwo)\n",
        "print(numberOne,\"/\",numberTwo,\"=\",numberOne/numberTwo)"
      ],
      "execution_count": 8,
      "outputs": [
        {
          "output_type": "stream",
          "text": [
            "İlk sayı: 25\n",
            "İkinci sayı: 0\n"
          ],
          "name": "stdout"
        },
        {
          "output_type": "error",
          "ename": "ZeroDivisionError",
          "evalue": "ignored",
          "traceback": [
            "\u001b[0;31m---------------------------------------------------------------------------\u001b[0m",
            "\u001b[0;31mZeroDivisionError\u001b[0m                         Traceback (most recent call last)",
            "\u001b[0;32m<ipython-input-8-d660e07085ca>\u001b[0m in \u001b[0;36m<module>\u001b[0;34m()\u001b[0m\n\u001b[1;32m      3\u001b[0m \u001b[0mnumberOne\u001b[0m \u001b[0;34m=\u001b[0m \u001b[0mint\u001b[0m\u001b[0;34m(\u001b[0m\u001b[0mnumberOne\u001b[0m\u001b[0;34m)\u001b[0m\u001b[0;34m\u001b[0m\u001b[0;34m\u001b[0m\u001b[0m\n\u001b[1;32m      4\u001b[0m \u001b[0mnumberTwo\u001b[0m \u001b[0;34m=\u001b[0m \u001b[0mint\u001b[0m\u001b[0;34m(\u001b[0m\u001b[0mnumberTwo\u001b[0m\u001b[0;34m)\u001b[0m\u001b[0;34m\u001b[0m\u001b[0;34m\u001b[0m\u001b[0m\n\u001b[0;32m----> 5\u001b[0;31m \u001b[0mprint\u001b[0m\u001b[0;34m(\u001b[0m\u001b[0mnumberOne\u001b[0m\u001b[0;34m,\u001b[0m\u001b[0;34m\"/\"\u001b[0m\u001b[0;34m,\u001b[0m\u001b[0mnumberTwo\u001b[0m\u001b[0;34m,\u001b[0m\u001b[0;34m\"=\"\u001b[0m\u001b[0;34m,\u001b[0m\u001b[0mnumberOne\u001b[0m\u001b[0;34m/\u001b[0m\u001b[0mnumberTwo\u001b[0m\u001b[0;34m)\u001b[0m\u001b[0;34m\u001b[0m\u001b[0;34m\u001b[0m\u001b[0m\n\u001b[0m",
            "\u001b[0;31mZeroDivisionError\u001b[0m: division by zero"
          ]
        }
      ]
    },
    {
      "cell_type": "markdown",
      "metadata": {
        "id": "1bhH-Vxr7rMZ",
        "colab_type": "text"
      },
      "source": [
        "kullanıcı bir sayıyı 0 a bölmeye çalışında hata aldık, çünkü matematikte sayılar 0'a bölünemez"
      ]
    },
    {
      "cell_type": "markdown",
      "metadata": {
        "id": "AV0uY9lo712A",
        "colab_type": "text"
      },
      "source": [
        "ValueError ve ZeroDivisionError hataları istisna hatalara örnektir."
      ]
    }
  ]
}