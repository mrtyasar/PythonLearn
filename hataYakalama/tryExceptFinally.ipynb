{
  "nbformat": 4,
  "nbformat_minor": 0,
  "metadata": {
    "colab": {
      "name": "tryExceptFinally.ipynb",
      "provenance": [],
      "collapsed_sections": []
    },
    "kernelspec": {
      "name": "python3",
      "display_name": "Python 3"
    }
  },
  "cells": [
    {
      "cell_type": "markdown",
      "metadata": {
        "id": "aJgVLh4jxjBY",
        "colab_type": "text"
      },
      "source": [
        "# try...except...finally..."
      ]
    },
    {
      "cell_type": "markdown",
      "metadata": {
        "id": "0o5XHsb_xoNe",
        "colab_type": "text"
      },
      "source": [
        "finally bloğu program hata versin vermesin her şekilde yapılacak işlemleri barındırır.\n",
        "\n",
        "formül:"
      ]
    },
    {
      "cell_type": "code",
      "metadata": {
        "id": "7gWRHIqqxxKO",
        "colab_type": "code",
        "colab": {}
      },
      "source": [
        "try:\n",
        "  hata üreteceğini düşündüğümüz kodlar..\n",
        "except hataAdı:\n",
        "  hata alınca şu işlemi yap\n",
        "finally:\n",
        "  hata olsa da olmasa da şu işlemleri yap    "
      ],
      "execution_count": 0,
      "outputs": []
    },
    {
      "cell_type": "markdown",
      "metadata": {
        "id": "1tFispJHyCHB",
        "colab_type": "text"
      },
      "source": [
        "eğer kodlarımızda çalıştırılması gereken kesin bir kısım varsa finally bloğunda yazabiliriz"
      ]
    },
    {
      "cell_type": "code",
      "metadata": {
        "id": "ds9zI21hyN5F",
        "colab_type": "code",
        "colab": {
          "base_uri": "https://localhost:8080/",
          "height": 84
        },
        "outputId": "df26da7e-dfd4-41bd-e185-eabe78d22361"
      },
      "source": [
        "try:\n",
        "  bolunen = int(input(\"Bolunecek sayı: \"))\n",
        "  bolen = int(input(\"bölecek sayı: \"))\n",
        "  print(bolunen/bolen)\n",
        "except (ValueError,ZeroDivisionError):\n",
        "  print(\"Bir hata oluştu!\")\n",
        "finally:\n",
        "  print(\"Hi python!\")    "
      ],
      "execution_count": 1,
      "outputs": [
        {
          "output_type": "stream",
          "text": [
            "Bolunecek sayı: 25\n",
            "bölecek sayı: 0\n",
            "Bir hata oluştu!\n",
            "Hi python!\n"
          ],
          "name": "stdout"
        }
      ]
    },
    {
      "cell_type": "markdown",
      "metadata": {
        "id": "xv_vUB5ryuXZ",
        "colab_type": "text"
      },
      "source": [
        "finally bloğunu daha çok dosya işlemlerinde kullanırız\n",
        "\n",
        "çünkü eğer program hata üretirse dosyayı kapatamaz ve işlemlerimiz kaydedilemez, bunu engellemek için ise finally bloğundan yararlanırız:"
      ]
    },
    {
      "cell_type": "code",
      "metadata": {
        "id": "MfmoLQAly-TP",
        "colab_type": "code",
        "colab": {}
      },
      "source": [
        "try:\n",
        "  dosya = open(\"dosya.txt\",\"r\")\n",
        "  bolunen = int(input(\"bölünecek bir sayı giriniz: \"))\n",
        "  bolen = int(input(\"Bölecek sayınızı giriniz: \"))\n",
        "  print(bolunen/bolen)\n",
        "except IOError:\n",
        "  print(\"Bir hata oluştu!\")\n",
        "finally:\n",
        "  dosya.close()    "
      ],
      "execution_count": 0,
      "outputs": []
    }
  ]
}