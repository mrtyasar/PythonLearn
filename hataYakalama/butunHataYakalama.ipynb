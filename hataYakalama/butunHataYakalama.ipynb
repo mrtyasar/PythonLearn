{
  "nbformat": 4,
  "nbformat_minor": 0,
  "metadata": {
    "colab": {
      "name": "butunHataYakalama.ipynb",
      "provenance": [],
      "collapsed_sections": []
    },
    "kernelspec": {
      "name": "python3",
      "display_name": "Python 3"
    }
  },
  "cells": [
    {
      "cell_type": "markdown",
      "metadata": {
        "id": "RmzH9xHRpMz0",
        "colab_type": "text"
      },
      "source": [
        "# Bütün Hataları Yakalamak"
      ]
    },
    {
      "cell_type": "code",
      "metadata": {
        "id": "kSezUCVSpQ03",
        "colab_type": "code",
        "colab": {}
      },
      "source": [
        "try:\n",
        "  hata verecek kodlar\n",
        "except hataAdı:\n",
        "  hata mesajı  \n"
      ],
      "execution_count": 0,
      "outputs": []
    },
    {
      "cell_type": "markdown",
      "metadata": {
        "id": "ulHgzRakpXuU",
        "colab_type": "text"
      },
      "source": [
        "Yukarıdaki kodlar hata yakalamanın basit bir formülüdür."
      ]
    },
    {
      "cell_type": "markdown",
      "metadata": {
        "id": "xxMK7sxqp2Nn",
        "colab_type": "text"
      },
      "source": [
        "eğer bütün oluşacak hatalara tek bir mesaj göstermek istiyorsak:"
      ]
    },
    {
      "cell_type": "code",
      "metadata": {
        "id": "aNSRlrWBp8yK",
        "colab_type": "code",
        "colab": {}
      },
      "source": [
        "try:\n",
        "  hata verecek kodlar\n",
        "except:\n",
        "  hata mesajı  "
      ],
      "execution_count": 0,
      "outputs": []
    },
    {
      "cell_type": "markdown",
      "metadata": {
        "id": "PyIOyS8TqB6z",
        "colab_type": "text"
      },
      "source": [
        "except in yanına hatanın adını yazmayarak tüm hatalara tek bir hata mesajı verdirebiliyoruz"
      ]
    },
    {
      "cell_type": "markdown",
      "metadata": {
        "id": "w0iw5zm7qNAw",
        "colab_type": "text"
      },
      "source": [
        "fakat bu tarz bir gösterimi sadece kullanıcıya bilgi vermeyeceksek iyi bir şeçenecektir.\n",
        "\n",
        "bu yüzden eğer kullancıya hatayı göstermek istiyorsak, yakalayabildiğimiz kadar hatayı yakalamak ve ön göremediğimiz hataları ise tek bir mesaj altında toplamak daha doğru olur:"
      ]
    },
    {
      "cell_type": "code",
      "metadata": {
        "id": "ju_79L1Jwytq",
        "colab_type": "code",
        "colab": {}
      },
      "source": [
        "try:\n",
        "  hata verecek kodlar\n",
        "except ValueError:\n",
        "  print(\"Yanlış bir değer girdiniz!\")\n",
        "except ZeroDivisionError:\n",
        "  print(\"Bir sayıyı 0'a bölemezsiniz!\")\n",
        "except TypeError:\n",
        "  print(\"Bla bala\")\n",
        "except:\n",
        "  print(\"Beklenmeyen bir hata oluştu!\")        \n"
      ],
      "execution_count": 0,
      "outputs": []
    },
    {
      "cell_type": "markdown",
      "metadata": {
        "id": "3sQp3dDtxLJi",
        "colab_type": "text"
      },
      "source": [
        "Bu sayede programamız hatalar yüzünden çökemeyecek ve çalışmaya devam edecektir."
      ]
    }
  ]
}