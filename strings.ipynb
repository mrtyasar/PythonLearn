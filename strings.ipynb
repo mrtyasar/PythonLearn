{
  "nbformat": 4,
  "nbformat_minor": 0,
  "metadata": {
    "colab": {
      "name": "strings.ipynb",
      "provenance": [],
      "collapsed_sections": []
    },
    "kernelspec": {
      "name": "python3",
      "display_name": "Python 3"
    }
  },
  "cells": [
    {
      "cell_type": "markdown",
      "metadata": {
        "id": "kGnB5ms-jstD",
        "colab_type": "text"
      },
      "source": [
        "# Strings"
      ]
    },
    {
      "cell_type": "markdown",
      "metadata": {
        "id": "9Ixk_wxBjx86",
        "colab_type": "text"
      },
      "source": [
        "Bir veya birden fazla karakterden oluşan yapıya karakter dizisi yani string denir.\n",
        "\n",
        "String'leri tanımlamak için ''(tek tınak), \"\"(çift tırnak), \"\"\"\"\"\"(üç tırnak) ile gösterebiliriz.\n",
        "\n",
        "Python'da tırnak işaretlerin arasında yazılan her ifade karakter dizisi olarak algılanır."
      ]
    },
    {
      "cell_type": "code",
      "metadata": {
        "id": "wJofj-eIkV6a",
        "colab_type": "code",
        "colab": {
          "base_uri": "https://localhost:8080/",
          "height": 67
        },
        "outputId": "c7fa8c39-b8a9-4c61-c3ed-b4d3dbcb039f"
      },
      "source": [
        "print(\"Elma\")\n",
        "print(\"282&kn=\")\n",
        "print(\"dlanfn\")\n",
        "print(\"\") #içi boş karakter dizisi\n",
        "print(\" \") # içinde bir adet boşluk olan karakter dizisi"
      ],
      "execution_count": 3,
      "outputs": [
        {
          "output_type": "stream",
          "text": [
            "Elma\n",
            "282&kn=\n",
            "dlanfn\n"
          ],
          "name": "stdout"
        }
      ]
    },
    {
      "cell_type": "markdown",
      "metadata": {
        "id": "wyqm1VQ8kl_c",
        "colab_type": "text"
      },
      "source": [
        "içinde boşluk olan karakter dizisi boşluğu temsil eder, karakter dizileri arasında boşluk bırakmamızı sağlar"
      ]
    },
    {
      "cell_type": "code",
      "metadata": {
        "id": "jNhynPL7ktrq",
        "colab_type": "code",
        "colab": {
          "base_uri": "https://localhost:8080/",
          "height": 34
        },
        "outputId": "1e72ef65-ddba-44e2-ff3c-94902a0d9c99"
      },
      "source": [
        "print(\"Murat\"+\" \"+\"Can\")"
      ],
      "execution_count": 4,
      "outputs": [
        {
          "output_type": "stream",
          "text": [
            "Murat Can\n"
          ],
          "name": "stdout"
        }
      ]
    },
    {
      "cell_type": "markdown",
      "metadata": {
        "id": "8i7Ddgctkxdk",
        "colab_type": "text"
      },
      "source": [
        "Boş bir karakter dizisi olmasaydı:"
      ]
    },
    {
      "cell_type": "code",
      "metadata": {
        "id": "ZeqWNX0Ekzrd",
        "colab_type": "code",
        "colab": {
          "base_uri": "https://localhost:8080/",
          "height": 34
        },
        "outputId": "7e554268-5c86-48b7-eb01-eb562b0e4d6d"
      },
      "source": [
        "print(\"Murat\"+\"Can\")"
      ],
      "execution_count": 5,
      "outputs": [
        {
          "output_type": "stream",
          "text": [
            "MuratCan\n"
          ],
          "name": "stdout"
        }
      ]
    },
    {
      "cell_type": "markdown",
      "metadata": {
        "id": "SBfJwIdLk34e",
        "colab_type": "text"
      },
      "source": [
        "# Type() Fonksiyonu"
      ]
    },
    {
      "cell_type": "markdown",
      "metadata": {
        "id": "EusU3D5mk62O",
        "colab_type": "text"
      },
      "source": [
        "type() fonskiyonu bir nesnenin hangi veri tipinde olduğunu gösterir"
      ]
    },
    {
      "cell_type": "code",
      "metadata": {
        "id": "-pX0VAIulBIb",
        "colab_type": "code",
        "colab": {
          "base_uri": "https://localhost:8080/",
          "height": 34
        },
        "outputId": "34977d4d-ea00-4f3b-b2cd-de38f35c83be"
      },
      "source": [
        "print(type(\"aşf30&\"))"
      ],
      "execution_count": 6,
      "outputs": [
        {
          "output_type": "stream",
          "text": [
            "<class 'str'>\n"
          ],
          "name": "stdout"
        }
      ]
    },
    {
      "cell_type": "markdown",
      "metadata": {
        "id": "WhaAe32olFl3",
        "colab_type": "text"
      },
      "source": [
        "Fonksiyonların ve metotların parantez içinde belirtilen değerlere teknkik dilde parametre denir."
      ]
    },
    {
      "cell_type": "code",
      "metadata": {
        "id": "FABbcMXnlPtO",
        "colab_type": "code",
        "colab": {
          "base_uri": "https://localhost:8080/",
          "height": 34
        },
        "outputId": "ae33da20-d1e8-45f0-b1d6-4f0a44cfe60e"
      },
      "source": [
        "print(\"tnbc1\"+\".com\")"
      ],
      "execution_count": 7,
      "outputs": [
        {
          "output_type": "stream",
          "text": [
            "tnbc1.com\n"
          ],
          "name": "stdout"
        }
      ]
    },
    {
      "cell_type": "markdown",
      "metadata": {
        "id": "6lUHJV1ulcbZ",
        "colab_type": "text"
      },
      "source": [
        "# boşluk bırakma"
      ]
    },
    {
      "cell_type": "markdown",
      "metadata": {
        "id": "mYwvds8zlg3c",
        "colab_type": "text"
      },
      "source": [
        " \" \" ile boşluk bırakmak"
      ]
    },
    {
      "cell_type": "code",
      "metadata": {
        "id": "6ER4jAHQljAC",
        "colab_type": "code",
        "colab": {
          "base_uri": "https://localhost:8080/",
          "height": 34
        },
        "outputId": "e66ef38e-9ee4-42a1-cf85-b6b460f57873"
      },
      "source": [
        "print(\"Mustafa\"+\" \"+\"Kemal\"+\" \"+\"Atatürk\")"
      ],
      "execution_count": 8,
      "outputs": [
        {
          "output_type": "stream",
          "text": [
            "Mustafa Kemal Atatürk\n"
          ],
          "name": "stdout"
        }
      ]
    },
    {
      "cell_type": "markdown",
      "metadata": {
        "id": "qV_9kWCulssg",
        "colab_type": "text"
      },
      "source": [
        "\"blabla \" tırnak içinde boşluk bırakma"
      ]
    },
    {
      "cell_type": "code",
      "metadata": {
        "id": "xJgi3HOslyD4",
        "colab_type": "code",
        "colab": {
          "base_uri": "https://localhost:8080/",
          "height": 34
        },
        "outputId": "314920cd-8cd7-4fe5-aad7-d2b3177c949e"
      },
      "source": [
        "print(\"Mustafa \"+\"Kemal \"+\"Atatürk\")"
      ],
      "execution_count": 9,
      "outputs": [
        {
          "output_type": "stream",
          "text": [
            "Mustafa Kemal Atatürk\n"
          ],
          "name": "stdout"
        }
      ]
    },
    {
      "cell_type": "markdown",
      "metadata": {
        "id": "NMVUufy4l4hx",
        "colab_type": "text"
      },
      "source": [
        "Karakter dizilerinde:\n",
        "\n",
        "(+) işareti birleştirme\n",
        "(*) işareti tekrarlama işlevi görür"
      ]
    },
    {
      "cell_type": "code",
      "metadata": {
        "id": "nP6xF7NdmBy8",
        "colab_type": "code",
        "colab": {
          "base_uri": "https://localhost:8080/",
          "height": 67
        },
        "outputId": "6b0923c6-3c36-4a2d-f34e-9af20cffb451"
      },
      "source": [
        "print(\"w\"*3)\n",
        "print(\"yavaş \"*2+\"yaşamak lazım\")\n",
        "print(\"-\"*10)"
      ],
      "execution_count": 12,
      "outputs": [
        {
          "output_type": "stream",
          "text": [
            "www\n",
            "yavaş yavaş yaşamak lazım\n",
            "----------\n"
          ],
          "name": "stdout"
        }
      ]
    },
    {
      "cell_type": "markdown",
      "metadata": {
        "id": "FGCqHKHYmPRP",
        "colab_type": "text"
      },
      "source": [
        "Çift tırnağı kullandığımız zaman tek tırnak içinde\n",
        "tek tırnağı kullanacağımız zaman çift tırnak içinde yazılmalıdır.\n",
        "aksi takdirde makinenin kafası karışıp hata alırız"
      ]
    },
    {
      "cell_type": "markdown",
      "metadata": {
        "id": "pt70b5Q6mZ2y",
        "colab_type": "text"
      },
      "source": [
        "print('Murat'ın kalemi var') #hata aldık çünkü python karakter dizisinin sonunu algılayamadı."
      ]
    },
    {
      "cell_type": "code",
      "metadata": {
        "id": "5q7oUwVMmj6_",
        "colab_type": "code",
        "colab": {
          "base_uri": "https://localhost:8080/",
          "height": 34
        },
        "outputId": "f313f246-c2d8-4979-d754-bed351c16b3c"
      },
      "source": [
        "print(\"Murat'ın kalemi var\")"
      ],
      "execution_count": 13,
      "outputs": [
        {
          "output_type": "stream",
          "text": [
            "Murat'ın kalemi var\n"
          ],
          "name": "stdout"
        }
      ]
    }
  ]
}