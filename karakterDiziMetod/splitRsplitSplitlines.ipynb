{
  "nbformat": 4,
  "nbformat_minor": 0,
  "metadata": {
    "colab": {
      "name": "splitRsplitSplitlines.ipynb",
      "provenance": [],
      "collapsed_sections": []
    },
    "kernelspec": {
      "name": "python3",
      "display_name": "Python 3"
    }
  },
  "cells": [
    {
      "cell_type": "markdown",
      "metadata": {
        "id": "4OUuJJ-SBSgP",
        "colab_type": "text"
      },
      "source": [
        "# split() methodu"
      ]
    },
    {
      "cell_type": "markdown",
      "metadata": {
        "id": "Y-F-Dy9GBZL_",
        "colab_type": "text"
      },
      "source": [
        "split() methodun görevi dizilerin belli bir yerden bölünmesini sağlamaktır.\n",
        "\n",
        "mesala karakter dizinde yer alan kelimelerin ilk harfini nasıl alırız?\n",
        "aklımıza ilk yöntem bu gelebilir:"
      ]
    },
    {
      "cell_type": "code",
      "metadata": {
        "id": "ZGnZG2EwBo7L",
        "colab_type": "code",
        "colab": {
          "base_uri": "https://localhost:8080/",
          "height": 34
        },
        "outputId": "cc69e9b5-f850-4c99-e852-64196e3fd2ed"
      },
      "source": [
        "kardiz = \"İstanbul Büyükşehir Belediyesi\"\n",
        "print(kardiz[0],kardiz[9],kardiz[20],sep=\"\")"
      ],
      "execution_count": 1,
      "outputs": [
        {
          "output_type": "stream",
          "text": [
            "İBB\n"
          ],
          "name": "stdout"
        }
      ]
    },
    {
      "cell_type": "markdown",
      "metadata": {
        "id": "7VhEUvUmB4k8",
        "colab_type": "text"
      },
      "source": [
        "Bu işlemi kolayca split() metodu ile yapabiliriz"
      ]
    },
    {
      "cell_type": "code",
      "metadata": {
        "id": "ZdfPZn_jB9da",
        "colab_type": "code",
        "colab": {
          "base_uri": "https://localhost:8080/",
          "height": 34
        },
        "outputId": "8d6a590e-60da-4822-dd8a-b0d137fd26f8"
      },
      "source": [
        "kardiz = \"İstanbul Büyükşehir Belediyesi\"\n",
        "print(kardiz.split())"
      ],
      "execution_count": 2,
      "outputs": [
        {
          "output_type": "stream",
          "text": [
            "['İstanbul', 'Büyükşehir', 'Belediyesi']\n"
          ],
          "name": "stdout"
        }
      ]
    },
    {
      "cell_type": "markdown",
      "metadata": {
        "id": "3NtQS-mHCHA4",
        "colab_type": "text"
      },
      "source": [
        "for döngüsü ile beraber yazalım:"
      ]
    },
    {
      "cell_type": "code",
      "metadata": {
        "id": "lpEgBahFCJXv",
        "colab_type": "code",
        "colab": {
          "base_uri": "https://localhost:8080/",
          "height": 67
        },
        "outputId": "62b34afa-c346-4ba1-a480-93e7a84c4d9d"
      },
      "source": [
        "for i in kardiz.split():\n",
        "  print(i)"
      ],
      "execution_count": 3,
      "outputs": [
        {
          "output_type": "stream",
          "text": [
            "İstanbul\n",
            "Büyükşehir\n",
            "Belediyesi\n"
          ],
          "name": "stdout"
        }
      ]
    },
    {
      "cell_type": "markdown",
      "metadata": {
        "id": "34uQpXWkCPrT",
        "colab_type": "text"
      },
      "source": [
        "Bu bilgiyle kurumların kısaltısını yazdırabiliriz"
      ]
    },
    {
      "cell_type": "code",
      "metadata": {
        "id": "dfUxPsDDCUdB",
        "colab_type": "code",
        "colab": {
          "base_uri": "https://localhost:8080/",
          "height": 50
        },
        "outputId": "b4c4557b-0acd-4bcb-8237-c4610c9edeca"
      },
      "source": [
        "kardiz = input(\"Kısaltmasını öğrenmek istediğiniz kurum adını giriniz: \")\n",
        "for m in kardiz.split():\n",
        "  print(m[0],end=\"\")"
      ],
      "execution_count": 4,
      "outputs": [
        {
          "output_type": "stream",
          "text": [
            "Kısaltmasını öğrenmek istediğiniz kurum adını giriniz: Ankara Büyükşehir Belediyesi\n",
            "ABB"
          ],
          "name": "stdout"
        }
      ]
    },
    {
      "cell_type": "markdown",
      "metadata": {
        "id": "YJMxHJzCCx63",
        "colab_type": "text"
      },
      "source": [
        "split() methoduna parametre girmeyince ön tanımlı olarak boşluklardan böler"
      ]
    },
    {
      "cell_type": "code",
      "metadata": {
        "id": "ZJOXsQn9C4x2",
        "colab_type": "code",
        "colab": {
          "base_uri": "https://localhost:8080/",
          "height": 34
        },
        "outputId": "5f888dd1-6ef0-4c35-9789-c6bc2c3a4275"
      },
      "source": [
        "kardiz = \"Bolvadin, Kilis, Siverek, İskenderun, İstanbul\"\n",
        "print(kardiz.split())"
      ],
      "execution_count": 5,
      "outputs": [
        {
          "output_type": "stream",
          "text": [
            "['Bolvadin,', 'Kilis,', 'Siverek,', 'İskenderun,', 'İstanbul']\n"
          ],
          "name": "stdout"
        }
      ]
    },
    {
      "cell_type": "markdown",
      "metadata": {
        "id": "tl_-36X7GaKm",
        "colab_type": "text"
      },
      "source": [
        "Boşluktan ikiye böldüğü için virgülleri de dahil ediyor"
      ]
    },
    {
      "cell_type": "code",
      "metadata": {
        "id": "x5Ei315NGsC-",
        "colab_type": "code",
        "colab": {
          "base_uri": "https://localhost:8080/",
          "height": 101
        },
        "outputId": "eeb697c0-de6f-42a3-bb22-f4628dbe56f4"
      },
      "source": [
        "kardiz = kardiz.split()\n",
        "for i in kardiz:\n",
        "  print(i)"
      ],
      "execution_count": 6,
      "outputs": [
        {
          "output_type": "stream",
          "text": [
            "Bolvadin,\n",
            "Kilis,\n",
            "Siverek,\n",
            "İskenderun,\n",
            "İstanbul\n"
          ],
          "name": "stdout"
        }
      ]
    },
    {
      "cell_type": "markdown",
      "metadata": {
        "id": "-oiI0pyHHB2J",
        "colab_type": "text"
      },
      "source": [
        "eğer ki split() e virgül parametresini verirsek virgülden böler"
      ]
    },
    {
      "cell_type": "code",
      "metadata": {
        "id": "7gVoNs38HJCy",
        "colab_type": "code",
        "colab": {
          "base_uri": "https://localhost:8080/",
          "height": 34
        },
        "outputId": "ed979ddb-48b4-4972-dcb7-8d78b8da2aaa"
      },
      "source": [
        "kardiz = \"Bolvadin, Kilis, Siverek, İskenderun, İstanbul\"\n",
        "kardiz = kardiz.split(\",\")\n",
        "print(kardiz)\n"
      ],
      "execution_count": 10,
      "outputs": [
        {
          "output_type": "stream",
          "text": [
            "['Bolvadin', ' Kilis', ' Siverek', ' İskenderun', ' İstanbul']\n"
          ],
          "name": "stdout"
        }
      ]
    },
    {
      "cell_type": "code",
      "metadata": {
        "id": "8O3iLdBlHjpr",
        "colab_type": "code",
        "colab": {
          "base_uri": "https://localhost:8080/",
          "height": 101
        },
        "outputId": "4554dfba-bafe-4b03-b0a7-83d5a6f9a8f0"
      },
      "source": [
        "for m in kardiz:\n",
        "  print(m)"
      ],
      "execution_count": 11,
      "outputs": [
        {
          "output_type": "stream",
          "text": [
            "Bolvadin\n",
            " Kilis\n",
            " Siverek\n",
            " İskenderun\n",
            " İstanbul\n"
          ],
          "name": "stdout"
        }
      ]
    },
    {
      "cell_type": "markdown",
      "metadata": {
        "id": "iZlf2eDGHqtv",
        "colab_type": "text"
      },
      "source": [
        "Yani split() methoduna hangi parametreyi yazarsak oradan bölecektir"
      ]
    },
    {
      "cell_type": "code",
      "metadata": {
        "id": "4nYq_WDFH5x4",
        "colab_type": "code",
        "colab": {
          "base_uri": "https://localhost:8080/",
          "height": 84
        },
        "outputId": "b291088d-d499-4879-84bf-39c74f99f933"
      },
      "source": [
        "kardiz = \"Bolvadin, Kilis, Siverek, İskenderun, İstanbul\"\n",
        "for i in kardiz.split(\"l\"):\n",
        "  print(i)"
      ],
      "execution_count": 15,
      "outputs": [
        {
          "output_type": "stream",
          "text": [
            "Bo\n",
            "vadin, Ki\n",
            "is, Siverek, İskenderun, İstanbu\n",
            "\n"
          ],
          "name": "stdout"
        }
      ]
    },
    {
      "cell_type": "markdown",
      "metadata": {
        "id": "SB6a4jcSIcnn",
        "colab_type": "text"
      },
      "source": [
        "split() methodu aslında iki parametre alır.\n",
        "\n",
        "ikinci parametresi kaç kez bölüneceğini gösterir"
      ]
    },
    {
      "cell_type": "code",
      "metadata": {
        "id": "S_rcumvpIkMQ",
        "colab_type": "code",
        "colab": {
          "base_uri": "https://localhost:8080/",
          "height": 34
        },
        "outputId": "96d5419d-ecd2-4369-f3af-27790a396d3e"
      },
      "source": [
        "kardiz = \"Ankara Büyükşehir Belediyesi\"\n",
        "print(kardiz.split(\" \",1))"
      ],
      "execution_count": 24,
      "outputs": [
        {
          "output_type": "stream",
          "text": [
            "['Ankara', 'Büyükşehir Belediyesi']\n"
          ],
          "name": "stdout"
        }
      ]
    },
    {
      "cell_type": "code",
      "metadata": {
        "id": "8o7RT3JDI2Tz",
        "colab_type": "code",
        "colab": {
          "base_uri": "https://localhost:8080/",
          "height": 34
        },
        "outputId": "a50ccf31-4ce5-4cd3-dc96-586cd298ca04"
      },
      "source": [
        "print(kardiz.split(\" \",2))"
      ],
      "execution_count": 17,
      "outputs": [
        {
          "output_type": "stream",
          "text": [
            "['Ankara', 'Büyükşehir', 'Belediyesi']\n"
          ],
          "name": "stdout"
        }
      ]
    },
    {
      "cell_type": "markdown",
      "metadata": {
        "id": "AGwEUMZbI67v",
        "colab_type": "text"
      },
      "source": [
        "Burada dikkat edilmesi gerek ilk parametreyi kessinlikle yazmalıyız\n",
        "yoksa sadece bölünecek sayıyı yazarsak hata alırız."
      ]
    },
    {
      "cell_type": "code",
      "metadata": {
        "id": "Gq-2Bbx6JHZz",
        "colab_type": "code",
        "colab": {
          "base_uri": "https://localhost:8080/",
          "height": 34
        },
        "outputId": "ce5f6e8f-d9df-423b-e6eb-d881913d908d"
      },
      "source": [
        "friends = \"Ahmet, Mehmet, Kezban, Mualla, Süreyya, Veli\"\n",
        "print(friends.split(\",\",3))"
      ],
      "execution_count": 18,
      "outputs": [
        {
          "output_type": "stream",
          "text": [
            "['Ahmet', ' Mehmet', ' Kezban', ' Mualla, Süreyya, Veli']\n"
          ],
          "name": "stdout"
        }
      ]
    },
    {
      "cell_type": "markdown",
      "metadata": {
        "id": "bXQihDthJbIB",
        "colab_type": "text"
      },
      "source": [
        "sys modülün version değişkeni bize karakter dizi veriyor"
      ]
    },
    {
      "cell_type": "code",
      "metadata": {
        "id": "eBPro7KiJg3O",
        "colab_type": "code",
        "colab": {
          "base_uri": "https://localhost:8080/",
          "height": 50
        },
        "outputId": "0253a739-af65-4db0-c362-9a0fd4215af3"
      },
      "source": [
        "import sys\n",
        "print(sys.version)"
      ],
      "execution_count": 19,
      "outputs": [
        {
          "output_type": "stream",
          "text": [
            "3.6.9 (default, Apr 18 2020, 01:56:04) \n",
            "[GCC 8.4.0]\n"
          ],
          "name": "stdout"
        }
      ]
    },
    {
      "cell_type": "markdown",
      "metadata": {
        "id": "rLm_SARbJrqA",
        "colab_type": "text"
      },
      "source": [
        "sadece sürüm kısmını dilimleme yoluyla alabiliriz"
      ]
    },
    {
      "cell_type": "code",
      "metadata": {
        "id": "hn7XxktyJvx6",
        "colab_type": "code",
        "colab": {
          "base_uri": "https://localhost:8080/",
          "height": 34
        },
        "outputId": "8a87a353-b0cb-4bfa-8ff9-267db1240062"
      },
      "source": [
        "surum = sys.version\n",
        "print(surum[:5])"
      ],
      "execution_count": 20,
      "outputs": [
        {
          "output_type": "stream",
          "text": [
            "3.6.9\n"
          ],
          "name": "stdout"
        }
      ]
    },
    {
      "cell_type": "markdown",
      "metadata": {
        "id": "lz7Xj5ksJ1jZ",
        "colab_type": "text"
      },
      "source": [
        "Fakat bu işlemi split() methoduyla da gerçekleştirebiliriz:"
      ]
    },
    {
      "cell_type": "code",
      "metadata": {
        "id": "farHw2_8J7A5",
        "colab_type": "code",
        "colab": {
          "base_uri": "https://localhost:8080/",
          "height": 34
        },
        "outputId": "59c67be1-ef59-4c62-f6a6-a178bd0fef5a"
      },
      "source": [
        "print(surum.split())"
      ],
      "execution_count": 21,
      "outputs": [
        {
          "output_type": "stream",
          "text": [
            "['3.6.9', '(default,', 'Apr', '18', '2020,', '01:56:04)', '[GCC', '8.4.0]']\n"
          ],
          "name": "stdout"
        }
      ]
    },
    {
      "cell_type": "markdown",
      "metadata": {
        "id": "keZAukoSKDes",
        "colab_type": "text"
      },
      "source": [
        "sadece sürüm numarasını alalım:"
      ]
    },
    {
      "cell_type": "code",
      "metadata": {
        "id": "463Pc258KGTo",
        "colab_type": "code",
        "colab": {
          "base_uri": "https://localhost:8080/",
          "height": 34
        },
        "outputId": "9b394523-3dd4-423d-e182-b29a3978cb06"
      },
      "source": [
        "print(surum.split()[0])"
      ],
      "execution_count": 22,
      "outputs": [
        {
          "output_type": "stream",
          "text": [
            "3.6.9\n"
          ],
          "name": "stdout"
        }
      ]
    },
    {
      "cell_type": "markdown",
      "metadata": {
        "id": "nXc2ciKhL83O",
        "colab_type": "text"
      },
      "source": [
        "# rsplit() Methodu"
      ]
    },
    {
      "cell_type": "markdown",
      "metadata": {
        "id": "Du0M9-eCUcsO",
        "colab_type": "text"
      },
      "source": [
        "rsplit() methodu split() methoduna çok benzer.\n",
        "Tek farkları ve rsplit() methodunun işlevi ise soldan sağa değilde sağdan sola işlem görmesidir. "
      ]
    },
    {
      "cell_type": "code",
      "metadata": {
        "id": "2wZjpKpGUp23",
        "colab_type": "code",
        "colab": {
          "base_uri": "https://localhost:8080/",
          "height": 34
        },
        "outputId": "6f25af23-a3ca-4c8c-b22a-9671771e3bb2"
      },
      "source": [
        "print(kardiz.split(\" \",1))"
      ],
      "execution_count": 25,
      "outputs": [
        {
          "output_type": "stream",
          "text": [
            "['Ankara', 'Büyükşehir Belediyesi']\n"
          ],
          "name": "stdout"
        }
      ]
    },
    {
      "cell_type": "markdown",
      "metadata": {
        "id": "Foe3nVoPUvBH",
        "colab_type": "text"
      },
      "source": [
        "Aynı işlemi rsplit() methodu ile yapabiliriz"
      ]
    },
    {
      "cell_type": "code",
      "metadata": {
        "id": "lVsISxxUVHzA",
        "colab_type": "code",
        "colab": {
          "base_uri": "https://localhost:8080/",
          "height": 34
        },
        "outputId": "77bd1d24-f329-4381-ee4d-07f0bd21fba4"
      },
      "source": [
        "print(kardiz.rsplit(\" \",1))"
      ],
      "execution_count": 26,
      "outputs": [
        {
          "output_type": "stream",
          "text": [
            "['Ankara Büyükşehir', 'Belediyesi']\n"
          ],
          "name": "stdout"
        }
      ]
    },
    {
      "cell_type": "markdown",
      "metadata": {
        "id": "XVbiJYlXVLjL",
        "colab_type": "text"
      },
      "source": [
        "tersten böldü"
      ]
    },
    {
      "cell_type": "markdown",
      "metadata": {
        "id": "qXRUv6C0VPUz",
        "colab_type": "text"
      },
      "source": [
        "rsplit() methodu çok fazla kulanılmaz."
      ]
    },
    {
      "cell_type": "markdown",
      "metadata": {
        "id": "WsmzIEm2Vctr",
        "colab_type": "text"
      },
      "source": [
        "# splitlines() methodu"
      ]
    },
    {
      "cell_type": "markdown",
      "metadata": {
        "id": "rAIMrJl_Vy9-",
        "colab_type": "text"
      },
      "source": [
        "splitlines() methodu uzun paragrafları satır satır ayırır:"
      ]
    },
    {
      "cell_type": "code",
      "metadata": {
        "id": "pqc6eCFGV6mq",
        "colab_type": "code",
        "colab": {
          "base_uri": "https://localhost:8080/",
          "height": 54
        },
        "outputId": "6e001d0f-c4bc-46fa-c8a3-687efd6763aa"
      },
      "source": [
        "metin = \"\"\"Python programlama dili Guido Van Rossum adlı Hollandalı bir programcı\n",
        "tarafından 90'lı yılların başında geliştirilmeye başlanmıştır. Çoğu insan, isminin\n",
        "Python olmasına bakarak, bu programlama dilinin, adını piton yılanından aldığını\n",
        "düşünür. Ancak zannedildiğinin aksine bu programlama dilinin adı piton yılanından\n",
        "gelmez. Guido Van Rossum bu programlama dilini, The Monty Python adlı bir İngiliz\n",
        "komedi grubunun, Monty Python's Flying Circus adlı gösterisinden esinlenerek\n",
        "adlandırmıştır. Ancak her ne kadar gerçek böyle olsa da, Python programlama\n",
        "dilinin pek çok yerde bir yılan figürü ile temsil edilmesi neredeyse bir gelenek\n",
        "halini almıştır diyebiliriz.\"\"\"\n",
        "print(metin.splitlines())"
      ],
      "execution_count": 27,
      "outputs": [
        {
          "output_type": "stream",
          "text": [
            "['Python programlama dili Guido Van Rossum adlı Hollandalı bir programcı', \"tarafından 90'lı yılların başında geliştirilmeye başlanmıştır. Çoğu insan, isminin\", 'Python olmasına bakarak, bu programlama dilinin, adını piton yılanından aldığını', 'düşünür. Ancak zannedildiğinin aksine bu programlama dilinin adı piton yılanından', 'gelmez. Guido Van Rossum bu programlama dilini, The Monty Python adlı bir İngiliz', \"komedi grubunun, Monty Python's Flying Circus adlı gösterisinden esinlenerek\", 'adlandırmıştır. Ancak her ne kadar gerçek böyle olsa da, Python programlama', 'dilinin pek çok yerde bir yılan figürü ile temsil edilmesi neredeyse bir gelenek', 'halini almıştır diyebiliriz.']\n"
          ],
          "name": "stdout"
        }
      ]
    },
    {
      "cell_type": "markdown",
      "metadata": {
        "id": "H_Vl-YWFWHwR",
        "colab_type": "text"
      },
      "source": [
        "splitlines() methodunu parametreli de kullanabiliriz"
      ]
    },
    {
      "cell_type": "code",
      "metadata": {
        "id": "i8qwm6THWMEw",
        "colab_type": "code",
        "colab": {
          "base_uri": "https://localhost:8080/",
          "height": 54
        },
        "outputId": "5f35e006-19e5-4d2b-901c-8bb41b999a73"
      },
      "source": [
        "print(metin.splitlines(True))"
      ],
      "execution_count": 28,
      "outputs": [
        {
          "output_type": "stream",
          "text": [
            "['Python programlama dili Guido Van Rossum adlı Hollandalı bir programcı\\n', \"tarafından 90'lı yılların başında geliştirilmeye başlanmıştır. Çoğu insan, isminin\\n\", 'Python olmasına bakarak, bu programlama dilinin, adını piton yılanından aldığını\\n', 'düşünür. Ancak zannedildiğinin aksine bu programlama dilinin adı piton yılanından\\n', 'gelmez. Guido Van Rossum bu programlama dilini, The Monty Python adlı bir İngiliz\\n', \"komedi grubunun, Monty Python's Flying Circus adlı gösterisinden esinlenerek\\n\", 'adlandırmıştır. Ancak her ne kadar gerçek böyle olsa da, Python programlama\\n', 'dilinin pek çok yerde bir yılan figürü ile temsil edilmesi neredeyse bir gelenek\\n', 'halini almıştır diyebiliriz.']\n"
          ],
          "name": "stdout"
        }
      ]
    },
    {
      "cell_type": "markdown",
      "metadata": {
        "id": "mm8lvb69WTFV",
        "colab_type": "text"
      },
      "source": [
        "eğer ki Splitlines() methoduna True parametresini yazarsak görünmeyen bir kaçı dizisini gösterir = \\n"
      ]
    }
  ]
}