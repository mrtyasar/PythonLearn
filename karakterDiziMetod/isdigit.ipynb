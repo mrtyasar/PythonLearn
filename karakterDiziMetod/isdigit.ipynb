{
  "nbformat": 4,
  "nbformat_minor": 0,
  "metadata": {
    "colab": {
      "name": "isdigit.ipynb",
      "provenance": [],
      "collapsed_sections": []
    },
    "kernelspec": {
      "name": "python3",
      "display_name": "Python 3"
    }
  },
  "cells": [
    {
      "cell_type": "markdown",
      "metadata": {
        "id": "194s6WkKm6kG",
        "colab_type": "text"
      },
      "source": [
        "# isdigit()"
      ]
    },
    {
      "cell_type": "markdown",
      "metadata": {
        "id": "HVtQNxK2m8Aw",
        "colab_type": "text"
      },
      "source": [
        "+ isdigit() methodu karakter dizisinin sadece sayılardan mı oluştuğunu sorgular\n",
        "+ sorduğu soru: bu karakter dizisi tamamen sayılardan mı oluşuyor?\n",
        "+ cevap evet ise True cevap hayır ise False\n",
        "+ parametre almaz\n",
        "+ Formül:\n",
        "string.isdigit()"
      ]
    },
    {
      "cell_type": "code",
      "metadata": {
        "id": "KHMsYL4NnRTq",
        "colab_type": "code",
        "colab": {
          "base_uri": "https://localhost:8080/",
          "height": 34
        },
        "outputId": "75201ecc-b455-4ed5-dfa0-c9e314c525cf"
      },
      "source": [
        "a = \"1234\"\n",
        "print(a.isdigit())"
      ],
      "execution_count": 1,
      "outputs": [
        {
          "output_type": "stream",
          "text": [
            "True\n"
          ],
          "name": "stdout"
        }
      ]
    },
    {
      "cell_type": "code",
      "metadata": {
        "id": "EQzCzbednVRE",
        "colab_type": "code",
        "colab": {
          "base_uri": "https://localhost:8080/",
          "height": 34
        },
        "outputId": "58b10fe7-5739-4e1a-88f6-c17e4345a895"
      },
      "source": [
        "a = \"1234b\"\n",
        "print(a.isdigit())"
      ],
      "execution_count": 2,
      "outputs": [
        {
          "output_type": "stream",
          "text": [
            "False\n"
          ],
          "name": "stdout"
        }
      ]
    },
    {
      "cell_type": "code",
      "metadata": {
        "id": "ytzsOoq6nY50",
        "colab_type": "code",
        "colab": {
          "base_uri": "https://localhost:8080/",
          "height": 34
        },
        "outputId": "1a5c64bc-c3f4-4eac-eeb7-9b9e6b79498e"
      },
      "source": [
        "a = \"1234+\"\n",
        "print(a.isdigit())"
      ],
      "execution_count": 3,
      "outputs": [
        {
          "output_type": "stream",
          "text": [
            "False\n"
          ],
          "name": "stdout"
        }
      ]
    }
  ]
}