{
  "nbformat": 4,
  "nbformat_minor": 0,
  "metadata": {
    "colab": {
      "name": "strMaketransTranslate.ipynb",
      "provenance": [],
      "collapsed_sections": []
    },
    "kernelspec": {
      "name": "python3",
      "display_name": "Python 3"
    }
  },
  "cells": [
    {
      "cell_type": "markdown",
      "metadata": {
        "id": "imtfLe85Iknh",
        "colab_type": "text"
      },
      "source": [
        "# str.maketrans() ve translate()"
      ]
    },
    {
      "cell_type": "markdown",
      "metadata": {
        "id": "X0I1hffJIrHb",
        "colab_type": "text"
      },
      "source": [
        "+ bu iki method sayesinde cümlemizde veya metnimizde değiştirmek istediğimiz veya silmek istediğimiz elemanları metnin akışını bozmadan işlem yapabilmemizi sağlıyor.\n",
        "\n",
        "örneğin:\n",
        "bir sitede Türkçe karakterleri içeren bir cümle yazdık fakat site Türkçe karakterleri kabul etmiyor.\n",
        "\n",
        "peki biz ne yapacağız? maketrans() ve translate() methodlarını kullanarak Türkçe karakterleri kabul edilebilir hale getireceğiz:"
      ]
    },
    {
      "cell_type": "markdown",
      "metadata": {
        "id": "doMJFVKsJOYA",
        "colab_type": "text"
      },
      "source": [
        "Cümlemiz:"
      ]
    },
    {
      "cell_type": "markdown",
      "metadata": {
        "id": "X8YYOYTRJRPE",
        "colab_type": "text"
      },
      "source": [
        "Bildiğiniz gibi, internet üzerinde bazen Türkçe karakterleri kullanamıyoruz."
      ]
    },
    {
      "cell_type": "markdown",
      "metadata": {
        "id": "LNRpoGUQJagy",
        "colab_type": "text"
      },
      "source": [
        "bu cümleyi türkçe karakterleden arındıralım:"
      ]
    },
    {
      "cell_type": "code",
      "metadata": {
        "id": "96KQ9OqKJdoe",
        "colab_type": "code",
        "colab": {
          "base_uri": "https://localhost:8080/",
          "height": 34
        },
        "outputId": "a92b546d-b8d8-4be5-9943-41076fd7d437"
      },
      "source": [
        "kaynak = \"şçöğüıŞÇÖĞÜİ\"\n",
        "hedef = \"scoguiSCOGUI\"\n",
        "ceviriTablosu = str.maketrans(kaynak,hedef)\n",
        "metin = \"Bildiğiniz gibi, internet üzerine bazen Türkçe karakterleri kullanamıyoruz.\"\n",
        "print(metin.translate(ceviriTablosu))"
      ],
      "execution_count": 3,
      "outputs": [
        {
          "output_type": "stream",
          "text": [
            "Bildiginiz gibi, internet uzerine bazen Turkce karakterleri kullanamiyoruz.\n"
          ],
          "name": "stdout"
        }
      ]
    },
    {
      "cell_type": "markdown",
      "metadata": {
        "id": "tsOtX7EYKCMX",
        "colab_type": "text"
      },
      "source": [
        "işlemi kolayca yaptık peki nasıl yaptık:"
      ]
    },
    {
      "cell_type": "markdown",
      "metadata": {
        "id": "DOm9NS92KFOr",
        "colab_type": "text"
      },
      "source": [
        " kaynak adlı değişkenin içine türkçe karakterleri attık\n",
        " \n",
        " hedef adlı değişkenin içine türkçe karakterlerime denk olacak şekilde ingilizce hallerini yazdık\n",
        " \n",
        " ceviriTablosu değişkenin içine maketrans() sayesinde kaynak ve hedefi eşitledik\n",
        " \n",
        " metnimizi metin adlı değişkenin içine attık\n",
        " \n",
        " daha sonra metin imizi translate yani çevirme methodu sayesinde çeviriTablosu değişkenin göre harflerimi değiştirip ekrana çıktı verdirdik"
      ]
    },
    {
      "cell_type": "markdown",
      "metadata": {
        "id": "1ixsKacDKpVo",
        "colab_type": "text"
      },
      "source": [
        "str.maketrans(kaynak,hedef) koduyla tam olarak nasıl bir işlem gerçekleştiriyoruz"
      ]
    },
    {
      "cell_type": "code",
      "metadata": {
        "id": "Gol5ve63KxQ0",
        "colab_type": "code",
        "colab": {
          "base_uri": "https://localhost:8080/",
          "height": 54
        },
        "outputId": "7a535654-fe24-45ac-ed58-9496f3758a4d"
      },
      "source": [
        "print(ceviriTablosu)"
      ],
      "execution_count": 4,
      "outputs": [
        {
          "output_type": "stream",
          "text": [
            "{351: 115, 231: 99, 246: 111, 287: 103, 252: 117, 305: 105, 350: 83, 199: 67, 214: 79, 286: 71, 220: 85, 304: 73}\n"
          ],
          "name": "stdout"
        }
      ]
    },
    {
      "cell_type": "markdown",
      "metadata": {
        "id": "mW6_3Xi4K2FI",
        "colab_type": "text"
      },
      "source": [
        "ceviriTablosunu ekrana yazdırdığımızda kodlarımızın arka planda nasıl çalıştığını görmüş olduk\n",
        "\n",
        "+ bir kodun arka planda ne işler çevirdiğini print() fonksiyonu sayesinde görebiliyoruz"
      ]
    },
    {
      "cell_type": "markdown",
      "metadata": {
        "id": "6evmbz73MK70",
        "colab_type": "text"
      },
      "source": [
        "**str.maketrans(kaynak,hedef)**"
      ]
    },
    {
      "cell_type": "markdown",
      "metadata": {
        "id": "KNRviC5yLROq",
        "colab_type": "text"
      },
      "source": [
        "\n",
        "elimizde iki değişken var bir kaynak ikinci de hedef \n",
        "str.maketrans() methodu sayesinde bu iki methodda olan değişkenlerin değerlerini birbirine eşitleyerek, hangi elemanın hangi elemana eşit olduğunu makineye bildiriyoruz bu saye de eğer elemanları değiştirmek istediğimizde karmaşık bir sonuç almamamızı engelliyor"
      ]
    },
    {
      "cell_type": "markdown",
      "metadata": {
        "id": "8-EUTxJ8MHU5",
        "colab_type": "text"
      },
      "source": [
        "peki bu ceviriTablosu değişkenin çıktısında gözüken sayılar ne anlama geliyor:"
      ]
    },
    {
      "cell_type": "markdown",
      "metadata": {
        "id": "u26YkqZaMZkI",
        "colab_type": "text"
      },
      "source": [
        "Bilgisayarlar harfler üzerine değil rakamlar üzerine kurulmuştur.\n",
        "\n",
        "yani bir her ne yazarsak yazalım makine yazdığımız her bir parçayı sayı olarak algılar\n",
        "\n",
        "bu demektir ki eğer bir makineye a harfini yazarsak makine bunu 97 olarak algılar."
      ]
    },
    {
      "cell_type": "markdown",
      "metadata": {
        "id": "hwEXkmr3MuT3",
        "colab_type": "text"
      },
      "source": [
        "**chr()**"
      ]
    },
    {
      "cell_type": "markdown",
      "metadata": {
        "id": "uaSl15SvMwRb",
        "colab_type": "text"
      },
      "source": [
        "işte bu rakamların hangi harfleri temsil ettiğini chr() methodu sayesinde öğrenebiliriz:"
      ]
    },
    {
      "cell_type": "code",
      "metadata": {
        "id": "w9j9C3HQM285",
        "colab_type": "code",
        "colab": {
          "base_uri": "https://localhost:8080/",
          "height": 67
        },
        "outputId": "0e330842-c8ed-4902-e924-ca10ffe79642"
      },
      "source": [
        "print(chr(97))\n",
        "print(chr(105))\n",
        "print(chr(65))"
      ],
      "execution_count": 6,
      "outputs": [
        {
          "output_type": "stream",
          "text": [
            "a\n",
            "i\n",
            "A\n"
          ],
          "name": "stdout"
        }
      ]
    },
    {
      "cell_type": "markdown",
      "metadata": {
        "id": "EdqOrXFDM_8L",
        "colab_type": "text"
      },
      "source": [
        "bu methodu kullanarak çıktının iki nokta işaretin sol tarafında kalanları denetleyelim:"
      ]
    },
    {
      "cell_type": "code",
      "metadata": {
        "id": "rHV8FuhDNIWO",
        "colab_type": "code",
        "colab": {
          "base_uri": "https://localhost:8080/",
          "height": 218
        },
        "outputId": "b33c3210-504c-40d8-9257-abe96ac38ec6"
      },
      "source": [
        "for i in 214,231,220,199,304,305,286,246,351,252,350,287:\n",
        "  print(i,chr(i))"
      ],
      "execution_count": 7,
      "outputs": [
        {
          "output_type": "stream",
          "text": [
            "214 Ö\n",
            "231 ç\n",
            "220 Ü\n",
            "199 Ç\n",
            "304 İ\n",
            "305 ı\n",
            "286 Ğ\n",
            "246 ö\n",
            "351 ş\n",
            "252 ü\n",
            "350 Ş\n",
            "287 ğ\n"
          ],
          "name": "stdout"
        }
      ]
    },
    {
      "cell_type": "markdown",
      "metadata": {
        "id": "04bO3usTPYpk",
        "colab_type": "text"
      },
      "source": [
        "iki nokta işaretinin sağ tarafında kalanları denetleyelim:"
      ]
    },
    {
      "cell_type": "code",
      "metadata": {
        "id": "FnLGSfUFPddh",
        "colab_type": "code",
        "colab": {
          "base_uri": "https://localhost:8080/",
          "height": 218
        },
        "outputId": "b0c69500-8d39-4845-f4b1-4dd6d8caf1a7"
      },
      "source": [
        "for m in 79,99,85,67,73,105,71,111,115,117,83,103:\n",
        "  print(m,chr(m))"
      ],
      "execution_count": 8,
      "outputs": [
        {
          "output_type": "stream",
          "text": [
            "79 O\n",
            "99 c\n",
            "85 U\n",
            "67 C\n",
            "73 I\n",
            "105 i\n",
            "71 G\n",
            "111 o\n",
            "115 s\n",
            "117 u\n",
            "83 S\n",
            "103 g\n"
          ],
          "name": "stdout"
        }
      ]
    },
    {
      "cell_type": "markdown",
      "metadata": {
        "id": "aiEdY_J8Puwd",
        "colab_type": "text"
      },
      "source": [
        "str.maketrans(kaynak,hedef) kodu kaynak değişkeninde bulunan harfleri hedef değişkeninde bulunan harfleri sırasıyla eşitliyor\n",
        "\n",
        "yani makineye Ö harfi O harfine eşitti\n",
        "\n",
        "ğ harfi g harfine eşittir demek istiyoruz.\n",
        "\n",
        "aslında böyle bir işlem gerçekleştiriyoruz:"
      ]
    },
    {
      "cell_type": "code",
      "metadata": {
        "id": "LhNRDxiiP-fI",
        "colab_type": "code",
        "colab": {}
      },
      "source": [
        "ceviriTablosu = {\"Ö\":\"O\",\n",
        "                 \"ç\":\"c\",\n",
        "                 \"Ü\":\"U\",\n",
        "                 \"Ç\":\"C\",\n",
        "                 \"İ\":\"I\",\n",
        "                 \"ı\":\"i\",\n",
        "                 \"Ğ\":\"G\",\n",
        "                 \"ö\":\"o\",\n",
        "                 \"ş\":\"s\",\n",
        "                 \"Ş\":\"S\",\n",
        "                 \"ğ\":\"g\"}"
      ],
      "execution_count": 0,
      "outputs": []
    },
    {
      "cell_type": "markdown",
      "metadata": {
        "id": "R8AR5OqnQb3e",
        "colab_type": "text"
      },
      "source": [
        "+ pythonda elemanları birbirine eşitlemek için sözlük veri yapısından yararlanırız:\n",
        "\n",
        "mesala name : ad, isim gibi"
      ]
    },
    {
      "cell_type": "code",
      "metadata": {
        "id": "1LYVvn8_QpDV",
        "colab_type": "code",
        "colab": {
          "base_uri": "https://localhost:8080/",
          "height": 34
        },
        "outputId": "0810fea0-39f0-465a-d3c4-35ece7e90e7a"
      },
      "source": [
        "print(ceviriTablosu[\"Ö\"])"
      ],
      "execution_count": 11,
      "outputs": [
        {
          "output_type": "stream",
          "text": [
            "O\n"
          ],
          "name": "stdout"
        }
      ]
    },
    {
      "cell_type": "markdown",
      "metadata": {
        "id": "xnmwBmz7RBkz",
        "colab_type": "text"
      },
      "source": [
        "**maketrans()**"
      ]
    },
    {
      "cell_type": "markdown",
      "metadata": {
        "id": "YfiTZ7j_REsX",
        "colab_type": "text"
      },
      "source": [
        "maketrans() methodu karakter dizisine özel bir method olduğundan dolayı zorunlu olarak sadece karakter dizisinin üzerine uygulamamız gerekir\n",
        "\n",
        "bu demektir ki karakter dizimizin ne olduğu önemli değildir:"
      ]
    },
    {
      "cell_type": "code",
      "metadata": {
        "id": "Gtts8XItRVDN",
        "colab_type": "code",
        "colab": {}
      },
      "source": [
        "\"sanal\".maketrans(kaynak,hedef)"
      ],
      "execution_count": 0,
      "outputs": []
    },
    {
      "cell_type": "code",
      "metadata": {
        "id": "mHQi1nfyRYyk",
        "colab_type": "code",
        "colab": {}
      },
      "source": [
        "\"blabala\".maketrans(kaynak,hedef)"
      ],
      "execution_count": 0,
      "outputs": []
    },
    {
      "cell_type": "markdown",
      "metadata": {
        "id": "x2s_3y5NReKI",
        "colab_type": "text"
      },
      "source": [
        "fakat yazılımcılar karmaşık gözükmediği için çoğunlukla str ifadesini kullanır:"
      ]
    },
    {
      "cell_type": "code",
      "metadata": {
        "id": "P4R0G2bhRqcQ",
        "colab_type": "code",
        "colab": {}
      },
      "source": [
        "str.maketrans(kaynak,hedef)"
      ],
      "execution_count": 0,
      "outputs": []
    },
    {
      "cell_type": "markdown",
      "metadata": {
        "id": "-CrRoTVWRvE3",
        "colab_type": "text"
      },
      "source": [
        "önemli olan aldığı parametrelerin sıralışıdır(kaynak,hedef) gibi."
      ]
    },
    {
      "cell_type": "markdown",
      "metadata": {
        "id": "Qg5xt9UmR10u",
        "colab_type": "text"
      },
      "source": [
        "**program**"
      ]
    },
    {
      "cell_type": "markdown",
      "metadata": {
        "id": "0uzZUEaNR3cp",
        "colab_type": "text"
      },
      "source": [
        "bir arkadaş f klavyeyle metnini yazmak isterken bilgisayarın q klavye göre ayarlandığını unutuyor, bu yüzden yazdığı metin çok karmaşık gözüküyor\n",
        "\n",
        "bunu nasıl düzeltiriz:\n",
        "\n",
        "f kalvye biçimini düşünerek yazdığından dolayı q klavye düzenini f klavye biçimine çeviririz:"
      ]
    },
    {
      "cell_type": "code",
      "metadata": {
        "id": "YnAyT8UISKX0",
        "colab_type": "code",
        "colab": {
          "base_uri": "https://localhost:8080/",
          "height": 34
        },
        "outputId": "d7bf148f-ae12-495b-893d-1dabd33be595"
      },
      "source": [
        "metin = \"Bfjflrk öa kdhsı yteua idjslyd bdcusldvdj ks?\"\n",
        "qKlavyeDuzeni = \"qwertyuıopğüasdfghjklşi,zxcvbnmöç.\"\n",
        "fKlavyeDuzeni = \"fgğıodrnhpqwuieaütkmlyşjxövcçzsb.,\"\n",
        "ceviriTablosuOne = str.maketrans(qKlavyeDuzeni,fKlavyeDuzeni)\n",
        "print(metin.translate(ceviriTablosuOne))"
      ],
      "execution_count": 18,
      "outputs": [
        {
          "output_type": "stream",
          "text": [
            "Bakalım bu metin doğru şekilde çevrilecek mi?\n"
          ],
          "name": "stdout"
        }
      ]
    },
    {
      "cell_type": "code",
      "metadata": {
        "id": "uKDlSK3iT00E",
        "colab_type": "code",
        "colab": {
          "base_uri": "https://localhost:8080/",
          "height": 54
        },
        "outputId": "c5ae42a2-d27a-4ea0-fe61-03a21402752a"
      },
      "source": [
        "print(ceviriTablosuOne)"
      ],
      "execution_count": 19,
      "outputs": [
        {
          "output_type": "stream",
          "text": [
            "{113: 102, 119: 103, 101: 287, 114: 305, 116: 111, 121: 100, 117: 114, 305: 110, 111: 104, 112: 112, 287: 113, 252: 119, 97: 117, 115: 105, 100: 101, 102: 97, 103: 252, 104: 116, 106: 107, 107: 109, 108: 108, 351: 121, 105: 351, 44: 106, 122: 120, 120: 246, 99: 118, 118: 99, 98: 231, 110: 122, 109: 115, 246: 98, 231: 46, 46: 44}\n"
          ],
          "name": "stdout"
        }
      ]
    },
    {
      "cell_type": "markdown",
      "metadata": {
        "id": "E4NjkO90T30n",
        "colab_type": "text"
      },
      "source": [
        "istersekte uzun yolu seçip maketrans() methodunun yaptığı işlemi yapıp daha sonra maketrans() a parametre olarak atayabiliriz:"
      ]
    },
    {
      "cell_type": "code",
      "metadata": {
        "id": "W36aNsiOUAPk",
        "colab_type": "code",
        "colab": {
          "base_uri": "https://localhost:8080/",
          "height": 34
        },
        "outputId": "ae7d93a4-2a7b-4312-ac06-2cca92dda963"
      },
      "source": [
        "metin = \"Bfjflrk öa kdhsı yteua idjslyd bdcusldvdj ks?\"\n",
        "sozluk = {\"q\":\"f\",\n",
        "          \"w\":\"g\",\n",
        "          \"e\":\"ğ\",\n",
        "          \"r\":\"ı\",\n",
        "          \"t\":\"o\",\n",
        "          \"y\":\"d\",\n",
        "          \"u\":\"r\",\n",
        "          \"ı\":\"n\",\n",
        "          \"o\":\"h\",\n",
        "          \"p\":\"p\",\n",
        "          \"ğ\":\"q\",\n",
        "          \"ü\": \"w\",\n",
        "          \"a\": \"u\",\n",
        "          \"s\": \"i\",\n",
        "          \"d\": \"e\",\n",
        "          \"f\": \"a\",\n",
        "          \"g\": \"ü\",\n",
        "          \"h\": \"t\",\n",
        "          \"j\": \"k\",\n",
        "          \"k\": \"m\",\n",
        "          \"l\": \"l\",\n",
        "          \"ş\": \"y\",\n",
        "          \"i\": \"ş\",\n",
        "          \",\": \"x\",\n",
        "          \"z\": \"j\",\n",
        "          \"x\": \"ö\",\n",
        "          \"c\": \"v\",\n",
        "          \"v\": \"c\",\n",
        "          \"b\": \"ç\",\n",
        "          \"n\": \"z\",\n",
        "          \"m\": \"s\",\n",
        "          \"ö\": \"b\",\n",
        "          \"ç\": \".\",\n",
        "          \".\": \",\"}\n",
        "ceviri_tablosu = str.maketrans(sozluk)\n",
        "print(metin.translate(ceviri_tablosu))          "
      ],
      "execution_count": 20,
      "outputs": [
        {
          "output_type": "stream",
          "text": [
            "Bakalım bu metin doğru şekilde çevrilecek mi?\n"
          ],
          "name": "stdout"
        }
      ]
    },
    {
      "cell_type": "markdown",
      "metadata": {
        "id": "x2tPdjkEU78e",
        "colab_type": "text"
      },
      "source": [
        "**program 2**"
      ]
    },
    {
      "cell_type": "markdown",
      "metadata": {
        "id": "i_HFlMBmU9vh",
        "colab_type": "text"
      },
      "source": [
        "metnin içinde geçen tüm sesli harfleri silelim:"
      ]
    },
    {
      "cell_type": "code",
      "metadata": {
        "id": "1PNqeVAmVBVl",
        "colab_type": "code",
        "colab": {
          "base_uri": "https://localhost:8080/",
          "height": 168
        },
        "outputId": "a67d8ea5-0357-4e2b-cdfb-3ced4159b0d8"
      },
      "source": [
        "metin = \"\"\"Bu programlama dili Guido Van Rossum adlı Hollandalı bir\n",
        "programcı tarafından 90'lı yılların başında geliştirilmeye başlanmıştır.\n",
        "Çoğu insan, isminin Python olmasına bakarak, bu proglama dilinin adını\n",
        "piton yılanından aldığını düşünür. Ancak zanneldiğinin aksine bu programlama\n",
        "dilinin adı piton yılanından gelmez. Guido Van Rossum bu proglama dilini,\n",
        "The Monty Python adlı bir İngiliz komedi grubunun, Monty Python's Flying Circus\n",
        "adlı gösterisinden esinlenerek adlandırılmıştır. Ancak her ne kadar gerçek böyle\n",
        "olsa da, Python proglama dilinin pek çok yerde bir yılan figürü ile temsil\n",
        "edilmesi neredeyse bir gelenek halini almıştır diyebiliriz.\"\"\"\n",
        "sesliHarfler = \"aeıioöuüAEIİOÖUÜ\"\n",
        "yeniMetin = \"\"\n",
        "for i in metin:\n",
        "  if not i in sesliHarfler:\n",
        "    yeniMetin += i\n",
        "print(yeniMetin)    "
      ],
      "execution_count": 21,
      "outputs": [
        {
          "output_type": "stream",
          "text": [
            "B prgrmlm dl Gd Vn Rssm dl Hllndl br\n",
            "prgrmc trfndn 90'l yllrn bşnd glştrlmy bşlnmştr.\n",
            "Çğ nsn, smnn Pythn lmsn bkrk, b prglm dlnn dn\n",
            "ptn ylnndn ldğn dşnr. nck znnldğnn ksn b prgrmlm\n",
            "dlnn d ptn ylnndn glmz. Gd Vn Rssm b prglm dln,\n",
            "Th Mnty Pythn dl br nglz kmd grbnn, Mnty Pythn's Flyng Crcs\n",
            "dl gstrsndn snlnrk dlndrlmştr. nck hr n kdr grçk byl\n",
            "ls d, Pythn prglm dlnn pk çk yrd br yln fgr l tmsl\n",
            "dlms nrdys br glnk hln lmştr dyblrz.\n"
          ],
          "name": "stdout"
        }
      ]
    },
    {
      "cell_type": "markdown",
      "metadata": {
        "id": "mXOG-WODWMz4",
        "colab_type": "text"
      },
      "source": [
        "+ metin değişkenine metnimizi atıyoruz\n",
        "+ sesli harfleri sesliHarfler değişkenin içine atıyoruz\n",
        "+ yeniMetin değişkenine boş karakter dizisi atıyoruz çünkü yeni elamanlar ekleyeceğiz\n",
        "+ metindeki her bir harfi i harfi yapıp i öğelerini şunu yap diyoruz:\n",
        "+ eğer i öğeleri sesliHarfler içindeki harflerden biri değilse:\n",
        "+ yeniMetin adlı değişkenine o i öğesini ekle diyoruz\n",
        "+ bu sayede sesli harfler olmayan harfleri yeniMetin in içine atıyoruz\n",
        "+ ve bu sayede sesli harflerden arındırılmış bir yeni metin elde ediyoruz."
      ]
    },
    {
      "cell_type": "markdown",
      "metadata": {
        "id": "pEkkBTswW09V",
        "colab_type": "text"
      },
      "source": [
        "bu işlemi maketrans() ve translate() methodunu kullanarakta yapabiliriz"
      ]
    },
    {
      "cell_type": "code",
      "metadata": {
        "id": "tPuzFPEyW6Si",
        "colab_type": "code",
        "colab": {
          "base_uri": "https://localhost:8080/",
          "height": 168
        },
        "outputId": "da5d4c6d-1859-432c-b345-039c022b4bb7"
      },
      "source": [
        "silinecek = \"aeıioöuüAEIİOÖUÜ\"\n",
        "ceviriTablosu = str.maketrans(\"\",\"\",silinecek)\n",
        "print(metin.translate(ceviriTablosu))"
      ],
      "execution_count": 22,
      "outputs": [
        {
          "output_type": "stream",
          "text": [
            "B prgrmlm dl Gd Vn Rssm dl Hllndl br\n",
            "prgrmc trfndn 90'l yllrn bşnd glştrlmy bşlnmştr.\n",
            "Çğ nsn, smnn Pythn lmsn bkrk, b prglm dlnn dn\n",
            "ptn ylnndn ldğn dşnr. nck znnldğnn ksn b prgrmlm\n",
            "dlnn d ptn ylnndn glmz. Gd Vn Rssm b prglm dln,\n",
            "Th Mnty Pythn dl br nglz kmd grbnn, Mnty Pythn's Flyng Crcs\n",
            "dl gstrsndn snlnrk dlndrlmştr. nck hr n kdr grçk byl\n",
            "ls d, Pythn prglm dlnn pk çk yrd br yln fgr l tmsl\n",
            "dlms nrdys br glnk hln lmştr dyblrz.\n"
          ],
          "name": "stdout"
        }
      ]
    },
    {
      "cell_type": "markdown",
      "metadata": {
        "id": "5WWK3VQJXWc6",
        "colab_type": "text"
      },
      "source": [
        "ceviriTablosu = str.maketrans(\"\",\"\",silinecek)\n",
        "\n",
        "kodu sayesinde maketrans() methodunun 3 parametre alabileceğini öğrenmiş olduk peki bu parametrelerin görevleri nelerdir?\n",
        "\n",
        "+ 1.parametre değişecek elamanları temsil eder\n",
        "+ 2.parametre yeni elemanları temsil eder\n",
        "+ 3.parametre ise silinecek elemanları temsil eder\n",
        "\n",
        "ve biz bu programda herhangi bir elemanı değiştirme işlemi yapmayacağımız için\n",
        "her iki parametreye \"\" boş karakter dizisi yazarak yerlerini dolduruyoruz"
      ]
    },
    {
      "cell_type": "markdown",
      "metadata": {
        "id": "1kx-IzaIYWuB",
        "colab_type": "text"
      },
      "source": [
        "bu parametreleri daha iyi anlamak için:"
      ]
    },
    {
      "cell_type": "code",
      "metadata": {
        "id": "DY1svG1gYat1",
        "colab_type": "code",
        "colab": {
          "base_uri": "https://localhost:8080/",
          "height": 34
        },
        "outputId": "2b6b50c6-1cf0-4902-a7a3-30a58164b062"
      },
      "source": [
        "metinOr = \"Cem Yılmaz\"\n",
        "degisecekElamanlar = \"CY\"\n",
        "elemanlarınYeniHali = \"cy\"\n",
        "silinecekElemanlar = \"eıa \"\n",
        "ceviriTablosu = str.maketrans(degisecekElamanlar,elemanlarınYeniHali,\n",
        "                              silinecekElemanlar)\n",
        "print(metinOr.translate(ceviriTablosu))"
      ],
      "execution_count": 25,
      "outputs": [
        {
          "output_type": "stream",
          "text": [
            "cmylmz\n"
          ],
          "name": "stdout"
        }
      ]
    },
    {
      "cell_type": "markdown",
      "metadata": {
        "id": "rvXgYdY0Y8f-",
        "colab_type": "text"
      },
      "source": [
        "C harfini c harfine Y harfini y harfine eşitledik\n",
        "\n",
        "silinecek eleman olarak e ı a ve boşluk karakterlerini sildik\n",
        "\n",
        "böylece Cem Yılmaz kelimesini cmylmz haline çevirdik(translate ettik)"
      ]
    }
  ]
}