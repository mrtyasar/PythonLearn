{
  "nbformat": 4,
  "nbformat_minor": 0,
  "metadata": {
    "colab": {
      "name": "endswith.ipynb",
      "provenance": [],
      "collapsed_sections": []
    },
    "kernelspec": {
      "name": "python3",
      "display_name": "Python 3"
    }
  },
  "cells": [
    {
      "cell_type": "markdown",
      "metadata": {
        "id": "OdEXAY52lCWc",
        "colab_type": "text"
      },
      "source": [
        "# endswith()"
      ]
    },
    {
      "cell_type": "markdown",
      "metadata": {
        "id": "RCZAExwElNx3",
        "colab_type": "text"
      },
      "source": [
        "islower() ve isupper() methodları gibi sorgulayıcı methoddur\n",
        "\n",
        "bu method sayesinde karakter dizisinin hangi karakter dizisi ile bittiğini sorguyabiliriz"
      ]
    },
    {
      "cell_type": "code",
      "metadata": {
        "id": "iisF0pVTldy-",
        "colab_type": "code",
        "colab": {
          "base_uri": "https://localhost:8080/",
          "height": 50
        },
        "outputId": "bb10a1d9-2c3d-47f7-d718-cf91c6b39d37"
      },
      "source": [
        "kardiz = \"istihza\"\n",
        "print(kardiz.endswith(\"a\"))\n",
        "print(kardiz.endswith(\"m\"))"
      ],
      "execution_count": 3,
      "outputs": [
        {
          "output_type": "stream",
          "text": [
            "True\n",
            "False\n"
          ],
          "name": "stdout"
        }
      ]
    },
    {
      "cell_type": "markdown",
      "metadata": {
        "id": "Mn9VKGnMltbV",
        "colab_type": "text"
      },
      "source": [
        "endswith() methodunu karakter dizilerini dilimlemek içinde kullanabiliriz."
      ]
    },
    {
      "cell_type": "markdown",
      "metadata": {
        "id": "mDVe2tcll2HA",
        "colab_type": "text"
      },
      "source": [
        "endswith() methodunu kullanarak dosya uzantılarına göre dosya türlerini ayıran bir program yazalım"
      ]
    },
    {
      "cell_type": "code",
      "metadata": {
        "id": "19YXA7eWl-p0",
        "colab_type": "code",
        "colab": {
          "base_uri": "https://localhost:8080/",
          "height": 251
        },
        "outputId": "47f17ef3-323b-41c7-ab68-0e795b324955"
      },
      "source": [
        "d1 =\"python.ogg\"\n",
        "d2 = \"tkinter.mp3\"\n",
        "d3 = \"pytgtk.ogg\"\n",
        "d4 = \"sarki.mp3\"\n",
        "d5 = \"movie.mp3\"\n",
        "d6 = \"filanca.ogg\"\n",
        "d7 = \"falanca.mp3\"\n",
        "d8 = \"dosya.avi\"\n",
        "d9 = \"perl.ogg\"\n",
        "d10 = \"c.avi\"\n",
        "d11 = \"c++.mp3\"\n",
        "print(\"----- .mp3 --------\")\n",
        "for i in d1,d2,d3,d4,d5,d6,d7,d8,d9,d10,d11:\n",
        "  if i.endswith(\".mp3\"):\n",
        "    print(i)\n",
        "print(\"------- .ogg ---------\")\n",
        "for m in d1,d2,d3,d4,d5,d6,d7,d8,d9,d10,d11:\n",
        "  if m.endswith(\".ogg\"):\n",
        "    print(m)\n",
        "print(\"------- .avi -------\")\n",
        "for n in d1,d2,d3,d4,d5,d6,d7,d8,d9,d10,d11:\n",
        "  if n.endswith(\".avi\"):\n",
        "    print(n)        "
      ],
      "execution_count": 5,
      "outputs": [
        {
          "output_type": "stream",
          "text": [
            "----- .mp3 --------\n",
            "tkinter.mp3\n",
            "sarki.mp3\n",
            "movie.mp3\n",
            "falanca.mp3\n",
            "c++.mp3\n",
            "------- .ogg ---------\n",
            "python.ogg\n",
            "pytgtk.ogg\n",
            "filanca.ogg\n",
            "perl.ogg\n",
            "------- .avi -------\n",
            "dosya.avi\n",
            "c.avi\n"
          ],
          "name": "stdout"
        }
      ]
    }
  ]
}