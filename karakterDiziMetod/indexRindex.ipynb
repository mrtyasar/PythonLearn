{
  "nbformat": 4,
  "nbformat_minor": 0,
  "metadata": {
    "colab": {
      "name": "indexRindex.ipynb",
      "provenance": []
    },
    "kernelspec": {
      "name": "python3",
      "display_name": "Python 3"
    }
  },
  "cells": [
    {
      "cell_type": "markdown",
      "metadata": {
        "id": "qnrlAF-6FPR5",
        "colab_type": "text"
      },
      "source": [
        "# index() ve rindex()"
      ]
    },
    {
      "cell_type": "markdown",
      "metadata": {
        "id": "NSMoEQcTFUCI",
        "colab_type": "text"
      },
      "source": [
        "index() methodu bir elemanın karakter dizindeki index numarasını gösterir:"
      ]
    },
    {
      "cell_type": "code",
      "metadata": {
        "id": "1Lh2n62MFbXG",
        "colab_type": "code",
        "colab": {
          "base_uri": "https://localhost:8080/",
          "height": 50
        },
        "outputId": "d0e3e9e1-e5c9-43c9-9aad-b682611d7fae"
      },
      "source": [
        "kardiz = \"python\"\n",
        "print(kardiz.index(\"p\"))\n",
        "print(kardiz.index(\"t\"))"
      ],
      "execution_count": 2,
      "outputs": [
        {
          "output_type": "stream",
          "text": [
            "0\n",
            "2\n"
          ],
          "name": "stdout"
        }
      ]
    },
    {
      "cell_type": "markdown",
      "metadata": {
        "id": "VcwVYu6eFli6",
        "colab_type": "text"
      },
      "source": [
        "eğer karakter dizisinde indeks numarasını istediğimiz elemandan birden fazlaysa o zaman index() methodu sadece ilk karşılaştığı indeksi yazar, diğerlerini işlemden geçirmez:"
      ]
    },
    {
      "cell_type": "code",
      "metadata": {
        "id": "00Pr7Ps2FwcY",
        "colab_type": "code",
        "colab": {
          "base_uri": "https://localhost:8080/",
          "height": 33
        },
        "outputId": "4d3c06e1-cc64-44be-936b-228bed25b5a7"
      },
      "source": [
        "kardiz = \"adana\"\n",
        "print(kardiz.index(\"a\"))"
      ],
      "execution_count": 3,
      "outputs": [
        {
          "output_type": "stream",
          "text": [
            "0\n"
          ],
          "name": "stdout"
        }
      ]
    },
    {
      "cell_type": "markdown",
      "metadata": {
        "id": "C0YkY274F1BX",
        "colab_type": "text"
      },
      "source": [
        "index() methodu 3 tane parametre alır\n",
        "\n",
        "1. parametre indeksi bulunacak eleman yazılır:"
      ]
    },
    {
      "cell_type": "code",
      "metadata": {
        "id": "AYJWeKYdF9TV",
        "colab_type": "code",
        "colab": {
          "base_uri": "https://localhost:8080/",
          "height": 33
        },
        "outputId": "1b50bd0d-02c3-4789-8bd1-31d91297f8d9"
      },
      "source": [
        "kardiz = \"mustafa\"\n",
        "print(kardiz.index(\"a\"))"
      ],
      "execution_count": 4,
      "outputs": [
        {
          "output_type": "stream",
          "text": [
            "4\n"
          ],
          "name": "stdout"
        }
      ]
    },
    {
      "cell_type": "markdown",
      "metadata": {
        "id": "VaS2FnCSGEpa",
        "colab_type": "text"
      },
      "source": [
        "2. parametre işlemin başlanacağı indeks numarasını belirtir:"
      ]
    },
    {
      "cell_type": "code",
      "metadata": {
        "id": "kc4li98mGJn-",
        "colab_type": "code",
        "colab": {
          "base_uri": "https://localhost:8080/",
          "height": 33
        },
        "outputId": "5872d556-0a62-465a-b448-52ea909ea075"
      },
      "source": [
        "kardiz = \"mustafa\"\n",
        "print(kardiz.index(\"a\",5))"
      ],
      "execution_count": 5,
      "outputs": [
        {
          "output_type": "stream",
          "text": [
            "6\n"
          ],
          "name": "stdout"
        }
      ]
    },
    {
      "cell_type": "markdown",
      "metadata": {
        "id": "x6WD1jOjGQDB",
        "colab_type": "text"
      },
      "source": [
        "3. parametre işlemin bitiş indeksini temsil eder:"
      ]
    },
    {
      "cell_type": "code",
      "metadata": {
        "id": "emw4LPx-GVHe",
        "colab_type": "code",
        "colab": {
          "base_uri": "https://localhost:8080/",
          "height": 33
        },
        "outputId": "6066d764-f4f5-4f25-b595-b0c6351182ea"
      },
      "source": [
        "kardiz = \"mustafa\"\n",
        "print(kardiz.index(\"a\",3,8))"
      ],
      "execution_count": 6,
      "outputs": [
        {
          "output_type": "stream",
          "text": [
            "4\n"
          ],
          "name": "stdout"
        }
      ]
    },
    {
      "cell_type": "markdown",
      "metadata": {
        "id": "6ogfBAYeGelp",
        "colab_type": "text"
      },
      "source": [
        "peki ya karakter dizindeki bütün a'ların indeks numarlarını öğrenmek istiyorsak:"
      ]
    },
    {
      "cell_type": "code",
      "metadata": {
        "id": "UokDTstQGnVz",
        "colab_type": "code",
        "colab": {
          "base_uri": "https://localhost:8080/",
          "height": 100
        },
        "outputId": "d6ded814-5cb1-43d3-c60f-d9f53e7b2ec1"
      },
      "source": [
        "kardiz = \"adana\"\n",
        "print(kardiz.index(\"a\",0))\n",
        "print(kardiz.index(\"a\",1))\n",
        "print(kardiz.index(\"a\",2))\n",
        "print(kardiz.index(\"a\",3))\n",
        "print(kardiz.index(\"a\",4))"
      ],
      "execution_count": 7,
      "outputs": [
        {
          "output_type": "stream",
          "text": [
            "0\n",
            "2\n",
            "2\n",
            "4\n",
            "4\n"
          ],
          "name": "stdout"
        }
      ]
    },
    {
      "cell_type": "markdown",
      "metadata": {
        "id": "Ct_4d3wPG4lZ",
        "colab_type": "text"
      },
      "source": [
        "bu kodu elbetteki böyle uzun bir yolla değil daha kısa yolla halledebiliriz:"
      ]
    },
    {
      "cell_type": "code",
      "metadata": {
        "id": "wHRxPmoWG-Mv",
        "colab_type": "code",
        "colab": {
          "base_uri": "https://localhost:8080/",
          "height": 100
        },
        "outputId": "ff88a939-b29a-4004-8819-f7412ad6885f"
      },
      "source": [
        "kardiz = \"adana\"\n",
        "for m in range(len(kardiz)):\n",
        "  print(kardiz.index(\"a\",m))"
      ],
      "execution_count": 11,
      "outputs": [
        {
          "output_type": "stream",
          "text": [
            "0\n",
            "2\n",
            "2\n",
            "4\n",
            "4\n"
          ],
          "name": "stdout"
        }
      ]
    },
    {
      "cell_type": "markdown",
      "metadata": {
        "id": "UZBhoFJAHgGG",
        "colab_type": "text"
      },
      "source": [
        "sonuçları 2 2 4 4 değilde tek tek yapmak istiyorsak:"
      ]
    },
    {
      "cell_type": "code",
      "metadata": {
        "id": "r_OsOzvnHkbQ",
        "colab_type": "code",
        "colab": {
          "base_uri": "https://localhost:8080/",
          "height": 67
        },
        "outputId": "9c9ba7f1-28cf-48f5-c729-c8e2c9efb5e3"
      },
      "source": [
        "kardiz = \"adana\"\n",
        "for i in range(len(kardiz)):\n",
        "  if i == kardiz.index(\"a\",i):\n",
        "    print(i)"
      ],
      "execution_count": 12,
      "outputs": [
        {
          "output_type": "stream",
          "text": [
            "0\n",
            "2\n",
            "4\n"
          ],
          "name": "stdout"
        }
      ]
    },
    {
      "cell_type": "markdown",
      "metadata": {
        "id": "0naNAXkjH4gP",
        "colab_type": "text"
      },
      "source": [
        "kullanıcıdan veri alarak bu işlemi yapabiliriz:"
      ]
    },
    {
      "cell_type": "code",
      "metadata": {
        "id": "5t78YHBYH_Pp",
        "colab_type": "code",
        "colab": {
          "base_uri": "https://localhost:8080/",
          "height": 100
        },
        "outputId": "fffb86b0-b3b3-46f7-a895-1da08fd37087"
      },
      "source": [
        "kardiz = input(\"kelime giriniz: \")\n",
        "aranacak = input(\"Aradığınız harf: \")\n",
        "for i in range(len(kardiz)):\n",
        "  if i == kardiz.index(aranacak,i):\n",
        "    print(i)"
      ],
      "execution_count": 15,
      "outputs": [
        {
          "output_type": "stream",
          "text": [
            "kelime giriniz: adana\n",
            "Aradığınız harf: a\n",
            "0\n",
            "2\n",
            "4\n"
          ],
          "name": "stdout"
        }
      ]
    },
    {
      "cell_type": "markdown",
      "metadata": {
        "id": "bbC-0yfOIfJf",
        "colab_type": "text"
      },
      "source": [
        "**burada ne yapıyoruz?**\n",
        "\n",
        "karakter dizisinin uzunluğunu gösteren sayı üzerine for döngüsü oluşturuyoruz\n",
        "\n",
        "eğer kullanıcı adana kelimesini girerse for döngüsü arka planda böyle gözükecek:"
      ]
    },
    {
      "cell_type": "code",
      "metadata": {
        "id": "JkTjrCxDItR3",
        "colab_type": "code",
        "colab": {}
      },
      "source": [
        "for m in range(5):"
      ],
      "execution_count": 0,
      "outputs": []
    },
    {
      "cell_type": "markdown",
      "metadata": {
        "id": "ammEpHrgIwoy",
        "colab_type": "text"
      },
      "source": [
        "daha sonra m değişkenin değerini karakter dizisi içinde aradığımız konumu ile\n",
        "eşleşip eşleşmediğini kontrol ediyoruz\n",
        "\n",
        "eşleşen sayıları ise print() fonskiyonuyla ekrana çıktı veriyoruz\n",
        "bu sayede indeksleri çifter çifter yazdırmıyoruz"
      ]
    },
    {
      "cell_type": "markdown",
      "metadata": {
        "id": "44rvQcCWJL_I",
        "colab_type": "text"
      },
      "source": [
        "**rindex()**"
      ]
    },
    {
      "cell_type": "markdown",
      "metadata": {
        "id": "iX-95hjQJOvH",
        "colab_type": "text"
      },
      "source": [
        "index() methodu soldan sağa doğru işlem yapar\n",
        "\n",
        "rindex() methodu ise tam tersi olarak sağdan sola işlem yapar"
      ]
    },
    {
      "cell_type": "code",
      "metadata": {
        "id": "0bCH7SOiJWsY",
        "colab_type": "code",
        "colab": {
          "base_uri": "https://localhost:8080/",
          "height": 50
        },
        "outputId": "08281033-46a5-401d-da07-7ae308d2a881"
      },
      "source": [
        "kardiz = \"adana\"\n",
        "print(kardiz.index(\"a\"))\n",
        "\n",
        "print(kardiz.rindex(\"a\"))"
      ],
      "execution_count": 17,
      "outputs": [
        {
          "output_type": "stream",
          "text": [
            "0\n",
            "4\n"
          ],
          "name": "stdout"
        }
      ]
    },
    {
      "cell_type": "markdown",
      "metadata": {
        "id": "WFRY7eSYJf45",
        "colab_type": "text"
      },
      "source": [
        "rindex() methodu sağdan sola işlem gördüğü için ilk karşılaştığı \"a\" değeri 4.indeksi yakaladı"
      ]
    }
  ]
}