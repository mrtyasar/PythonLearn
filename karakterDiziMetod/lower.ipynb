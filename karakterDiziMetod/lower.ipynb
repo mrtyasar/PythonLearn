{
  "nbformat": 4,
  "nbformat_minor": 0,
  "metadata": {
    "colab": {
      "name": "lower.ipynb",
      "provenance": [],
      "collapsed_sections": []
    },
    "kernelspec": {
      "name": "python3",
      "display_name": "Python 3"
    }
  },
  "cells": [
    {
      "cell_type": "markdown",
      "metadata": {
        "id": "wyI2EiPs1e4t",
        "colab_type": "text"
      },
      "source": [
        "# lower"
      ]
    },
    {
      "cell_type": "markdown",
      "metadata": {
        "id": "9qL30_g_1i7o",
        "colab_type": "text"
      },
      "source": [
        "lower() methodu karakter dizisinin içindeki harfleri küçük harf yapar.\n",
        "\n",
        "+ lower() methodu parametre almaz\n",
        "+ semboller ve sayıları dikkate almaz"
      ]
    },
    {
      "cell_type": "code",
      "metadata": {
        "id": "2_clk49c2Jx-",
        "colab_type": "code",
        "colab": {
          "base_uri": "https://localhost:8080/",
          "height": 67
        },
        "outputId": "f0f83a48-83a3-41cf-c763-4651efb83b99"
      },
      "source": [
        "name = \"MURAT\"\n",
        "print(name.lower())\n",
        "\n",
        "kardiz = \"arMUT\"\n",
        "print(kardiz.lower())\n",
        "il = \"İSTANBUL\"\n",
        "print(il.lower())"
      ],
      "execution_count": 2,
      "outputs": [
        {
          "output_type": "stream",
          "text": [
            "murat\n",
            "armut\n",
            "i̇stanbul\n"
          ],
          "name": "stdout"
        }
      ]
    },
    {
      "cell_type": "markdown",
      "metadata": {
        "id": "VWcwqPQH2t77",
        "colab_type": "text"
      },
      "source": [
        "şöyle bir program yazalım:"
      ]
    },
    {
      "cell_type": "code",
      "metadata": {
        "id": "V6FxsLEG2wxL",
        "colab_type": "code",
        "colab": {
          "base_uri": "https://localhost:8080/",
          "height": 50
        },
        "outputId": "d59fbe5b-ee62-4243-d6b8-c8c66547f148"
      },
      "source": [
        "kisi = input(\"Aradığınız kişinin adı ve soyadı: \")\n",
        "if kisi == \"Ahmet Öz\":\n",
        "  print(\"email: ahmetoz@gmail.com\")\n",
        "  print(\"tel: 02938334484848\")\n",
        "  print(\"sehir: istanbul\")\n",
        "elif kisi == \"Mehmet Söz\":\n",
        "  print(\"email: msöz@gmail.com\")  \n",
        "  print(\"tel: mehmetsöz@gmail.com\")\n",
        "  print(\"sehir: ankara\")\n",
        "elif kisi == \"Mahmut söz\":\n",
        "  print(\"email: mahmut@gmail.com\")\n",
        "  print(\"tel: 2023294032942\")\n",
        "  print(\"şehir: istanbul\")\n",
        "else:\n",
        "  print(\"Aradağını kişi veritabınında yok!\")    \n"
      ],
      "execution_count": 4,
      "outputs": [
        {
          "output_type": "stream",
          "text": [
            "Aradığınız kişinin adı ve soyadı: ahmet öz\n",
            "Aradağını kişi veritabınında yok!\n"
          ],
          "name": "stdout"
        }
      ]
    },
    {
      "cell_type": "markdown",
      "metadata": {
        "id": "F_JJ_3Z83nuV",
        "colab_type": "text"
      },
      "source": [
        "kullanıcı ahmet öz ismini arattı, normalde veritabınında olduğunu görsekte\n",
        "büyük küçük harf duyarlığından dolayı kişiye ulaşamıyor.\n",
        "\n",
        "peki programımızda büyük küçük harf duyarlığını nasıl kaldırabiliriz:"
      ]
    },
    {
      "cell_type": "markdown",
      "metadata": {
        "id": "wZGRY6RG3-_X",
        "colab_type": "text"
      },
      "source": [
        "**birinci yöntem**"
      ]
    },
    {
      "cell_type": "markdown",
      "metadata": {
        "id": "9zzd_p4T4A01",
        "colab_type": "text"
      },
      "source": [
        "if blokların her türlü ihtimali düşünerek yazabiliriz:"
      ]
    },
    {
      "cell_type": "code",
      "metadata": {
        "id": "CCJYginG4GlZ",
        "colab_type": "code",
        "colab": {}
      },
      "source": [
        "if kisi == \"Ahmet Öz\" or \"Ahmet öz\" or \"ahmet Öz\" or \"ahmet öz\":"
      ],
      "execution_count": 0,
      "outputs": []
    },
    {
      "cell_type": "markdown",
      "metadata": {
        "id": "-YWQwMI84NhN",
        "colab_type": "text"
      },
      "source": [
        "fakat bu yöntem çok fazla kullanışlı değil\n",
        "\n",
        "çünkü kullanıcının kaç türlü veri gireceğini kestiremeyiz\n",
        "\n",
        "kestirebilsek bile bu kadar olasılığı yazmak zaman kaybı olur"
      ]
    },
    {
      "cell_type": "markdown",
      "metadata": {
        "id": "GjRTSQu94c96",
        "colab_type": "text"
      },
      "source": [
        "**ikinci yöntem**"
      ]
    },
    {
      "cell_type": "markdown",
      "metadata": {
        "id": "s0jg1yhH4fPr",
        "colab_type": "text"
      },
      "source": [
        "lower() methodunu kullanmak\n"
      ]
    },
    {
      "cell_type": "code",
      "metadata": {
        "id": "kkie0xZP41Hb",
        "colab_type": "code",
        "colab": {
          "base_uri": "https://localhost:8080/",
          "height": 84
        },
        "outputId": "2a6f5e8b-4ea9-4144-e66a-f5b249ba1443"
      },
      "source": [
        "kisi = input(\"Aradığınız kişinin adı ve soyadı: \")\n",
        "kisi = kisi.lower()\n",
        "if kisi == \"ahmet öz\":\n",
        "  print(\"email: ahmetöz@gmail.com\")\n",
        "  print(\"tel: 129922939439\")\n",
        "  print(\"şehir: istanbul\")\n",
        "elif kisi == \"mehmet söz\":\n",
        "  print(\"email: mehmetsöz@gmail.com\")\n",
        "  print(\"tel: 2392948943848\")\n",
        "  print(\"şehir: ankara\")\n",
        "else:\n",
        "  print(\"Aradığını kişi veritabınında yoktur!\")    "
      ],
      "execution_count": 5,
      "outputs": [
        {
          "output_type": "stream",
          "text": [
            "Aradığınız kişinin adı ve soyadı: AHMET ÖZ\n",
            "email: ahmetöz@gmail.com\n",
            "tel: 129922939439\n",
            "şehir: istanbul\n"
          ],
          "name": "stdout"
        }
      ]
    },
    {
      "cell_type": "markdown",
      "metadata": {
        "id": "t3KrprYM5wWO",
        "colab_type": "text"
      },
      "source": [
        "lower() methodunu kullanarak büyük küçük harf duyarlığını kaldırarak kullanıcı değeri ne şekil girerse girsin değeri küçük harflere çevirdik"
      ]
    },
    {
      "cell_type": "markdown",
      "metadata": {
        "id": "V-SlFw4g5_Xs",
        "colab_type": "text"
      },
      "source": [
        "fakat lower() methodu bazen türkçe karakterleri düzgün bir şekilde küçültemez"
      ]
    },
    {
      "cell_type": "code",
      "metadata": {
        "id": "hRkzTYqv6F_1",
        "colab_type": "code",
        "colab": {
          "base_uri": "https://localhost:8080/",
          "height": 33
        },
        "outputId": "5b3d75e8-90a8-4167-fef8-06ba706c5aae"
      },
      "source": [
        "il = \"ADIYAMAN\"\n",
        "print(il.lower())"
      ],
      "execution_count": 6,
      "outputs": [
        {
          "output_type": "stream",
          "text": [
            "adiyaman\n"
          ],
          "name": "stdout"
        }
      ]
    },
    {
      "cell_type": "markdown",
      "metadata": {
        "id": "mZxLSX1g6NIr",
        "colab_type": "text"
      },
      "source": [
        "ı olarak küçülteceğine i olarak küçülttü\n",
        "\n",
        "bu sorunu nasıl çözebiliriz:"
      ]
    },
    {
      "cell_type": "code",
      "metadata": {
        "id": "7Clhu4pyBOoQ",
        "colab_type": "code",
        "colab": {
          "base_uri": "https://localhost:8080/",
          "height": 33
        },
        "outputId": "50124ac4-4c0d-4105-af6a-3fd413dbce04"
      },
      "source": [
        "iller = \"ISPARTA, ADIYAMAN, DİYARBAKIR, AYDIN, BALIKESİR, AĞRI\"\n",
        "iller = iller.replace(\"I\",\"ı\").replace(\"İ\",\"i\").lower()\n",
        "print(iller)"
      ],
      "execution_count": 7,
      "outputs": [
        {
          "output_type": "stream",
          "text": [
            "ısparta, adıyaman, diyarbakır, aydın, balıkesir, ağrı\n"
          ],
          "name": "stdout"
        }
      ]
    },
    {
      "cell_type": "markdown",
      "metadata": {
        "id": "hu65NZU1BiSn",
        "colab_type": "text"
      },
      "source": [
        "replace() methodu sayesinde yanlış küçültmeye sebebiyet verecek harfleri değiştirdik\n",
        "I harfini ı olarak İ harfini i olarak değiştirdik\n",
        "\n",
        "ayrıca yukarıdaki kod sayesinde methodları birbirine bağlayabileceğimizi öğrendik"
      ]
    },
    {
      "cell_type": "markdown",
      "metadata": {
        "id": "AnjAu_DfCAt-",
        "colab_type": "text"
      },
      "source": [
        "**örnek**"
      ]
    },
    {
      "cell_type": "code",
      "metadata": {
        "id": "3YN2DjfACChl",
        "colab_type": "code",
        "colab": {
          "base_uri": "https://localhost:8080/",
          "height": 33
        },
        "outputId": "5f8283d6-21c0-4d97-81a1-954098e9ea5d"
      },
      "source": [
        "firstString = \"PYTHON IS AWESOME!\"\n",
        "secondString = \"PyThOn Is AwEsOmE!\"\n",
        "if firstString.lower() == secondString.lower():\n",
        "  print(\"The strings are same.\")\n",
        "else:\n",
        "  print(\"The strings are not same.\")  "
      ],
      "execution_count": 8,
      "outputs": [
        {
          "output_type": "stream",
          "text": [
            "The strings are same.\n"
          ],
          "name": "stdout"
        }
      ]
    }
  ]
}