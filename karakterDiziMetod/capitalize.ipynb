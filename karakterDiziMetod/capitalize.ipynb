{
  "nbformat": 4,
  "nbformat_minor": 0,
  "metadata": {
    "colab": {
      "name": "capitalize.ipynb",
      "provenance": []
    },
    "kernelspec": {
      "name": "python3",
      "display_name": "Python 3"
    }
  },
  "cells": [
    {
      "cell_type": "markdown",
      "metadata": {
        "id": "649J0XFWTu0D",
        "colab_type": "text"
      },
      "source": [
        "# capitalize()"
      ]
    },
    {
      "cell_type": "markdown",
      "metadata": {
        "id": "-EDUozyyTx_3",
        "colab_type": "text"
      },
      "source": [
        "+ capitalize() methodu karakter dizilerin ilk harflerini büyütür\n",
        "+ karakter dizilerimizin üzerinde değişiklik yaptığından dolayı\n",
        "+ değiştirici metotlardan biri diyebiliriz.\n",
        "+ parametre almaz"
      ]
    },
    {
      "cell_type": "markdown",
      "metadata": {
        "id": "boY20bVaT_Cl",
        "colab_type": "text"
      },
      "source": [
        "formül:"
      ]
    },
    {
      "cell_type": "code",
      "metadata": {
        "id": "GY-J7c5rUAI8",
        "colab_type": "code",
        "colab": {}
      },
      "source": [
        "string.capitalize()"
      ],
      "execution_count": 0,
      "outputs": []
    },
    {
      "cell_type": "code",
      "metadata": {
        "id": "paw4-uG4UJe5",
        "colab_type": "code",
        "colab": {
          "base_uri": "https://localhost:8080/",
          "height": 33
        },
        "outputId": "fc882551-f6c5-43db-e601-b52cc10dd635"
      },
      "source": [
        "a = \"python\"\n",
        "print(a.capitalize())"
      ],
      "execution_count": 2,
      "outputs": [
        {
          "output_type": "stream",
          "text": [
            "Python\n"
          ],
          "name": "stdout"
        }
      ]
    },
    {
      "cell_type": "markdown",
      "metadata": {
        "id": "Fkfx2dCIUSY6",
        "colab_type": "text"
      },
      "source": [
        "bu metot karakter dizilerin sadece ilk harfini işleme alır\n",
        "diğer elemanlara dokunmaz"
      ]
    },
    {
      "cell_type": "code",
      "metadata": {
        "id": "FNpKBLUGUZvN",
        "colab_type": "code",
        "colab": {
          "base_uri": "https://localhost:8080/",
          "height": 33
        },
        "outputId": "d18b6895-73ce-4f4f-e568-ddd93f6fa032"
      },
      "source": [
        "a = \"python proglama dili\"\n",
        "print(a.capitalize())"
      ],
      "execution_count": 3,
      "outputs": [
        {
          "output_type": "stream",
          "text": [
            "Python proglama dili\n"
          ],
          "name": "stdout"
        }
      ]
    },
    {
      "cell_type": "markdown",
      "metadata": {
        "id": "o89ROGpcUx9w",
        "colab_type": "text"
      },
      "source": [
        "capitalize() methodu diğer karakter dizileri gibi türkçe karakterleri dönüştürürken sorun yaşarız.\n",
        "+ çoğunlukla i veya İ harflerini dönüştürürken sorun yaşarız."
      ]
    },
    {
      "cell_type": "code",
      "metadata": {
        "id": "f3QVrm2dVVxC",
        "colab_type": "code",
        "colab": {
          "base_uri": "https://localhost:8080/",
          "height": 33
        },
        "outputId": "d5d755c4-9351-4965-d1db-189aea156997"
      },
      "source": [
        "il = \"istanbul\"\n",
        "print(il.capitalize())"
      ],
      "execution_count": 4,
      "outputs": [
        {
          "output_type": "stream",
          "text": [
            "Istanbul\n"
          ],
          "name": "stdout"
        }
      ]
    },
    {
      "cell_type": "markdown",
      "metadata": {
        "id": "a7hPoR0XVbcD",
        "colab_type": "text"
      },
      "source": [
        "bu sorunu nasıl çözeriz: "
      ]
    },
    {
      "cell_type": "code",
      "metadata": {
        "id": "SpBcZEJ1Vd61",
        "colab_type": "code",
        "colab": {
          "base_uri": "https://localhost:8080/",
          "height": 33
        },
        "outputId": "eda008f4-e954-4d0c-e894-3458f39a1575"
      },
      "source": [
        "kardiz = \"istanbul büyükşehir belediyesi\"\n",
        "if kardiz.startswith(\"i\"):\n",
        "  kardiz = \"İ\" + kardiz[1:]\n",
        "kardiz = kardiz.capitalize()\n",
        "print(kardiz)  "
      ],
      "execution_count": 5,
      "outputs": [
        {
          "output_type": "stream",
          "text": [
            "İstanbul büyükşehir belediyesi\n"
          ],
          "name": "stdout"
        }
      ]
    },
    {
      "cell_type": "markdown",
      "metadata": {
        "id": "U3vALJ8PWGW2",
        "colab_type": "text"
      },
      "source": [
        "kardiz[1:]"
      ]
    },
    {
      "cell_type": "code",
      "metadata": {
        "id": "p94Itx6OWIhm",
        "colab_type": "code",
        "colab": {
          "base_uri": "https://localhost:8080/",
          "height": 33
        },
        "outputId": "8c0d875e-fa45-48ba-ff52-8c197e79a208"
      },
      "source": [
        "kardiz = \"istanbul\"\n",
        "print(kardiz[1:])"
      ],
      "execution_count": 6,
      "outputs": [
        {
          "output_type": "stream",
          "text": [
            "stanbul\n"
          ],
          "name": "stdout"
        }
      ]
    },
    {
      "cell_type": "markdown",
      "metadata": {
        "id": "3NXc3HaiWQP9",
        "colab_type": "text"
      },
      "source": [
        "kardiz = \"İ\" + kardiz[1:]"
      ]
    },
    {
      "cell_type": "code",
      "metadata": {
        "id": "7QUx6_1dWV5h",
        "colab_type": "code",
        "colab": {
          "base_uri": "https://localhost:8080/",
          "height": 33
        },
        "outputId": "85de3441-044d-4f65-910a-4c0056e3a54d"
      },
      "source": [
        "kardiz = \"i\" + kardiz[1:]\n",
        "print(kardiz)"
      ],
      "execution_count": 7,
      "outputs": [
        {
          "output_type": "stream",
          "text": [
            "istanbul\n"
          ],
          "name": "stdout"
        }
      ]
    },
    {
      "cell_type": "code",
      "metadata": {
        "id": "b3frCCtbW0rB",
        "colab_type": "code",
        "colab": {}
      },
      "source": [
        "kardiz = kardiz.capitalize()"
      ],
      "execution_count": 0,
      "outputs": []
    },
    {
      "cell_type": "markdown",
      "metadata": {
        "id": "iKZ_UOzWXYTj",
        "colab_type": "text"
      },
      "source": [
        "bu kod sayesinde ise hangi harf gelirse gelsin büyük harfe çeviriyoruz"
      ]
    },
    {
      "cell_type": "markdown",
      "metadata": {
        "id": "dtE0JJFuW_lv",
        "colab_type": "text"
      },
      "source": [
        "örnekler:"
      ]
    },
    {
      "cell_type": "code",
      "metadata": {
        "id": "fRoeyF0iXGQC",
        "colab_type": "code",
        "colab": {
          "base_uri": "https://localhost:8080/",
          "height": 33
        },
        "outputId": "809b6718-ac0c-4628-c4b2-4d181635fae5"
      },
      "source": [
        "name = \"geeks\"\n",
        "name2 = \"for\"\n",
        "name3 = \"geeks\"\n",
        "print(name.capitalize()+name2.capitalize()+name3.capitalize())"
      ],
      "execution_count": 8,
      "outputs": [
        {
          "output_type": "stream",
          "text": [
            "GeeksForGeeks\n"
          ],
          "name": "stdout"
        }
      ]
    },
    {
      "cell_type": "markdown",
      "metadata": {
        "id": "GEidTS4uXemh",
        "colab_type": "text"
      },
      "source": [
        "sayıları ve sembolleri işleme almaz"
      ]
    },
    {
      "cell_type": "code",
      "metadata": {
        "id": "MWXOt0YyXhTc",
        "colab_type": "code",
        "colab": {
          "base_uri": "https://localhost:8080/",
          "height": 33
        },
        "outputId": "0fb445e6-56a7-44d5-b068-60b5eb842bad"
      },
      "source": [
        "txt = \"35 is my age\"\n",
        "x = txt.capitalize()\n",
        "print(x)"
      ],
      "execution_count": 10,
      "outputs": [
        {
          "output_type": "stream",
          "text": [
            "35 is my age\n"
          ],
          "name": "stdout"
        }
      ]
    },
    {
      "cell_type": "markdown",
      "metadata": {
        "id": "28aFDMzmXsAB",
        "colab_type": "text"
      },
      "source": [
        "eğer karakter dizimizin ilk harfini büyük olmasını kalıcı harfe getirmek için yeni bir değişkene atıyoruz."
      ]
    }
  ]
}