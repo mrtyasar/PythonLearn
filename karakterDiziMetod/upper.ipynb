{
  "nbformat": 4,
  "nbformat_minor": 0,
  "metadata": {
    "colab": {
      "name": "upper.ipynb",
      "provenance": [],
      "collapsed_sections": []
    },
    "kernelspec": {
      "name": "python3",
      "display_name": "Python 3"
    }
  },
  "cells": [
    {
      "cell_type": "markdown",
      "metadata": {
        "id": "Aq7GxmhWRNBw",
        "colab_type": "text"
      },
      "source": [
        "# upper()"
      ]
    },
    {
      "cell_type": "markdown",
      "metadata": {
        "id": "MPWmKnQ4RPEF",
        "colab_type": "text"
      },
      "source": [
        "Upper() methodu karakter dizisinin içindeki harfleri büyütür\n",
        "\n",
        "sayılar ve semboller işleme alınmaz"
      ]
    },
    {
      "cell_type": "code",
      "metadata": {
        "id": "mY5Tns1yRYoM",
        "colab_type": "code",
        "colab": {
          "base_uri": "https://localhost:8080/",
          "height": 33
        },
        "outputId": "8f17e6b2-f5ba-4be6-bf01-570d585a1f3e"
      },
      "source": [
        "kardiz = \"kalem\"\n",
        "print(kardiz.upper())"
      ],
      "execution_count": 1,
      "outputs": [
        {
          "output_type": "stream",
          "text": [
            "KALEM\n"
          ],
          "name": "stdout"
        }
      ]
    },
    {
      "cell_type": "markdown",
      "metadata": {
        "id": "BILRd0FMRgTf",
        "colab_type": "text"
      },
      "source": [
        "lower() methodu gibi programlardaki büyük küçük harf duyarlığını ortadan kaldırır\n",
        "\n",
        "lower() methodu bu işlemi kullanıcadan gelen tüm verileri nasıl küçültüyorsa, upper() methodu da harfleri büyüterek bu işlemi gerçekleştirir"
      ]
    },
    {
      "cell_type": "markdown",
      "metadata": {
        "id": "p_l1xZI4R7FG",
        "colab_type": "text"
      },
      "source": [
        "Şehirlere göre hava durumu bilgisi veren program:"
      ]
    },
    {
      "cell_type": "code",
      "metadata": {
        "id": "fK7t5SsQSA7Y",
        "colab_type": "code",
        "colab": {
          "base_uri": "https://localhost:8080/",
          "height": 50
        },
        "outputId": "97c19c39-263c-4790-f83f-64e5be442d7c"
      },
      "source": [
        "sehir = input(\"Hava durumunu öğrenmek istediğiniz şehir: \")\n",
        "if sehir == \"ADANA\":\n",
        "  print(\"Parçalı bulutlu\")\n",
        "elif sehir == \"ERZURUM\":\n",
        "  print(\"Karla karışık yağmurlu\")\n",
        "elif sehir == \"ANTAKYA\":\n",
        "  print(\"açık ve güneşli\")\n",
        "else:\n",
        "  print(\"Girdiğiniz şehir veritabanında yok!\")      "
      ],
      "execution_count": 8,
      "outputs": [
        {
          "output_type": "stream",
          "text": [
            "Hava durumunu öğrenmek istediğiniz şehir: adana\n",
            "Girdiğiniz şehir veritabanında yok!\n"
          ],
          "name": "stdout"
        }
      ]
    },
    {
      "cell_type": "markdown",
      "metadata": {
        "id": "FkER2lxgSnhl",
        "colab_type": "text"
      },
      "source": [
        "kullanıcının şehir isimlerini büyük harfle yazmasını beklemek yerine upper() methoduyla kullanıcı her ne yazarsa yazsın büyük harfe kolayca çevirebiliriz. Böylelikle büyük küçük harf gerekliliği ortadan kalkar:"
      ]
    },
    {
      "cell_type": "code",
      "metadata": {
        "id": "phmp9PhYS1Vn",
        "colab_type": "code",
        "colab": {
          "base_uri": "https://localhost:8080/",
          "height": 50
        },
        "outputId": "2ad00cf5-fce5-43e1-e1f8-f611141e81c9"
      },
      "source": [
        "sehir = input(\"Hava durumunu öğrenmek istediğiniz şehir: \")\n",
        "sehir = sehir.upper()\n",
        "if sehir == \"ADANA\":\n",
        "  print(\"Parçalı bulutlu\")\n",
        "elif sehir == \"ERZURUM\":\n",
        "  print(\"Karla karışık yağmurlu\")\n",
        "elif sehir == \"ANTAKYA\":\n",
        "  print(\"Açık ve güneşli\")\n",
        "else:\n",
        "  print(\"Girdiğiniz şehir veritabanında yok!\")      "
      ],
      "execution_count": 3,
      "outputs": [
        {
          "output_type": "stream",
          "text": [
            "Hava durumunu öğrenmek istediğiniz şehir: adana\n",
            "Parçalı bulutlu\n"
          ],
          "name": "stdout"
        }
      ]
    },
    {
      "cell_type": "markdown",
      "metadata": {
        "id": "EHze0CSsTemG",
        "colab_type": "text"
      },
      "source": [
        "lower() methodu gibi upper() methodunda da Türkçe karakterler dönüştürürken sorun yaşıyoruz.\n",
        "\n",
        "bunun çözümü replace() methoduyla sorun yaratacak harfleri önceden dönüştürmektir:"
      ]
    },
    {
      "cell_type": "code",
      "metadata": {
        "id": "C4aYjgVcT02J",
        "colab_type": "code",
        "colab": {
          "base_uri": "https://localhost:8080/",
          "height": 33
        },
        "outputId": "aa55df08-ec66-40ef-a60f-e9f737350cd4"
      },
      "source": [
        "il = \"istanbul\"\n",
        "print(il.upper())"
      ],
      "execution_count": 4,
      "outputs": [
        {
          "output_type": "stream",
          "text": [
            "ISTANBUL\n"
          ],
          "name": "stdout"
        }
      ]
    },
    {
      "cell_type": "markdown",
      "metadata": {
        "id": "qVRSkX7MT9ot",
        "colab_type": "text"
      },
      "source": [
        "replace() :"
      ]
    },
    {
      "cell_type": "code",
      "metadata": {
        "id": "2Aew2FuhT-uZ",
        "colab_type": "code",
        "colab": {
          "base_uri": "https://localhost:8080/",
          "height": 33
        },
        "outputId": "ba96e015-e708-4a91-8b41-5f45645a05b5"
      },
      "source": [
        "il = \"istanbul\"\n",
        "print(il.replace(\"i\",\"İ\").upper())"
      ],
      "execution_count": 6,
      "outputs": [
        {
          "output_type": "stream",
          "text": [
            "İSTANBUL\n"
          ],
          "name": "stdout"
        }
      ]
    },
    {
      "cell_type": "code",
      "metadata": {
        "id": "6TX8rMPjUMJo",
        "colab_type": "code",
        "colab": {
          "base_uri": "https://localhost:8080/",
          "height": 33
        },
        "outputId": "e143e01b-aba3-46f6-aa8c-e9b4cf192ae4"
      },
      "source": [
        "iller = \"istanbul, izmir, siirt, mersin\"\n",
        "print(iller.replace(\"i\",\"İ\").upper())"
      ],
      "execution_count": 7,
      "outputs": [
        {
          "output_type": "stream",
          "text": [
            "İSTANBUL, İZMİR, SİİRT, MERSİN\n"
          ],
          "name": "stdout"
        }
      ]
    },
    {
      "cell_type": "markdown",
      "metadata": {
        "id": "RgwSQeDLUe__",
        "colab_type": "text"
      },
      "source": [
        "replace() methoduyla dönüştürürken sorun yaşayacağımız harfleri önceden dönüştürüyoruz\n",
        "\n",
        "daha sonra upper() methoduyla tüm harfleri büyütüyoruz."
      ]
    }
  ]
}