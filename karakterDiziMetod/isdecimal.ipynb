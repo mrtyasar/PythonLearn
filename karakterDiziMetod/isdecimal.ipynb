{
  "nbformat": 4,
  "nbformat_minor": 0,
  "metadata": {
    "colab": {
      "name": "isdecimal.ipynb",
      "provenance": []
    },
    "kernelspec": {
      "name": "python3",
      "display_name": "Python 3"
    }
  },
  "cells": [
    {
      "cell_type": "markdown",
      "metadata": {
        "id": "x4G3Y3r4bgaG",
        "colab_type": "text"
      },
      "source": [
        "# isdecimal()"
      ]
    },
    {
      "cell_type": "markdown",
      "metadata": {
        "id": "SazjFkX3bmDU",
        "colab_type": "text"
      },
      "source": [
        "isdecimal() methodu karakter dizisinin ondalık sayılardan oluşup oluşmadığını sorgular.\n",
        "\n",
        "eğer karakter dizisinde ondalık sayı var ise çıktı False\n",
        "\n",
        "eğer karakter dizisinde ondalık sayı yok ise True çıktısı alırız.\n"
      ]
    },
    {
      "cell_type": "markdown",
      "metadata": {
        "id": "vrbHrKTScdYv",
        "colab_type": "text"
      },
      "source": [
        "Yani isdecimal() methodunu kullanarak makineye şu soruyu sormuş oluyoruz:\n",
        "\n",
        "bu değişkenin değeri ondalık sayıdan oluşmuyor değil mi?\n",
        "evet = True\n",
        "\n",
        "hayır = False"
      ]
    },
    {
      "cell_type": "code",
      "metadata": {
        "id": "VzhmC4FYcuhh",
        "colab_type": "code",
        "colab": {
          "base_uri": "https://localhost:8080/",
          "height": 34
        },
        "outputId": "6747eaf4-bc71-442f-86c8-d5fcf146ab94"
      },
      "source": [
        "a = \"1520\"\n",
        "print(a.isdecimal())"
      ],
      "execution_count": 1,
      "outputs": [
        {
          "output_type": "stream",
          "text": [
            "True\n"
          ],
          "name": "stdout"
        }
      ]
    },
    {
      "cell_type": "code",
      "metadata": {
        "id": "Dsi7sz2Ucywk",
        "colab_type": "code",
        "colab": {
          "base_uri": "https://localhost:8080/",
          "height": 34
        },
        "outputId": "eec7faf5-2faa-4e98-d49b-c616655c9814"
      },
      "source": [
        "a = \"15.2055\"\n",
        "print(a.isdecimal())\n"
      ],
      "execution_count": 3,
      "outputs": [
        {
          "output_type": "stream",
          "text": [
            "False\n"
          ],
          "name": "stdout"
        }
      ]
    }
  ]
}