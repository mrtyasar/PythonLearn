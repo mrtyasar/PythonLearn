{
  "nbformat": 4,
  "nbformat_minor": 0,
  "metadata": {
    "colab": {
      "name": "expandtabs.ipynb",
      "provenance": []
    },
    "kernelspec": {
      "name": "python3",
      "display_name": "Python 3"
    }
  },
  "cells": [
    {
      "cell_type": "markdown",
      "metadata": {
        "id": "4hC5I0svFEam",
        "colab_type": "text"
      },
      "source": [
        "expandtabs() methodu bir sekme boşluk bırakmamızı sağlayan \\t kaçış dizisinin bıraktığı boşluk sayısını arttırmaya yarar"
      ]
    },
    {
      "cell_type": "code",
      "metadata": {
        "id": "BAtYwWlKFZJ5",
        "colab_type": "code",
        "colab": {
          "base_uri": "https://localhost:8080/",
          "height": 33
        },
        "outputId": "06900e50-5ce2-4f9a-857f-6e7653ad9648"
      },
      "source": [
        "a = \"elma\\tbir\\tmeyvedir\"\n",
        "print(a)"
      ],
      "execution_count": 1,
      "outputs": [
        {
          "output_type": "stream",
          "text": [
            "elma\tbir\tmeyvedir\n"
          ],
          "name": "stdout"
        }
      ]
    },
    {
      "cell_type": "markdown",
      "metadata": {
        "id": "Bk44nlbnFhH5",
        "colab_type": "text"
      },
      "source": [
        "expandtabs() : "
      ]
    },
    {
      "cell_type": "code",
      "metadata": {
        "id": "BFk8RGdtFlMO",
        "colab_type": "code",
        "colab": {
          "base_uri": "https://localhost:8080/",
          "height": 33
        },
        "outputId": "1e6a0944-84a7-4f86-a5cf-35eb1c5209ed"
      },
      "source": [
        "a = \"elma\\tbir\\tmeyvedir\"\n",
        "print(a.expandtabs())"
      ],
      "execution_count": 2,
      "outputs": [
        {
          "output_type": "stream",
          "text": [
            "elma    bir     meyvedir\n"
          ],
          "name": "stdout"
        }
      ]
    },
    {
      "cell_type": "code",
      "metadata": {
        "id": "-tNWRcSaGBXY",
        "colab_type": "code",
        "colab": {
          "base_uri": "https://localhost:8080/",
          "height": 33
        },
        "outputId": "fbd5cc36-9abf-4c65-d448-9f33b2c2d8b9"
      },
      "source": [
        "str = \"xyz\\t12345\\tabx\"\n",
        "result = str.expandtabs()\n",
        "print(result)"
      ],
      "execution_count": 4,
      "outputs": [
        {
          "output_type": "stream",
          "text": [
            "xyz     12345   abx\n"
          ],
          "name": "stdout"
        }
      ]
    }
  ]
}