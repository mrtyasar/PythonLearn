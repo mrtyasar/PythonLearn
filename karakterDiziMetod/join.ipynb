{
  "nbformat": 4,
  "nbformat_minor": 0,
  "metadata": {
    "colab": {
      "name": "join.ipynb",
      "provenance": [],
      "collapsed_sections": []
    },
    "kernelspec": {
      "name": "python3",
      "display_name": "Python 3"
    }
  },
  "cells": [
    {
      "cell_type": "markdown",
      "metadata": {
        "id": "nMeyfGHFaqG8",
        "colab_type": "text"
      },
      "source": [
        "# join()"
      ]
    },
    {
      "cell_type": "markdown",
      "metadata": {
        "id": "Q_IqGDb_asBX",
        "colab_type": "text"
      },
      "source": [
        "split() methodu karakter dizilerini bölen ve parçalan bir methoddur\n",
        "\n",
        "join() methoduda parçalanmış veya liste halindeki elamanları birleştirir\n",
        "\n",
        "formül:\n",
        "\n",
        "string.join(değişkenAdı)"
      ]
    },
    {
      "cell_type": "code",
      "metadata": {
        "id": "SbFNtnSfbODH",
        "colab_type": "code",
        "outputId": "7e4a1538-5cb4-49fc-d22a-e78b64a549cc",
        "colab": {
          "base_uri": "https://localhost:8080/",
          "height": 33
        }
      },
      "source": [
        "kardiz = \"Beşiktaş spor kulübü\"\n",
        "bolunmus = kardiz.split()\n",
        "print(bolunmus)"
      ],
      "execution_count": 0,
      "outputs": [
        {
          "output_type": "stream",
          "text": [
            "['Beşiktaş', 'spor', 'kulübü']\n"
          ],
          "name": "stdout"
        }
      ]
    },
    {
      "cell_type": "markdown",
      "metadata": {
        "id": "gMEaIeurbgDu",
        "colab_type": "text"
      },
      "source": [
        "peki ya bu bölünmüş karakter dizisini tekrar eski haline nasıl getirebiliriz\n",
        "\n",
        "elbettek ki bu işlemi join() methodu sayesinde yapabiliriz:"
      ]
    },
    {
      "cell_type": "code",
      "metadata": {
        "id": "6maAgaAdbtrs",
        "colab_type": "code",
        "outputId": "7cfd1736-59b3-4538-9313-d7cb0cf3d627",
        "colab": {
          "base_uri": "https://localhost:8080/",
          "height": 33
        }
      },
      "source": [
        "birlestirme = \" \".join(bolunmus)\n",
        "print(birlestirme)"
      ],
      "execution_count": 0,
      "outputs": [
        {
          "output_type": "stream",
          "text": [
            "Beşiktaş spor kulübü\n"
          ],
          "name": "stdout"
        }
      ]
    },
    {
      "cell_type": "markdown",
      "metadata": {
        "id": "e1pg1u2zfO5K",
        "colab_type": "text"
      },
      "source": [
        "\" \" boşluk karakterini bir değişkenin içine atıp o şekilde kullanabiliriz:"
      ]
    },
    {
      "cell_type": "code",
      "metadata": {
        "id": "tIFOQce3fUzI",
        "colab_type": "code",
        "outputId": "679d858c-97c9-4b59-b430-cb32dd3c9afd",
        "colab": {
          "base_uri": "https://localhost:8080/",
          "height": 33
        }
      },
      "source": [
        "birlestirmeKarakteri = \" \"\n",
        "print(birlestirmeKarakteri.join(bolunmus))"
      ],
      "execution_count": 0,
      "outputs": [
        {
          "output_type": "stream",
          "text": [
            "Beşiktaş spor kulübü\n"
          ],
          "name": "stdout"
        }
      ]
    },
    {
      "cell_type": "markdown",
      "metadata": {
        "id": "BNYNMxsPflkt",
        "colab_type": "text"
      },
      "source": [
        "peki ya \"\" karakter dizisin üzerine değilde bolunmus adlı değişkenin üzerinde kullanamaz mıyız?"
      ]
    },
    {
      "cell_type": "code",
      "metadata": {
        "id": "qgQSGDETfuSS",
        "colab_type": "code",
        "outputId": "b4d06f46-ae8a-4ea3-b38e-4aeb651998c1",
        "colab": {
          "base_uri": "https://localhost:8080/",
          "height": 161
        }
      },
      "source": [
        "print(bolunmus.join(\" \"))"
      ],
      "execution_count": 0,
      "outputs": [
        {
          "output_type": "error",
          "ename": "AttributeError",
          "evalue": "ignored",
          "traceback": [
            "\u001b[0;31m---------------------------------------------------------------------------\u001b[0m",
            "\u001b[0;31mAttributeError\u001b[0m                            Traceback (most recent call last)",
            "\u001b[0;32m<ipython-input-4-46c4611b61ff>\u001b[0m in \u001b[0;36m<module>\u001b[0;34m()\u001b[0m\n\u001b[0;32m----> 1\u001b[0;31m \u001b[0mprint\u001b[0m\u001b[0;34m(\u001b[0m\u001b[0mbolunmus\u001b[0m\u001b[0;34m.\u001b[0m\u001b[0mjoin\u001b[0m\u001b[0;34m(\u001b[0m\u001b[0;34m\" \"\u001b[0m\u001b[0;34m)\u001b[0m\u001b[0;34m)\u001b[0m\u001b[0;34m\u001b[0m\u001b[0;34m\u001b[0m\u001b[0m\n\u001b[0m",
            "\u001b[0;31mAttributeError\u001b[0m: 'list' object has no attribute 'join'"
          ]
        }
      ]
    },
    {
      "cell_type": "markdown",
      "metadata": {
        "id": "G2OnCDdTfyem",
        "colab_type": "text"
      },
      "source": [
        "hata aldık çünkü join methodu list veri tipinin methodu değil \n",
        "\n",
        "bir veri tipinin methodu bir başka veri tipinin üzerine uygulanamaz\n",
        "\n",
        "bu yüzden join() methodunu bir karakter dizisin üzerine uygulamamız gerekir\n",
        "\n",
        "ayrıca join() methodunun bir birleştirme karakterine ihtiyac duyar\n",
        "\n",
        "çoğunlukla ise \" \" boşluk karakteri kullanılır"
      ]
    },
    {
      "cell_type": "code",
      "metadata": {
        "id": "NlOryumcgl21",
        "colab_type": "code",
        "outputId": "85888eca-6c92-4d6d-f338-ff27d7b3806c",
        "colab": {
          "base_uri": "https://localhost:8080/",
          "height": 50
        }
      },
      "source": [
        "besiktas = \"Beşiktaş Spor Kulübü\"\n",
        "bolunmusBesiktas = besiktas.split()\n",
        "print(bolunmusBesiktas)\n",
        "\n",
        "mesala = \" \".join(bolunmusBesiktas)\n",
        "print(mesala)"
      ],
      "execution_count": 0,
      "outputs": [
        {
          "output_type": "stream",
          "text": [
            "['Beşiktaş', 'Spor', 'Kulübü']\n",
            "Beşiktaş Spor Kulübü\n"
          ],
          "name": "stdout"
        }
      ]
    },
    {
      "cell_type": "markdown",
      "metadata": {
        "id": "okEWANVYhDeZ",
        "colab_type": "text"
      },
      "source": [
        "orjinal karakter dizisinin bölünmüş parçalarını aralarında her bir adet boşluk olacak şekilde birleştirdik\n",
        "\n",
        "fakat sadece boşluk kullanmak gibi bir zorunluluğumuz yok:"
      ]
    },
    {
      "cell_type": "code",
      "metadata": {
        "id": "zp10m5CIhW_b",
        "colab_type": "code",
        "outputId": "4e976d72-9286-4ef6-b16a-b46f5ef4f9f6",
        "colab": {
          "base_uri": "https://localhost:8080/",
          "height": 33
        }
      },
      "source": [
        "mesala = \"-\".join(bolunmusBesiktas)\n",
        "print(mesala)"
      ],
      "execution_count": 0,
      "outputs": [
        {
          "output_type": "stream",
          "text": [
            "Beşiktaş-Spor-Kulübü\n"
          ],
          "name": "stdout"
        }
      ]
    },
    {
      "cell_type": "code",
      "metadata": {
        "id": "co6xoBXKhgxW",
        "colab_type": "code",
        "outputId": "559d092b-5732-4a50-b0c6-4056ed9e9e1a",
        "colab": {
          "base_uri": "https://localhost:8080/",
          "height": 33
        }
      },
      "source": [
        "mesala = \"\".join(bolunmusBesiktas)\n",
        "print(mesala)"
      ],
      "execution_count": 0,
      "outputs": [
        {
          "output_type": "stream",
          "text": [
            "BeşiktaşSporKulübü\n"
          ],
          "name": "stdout"
        }
      ]
    },
    {
      "cell_type": "markdown",
      "metadata": {
        "id": "7qmPe_7Uhm6W",
        "colab_type": "text"
      },
      "source": [
        "**örnekler**"
      ]
    },
    {
      "cell_type": "code",
      "metadata": {
        "id": "B0ugP1o8hpwT",
        "colab_type": "code",
        "outputId": "fd4a1fae-c4f6-4f16-c102-bae36c9ead42",
        "colab": {
          "base_uri": "https://localhost:8080/",
          "height": 33
        }
      },
      "source": [
        "mytuble = (\"john\",\"Peter\",\"Vicky\")\n",
        "x = \"#\".join(mytuble)\n",
        "print(x)"
      ],
      "execution_count": 0,
      "outputs": [
        {
          "output_type": "stream",
          "text": [
            "john#Peter#Vicky\n"
          ],
          "name": "stdout"
        }
      ]
    },
    {
      "cell_type": "markdown",
      "metadata": {
        "id": "b0LqOvlth71q",
        "colab_type": "text"
      },
      "source": [
        "eğer değişkenin içinde karakter dizisi tanımlıysa değişken yoluyla da birleştirme yababiliriz"
      ]
    },
    {
      "cell_type": "code",
      "metadata": {
        "id": "udU9ZH-t5ln3",
        "colab_type": "code",
        "colab": {
          "base_uri": "https://localhost:8080/",
          "height": 33
        },
        "outputId": "b88e8aa8-85ce-4570-d004-861d4d615c72"
      },
      "source": [
        "mydict = (\"name\",\"john\",\"country\",\"Norway\")\n",
        "mySeparator = \"TEST\"\n",
        "x = mySeparator.join(mydict)\n",
        "print(x)"
      ],
      "execution_count": 1,
      "outputs": [
        {
          "output_type": "stream",
          "text": [
            "nameTESTjohnTESTcountryTESTNorway\n"
          ],
          "name": "stdout"
        }
      ]
    },
    {
      "cell_type": "markdown",
      "metadata": {
        "id": "tEBeI-Qb6MB6",
        "colab_type": "text"
      },
      "source": [
        "sözlük veri tipi:"
      ]
    },
    {
      "cell_type": "code",
      "metadata": {
        "id": "EJU65lvm6Nna",
        "colab_type": "code",
        "colab": {
          "base_uri": "https://localhost:8080/",
          "height": 33
        },
        "outputId": "8b0ba260-4da6-4c15-c417-0736345ff7d0"
      },
      "source": [
        "myDict = {\"name\":\"john\",\"country\":\"Norway\"}\n",
        "mySeparator = \"TEST\"\n",
        "x = mySeparator.join(myDict)\n",
        "print(x)"
      ],
      "execution_count": 2,
      "outputs": [
        {
          "output_type": "stream",
          "text": [
            "nameTESTcountry\n"
          ],
          "name": "stdout"
        }
      ]
    },
    {
      "cell_type": "markdown",
      "metadata": {
        "id": "dUp71GTw6nG9",
        "colab_type": "text"
      },
      "source": [
        "sözlük veri tipini kullanırken sadece anahtar kelimeler dikkata alınır"
      ]
    },
    {
      "cell_type": "markdown",
      "metadata": {
        "id": "8S9y7YPY6tuS",
        "colab_type": "text"
      },
      "source": [
        "iki farklı değişkene atamış karakter dizilerini birleştirebiliriz"
      ]
    },
    {
      "cell_type": "code",
      "metadata": {
        "id": "CryfQEIV6yTc",
        "colab_type": "code",
        "colab": {
          "base_uri": "https://localhost:8080/",
          "height": 33
        },
        "outputId": "54093650-cccb-47ce-f04d-efa85f449fa9"
      },
      "source": [
        "s1 = \"abc\"\n",
        "s2 = \"123\"\n",
        "print(\"s1.join(s2):\",s1.join(s2))"
      ],
      "execution_count": 4,
      "outputs": [
        {
          "output_type": "stream",
          "text": [
            "s1.join(s2): 1abc2abc3\n"
          ],
          "name": "stdout"
        }
      ]
    },
    {
      "cell_type": "code",
      "metadata": {
        "id": "eGW5yqpW7MH3",
        "colab_type": "code",
        "colab": {
          "base_uri": "https://localhost:8080/",
          "height": 33
        },
        "outputId": "f01f67ab-789e-431d-beca-bb120eee79e1"
      },
      "source": [
        "test = {\"Python\",\"Java\",\"Julia\"}\n",
        "s = \"->->\"\n",
        "print(s.join(test))"
      ],
      "execution_count": 5,
      "outputs": [
        {
          "output_type": "stream",
          "text": [
            "Java->->Julia->->Python\n"
          ],
          "name": "stdout"
        }
      ]
    }
  ]
}