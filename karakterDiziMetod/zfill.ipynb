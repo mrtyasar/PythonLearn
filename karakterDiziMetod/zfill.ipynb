{
  "nbformat": 4,
  "nbformat_minor": 0,
  "metadata": {
    "colab": {
      "name": "zfill.ipynb",
      "provenance": [],
      "collapsed_sections": []
    },
    "kernelspec": {
      "name": "python3",
      "display_name": "Python 3"
    }
  },
  "cells": [
    {
      "cell_type": "markdown",
      "metadata": {
        "id": "qlXREeLvljXp",
        "colab_type": "text"
      },
      "source": [
        "# zfill()"
      ]
    },
    {
      "cell_type": "markdown",
      "metadata": {
        "id": "TAVcnn9nllkm",
        "colab_type": "text"
      },
      "source": [
        "zfill() methodu karakter dizimin sol tarafına istediğimiz kadar sıfır koyabilmemizi sağlıyor.\n",
        "+ bu metot daha çok rakamları 01 02 şeklinde yazmak için kullanılıyor."
      ]
    },
    {
      "cell_type": "code",
      "metadata": {
        "id": "5ZRbGbKklzOB",
        "colab_type": "code",
        "colab": {
          "base_uri": "https://localhost:8080/",
          "height": 33
        },
        "outputId": "7406c38a-f2d2-4ad4-fc1a-f345228d18e9"
      },
      "source": [
        "a = \"12\"\n",
        "print(a.zfill(5))"
      ],
      "execution_count": 1,
      "outputs": [
        {
          "output_type": "stream",
          "text": [
            "00012\n"
          ],
          "name": "stdout"
        }
      ]
    },
    {
      "cell_type": "markdown",
      "metadata": {
        "id": "E83oknX9l35W",
        "colab_type": "text"
      },
      "source": [
        "12 karakter dizisin soluna 5 karakterlik olana kadar 0 koyuldu"
      ]
    },
    {
      "cell_type": "markdown",
      "metadata": {
        "id": "L0OQ1vaVm7Bi",
        "colab_type": "text"
      },
      "source": [
        "+ makineye a değeri 10 karakterlik 10 elemanlık olana kadar değerin soluna 0 koy dedik."
      ]
    },
    {
      "cell_type": "markdown",
      "metadata": {
        "id": "lzQmyXM0l8mL",
        "colab_type": "text"
      },
      "source": [
        "01 02 03..."
      ]
    },
    {
      "cell_type": "code",
      "metadata": {
        "id": "CIC6ST4-l-Xm",
        "colab_type": "code",
        "colab": {
          "base_uri": "https://localhost:8080/",
          "height": 201
        },
        "outputId": "e6320967-bf4f-44f5-f114-c269edf715c9"
      },
      "source": [
        "for i in range(11):\n",
        "  print(str(i).zfill(2))"
      ],
      "execution_count": 3,
      "outputs": [
        {
          "output_type": "stream",
          "text": [
            "00\n",
            "01\n",
            "02\n",
            "03\n",
            "04\n",
            "05\n",
            "06\n",
            "07\n",
            "08\n",
            "09\n",
            "10\n"
          ],
          "name": "stdout"
        }
      ]
    },
    {
      "cell_type": "markdown",
      "metadata": {
        "id": "wLotsC3XmJV4",
        "colab_type": "text"
      },
      "source": [
        "i değerini string veri tipine çevirdik çünkü zfill methodunu int değerli bir verinin üzerinde uygulayamayız\n",
        "\n",
        "+ bir karakter dizisin metodu sadece karakter dizilerin üzerinde\n",
        "+ bir int değerinin metodu sadece int veri tipindeki verilerin üzerinde uygulanır."
      ]
    },
    {
      "cell_type": "code",
      "metadata": {
        "id": "NKsanYvGmdQX",
        "colab_type": "code",
        "colab": {
          "base_uri": "https://localhost:8080/",
          "height": 33
        },
        "outputId": "616e87bc-8d76-4567-82f1-1cc649bcb2a5"
      },
      "source": [
        "txt = \"50\"\n",
        "print(txt.zfill(10))"
      ],
      "execution_count": 4,
      "outputs": [
        {
          "output_type": "stream",
          "text": [
            "0000000050\n"
          ],
          "name": "stdout"
        }
      ]
    }
  ]
}