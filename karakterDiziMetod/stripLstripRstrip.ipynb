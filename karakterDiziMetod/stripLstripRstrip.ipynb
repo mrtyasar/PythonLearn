{
  "nbformat": 4,
  "nbformat_minor": 0,
  "metadata": {
    "colab": {
      "name": "stripLstripRstrip.ipynb",
      "provenance": []
    },
    "kernelspec": {
      "name": "python3",
      "display_name": "Python 3"
    }
  },
  "cells": [
    {
      "cell_type": "markdown",
      "metadata": {
        "id": "slbCaCSaUhRY",
        "colab_type": "text"
      },
      "source": [
        "# strip() lstrip() rstrip()"
      ]
    },
    {
      "cell_type": "markdown",
      "metadata": {
        "id": "ij8GWXoKUntR",
        "colab_type": "text"
      },
      "source": [
        "strip() methodu karakter dizisinin sağındaki ve solundaki elemanları siler"
      ]
    },
    {
      "cell_type": "code",
      "metadata": {
        "id": "Qdxxsr9eUs_K",
        "colab_type": "code",
        "colab": {
          "base_uri": "https://localhost:8080/",
          "height": 33
        },
        "outputId": "de0c40e2-1f80-486e-f9c2-0d8b2c83a3aa"
      },
      "source": [
        "kardiz = \" isihza \"\n",
        "print(kardiz.strip())"
      ],
      "execution_count": 1,
      "outputs": [
        {
          "output_type": "stream",
          "text": [
            "isihza\n"
          ],
          "name": "stdout"
        }
      ]
    },
    {
      "cell_type": "markdown",
      "metadata": {
        "id": "D1PGG2X9U5u_",
        "colab_type": "text"
      },
      "source": [
        "strip() methodu parametre olarak verdiğimiz eleman eğer karakter dizisinin sağında ve solunda ise siler\n",
        "\n",
        "eğer parametre vermezsek öntanımlı olarak bunları siler:"
      ]
    },
    {
      "cell_type": "markdown",
      "metadata": {
        "id": "h0oKklkFVIHa",
        "colab_type": "text"
      },
      "source": [
        "+ \" \" boşluk karakteri\n",
        "+ \\t sekme(TAB) oluşturan kaçış dizisi\n",
        "+ \\n satır başına geçiren kaçış dizisi\n",
        "+ \\r imleci aynı satırın başına döndüren kaçış dizisi\n",
        "+ \\v düşey sekme oluşturan kaçış dizisi\n",
        "+ \\f yeni bir sayfaya geçiren kaçış dizisi"
      ]
    },
    {
      "cell_type": "markdown",
      "metadata": {
        "id": "HTFlM3JsV05M",
        "colab_type": "text"
      },
      "source": [
        "strip() methodunda parametre vermek:"
      ]
    },
    {
      "cell_type": "code",
      "metadata": {
        "id": "bm-fAjkHV4di",
        "colab_type": "code",
        "colab": {
          "base_uri": "https://localhost:8080/",
          "height": 50
        },
        "outputId": "43ab1283-93dc-49a8-bffb-bbf5a41d8ccb"
      },
      "source": [
        "kardiz = \"python\"\n",
        "print(kardiz.strip(\"p\"))\n",
        "\n",
        "kardiz = \"kazak\"\n",
        "print(kardiz.strip(\"k\"))"
      ],
      "execution_count": 3,
      "outputs": [
        {
          "output_type": "stream",
          "text": [
            "ython\n",
            "aza\n"
          ],
          "name": "stdout"
        }
      ]
    },
    {
      "cell_type": "markdown",
      "metadata": {
        "id": "82xjZeWQWCIp",
        "colab_type": "text"
      },
      "source": [
        "bir metnin içinde gereksiz yere geçen > işaretlerini silmek"
      ]
    },
    {
      "cell_type": "code",
      "metadata": {
        "id": "CgaS6398WKlK",
        "colab_type": "code",
        "colab": {
          "base_uri": "https://localhost:8080/",
          "height": 53
        },
        "outputId": "0bc96a2b-cf53-4167-e61f-77d4231f0d12"
      },
      "source": [
        "metin = \"\"\"\n",
        "> Python programlama dili Guido Van Rossum adlı Hollandalı bir programcı tarafından\n",
        "> 90'lı yılların başında geliştirilmeye başlanmıştır. Çoğu insan, isminin Python\n",
        "> olmasına bakarak, bu programlama dilinin, adını piton yılanından aldığını düşünür.\n",
        "> Ancak zannedildiğinin aksine bu programlama dilinin adı piton yılanından gelmez.\n",
        "> Guido Van Rossum bu programlama dilini, The Monty Python adlı bir İngiliz komedi\n",
        "> grubunun, Monty Python's Flying Circus adlı gösterisinden esinlenerek adlandırmıştır.\n",
        "> Ancak her ne kadar gerçek böyle olsa da, Python programlama dilinin pek çok yerde\n",
        "> bir yılan figürü ile temsil edilmesi neredeyse bir gelenek halini almıştır diyebiliriz.\n",
        "\"\"\"\n",
        "\n",
        "for i in metin.split():\n",
        "  print(i.strip(\">\"),end=\" \")"
      ],
      "execution_count": 4,
      "outputs": [
        {
          "output_type": "stream",
          "text": [
            " Python programlama dili Guido Van Rossum adlı Hollandalı bir programcı tarafından  90'lı yılların başında geliştirilmeye başlanmıştır. Çoğu insan, isminin Python  olmasına bakarak, bu programlama dilinin, adını piton yılanından aldığını düşünür.  Ancak zannedildiğinin aksine bu programlama dilinin adı piton yılanından gelmez.  Guido Van Rossum bu programlama dilini, The Monty Python adlı bir İngiliz komedi  grubunun, Monty Python's Flying Circus adlı gösterisinden esinlenerek adlandırmıştır.  Ancak her ne kadar gerçek böyle olsa da, Python programlama dilinin pek çok yerde  bir yılan figürü ile temsil edilmesi neredeyse bir gelenek halini almıştır diyebiliriz. "
          ],
          "name": "stdout"
        }
      ]
    },
    {
      "cell_type": "markdown",
      "metadata": {
        "id": "h_aPa2KIWeaG",
        "colab_type": "text"
      },
      "source": [
        "split() methodu sayesinde paragrafları parçaladık\n",
        "\n",
        "sprit() methodu sayesinde > işaretini temizledik"
      ]
    },
    {
      "cell_type": "markdown",
      "metadata": {
        "id": "UtgTzrBeW5bz",
        "colab_type": "text"
      },
      "source": [
        "strip() methodu karakter dizisinde sadece sağındaki ve solundaki elemanları kaldırır\n",
        "\n",
        "fakat bazen her iki tarafında değil sadece tek bir taraftaki elemanları silmek isteyebiliriz\n",
        "\n",
        "bu yüzden lstrip() ve rsplit() methodundan yararlanırız"
      ]
    },
    {
      "cell_type": "markdown",
      "metadata": {
        "id": "ndh_aVqzXOHX",
        "colab_type": "text"
      },
      "source": [
        "**lstrip()**"
      ]
    },
    {
      "cell_type": "markdown",
      "metadata": {
        "id": "UT-ZBj5vXRD3",
        "colab_type": "text"
      },
      "source": [
        "lstrip() methodu karakter dizisin sadece sol tarafındaki elamanı siler"
      ]
    },
    {
      "cell_type": "code",
      "metadata": {
        "id": "WcMXcEvgXW2V",
        "colab_type": "code",
        "colab": {
          "base_uri": "https://localhost:8080/",
          "height": 33
        },
        "outputId": "9dd5be5b-34e1-4724-8581-5d387c5992c1"
      },
      "source": [
        "print(\"kazak\".strip(\"k\"))"
      ],
      "execution_count": 5,
      "outputs": [
        {
          "output_type": "stream",
          "text": [
            "aza\n"
          ],
          "name": "stdout"
        }
      ]
    },
    {
      "cell_type": "code",
      "metadata": {
        "id": "wM1O7RzBXaP8",
        "colab_type": "code",
        "colab": {
          "base_uri": "https://localhost:8080/",
          "height": 33
        },
        "outputId": "3d34656c-6157-49e4-e0e9-2af259600241"
      },
      "source": [
        "print(\"kazak\".lstrip(\"k\"))"
      ],
      "execution_count": 6,
      "outputs": [
        {
          "output_type": "stream",
          "text": [
            "azak\n"
          ],
          "name": "stdout"
        }
      ]
    },
    {
      "cell_type": "markdown",
      "metadata": {
        "id": "oCpHK0lBXeLx",
        "colab_type": "text"
      },
      "source": [
        "# rstrip()"
      ]
    },
    {
      "cell_type": "markdown",
      "metadata": {
        "id": "L-s8UASkXgoK",
        "colab_type": "text"
      },
      "source": [
        "sadece sağ tarafındaki elemanı silmek için rstrip() methodundan yararlanırız:"
      ]
    },
    {
      "cell_type": "code",
      "metadata": {
        "id": "QHka84NdXqqv",
        "colab_type": "code",
        "colab": {
          "base_uri": "https://localhost:8080/",
          "height": 33
        },
        "outputId": "c301f88a-531a-42e2-9805-aac636a455b4"
      },
      "source": [
        "print(\"kazak\".rstrip(\"k\"))"
      ],
      "execution_count": 7,
      "outputs": [
        {
          "output_type": "stream",
          "text": [
            "kaza\n"
          ],
          "name": "stdout"
        }
      ]
    },
    {
      "cell_type": "markdown",
      "metadata": {
        "id": "LYudkbfQXxIh",
        "colab_type": "text"
      },
      "source": [
        "# karakter dizisi methotlarını iki şekilde uygulayabiliriz:"
      ]
    },
    {
      "cell_type": "markdown",
      "metadata": {
        "id": "7r1ZJ4feX5CW",
        "colab_type": "text"
      },
      "source": [
        "**değişkenlerin üzerinden**"
      ]
    },
    {
      "cell_type": "code",
      "metadata": {
        "id": "GMRq3h7tX8XP",
        "colab_type": "code",
        "colab": {
          "base_uri": "https://localhost:8080/",
          "height": 33
        },
        "outputId": "78327785-dc3a-4c28-e5e3-43a81ed4674e"
      },
      "source": [
        "kardiz = \"*murat*\"\n",
        "print(kardiz.strip(\"*\"))"
      ],
      "execution_count": 8,
      "outputs": [
        {
          "output_type": "stream",
          "text": [
            "murat\n"
          ],
          "name": "stdout"
        }
      ]
    },
    {
      "cell_type": "markdown",
      "metadata": {
        "id": "lmyC7bL1YDmb",
        "colab_type": "text"
      },
      "source": [
        "**direk karakter dizisinin üzerinden**"
      ]
    },
    {
      "cell_type": "code",
      "metadata": {
        "id": "miUHfdRqYHb0",
        "colab_type": "code",
        "colab": {
          "base_uri": "https://localhost:8080/",
          "height": 33
        },
        "outputId": "5935f11d-804d-4fde-c816-0ae43bc51fbe"
      },
      "source": [
        "print(\"*murat*\".strip(\"*\"))"
      ],
      "execution_count": 9,
      "outputs": [
        {
          "output_type": "stream",
          "text": [
            "murat\n"
          ],
          "name": "stdout"
        }
      ]
    }
  ]
}