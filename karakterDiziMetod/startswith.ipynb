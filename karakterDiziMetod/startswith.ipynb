{
  "nbformat": 4,
  "nbformat_minor": 0,
  "metadata": {
    "colab": {
      "name": "startswith.ipynb",
      "provenance": [],
      "collapsed_sections": []
    },
    "kernelspec": {
      "name": "python3",
      "display_name": "Python 3"
    }
  },
  "cells": [
    {
      "cell_type": "markdown",
      "metadata": {
        "id": "R5OL8HtgQgKD",
        "colab_type": "text"
      },
      "source": [
        "# startswith()"
      ]
    },
    {
      "cell_type": "markdown",
      "metadata": {
        "id": "Yr2VwHd_Qj5B",
        "colab_type": "text"
      },
      "source": [
        "+ endswith() methodunun tam tersini yapar\n",
        "+ startswith() methodu karakter dizisin hangi harfle başladığını sorgular"
      ]
    },
    {
      "cell_type": "code",
      "metadata": {
        "id": "7XLr47loQxMW",
        "colab_type": "code",
        "colab": {
          "base_uri": "https://localhost:8080/",
          "height": 50
        },
        "outputId": "ec37feef-a051-489d-b82b-40cef1b35064"
      },
      "source": [
        "kardiz = \"python\"\n",
        "print(kardiz.startswith(\"p\"))\n",
        "\n",
        "print(kardiz.startswith(\"k\"))"
      ],
      "execution_count": 2,
      "outputs": [
        {
          "output_type": "stream",
          "text": [
            "True\n",
            "False\n"
          ],
          "name": "stdout"
        }
      ]
    },
    {
      "cell_type": "markdown",
      "metadata": {
        "id": "JgPREDsQQ8oM",
        "colab_type": "text"
      },
      "source": [
        "p ile başlayan kelimeleri ayıran bir program yapalım:"
      ]
    },
    {
      "cell_type": "code",
      "metadata": {
        "id": "-2IlbxOuRDOb",
        "colab_type": "code",
        "colab": {
          "base_uri": "https://localhost:8080/",
          "height": 84
        },
        "outputId": "a6306cb0-f4cf-45a4-b6f2-014755834c6d"
      },
      "source": [
        "d1 = \"python.ogg\"\n",
        "d2 = \"pasta mı\"\n",
        "d3 = \"kuru\"\n",
        "d4 = \"selam\"\n",
        "d5 = \"pakistan\"\n",
        "d6 = \"python.mp3\"\n",
        "d7 = \"lüleburgaz\"\n",
        "\n",
        "for m in d1,d2,d3,d4,d5,d6,d7:\n",
        "  if m.startswith(\"p\"):\n",
        "    print(m)"
      ],
      "execution_count": 3,
      "outputs": [
        {
          "output_type": "stream",
          "text": [
            "python.ogg\n",
            "pasta mı\n",
            "pakistan\n",
            "python.mp3\n"
          ],
          "name": "stdout"
        }
      ]
    },
    {
      "cell_type": "markdown",
      "metadata": {
        "id": "QPm1boNlRk42",
        "colab_type": "text"
      },
      "source": [
        "bu işlemi şu yöntemle de yapabilirdik:"
      ]
    },
    {
      "cell_type": "code",
      "metadata": {
        "id": "F_gZ3h-cRn0R",
        "colab_type": "code",
        "colab": {
          "base_uri": "https://localhost:8080/",
          "height": 84
        },
        "outputId": "8add193d-a1db-47f3-81b8-56e6e63e5a37"
      },
      "source": [
        "for n in d1,d2,d3,d4,d5,d6,d7:\n",
        "  if n[0] == \"p\":\n",
        "    print(n)"
      ],
      "execution_count": 4,
      "outputs": [
        {
          "output_type": "stream",
          "text": [
            "python.ogg\n",
            "pasta mı\n",
            "pakistan\n",
            "python.mp3\n"
          ],
          "name": "stdout"
        }
      ]
    },
    {
      "cell_type": "markdown",
      "metadata": {
        "id": "8fRfdyk0R4rb",
        "colab_type": "text"
      },
      "source": [
        "elbette ki bu yöntem sadece tek bir harfi sorguluyorsak iyi bir yöntemdir.\n",
        "\n",
        "birden fazla harfi sorgulamak için ise startswith() methodunu tercih etmeliyiz:"
      ]
    },
    {
      "cell_type": "code",
      "metadata": {
        "id": "Lg5-tifjSI-L",
        "colab_type": "code",
        "colab": {
          "base_uri": "https://localhost:8080/",
          "height": 50
        },
        "outputId": "41251a8d-fb91-42c6-e7e9-6d01f8364f66"
      },
      "source": [
        "for k in d1,d2,d3,d4,d5,d6,d7:\n",
        "  if k.startswith(\"py\"):\n",
        "    print(k)"
      ],
      "execution_count": 7,
      "outputs": [
        {
          "output_type": "stream",
          "text": [
            "python.ogg\n",
            "python.mp3\n"
          ],
          "name": "stdout"
        }
      ]
    }
  ]
}