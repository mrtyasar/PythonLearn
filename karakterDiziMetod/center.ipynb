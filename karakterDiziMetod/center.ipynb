{
  "nbformat": 4,
  "nbformat_minor": 0,
  "metadata": {
    "colab": {
      "name": "center.ipynb",
      "provenance": [],
      "collapsed_sections": []
    },
    "kernelspec": {
      "name": "python3",
      "display_name": "Python 3"
    }
  },
  "cells": [
    {
      "cell_type": "markdown",
      "metadata": {
        "id": "gaJRWL_8bSnD",
        "colab_type": "text"
      },
      "source": [
        "# center()"
      ]
    },
    {
      "cell_type": "markdown",
      "metadata": {
        "id": "78ejlxmBbUfv",
        "colab_type": "text"
      },
      "source": [
        "+ center() methodu karakter dizimin kaç karakterlik yer kaplayacağını belirler\n",
        "+ bunu yaparkende kararkter dizimizi ortalar bu sayede daha düzgün bir görüntü elde etmiş oluruz.\n",
        "+ karakter dizimizi ortalarken sağına ve soluna ne koyacağımızı da belirleyebiliriz. Bu sayede fazla verileri hem düzgün hale getirebiliriz hemde yanlarına herhangi bir karakter ekleyebiliriz"
      ]
    },
    {
      "cell_type": "code",
      "metadata": {
        "id": "M0MdqPepbzcc",
        "colab_type": "code",
        "colab": {
          "base_uri": "https://localhost:8080/",
          "height": 1000
        },
        "outputId": "7bf96191-ced0-4e13-9bc6-f9fc8b514dd9"
      },
      "source": [
        "for metot in dir(\"\"):\n",
        "  print(metot.center(15))"
      ],
      "execution_count": 1,
      "outputs": [
        {
          "output_type": "stream",
          "text": [
            "    __add__    \n",
            "   __class__   \n",
            "  __contains__ \n",
            "  __delattr__  \n",
            "    __dir__    \n",
            "    __doc__    \n",
            "     __eq__    \n",
            "   __format__  \n",
            "     __ge__    \n",
            "__getattribute__\n",
            "  __getitem__  \n",
            " __getnewargs__\n",
            "     __gt__    \n",
            "    __hash__   \n",
            "    __init__   \n",
            "__init_subclass__\n",
            "    __iter__   \n",
            "     __le__    \n",
            "    __len__    \n",
            "     __lt__    \n",
            "    __mod__    \n",
            "    __mul__    \n",
            "     __ne__    \n",
            "    __new__    \n",
            "   __reduce__  \n",
            " __reduce_ex__ \n",
            "    __repr__   \n",
            "    __rmod__   \n",
            "    __rmul__   \n",
            "  __setattr__  \n",
            "   __sizeof__  \n",
            "    __str__    \n",
            "__subclasshook__\n",
            "   capitalize  \n",
            "    casefold   \n",
            "     center    \n",
            "     count     \n",
            "     encode    \n",
            "    endswith   \n",
            "   expandtabs  \n",
            "      find     \n",
            "     format    \n",
            "   format_map  \n",
            "     index     \n",
            "    isalnum    \n",
            "    isalpha    \n",
            "   isdecimal   \n",
            "    isdigit    \n",
            "  isidentifier \n",
            "    islower    \n",
            "   isnumeric   \n",
            "  isprintable  \n",
            "    isspace    \n",
            "    istitle    \n",
            "    isupper    \n",
            "      join     \n",
            "     ljust     \n",
            "     lower     \n",
            "     lstrip    \n",
            "   maketrans   \n",
            "   partition   \n",
            "    replace    \n",
            "     rfind     \n",
            "     rindex    \n",
            "     rjust     \n",
            "   rpartition  \n",
            "     rsplit    \n",
            "     rstrip    \n",
            "     split     \n",
            "   splitlines  \n",
            "   startswith  \n",
            "     strip     \n",
            "    swapcase   \n",
            "     title     \n",
            "   translate   \n",
            "     upper     \n",
            "     zfill     \n"
          ],
          "name": "stdout"
        }
      ]
    },
    {
      "cell_type": "markdown",
      "metadata": {
        "id": "oMaAs7qub57_",
        "colab_type": "text"
      },
      "source": [
        "burada karakter dizilerin üzerine uygulayabileceğimiz özellikleri metot adlı değişkenin içine tek tek ayrı olarak attık\n",
        "\n",
        "daha sonra metot ları 15 karakterlik yer kaplama şartıyla ortaladık."
      ]
    },
    {
      "cell_type": "markdown",
      "metadata": {
        "id": "dBUjeRPOcHr_",
        "colab_type": "text"
      },
      "source": [
        "center() methodunun aldığı parametre karakter dizinin kaç karakterlik yer kaplayacağını temsil eder:"
      ]
    },
    {
      "cell_type": "code",
      "metadata": {
        "id": "ftCc2m_YcPJf",
        "colab_type": "code",
        "colab": {
          "base_uri": "https://localhost:8080/",
          "height": 33
        },
        "outputId": "6bc4eb2c-a666-4316-a10c-2fd95b7f49f3"
      },
      "source": [
        "kardiz = \"python\"\n",
        "print(kardiz.center(10))"
      ],
      "execution_count": 2,
      "outputs": [
        {
          "output_type": "stream",
          "text": [
            "  python  \n"
          ],
          "name": "stdout"
        }
      ]
    },
    {
      "cell_type": "markdown",
      "metadata": {
        "id": "r9oWZe2RcrLY",
        "colab_type": "text"
      },
      "source": [
        "kardiz in değerini 10 karakterlik yaptık python 6 karakter içerdiği için soluna 2 sağına 2 boşluk verilerek 10 karakterlik yapıldı."
      ]
    },
    {
      "cell_type": "code",
      "metadata": {
        "id": "O8gtey4Fc5m9",
        "colab_type": "code",
        "colab": {
          "base_uri": "https://localhost:8080/",
          "height": 84
        },
        "outputId": "220cb4b2-4250-4354-f649-25686507cba3"
      },
      "source": [
        "for i in range(1,5):\n",
        "  print(kardiz.center(i))"
      ],
      "execution_count": 3,
      "outputs": [
        {
          "output_type": "stream",
          "text": [
            "python\n",
            "python\n",
            "python\n",
            "python\n"
          ],
          "name": "stdout"
        }
      ]
    },
    {
      "cell_type": "markdown",
      "metadata": {
        "id": "Xd2t1JGNdLXM",
        "colab_type": "text"
      },
      "source": [
        "istersekte karkater dizimizin sağına ve soluna elemanlar koyabaliriz"
      ]
    },
    {
      "cell_type": "code",
      "metadata": {
        "id": "yGkpczxLdROF",
        "colab_type": "code",
        "colab": {
          "base_uri": "https://localhost:8080/",
          "height": 33
        },
        "outputId": "7bdcd7e5-bc28-492e-ca06-8b23ffaf0f9c"
      },
      "source": [
        "kardiz = \"elma\"\n",
        "print(kardiz.center(10,\"-\"))"
      ],
      "execution_count": 4,
      "outputs": [
        {
          "output_type": "stream",
          "text": [
            "---elma---\n"
          ],
          "name": "stdout"
        }
      ]
    },
    {
      "cell_type": "markdown",
      "metadata": {
        "id": "6rpRDbXpdXxQ",
        "colab_type": "text"
      },
      "source": [
        "**örnekler**"
      ]
    },
    {
      "cell_type": "code",
      "metadata": {
        "id": "fpjZLvF8dZuG",
        "colab_type": "code",
        "colab": {
          "base_uri": "https://localhost:8080/",
          "height": 33
        },
        "outputId": "9b117153-70c5-4ecd-a689-3e059e92829e"
      },
      "source": [
        "txt = \"banana\"\n",
        "x = txt.center(20,\"0\")\n",
        "print(x)"
      ],
      "execution_count": 6,
      "outputs": [
        {
          "output_type": "stream",
          "text": [
            "0000000banana0000000\n"
          ],
          "name": "stdout"
        }
      ]
    },
    {
      "cell_type": "code",
      "metadata": {
        "id": "QI2oRovOdjSh",
        "colab_type": "code",
        "colab": {
          "base_uri": "https://localhost:8080/",
          "height": 33
        },
        "outputId": "58a98178-2bf4-43b6-992f-4c8ef338581d"
      },
      "source": [
        "txt = \"banana\"\n",
        "x = txt.center(20)\n",
        "print(x)"
      ],
      "execution_count": 7,
      "outputs": [
        {
          "output_type": "stream",
          "text": [
            "       banana       \n"
          ],
          "name": "stdout"
        }
      ]
    }
  ]
}