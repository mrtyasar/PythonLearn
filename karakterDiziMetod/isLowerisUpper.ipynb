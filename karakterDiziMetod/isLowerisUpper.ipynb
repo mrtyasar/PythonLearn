{
  "nbformat": 4,
  "nbformat_minor": 0,
  "metadata": {
    "colab": {
      "name": "isLowerisUpper.ipynb",
      "provenance": [],
      "collapsed_sections": []
    },
    "kernelspec": {
      "name": "python3",
      "display_name": "Python 3"
    }
  },
  "cells": [
    {
      "cell_type": "markdown",
      "metadata": {
        "id": "LhCf0QivcN1r",
        "colab_type": "text"
      },
      "source": [
        "# islower()  isupper()"
      ]
    },
    {
      "cell_type": "markdown",
      "metadata": {
        "id": "BwOV26uacW8C",
        "colab_type": "text"
      },
      "source": [
        "islower() methodu makineye, karakter dizisi tamamen küçük harflerden mi oluşuyor? diye sorar.\n",
        "\n",
        "isupper() methodu ise makineye, karakter dizisi tamamen küçük harflerden mi oluşuyor? diye sorar."
      ]
    },
    {
      "cell_type": "markdown",
      "metadata": {
        "id": "tVfKVdzbcn2_",
        "colab_type": "text"
      },
      "source": [
        "**islower()**"
      ]
    },
    {
      "cell_type": "code",
      "metadata": {
        "id": "xA6PBOhscrYm",
        "colab_type": "code",
        "colab": {
          "base_uri": "https://localhost:8080/",
          "height": 50
        },
        "outputId": "ee57df1d-981b-41ff-b8c7-ceb24a48bb54"
      },
      "source": [
        "kardiz = \"istanbul\"\n",
        "print(kardiz.islower())\n",
        "\n",
        "kardiz = \"Python\"\n",
        "print(kardiz.islower())"
      ],
      "execution_count": 2,
      "outputs": [
        {
          "output_type": "stream",
          "text": [
            "True\n",
            "False\n"
          ],
          "name": "stdout"
        }
      ]
    },
    {
      "cell_type": "markdown",
      "metadata": {
        "id": "ChkSzInwdDC3",
        "colab_type": "text"
      },
      "source": [
        "islower() methodunu kullanarak kullanıcıdan gelen verinin tamamen küçük harflerden mi oluşup oluşmadını denetleyebiliriz"
      ]
    },
    {
      "cell_type": "code",
      "metadata": {
        "id": "b8tGt-uBdT2W",
        "colab_type": "code",
        "colab": {
          "base_uri": "https://localhost:8080/",
          "height": 50
        },
        "outputId": "8c222762-3c97-4b43-adc3-da8087139a56"
      },
      "source": [
        "veri = input(\"Adınızı giriniz\")\n",
        "if not veri.islower():\n",
        "  print(\"Lütfen sadece küçük harflerle yazınız.\")\n",
        "else:\n",
        "  print(\"Good Name!\")  "
      ],
      "execution_count": 4,
      "outputs": [
        {
          "output_type": "stream",
          "text": [
            "Adınızı girinizMURAT\n",
            "Lütfen sadece küçük harflerle yazınız.\n"
          ],
          "name": "stdout"
        }
      ]
    },
    {
      "cell_type": "markdown",
      "metadata": {
        "id": "uCyrRpHTdt4y",
        "colab_type": "text"
      },
      "source": [
        "**isupper()**"
      ]
    },
    {
      "cell_type": "code",
      "metadata": {
        "id": "o4LjSDEhd0lL",
        "colab_type": "code",
        "colab": {
          "base_uri": "https://localhost:8080/",
          "height": 50
        },
        "outputId": "098384d1-79c2-4168-d659-91382128b6c0"
      },
      "source": [
        "name = \"MURAT\"\n",
        "print(name.isupper())\n",
        "\n",
        "name = \"Murat\"\n",
        "print(name.isupper())"
      ],
      "execution_count": 7,
      "outputs": [
        {
          "output_type": "stream",
          "text": [
            "True\n",
            "False\n"
          ],
          "name": "stdout"
        }
      ]
    },
    {
      "cell_type": "code",
      "metadata": {
        "id": "rQxSMoVPePwz",
        "colab_type": "code",
        "colab": {
          "base_uri": "https://localhost:8080/",
          "height": 50
        },
        "outputId": "ad56ef64-c92c-4ba5-a145-ea0e13a9b9de"
      },
      "source": [
        "veri = input(\"Mesajınız: \")\n",
        "if veri.isupper():\n",
        "  print(\"Lütfen küçük harflerle yazınız!\")"
      ],
      "execution_count": 8,
      "outputs": [
        {
          "output_type": "stream",
          "text": [
            "Mesajınız: MESALALALA\n",
            "Lütfen küçük harflerle yazınız!\n"
          ],
          "name": "stdout"
        }
      ]
    },
    {
      "cell_type": "markdown",
      "metadata": {
        "id": "eJxgMCP3efS8",
        "colab_type": "text"
      },
      "source": [
        "kullanıcının girdiği mesajın her bir kelimesini ayrı ayrı tek tek sorgulamak için ise split() methodundan yararlanabiliriz:"
      ]
    },
    {
      "cell_type": "code",
      "metadata": {
        "id": "NjSUFSk4enzs",
        "colab_type": "code",
        "colab": {
          "base_uri": "https://localhost:8080/",
          "height": 50
        },
        "outputId": "6065a760-300a-47da-aeb5-6bf5a70c5524"
      },
      "source": [
        "veriOne = input(\"Mesajınız: \")\n",
        "bol = veriOne.split()\n",
        "for i in bol:\n",
        "  if i.isupper():\n",
        "    print(\"Tamamen büyük harflerden oluşan bir mesaj atmayınız!\")"
      ],
      "execution_count": 10,
      "outputs": [
        {
          "output_type": "stream",
          "text": [
            "Mesajınız: MESALA aydınlık MESala\n",
            "Tamamen büyük harflerden oluşan bir mesaj atmayınız!\n"
          ],
          "name": "stdout"
        }
      ]
    },
    {
      "cell_type": "markdown",
      "metadata": {
        "id": "rod5XQVHfHlH",
        "colab_type": "text"
      },
      "source": [
        "split() methodunu kullanmazsak eğer her bir harfi tek tek inceler"
      ]
    },
    {
      "cell_type": "code",
      "metadata": {
        "id": "VumafHjSfOza",
        "colab_type": "code",
        "colab": {
          "base_uri": "https://localhost:8080/",
          "height": 268
        },
        "outputId": "29001e2f-efbc-49a7-8f90-34773a85c0c7"
      },
      "source": [
        "veriOne = input(\"Mesajınız\")\n",
        "for i in veriOne:\n",
        "  if i.isupper():\n",
        "    print(\"KAKAKAKAK\")"
      ],
      "execution_count": 13,
      "outputs": [
        {
          "output_type": "stream",
          "text": [
            "MesajınızMESALAL MESALAL\n",
            "KAKAKAKAK\n",
            "KAKAKAKAK\n",
            "KAKAKAKAK\n",
            "KAKAKAKAK\n",
            "KAKAKAKAK\n",
            "KAKAKAKAK\n",
            "KAKAKAKAK\n",
            "KAKAKAKAK\n",
            "KAKAKAKAK\n",
            "KAKAKAKAK\n",
            "KAKAKAKAK\n",
            "KAKAKAKAK\n",
            "KAKAKAKAK\n",
            "KAKAKAKAK\n"
          ],
          "name": "stdout"
        }
      ]
    }
  ]
}