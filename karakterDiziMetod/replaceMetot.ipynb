{
  "nbformat": 4,
  "nbformat_minor": 0,
  "metadata": {
    "colab": {
      "name": "replaceMetot.ipynb",
      "provenance": [],
      "collapsed_sections": []
    },
    "kernelspec": {
      "name": "python3",
      "display_name": "Python 3"
    }
  },
  "cells": [
    {
      "cell_type": "markdown",
      "metadata": {
        "id": "_kMZ9CUFsupz",
        "colab_type": "text"
      },
      "source": [
        "replace() metodu, karakter dizileri içinde karakterleri başka karakterlerle değiştirebilen metoddur."
      ]
    },
    {
      "cell_type": "code",
      "metadata": {
        "id": "4r-F7VqMs2l2",
        "colab_type": "code",
        "colab": {
          "base_uri": "https://localhost:8080/",
          "height": 34
        },
        "outputId": "dc7e8f07-bf15-4015-9b1a-96957b002e5b"
      },
      "source": [
        "kardiz = \"elma\"\n",
        "print(kardiz.replace(\"e\",\"E\"))"
      ],
      "execution_count": 1,
      "outputs": [
        {
          "output_type": "stream",
          "text": [
            "Elma\n"
          ],
          "name": "stdout"
        }
      ]
    },
    {
      "cell_type": "markdown",
      "metadata": {
        "id": "EZLvIg6ZtBkS",
        "colab_type": "text"
      },
      "source": [
        "Metodların kullanım formülü:"
      ]
    },
    {
      "cell_type": "markdown",
      "metadata": {
        "id": "nmGY3L1ztGAA",
        "colab_type": "text"
      },
      "source": [
        "karakrterDizisi.metot(parametre)\n",
        "\n",
        "replace() metodunun kullanım formülü:"
      ]
    },
    {
      "cell_type": "markdown",
      "metadata": {
        "id": "mNORI0rUtVPL",
        "colab_type": "text"
      },
      "source": [
        "karakterDizi.metot(eskiKarakterDizisi,Yeni karakter Dizisi)"
      ]
    },
    {
      "cell_type": "code",
      "metadata": {
        "id": "jjv1Z01StjMV",
        "colab_type": "code",
        "colab": {
          "base_uri": "https://localhost:8080/",
          "height": 34
        },
        "outputId": "10e3bef9-2cc1-4c27-9806-665df0e4c2b7"
      },
      "source": [
        "kardiz = \"memleket\"\n",
        "print(kardiz.replace(\"ket\",\"KET\"))"
      ],
      "execution_count": 2,
      "outputs": [
        {
          "output_type": "stream",
          "text": [
            "memleKET\n"
          ],
          "name": "stdout"
        }
      ]
    },
    {
      "cell_type": "markdown",
      "metadata": {
        "id": "YPOiQmantrv3",
        "colab_type": "text"
      },
      "source": [
        "demek ki aynı anda birden fazla değer değiştirebiliyormuşuz"
      ]
    },
    {
      "cell_type": "markdown",
      "metadata": {
        "id": "VI8nFInDt7T_",
        "colab_type": "text"
      },
      "source": [
        "replace metodu çok fazla kullanılmasa da kullanışlı bir 3. parametresi vardır.\n",
        "bu 3. parametre karakter dizisinin karakterlerin kaçının değiştirileceğini belirler.\n",
        "eğer 3. parametreyi belirtmezsek, ön tanımlı olarak bütün karakterleri değiştirir."
      ]
    },
    {
      "cell_type": "code",
      "metadata": {
        "id": "gxozIPEluUlm",
        "colab_type": "code",
        "colab": {
          "base_uri": "https://localhost:8080/",
          "height": 34
        },
        "outputId": "d0aa5036-285b-44c5-b11c-eda91de42bed"
      },
      "source": [
        "kardiz = \"memleket\"\n",
        "print(kardiz.replace(\"e\",\"\"))"
      ],
      "execution_count": 3,
      "outputs": [
        {
          "output_type": "stream",
          "text": [
            "mmlkt\n"
          ],
          "name": "stdout"
        }
      ]
    },
    {
      "cell_type": "markdown",
      "metadata": {
        "id": "-hiHz0f0uec5",
        "colab_type": "text"
      },
      "source": [
        "var olan bütün e leri değiştirdi. 3. parametreyi kullanalım:"
      ]
    },
    {
      "cell_type": "code",
      "metadata": {
        "id": "n0g80YwMunSe",
        "colab_type": "code",
        "colab": {
          "base_uri": "https://localhost:8080/",
          "height": 34
        },
        "outputId": "eff58795-b7a4-4404-823b-8e88802a248d"
      },
      "source": [
        "print(kardiz.replace(\"e\",\"\",1))"
      ],
      "execution_count": 5,
      "outputs": [
        {
          "output_type": "stream",
          "text": [
            "mmleket\n"
          ],
          "name": "stdout"
        }
      ]
    },
    {
      "cell_type": "markdown",
      "metadata": {
        "id": "avf8jDQEuxEC",
        "colab_type": "text"
      },
      "source": [
        "Bir tane e'yi değiştirdik"
      ]
    },
    {
      "cell_type": "code",
      "metadata": {
        "id": "vEHqfwrSu0HL",
        "colab_type": "code",
        "colab": {
          "base_uri": "https://localhost:8080/",
          "height": 34
        },
        "outputId": "ffcee209-5024-432c-9835-7798addc8965"
      },
      "source": [
        "print(kardiz.replace(\"e\",\"\",2))"
      ],
      "execution_count": 6,
      "outputs": [
        {
          "output_type": "stream",
          "text": [
            "mmlket\n"
          ],
          "name": "stdout"
        }
      ]
    },
    {
      "cell_type": "markdown",
      "metadata": {
        "id": "BTSwu4V4u6p3",
        "colab_type": "text"
      },
      "source": [
        "iki tane e yi sildik"
      ]
    },
    {
      "cell_type": "markdown",
      "metadata": {
        "id": "drNAlBqDvVG-",
        "colab_type": "text"
      },
      "source": [
        "Kalıcı bir değişiklik yapmak istiyorsak yeni bir değişkene atamamız lazım:"
      ]
    },
    {
      "cell_type": "code",
      "metadata": {
        "id": "5T248HruvaQ9",
        "colab_type": "code",
        "colab": {
          "base_uri": "https://localhost:8080/",
          "height": 34
        },
        "outputId": "757db41c-dcdf-4229-b38f-c87767d40baa"
      },
      "source": [
        "kardiz = \"elma\"\n",
        "meyve = kardiz.replace(\"e\",\"E\")\n",
        "print(meyve)"
      ],
      "execution_count": 7,
      "outputs": [
        {
          "output_type": "stream",
          "text": [
            "Elma\n"
          ],
          "name": "stdout"
        }
      ]
    }
  ]
}