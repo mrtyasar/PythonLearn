{
  "nbformat": 4,
  "nbformat_minor": 0,
  "metadata": {
    "colab": {
      "name": "isalpha.ipynb",
      "provenance": []
    },
    "kernelspec": {
      "name": "python3",
      "display_name": "Python 3"
    }
  },
  "cells": [
    {
      "cell_type": "markdown",
      "metadata": {
        "id": "fjiYht3bkEMx",
        "colab_type": "text"
      },
      "source": [
        "# isalpha()"
      ]
    },
    {
      "cell_type": "markdown",
      "metadata": {
        "id": "FLcfRP_8kGmr",
        "colab_type": "text"
      },
      "source": [
        "isalpha() methodunun tek görevi karakter dizisi tamamen alfabe harflerinden mi oluştuğunu sorgulayan bir methotdur.\n",
        "\n",
        "sadece iki çıktı sonucu verebilir: True ve False\n",
        "\n",
        "eğer karakter dizisi sadece harflerden oluşuyorsa: True\n",
        "\n",
        "eğer karakter dizisi sadece harflerden oluşmuyorsa: False değeri verir"
      ]
    },
    {
      "cell_type": "code",
      "metadata": {
        "id": "zotO1fLUknRo",
        "colab_type": "code",
        "colab": {
          "base_uri": "https://localhost:8080/",
          "height": 34
        },
        "outputId": "d92d6d22-f586-4389-ca7a-f87525f54d6e"
      },
      "source": [
        "x = \"muratCan\"\n",
        "print(x.isalpha())"
      ],
      "execution_count": 1,
      "outputs": [
        {
          "output_type": "stream",
          "text": [
            "True\n"
          ],
          "name": "stdout"
        }
      ]
    },
    {
      "cell_type": "markdown",
      "metadata": {
        "id": "F02LzrvTkrqV",
        "colab_type": "text"
      },
      "source": [
        "eğer karakter dizisinin içinde boşluk varsa ne olursa olsun False değeri veririr:\n"
      ]
    },
    {
      "cell_type": "code",
      "metadata": {
        "id": "SjdVTdb_k1H4",
        "colab_type": "code",
        "colab": {
          "base_uri": "https://localhost:8080/",
          "height": 34
        },
        "outputId": "aa4507f3-f824-486e-f51f-6695434fe2cd"
      },
      "source": [
        "x = \"murat Can\"\n",
        "print(x.isalpha())"
      ],
      "execution_count": 2,
      "outputs": [
        {
          "output_type": "stream",
          "text": [
            "False\n"
          ],
          "name": "stdout"
        }
      ]
    },
    {
      "cell_type": "markdown",
      "metadata": {
        "id": "G7mxk1UVk5tX",
        "colab_type": "text"
      },
      "source": [
        "formül:\n",
        "\n",
        "string.isalpha()\n",
        "\n",
        "parametre almaz"
      ]
    },
    {
      "cell_type": "code",
      "metadata": {
        "id": "P-26sOJck-H4",
        "colab_type": "code",
        "colab": {
          "base_uri": "https://localhost:8080/",
          "height": 34
        },
        "outputId": "21a4cba6-4618-4df7-f143-495d1f1000e9"
      },
      "source": [
        "a = \"kezban\"\n",
        "print(a.isalpha())"
      ],
      "execution_count": 3,
      "outputs": [
        {
          "output_type": "stream",
          "text": [
            "True\n"
          ],
          "name": "stdout"
        }
      ]
    },
    {
      "cell_type": "code",
      "metadata": {
        "id": "scVKt5s7lBs1",
        "colab_type": "code",
        "colab": {
          "base_uri": "https://localhost:8080/",
          "height": 34
        },
        "outputId": "4dc94662-57fe-4b02-eea9-dddd4debe3e5"
      },
      "source": [
        "b = \"k3zban\"\n",
        "print(b.isalpha())"
      ],
      "execution_count": 4,
      "outputs": [
        {
          "output_type": "stream",
          "text": [
            "False\n"
          ],
          "name": "stdout"
        }
      ]
    },
    {
      "cell_type": "markdown",
      "metadata": {
        "id": "k6CH7t09lH3Q",
        "colab_type": "text"
      },
      "source": [
        "sadece harflerden ve bitişik bir karakter dizisi istiyelim:"
      ]
    },
    {
      "cell_type": "code",
      "metadata": {
        "id": "A3qDxJcLlSks",
        "colab_type": "code",
        "colab": {
          "base_uri": "https://localhost:8080/",
          "height": 34
        },
        "outputId": "1e2bc320-fd86-4f0e-dc17-b1166dbabd72"
      },
      "source": [
        "name = \"MonicaGaller\"\n",
        "if name.isalpha() == True:\n",
        "  print(\"Tüm karakterler harflerden oluşuyor!\")\n",
        "else:\n",
        "  print(\"Tüm karakterler harflerde oluşmuyor\",\"Lütfen Tekrar deneyiniz!\",sep=\"\\n\")  "
      ],
      "execution_count": 5,
      "outputs": [
        {
          "output_type": "stream",
          "text": [
            "Tüm karakterler harflerden oluşuyor!\n"
          ],
          "name": "stdout"
        }
      ]
    }
  ]
}