{
  "nbformat": 4,
  "nbformat_minor": 0,
  "metadata": {
    "colab": {
      "name": "title.ipynb",
      "provenance": []
    },
    "kernelspec": {
      "name": "python3",
      "display_name": "Python 3"
    }
  },
  "cells": [
    {
      "cell_type": "markdown",
      "metadata": {
        "id": "uIasfhul2-vL",
        "colab_type": "text"
      },
      "source": [
        "# title()"
      ]
    },
    {
      "cell_type": "markdown",
      "metadata": {
        "id": "hvo1seRX3EfV",
        "colab_type": "text"
      },
      "source": [
        "capitalize() methodu karakter dizisinin ilk harfini büyütüyordu\n",
        "\n",
        "title() methodu ise karakter dizisin içinde ne kadar kelime varsa onların ilk harflerini büyütür:"
      ]
    },
    {
      "cell_type": "code",
      "metadata": {
        "id": "Y6egUDtB3Rjm",
        "colab_type": "code",
        "colab": {
          "base_uri": "https://localhost:8080/",
          "height": 67
        },
        "outputId": "a3ccfcbf-88ea-44b4-f240-e97bd0c3f55e"
      },
      "source": [
        "kardiz = \"pink floyd\"\n",
        "\n",
        "print(kardiz.capitalize())\n",
        "\n",
        "print(kardiz.title())\n",
        "\n",
        "print(\"python proglama dili\".title())"
      ],
      "execution_count": 3,
      "outputs": [
        {
          "output_type": "stream",
          "text": [
            "Pink floyd\n",
            "Pink Floyd\n",
            "Python Proglama Dili\n"
          ],
          "name": "stdout"
        }
      ]
    },
    {
      "cell_type": "markdown",
      "metadata": {
        "id": "ZfUxeX-X3wGI",
        "colab_type": "text"
      },
      "source": [
        "title() methodunda da türkçe karakterleri büyütürken sorun yaşıyoruz.\n",
        "\n",
        "bu sorunun çözümü ise:"
      ]
    },
    {
      "cell_type": "code",
      "metadata": {
        "id": "aFF4M9ls34D9",
        "colab_type": "code",
        "colab": {
          "base_uri": "https://localhost:8080/",
          "height": 33
        },
        "outputId": "3b8cec32-c5cf-4778-d6be-c9353c9d9fbd"
      },
      "source": [
        "kardiz = \"istanbul büyükşehir belediyesi\"\n",
        "if kardiz.startswith(\"i\"):\n",
        "  kardiz = \"İ\" + kardiz[1:]\n",
        "  kardiz = kardiz.title()\n",
        "else:\n",
        "  kardiz = kardiz.title()  \n",
        "print(kardiz)  "
      ],
      "execution_count": 4,
      "outputs": [
        {
          "output_type": "stream",
          "text": [
            "İstanbul Büyükşehir Belediyesi\n"
          ],
          "name": "stdout"
        }
      ]
    },
    {
      "cell_type": "markdown",
      "metadata": {
        "id": "LulkHCRL4P7l",
        "colab_type": "text"
      },
      "source": [
        "+ eğer kardiz i harfiyle başlıyorsa şunları yap dedik\n",
        "+ kardiz in içine büyük İ ile kardiz in 1. indeksten sonrakilerini topla dedik\n",
        "+ daha sonra kardiz enin içinde title() methodunu uygula dedik\n",
        "+ eğer dedik kardiz i harfinden başka bir harfle başlıyorsa\n",
        "+ kardiz'e title() methodunu uygula dedik\n",
        "+ en sonda sie kardiz i yazdırdık "
      ]
    },
    {
      "cell_type": "markdown",
      "metadata": {
        "id": "TaksI0E35YCO",
        "colab_type": "text"
      },
      "source": [
        "else olmadan da yazdırabilirdik:"
      ]
    },
    {
      "cell_type": "code",
      "metadata": {
        "id": "q3Hh275K5l1z",
        "colab_type": "code",
        "colab": {
          "base_uri": "https://localhost:8080/",
          "height": 33
        },
        "outputId": "bbab072f-60e5-4ca3-a346-863ae07b0f8e"
      },
      "source": [
        "kardizOne =\"İstanbul büyükşehir belediyesi\"\n",
        "if kardizOne.startswith(\"i\"):\n",
        "  kardizOne = \"İ\" + kardizOne[1:]\n",
        "kardizOne = kardizOne.title()\n",
        "print(kardizOne)    "
      ],
      "execution_count": 6,
      "outputs": [
        {
          "output_type": "stream",
          "text": [
            "İstanbul Büyükşehir Belediyesi\n"
          ],
          "name": "stdout"
        }
      ]
    },
    {
      "cell_type": "markdown",
      "metadata": {
        "id": "8S22bJYp6Sw5",
        "colab_type": "text"
      },
      "source": [
        "eğer ki kullanıcın verdiği veride i harfi karakter dizisin başında değilde ortalarındaysa ne yapacağız?"
      ]
    },
    {
      "cell_type": "code",
      "metadata": {
        "id": "p00LCobk6k-Z",
        "colab_type": "code",
        "colab": {
          "base_uri": "https://localhost:8080/",
          "height": 33
        },
        "outputId": "5f8c3bc2-3f12-4b97-fd0d-d92a7f088153"
      },
      "source": [
        "kardiz = \"on iki ada\"\n",
        "for kelime in kardiz.split():\n",
        "  if kelime.startswith(\"i\"):\n",
        "    kelime = \"İ\" + kelime[1:]\n",
        "  kelime = kelime.title()\n",
        "  print(kelime,end =\" \")    "
      ],
      "execution_count": 11,
      "outputs": [
        {
          "output_type": "stream",
          "text": [
            "On İki Ada "
          ],
          "name": "stdout"
        }
      ]
    },
    {
      "cell_type": "markdown",
      "metadata": {
        "id": "XwlHUzvA7cys",
        "colab_type": "text"
      },
      "source": [
        "split() methodu her bir kelimeyi ayrı ayrı gösterdiği için makineye her bir kelimenin ilk harfini startswith() methodu ile sorgulayabildik"
      ]
    },
    {
      "cell_type": "code",
      "metadata": {
        "id": "6Ysb9nd87qVb",
        "colab_type": "code",
        "colab": {
          "base_uri": "https://localhost:8080/",
          "height": 67
        },
        "outputId": "0afdc04c-1519-4750-d3f1-4a795dd4865e"
      },
      "source": [
        "kardiz = \"on iki ada\"\n",
        "for kelime in kardiz.split():\n",
        "  print(kelime)"
      ],
      "execution_count": 12,
      "outputs": [
        {
          "output_type": "stream",
          "text": [
            "on\n",
            "iki\n",
            "ada\n"
          ],
          "name": "stdout"
        }
      ]
    }
  ]
}