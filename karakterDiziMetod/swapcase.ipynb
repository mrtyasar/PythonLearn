{
  "nbformat": 4,
  "nbformat_minor": 0,
  "metadata": {
    "colab": {
      "name": "swapcase.ipynb",
      "provenance": []
    },
    "kernelspec": {
      "name": "python3",
      "display_name": "Python 3"
    }
  },
  "cells": [
    {
      "cell_type": "markdown",
      "metadata": {
        "id": "ojU5bp3wNah2",
        "colab_type": "text"
      },
      "source": [
        "# swapcase()"
      ]
    },
    {
      "cell_type": "markdown",
      "metadata": {
        "id": "7TZXi4rUNeYL",
        "colab_type": "text"
      },
      "source": [
        "swapcase() methodu büyük harfleri küçük harflere\n",
        "\n",
        "küçük harfleri büyük harflere çeviri"
      ]
    },
    {
      "cell_type": "code",
      "metadata": {
        "id": "OnL77HzxNqVg",
        "colab_type": "code",
        "colab": {
          "base_uri": "https://localhost:8080/",
          "height": 67
        },
        "outputId": "4e56ff95-4ad7-4b11-fa58-3680d9d2d35a"
      },
      "source": [
        "kardiz = \"python\"\n",
        "print(kardiz.swapcase())\n",
        "\n",
        "kardiOne = \"PYTHON\"\n",
        "print(kardiOne.swapcase())\n",
        "\n",
        "kardizTwo = \"Python\"\n",
        "print(kardizTwo.swapcase())"
      ],
      "execution_count": 5,
      "outputs": [
        {
          "output_type": "stream",
          "text": [
            "PYTHON\n",
            "python\n",
            "pYTHON\n"
          ],
          "name": "stdout"
        }
      ]
    },
    {
      "cell_type": "markdown",
      "metadata": {
        "id": "8Hx15UXnOU0j",
        "colab_type": "text"
      },
      "source": [
        "bu metodda türkçe karakterle problem yaşıyoruz\n",
        "\n",
        "bu problemi çözebilmek için:"
      ]
    },
    {
      "cell_type": "code",
      "metadata": {
        "id": "Ak9qZNxAOcNx",
        "colab_type": "code",
        "colab": {
          "base_uri": "https://localhost:8080/",
          "height": 33
        },
        "outputId": "c806d5d2-1847-4401-9d5d-191f899b969b"
      },
      "source": [
        "kardiz = \"istanbul\"\n",
        "for i in kardiz:\n",
        "  if i == \"İ\":\n",
        "    kardiz = kardiz.replace(\"İ\",\"i\")\n",
        "  elif i == \"i\":\n",
        "    kardiz = kardiz.replace(\"i\",\"İ\")\n",
        "  else:\n",
        "    kardiz = kardiz.replace(i,i.swapcase())\n",
        "print(kardiz)        "
      ],
      "execution_count": 9,
      "outputs": [
        {
          "output_type": "stream",
          "text": [
            "İSTANBUL\n"
          ],
          "name": "stdout"
        }
      ]
    },
    {
      "cell_type": "markdown",
      "metadata": {
        "id": "2LuuTP72PH4l",
        "colab_type": "text"
      },
      "source": [
        "+ for döngüsü sayesinde harfleri tek tek işlemden geçiriyoruz\n",
        "+ bu kodlar sayesinde sorun yaratacak yerlere ekleme ve çıkarma yapıyoruz\n",
        "+ daha sonra geri kalan harfler için ise swapcase() methodunu uyguluyoruz."
      ]
    }
  ]
}