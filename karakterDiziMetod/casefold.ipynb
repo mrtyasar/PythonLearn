{
  "nbformat": 4,
  "nbformat_minor": 0,
  "metadata": {
    "colab": {
      "name": "casefold.ipynb",
      "provenance": [],
      "collapsed_sections": []
    },
    "kernelspec": {
      "name": "python3",
      "display_name": "Python 3"
    }
  },
  "cells": [
    {
      "cell_type": "markdown",
      "metadata": {
        "id": "cg2ic2OgSqwE",
        "colab_type": "text"
      },
      "source": [
        "# casefold()"
      ]
    },
    {
      "cell_type": "markdown",
      "metadata": {
        "id": "_nye92vOSuP1",
        "colab_type": "text"
      },
      "source": [
        "casefold() methodu lower() methoduyla aynı işlemi yap \n",
        "lower() methodundan tek farkı ise almancada ss nin büyük hali olan ß harfini küçültür."
      ]
    },
    {
      "cell_type": "code",
      "metadata": {
        "id": "-RiGfWZLTTzh",
        "colab_type": "code",
        "colab": {
          "base_uri": "https://localhost:8080/",
          "height": 50
        },
        "outputId": "e21dbc0c-50a9-4797-e116-e6eaa1853aee"
      },
      "source": [
        "print(\"ß\".lower())\n",
        "\n",
        "print(\"ß\".casefold())"
      ],
      "execution_count": 1,
      "outputs": [
        {
          "output_type": "stream",
          "text": [
            "ß\n",
            "ss\n"
          ],
          "name": "stdout"
        }
      ]
    },
    {
      "cell_type": "markdown",
      "metadata": {
        "id": "CwgXQl1nTYLr",
        "colab_type": "text"
      },
      "source": [
        "+ parametre almaz\n",
        "+ formül:"
      ]
    },
    {
      "cell_type": "code",
      "metadata": {
        "id": "Y5yAzrEQTc6y",
        "colab_type": "code",
        "colab": {}
      },
      "source": [
        "string.casefold()"
      ],
      "execution_count": 0,
      "outputs": []
    }
  ]
}