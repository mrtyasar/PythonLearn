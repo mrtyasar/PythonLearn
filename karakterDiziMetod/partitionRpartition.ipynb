{
  "nbformat": 4,
  "nbformat_minor": 0,
  "metadata": {
    "colab": {
      "name": "partitionRpartition.ipynb",
      "provenance": []
    },
    "kernelspec": {
      "name": "python3",
      "display_name": "Python 3"
    }
  },
  "cells": [
    {
      "cell_type": "markdown",
      "metadata": {
        "id": "sln3gTRg_b9f",
        "colab_type": "text"
      },
      "source": [
        "# partition() ve rpartition()"
      ]
    },
    {
      "cell_type": "markdown",
      "metadata": {
        "id": "sJop7wOs_g71",
        "colab_type": "text"
      },
      "source": [
        "partition() methodu karakter dizilerini belli bir ölçüde göre 3 ayrı parçaya böler."
      ]
    },
    {
      "cell_type": "code",
      "metadata": {
        "id": "A2cvQngo_pFs",
        "colab_type": "code",
        "colab": {
          "base_uri": "https://localhost:8080/",
          "height": 33
        },
        "outputId": "80cb65e8-9607-43f9-d27a-4d52fbb6af76"
      },
      "source": [
        "a = \"istanbul\"\n",
        "print(a.partition(\"an\"))"
      ],
      "execution_count": 1,
      "outputs": [
        {
          "output_type": "stream",
          "text": [
            "('ist', 'an', 'bul')\n"
          ],
          "name": "stdout"
        }
      ]
    },
    {
      "cell_type": "markdown",
      "metadata": {
        "id": "mkXc49Si_wpG",
        "colab_type": "text"
      },
      "source": [
        "eğer paranter içinde girdiğimiz değer karakter dizinin içinde bulunmuyorsa ne olur?"
      ]
    },
    {
      "cell_type": "code",
      "metadata": {
        "id": "KQNEcfx9AUyz",
        "colab_type": "code",
        "colab": {
          "base_uri": "https://localhost:8080/",
          "height": 33
        },
        "outputId": "83549f83-03a5-4400-e74f-85fa1848e390"
      },
      "source": [
        "a = \"istanbul\"\n",
        "print(a.partition(\"m\"))"
      ],
      "execution_count": 2,
      "outputs": [
        {
          "output_type": "stream",
          "text": [
            "('istanbul', '', '')\n"
          ],
          "name": "stdout"
        }
      ]
    },
    {
      "cell_type": "markdown",
      "metadata": {
        "id": "wsIDOww8Ac0_",
        "colab_type": "text"
      },
      "source": [
        "karakter dizimizi bölemedi bu yüzden karakter diziimizi bir tarafa gitti diğer tarafada boş bir karakter dizi olan 2 tane karakter dizi koydu"
      ]
    },
    {
      "cell_type": "code",
      "metadata": {
        "id": "BNgJ-EKpAshF",
        "colab_type": "code",
        "colab": {
          "base_uri": "https://localhost:8080/",
          "height": 33
        },
        "outputId": "47cfb468-089c-423d-d330-6e10129121d8"
      },
      "source": [
        "txt = \"I could eat bananas all day\"\n",
        "print(txt.partition(\"bananas\"))"
      ],
      "execution_count": 3,
      "outputs": [
        {
          "output_type": "stream",
          "text": [
            "('I could eat ', 'bananas', ' all day')\n"
          ],
          "name": "stdout"
        }
      ]
    },
    {
      "cell_type": "code",
      "metadata": {
        "id": "x1pLCToHA1oE",
        "colab_type": "code",
        "colab": {
          "base_uri": "https://localhost:8080/",
          "height": 33
        },
        "outputId": "89465b18-c2f7-42a6-be4b-5322cb0ae8d2"
      },
      "source": [
        "selam = \"merhaba arkadaşlar\"\n",
        "print(selam.partition(\"ba\"))"
      ],
      "execution_count": 4,
      "outputs": [
        {
          "output_type": "stream",
          "text": [
            "('merha', 'ba', ' arkadaşlar')\n"
          ],
          "name": "stdout"
        }
      ]
    },
    {
      "cell_type": "markdown",
      "metadata": {
        "id": "zTYt4V7MA7qk",
        "colab_type": "text"
      },
      "source": [
        "**rpartition()**"
      ]
    },
    {
      "cell_type": "markdown",
      "metadata": {
        "id": "gOSHO44BA-Dy",
        "colab_type": "text"
      },
      "source": [
        "partition() methodu soldan sağa doğru işlem yapar\n",
        "\n",
        "rpartition() methodu tam tersi şekilde sağdan sola doğru işlem yapar\n",
        "\n",
        "bunun harcidinde iki methodda aynı işlemi yapar"
      ]
    },
    {
      "cell_type": "code",
      "metadata": {
        "id": "J7zTquUtBKwe",
        "colab_type": "code",
        "colab": {
          "base_uri": "https://localhost:8080/",
          "height": 33
        },
        "outputId": "ed70025e-50b6-47fa-cfcc-3e512c8d58a6"
      },
      "source": [
        "b = \"istihza\"\n",
        "print(b.partition(\"i\"))"
      ],
      "execution_count": 5,
      "outputs": [
        {
          "output_type": "stream",
          "text": [
            "('', 'i', 'stihza')\n"
          ],
          "name": "stdout"
        }
      ]
    },
    {
      "cell_type": "code",
      "metadata": {
        "id": "kuorRKb4BRXs",
        "colab_type": "code",
        "colab": {
          "base_uri": "https://localhost:8080/",
          "height": 33
        },
        "outputId": "4c7dff41-1b90-4468-d0d3-98214648f714"
      },
      "source": [
        "b = \"istihza\"\n",
        "print(b.rpartition(\"i\"))"
      ],
      "execution_count": 6,
      "outputs": [
        {
          "output_type": "stream",
          "text": [
            "('ist', 'i', 'hza')\n"
          ],
          "name": "stdout"
        }
      ]
    },
    {
      "cell_type": "markdown",
      "metadata": {
        "id": "B9BlIgCHBXKc",
        "colab_type": "text"
      },
      "source": [
        "sağdan sola işlem yaptığı için ilk karşılaştığı harf ortadaki i oldu"
      ]
    },
    {
      "cell_type": "markdown",
      "metadata": {
        "id": "es8QMG13Bitj",
        "colab_type": "text"
      },
      "source": [
        "parantez içinde girdiğimiz değer karakter dizisinde yoksa eğer:"
      ]
    },
    {
      "cell_type": "code",
      "metadata": {
        "id": "RFYQ2Q26Bn76",
        "colab_type": "code",
        "colab": {
          "base_uri": "https://localhost:8080/",
          "height": 33
        },
        "outputId": "0a17035d-8b3c-446e-b5f3-ae23793f2f50"
      },
      "source": [
        "b = \"muratCan\"\n",
        "print(b.partition(\"g\"))"
      ],
      "execution_count": 7,
      "outputs": [
        {
          "output_type": "stream",
          "text": [
            "('muratCan', '', '')\n"
          ],
          "name": "stdout"
        }
      ]
    },
    {
      "cell_type": "markdown",
      "metadata": {
        "id": "D0KUWns8Bsq0",
        "colab_type": "text"
      },
      "source": [
        "partition() methodu soldan sağa işlem yaptığı için bölmediği karakter dizisini sola yansıttı."
      ]
    },
    {
      "cell_type": "code",
      "metadata": {
        "id": "j-nMnJwhB3_N",
        "colab_type": "code",
        "colab": {
          "base_uri": "https://localhost:8080/",
          "height": 33
        },
        "outputId": "e5a12338-1a0d-47b7-d2ac-9ae6428de50d"
      },
      "source": [
        "b = \"muratCan\"\n",
        "print(b.rpartition(\"g\"))"
      ],
      "execution_count": 8,
      "outputs": [
        {
          "output_type": "stream",
          "text": [
            "('', '', 'muratCan')\n"
          ],
          "name": "stdout"
        }
      ]
    },
    {
      "cell_type": "markdown",
      "metadata": {
        "id": "DQ-rGhDVB80b",
        "colab_type": "text"
      },
      "source": [
        "rpartition() sağdan sola işlem gördüğü için karakter dizimizi sağ tarafında yerleştirdi."
      ]
    },
    {
      "cell_type": "code",
      "metadata": {
        "id": "2p8WxKQ2C3Q8",
        "colab_type": "code",
        "colab": {
          "base_uri": "https://localhost:8080/",
          "height": 33
        },
        "outputId": "67b517da-c31f-4132-cda6-253d527c99b3"
      },
      "source": [
        "b = \"istihza\"\n",
        "print(b.rpartition(\"a\"))"
      ],
      "execution_count": 9,
      "outputs": [
        {
          "output_type": "stream",
          "text": [
            "('istihz', 'a', '')\n"
          ],
          "name": "stdout"
        }
      ]
    }
  ]
}