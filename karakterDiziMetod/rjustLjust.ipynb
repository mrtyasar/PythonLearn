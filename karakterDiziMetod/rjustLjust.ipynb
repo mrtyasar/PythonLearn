{
  "nbformat": 4,
  "nbformat_minor": 0,
  "metadata": {
    "colab": {
      "name": "rjustLjust.ipynb",
      "provenance": [],
      "collapsed_sections": []
    },
    "kernelspec": {
      "name": "python3",
      "display_name": "Python 3"
    }
  },
  "cells": [
    {
      "cell_type": "markdown",
      "metadata": {
        "id": "VmNxR6x5fDIk",
        "colab_type": "text"
      },
      "source": [
        "# rjust() ve ljust()"
      ]
    },
    {
      "cell_type": "markdown",
      "metadata": {
        "id": "N4wcFz_ffOhf",
        "colab_type": "text"
      },
      "source": [
        "nasılsa center() methodu karakter dizilerini ortalıyorsak\n",
        "\n",
        "rjust() ve ljust() methoduda sola ve sağa hizalıyor.\n"
      ]
    },
    {
      "cell_type": "markdown",
      "metadata": {
        "id": "zDrAnhCgfbnI",
        "colab_type": "text"
      },
      "source": [
        "# ljust()"
      ]
    },
    {
      "cell_type": "markdown",
      "metadata": {
        "id": "gL-G2TLffewk",
        "colab_type": "text"
      },
      "source": [
        "ljust() methodu karakter dizilerini sola hizalar:"
      ]
    },
    {
      "cell_type": "code",
      "metadata": {
        "id": "oog67I-YfjrE",
        "colab_type": "code",
        "colab": {
          "base_uri": "https://localhost:8080/",
          "height": 1000
        },
        "outputId": "1a8f6bd5-dd04-486c-c191-d59cc1889fc6"
      },
      "source": [
        "for metot in dir(\"\"):\n",
        "  print(metot.ljust(20))"
      ],
      "execution_count": 2,
      "outputs": [
        {
          "output_type": "stream",
          "text": [
            "__add__             \n",
            "__class__           \n",
            "__contains__        \n",
            "__delattr__         \n",
            "__dir__             \n",
            "__doc__             \n",
            "__eq__              \n",
            "__format__          \n",
            "__ge__              \n",
            "__getattribute__    \n",
            "__getitem__         \n",
            "__getnewargs__      \n",
            "__gt__              \n",
            "__hash__            \n",
            "__init__            \n",
            "__init_subclass__   \n",
            "__iter__            \n",
            "__le__              \n",
            "__len__             \n",
            "__lt__              \n",
            "__mod__             \n",
            "__mul__             \n",
            "__ne__              \n",
            "__new__             \n",
            "__reduce__          \n",
            "__reduce_ex__       \n",
            "__repr__            \n",
            "__rmod__            \n",
            "__rmul__            \n",
            "__setattr__         \n",
            "__sizeof__          \n",
            "__str__             \n",
            "__subclasshook__    \n",
            "capitalize          \n",
            "casefold            \n",
            "center              \n",
            "count               \n",
            "encode              \n",
            "endswith            \n",
            "expandtabs          \n",
            "find                \n",
            "format              \n",
            "format_map          \n",
            "index               \n",
            "isalnum             \n",
            "isalpha             \n",
            "isdecimal           \n",
            "isdigit             \n",
            "isidentifier        \n",
            "islower             \n",
            "isnumeric           \n",
            "isprintable         \n",
            "isspace             \n",
            "istitle             \n",
            "isupper             \n",
            "join                \n",
            "ljust               \n",
            "lower               \n",
            "lstrip              \n",
            "maketrans           \n",
            "partition           \n",
            "replace             \n",
            "rfind               \n",
            "rindex              \n",
            "rjust               \n",
            "rpartition          \n",
            "rsplit              \n",
            "rstrip              \n",
            "split               \n",
            "splitlines          \n",
            "startswith          \n",
            "strip               \n",
            "swapcase            \n",
            "title               \n",
            "translate           \n",
            "upper               \n",
            "zfill               \n"
          ],
          "name": "stdout"
        }
      ]
    },
    {
      "cell_type": "code",
      "metadata": {
        "id": "9Z3d-ctOftca",
        "colab_type": "code",
        "colab": {
          "base_uri": "https://localhost:8080/",
          "height": 33
        },
        "outputId": "99c7533b-ba55-4b06-851a-509b7ce7ae19"
      },
      "source": [
        "kardiz = \"tel no:\"\n",
        "print(kardiz.ljust(10,\".\"))"
      ],
      "execution_count": 5,
      "outputs": [
        {
          "output_type": "stream",
          "text": [
            "tel no:...\n"
          ],
          "name": "stdout"
        }
      ]
    },
    {
      "cell_type": "markdown",
      "metadata": {
        "id": "b7bX1qrIf5v_",
        "colab_type": "text"
      },
      "source": [
        "ljust() methodu sayesinde karakter dizisini sola hizalıyoruz\n",
        "7 karakterlik karakter dizisi olduğundan dolayı diğer boşta kalan yerleride . koyuyoruz."
      ]
    },
    {
      "cell_type": "markdown",
      "metadata": {
        "id": "E7SWFl-8gUSI",
        "colab_type": "text"
      },
      "source": [
        "# rjust()"
      ]
    },
    {
      "cell_type": "markdown",
      "metadata": {
        "id": "aVov3vcngW_j",
        "colab_type": "text"
      },
      "source": [
        "rjust() methodu ise ljust() methodunu tam tersini yaparak karakter dizilerini sağa yansıtır."
      ]
    },
    {
      "cell_type": "code",
      "metadata": {
        "id": "JjUbQ-FGgeIP",
        "colab_type": "code",
        "colab": {
          "base_uri": "https://localhost:8080/",
          "height": 67
        },
        "outputId": "95d91817-433b-4cca-d6ba-f1721c41343d"
      },
      "source": [
        "for m in \"elma\",\"armut\",\"patlican\":\n",
        "  print(m.rjust(10,\".\"))"
      ],
      "execution_count": 6,
      "outputs": [
        {
          "output_type": "stream",
          "text": [
            "......elma\n",
            ".....armut\n",
            "..patlican\n"
          ],
          "name": "stdout"
        }
      ]
    },
    {
      "cell_type": "code",
      "metadata": {
        "id": "w_C8BJuugroQ",
        "colab_type": "code",
        "colab": {
          "base_uri": "https://localhost:8080/",
          "height": 1000
        },
        "outputId": "4df1eef6-5c21-4699-ca8c-0a9fb897938a"
      },
      "source": [
        "for n in dir(\"\"):\n",
        "  print(n.rjust(20))"
      ],
      "execution_count": 7,
      "outputs": [
        {
          "output_type": "stream",
          "text": [
            "             __add__\n",
            "           __class__\n",
            "        __contains__\n",
            "         __delattr__\n",
            "             __dir__\n",
            "             __doc__\n",
            "              __eq__\n",
            "          __format__\n",
            "              __ge__\n",
            "    __getattribute__\n",
            "         __getitem__\n",
            "      __getnewargs__\n",
            "              __gt__\n",
            "            __hash__\n",
            "            __init__\n",
            "   __init_subclass__\n",
            "            __iter__\n",
            "              __le__\n",
            "             __len__\n",
            "              __lt__\n",
            "             __mod__\n",
            "             __mul__\n",
            "              __ne__\n",
            "             __new__\n",
            "          __reduce__\n",
            "       __reduce_ex__\n",
            "            __repr__\n",
            "            __rmod__\n",
            "            __rmul__\n",
            "         __setattr__\n",
            "          __sizeof__\n",
            "             __str__\n",
            "    __subclasshook__\n",
            "          capitalize\n",
            "            casefold\n",
            "              center\n",
            "               count\n",
            "              encode\n",
            "            endswith\n",
            "          expandtabs\n",
            "                find\n",
            "              format\n",
            "          format_map\n",
            "               index\n",
            "             isalnum\n",
            "             isalpha\n",
            "           isdecimal\n",
            "             isdigit\n",
            "        isidentifier\n",
            "             islower\n",
            "           isnumeric\n",
            "         isprintable\n",
            "             isspace\n",
            "             istitle\n",
            "             isupper\n",
            "                join\n",
            "               ljust\n",
            "               lower\n",
            "              lstrip\n",
            "           maketrans\n",
            "           partition\n",
            "             replace\n",
            "               rfind\n",
            "              rindex\n",
            "               rjust\n",
            "          rpartition\n",
            "              rsplit\n",
            "              rstrip\n",
            "               split\n",
            "          splitlines\n",
            "          startswith\n",
            "               strip\n",
            "            swapcase\n",
            "               title\n",
            "           translate\n",
            "               upper\n",
            "               zfill\n"
          ],
          "name": "stdout"
        }
      ]
    }
  ]
}