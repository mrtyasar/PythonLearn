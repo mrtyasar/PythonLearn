{
  "nbformat": 4,
  "nbformat_minor": 0,
  "metadata": {
    "colab": {
      "name": "isidentifier.ipynb",
      "provenance": [],
      "collapsed_sections": []
    },
    "kernelspec": {
      "name": "python3",
      "display_name": "Python 3"
    }
  },
  "cells": [
    {
      "cell_type": "markdown",
      "metadata": {
        "id": "1WscwUq4guN9",
        "colab_type": "text"
      },
      "source": [
        "# isidentifier()"
      ]
    },
    {
      "cell_type": "markdown",
      "metadata": {
        "id": "GERW56jigxfI",
        "colab_type": "text"
      },
      "source": [
        "isidentifier tanımlayıcı demektir\n",
        "\n",
        "isidentifier() methodu ise hangi isimlerin tanımlayıcı olarak yani değişken adı olarak kullanılıp hangi isimlerin kullanılamayacağını sorgular"
      ]
    },
    {
      "cell_type": "markdown",
      "metadata": {
        "id": "zltOK4ghhKXL",
        "colab_type": "text"
      },
      "source": [
        "isidentifier() methodu bilgisayara şu soruyu sorar:\n",
        "\n",
        "bu değer tanımlayıcı olarak yani değişken adı olarak kullanılabilinir mi?\n",
        "\n",
        "evet kullanılabilir = True\n",
        "\n",
        "hayır kullanılamaz = False"
      ]
    },
    {
      "cell_type": "markdown",
      "metadata": {
        "id": "5PXbLb8bhc3m",
        "colab_type": "text"
      },
      "source": [
        "Örneğin değişken adları sayı ile başlayamaz:"
      ]
    },
    {
      "cell_type": "code",
      "metadata": {
        "id": "gsL3U4FEhivZ",
        "colab_type": "code",
        "colab": {
          "base_uri": "https://localhost:8080/",
          "height": 128
        },
        "outputId": "758ce7c4-3456-4987-8c59-e27e3e9181d2"
      },
      "source": [
        "12a = 12\n",
        "print(12a)"
      ],
      "execution_count": 1,
      "outputs": [
        {
          "output_type": "error",
          "ename": "SyntaxError",
          "evalue": "ignored",
          "traceback": [
            "\u001b[0;36m  File \u001b[0;32m\"<ipython-input-1-056511212e6a>\"\u001b[0;36m, line \u001b[0;32m1\u001b[0m\n\u001b[0;31m    12a = 12\u001b[0m\n\u001b[0m      ^\u001b[0m\n\u001b[0;31mSyntaxError\u001b[0m\u001b[0;31m:\u001b[0m invalid syntax\n"
          ]
        }
      ]
    },
    {
      "cell_type": "markdown",
      "metadata": {
        "id": "xRX8ONxlhpPA",
        "colab_type": "text"
      },
      "source": [
        "isidentifier() methodunu kullanarak bu durumu kontrol edelim:"
      ]
    },
    {
      "cell_type": "code",
      "metadata": {
        "id": "Zi7QyPKihtm_",
        "colab_type": "code",
        "colab": {
          "base_uri": "https://localhost:8080/",
          "height": 34
        },
        "outputId": "f3cb142d-b16c-4bb8-ada3-6633bea9a236"
      },
      "source": [
        "print(\"12a\".isidentifier())"
      ],
      "execution_count": 2,
      "outputs": [
        {
          "output_type": "stream",
          "text": [
            "False\n"
          ],
          "name": "stdout"
        }
      ]
    },
    {
      "cell_type": "markdown",
      "metadata": {
        "id": "MKytomlThzAN",
        "colab_type": "text"
      },
      "source": [
        "liste1 ifadesi değişken adı olarak kullanılabilirdir\n",
        "\n",
        "bunu kontrol edelim:"
      ]
    },
    {
      "cell_type": "code",
      "metadata": {
        "id": "Jna-gM9kh5va",
        "colab_type": "code",
        "colab": {
          "base_uri": "https://localhost:8080/",
          "height": 34
        },
        "outputId": "ed0b2e87-5814-443f-ebd6-a9f70c239f86"
      },
      "source": [
        "print(\"liste1\".isidentifier())"
      ],
      "execution_count": 3,
      "outputs": [
        {
          "output_type": "stream",
          "text": [
            "True\n"
          ],
          "name": "stdout"
        }
      ]
    },
    {
      "cell_type": "markdown",
      "metadata": {
        "id": "9RSyZkeCiA6N",
        "colab_type": "text"
      },
      "source": [
        "kullanıcının girdiği ifadenin değişken adı olarak kullanılıp kullanılmayacağını belirten bir program yazalım:"
      ]
    },
    {
      "cell_type": "code",
      "metadata": {
        "id": "afCLkZxmiIQ4",
        "colab_type": "code",
        "colab": {
          "base_uri": "https://localhost:8080/",
          "height": 50
        },
        "outputId": "8d0f5243-f9dd-4ec9-a529-00655faca5fe"
      },
      "source": [
        "kullanici = input(\"Değişken adını belirleyiniz: \")\n",
        "if kullanici.isidentifier() == True:\n",
        "  print(\"Tanımlayıcı olarak kullanabilirsiniz:\",kullanici)\n",
        "else:\n",
        "  print(\"Girdiğiniz ifade tanımlayıcı olarak kullanılamaz!\")  "
      ],
      "execution_count": 4,
      "outputs": [
        {
          "output_type": "stream",
          "text": [
            "Değişken adını belirleyiniz: murat can\n",
            "Girdiğiniz ifade tanımlayıcı olarak kullanılamaz!\n"
          ],
          "name": "stdout"
        }
      ]
    },
    {
      "cell_type": "code",
      "metadata": {
        "id": "w2Gu2-qPilYQ",
        "colab_type": "code",
        "colab": {
          "base_uri": "https://localhost:8080/",
          "height": 34
        },
        "outputId": "740977d9-b9c4-4ce2-99f2-8166782ebe26"
      },
      "source": [
        "kullaniciTest = \"root 13\"\n",
        "print(kullaniciTest.isidentifier())"
      ],
      "execution_count": 5,
      "outputs": [
        {
          "output_type": "stream",
          "text": [
            "False\n"
          ],
          "name": "stdout"
        }
      ]
    },
    {
      "cell_type": "markdown",
      "metadata": {
        "id": "_ucjs1IBirdn",
        "colab_type": "text"
      },
      "source": [
        "değişken adında boşluk bulundurulamaz!"
      ]
    }
  ]
}