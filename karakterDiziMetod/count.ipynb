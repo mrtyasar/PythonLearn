{
  "nbformat": 4,
  "nbformat_minor": 0,
  "metadata": {
    "colab": {
      "name": "count.ipynb",
      "provenance": []
    },
    "kernelspec": {
      "name": "python3",
      "display_name": "Python 3"
    }
  },
  "cells": [
    {
      "cell_type": "markdown",
      "metadata": {
        "id": "KBp7u1FFrcWN",
        "colab_type": "text"
      },
      "source": [
        "# count()"
      ]
    },
    {
      "cell_type": "markdown",
      "metadata": {
        "id": "3DJiwQferhuo",
        "colab_type": "text"
      },
      "source": [
        "count() methodu bir elemanın karakter dizisinde kaç kere geçtiğini gösteren bir methottur."
      ]
    },
    {
      "cell_type": "code",
      "metadata": {
        "id": "6rZgv5wWrpjg",
        "colab_type": "code",
        "colab": {
          "base_uri": "https://localhost:8080/",
          "height": 33
        },
        "outputId": "115f4147-6eab-422e-cae8-cf59c203f7f9"
      },
      "source": [
        "sehir = \"kahramanmaraş\"\n",
        "print(sehir.count(\"a\"))"
      ],
      "execution_count": 1,
      "outputs": [
        {
          "output_type": "stream",
          "text": [
            "5\n"
          ],
          "name": "stdout"
        }
      ]
    },
    {
      "cell_type": "markdown",
      "metadata": {
        "id": "eokt06i2ryB8",
        "colab_type": "text"
      },
      "source": [
        "kahramanmaraş içinde 5 tane a barındırıyormuş."
      ]
    },
    {
      "cell_type": "markdown",
      "metadata": {
        "id": "2xYVvTRhr3np",
        "colab_type": "text"
      },
      "source": [
        "bu metot üç tane parametre alır:\n",
        "\n",
        "1. parametre bulunacak eleman"
      ]
    },
    {
      "cell_type": "code",
      "metadata": {
        "id": "KiYT3kd8r-2Z",
        "colab_type": "code",
        "colab": {
          "base_uri": "https://localhost:8080/",
          "height": 33
        },
        "outputId": "1869a583-4094-49d6-a626-09cb86480b80"
      },
      "source": [
        "name = \"MuratCanis\"\n",
        "print(name.count(\"a\"))"
      ],
      "execution_count": 2,
      "outputs": [
        {
          "output_type": "stream",
          "text": [
            "2\n"
          ],
          "name": "stdout"
        }
      ]
    },
    {
      "cell_type": "markdown",
      "metadata": {
        "id": "bG7m2kfxsKG3",
        "colab_type": "text"
      },
      "source": [
        "2. parametre ise saymaya kaçıncı indeksten başlanacağını belirtir:"
      ]
    },
    {
      "cell_type": "code",
      "metadata": {
        "id": "O9pCyyBZsRQW",
        "colab_type": "code",
        "colab": {
          "base_uri": "https://localhost:8080/",
          "height": 33
        },
        "outputId": "3407ff1f-0b54-47d5-c77d-a38cd1031aed"
      },
      "source": [
        "print(name.count(\"a\",4))"
      ],
      "execution_count": 4,
      "outputs": [
        {
          "output_type": "stream",
          "text": [
            "1\n"
          ],
          "name": "stdout"
        }
      ]
    },
    {
      "cell_type": "markdown",
      "metadata": {
        "id": "BBB09rnPsXgQ",
        "colab_type": "text"
      },
      "source": [
        "4.indeksten sonraki elemanları işleme koy dedik:"
      ]
    },
    {
      "cell_type": "markdown",
      "metadata": {
        "id": "MO3SxC8usf4L",
        "colab_type": "text"
      },
      "source": [
        "3. parametre ise işlemin biteceği indeksi verir:"
      ]
    },
    {
      "cell_type": "code",
      "metadata": {
        "id": "CD6xk_QpsoxV",
        "colab_type": "code",
        "colab": {
          "base_uri": "https://localhost:8080/",
          "height": 33
        },
        "outputId": "75486b3b-2992-48e1-cced-199655755ce9"
      },
      "source": [
        "print(name.count(\"a\",4,8))"
      ],
      "execution_count": 5,
      "outputs": [
        {
          "output_type": "stream",
          "text": [
            "1\n"
          ],
          "name": "stdout"
        }
      ]
    },
    {
      "cell_type": "markdown",
      "metadata": {
        "id": "Qnlao4s2sspD",
        "colab_type": "text"
      },
      "source": [
        "a elemanını 4. indeksten başla 8. indekse kadar ara dedik"
      ]
    },
    {
      "cell_type": "markdown",
      "metadata": {
        "id": "3fgCw9oMs787",
        "colab_type": "text"
      },
      "source": [
        "kullanıcın aynı karakterden sadece bir kere kullanmasını sağlayabiliri:"
      ]
    },
    {
      "cell_type": "code",
      "metadata": {
        "id": "J1OZkYLwtAm2",
        "colab_type": "code",
        "colab": {
          "base_uri": "https://localhost:8080/",
          "height": 50
        },
        "outputId": "46187ed2-4ce0-4d87-f225-157e25270e15"
      },
      "source": [
        "parola = input(\"parolanızı giriniz: \")\n",
        "kontrol = True\n",
        "for i in parola:\n",
        "  if parola.count(i) > 1:\n",
        "    kontrol = False\n",
        "if kontrol:\n",
        "  print(\"parolanız kabul edildi!\")\n",
        "else:\n",
        "  print(\"tekrar deneyiniz!\")      "
      ],
      "execution_count": 6,
      "outputs": [
        {
          "output_type": "stream",
          "text": [
            "parolanızı giriniz!maroo\n",
            "tekrar deneyiniz!\n"
          ],
          "name": "stdout"
        }
      ]
    },
    {
      "cell_type": "markdown",
      "metadata": {
        "id": "jvJwcheJtbmJ",
        "colab_type": "text"
      },
      "source": [
        "count() metohodunu kullanarak bir elemanın bir karakter dizisinde kaç kere geçtiğini öğrenebiliriz:"
      ]
    },
    {
      "cell_type": "code",
      "metadata": {
        "id": "yT_he63qtm4Q",
        "colab_type": "code",
        "colab": {
          "base_uri": "https://localhost:8080/",
          "height": 134
        },
        "outputId": "d414dbc1-14e2-44ab-d343-e1dcbf76e4e8"
      },
      "source": [
        "kelime = input(\"Herhangi bir kelime giriniz: \")\n",
        "for harf in kelime:\n",
        "  print(\"{} harfi {} kelimesinde {} kez geçiyor!\".format(harf,\n",
        "kelime,kelime.count(harf)))"
      ],
      "execution_count": 7,
      "outputs": [
        {
          "output_type": "stream",
          "text": [
            "Herhangi bir kelime giriniz: murata\n",
            "m harfi murata kelimesinde 1 kez geçiyor!\n",
            "u harfi murata kelimesinde 1 kez geçiyor!\n",
            "r harfi murata kelimesinde 1 kez geçiyor!\n",
            "a harfi murata kelimesinde 2 kez geçiyor!\n",
            "t harfi murata kelimesinde 1 kez geçiyor!\n",
            "a harfi murata kelimesinde 2 kez geçiyor!\n"
          ],
          "name": "stdout"
        }
      ]
    },
    {
      "cell_type": "markdown",
      "metadata": {
        "id": "i6GR1YpcuIZQ",
        "colab_type": "text"
      },
      "source": [
        "**örnekler**"
      ]
    },
    {
      "cell_type": "code",
      "metadata": {
        "id": "v3J2HTg8uKPO",
        "colab_type": "code",
        "colab": {
          "base_uri": "https://localhost:8080/",
          "height": 33
        },
        "outputId": "6b053632-2e75-4026-ea9f-772b8f18f9e3"
      },
      "source": [
        "fruits = [\"apple\",\"banana\",\"cherry\"]\n",
        "x = fruits.count(\"cherry\")\n",
        "print(x)"
      ],
      "execution_count": 8,
      "outputs": [
        {
          "output_type": "stream",
          "text": [
            "1\n"
          ],
          "name": "stdout"
        }
      ]
    },
    {
      "cell_type": "code",
      "metadata": {
        "id": "NARyhX8-uWZP",
        "colab_type": "code",
        "colab": {
          "base_uri": "https://localhost:8080/",
          "height": 33
        },
        "outputId": "69ce0fa9-b552-46b4-e604-ab312123325e"
      },
      "source": [
        "strin = \"Python is awesome, isn't it\"\n",
        "substring = \"is\"\n",
        "couOne = strin.count(substring)\n",
        "print(couOne)"
      ],
      "execution_count": 10,
      "outputs": [
        {
          "output_type": "stream",
          "text": [
            "2\n"
          ],
          "name": "stdout"
        }
      ]
    }
  ]
}