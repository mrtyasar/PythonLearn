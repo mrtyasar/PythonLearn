{
  "nbformat": 4,
  "nbformat_minor": 0,
  "metadata": {
    "colab": {
      "name": "isnumeric.ipynb",
      "provenance": [],
      "collapsed_sections": []
    },
    "kernelspec": {
      "name": "python3",
      "display_name": "Python 3"
    }
  },
  "cells": [
    {
      "cell_type": "markdown",
      "metadata": {
        "id": "KcsnKormj0XK",
        "colab_type": "text"
      },
      "source": [
        "# isnumeric()"
      ]
    },
    {
      "cell_type": "markdown",
      "metadata": {
        "id": "lUEwzjHej73w",
        "colab_type": "text"
      },
      "source": [
        "isnumeric() methodu isdigit() methodu gibi değerin sayı değerli olup olmadığını sorgular"
      ]
    },
    {
      "cell_type": "code",
      "metadata": {
        "id": "id1hTJtykDhv",
        "colab_type": "code",
        "colab": {
          "base_uri": "https://localhost:8080/",
          "height": 34
        },
        "outputId": "f9c1c76d-bd02-4041-88ce-c4f790b5f24b"
      },
      "source": [
        "x = \"12\"\n",
        "print(x.isnumeric())"
      ],
      "execution_count": 1,
      "outputs": [
        {
          "output_type": "stream",
          "text": [
            "True\n"
          ],
          "name": "stdout"
        }
      ]
    },
    {
      "cell_type": "code",
      "metadata": {
        "id": "To1MOhUwkJjJ",
        "colab_type": "code",
        "colab": {
          "base_uri": "https://localhost:8080/",
          "height": 34
        },
        "outputId": "bfc0e2aa-182c-424a-f5b0-959630d1e179"
      },
      "source": [
        "print(\"585666214447850\".isnumeric())"
      ],
      "execution_count": 2,
      "outputs": [
        {
          "output_type": "stream",
          "text": [
            "True\n"
          ],
          "name": "stdout"
        }
      ]
    },
    {
      "cell_type": "code",
      "metadata": {
        "id": "-B0gGNkRkOt7",
        "colab_type": "code",
        "colab": {
          "base_uri": "https://localhost:8080/",
          "height": 34
        },
        "outputId": "1f209a72-dc1c-453b-8a19-6e5560b842e4"
      },
      "source": [
        "print(\"dsaks\".isnumeric())"
      ],
      "execution_count": 3,
      "outputs": [
        {
          "output_type": "stream",
          "text": [
            "False\n"
          ],
          "name": "stdout"
        }
      ]
    },
    {
      "cell_type": "code",
      "metadata": {
        "id": "vf336IBYkSYO",
        "colab_type": "code",
        "colab": {
          "base_uri": "https://localhost:8080/",
          "height": 34
        },
        "outputId": "9ce9e1f3-2363-4e7b-a357-91253a7a5e3b"
      },
      "source": [
        "mesala = \"1233337j\"\n",
        "print(mesala.isnumeric())"
      ],
      "execution_count": 4,
      "outputs": [
        {
          "output_type": "stream",
          "text": [
            "False\n"
          ],
          "name": "stdout"
        }
      ]
    },
    {
      "cell_type": "markdown",
      "metadata": {
        "id": "EK48Qi9WkYis",
        "colab_type": "text"
      },
      "source": [
        "isnumeric() methodunu kullanarak rakamları, kesirleri, romen rakamlarını ve unicode değerlerini sorgulayabiliriz:"
      ]
    },
    {
      "cell_type": "code",
      "metadata": {
        "id": "9BLsn_u5kjpj",
        "colab_type": "code",
        "colab": {
          "base_uri": "https://localhost:8080/",
          "height": 34
        },
        "outputId": "4c708fea-13ac-426c-f80b-c1cb4f8f7124"
      },
      "source": [
        "s = \"\\u2153\"\n",
        "x = s.isnumeric()\n",
        "print(x)"
      ],
      "execution_count": 5,
      "outputs": [
        {
          "output_type": "stream",
          "text": [
            "True\n"
          ],
          "name": "stdout"
        }
      ]
    }
  ]
}