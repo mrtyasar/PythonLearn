{
  "nbformat": 4,
  "nbformat_minor": 0,
  "metadata": {
    "colab": {
      "name": "isalnum.ipynb",
      "provenance": [],
      "collapsed_sections": []
    },
    "kernelspec": {
      "name": "python3",
      "display_name": "Python 3"
    }
  },
  "cells": [
    {
      "cell_type": "markdown",
      "metadata": {
        "id": "fHYLQkqloEmb",
        "colab_type": "text"
      },
      "source": [
        "# isalnum()"
      ]
    },
    {
      "cell_type": "markdown",
      "metadata": {
        "id": "PNVdt6m2oGxE",
        "colab_type": "text"
      },
      "source": [
        "+ alfabetik karakter dizileri alfabe harflerinden oluşan karakter dizileridir\n",
        "+ sayısal karakter dizileri, sayılardan oluşan karakter dizileridir."
      ]
    },
    {
      "cell_type": "markdown",
      "metadata": {
        "id": "IcdnVUdzoQ1F",
        "colab_type": "text"
      },
      "source": [
        "alfanümerik karakter dizileri ise hem sayılardan hemde harflerden oluşur\n",
        "\n",
        "isalnum() methodunu özel karakter istemediğimiz programlarımızda kullanabiliriz."
      ]
    },
    {
      "cell_type": "code",
      "metadata": {
        "id": "8hIK3Pq-obgD",
        "colab_type": "code",
        "colab": {
          "base_uri": "https://localhost:8080/",
          "height": 34
        },
        "outputId": "24292c4d-cb51-486d-a3fd-4b369d75d34f"
      },
      "source": [
        "a = \"123abc\"\n",
        "print(a.isalnum())"
      ],
      "execution_count": 1,
      "outputs": [
        {
          "output_type": "stream",
          "text": [
            "True\n"
          ],
          "name": "stdout"
        }
      ]
    },
    {
      "cell_type": "code",
      "metadata": {
        "id": "MITDwaYSofN5",
        "colab_type": "code",
        "colab": {
          "base_uri": "https://localhost:8080/",
          "height": 34
        },
        "outputId": "5edef42f-cf2f-425c-f12a-377e7eb1896a"
      },
      "source": [
        "b = \"123abc<\"\n",
        "print(b.isalnum())"
      ],
      "execution_count": 2,
      "outputs": [
        {
          "output_type": "stream",
          "text": [
            "False\n"
          ],
          "name": "stdout"
        }
      ]
    },
    {
      "cell_type": "markdown",
      "metadata": {
        "id": "rFTZaAQZolDr",
        "colab_type": "text"
      },
      "source": [
        "< karakteri olduğundan dolayı False değeri verdi"
      ]
    },
    {
      "cell_type": "markdown",
      "metadata": {
        "id": "Q2ZCgUjhor82",
        "colab_type": "text"
      },
      "source": [
        "**program**"
      ]
    },
    {
      "cell_type": "code",
      "metadata": {
        "id": "5xJEx1PHotzw",
        "colab_type": "code",
        "colab": {
          "base_uri": "https://localhost:8080/",
          "height": 50
        },
        "outputId": "0b094172-b18b-46e2-9bc7-33a6c9128b9d"
      },
      "source": [
        "username = input(\"Kullanıcı belirleyiniz: \")\n",
        "if username.isalnum() == True:\n",
        "  print(\"Kullanıcı adınız kabul edilmiştir\",username)\n",
        "else:\n",
        "  print(\"Kullanıcı adınız sadece harflerden ve sayılardan oluşmalıdır!\")  "
      ],
      "execution_count": 3,
      "outputs": [
        {
          "output_type": "stream",
          "text": [
            "Kullanıcı belirleyiniz: murat+\n",
            "Kullanıcı adınız sadece harflerden ve sayılardan oluşmalıdır!\n"
          ],
          "name": "stdout"
        }
      ]
    },
    {
      "cell_type": "markdown",
      "metadata": {
        "id": "2bMJQNyKpFzL",
        "colab_type": "text"
      },
      "source": [
        "kullanıcıdan kullanıcı adını belirlemesini istedik\n",
        "\n",
        "eğer kullanıcı sayılardan ve harflerden oluşan bir kullanıcı adı girdiyse(if username.isalnum() == True:\n",
        "\n",
        "şunu yazdır dedik\n",
        "\n",
        "eğer girmediyse ve kullanıcı adında sayıdan ve harf dışında bir şey varsa şunu göster dedik"
      ]
    }
  ]
}