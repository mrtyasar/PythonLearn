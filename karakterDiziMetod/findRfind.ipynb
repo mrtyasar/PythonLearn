{
  "nbformat": 4,
  "nbformat_minor": 0,
  "metadata": {
    "colab": {
      "name": "findRfind.ipynb",
      "provenance": []
    },
    "kernelspec": {
      "name": "python3",
      "display_name": "Python 3"
    }
  },
  "cells": [
    {
      "cell_type": "markdown",
      "metadata": {
        "id": "l2tvsjcWLyBY",
        "colab_type": "text"
      },
      "source": [
        "# find() ve rfind()"
      ]
    },
    {
      "cell_type": "markdown",
      "metadata": {
        "id": "s040Ge9uL13W",
        "colab_type": "text"
      },
      "source": [
        "find() ve rfind() methodu tamamen index ve rindex() methoduna benzer:"
      ]
    },
    {
      "cell_type": "code",
      "metadata": {
        "id": "bkBVAlAYL7s-",
        "colab_type": "code",
        "colab": {
          "base_uri": "https://localhost:8080/",
          "height": 50
        },
        "outputId": "a7ecdf29-7330-4c43-c65c-6c6589ed1a54"
      },
      "source": [
        "kardiz = \"adana\"\n",
        "print(kardiz.find(\"a\"))\n",
        "print(kardiz.index(\"a\"))"
      ],
      "execution_count": 3,
      "outputs": [
        {
          "output_type": "stream",
          "text": [
            "0\n",
            "0\n"
          ],
          "name": "stdout"
        }
      ]
    },
    {
      "cell_type": "code",
      "metadata": {
        "id": "W7QQ-6iaMADD",
        "colab_type": "code",
        "colab": {
          "base_uri": "https://localhost:8080/",
          "height": 50
        },
        "outputId": "7bfdbd5f-a535-4e5a-819e-0794e5e5c017"
      },
      "source": [
        "kardiz = \"adana\"\n",
        "print(kardiz.rfind(\"a\"))\n",
        "print(kardiz.rindex(\"a\"))"
      ],
      "execution_count": 4,
      "outputs": [
        {
          "output_type": "stream",
          "text": [
            "4\n",
            "4\n"
          ],
          "name": "stdout"
        }
      ]
    },
    {
      "cell_type": "markdown",
      "metadata": {
        "id": "sM-8VdiaZWLH",
        "colab_type": "text"
      },
      "source": [
        "**Peki aralarındaki fark ne?**"
      ]
    },
    {
      "cell_type": "markdown",
      "metadata": {
        "id": "_X-xBIBEZZxl",
        "colab_type": "text"
      },
      "source": [
        "aralarındaki tek fark eğer index() ve rindex() methotlarını kullanarak bir karakter dizinin içinde olmayan bir karakterin indeks numarasını öğrenmeye çalışırsak hata alırız:"
      ]
    },
    {
      "cell_type": "code",
      "metadata": {
        "id": "ZFfAPk_uZnCZ",
        "colab_type": "code",
        "colab": {
          "base_uri": "https://localhost:8080/",
          "height": 178
        },
        "outputId": "bf4a20bb-3a38-416d-8c80-33f8bfa3df74"
      },
      "source": [
        "kardiz = \"istanbul\"\n",
        "print(kardiz.index(\"z\"))"
      ],
      "execution_count": 5,
      "outputs": [
        {
          "output_type": "error",
          "ename": "ValueError",
          "evalue": "ignored",
          "traceback": [
            "\u001b[0;31m---------------------------------------------------------------------------\u001b[0m",
            "\u001b[0;31mValueError\u001b[0m                                Traceback (most recent call last)",
            "\u001b[0;32m<ipython-input-5-e8b4a082ce1e>\u001b[0m in \u001b[0;36m<module>\u001b[0;34m()\u001b[0m\n\u001b[1;32m      1\u001b[0m \u001b[0mkardiz\u001b[0m \u001b[0;34m=\u001b[0m \u001b[0;34m\"istanbul\"\u001b[0m\u001b[0;34m\u001b[0m\u001b[0;34m\u001b[0m\u001b[0m\n\u001b[0;32m----> 2\u001b[0;31m \u001b[0mprint\u001b[0m\u001b[0;34m(\u001b[0m\u001b[0mkardiz\u001b[0m\u001b[0;34m.\u001b[0m\u001b[0mindex\u001b[0m\u001b[0;34m(\u001b[0m\u001b[0;34m\"z\"\u001b[0m\u001b[0;34m)\u001b[0m\u001b[0;34m)\u001b[0m\u001b[0;34m\u001b[0m\u001b[0;34m\u001b[0m\u001b[0m\n\u001b[0m",
            "\u001b[0;31mValueError\u001b[0m: substring not found"
          ]
        }
      ]
    },
    {
      "cell_type": "markdown",
      "metadata": {
        "id": "HK8tew9_ZvJ0",
        "colab_type": "text"
      },
      "source": [
        "fakat bu olay find() ve rfind() metotlarında yaşansaydı hata almayacaktık.\n",
        "\n",
        "hata yerine -1 çıktısını görecektik:"
      ]
    },
    {
      "cell_type": "code",
      "metadata": {
        "id": "n7yg9Im4Z2_d",
        "colab_type": "code",
        "colab": {
          "base_uri": "https://localhost:8080/",
          "height": 33
        },
        "outputId": "31375c8b-49ff-4ed2-b265-8911b67c1adb"
      },
      "source": [
        "kardiz = \"istanbul\"\n",
        "print(kardiz.find(\"z\"))"
      ],
      "execution_count": 6,
      "outputs": [
        {
          "output_type": "stream",
          "text": [
            "-1\n"
          ],
          "name": "stdout"
        }
      ]
    },
    {
      "cell_type": "markdown",
      "metadata": {
        "id": "9Rq0uezXZ-HQ",
        "colab_type": "text"
      },
      "source": [
        "işte iki ayrı metotların aralarındaki tek fark budur.\n",
        "\n",
        "eğer kodumuzda hata alacağımızı düşünüyorsak find() metotlarını kullanmak daha mantıklı olur."
      ]
    }
  ]
}