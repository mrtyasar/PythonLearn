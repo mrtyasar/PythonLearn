{
  "nbformat": 4,
  "nbformat_minor": 0,
  "metadata": {
    "colab": {
      "name": "encode.ipynb",
      "provenance": []
    },
    "kernelspec": {
      "name": "python3",
      "display_name": "Python 3"
    }
  },
  "cells": [
    {
      "cell_type": "markdown",
      "metadata": {
        "id": "k7Sy0ODnDkus",
        "colab_type": "text"
      },
      "source": [
        "# encode()"
      ]
    },
    {
      "cell_type": "markdown",
      "metadata": {
        "id": "zRsZAcfODr_7",
        "colab_type": "text"
      },
      "source": [
        "Bu method sayesinde istediğimiz kodlama sistemine göre kodlayabiliriz\n",
        "\n",
        "python 3.x'te varsayılan karakter kodlaması utf-8'dir\n",
        "\n",
        "encode() methodu sayesinde ise standart kodlama sistemini değiştirip cp1254 sisteminde kodlayabiliriz."
      ]
    },
    {
      "cell_type": "code",
      "metadata": {
        "id": "6mlEVA_dD-vI",
        "colab_type": "code",
        "colab": {
          "base_uri": "https://localhost:8080/",
          "height": 33
        },
        "outputId": "bf29d564-3d4c-4844-d9f4-56d69223177b"
      },
      "source": [
        "x = \"çilek\".encode(\"cp1254\")\n",
        "print(x)"
      ],
      "execution_count": 2,
      "outputs": [
        {
          "output_type": "stream",
          "text": [
            "b'\\xe7ilek'\n"
          ],
          "name": "stdout"
        }
      ]
    },
    {
      "cell_type": "code",
      "metadata": {
        "id": "vAF2M20mEF-K",
        "colab_type": "code",
        "colab": {
          "base_uri": "https://localhost:8080/",
          "height": 33
        },
        "outputId": "8d108206-4938-475c-dfe9-110dc8e61fe2"
      },
      "source": [
        "txt = \"My name is Stöle\"\n",
        "x = txt.encode()\n",
        "print(x)"
      ],
      "execution_count": 3,
      "outputs": [
        {
          "output_type": "stream",
          "text": [
            "b'My name is St\\xc3\\xb6le'\n"
          ],
          "name": "stdout"
        }
      ]
    },
    {
      "cell_type": "code",
      "metadata": {
        "id": "Zhrb1yvhEMVq",
        "colab_type": "code",
        "colab": {
          "base_uri": "https://localhost:8080/",
          "height": 33
        },
        "outputId": "042cae97-e047-4718-e489-7a7e843e6602"
      },
      "source": [
        "txt = \"My name is Stöle\"\n",
        "x = txt.encode(\"utf-8\")\n",
        "print(x)"
      ],
      "execution_count": 4,
      "outputs": [
        {
          "output_type": "stream",
          "text": [
            "b'My name is St\\xc3\\xb6le'\n"
          ],
          "name": "stdout"
        }
      ]
    }
  ]
}