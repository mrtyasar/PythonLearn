{
  "nbformat": 4,
  "nbformat_minor": 0,
  "metadata": {
    "colab": {
      "name": "machineLearningProje1.ipynb",
      "provenance": []
    },
    "kernelspec": {
      "name": "python3",
      "display_name": "Python 3"
    }
  },
  "cells": [
    {
      "cell_type": "markdown",
      "metadata": {
        "id": "goaRM2TUd9AM",
        "colab_type": "text"
      },
      "source": [
        "Kullanıcıların verilerinden yani kullanıcıların yaşından, cinsiyetinden ve sevdikleri müziklerinden yola çıkarak onlara daha iyi müzik sunmaya çalışacağız."
      ]
    },
    {
      "cell_type": "markdown",
      "metadata": {
        "id": "tXZxxQp1epqf",
        "colab_type": "text"
      },
      "source": [
        "1. adım data yı import et"
      ]
    },
    {
      "cell_type": "code",
      "metadata": {
        "id": "RTssHpckdroM",
        "colab_type": "code",
        "colab": {
          "base_uri": "https://localhost:8080/",
          "height": 34
        },
        "outputId": "45591a81-86c3-4a8f-9f26-69fde2060ef4"
      },
      "source": [
        "import pandas as pd\n",
        "from sklearn.tree import DecisionTreeClassifier\n",
        "from sklearn.model_selection import train_test_split\n",
        "from sklearn.metrics import accuracy_score\n",
        "\n",
        "musicData = pd.read_csv('music.csv')\n",
        "x = musicData.drop(columns=['genre'])\n",
        "y = musicData['genre']\n",
        "xTrain, xTest, yTrain, yTest = train_test_split(x, y, test_size=0.2)\n",
        "\n",
        "model = DecisionTreeClassifier()\n",
        "model.fit(xTrain, yTrain)\n",
        "predictions = model.predict(xTest)\n",
        "\n",
        "score = accuracy_score(yTest, predictions)\n",
        "score"
      ],
      "execution_count": 13,
      "outputs": [
        {
          "output_type": "execute_result",
          "data": {
            "text/plain": [
              "1.0"
            ]
          },
          "metadata": {
            "tags": []
          },
          "execution_count": 13
        }
      ]
    },
    {
      "cell_type": "code",
      "metadata": {
        "id": "ENNDNMEclWsR",
        "colab_type": "code",
        "colab": {}
      },
      "source": [
        ""
      ],
      "execution_count": null,
      "outputs": []
    },
    {
      "cell_type": "markdown",
      "metadata": {
        "id": "gOZ7D-HIet9T",
        "colab_type": "text"
      },
      "source": [
        "2. adım veriyi temiz hale getir"
      ]
    },
    {
      "cell_type": "code",
      "metadata": {
        "id": "WXcqfN62fPBu",
        "colab_type": "code",
        "colab": {
          "base_uri": "https://localhost:8080/",
          "height": 340
        },
        "outputId": "9d8c836b-534d-40ec-bbf9-7e2cd6c19eb4"
      },
      "source": [
        "x = musicData.drop(columns=['genre'])\n",
        "y = musicData['genre']\n",
        "y"
      ],
      "execution_count": 6,
      "outputs": [
        {
          "output_type": "execute_result",
          "data": {
            "text/plain": [
              "0        HipHop\n",
              "1        HipHop\n",
              "2        HipHop\n",
              "3          Jazz\n",
              "4          Jazz\n",
              "5          Jazz\n",
              "6     Classical\n",
              "7     Classical\n",
              "8     Classical\n",
              "9         Dance\n",
              "10        Dance\n",
              "11        Dance\n",
              "12     Acoustic\n",
              "13     Acoustic\n",
              "14     Acoustic\n",
              "15    Classical\n",
              "16    Classical\n",
              "17    Classical\n",
              "Name: genre, dtype: object"
            ]
          },
          "metadata": {
            "tags": []
          },
          "execution_count": 6
        }
      ]
    },
    {
      "cell_type": "markdown",
      "metadata": {
        "id": "RGOYm72ViwMZ",
        "colab_type": "text"
      },
      "source": [
        "3. adım verileri bölmek\n",
        "- % 70 veya % 80 nini model için % 20 sini test için bölünüz"
      ]
    },
    {
      "cell_type": "code",
      "metadata": {
        "id": "ShmWUz05l6ZW",
        "colab_type": "code",
        "colab": {
          "base_uri": "https://localhost:8080/",
          "height": 34
        },
        "outputId": "0c6f20d0-7123-49db-b024-c4259d7ed01a"
      },
      "source": [
        "import pandas as pd\n",
        "from sklearn.tree import DecisionTreeClassifier\n",
        "from sklearn.externals import joblib\n",
        "\n",
        "music_data = pd.read_csv('music.csv')\n",
        "x = music_data.drop(columns=['genre'])\n",
        "y = music_data['genre']\n",
        "\n",
        "model = DecisionTreeClassifier()\n",
        "model.fit(x, y)\n",
        "\n",
        "joblib.dump(model, 'music-recommender.joblib')\n",
        "#predictions = model.predict([[21,1]])"
      ],
      "execution_count": 15,
      "outputs": [
        {
          "output_type": "execute_result",
          "data": {
            "text/plain": [
              "['music-recommender.joblib']"
            ]
          },
          "metadata": {
            "tags": []
          },
          "execution_count": 15
        }
      ]
    },
    {
      "cell_type": "markdown",
      "metadata": {
        "id": "dpGFTbLroENC",
        "colab_type": "text"
      },
      "source": [
        "music-recommender.joblib dosyasını oluşturalarak eğittiğimiz makineyi tekrar tekrar yazmamıza gerek kalmıyor."
      ]
    },
    {
      "cell_type": "code",
      "metadata": {
        "id": "le3IVbcMoYQP",
        "colab_type": "code",
        "colab": {
          "base_uri": "https://localhost:8080/",
          "height": 34
        },
        "outputId": "cb052342-b9e3-4789-cf9c-bca198bdc64c"
      },
      "source": [
        "import pandas as pd\n",
        "from sklearn.tree import DecisionTreeClassifier\n",
        "from sklearn.externals import joblib\n",
        "\n",
        "model = joblib.load('music-recommender.joblib')\n",
        "predictions = model.predict([[21,1]])\n",
        "predictions"
      ],
      "execution_count": 16,
      "outputs": [
        {
          "output_type": "execute_result",
          "data": {
            "text/plain": [
              "array(['HipHop'], dtype=object)"
            ]
          },
          "metadata": {
            "tags": []
          },
          "execution_count": 16
        }
      ]
    },
    {
      "cell_type": "markdown",
      "metadata": {
        "id": "Cr8MtsgPpG2j",
        "colab_type": "text"
      },
      "source": [
        "Görselleştirme"
      ]
    },
    {
      "cell_type": "code",
      "metadata": {
        "id": "-cBNsIMBpIsL",
        "colab_type": "code",
        "colab": {}
      },
      "source": [
        "import pandas as pd\n",
        "from sklearn.tree import DecisionTreeClassifier\n",
        "from sklearn import tree\n",
        "\n",
        "music_data = pd.read_csv('music.csv')\n",
        "x = music_data.drop(columns=['genre'])\n",
        "y = music_data['genre']\n",
        "\n",
        "model = DecisionTreeClassifier()\n",
        "model.fit(x, y)\n",
        "\n",
        "tree.export_graphviz(model, out_file='music-recommender.dot',\n",
        "                     feature_names=['age','gender'],\n",
        "                     class_names=sorted(y.unique()),\n",
        "                     label='all',\n",
        "                     rounded=True,\n",
        "                     filled=True)"
      ],
      "execution_count": 20,
      "outputs": []
    }
  ]
}