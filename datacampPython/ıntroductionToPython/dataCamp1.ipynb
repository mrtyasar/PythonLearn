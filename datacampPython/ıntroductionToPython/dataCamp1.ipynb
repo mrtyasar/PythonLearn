{
  "nbformat": 4,
  "nbformat_minor": 0,
  "metadata": {
    "colab": {
      "name": "dataCamp1.ipynb",
      "provenance": [],
      "collapsed_sections": []
    },
    "kernelspec": {
      "name": "python3",
      "display_name": "Python 3"
    }
  },
  "cells": [
    {
      "cell_type": "markdown",
      "metadata": {
        "id": "_zce08Vhba0f",
        "colab_type": "text"
      },
      "source": [
        "# Chapter 1 Python Basics"
      ]
    },
    {
      "cell_type": "markdown",
      "metadata": {
        "id": "4Ytmx1hfbn2W",
        "colab_type": "text"
      },
      "source": [
        "Python'da yazdırma işlemi için print() fonksiyonunu kullanırız:"
      ]
    },
    {
      "cell_type": "code",
      "metadata": {
        "id": "ufO_MrVbbS0Y",
        "colab_type": "code",
        "colab": {
          "base_uri": "https://localhost:8080/",
          "height": 68
        },
        "outputId": "1c585956-0e2c-4ce6-e7a6-48c83ae763f3"
      },
      "source": [
        "print('Hello World')\n",
        "print(5 / 8)\n",
        "print(7 + 10)"
      ],
      "execution_count": null,
      "outputs": [
        {
          "output_type": "stream",
          "text": [
            "Hello World\n",
            "0.625\n",
            "17\n"
          ],
          "name": "stdout"
        }
      ]
    },
    {
      "cell_type": "markdown",
      "metadata": {
        "id": "KAHyMoMHb8ej",
        "colab_type": "text"
      },
      "source": [
        "Python'da kodlarımızın daha anlışılır ve unutulmaması için yorum ekleriz.\n",
        "yorum için ise # işaretini kullanırız. Ayrıca yorum satıları işleme alınmaz."
      ]
    },
    {
      "cell_type": "code",
      "metadata": {
        "id": "NE2yJ7h-cHj5",
        "colab_type": "code",
        "colab": {
          "base_uri": "https://localhost:8080/",
          "height": 34
        },
        "outputId": "c0dcad3f-23a2-4f67-ac3a-46bab4e5521b"
      },
      "source": [
        "# bu bir yorum satırıdır\n",
        "print('hELLO')"
      ],
      "execution_count": null,
      "outputs": [
        {
          "output_type": "stream",
          "text": [
            "hELLO\n"
          ],
          "name": "stdout"
        }
      ]
    },
    {
      "cell_type": "markdown",
      "metadata": {
        "id": "yKKpdj0qcvnD",
        "colab_type": "text"
      },
      "source": [
        "Python'u hesap makinesi olarak da kullanabiliriz:\n",
        "\n",
        "\n",
        "** üs alma\n",
        "\n",
        "'*' çarpma\n",
        "\n",
        "'+' toplama\n",
        "\n",
        "'-' çıkarma\n",
        "\n",
        "// tam bölme\n",
        "\n",
        "/ bölme\n",
        "\n",
        "% kalanını gösterir her iki sayıyı böler ve kalanını gösterir\n"
      ]
    },
    {
      "cell_type": "markdown",
      "metadata": {
        "id": "JcGOkXBKeFTU",
        "colab_type": "text"
      },
      "source": [
        "**Veriables and Types**"
      ]
    },
    {
      "cell_type": "markdown",
      "metadata": {
        "id": "R4ir2oSYfj90",
        "colab_type": "text"
      },
      "source": [
        "Python'da sürekli aynı veriyi yazmak, veriyi kolayca değiştirmek veya verinin ne olduğunu açıklamak için değişkenlerden yararlanırız.\n",
        "\n",
        "Değişkenlere = opartörüyle veri aktarırız. bu operatör atama operatörü olarak geçer.\n",
        "\n",
        "Değişken adları, Özel karakterler içeremez % # gibi,\n",
        "\n",
        "sayı ile başlayamazlar\n",
        "\n",
        "veriyi temsil edecek bir isim olmalı."
      ]
    },
    {
      "cell_type": "code",
      "metadata": {
        "id": "FMFKDkageJOK",
        "colab_type": "code",
        "colab": {
          "base_uri": "https://localhost:8080/",
          "height": 34
        },
        "outputId": "a7690713-29d9-4349-dfff-ecc50201118a"
      },
      "source": [
        "myAge = 19\n",
        "print(myAge)"
      ],
      "execution_count": null,
      "outputs": [
        {
          "output_type": "stream",
          "text": [
            "19\n"
          ],
          "name": "stdout"
        }
      ]
    },
    {
      "cell_type": "markdown",
      "metadata": {
        "id": "U3jy2ODKgquX",
        "colab_type": "text"
      },
      "source": [
        "Değişkenlerin içine istediğimiz değerde veri saklayabiliriz, istersek matematiksel işlemler yapabiliriz:"
      ]
    },
    {
      "cell_type": "code",
      "metadata": {
        "id": "Z8CtRY8BgwzL",
        "colab_type": "code",
        "colab": {
          "base_uri": "https://localhost:8080/",
          "height": 34
        },
        "outputId": "b0969de2-ee12-4e6e-a9fa-637f348fe8ee"
      },
      "source": [
        "# Ailenin yaş ortalamasını bulmak\n",
        "father = 60\n",
        "mom = 59\n",
        "sister = 12\n",
        "brother = 29\n",
        "me = 19\n",
        "\n",
        "# ailenin nüfusu\n",
        "family = 5\n",
        "\n",
        "# ailenin yaşını toplama\n",
        "sumAge = father + mom + sister + brother + me\n",
        "\n",
        "# ailenin yaş ortalamasını bulma\n",
        "totalAge = sumAge / family\n",
        "\n",
        "# ailenin yaş ortalamsını ekrana yazdırma\n",
        "\n",
        "print(totalAge)"
      ],
      "execution_count": null,
      "outputs": [
        {
          "output_type": "stream",
          "text": [
            "35.8\n"
          ],
          "name": "stdout"
        }
      ]
    },
    {
      "cell_type": "markdown",
      "metadata": {
        "id": "chhlCEDunUPj",
        "colab_type": "text"
      },
      "source": [
        "**Veri türleri**"
      ]
    },
    {
      "cell_type": "markdown",
      "metadata": {
        "id": "DINpRyMNnlHg",
        "colab_type": "text"
      },
      "source": [
        "Python farklı verileri temsil eden veri türleri vardır.\n",
        "\n",
        "int = tam sayıların veri tipidir\n",
        "\n",
        "float = kayan noktalı sayıların veri tipidir\n",
        "\n",
        "str = karakter dizilerin veri tipidir\n",
        "\n",
        "bool = True ve False değerlerini taşıyan veri tipidir"
      ]
    },
    {
      "cell_type": "code",
      "metadata": {
        "id": "3_uMzceUnj2v",
        "colab_type": "code",
        "colab": {
          "base_uri": "https://localhost:8080/",
          "height": 85
        },
        "outputId": "a2553861-d1bf-435f-d420-82dc90eac124"
      },
      "source": [
        "integerSayi = 100\n",
        "floatSayi = 100.5\n",
        "stringDizi = 'Merhaba'\n",
        "booleanIfade = True\n",
        "\n",
        "print('İnt veri tipine sahip değer: ',integerSayi)\n",
        "print('Float veri tipine sahip bir değer: ', floatSayi)\n",
        "print('Karakter dizisi veri tipine sahip bir değer: ',stringDizi)\n",
        "print('Boolean veri tipine sahip bir değer: ',booleanIfade)"
      ],
      "execution_count": 7,
      "outputs": [
        {
          "output_type": "stream",
          "text": [
            "İnt veri tipine sahip değer:  100\n",
            "Float veri tipine sahip bir değer:  100.5\n",
            "Karakter dizisi veri tipine sahip bir değer:  Merhaba\n",
            "Boolean veri tipine sahip bir değer:  True\n"
          ],
          "name": "stdout"
        }
      ]
    },
    {
      "cell_type": "markdown",
      "metadata": {
        "id": "1x4oZC4dpIi0",
        "colab_type": "text"
      },
      "source": [
        "**Veri tipini öğrenme (type())**"
      ]
    },
    {
      "cell_type": "markdown",
      "metadata": {
        "id": "7lyVy4ERpNTn",
        "colab_type": "text"
      },
      "source": [
        "type() fonskiyonu sayesinde değerlerimizin hangi veri tipine sahip olduğunu bulabiliriz"
      ]
    },
    {
      "cell_type": "code",
      "metadata": {
        "id": "GHNjyHGypU8P",
        "colab_type": "code",
        "colab": {
          "base_uri": "https://localhost:8080/",
          "height": 68
        },
        "outputId": "08e567d0-8714-4d82-ff93-3c7a9e1854e6"
      },
      "source": [
        "a = 100\n",
        "b = False\n",
        "c = 'Selamlar'\n",
        "\n",
        "print(type(a))\n",
        "print(type(b))\n",
        "print(type(c))"
      ],
      "execution_count": 8,
      "outputs": [
        {
          "output_type": "stream",
          "text": [
            "<class 'int'>\n",
            "<class 'bool'>\n",
            "<class 'str'>\n"
          ],
          "name": "stdout"
        }
      ]
    },
    {
      "cell_type": "markdown",
      "metadata": {
        "id": "bXrJm0XYryhr",
        "colab_type": "text"
      },
      "source": [
        "**Tip Dönüşümü**"
      ]
    },
    {
      "cell_type": "markdown",
      "metadata": {
        "id": "fZLDvYPnsgQI",
        "colab_type": "text"
      },
      "source": [
        "string veri tipine dönüştürmek için : str() kullanılır\n",
        "\n",
        "integer veri tipine dönüştürmek için : int() kullanılır\n",
        "\n",
        "float veri tipine dönüştürmek için : float() kullanılır\n",
        "\n",
        "boolean veri tipine dönüştürmek için: bool() kullanılır"
      ]
    },
    {
      "cell_type": "code",
      "metadata": {
        "id": "sYEQezAJr2qo",
        "colab_type": "code",
        "colab": {
          "base_uri": "https://localhost:8080/",
          "height": 85
        },
        "outputId": "20e4a71d-32dc-4733-b72f-1d2df0832043"
      },
      "source": [
        "intSayi = 1000\n",
        "floatSayi = 1000.6\n",
        "stringIfade = 'Selamlar, Bugün haba karlı'\n",
        "booleanIfade = False\n",
        "\n",
        "print(int(floatSayi)) # İnt değere çevirdik değer 1000\n",
        "print(float(intSayi)) # float değere çevirdik değer 1000.0\n",
        "# print(int(stringIfade)) karakter dizisini int değere çeviremeyiz aynı şekilde float değere de\n",
        "print(str(integerSayi))\n",
        "print(bool(stringIfade)) # içinde değer olduğu için True"
      ],
      "execution_count": 18,
      "outputs": [
        {
          "output_type": "stream",
          "text": [
            "1000\n",
            "1000.0\n",
            "100\n",
            "True\n"
          ],
          "name": "stdout"
        }
      ]
    }
  ]
}