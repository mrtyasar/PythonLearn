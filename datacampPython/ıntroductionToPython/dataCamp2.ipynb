{
  "nbformat": 4,
  "nbformat_minor": 0,
  "metadata": {
    "colab": {
      "name": "dataCamp2.ipynb",
      "provenance": []
    },
    "kernelspec": {
      "name": "python3",
      "display_name": "Python 3"
    }
  },
  "cells": [
    {
      "cell_type": "markdown",
      "metadata": {
        "id": "5BpkWdGPwg4J",
        "colab_type": "text"
      },
      "source": [
        "# Python Lists"
      ]
    },
    {
      "cell_type": "markdown",
      "metadata": {
        "id": "kR5QLgxzwlUo",
        "colab_type": "text"
      },
      "source": [
        "**Python List**"
      ]
    },
    {
      "cell_type": "markdown",
      "metadata": {
        "id": "BbCDx7Prwp5n",
        "colab_type": "text"
      },
      "source": [
        "Listeler herhangi bir veri tipini farketmeksiniz, tüm verileri içinde gruplandırmaya yarayan bir yapıdır.\n",
        "\n",
        "[] arasına aldığımız her bir veri liste olarak geçer\n",
        "\n",
        "listeleri veri tipleri list olarak adlandırılır."
      ]
    },
    {
      "cell_type": "code",
      "metadata": {
        "id": "bdg_OeEIvIoK",
        "colab_type": "code",
        "colab": {
          "base_uri": "https://localhost:8080/",
          "height": 51
        },
        "outputId": "f346c1ed-a2b8-434a-9239-7ab861853a16"
      },
      "source": [
        "# Ailenin isimlerini bir liste içine al ve yeni bir değişkene atayarak ekrana yazdır\n",
        "\n",
        "# ailenin isimleri\n",
        "\n",
        "mom = 'Betty'\n",
        "father = 'Chatty'\n",
        "brother = 'Jack'\n",
        "sister = 'sisa'\n",
        "me = 'hulk'\n",
        "\n",
        "# aileyi bir listenin içine al ve değişkene ata\n",
        "family = [mom,father,brother,sister,me]\n",
        "\n",
        "# listeleri ekrana yazdır\n",
        "print(family)\n",
        "\n",
        "# family değişkenin veri tipini öğren\n",
        "print(type(family))"
      ],
      "execution_count": 2,
      "outputs": [
        {
          "output_type": "stream",
          "text": [
            "['Betty', 'Chatty', 'Jack', 'sisa', 'hulk']\n",
            "<class 'list'>\n"
          ],
          "name": "stdout"
        }
      ]
    },
    {
      "cell_type": "markdown",
      "metadata": {
        "id": "SqP-Iancz9GJ",
        "colab_type": "text"
      },
      "source": [
        "**liste içinde liste**"
      ]
    },
    {
      "cell_type": "markdown",
      "metadata": {
        "id": "ZancOMhBz_Nv",
        "colab_type": "text"
      },
      "source": [
        "listeler her türlü veri türünü içinde barındırabildiği gibi list veri tipini de içinde barındırabilir. Yani listelerin içinde liste ekleyebiliriz."
      ]
    },
    {
      "cell_type": "code",
      "metadata": {
        "id": "KgGLXNvV0J9F",
        "colab_type": "code",
        "colab": {
          "base_uri": "https://localhost:8080/",
          "height": 34
        },
        "outputId": "ff4781fe-62b6-44f7-cc70-0ba92c5beed9"
      },
      "source": [
        "print(['merhaba',12,['12 adam',87,9,True]])"
      ],
      "execution_count": 3,
      "outputs": [
        {
          "output_type": "stream",
          "text": [
            "['merhaba', 12, ['12 adam', 87, 9, True]]\n"
          ],
          "name": "stdout"
        }
      ]
    },
    {
      "cell_type": "markdown",
      "metadata": {
        "id": "Oz_4cPJk0-Cn",
        "colab_type": "text"
      },
      "source": [
        "**List of Lists**"
      ]
    },
    {
      "cell_type": "markdown",
      "metadata": {
        "id": "vi02ZmO01BpH",
        "colab_type": "text"
      },
      "source": [
        "Liste içinde liste oluşturarak verilerimizi daha düzenli hale getirebiliriz, bu sayede daha kolay bir şekilde verilerime ulaşabiliriz."
      ]
    },
    {
      "cell_type": "code",
      "metadata": {
        "id": "NxfHoAT41J68",
        "colab_type": "code",
        "colab": {
          "base_uri": "https://localhost:8080/",
          "height": 51
        },
        "outputId": "91645931-7272-4808-c7f8-55bc741cae09"
      },
      "source": [
        "hall = 11.25\n",
        "kit = 18.0\n",
        "liv = 20.0\n",
        "bed = 10.75\n",
        "bath = 9.50\n",
        "\n",
        "# house adlı değişken oluştur ve her bir veriyi tanımlayarak liste haline getir\n",
        "house = [['hallway',hall],\n",
        "         ['kitchen',kit],\n",
        "         ['living room',liv],\n",
        "         ['bedroom',bed],\n",
        "         ['bathroom',bath]]\n",
        "\n",
        "# house değişkenini ekrana yazdır\n",
        "print(house)\n",
        "\n",
        "# house değişkenin veri tipini yazdır\n",
        "print(type(house))"
      ],
      "execution_count": 4,
      "outputs": [
        {
          "output_type": "stream",
          "text": [
            "[['hallway', 11.25], ['kitchen', 18.0], ['living room', 20.0], ['bedroom', 10.75], ['bathroom', 9.5]]\n",
            "<class 'list'>\n"
          ],
          "name": "stdout"
        }
      ]
    },
    {
      "cell_type": "markdown",
      "metadata": {
        "id": "KpVzFpJc27Qx",
        "colab_type": "text"
      },
      "source": [
        "**Subsetting Lists**"
      ]
    },
    {
      "cell_type": "markdown",
      "metadata": {
        "id": "eaKduKeR3B_o",
        "colab_type": "text"
      },
      "source": [
        "listemizdeki elemana ulaşmak için o elamanı çağırmamız lazım, bu yüzden daha net bir şekilde işlem yapmak için indekslerden yararlanırız.\n",
        "\n",
        "indeks numarlarına göre ögelerin sıralınışı 0 'dan başlar.\n",
        "\n",
        "indeks numaralarına göre ögelerin son ögesi indeks numarası veya -1 dir.\n",
        "\n",
        "yani listemizdeki ilk eleman 0 son eleman ise -1 dir."
      ]
    },
    {
      "cell_type": "code",
      "metadata": {
        "id": "gQMXMj9j2-w_",
        "colab_type": "code",
        "colab": {
          "base_uri": "https://localhost:8080/",
          "height": 68
        },
        "outputId": "7c6320c7-35a4-434c-be82-f4e92be0d4ed"
      },
      "source": [
        "tc = ['Türkiye','Cumhuriyeti','1923']\n",
        "print(tc[0]) # ilk öge Türkiye\n",
        "print(tc[-1]) # son öge 1923\n",
        "print(tc[1])"
      ],
      "execution_count": 7,
      "outputs": [
        {
          "output_type": "stream",
          "text": [
            "Türkiye\n",
            "1923\n",
            "Cumhuriyeti\n"
          ],
          "name": "stdout"
        }
      ]
    },
    {
      "cell_type": "markdown",
      "metadata": {
        "id": "HD-nff8e4ZM6",
        "colab_type": "text"
      },
      "source": [
        "**Listeleri dilimleme**"
      ]
    },
    {
      "cell_type": "markdown",
      "metadata": {
        "id": "VafYru6T46CR",
        "colab_type": "text"
      },
      "source": [
        "belli aralık vererek birden fazla ögeyi alabaliriz\n",
        "\n",
        "ornek[başlangıçİndeks : bitişİndeks]\n",
        "\n",
        "bitiş indeksinden başlar, bitişindeksine gelmeden önceki ögeyi alır ve durur\n",
        "\n",
        "bu yüzden bitiş indeksi bir üstü yazmak daha doğrudur"
      ]
    },
    {
      "cell_type": "code",
      "metadata": {
        "id": "S3RrR_1B4b58",
        "colab_type": "code",
        "colab": {
          "base_uri": "https://localhost:8080/",
          "height": 85
        },
        "outputId": "5f9aa5c0-c55b-4c79-f51b-3da0aecc11aa"
      },
      "source": [
        "sehirler = ['Tekirdağ','Ankara','Eskişehir','Muğla','İstanbul','Kastamonu']\n",
        "print(sehirler[1:4])\n",
        "print(sehirler[:])\n",
        "print(sehirler[:-1])\n",
        "print(sehirler[2:])"
      ],
      "execution_count": 11,
      "outputs": [
        {
          "output_type": "stream",
          "text": [
            "['Ankara', 'Eskişehir', 'Muğla']\n",
            "['Tekirdağ', 'Ankara', 'Eskişehir', 'Muğla', 'İstanbul', 'Kastamonu']\n",
            "['Tekirdağ', 'Ankara', 'Eskişehir', 'Muğla', 'İstanbul']\n",
            "['Eskişehir', 'Muğla', 'İstanbul', 'Kastamonu']\n"
          ],
          "name": "stdout"
        }
      ]
    },
    {
      "cell_type": "markdown",
      "metadata": {
        "id": "7uhEphal7XX8",
        "colab_type": "text"
      },
      "source": [
        "**Listelerde matematiksel işlemler:**"
      ]
    },
    {
      "cell_type": "code",
      "metadata": {
        "id": "DMlKbsyn7ao_",
        "colab_type": "code",
        "colab": {
          "base_uri": "https://localhost:8080/",
          "height": 51
        },
        "outputId": "9117cf34-b2f4-4f17-beaf-2e8f6338b773"
      },
      "source": [
        "listSum = [20,30,100,1000]\n",
        "print(listSum[1]+listSum[-1])\n",
        "print(listSum[0]*listSum[-2])"
      ],
      "execution_count": 14,
      "outputs": [
        {
          "output_type": "stream",
          "text": [
            "1030\n",
            "2000\n"
          ],
          "name": "stdout"
        }
      ]
    },
    {
      "cell_type": "markdown",
      "metadata": {
        "id": "aqeSoWCgDsNj",
        "colab_type": "text"
      },
      "source": [
        "**Subsetting lists of lists**"
      ]
    },
    {
      "cell_type": "markdown",
      "metadata": {
        "id": "9rNe7XZPF-K5",
        "colab_type": "text"
      },
      "source": [
        "**Liste ögelerini değiştirmek**"
      ]
    },
    {
      "cell_type": "code",
      "metadata": {
        "id": "V9Yi7mdbDxSh",
        "colab_type": "code",
        "colab": {
          "base_uri": "https://localhost:8080/",
          "height": 34
        },
        "outputId": "fc8f230c-cf49-4c95-cc74-218f346500a8"
      },
      "source": [
        "sehirler = ['İstanbul','Ankara','Eskişehir','Muğla']\n",
        "sehirler[-1] = 'Tekirdağ'\n",
        "sehirler\n",
        "\n",
        "sayilar = [10,30,90,100]\n",
        "sayilar[1] = 50\n",
        "sayilar"
      ],
      "execution_count": 2,
      "outputs": [
        {
          "output_type": "execute_result",
          "data": {
            "text/plain": [
              "[10, 50, 90, 100]"
            ]
          },
          "metadata": {
            "tags": []
          },
          "execution_count": 2
        }
      ]
    },
    {
      "cell_type": "markdown",
      "metadata": {
        "id": "F7pKCW_tHZoT",
        "colab_type": "text"
      },
      "source": [
        "**Listeye öge eklemek**"
      ]
    },
    {
      "cell_type": "markdown",
      "metadata": {
        "id": "hzs7DOWzIHvh",
        "colab_type": "text"
      },
      "source": [
        "\"+\" operatörüyle listeye ögeye ekleyebiliriz."
      ]
    },
    {
      "cell_type": "code",
      "metadata": {
        "id": "YQKelS_MHcZr",
        "colab_type": "code",
        "colab": {
          "base_uri": "https://localhost:8080/",
          "height": 34
        },
        "outputId": "363f059a-b927-4276-a54a-c85eeb13f35c"
      },
      "source": [
        "sehirler = ['Ankara','İstanbul','Eskişehir']\n",
        "newSehr = sehirler + ['Aydın','Antalya']\n",
        "newSehr"
      ],
      "execution_count": 5,
      "outputs": [
        {
          "output_type": "execute_result",
          "data": {
            "text/plain": [
              "['Ankara', 'İstanbul', 'Eskişehir', 'Aydın', 'Antalya']"
            ]
          },
          "metadata": {
            "tags": []
          },
          "execution_count": 5
        }
      ]
    },
    {
      "cell_type": "markdown",
      "metadata": {
        "id": "Y4pSWEFVIj7x",
        "colab_type": "text"
      },
      "source": [
        "**Liste Ögesini Silmek**"
      ]
    },
    {
      "cell_type": "code",
      "metadata": {
        "id": "ziLy2Ym2JhM2",
        "colab_type": "code",
        "colab": {
          "base_uri": "https://localhost:8080/",
          "height": 34
        },
        "outputId": "1c656dae-da84-4df7-8c0f-7b64f6829e6d"
      },
      "source": [
        "vücut = ['Kol','Bacak','el','gövde']\n",
        "del(vücut[3])\n",
        "vücut"
      ],
      "execution_count": 6,
      "outputs": [
        {
          "output_type": "execute_result",
          "data": {
            "text/plain": [
              "['Kol', 'Bacak', 'el']"
            ]
          },
          "metadata": {
            "tags": []
          },
          "execution_count": 6
        }
      ]
    }
  ]
}