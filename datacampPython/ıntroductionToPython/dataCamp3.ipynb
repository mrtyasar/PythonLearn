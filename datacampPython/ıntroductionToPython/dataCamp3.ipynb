{
  "nbformat": 4,
  "nbformat_minor": 0,
  "metadata": {
    "colab": {
      "name": "dataCamp3.ipynb",
      "provenance": []
    },
    "kernelspec": {
      "name": "python3",
      "display_name": "Python 3"
    }
  },
  "cells": [
    {
      "cell_type": "markdown",
      "metadata": {
        "id": "oGse9JMkGzb4",
        "colab_type": "text"
      },
      "source": [
        "# Functions and Packages"
      ]
    },
    {
      "cell_type": "markdown",
      "metadata": {
        "id": "YBSU6OK8G4x6",
        "colab_type": "text"
      },
      "source": [
        "sıklıkla gömülü fonksiyonları kullandık.\n",
        "\n",
        "fonksiyonlar arkasında belli kod blokları olan, belli değerler alarak işlemleri gerçekleştiren yapılardır.\n",
        "\n",
        "Örneğin:\n",
        "\n",
        "len() fonksiyonu kaç elemanın bulunduğunu gösterir\n",
        "\n",
        "print() fonksiyonu ekrana çıktı vermemizi sağlar\n",
        "\n",
        "input() fonksiyonu kullanıcıdan veri alabilmemizi sağlar\n",
        "\n"
      ]
    },
    {
      "cell_type": "code",
      "metadata": {
        "id": "mBw-60AWPqE3",
        "colab_type": "code",
        "colab": {
          "base_uri": "https://localhost:8080/",
          "height": 51
        },
        "outputId": "cc5240e3-cb01-41fc-d9c6-52f3e7ef3761"
      },
      "source": [
        "print('ekrana çıktı verdik')\n",
        "print(len('karakter dizisi'))"
      ],
      "execution_count": null,
      "outputs": [
        {
          "output_type": "stream",
          "text": [
            "ekrana çıktı verdik\n",
            "15\n"
          ],
          "name": "stdout"
        }
      ]
    },
    {
      "cell_type": "markdown",
      "metadata": {
        "id": "_fG3xop8Jx3i",
        "colab_type": "text"
      },
      "source": [
        "**Methods**"
      ]
    },
    {
      "cell_type": "markdown",
      "metadata": {
        "id": "pUNOivMIL38T",
        "colab_type": "text"
      },
      "source": [
        "değerlerimizin üzerinde değişiklik yapmaya yarayan özelliklere methodlar denir."
      ]
    },
    {
      "cell_type": "code",
      "metadata": {
        "id": "mKfGy5T3JzgK",
        "colab_type": "code",
        "colab": {}
      },
      "source": [
        "# üzerine işlemler yapacağımız değerler\n",
        "sister = 'liz'\n",
        "height = 1.73\n",
        "fam = ['liz',1.73, 'emma', 1.68,\n",
        "       \"mom\", 1.71, \"dad\", 1.89]"
      ],
      "execution_count": null,
      "outputs": []
    },
    {
      "cell_type": "code",
      "metadata": {
        "id": "HF6Q0Q_RMkhv",
        "colab_type": "code",
        "colab": {
          "base_uri": "https://localhost:8080/",
          "height": 34
        },
        "outputId": "189b99c7-5952-4b16-d259-500e6129d7f4"
      },
      "source": [
        "fam"
      ],
      "execution_count": null,
      "outputs": [
        {
          "output_type": "execute_result",
          "data": {
            "text/plain": [
              "['liz', 1.73, 'emma', 1.68, 'mom', 1.71, 'dad', 1.89]"
            ]
          },
          "metadata": {
            "tags": []
          },
          "execution_count": 5
        }
      ]
    },
    {
      "cell_type": "markdown",
      "metadata": {
        "id": "Q4gE2L__Mqvt",
        "colab_type": "text"
      },
      "source": [
        "**index()**"
      ]
    },
    {
      "cell_type": "markdown",
      "metadata": {
        "id": "fQ4Z_lu-MsZb",
        "colab_type": "text"
      },
      "source": [
        "Değerimizin kaçıncı indekste yer aldığını bulabilmemizi sağlayan methottur."
      ]
    },
    {
      "cell_type": "code",
      "metadata": {
        "id": "AN0Z5I7CM0nd",
        "colab_type": "code",
        "colab": {
          "base_uri": "https://localhost:8080/",
          "height": 34
        },
        "outputId": "11075c72-17fd-4ef2-9906-b3ebe5b64f12"
      },
      "source": [
        "fam.index('mom')"
      ],
      "execution_count": null,
      "outputs": [
        {
          "output_type": "execute_result",
          "data": {
            "text/plain": [
              "4"
            ]
          },
          "metadata": {
            "tags": []
          },
          "execution_count": 9
        }
      ]
    },
    {
      "cell_type": "code",
      "metadata": {
        "id": "U5CsPNtEM_mU",
        "colab_type": "code",
        "colab": {
          "base_uri": "https://localhost:8080/",
          "height": 34
        },
        "outputId": "04207677-eabf-4764-9b37-0d1608728925"
      },
      "source": [
        "falan = 'selamlar'\n",
        "falan.index('l')"
      ],
      "execution_count": null,
      "outputs": [
        {
          "output_type": "execute_result",
          "data": {
            "text/plain": [
              "2"
            ]
          },
          "metadata": {
            "tags": []
          },
          "execution_count": 10
        }
      ]
    },
    {
      "cell_type": "markdown",
      "metadata": {
        "id": "3knYfwF0NHWG",
        "colab_type": "text"
      },
      "source": [
        "**count()**"
      ]
    },
    {
      "cell_type": "markdown",
      "metadata": {
        "id": "XIrqEu3pNLdV",
        "colab_type": "text"
      },
      "source": [
        "Bir değerin kaç defa kullanıldığını gösteren methottur."
      ]
    },
    {
      "cell_type": "code",
      "metadata": {
        "id": "OCBYOo2INJqr",
        "colab_type": "code",
        "colab": {
          "base_uri": "https://localhost:8080/",
          "height": 34
        },
        "outputId": "c4632040-6152-483a-c7f4-c02a9d439dd4"
      },
      "source": [
        "fam.count('mom')"
      ],
      "execution_count": null,
      "outputs": [
        {
          "output_type": "execute_result",
          "data": {
            "text/plain": [
              "1"
            ]
          },
          "metadata": {
            "tags": []
          },
          "execution_count": 11
        }
      ]
    },
    {
      "cell_type": "code",
      "metadata": {
        "id": "ye01c1lnNbdf",
        "colab_type": "code",
        "colab": {
          "base_uri": "https://localhost:8080/",
          "height": 34
        },
        "outputId": "2a09b1ed-7df1-4864-dbe3-e5c05b2186cf"
      },
      "source": [
        "sayilar = [1,2,4,1,5]\n",
        "sayilar.count(1)"
      ],
      "execution_count": null,
      "outputs": [
        {
          "output_type": "execute_result",
          "data": {
            "text/plain": [
              "2"
            ]
          },
          "metadata": {
            "tags": []
          },
          "execution_count": 12
        }
      ]
    },
    {
      "cell_type": "markdown",
      "metadata": {
        "id": "cHcFmEJLNkG_",
        "colab_type": "text"
      },
      "source": [
        "**capitalize()**"
      ]
    },
    {
      "cell_type": "markdown",
      "metadata": {
        "id": "67eW3mnqNmiD",
        "colab_type": "text"
      },
      "source": [
        "karakter dizisinin ilk harfini büyütür"
      ]
    },
    {
      "cell_type": "code",
      "metadata": {
        "id": "Q8RfZmUoNqIn",
        "colab_type": "code",
        "colab": {
          "base_uri": "https://localhost:8080/",
          "height": 35
        },
        "outputId": "6e6633f0-6932-40cf-f8ff-a50ae6a5f2e2"
      },
      "source": [
        "sister.capitalize()"
      ],
      "execution_count": null,
      "outputs": [
        {
          "output_type": "execute_result",
          "data": {
            "application/vnd.google.colaboratory.intrinsic+json": {
              "type": "string"
            },
            "text/plain": [
              "'Liz'"
            ]
          },
          "metadata": {
            "tags": []
          },
          "execution_count": 14
        }
      ]
    },
    {
      "cell_type": "markdown",
      "metadata": {
        "id": "HB-SoU3dNz9L",
        "colab_type": "text"
      },
      "source": [
        "**replace()**"
      ]
    },
    {
      "cell_type": "markdown",
      "metadata": {
        "id": "5oQDn-YBN2k0",
        "colab_type": "text"
      },
      "source": [
        "karakter dizimin üzerinde ögeleri değiştirebilmemizi sağlayan bir methotdur."
      ]
    },
    {
      "cell_type": "code",
      "metadata": {
        "id": "NJg6fgMJN_hQ",
        "colab_type": "code",
        "colab": {
          "base_uri": "https://localhost:8080/",
          "height": 35
        },
        "outputId": "81ed8fea-fcf3-448a-860e-b9b0458e0b5c"
      },
      "source": [
        "sister.replace('z','sa')"
      ],
      "execution_count": null,
      "outputs": [
        {
          "output_type": "execute_result",
          "data": {
            "application/vnd.google.colaboratory.intrinsic+json": {
              "type": "string"
            },
            "text/plain": [
              "'lisa'"
            ]
          },
          "metadata": {
            "tags": []
          },
          "execution_count": 16
        }
      ]
    },
    {
      "cell_type": "markdown",
      "metadata": {
        "id": "-ckujUOsOPr5",
        "colab_type": "text"
      },
      "source": [
        "**append()**"
      ]
    },
    {
      "cell_type": "markdown",
      "metadata": {
        "id": "mchYDvHQOSKZ",
        "colab_type": "text"
      },
      "source": [
        "Listeye öge eklemek için kullanılan bir methotdur."
      ]
    },
    {
      "cell_type": "code",
      "metadata": {
        "id": "JC8tXcTyOWSb",
        "colab_type": "code",
        "colab": {
          "base_uri": "https://localhost:8080/",
          "height": 34
        },
        "outputId": "0798f2a8-d4d9-49ed-cce8-835bf876c2ad"
      },
      "source": [
        "fam"
      ],
      "execution_count": null,
      "outputs": [
        {
          "output_type": "execute_result",
          "data": {
            "text/plain": [
              "['liz', 1.73, 'emma', 1.68, 'mom', 1.71, 'dad', 1.89]"
            ]
          },
          "metadata": {
            "tags": []
          },
          "execution_count": 17
        }
      ]
    },
    {
      "cell_type": "code",
      "metadata": {
        "id": "TWP2B_UPOXuL",
        "colab_type": "code",
        "colab": {}
      },
      "source": [
        "fam.append('me')"
      ],
      "execution_count": null,
      "outputs": []
    },
    {
      "cell_type": "code",
      "metadata": {
        "id": "mbasas6VOa4q",
        "colab_type": "code",
        "colab": {
          "base_uri": "https://localhost:8080/",
          "height": 34
        },
        "outputId": "324640f7-f94e-4890-de70-d7bee5485193"
      },
      "source": [
        "fam.append(12)\n",
        "fam"
      ],
      "execution_count": null,
      "outputs": [
        {
          "output_type": "execute_result",
          "data": {
            "text/plain": [
              "['liz', 1.73, 'emma', 1.68, 'mom', 1.71, 'dad', 1.89, 'me', 'me', 12, 12]"
            ]
          },
          "metadata": {
            "tags": []
          },
          "execution_count": 21
        }
      ]
    },
    {
      "cell_type": "markdown",
      "metadata": {
        "id": "X4q6FlngOpff",
        "colab_type": "text"
      },
      "source": [
        "**type()**"
      ]
    },
    {
      "cell_type": "markdown",
      "metadata": {
        "id": "Vs83J1lWOr4Y",
        "colab_type": "text"
      },
      "source": [
        "bir verinin veya değişkenin veri tipini öğreneblmemizi sağlayan fonksiyondur."
      ]
    },
    {
      "cell_type": "code",
      "metadata": {
        "id": "gcIAf7_uO7dF",
        "colab_type": "code",
        "colab": {
          "base_uri": "https://localhost:8080/",
          "height": 34
        },
        "outputId": "a4955165-de98-43d2-db5c-8856a9866366"
      },
      "source": [
        "type(fam)"
      ],
      "execution_count": null,
      "outputs": [
        {
          "output_type": "execute_result",
          "data": {
            "text/plain": [
              "list"
            ]
          },
          "metadata": {
            "tags": []
          },
          "execution_count": 25
        }
      ]
    },
    {
      "cell_type": "markdown",
      "metadata": {
        "id": "0rBKxXFxSZGQ",
        "colab_type": "text"
      },
      "source": [
        "# Packages"
      ]
    },
    {
      "cell_type": "code",
      "metadata": {
        "id": "C6hsR_QwScpO",
        "colab_type": "code",
        "colab": {
          "base_uri": "https://localhost:8080/",
          "height": 34
        },
        "outputId": "69cefc7b-1a0d-473c-f1e8-1b536dfcaa17"
      },
      "source": [
        "import numpy as np\n",
        "np.array([1,2,3])"
      ],
      "execution_count": null,
      "outputs": [
        {
          "output_type": "execute_result",
          "data": {
            "text/plain": [
              "array([1, 2, 3])"
            ]
          },
          "metadata": {
            "tags": []
          },
          "execution_count": 27
        }
      ]
    },
    {
      "cell_type": "code",
      "metadata": {
        "id": "LZ9fHPJaSr2M",
        "colab_type": "code",
        "colab": {
          "base_uri": "https://localhost:8080/",
          "height": 34
        },
        "outputId": "6790f68c-634a-4a64-c691-f4a1b2e5295e"
      },
      "source": [
        "import numpy\n",
        "numpy.array([1,2,3])"
      ],
      "execution_count": null,
      "outputs": [
        {
          "output_type": "execute_result",
          "data": {
            "text/plain": [
              "array([1, 2, 3])"
            ]
          },
          "metadata": {
            "tags": []
          },
          "execution_count": 28
        }
      ]
    },
    {
      "cell_type": "code",
      "metadata": {
        "id": "paSTGUvhSwLQ",
        "colab_type": "code",
        "colab": {
          "base_uri": "https://localhost:8080/",
          "height": 34
        },
        "outputId": "5fcd25a7-aef4-475a-baa3-98ee91e540ae"
      },
      "source": [
        "from numpy import array\n",
        "array([1,2,3])"
      ],
      "execution_count": null,
      "outputs": [
        {
          "output_type": "execute_result",
          "data": {
            "text/plain": [
              "array([1, 2, 3])"
            ]
          },
          "metadata": {
            "tags": []
          },
          "execution_count": 30
        }
      ]
    },
    {
      "cell_type": "markdown",
      "metadata": {
        "id": "LQpZrBw5VzDG",
        "colab_type": "text"
      },
      "source": [
        "örneğin math paketini import ederek matematikle ilgili terimleri kodumuza dahil edebiliriz"
      ]
    },
    {
      "cell_type": "code",
      "metadata": {
        "id": "aX_2auHlV4e1",
        "colab_type": "code",
        "colab": {
          "base_uri": "https://localhost:8080/",
          "height": 34
        },
        "outputId": "a2914598-5e4e-4b04-8171-df9c552a9917"
      },
      "source": [
        "import math\n",
        "print(math.pi)\n",
        "math.ra"
      ],
      "execution_count": null,
      "outputs": [
        {
          "output_type": "stream",
          "text": [
            "3.141592653589793\n"
          ],
          "name": "stdout"
        }
      ]
    }
  ]
}