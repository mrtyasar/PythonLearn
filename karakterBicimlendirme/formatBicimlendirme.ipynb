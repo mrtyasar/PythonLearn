{
  "nbformat": 4,
  "nbformat_minor": 0,
  "metadata": {
    "colab": {
      "name": "formatBicimlendirme.ipynb",
      "provenance": [],
      "collapsed_sections": []
    },
    "kernelspec": {
      "name": "python3",
      "display_name": "Python 3"
    }
  },
  "cells": [
    {
      "cell_type": "markdown",
      "metadata": {
        "id": "wZYIydVnYWtc",
        "colab_type": "text"
      },
      "source": [
        "# format() Methodu İle Biçimlendirme"
      ]
    },
    {
      "cell_type": "markdown",
      "metadata": {
        "id": "M6Y4_c3MYkA9",
        "colab_type": "text"
      },
      "source": [
        "format() methodu sayesinde karakter dizimin üzerinde işlem yapabilir, istediğimiz yere karakter dizisi ekleyebiliriz."
      ]
    },
    {
      "cell_type": "markdown",
      "metadata": {
        "id": "RAVa1nW3YyxP",
        "colab_type": "text"
      },
      "source": [
        "**formül:**\n",
        "\n",
        "\"{}\".format(değer)"
      ]
    },
    {
      "cell_type": "markdown",
      "metadata": {
        "id": "fTFjnXjBY5zG",
        "colab_type": "text"
      },
      "source": [
        "format() methodunun parametleri; karakter dizisi, tam sayılar, float sayılar veya değişkenler olabilir"
      ]
    },
    {
      "cell_type": "code",
      "metadata": {
        "id": "1aR885LjZCZ-",
        "colab_type": "code",
        "outputId": "21609d83-c2fb-4a99-9053-4c233b36497a",
        "colab": {
          "base_uri": "https://localhost:8080/",
          "height": 34
        }
      },
      "source": [
        "print(\"{} ve {} iyi bir ikilidir!\".format(\"Django\",\"Python\"))"
      ],
      "execution_count": 0,
      "outputs": [
        {
          "output_type": "stream",
          "text": [
            "Django ve Python iyi bir ikilidir!\n"
          ],
          "name": "stdout"
        }
      ]
    },
    {
      "cell_type": "code",
      "metadata": {
        "id": "mlBfzkdpZNlq",
        "colab_type": "code",
        "outputId": "de07f831-ddc1-4d05-de48-80a3541154fa",
        "colab": {
          "base_uri": "https://localhost:8080/",
          "height": 50
        }
      },
      "source": [
        "isim = input(\"isminizi yazınız: \")\n",
        "print(\"isminiz: {}. Nasılsın {}?\".format(isim,isim))"
      ],
      "execution_count": 0,
      "outputs": [
        {
          "output_type": "stream",
          "text": [
            "isminizi yazınız: murat\n",
            "isminiz: murat. Nasılsın murat?\n"
          ],
          "name": "stdout"
        }
      ]
    },
    {
      "cell_type": "markdown",
      "metadata": {
        "id": "oJBSW6B7ZhTd",
        "colab_type": "text"
      },
      "source": [
        "sayılarıda parametre olarak kullanabiliriz:"
      ]
    },
    {
      "cell_type": "code",
      "metadata": {
        "id": "_T5vBYHAZky3",
        "colab_type": "code",
        "outputId": "55127e73-4d62-406d-a881-1411870ba529",
        "colab": {
          "base_uri": "https://localhost:8080/",
          "height": 34
        }
      },
      "source": [
        "print(\"Hello I'm {} years old.\".format(18))"
      ],
      "execution_count": 0,
      "outputs": [
        {
          "output_type": "stream",
          "text": [
            "Hello I'm 18 years old.\n"
          ],
          "name": "stdout"
        }
      ]
    },
    {
      "cell_type": "markdown",
      "metadata": {
        "id": "AdWx0TU0Zp41",
        "colab_type": "text"
      },
      "source": [
        "float sayılarıda kullanabiliriz:"
      ]
    },
    {
      "cell_type": "code",
      "metadata": {
        "id": "vX9UUIx5ZsY6",
        "colab_type": "code",
        "outputId": "84369ff9-3563-46ae-ee2d-d55437f78632",
        "colab": {
          "base_uri": "https://localhost:8080/",
          "height": 34
        }
      },
      "source": [
        "print(\"Bana oradan {} kilo muz!\".format(1.5))"
      ],
      "execution_count": 0,
      "outputs": [
        {
          "output_type": "stream",
          "text": [
            "Bana oradan 1.5 kilo muz!\n"
          ],
          "name": "stdout"
        }
      ]
    },
    {
      "cell_type": "markdown",
      "metadata": {
        "id": "IqHtO1EsZ8TK",
        "colab_type": "text"
      },
      "source": [
        "üzerinde değişiklik yapacağımız karakter dizisini bir değişkein içine atayabiliriz:"
      ]
    },
    {
      "cell_type": "code",
      "metadata": {
        "id": "WAsMELOoaGCu",
        "colab_type": "code",
        "outputId": "e824016d-e438-4364-a474-a3584e1074d9",
        "colab": {
          "base_uri": "https://localhost:8080/",
          "height": 34
        }
      },
      "source": [
        "strOne = \"Bu yıl şampiyon büyük olasılıkla {} olur!\"\n",
        "print(strOne.format(\"Galatasaraye\")"
      ],
      "execution_count": 0,
      "outputs": [
        {
          "output_type": "stream",
          "text": [
            "Bu yıl şampiyon büyük olasılıkla Galatasaray olur!\n"
          ],
          "name": "stdout"
        }
      ]
    },
    {
      "cell_type": "markdown",
      "metadata": {
        "id": "usmonXSFaUN6",
        "colab_type": "text"
      },
      "source": [
        "eğer metnimiz uzun bir metinde bunu print() fonskiyonu ile direk yazdırmak yerine yeni bir değişkenin içine atmak daha mantıklı olur."
      ]
    },
    {
      "cell_type": "code",
      "metadata": {
        "id": "CTXDIG0ealDb",
        "colab_type": "code",
        "outputId": "dcdf2719-a165-48d3-8919-73f0057999f7",
        "colab": {
          "base_uri": "https://localhost:8080/",
          "height": 121
        }
      },
      "source": [
        "kalkısYeri = input(\"Kalkış yerinizi yazınız: \")\n",
        "inisYeri = input(\"İniş yerinizi yazınız: \")\n",
        "isimSoyisim = input(\"İsim ve soy isminizi yazınız: \")\n",
        "biletSayisi = input(\"Aldığınız bilet sayısınız yazınız: \")\n",
        "metin = \"{} noktasından {} noktasına, 14.30 hareket saati \\\n",
        "sefer için {} adına {} adet bilet ayrılmıştır!\"\n",
        "print(metin.format(kalkısYeri,inisYeri,isimSoyisim,biletSayisi))"
      ],
      "execution_count": 0,
      "outputs": [
        {
          "output_type": "stream",
          "text": [
            "Kalkış yerinizi yazınız: ankara\n",
            "İniş yerinizi yazınız: istanbul\n",
            "İsim ve soy isminizi yazınız: ekrem imamoğlu\n",
            "Aldığınız bilet sayısınız yazınız: 5\n",
            "ankara noktasından istanbul noktasına, 14.30 hareket saati sefer için ekrem imamoğlu adına 5 adet bilet ayrılmıştır!\n"
          ],
          "name": "stdout"
        }
      ]
    },
    {
      "cell_type": "code",
      "metadata": {
        "id": "CYnD3YsMbd6Y",
        "colab_type": "code",
        "outputId": "d9632444-afdd-4254-bc7c-ddbf99226e0f",
        "colab": {
          "base_uri": "https://localhost:8080/",
          "height": 34
        }
      },
      "source": [
        "print(\"{}, A computer science portal for geeks\".format(\"GeeksforGeeks\"))"
      ],
      "execution_count": 0,
      "outputs": [
        {
          "output_type": "stream",
          "text": [
            "GeeksforGeeks, A computer science portal for geeks\n"
          ],
          "name": "stdout"
        }
      ]
    },
    {
      "cell_type": "markdown",
      "metadata": {
        "id": "6H5ZUnnRbsN8",
        "colab_type": "text"
      },
      "source": [
        "**birden fazla yer tutucu kullanmak**"
      ]
    },
    {
      "cell_type": "markdown",
      "metadata": {
        "id": "v9K7wnPfbxLW",
        "colab_type": "text"
      },
      "source": [
        "\"{} {}\".format(değer1,değer2)"
      ]
    },
    {
      "cell_type": "code",
      "metadata": {
        "id": "BYW-EJq3b9qt",
        "colab_type": "code",
        "outputId": "d24821a2-ac2d-449e-c98e-db008a7bc4ad",
        "colab": {
          "base_uri": "https://localhost:8080/",
          "height": 34
        }
      },
      "source": [
        "print(\"selam ben {}. {} yaşındayım!\".format(\"mike\",20))"
      ],
      "execution_count": 0,
      "outputs": [
        {
          "output_type": "stream",
          "text": [
            "selam ben mike. 20 yaşındayım!\n"
          ],
          "name": "stdout"
        }
      ]
    },
    {
      "cell_type": "markdown",
      "metadata": {
        "id": "xqItsWJZcX_S",
        "colab_type": "text"
      },
      "source": [
        "**IndexError Hatası**"
      ]
    },
    {
      "cell_type": "markdown",
      "metadata": {
        "id": "NR_4GlZzcbWg",
        "colab_type": "text"
      },
      "source": [
        "format() methodunu kullanırken en çok karşılaşılan hatadır.\n",
        "\n",
        "Bu hatanın nedeni karakter dizisin içinde yer alan yer tutucuların sayısı, format() methoduna atanan parametrelere eşit olmamasından kaynaklıdır.\n",
        "\n",
        "yani karakter dizisinde yer tutucuları kullandıysak bunlara değer atamak zorundayız."
      ]
    },
    {
      "cell_type": "code",
      "metadata": {
        "id": "wwnpXNOLc4pd",
        "colab_type": "code",
        "outputId": "e9c4cc50-07f1-4617-a28b-bdd7548a7796",
        "colab": {
          "base_uri": "https://localhost:8080/",
          "height": 178
        }
      },
      "source": [
        "myString = \"{}, is a {} science portal for {}\"\n",
        "print(myString.format(\"GeeksforGeeks\",\"computer\"))"
      ],
      "execution_count": 0,
      "outputs": [
        {
          "output_type": "error",
          "ename": "IndexError",
          "evalue": "ignored",
          "traceback": [
            "\u001b[0;31m---------------------------------------------------------------------------\u001b[0m",
            "\u001b[0;31mIndexError\u001b[0m                                Traceback (most recent call last)",
            "\u001b[0;32m<ipython-input-10-c30d0dd44243>\u001b[0m in \u001b[0;36m<module>\u001b[0;34m()\u001b[0m\n\u001b[1;32m      1\u001b[0m \u001b[0mmyString\u001b[0m \u001b[0;34m=\u001b[0m \u001b[0;34m\"{}, is a {} science portal for {}\"\u001b[0m\u001b[0;34m\u001b[0m\u001b[0;34m\u001b[0m\u001b[0m\n\u001b[0;32m----> 2\u001b[0;31m \u001b[0mprint\u001b[0m\u001b[0;34m(\u001b[0m\u001b[0mmyString\u001b[0m\u001b[0;34m.\u001b[0m\u001b[0mformat\u001b[0m\u001b[0;34m(\u001b[0m\u001b[0;34m\"GeeksforGeeks\"\u001b[0m\u001b[0;34m,\u001b[0m\u001b[0;34m\"computer\"\u001b[0m\u001b[0;34m)\u001b[0m\u001b[0;34m)\u001b[0m\u001b[0;34m\u001b[0m\u001b[0;34m\u001b[0m\u001b[0m\n\u001b[0m",
            "\u001b[0;31mIndexError\u001b[0m: tuple index out of range"
          ]
        }
      ]
    },
    {
      "cell_type": "code",
      "metadata": {
        "id": "J5Dh6hmldMFx",
        "colab_type": "code",
        "outputId": "dd603a83-927a-43d7-8e35-027a52add5c1",
        "colab": {
          "base_uri": "https://localhost:8080/",
          "height": 34
        }
      },
      "source": [
        "print(\"Hello, My name is {} and I am {} years old\".format(\"murat\",19))"
      ],
      "execution_count": 0,
      "outputs": [
        {
          "output_type": "stream",
          "text": [
            "Hello, My name is murat and I am 19 years old\n"
          ],
          "name": "stdout"
        }
      ]
    },
    {
      "cell_type": "code",
      "metadata": {
        "id": "wNm1ELiHdVuq",
        "colab_type": "code",
        "outputId": "3b2892df-c247-4bc9-ee59-133f5961075d",
        "colab": {
          "base_uri": "https://localhost:8080/",
          "height": 34
        }
      },
      "source": [
        "print(\"This is {} {} {} {}\".format(\"one\",\"two\",\"three\",\"four\"))"
      ],
      "execution_count": 0,
      "outputs": [
        {
          "output_type": "stream",
          "text": [
            "This is one two three four\n"
          ],
          "name": "stdout"
        }
      ]
    },
    {
      "cell_type": "markdown",
      "metadata": {
        "id": "UsaW-dHqdfBW",
        "colab_type": "text"
      },
      "source": [
        "**indeks numarası**"
      ]
    },
    {
      "cell_type": "markdown",
      "metadata": {
        "id": "5vG64fjDdheo",
        "colab_type": "text"
      },
      "source": [
        "yer tutucularına değer atadığımız zaman soldan sağa doğru sırasıya bu işlemi gerçekleştiririz.\n",
        "\n",
        "fakat bu işlemi paramatrelerin indeks numaralarına göre yaparsak, değerlerimizi istediğimiz yere yerleştirebiliriz:"
      ]
    },
    {
      "cell_type": "markdown",
      "metadata": {
        "id": "wT770lxCd10L",
        "colab_type": "text"
      },
      "source": [
        "**normal sıralama:**"
      ]
    },
    {
      "cell_type": "code",
      "metadata": {
        "id": "GEIqFqzHd4TG",
        "colab_type": "code",
        "outputId": "8f9b2d68-424a-461a-eb9a-de0c12e11fa3",
        "colab": {
          "base_uri": "https://localhost:8080/",
          "height": 34
        }
      },
      "source": [
        "print(\"{} love {}!!\".format(\"I\",\"Python\"))"
      ],
      "execution_count": 0,
      "outputs": [
        {
          "output_type": "stream",
          "text": [
            "I love Python!!\n"
          ],
          "name": "stdout"
        }
      ]
    },
    {
      "cell_type": "markdown",
      "metadata": {
        "id": "Dy5sAh5seDD-",
        "colab_type": "text"
      },
      "source": [
        "**indeks numaralarını kullanarak sıralama**"
      ]
    },
    {
      "cell_type": "code",
      "metadata": {
        "id": "YiYb-8gAeIhp",
        "colab_type": "code",
        "outputId": "52982a67-0548-4a25-e632-6e2522bf3d5f",
        "colab": {
          "base_uri": "https://localhost:8080/",
          "height": 67
        }
      },
      "source": [
        "print(\"{1} love {0}\".format(\"I\",\"Python\"))\n",
        "print(\"{0} {1}\".format(\"murat\",\"can\"))\n",
        "print(\"{1} {0}\".format(\"murat\",\"can\"))"
      ],
      "execution_count": 0,
      "outputs": [
        {
          "output_type": "stream",
          "text": [
            "Python love I\n",
            "murat can\n",
            "can murat\n"
          ],
          "name": "stdout"
        }
      ]
    },
    {
      "cell_type": "markdown",
      "metadata": {
        "id": "MnThwuPMeh-x",
        "colab_type": "text"
      },
      "source": [
        "bu özellik sayesinde aynı değeri birden fazla yazabiliriz:"
      ]
    },
    {
      "cell_type": "code",
      "metadata": {
        "id": "NisbtqShelHX",
        "colab_type": "code",
        "outputId": "1c06783d-da35-493f-9e64-5b14f7860dca",
        "colab": {
          "base_uri": "https://localhost:8080/",
          "height": 34
        }
      },
      "source": [
        "print(\"{0} {1} {1} {0}\".format(\"murat\",\"can\"))"
      ],
      "execution_count": 0,
      "outputs": [
        {
          "output_type": "stream",
          "text": [
            "murat can can murat\n"
          ],
          "name": "stdout"
        }
      ]
    },
    {
      "cell_type": "code",
      "metadata": {
        "id": "TTXa8P0KeyGb",
        "colab_type": "code",
        "outputId": "beb96691-a9a2-4fe4-b74a-4c3d7af7e6a4",
        "colab": {
          "base_uri": "https://localhost:8080/",
          "height": 34
        }
      },
      "source": [
        "ornekCode = \"Every {3} should know the use of {2} {1} programming {0}\"\n",
        "print(ornekCode.format(\"programmer\",\"open\",\"Source\",\"Operating System\"))"
      ],
      "execution_count": 0,
      "outputs": [
        {
          "output_type": "stream",
          "text": [
            "Every Operating System should know the use of Source open programming programmer\n"
          ],
          "name": "stdout"
        }
      ]
    },
    {
      "cell_type": "markdown",
      "metadata": {
        "id": "iAgzVvBTfKk2",
        "colab_type": "text"
      },
      "source": [
        "istersekte numara yerine harf kullanabiliriz\n",
        "\n",
        "fakat kullandığımız harfleri format() methodun içinde değer atamamız lazım:"
      ]
    },
    {
      "cell_type": "code",
      "metadata": {
        "id": "iR53xLXRfS29",
        "colab_type": "code",
        "outputId": "5f25ffd5-de34-4fbe-c0ce-d3ee4378c354",
        "colab": {
          "base_uri": "https://localhost:8080/",
          "height": 34
        }
      },
      "source": [
        "print(\"{gf} is {po} science portal for {tr}\".format(gf = \"GeeksforGeek\",\n",
        "                                                    po = \"computer\", \n",
        "                                                    tr = \"geeks\"))"
      ],
      "execution_count": 0,
      "outputs": [
        {
          "output_type": "stream",
          "text": [
            "GeeksforGeek is computer science portal for geeks\n"
          ],
          "name": "stdout"
        }
      ]
    },
    {
      "cell_type": "code",
      "metadata": {
        "id": "zmjnNARzf-Yp",
        "colab_type": "code",
        "outputId": "281fdf08-67d0-474b-b70a-1c949cc163f1",
        "colab": {
          "base_uri": "https://localhost:8080/",
          "height": 50
        }
      },
      "source": [
        "metinOne = \"İsminiz: {isim}\\nsoyisminiz: {soyisim}\"\n",
        "print(metinOne.format(isim=\"Stefan\",soyisim=\"Zweig\"))"
      ],
      "execution_count": 0,
      "outputs": [
        {
          "output_type": "stream",
          "text": [
            "İsminiz: Stefan\n",
            "soyisminiz: Zweig\n"
          ],
          "name": "stdout"
        }
      ]
    },
    {
      "cell_type": "markdown",
      "metadata": {
        "id": "XS2Lk7d_gSqn",
        "colab_type": "text"
      },
      "source": [
        "format() methodunda hizalama yapabiliriz:"
      ]
    },
    {
      "cell_type": "code",
      "metadata": {
        "id": "OfgMIn7A__mu",
        "colab_type": "code",
        "colab": {
          "base_uri": "https://localhost:8080/",
          "height": 34
        },
        "outputId": "4228a104-ceb7-47fd-da6f-ac16402d2644"
      },
      "source": [
        "print(\"{:>15}\".format(\"python\"))"
      ],
      "execution_count": 1,
      "outputs": [
        {
          "output_type": "stream",
          "text": [
            "         python\n"
          ],
          "name": "stdout"
        }
      ]
    },
    {
      "cell_type": "markdown",
      "metadata": {
        "id": "YlbmWn59AONA",
        "colab_type": "text"
      },
      "source": [
        ":> işareti sayesinde pythonu sola doğru ittirdik\n",
        "\n",
        "15 ifadeside 15 karakterlik bir alan oluşturduk"
      ]
    },
    {
      "cell_type": "code",
      "metadata": {
        "id": "mReXeYECBH9I",
        "colab_type": "code",
        "colab": {
          "base_uri": "https://localhost:8080/",
          "height": 34
        },
        "outputId": "8ff9bece-84e6-4f1d-bb3f-152130b7e5d4"
      },
      "source": [
        "print(\"{:15}\".format(\"python\"))"
      ],
      "execution_count": 2,
      "outputs": [
        {
          "output_type": "stream",
          "text": [
            "python         \n"
          ],
          "name": "stdout"
        }
      ]
    },
    {
      "cell_type": "markdown",
      "metadata": {
        "id": "mx1VeKI8BRdm",
        "colab_type": "text"
      },
      "source": [
        "herhangi bir işaret kullanılmadığında öntanımlı olarak sola yaslanır"
      ]
    },
    {
      "cell_type": "markdown",
      "metadata": {
        "id": "IXVmLegkBZv_",
        "colab_type": "text"
      },
      "source": [
        "fakat < işareti ilede bu sola yaslama işlemi yapabiliriz"
      ]
    },
    {
      "cell_type": "markdown",
      "metadata": {
        "id": "ConZ08yNBdZc",
        "colab_type": "text"
      },
      "source": [
        "^ işareti ile ortalama işlemi yaparız"
      ]
    },
    {
      "cell_type": "code",
      "metadata": {
        "id": "obbmvkdJBiB3",
        "colab_type": "code",
        "colab": {
          "base_uri": "https://localhost:8080/",
          "height": 34
        },
        "outputId": "f800a7c4-7bd6-4aa7-d706-118a20299b3a"
      },
      "source": [
        "print(\"{:^15}\".format(\"python\"))"
      ],
      "execution_count": 3,
      "outputs": [
        {
          "output_type": "stream",
          "text": [
            "    python     \n"
          ],
          "name": "stdout"
        }
      ]
    },
    {
      "cell_type": "markdown",
      "metadata": {
        "id": "xqgfYe75Bo56",
        "colab_type": "text"
      },
      "source": [
        "15 karakterlik bir yer oluşturup :^ işareti ile pythonu ortaladık"
      ]
    },
    {
      "cell_type": "markdown",
      "metadata": {
        "id": "frNDPZwtB7FJ",
        "colab_type": "text"
      },
      "source": [
        "format() methodunda hizalama işlemini üç işaretle yaparız:\n",
        "\n",
        ":> sağa yaslama\n",
        "\n",
        ":< sola yaslama\n",
        "\n",
        "^ ortalama"
      ]
    },
    {
      "cell_type": "code",
      "metadata": {
        "id": "qMwB2hqqCTAa",
        "colab_type": "code",
        "colab": {
          "base_uri": "https://localhost:8080/",
          "height": 470
        },
        "outputId": "3e1a9668-15ae-45d7-8a7b-16f1340339cc"
      },
      "source": [
        "for sıra,karakter in enumerate(dir(str)):\n",
        "  if sıra % 3 == 0:\n",
        "    print(\"\\n\",end=\"\")\n",
        "  print(\"{:<20}\".format(karakter),end=\"\")  "
      ],
      "execution_count": 4,
      "outputs": [
        {
          "output_type": "stream",
          "text": [
            "\n",
            "__add__             __class__           __contains__        \n",
            "__delattr__         __dir__             __doc__             \n",
            "__eq__              __format__          __ge__              \n",
            "__getattribute__    __getitem__         __getnewargs__      \n",
            "__gt__              __hash__            __init__            \n",
            "__init_subclass__   __iter__            __le__              \n",
            "__len__             __lt__              __mod__             \n",
            "__mul__             __ne__              __new__             \n",
            "__reduce__          __reduce_ex__       __repr__            \n",
            "__rmod__            __rmul__            __setattr__         \n",
            "__sizeof__          __str__             __subclasshook__    \n",
            "capitalize          casefold            center              \n",
            "count               encode              endswith            \n",
            "expandtabs          find                format              \n",
            "format_map          index               isalnum             \n",
            "isalpha             isdecimal           isdigit             \n",
            "isidentifier        islower             isnumeric           \n",
            "isprintable         isspace             istitle             \n",
            "isupper             join                ljust               \n",
            "lower               lstrip              maketrans           \n",
            "partition           replace             rfind               \n",
            "rindex              rjust               rpartition          \n",
            "rsplit              rstrip              split               \n",
            "splitlines          startswith          strip               \n",
            "swapcase            title               translate           \n",
            "upper               zfill               "
          ],
          "name": "stdout"
        }
      ]
    },
    {
      "cell_type": "markdown",
      "metadata": {
        "id": "Q3nK4eqNC3W5",
        "colab_type": "text"
      },
      "source": [
        "**Biçimlendirme Karakteri**"
      ]
    },
    {
      "cell_type": "markdown",
      "metadata": {
        "id": "S4qtELinC6k9",
        "colab_type": "text"
      },
      "source": [
        "**s**"
      ]
    },
    {
      "cell_type": "markdown",
      "metadata": {
        "id": "0OekrE0RDV0i",
        "colab_type": "text"
      },
      "source": [
        "s harfi stringi yani karakter dizisini temsil eder\n",
        "\n",
        "s harfini kullanarak buraya bir karakter dizisi geleceğini makineye belirtmiş oluruz:"
      ]
    },
    {
      "cell_type": "code",
      "metadata": {
        "id": "vI1i-YXqDgJJ",
        "colab_type": "code",
        "colab": {
          "base_uri": "https://localhost:8080/",
          "height": 34
        },
        "outputId": "3dbed697-faa9-41ea-df0d-1694dd39fb1c"
      },
      "source": [
        "print(\"{:s} ve {:s} çok iyi bir ikilidir!\".format(\"ali\",\"feyyaz\"))"
      ],
      "execution_count": 5,
      "outputs": [
        {
          "output_type": "stream",
          "text": [
            "ali ve feyyaz çok iyi bir ikilidir!\n"
          ],
          "name": "stdout"
        }
      ]
    },
    {
      "cell_type": "markdown",
      "metadata": {
        "id": "q3DmZJBWD5AY",
        "colab_type": "text"
      },
      "source": [
        ":s harfini yazdığımız zaman oraya sadece karakter dizisi gelebilir herhangi başka bir veri türü gelemez:"
      ]
    },
    {
      "cell_type": "code",
      "metadata": {
        "id": "V_YWbKyFECvn",
        "colab_type": "code",
        "colab": {
          "base_uri": "https://localhost:8080/",
          "height": 162
        },
        "outputId": "d6a9d37a-7e8c-4fb7-edd4-142ce02430ac"
      },
      "source": [
        "print(\"{:s} ve {:s} çok iyi bir ikilidir!\".format(\"ali\",16))"
      ],
      "execution_count": 6,
      "outputs": [
        {
          "output_type": "error",
          "ename": "ValueError",
          "evalue": "ignored",
          "traceback": [
            "\u001b[0;31m---------------------------------------------------------------------------\u001b[0m",
            "\u001b[0;31mValueError\u001b[0m                                Traceback (most recent call last)",
            "\u001b[0;32m<ipython-input-6-b5909538f5c2>\u001b[0m in \u001b[0;36m<module>\u001b[0;34m()\u001b[0m\n\u001b[0;32m----> 1\u001b[0;31m \u001b[0mprint\u001b[0m\u001b[0;34m(\u001b[0m\u001b[0;34m\"{:s} ve {:s} çok iyi bir ikilidir!\"\u001b[0m\u001b[0;34m.\u001b[0m\u001b[0mformat\u001b[0m\u001b[0;34m(\u001b[0m\u001b[0;34m\"ali\"\u001b[0m\u001b[0;34m,\u001b[0m\u001b[0;36m16\u001b[0m\u001b[0;34m)\u001b[0m\u001b[0;34m)\u001b[0m\u001b[0;34m\u001b[0m\u001b[0;34m\u001b[0m\u001b[0m\n\u001b[0m",
            "\u001b[0;31mValueError\u001b[0m: Unknown format code 's' for object of type 'int'"
          ]
        }
      ]
    },
    {
      "cell_type": "markdown",
      "metadata": {
        "id": "k4rGDQXfGBOF",
        "colab_type": "text"
      },
      "source": [
        "bu yüzden bu harfi kullanmak yerine {} boş bırakmak daha mantıklıdır."
      ]
    },
    {
      "cell_type": "markdown",
      "metadata": {
        "id": "WQ1YMYLJGIs5",
        "colab_type": "text"
      },
      "source": [
        "**d**"
      ]
    },
    {
      "cell_type": "markdown",
      "metadata": {
        "id": "zmj6TkR_JPpl",
        "colab_type": "text"
      },
      "source": [
        "bu harf sayıları temsil eder"
      ]
    },
    {
      "cell_type": "code",
      "metadata": {
        "id": "y5UcKA91JS-z",
        "colab_type": "code",
        "colab": {
          "base_uri": "https://localhost:8080/",
          "height": 34
        },
        "outputId": "7d0eca99-b922-4be4-8a83-e5f02ebf125c"
      },
      "source": [
        "print(\"{:d}\".format(100))"
      ],
      "execution_count": 7,
      "outputs": [
        {
          "output_type": "stream",
          "text": [
            "100\n"
          ],
          "name": "stdout"
        }
      ]
    },
    {
      "cell_type": "markdown",
      "metadata": {
        "id": "4u1EuQyEJXn5",
        "colab_type": "text"
      },
      "source": [
        ":d bu harfe sadece sayı değeri girilebilir \n",
        "\n",
        "eğer karakter dizisi veya başka bir ifade girersek hata alırız\n",
        "\n",
        "bu yüzden bu harfi kullanamk yerine \"{}\" boş bırakmak daha mantıklıdır."
      ]
    },
    {
      "cell_type": "markdown",
      "metadata": {
        "id": "EfxEBlKPJxsQ",
        "colab_type": "text"
      },
      "source": [
        "**c**"
      ]
    },
    {
      "cell_type": "markdown",
      "metadata": {
        "id": "SiIQzGJ-Jz96",
        "colab_type": "text"
      },
      "source": [
        ":c bu harf 0 ile 256 arası sayıların ASCII tablosundaki karşılıklarını temsil eder."
      ]
    },
    {
      "cell_type": "code",
      "metadata": {
        "id": "QlRWdzJcKB72",
        "colab_type": "code",
        "colab": {
          "base_uri": "https://localhost:8080/",
          "height": 34
        },
        "outputId": "00a3dc53-4d54-4b7e-f4b7-57b3e16345c5"
      },
      "source": [
        "print(\"{:c}\".format(70))"
      ],
      "execution_count": 10,
      "outputs": [
        {
          "output_type": "stream",
          "text": [
            "F\n"
          ],
          "name": "stdout"
        }
      ]
    },
    {
      "cell_type": "markdown",
      "metadata": {
        "id": "8NMlbl9bKNhP",
        "colab_type": "text"
      },
      "source": [
        "**o**"
      ]
    },
    {
      "cell_type": "markdown",
      "metadata": {
        "id": "8MAAZpW0KOuH",
        "colab_type": "text"
      },
      "source": [
        ":o bu harf onlu düzendeki sayıları sekizli düzendeki karşılıklarına çevirir"
      ]
    },
    {
      "cell_type": "code",
      "metadata": {
        "id": "B6qYSBCeLNAr",
        "colab_type": "code",
        "colab": {
          "base_uri": "https://localhost:8080/",
          "height": 34
        },
        "outputId": "1f29d413-c1d6-4dac-c5df-f1b43a1d6bee"
      },
      "source": [
        "print(\"{:o}\".format(70))"
      ],
      "execution_count": 11,
      "outputs": [
        {
          "output_type": "stream",
          "text": [
            "106\n"
          ],
          "name": "stdout"
        }
      ]
    },
    {
      "cell_type": "markdown",
      "metadata": {
        "id": "oSa0iACgLShO",
        "colab_type": "text"
      },
      "source": [
        "**x**"
      ]
    },
    {
      "cell_type": "markdown",
      "metadata": {
        "id": "SI2u4HOyLT5j",
        "colab_type": "text"
      },
      "source": [
        "Bu harf onlu düzendeki sayıları onaltılı düzendeki karşılıklarını verir"
      ]
    },
    {
      "cell_type": "code",
      "metadata": {
        "id": "xFe0njFRwuh7",
        "colab_type": "code",
        "colab": {
          "base_uri": "https://localhost:8080/",
          "height": 34
        },
        "outputId": "fbe15ce9-6296-49ab-ef4f-eac236cef95e"
      },
      "source": [
        "print(\"{:x}\".format(80))"
      ],
      "execution_count": 1,
      "outputs": [
        {
          "output_type": "stream",
          "text": [
            "50\n"
          ],
          "name": "stdout"
        }
      ]
    },
    {
      "cell_type": "markdown",
      "metadata": {
        "id": "3VQzrQfjw4pp",
        "colab_type": "text"
      },
      "source": [
        "**X**"
      ]
    },
    {
      "cell_type": "markdown",
      "metadata": {
        "id": "xLfzxdYPw6XG",
        "colab_type": "text"
      },
      "source": [
        "bu harf de aynı x gibi sayıları onaltılı düzendeki karşılıklarını çevirir:"
      ]
    },
    {
      "cell_type": "code",
      "metadata": {
        "id": "2JsaQvEkxBnm",
        "colab_type": "code",
        "colab": {
          "base_uri": "https://localhost:8080/",
          "height": 34
        },
        "outputId": "5035648b-f485-4aee-a6d1-f054d0414150"
      },
      "source": [
        "print(\"{:X}\".format(80))"
      ],
      "execution_count": 2,
      "outputs": [
        {
          "output_type": "stream",
          "text": [
            "50\n"
          ],
          "name": "stdout"
        }
      ]
    },
    {
      "cell_type": "markdown",
      "metadata": {
        "id": "Tqsj-483xIOP",
        "colab_type": "text"
      },
      "source": [
        "peki bu x ile X arasındaki fark nedir?\n",
        "\n",
        "x harfi küçük harfi şeklinde temsil eder\n",
        "\n",
        "X harfi büyük harfi şeklinde temsil eder\n",
        "\n",
        "daha net bakalım:"
      ]
    },
    {
      "cell_type": "code",
      "metadata": {
        "id": "9tzUs6F2xTmu",
        "colab_type": "code",
        "colab": {
          "base_uri": "https://localhost:8080/",
          "height": 353
        },
        "outputId": "eac44d8b-c7b0-4120-b713-3101ac13aec4"
      },
      "source": [
        "for i in range(20):\n",
        "  print(\"{:x}{:10X}\".format(i,i))"
      ],
      "execution_count": 3,
      "outputs": [
        {
          "output_type": "stream",
          "text": [
            "0         0\n",
            "1         1\n",
            "2         2\n",
            "3         3\n",
            "4         4\n",
            "5         5\n",
            "6         6\n",
            "7         7\n",
            "8         8\n",
            "9         9\n",
            "a         A\n",
            "b         B\n",
            "c         C\n",
            "d         D\n",
            "e         E\n",
            "f         F\n",
            "10        10\n",
            "11        11\n",
            "12        12\n",
            "13        13\n"
          ],
          "name": "stdout"
        }
      ]
    },
    {
      "cell_type": "markdown",
      "metadata": {
        "id": "bDv5MF99xgV8",
        "colab_type": "text"
      },
      "source": [
        "**b**"
      ]
    },
    {
      "cell_type": "markdown",
      "metadata": {
        "id": "lmvoWEfIxh9z",
        "colab_type": "text"
      },
      "source": [
        "bu harf onlu düzendeki sayıları ikili düzendeki karşılıklarına denk gelir"
      ]
    },
    {
      "cell_type": "code",
      "metadata": {
        "id": "bisY8_k5xm4k",
        "colab_type": "code",
        "colab": {
          "base_uri": "https://localhost:8080/",
          "height": 34
        },
        "outputId": "7a1bd8da-6d9b-489f-89f4-effe9b8088d1"
      },
      "source": [
        "print(\"{:b}\".format(2))"
      ],
      "execution_count": 4,
      "outputs": [
        {
          "output_type": "stream",
          "text": [
            "10\n"
          ],
          "name": "stdout"
        }
      ]
    },
    {
      "cell_type": "markdown",
      "metadata": {
        "id": "aQovAg39xsVm",
        "colab_type": "text"
      },
      "source": [
        "**f**"
      ]
    },
    {
      "cell_type": "markdown",
      "metadata": {
        "id": "-JWh_VNAxt9o",
        "colab_type": "text"
      },
      "source": [
        "sıfırları temsil eder:"
      ]
    },
    {
      "cell_type": "code",
      "metadata": {
        "id": "414i3DJpxvxl",
        "colab_type": "code",
        "colab": {
          "base_uri": "https://localhost:8080/",
          "height": 34
        },
        "outputId": "c21e16fa-f4df-4d19-b405-0b8dd2581b1b"
      },
      "source": [
        "print(\"{:.2f}\".format(55))"
      ],
      "execution_count": 5,
      "outputs": [
        {
          "output_type": "stream",
          "text": [
            "55.00\n"
          ],
          "name": "stdout"
        }
      ]
    },
    {
      "cell_type": "code",
      "metadata": {
        "id": "_QzIp7kux1uy",
        "colab_type": "code",
        "colab": {
          "base_uri": "https://localhost:8080/",
          "height": 34
        },
        "outputId": "a05e225f-95e9-431a-962f-36c62c0eef35"
      },
      "source": [
        "txt = \"For only {price:.2f} dollars\"\n",
        "print(txt.format(price=65))"
      ],
      "execution_count": 6,
      "outputs": [
        {
          "output_type": "stream",
          "text": [
            "For only 65.00 dollars\n"
          ],
          "name": "stdout"
        }
      ]
    },
    {
      "cell_type": "markdown",
      "metadata": {
        "id": "buxmCTGAyA0u",
        "colab_type": "text"
      },
      "source": [
        "**,**"
      ]
    },
    {
      "cell_type": "markdown",
      "metadata": {
        "id": "plkn39uCyHXr",
        "colab_type": "text"
      },
      "source": [
        "bu işaret sayıların arasına , koymamaıza yarar"
      ]
    },
    {
      "cell_type": "code",
      "metadata": {
        "id": "q5cG78huyKb8",
        "colab_type": "code",
        "colab": {
          "base_uri": "https://localhost:8080/",
          "height": 34
        },
        "outputId": "7d21b7ef-509d-494b-99b4-c5b1afe6a47d"
      },
      "source": [
        "print(\"{:,}\".format(1234567))"
      ],
      "execution_count": 7,
      "outputs": [
        {
          "output_type": "stream",
          "text": [
            "1,234,567\n"
          ],
          "name": "stdout"
        }
      ]
    }
  ]
}