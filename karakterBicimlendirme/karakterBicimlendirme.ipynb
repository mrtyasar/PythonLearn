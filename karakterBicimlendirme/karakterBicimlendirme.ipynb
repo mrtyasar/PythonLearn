{
  "nbformat": 4,
  "nbformat_minor": 0,
  "metadata": {
    "colab": {
      "name": "karakterBicimlendirme.ipynb",
      "provenance": [],
      "collapsed_sections": []
    },
    "kernelspec": {
      "name": "python3",
      "display_name": "Python 3"
    }
  },
  "cells": [
    {
      "cell_type": "markdown",
      "metadata": {
        "id": "6sDsGDECN11X",
        "colab_type": "text"
      },
      "source": [
        "# karakter dizilerini Biçimlendirmek"
      ]
    },
    {
      "cell_type": "markdown",
      "metadata": {
        "id": "WUTlu_lTN9W9",
        "colab_type": "text"
      },
      "source": [
        "programımız sadece 5 karakterlik isim kabul ediyor, 5 karakteri aşan kısma ise ... üç nokta koyuyor:"
      ]
    },
    {
      "cell_type": "code",
      "metadata": {
        "id": "Jgk5H25dOTaK",
        "colab_type": "code",
        "colab": {
          "base_uri": "https://localhost:8080/",
          "height": 50
        },
        "outputId": "fa3e43cd-49e3-4c44-f0a8-b5e7c7170962"
      },
      "source": [
        "isim = input(\"İsminiz: \")\n",
        "if len(isim) <= 5:\n",
        "  print(isim[:5])\n",
        "else:\n",
        "  print(isim[:5],\"...\")  "
      ],
      "execution_count": 1,
      "outputs": [
        {
          "output_type": "stream",
          "text": [
            "İsminiz: Abdullah\n",
            "Abdul ...\n"
          ],
          "name": "stdout"
        }
      ]
    },
    {
      "cell_type": "markdown",
      "metadata": {
        "id": "D4GqOPsyOoXv",
        "colab_type": "text"
      },
      "source": [
        "amacımıza ulaştık ama isim ile ... üç nokta arasında boşluk oluştu peki ya bunu nasıl silebiliriz?"
      ]
    },
    {
      "cell_type": "code",
      "metadata": {
        "id": "eeQBu-OnO21p",
        "colab_type": "code",
        "colab": {
          "base_uri": "https://localhost:8080/",
          "height": 50
        },
        "outputId": "5d95dcd1-35cb-440c-b21a-623e3d518ef1"
      },
      "source": [
        "isim = input(\"isminiz: \")\n",
        "if len(isim) <= 5:\n",
        "  print(isim[:5])\n",
        "else:\n",
        "  print(isim[:5]+\"...\")  "
      ],
      "execution_count": 2,
      "outputs": [
        {
          "output_type": "stream",
          "text": [
            "isminiz: Abdullah\n",
            "Abdul...\n"
          ],
          "name": "stdout"
        }
      ]
    },
    {
      "cell_type": "markdown",
      "metadata": {
        "id": "5tUWK8gsPEDA",
        "colab_type": "text"
      },
      "source": [
        "diğer yöntem:"
      ]
    },
    {
      "cell_type": "code",
      "metadata": {
        "id": "JlprpLVVPFoJ",
        "colab_type": "code",
        "colab": {
          "base_uri": "https://localhost:8080/",
          "height": 50
        },
        "outputId": "1e2efac6-6153-4ec1-d2c8-c206091119b5"
      },
      "source": [
        "isim = input(\"isminiz: \")\n",
        "if len(isim) <= 5:\n",
        "  print(isim[:5])\n",
        "else:\n",
        "  print(isim[:5],\"...\",sep=\"\")  "
      ],
      "execution_count": 3,
      "outputs": [
        {
          "output_type": "stream",
          "text": [
            "isminiz: Abdullah\n",
            "Abdul...\n"
          ],
          "name": "stdout"
        }
      ]
    },
    {
      "cell_type": "markdown",
      "metadata": {
        "id": "7qEN6qfzPcFu",
        "colab_type": "text"
      },
      "source": [
        "bu yöntemler ne kadarda iyi bir seçenek gibi gözükesede karmaşık ve farklı kaynaklardan gelen karakter dizilerini ihtiyaçlarımıza göre bir araya getirmek zorlaşacak\n",
        "\n",
        "mesala:\n",
        "kullanıcıya yazdığı paraloanın uygun olduğu bir mesaj yollamak istiyoruz:"
      ]
    },
    {
      "cell_type": "code",
      "metadata": {
        "id": "Y56QLsQkQQQB",
        "colab_type": "code",
        "colab": {
          "base_uri": "https://localhost:8080/",
          "height": 50
        },
        "outputId": "87760418-916c-4426-a87a-85cdbe069d25"
      },
      "source": [
        "parola = input(\"parola: \")\n",
        "print(\"girdiğiniz parola (\"+parola+\")kurallara uygun bir paroladır!\")"
      ],
      "execution_count": 4,
      "outputs": [
        {
          "output_type": "stream",
          "text": [
            "parola: blabla\n",
            "girdiğiniz parola (blabla)kurallara uygun bir paroladır!\n"
          ],
          "name": "stdout"
        }
      ]
    },
    {
      "cell_type": "markdown",
      "metadata": {
        "id": "CJizyWXLSJwR",
        "colab_type": "text"
      },
      "source": [
        "veya şöyle bir metinle karşılaştık:"
      ]
    },
    {
      "cell_type": "markdown",
      "metadata": {
        "id": "sZVjxDqlSNOq",
        "colab_type": "text"
      },
      "source": [
        "Sayın .........\n",
        "\n",
        ".... tarihinde yapmış olduğunuz, ........ hakkındaki başvurunuz incelemeye alınmıştır.\n",
        "\n",
        "Size .... işgünü içinde cevap verilecektir.\n",
        "\n",
        "\n",
        "Saygılarımızla,\n",
        "\n",
        "......"
      ]
    },
    {
      "cell_type": "markdown",
      "metadata": {
        "id": "Nhqxlw3USTb1",
        "colab_type": "text"
      },
      "source": [
        "bu metin örneği başta olmak üzere böyle yerlerde karakter dizisi birleştirme işlemlerimizi yorucu ve pek kullanışlı olmaz\n",
        "\n",
        "bu yüzden karakter dizisi birleştirme araçlarından yararlanırız:"
      ]
    },
    {
      "cell_type": "markdown",
      "metadata": {
        "id": "s90tsCVxS8ER",
        "colab_type": "text"
      },
      "source": [
        "Pythonda karakter dizilerini biçimlendirmenin iki yolu vardır:\n",
        "\n",
        "1. yol:\n",
        "\n",
        "% işareti ile biçimlendirme\n",
        "\n",
        "2. yol:\n",
        "\n",
        "format() methodunu kullanarak biçimlendirme\n"
      ]
    },
    {
      "cell_type": "markdown",
      "metadata": {
        "id": "CPcHe5N-TIqi",
        "colab_type": "text"
      },
      "source": [
        "bu iki yöntem aynı işlemi yerine getirir\n",
        "\n",
        "fakat % işareti çok eski bir yöntemdir artık çok fazla kullanılmaz zaten ilerde de kaldırlacağı düşünülüyor\n",
        "\n",
        "bu yüzden bu işaret yerine format() methodu kullanılır, çünkü daha işlevsel ve kolaydır."
      ]
    }
  ]
}