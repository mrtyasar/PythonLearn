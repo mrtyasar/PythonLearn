{
  "nbformat": 4,
  "nbformat_minor": 0,
  "metadata": {
    "colab": {
      "name": "numbers.ipynb",
      "provenance": [],
      "collapsed_sections": []
    },
    "kernelspec": {
      "name": "python3",
      "display_name": "Python 3"
    }
  },
  "cells": [
    {
      "cell_type": "markdown",
      "metadata": {
        "id": "FiGqqllzpoZZ",
        "colab_type": "text"
      },
      "source": [
        "# Numbers "
      ]
    },
    {
      "cell_type": "markdown",
      "metadata": {
        "id": "P8WL0r5nptDd",
        "colab_type": "text"
      },
      "source": [
        "Sayılarda 3 çeşit veri tipi vardır:\n",
        "\n",
        "İnteger(int):"
      ]
    },
    {
      "cell_type": "code",
      "metadata": {
        "id": "tjSFICHKp56X",
        "colab_type": "code",
        "colab": {
          "base_uri": "https://localhost:8080/",
          "height": 84
        },
        "outputId": "57a1ba78-2f46-4ee7-f5e5-eb670198bd57"
      },
      "source": [
        "print(5)\n",
        "print(10)\n",
        "print(100)\n",
        "print(1000)"
      ],
      "execution_count": 1,
      "outputs": [
        {
          "output_type": "stream",
          "text": [
            "5\n",
            "10\n",
            "100\n",
            "1000\n"
          ],
          "name": "stdout"
        }
      ]
    },
    {
      "cell_type": "markdown",
      "metadata": {
        "id": "8FoCimTwp-zR",
        "colab_type": "text"
      },
      "source": [
        "ondalıklı sayılar: float"
      ]
    },
    {
      "cell_type": "code",
      "metadata": {
        "id": "Ud2L34kBqCeg",
        "colab_type": "code",
        "colab": {
          "base_uri": "https://localhost:8080/",
          "height": 84
        },
        "outputId": "b2b26b3f-33ae-4191-c3b7-afc98806bd38"
      },
      "source": [
        "print(5.5)\n",
        "print(10.8)\n",
        "print(100.0)\n",
        "print(1000.2)"
      ],
      "execution_count": 2,
      "outputs": [
        {
          "output_type": "stream",
          "text": [
            "5.5\n",
            "10.8\n",
            "100.0\n",
            "1000.2\n"
          ],
          "name": "stdout"
        }
      ]
    },
    {
      "cell_type": "markdown",
      "metadata": {
        "id": "sO6M1h2mqIrF",
        "colab_type": "text"
      },
      "source": [
        "complex sayılar "
      ]
    },
    {
      "cell_type": "code",
      "metadata": {
        "id": "SxDDd3H6qKpx",
        "colab_type": "code",
        "colab": {
          "base_uri": "https://localhost:8080/",
          "height": 67
        },
        "outputId": "ac604838-bd7e-4107-c404-eb3ba649ee02"
      },
      "source": [
        "print(10+5j)\n",
        "print(20+9j)\n",
        "print(12+2j)"
      ],
      "execution_count": 3,
      "outputs": [
        {
          "output_type": "stream",
          "text": [
            "(10+5j)\n",
            "(20+9j)\n",
            "(12+2j)\n"
          ],
          "name": "stdout"
        }
      ]
    },
    {
      "cell_type": "markdown",
      "metadata": {
        "id": "7lrpwf-MqTSz",
        "colab_type": "text"
      },
      "source": [
        "# Sayılarda kullandığımız işleçler"
      ]
    },
    {
      "cell_type": "markdown",
      "metadata": {
        "id": "KtLLaQ9VqZ54",
        "colab_type": "text"
      },
      "source": [
        "(+) toplama\n",
        "(-) çıkarma\n",
        "(*) çarpma\n",
        "(/) bölme\n",
        "(//) tamsayı bölme\n",
        "(%) kalan bulma"
      ]
    },
    {
      "cell_type": "code",
      "metadata": {
        "id": "d-v9v441qmm5",
        "colab_type": "code",
        "colab": {
          "base_uri": "https://localhost:8080/",
          "height": 118
        },
        "outputId": "41e1ce68-d4a5-4d5d-d39b-4b78ccb71adb"
      },
      "source": [
        "print(10+5)\n",
        "print(20-10)\n",
        "print(23*4)\n",
        "print(20/5) # Python'da bölmeler ondalıklı olarak gösterilir\n",
        "print(20//5)\n",
        "print(13%2)"
      ],
      "execution_count": 14,
      "outputs": [
        {
          "output_type": "stream",
          "text": [
            "15\n",
            "10\n",
            "92\n",
            "4.0\n",
            "4\n",
            "1\n"
          ],
          "name": "stdout"
        }
      ]
    },
    {
      "cell_type": "markdown",
      "metadata": {
        "id": "rt_bokxfq8Ss",
        "colab_type": "text"
      },
      "source": [
        "# İnt vs String"
      ]
    },
    {
      "cell_type": "code",
      "metadata": {
        "id": "bfatIxYOrExB",
        "colab_type": "code",
        "colab": {
          "base_uri": "https://localhost:8080/",
          "height": 50
        },
        "outputId": "cbf8e994-8c86-4d1a-9329-51c2dc9d250a"
      },
      "source": [
        "print(type(12345))\n",
        "print(type(\"12345\"))"
      ],
      "execution_count": 5,
      "outputs": [
        {
          "output_type": "stream",
          "text": [
            "<class 'int'>\n",
            "<class 'str'>\n"
          ],
          "name": "stdout"
        }
      ]
    },
    {
      "cell_type": "markdown",
      "metadata": {
        "id": "EGX7NsI7rLeK",
        "colab_type": "text"
      },
      "source": [
        "veri tiplerine dikkat etmemiz lazım.\n",
        "çünkü string ifadeler toplama işlemiyle birleştirilirken\n",
        "int veri tipinde toplanır\n",
        "Ayrıca karakter dizileriyle aritmetik işlemler yapılamaz"
      ]
    },
    {
      "cell_type": "code",
      "metadata": {
        "id": "spcZf3YBrcOS",
        "colab_type": "code",
        "colab": {
          "base_uri": "https://localhost:8080/",
          "height": 50
        },
        "outputId": "a52ef80f-a643-4177-b9f8-28004c7ecd4b"
      },
      "source": [
        "print(25+25)\n",
        "print(\"25\"+\"25\")"
      ],
      "execution_count": 8,
      "outputs": [
        {
          "output_type": "stream",
          "text": [
            "50\n",
            "2525\n"
          ],
          "name": "stdout"
        }
      ]
    },
    {
      "cell_type": "markdown",
      "metadata": {
        "id": "v28sGbuJrljC",
        "colab_type": "text"
      },
      "source": [
        "String ifadeler ile int ifadeler bir arada işlem göremezler hata üretirler.(Çaprma işlemi hariç.)\n",
        "\n",
        "print(\"25\"+25) #hata aldık"
      ]
    },
    {
      "cell_type": "markdown",
      "metadata": {
        "id": "S8jfdU3frxQ7",
        "colab_type": "text"
      },
      "source": [
        "# (+) işaretinin string ve int farkı"
      ]
    },
    {
      "cell_type": "markdown",
      "metadata": {
        "id": "b383yrJrr3Cf",
        "colab_type": "text"
      },
      "source": [
        "int"
      ]
    },
    {
      "cell_type": "code",
      "metadata": {
        "id": "mapT2DZlr35S",
        "colab_type": "code",
        "colab": {
          "base_uri": "https://localhost:8080/",
          "height": 34
        },
        "outputId": "e534417a-067b-4dbc-86f4-8847ac02f345"
      },
      "source": [
        "print(1000+120)"
      ],
      "execution_count": 9,
      "outputs": [
        {
          "output_type": "stream",
          "text": [
            "1120\n"
          ],
          "name": "stdout"
        }
      ]
    },
    {
      "cell_type": "markdown",
      "metadata": {
        "id": "Hq9SZDGhr6kS",
        "colab_type": "text"
      },
      "source": [
        "string"
      ]
    },
    {
      "cell_type": "code",
      "metadata": {
        "id": "O7nk9ueMr7Wk",
        "colab_type": "code",
        "colab": {
          "base_uri": "https://localhost:8080/",
          "height": 34
        },
        "outputId": "8a2827f0-5089-4794-df82-7d2804fda897"
      },
      "source": [
        "print(\"1000\"+\"120\")"
      ],
      "execution_count": 10,
      "outputs": [
        {
          "output_type": "stream",
          "text": [
            "1000120\n"
          ],
          "name": "stdout"
        }
      ]
    },
    {
      "cell_type": "markdown",
      "metadata": {
        "id": "vv0ZHHr1r-tZ",
        "colab_type": "text"
      },
      "source": [
        "# (*) işaretinin string ve int farkı"
      ]
    },
    {
      "cell_type": "markdown",
      "metadata": {
        "id": "adv4U8Z3sPT6",
        "colab_type": "text"
      },
      "source": [
        "int"
      ]
    },
    {
      "cell_type": "code",
      "metadata": {
        "id": "x4OMQ3i0sQAv",
        "colab_type": "code",
        "colab": {
          "base_uri": "https://localhost:8080/",
          "height": 34
        },
        "outputId": "6aef32dc-011b-44c2-e931-45afd60642fb"
      },
      "source": [
        "print(15*4)"
      ],
      "execution_count": 12,
      "outputs": [
        {
          "output_type": "stream",
          "text": [
            "60\n"
          ],
          "name": "stdout"
        }
      ]
    },
    {
      "cell_type": "markdown",
      "metadata": {
        "id": "mvlZzudSsUqi",
        "colab_type": "text"
      },
      "source": [
        "stirng"
      ]
    },
    {
      "cell_type": "code",
      "metadata": {
        "id": "m6-VHIy5sWKf",
        "colab_type": "code",
        "colab": {
          "base_uri": "https://localhost:8080/",
          "height": 34
        },
        "outputId": "c41704fb-a2df-42f1-f699-28a0d398b56d"
      },
      "source": [
        "print(\"15\"*4)"
      ],
      "execution_count": 13,
      "outputs": [
        {
          "output_type": "stream",
          "text": [
            "15151515\n"
          ],
          "name": "stdout"
        }
      ]
    }
  ]
}