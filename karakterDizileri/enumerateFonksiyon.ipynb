{
  "nbformat": 4,
  "nbformat_minor": 0,
  "metadata": {
    "colab": {
      "name": "enumerateFonksiyon.ipynb",
      "provenance": [],
      "collapsed_sections": []
    },
    "kernelspec": {
      "name": "python3",
      "display_name": "Python 3"
    }
  },
  "cells": [
    {
      "cell_type": "markdown",
      "metadata": {
        "id": "DKR4qUAjMbTJ",
        "colab_type": "text"
      },
      "source": [
        "# enumerate() Fonksiyonu"
      ]
    },
    {
      "cell_type": "markdown",
      "metadata": {
        "id": "-TWAb0-jMgMj",
        "colab_type": "text"
      },
      "source": [
        "enumerate ingilizcede numaralandırmak anlamına gelir. dolayısıyla enumerate() fosnkiyonu bize numaralandırma işlemi yapar. Bu fonskiyon bize 2 farklı bilgi verir: \n",
        "bir öğe ve bu öğeye ait bir sıra numarası."
      ]
    },
    {
      "cell_type": "markdown",
      "metadata": {
        "id": "oroCXBgiM7fG",
        "colab_type": "text"
      },
      "source": [
        "enumarete() fonksiyonu reversed fonksiyonu gibi sade bir şekilde kullanılamaz"
      ]
    },
    {
      "cell_type": "code",
      "metadata": {
        "id": "SOzlcXHsNCEr",
        "colab_type": "code",
        "colab": {
          "base_uri": "https://localhost:8080/",
          "height": 34
        },
        "outputId": "c22f0e61-25e8-4489-839e-f6494a992364"
      },
      "source": [
        "print(enumerate(\"istihza\")) # bu şekilde kullanılamaz"
      ],
      "execution_count": 1,
      "outputs": [
        {
          "output_type": "stream",
          "text": [
            "<enumerate object at 0x7fcbb555b558>\n"
          ],
          "name": "stdout"
        }
      ]
    },
    {
      "cell_type": "code",
      "metadata": {
        "id": "6nE5E6fHNXdm",
        "colab_type": "code",
        "colab": {
          "base_uri": "https://localhost:8080/",
          "height": 34
        },
        "outputId": "d8a85bb0-6915-44d4-d55a-c505602d74cc"
      },
      "source": [
        "print(*enumerate(\"istihza\"))"
      ],
      "execution_count": 2,
      "outputs": [
        {
          "output_type": "stream",
          "text": [
            "(0, 'i') (1, 's') (2, 't') (3, 'i') (4, 'h') (5, 'z') (6, 'a')\n"
          ],
          "name": "stdout"
        }
      ]
    },
    {
      "cell_type": "code",
      "metadata": {
        "id": "RVWLnCk7NdLV",
        "colab_type": "code",
        "colab": {
          "base_uri": "https://localhost:8080/",
          "height": 34
        },
        "outputId": "54cf87f8-3afa-4270-be66-22c3ed40bf26"
      },
      "source": [
        "print(*enumerate(\"murat\"))"
      ],
      "execution_count": 4,
      "outputs": [
        {
          "output_type": "stream",
          "text": [
            "(0, 'm') (1, 'u') (2, 'r') (3, 'a') (4, 't')\n"
          ],
          "name": "stdout"
        }
      ]
    },
    {
      "cell_type": "markdown",
      "metadata": {
        "id": "kRb7hsfNNnge",
        "colab_type": "text"
      },
      "source": [
        "for döngüsünde de kullanabiliriz"
      ]
    },
    {
      "cell_type": "code",
      "metadata": {
        "id": "9qVypTCCNqyc",
        "colab_type": "code",
        "colab": {
          "base_uri": "https://localhost:8080/",
          "height": 134
        },
        "outputId": "55785c0a-b327-4ce8-b39d-63c3e2414648"
      },
      "source": [
        "for m in enumerate(\"istihza\"):\n",
        "  print(m)"
      ],
      "execution_count": 15,
      "outputs": [
        {
          "output_type": "stream",
          "text": [
            "(0, 'i')\n",
            "(1, 's')\n",
            "(2, 't')\n",
            "(3, 'i')\n",
            "(4, 'h')\n",
            "(5, 'z')\n",
            "(6, 'a')\n"
          ],
          "name": "stdout"
        }
      ]
    },
    {
      "cell_type": "markdown",
      "metadata": {
        "id": "4qgzxfVwN29T",
        "colab_type": "text"
      },
      "source": [
        "Önceki işlemden dir(\"\") komutunu kullanarak metotları sıralamıştık:"
      ]
    },
    {
      "cell_type": "code",
      "metadata": {
        "id": "927Cgx01OBZo",
        "colab_type": "code",
        "colab": {
          "base_uri": "https://localhost:8080/",
          "height": 739
        },
        "outputId": "ef183bbc-3abf-43e2-a52c-c40d8a80bc82"
      },
      "source": [
        "sayac = 0\n",
        "for i in dir(\"\"):\n",
        "  if \"_\" not in i:\n",
        "    sayac += 1\n",
        "    print(i,sayac)"
      ],
      "execution_count": 7,
      "outputs": [
        {
          "output_type": "stream",
          "text": [
            "capitalize 1\n",
            "casefold 2\n",
            "center 3\n",
            "count 4\n",
            "encode 5\n",
            "endswith 6\n",
            "expandtabs 7\n",
            "find 8\n",
            "format 9\n",
            "index 10\n",
            "isalnum 11\n",
            "isalpha 12\n",
            "isdecimal 13\n",
            "isdigit 14\n",
            "isidentifier 15\n",
            "islower 16\n",
            "isnumeric 17\n",
            "isprintable 18\n",
            "isspace 19\n",
            "istitle 20\n",
            "isupper 21\n",
            "join 22\n",
            "ljust 23\n",
            "lower 24\n",
            "lstrip 25\n",
            "maketrans 26\n",
            "partition 27\n",
            "replace 28\n",
            "rfind 29\n",
            "rindex 30\n",
            "rjust 31\n",
            "rpartition 32\n",
            "rsplit 33\n",
            "rstrip 34\n",
            "split 35\n",
            "splitlines 36\n",
            "startswith 37\n",
            "strip 38\n",
            "swapcase 39\n",
            "title 40\n",
            "translate 41\n",
            "upper 42\n",
            "zfill 43\n"
          ],
          "name": "stdout"
        }
      ]
    },
    {
      "cell_type": "markdown",
      "metadata": {
        "id": "m9hy9R5lOPCW",
        "colab_type": "text"
      },
      "source": [
        "Aynı işlemi enumerate() fonksiyonu ile kolayca yazabiliriz:"
      ]
    },
    {
      "cell_type": "code",
      "metadata": {
        "id": "DLjyYXPZOWVp",
        "colab_type": "code",
        "colab": {
          "base_uri": "https://localhost:8080/",
          "height": 1000
        },
        "outputId": "ea477087-5ddf-499e-a2ff-1964c3571f10"
      },
      "source": [
        "for sıra,metot in enumerate(dir(\"\")):\n",
        "  print(sıra,metot)"
      ],
      "execution_count": 8,
      "outputs": [
        {
          "output_type": "stream",
          "text": [
            "0 __add__\n",
            "1 __class__\n",
            "2 __contains__\n",
            "3 __delattr__\n",
            "4 __dir__\n",
            "5 __doc__\n",
            "6 __eq__\n",
            "7 __format__\n",
            "8 __ge__\n",
            "9 __getattribute__\n",
            "10 __getitem__\n",
            "11 __getnewargs__\n",
            "12 __gt__\n",
            "13 __hash__\n",
            "14 __init__\n",
            "15 __init_subclass__\n",
            "16 __iter__\n",
            "17 __le__\n",
            "18 __len__\n",
            "19 __lt__\n",
            "20 __mod__\n",
            "21 __mul__\n",
            "22 __ne__\n",
            "23 __new__\n",
            "24 __reduce__\n",
            "25 __reduce_ex__\n",
            "26 __repr__\n",
            "27 __rmod__\n",
            "28 __rmul__\n",
            "29 __setattr__\n",
            "30 __sizeof__\n",
            "31 __str__\n",
            "32 __subclasshook__\n",
            "33 capitalize\n",
            "34 casefold\n",
            "35 center\n",
            "36 count\n",
            "37 encode\n",
            "38 endswith\n",
            "39 expandtabs\n",
            "40 find\n",
            "41 format\n",
            "42 format_map\n",
            "43 index\n",
            "44 isalnum\n",
            "45 isalpha\n",
            "46 isdecimal\n",
            "47 isdigit\n",
            "48 isidentifier\n",
            "49 islower\n",
            "50 isnumeric\n",
            "51 isprintable\n",
            "52 isspace\n",
            "53 istitle\n",
            "54 isupper\n",
            "55 join\n",
            "56 ljust\n",
            "57 lower\n",
            "58 lstrip\n",
            "59 maketrans\n",
            "60 partition\n",
            "61 replace\n",
            "62 rfind\n",
            "63 rindex\n",
            "64 rjust\n",
            "65 rpartition\n",
            "66 rsplit\n",
            "67 rstrip\n",
            "68 split\n",
            "69 splitlines\n",
            "70 startswith\n",
            "71 strip\n",
            "72 swapcase\n",
            "73 title\n",
            "74 translate\n",
            "75 upper\n",
            "76 zfill\n"
          ],
          "name": "stdout"
        }
      ]
    },
    {
      "cell_type": "markdown",
      "metadata": {
        "id": "Fbsm_HH2Ohp9",
        "colab_type": "text"
      },
      "source": [
        "metot ve sıra numaralarını yerlerini değiştirelim:"
      ]
    },
    {
      "cell_type": "code",
      "metadata": {
        "id": "W56fo0pnOk4u",
        "colab_type": "code",
        "colab": {
          "base_uri": "https://localhost:8080/",
          "height": 1000
        },
        "outputId": "beac6b52-0472-40c0-ade3-dcd1369606eb"
      },
      "source": [
        "for sıra,metot in enumerate(dir(\"\")):\n",
        "  print(metot,sıra)"
      ],
      "execution_count": 10,
      "outputs": [
        {
          "output_type": "stream",
          "text": [
            "__add__ 0\n",
            "__class__ 1\n",
            "__contains__ 2\n",
            "__delattr__ 3\n",
            "__dir__ 4\n",
            "__doc__ 5\n",
            "__eq__ 6\n",
            "__format__ 7\n",
            "__ge__ 8\n",
            "__getattribute__ 9\n",
            "__getitem__ 10\n",
            "__getnewargs__ 11\n",
            "__gt__ 12\n",
            "__hash__ 13\n",
            "__init__ 14\n",
            "__init_subclass__ 15\n",
            "__iter__ 16\n",
            "__le__ 17\n",
            "__len__ 18\n",
            "__lt__ 19\n",
            "__mod__ 20\n",
            "__mul__ 21\n",
            "__ne__ 22\n",
            "__new__ 23\n",
            "__reduce__ 24\n",
            "__reduce_ex__ 25\n",
            "__repr__ 26\n",
            "__rmod__ 27\n",
            "__rmul__ 28\n",
            "__setattr__ 29\n",
            "__sizeof__ 30\n",
            "__str__ 31\n",
            "__subclasshook__ 32\n",
            "capitalize 33\n",
            "casefold 34\n",
            "center 35\n",
            "count 36\n",
            "encode 37\n",
            "endswith 38\n",
            "expandtabs 39\n",
            "find 40\n",
            "format 41\n",
            "format_map 42\n",
            "index 43\n",
            "isalnum 44\n",
            "isalpha 45\n",
            "isdecimal 46\n",
            "isdigit 47\n",
            "isidentifier 48\n",
            "islower 49\n",
            "isnumeric 50\n",
            "isprintable 51\n",
            "isspace 52\n",
            "istitle 53\n",
            "isupper 54\n",
            "join 55\n",
            "ljust 56\n",
            "lower 57\n",
            "lstrip 58\n",
            "maketrans 59\n",
            "partition 60\n",
            "replace 61\n",
            "rfind 62\n",
            "rindex 63\n",
            "rjust 64\n",
            "rpartition 65\n",
            "rsplit 66\n",
            "rstrip 67\n",
            "split 68\n",
            "splitlines 69\n",
            "startswith 70\n",
            "strip 71\n",
            "swapcase 72\n",
            "title 73\n",
            "translate 74\n",
            "upper 75\n",
            "zfill 76\n"
          ],
          "name": "stdout"
        }
      ]
    },
    {
      "cell_type": "code",
      "metadata": {
        "id": "ITXCe213O0dE",
        "colab_type": "code",
        "colab": {
          "base_uri": "https://localhost:8080/",
          "height": 1000
        },
        "outputId": "1aba1141-c3f7-42fe-a719-de2c736fec89"
      },
      "source": [
        "for sıra,metot in enumerate(dir(\"\")):\n",
        "  print(sıra,metot,len(metot))"
      ],
      "execution_count": 11,
      "outputs": [
        {
          "output_type": "stream",
          "text": [
            "0 __add__ 7\n",
            "1 __class__ 9\n",
            "2 __contains__ 12\n",
            "3 __delattr__ 11\n",
            "4 __dir__ 7\n",
            "5 __doc__ 7\n",
            "6 __eq__ 6\n",
            "7 __format__ 10\n",
            "8 __ge__ 6\n",
            "9 __getattribute__ 16\n",
            "10 __getitem__ 11\n",
            "11 __getnewargs__ 14\n",
            "12 __gt__ 6\n",
            "13 __hash__ 8\n",
            "14 __init__ 8\n",
            "15 __init_subclass__ 17\n",
            "16 __iter__ 8\n",
            "17 __le__ 6\n",
            "18 __len__ 7\n",
            "19 __lt__ 6\n",
            "20 __mod__ 7\n",
            "21 __mul__ 7\n",
            "22 __ne__ 6\n",
            "23 __new__ 7\n",
            "24 __reduce__ 10\n",
            "25 __reduce_ex__ 13\n",
            "26 __repr__ 8\n",
            "27 __rmod__ 8\n",
            "28 __rmul__ 8\n",
            "29 __setattr__ 11\n",
            "30 __sizeof__ 10\n",
            "31 __str__ 7\n",
            "32 __subclasshook__ 16\n",
            "33 capitalize 10\n",
            "34 casefold 8\n",
            "35 center 6\n",
            "36 count 5\n",
            "37 encode 6\n",
            "38 endswith 8\n",
            "39 expandtabs 10\n",
            "40 find 4\n",
            "41 format 6\n",
            "42 format_map 10\n",
            "43 index 5\n",
            "44 isalnum 7\n",
            "45 isalpha 7\n",
            "46 isdecimal 9\n",
            "47 isdigit 7\n",
            "48 isidentifier 12\n",
            "49 islower 7\n",
            "50 isnumeric 9\n",
            "51 isprintable 11\n",
            "52 isspace 7\n",
            "53 istitle 7\n",
            "54 isupper 7\n",
            "55 join 4\n",
            "56 ljust 5\n",
            "57 lower 5\n",
            "58 lstrip 6\n",
            "59 maketrans 9\n",
            "60 partition 9\n",
            "61 replace 7\n",
            "62 rfind 5\n",
            "63 rindex 6\n",
            "64 rjust 5\n",
            "65 rpartition 10\n",
            "66 rsplit 6\n",
            "67 rstrip 6\n",
            "68 split 5\n",
            "69 splitlines 10\n",
            "70 startswith 10\n",
            "71 strip 5\n",
            "72 swapcase 8\n",
            "73 title 5\n",
            "74 translate 9\n",
            "75 upper 5\n",
            "76 zfill 5\n"
          ],
          "name": "stdout"
        }
      ]
    },
    {
      "cell_type": "markdown",
      "metadata": {
        "id": "isOVqO-XPEtq",
        "colab_type": "text"
      },
      "source": [
        "Burada dir(\"\") ile elde ettiğimiz metotların sırasını(sıra), metotların adlarını(metot) ve her bir metodun kaç karakterden oluştuğunu ise len(metot) yoluyla çıktı elde ettik."
      ]
    },
    {
      "cell_type": "markdown",
      "metadata": {
        "id": "zkI4I2-KPXvA",
        "colab_type": "text"
      },
      "source": [
        "İstersek fonskiyonun numaralandırmaya hangi sayıdan başlayacağını seçebiliriz"
      ]
    },
    {
      "cell_type": "code",
      "metadata": {
        "id": "s-E0uY5sPd5W",
        "colab_type": "code",
        "colab": {
          "base_uri": "https://localhost:8080/",
          "height": 134
        },
        "outputId": "ec69c99b-c4a5-4352-f5d7-eb0533d4dbd7"
      },
      "source": [
        "for sıra,metot in enumerate(\"istihza\",1):\n",
        "  print(sıra,metot)"
      ],
      "execution_count": 13,
      "outputs": [
        {
          "output_type": "stream",
          "text": [
            "1 i\n",
            "2 s\n",
            "3 t\n",
            "4 i\n",
            "5 h\n",
            "6 z\n",
            "7 a\n"
          ],
          "name": "stdout"
        }
      ]
    }
  ]
}