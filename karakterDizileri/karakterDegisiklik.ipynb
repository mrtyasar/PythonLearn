{
  "nbformat": 4,
  "nbformat_minor": 0,
  "metadata": {
    "colab": {
      "name": "karakterDegisiklik.ipynb",
      "provenance": [],
      "collapsed_sections": []
    },
    "kernelspec": {
      "name": "python3",
      "display_name": "Python 3"
    }
  },
  "cells": [
    {
      "cell_type": "markdown",
      "metadata": {
        "id": "VGcyGWcpwlfZ",
        "colab_type": "text"
      },
      "source": [
        "# Karakter Dizileri Üzerinde Değişiklik Yapmak"
      ]
    },
    {
      "cell_type": "code",
      "metadata": {
        "id": "6FsSK2MX2Zgc",
        "colab_type": "code",
        "colab": {}
      },
      "source": [
        "meyve = \"elma\""
      ],
      "execution_count": 0,
      "outputs": []
    },
    {
      "cell_type": "markdown",
      "metadata": {
        "id": "o1_PlF-n2yjW",
        "colab_type": "text"
      },
      "source": [
        "Amacımız bu karakter dizisinin ilk harfini büyük yapmak"
      ]
    },
    {
      "cell_type": "code",
      "metadata": {
        "id": "K__rPHa421jJ",
        "colab_type": "code",
        "outputId": "bb04b9a7-f0b0-4deb-cbbd-8dcfdf3e8385",
        "colab": {
          "base_uri": "https://localhost:8080/",
          "height": 34
        }
      },
      "source": [
        "print(\"E\"+meyve[1:])"
      ],
      "execution_count": 0,
      "outputs": [
        {
          "output_type": "stream",
          "text": [
            "Elma\n"
          ],
          "name": "stdout"
        }
      ]
    },
    {
      "cell_type": "markdown",
      "metadata": {
        "id": "E6vTmwlt29aD",
        "colab_type": "text"
      },
      "source": [
        "E harfini meyve değişkenin ilk harfi dışında kalan bütün harfleriyle birleştirdik"
      ]
    },
    {
      "cell_type": "code",
      "metadata": {
        "id": "CjiDWLsk3HsR",
        "colab_type": "code",
        "colab": {}
      },
      "source": [
        "meyveOne = \"armut\""
      ],
      "execution_count": 0,
      "outputs": []
    },
    {
      "cell_type": "markdown",
      "metadata": {
        "id": "K5_EFg_Z3NPQ",
        "colab_type": "text"
      },
      "source": [
        "İlk iki harfini büyük yazalım"
      ]
    },
    {
      "cell_type": "code",
      "metadata": {
        "id": "nRw_A4EE3P6l",
        "colab_type": "code",
        "outputId": "4dd5acac-4089-43fa-c88a-dbfe44276165",
        "colab": {
          "base_uri": "https://localhost:8080/",
          "height": 34
        }
      },
      "source": [
        "print(\"AR\"+meyveOne[2:])"
      ],
      "execution_count": 0,
      "outputs": [
        {
          "output_type": "stream",
          "text": [
            "ARmut\n"
          ],
          "name": "stdout"
        }
      ]
    },
    {
      "cell_type": "markdown",
      "metadata": {
        "id": "teyjXmgn3bPJ",
        "colab_type": "text"
      },
      "source": [
        "Elimizde dört adet internet adresi olsun"
      ]
    },
    {
      "cell_type": "code",
      "metadata": {
        "id": "a6rR0lMq3ePv",
        "colab_type": "code",
        "colab": {}
      },
      "source": [
        "site1 = \"www.google.com\"\n",
        "site2 = \"www.istihza.com\"\n",
        "site3 = \"www.yahoo.com\"\n",
        "site4 = \"www.gnu.org\""
      ],
      "execution_count": 0,
      "outputs": []
    },
    {
      "cell_type": "markdown",
      "metadata": {
        "id": "A_lu2aCo3qgm",
        "colab_type": "text"
      },
      "source": [
        "Bu sitelerin her birinin başına https:// eklemek için yine karakter dizisi birleştirme işleminden yararlanabiliriz"
      ]
    },
    {
      "cell_type": "code",
      "metadata": {
        "id": "WiFaRwxu3ykH",
        "colab_type": "code",
        "outputId": "a36ab197-218b-4ea7-c436-b6bf35e145fe",
        "colab": {
          "base_uri": "https://localhost:8080/",
          "height": 84
        }
      },
      "source": [
        "for i in site1,site2,site3,site4:\n",
        "  print(\"https://\",i,sep=\"\")"
      ],
      "execution_count": 0,
      "outputs": [
        {
          "output_type": "stream",
          "text": [
            "https://www.google.com\n",
            "https://www.istihza.com\n",
            "https://www.yahoo.com\n",
            "https://www.gnu.org\n"
          ],
          "name": "stdout"
        }
      ]
    },
    {
      "cell_type": "markdown",
      "metadata": {
        "id": "PVWM578v4BVH",
        "colab_type": "text"
      },
      "source": [
        "www. kısımlarını ise karakter dizisi birleştirme işlemleri ile birlikte dilimleme yöntemini de kullanabiliriz"
      ]
    },
    {
      "cell_type": "code",
      "metadata": {
        "id": "hHuKM9me4J9_",
        "colab_type": "code",
        "outputId": "1ed95666-93b8-4494-8a32-5614e227077e",
        "colab": {
          "base_uri": "https://localhost:8080/",
          "height": 84
        }
      },
      "source": [
        "for i in site1,site2,site3,site4:\n",
        "  print(\"https://\",i[4:],sep=\"\")"
      ],
      "execution_count": 0,
      "outputs": [
        {
          "output_type": "stream",
          "text": [
            "https://google.com\n",
            "https://istihza.com\n",
            "https://yahoo.com\n",
            "https://gnu.org\n"
          ],
          "name": "stdout"
        }
      ]
    },
    {
      "cell_type": "markdown",
      "metadata": {
        "id": "K0tH49Vd4bZG",
        "colab_type": "text"
      },
      "source": [
        "Burada dikkat edilmesi gereken bir noktada bu işlemlerin kalıcı olarak kalmamasıdır. Örneğin:"
      ]
    },
    {
      "cell_type": "code",
      "metadata": {
        "id": "T7E7_-um4k2g",
        "colab_type": "code",
        "outputId": "aa2b024c-f8f7-4ce8-c7d0-834dce8f41fe",
        "colab": {
          "base_uri": "https://localhost:8080/",
          "height": 34
        }
      },
      "source": [
        "kardiz = \"istihza\"\n",
        "print(\"İ\"+kardiz[1:])"
      ],
      "execution_count": 0,
      "outputs": [
        {
          "output_type": "stream",
          "text": [
            "İstihza\n"
          ],
          "name": "stdout"
        }
      ]
    },
    {
      "cell_type": "markdown",
      "metadata": {
        "id": "ghFvJTtc4yKK",
        "colab_type": "text"
      },
      "source": [
        "Bakalım işlemimiz kalıcı bir etki yapmış mı:"
      ]
    },
    {
      "cell_type": "code",
      "metadata": {
        "id": "5UsPO8nd41T9",
        "colab_type": "code",
        "outputId": "6210b920-87a3-40d0-e0dc-6f94e7be9cfa",
        "colab": {
          "base_uri": "https://localhost:8080/",
          "height": 34
        }
      },
      "source": [
        "print(kardiz)"
      ],
      "execution_count": 0,
      "outputs": [
        {
          "output_type": "stream",
          "text": [
            "istihza\n"
          ],
          "name": "stdout"
        }
      ]
    },
    {
      "cell_type": "markdown",
      "metadata": {
        "id": "hnyvXWX65FD3",
        "colab_type": "text"
      },
      "source": [
        "# Bunun sebebi nedir?"
      ]
    },
    {
      "cell_type": "markdown",
      "metadata": {
        "id": "JF0ImLqW5I2W",
        "colab_type": "text"
      },
      "source": [
        "Karakter dizilerinin değiştirilemeyen( (immutable) bir veri tipi olmasıdır.\n",
        "Python'da iki tür veri tipi bulunur: Değiştirelemeyen veri tipleri(immutable datatypes) ve değiştirebilen veri tipleri(mutable datatypes)\n",
        "yani sayılar ve karakter dizileri değiştirelemeyen veri tipidir.\n",
        "Peki işlemin kalıcı hale getirmek için ne yapılabilir:\n",
        "karakter dizisini yeniden tanımlamaktır."
      ]
    },
    {
      "cell_type": "code",
      "metadata": {
        "id": "5imAYbDX50Ul",
        "colab_type": "code",
        "colab": {
          "base_uri": "https://localhost:8080/",
          "height": 34
        },
        "outputId": "8fa535c5-f58f-4c69-ecef-f787dcc3737d"
      },
      "source": [
        "kardiz = \"İ\"+kardiz[1:]\n",
        "print(kardiz)"
      ],
      "execution_count": 16,
      "outputs": [
        {
          "output_type": "stream",
          "text": [
            "İstihza\n"
          ],
          "name": "stdout"
        }
      ]
    },
    {
      "cell_type": "markdown",
      "metadata": {
        "id": "GfuYCMlM58_S",
        "colab_type": "text"
      },
      "source": [
        "Burada kardiz i tekrardan tanmlamıyoruz\n",
        "aynı adı taşıyan yeni değişken tanımlıyoruz.\n",
        "Bunu teyit etmek için ise id() fonksiyonundan yararlanabiliriz"
      ]
    },
    {
      "cell_type": "code",
      "metadata": {
        "id": "C0yimcbv6KHh",
        "colab_type": "code",
        "colab": {
          "base_uri": "https://localhost:8080/",
          "height": 50
        },
        "outputId": "82997da6-983d-4fdd-f18f-133f5c9a903c"
      },
      "source": [
        "kardiz = \"istihza\"\n",
        "print(id(kardiz))\n",
        "\n",
        "kardiz = \"İ\"+kardiz[1:]\n",
        "print(id(kardiz))"
      ],
      "execution_count": 18,
      "outputs": [
        {
          "output_type": "stream",
          "text": [
            "140399720617272\n",
            "140399719905392\n"
          ],
          "name": "stdout"
        }
      ]
    },
    {
      "cell_type": "markdown",
      "metadata": {
        "id": "IcMOUYmG6ZcU",
        "colab_type": "text"
      },
      "source": [
        "Görüldüğü gibi iki değişken farklı kimliklere sahiptir\n",
        "bu da demek oluyor ki bu iki değişken bellek içinde farklı adreslerde tutuluyor.\n",
        "daha doğrusu ikinci kardiz ilk kardizi silip üzerine yazılıyor."
      ]
    },
    {
      "cell_type": "markdown",
      "metadata": {
        "id": "HN6FeWyU666U",
        "colab_type": "text"
      },
      "source": [
        "Karakter dizisinin ortasındaki kısmı değiştrelim:"
      ]
    },
    {
      "cell_type": "code",
      "metadata": {
        "id": "_YSFAWWz6_w9",
        "colab_type": "code",
        "colab": {
          "base_uri": "https://localhost:8080/",
          "height": 34
        },
        "outputId": "2bb36080-be8f-4958-d892-62b1f62f2699"
      },
      "source": [
        "kardiz = \"istihza\"\n",
        "kardiz = kardiz[:3] + \"İH\"+kardiz[5:]\n",
        "print(kardiz)"
      ],
      "execution_count": 19,
      "outputs": [
        {
          "output_type": "stream",
          "text": [
            "istİHza\n"
          ],
          "name": "stdout"
        }
      ]
    },
    {
      "cell_type": "code",
      "metadata": {
        "id": "WZ7BKfkB76yo",
        "colab_type": "code",
        "colab": {
          "base_uri": "https://localhost:8080/",
          "height": 34
        },
        "outputId": "8a784c24-f15c-42fb-9394-a9d0d71148f3"
      },
      "source": [
        "name = \"Murat\"\n",
        "name = name[:2] + \"RA\"+ name[4:]\n",
        "print(name)"
      ],
      "execution_count": 22,
      "outputs": [
        {
          "output_type": "stream",
          "text": [
            "MuRAt\n"
          ],
          "name": "stdout"
        }
      ]
    },
    {
      "cell_type": "markdown",
      "metadata": {
        "id": "uUwJkSjH8oDe",
        "colab_type": "text"
      },
      "source": [
        "Sesli sessiz harfleri birbirinden ayıran bir program yapalım\n",
        "Mesala istanbul kelimesi i a u harflerini bir yerde s t n b I harflerini ise ayrı bir yerde toplayalım"
      ]
    },
    {
      "cell_type": "code",
      "metadata": {
        "id": "zdfDM3re86gm",
        "colab_type": "code",
        "colab": {
          "base_uri": "https://localhost:8080/",
          "height": 50
        },
        "outputId": "ea8a3079-e218-45b5-90be-af746e03be41"
      },
      "source": [
        "sesliHarfler = \"aeıioöuü\"\n",
        "sessizHarfler = \"bcçdfgğhjklmnprsştvyz\"\n",
        "\n",
        "sesliler = \"\"\n",
        "sessizler = \"\"\n",
        "\n",
        "kelime = \"İstanbul\"\n",
        "for i in kelime:\n",
        "  if i in sesliHarfler:\n",
        "    sesliler+= i\n",
        "  else:\n",
        "    sessizler += i\n",
        "print(\"Sesli harfler: \", sesliler)\n",
        "print(\"Sessiz harfler: \",sessizler\"\")     "
      ],
      "execution_count": 23,
      "outputs": [
        {
          "output_type": "stream",
          "text": [
            "Sesli harfler:  au\n",
            "Sessiz harfler:  İstnbl\n"
          ],
          "name": "stdout"
        }
      ]
    }
  ]
}