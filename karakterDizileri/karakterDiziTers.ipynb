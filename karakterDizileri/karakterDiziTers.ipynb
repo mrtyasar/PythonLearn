{
  "nbformat": 4,
  "nbformat_minor": 0,
  "metadata": {
    "colab": {
      "name": "karakterDiziTers.ipynb",
      "provenance": [],
      "collapsed_sections": []
    },
    "kernelspec": {
      "name": "python3",
      "display_name": "Python 3"
    }
  },
  "cells": [
    {
      "cell_type": "markdown",
      "metadata": {
        "id": "4owDmzZvB6Cg",
        "colab_type": "text"
      },
      "source": [
        "Karakter Dizileirini Ters Çevirmek"
      ]
    },
    {
      "cell_type": "markdown",
      "metadata": {
        "id": "Udwgz0-xB_Up",
        "colab_type": "text"
      },
      "source": [
        "Sana Gül Bahçesi Vadetmedim cümlesini tersten yazdıralım:"
      ]
    },
    {
      "cell_type": "code",
      "metadata": {
        "id": "dyeQjsi-CIz7",
        "colab_type": "code",
        "colab": {
          "base_uri": "https://localhost:8080/",
          "height": 33
        },
        "outputId": "0fff53e6-88c2-4aa8-bd38-6871f6f6a171"
      },
      "source": [
        "kardiz = \"Sana Gül bahçesi Vadetmedim\"\n",
        "print(kardiz[::-1])"
      ],
      "execution_count": 1,
      "outputs": [
        {
          "output_type": "stream",
          "text": [
            "midemtedaV iseçhab lüG anaS\n"
          ],
          "name": "stdout"
        }
      ]
    },
    {
      "cell_type": "markdown",
      "metadata": {
        "id": "jFAAOo4kCc_o",
        "colab_type": "text"
      },
      "source": [
        "sadece Gül kelimesini tersten yazdıralım:"
      ]
    },
    {
      "cell_type": "code",
      "metadata": {
        "id": "6nK5_OtpCfrU",
        "colab_type": "code",
        "colab": {
          "base_uri": "https://localhost:8080/",
          "height": 33
        },
        "outputId": "0c8bf7bb-83ce-4c7e-f88f-043fabd0be8f"
      },
      "source": [
        "print(kardiz[7:4:-1])"
      ],
      "execution_count": 2,
      "outputs": [
        {
          "output_type": "stream",
          "text": [
            "lüG\n"
          ],
          "name": "stdout"
        }
      ]
    },
    {
      "cell_type": "markdown",
      "metadata": {
        "id": "1V09IKoWCk7s",
        "colab_type": "text"
      },
      "source": [
        "Formülümüz: "
      ]
    },
    {
      "cell_type": "markdown",
      "metadata": {
        "id": "K42_8MloCphW",
        "colab_type": "text"
      },
      "source": [
        "kardiz[ilkKarakter:sonKarakter:atlamaSayısı]\n",
        "\n",
        "örnek:"
      ]
    },
    {
      "cell_type": "code",
      "metadata": {
        "id": "yqFnMyBFC0td",
        "colab_type": "code",
        "colab": {
          "base_uri": "https://localhost:8080/",
          "height": 33
        },
        "outputId": "2435c8b9-6f57-4a95-b4e3-8d3cfc9e2191"
      },
      "source": [
        "kardiz = \"İstanbul\"\n",
        "print(kardiz[0:8:1])"
      ],
      "execution_count": 3,
      "outputs": [
        {
          "output_type": "stream",
          "text": [
            "İstanbul\n"
          ],
          "name": "stdout"
        }
      ]
    },
    {
      "cell_type": "code",
      "metadata": {
        "id": "yMCSKocUDCfp",
        "colab_type": "code",
        "colab": {
          "base_uri": "https://localhost:8080/",
          "height": 33
        },
        "outputId": "17060a9f-a4fc-41ba-dc46-595914a8cf1a"
      },
      "source": [
        "print(kardiz[0:8:2])\n",
        "#ikişer ikişer atlayarak yazdırdık"
      ],
      "execution_count": 4,
      "outputs": [
        {
          "output_type": "stream",
          "text": [
            "İtnu\n"
          ],
          "name": "stdout"
        }
      ]
    },
    {
      "cell_type": "markdown",
      "metadata": {
        "id": "syiVlG9ADQGT",
        "colab_type": "text"
      },
      "source": [
        "Şu şekilde de yazabilirdik:"
      ]
    },
    {
      "cell_type": "code",
      "metadata": {
        "id": "MtJWnGdhDi-l",
        "colab_type": "code",
        "colab": {
          "base_uri": "https://localhost:8080/",
          "height": 33
        },
        "outputId": "e33af9b6-ba5a-42c6-dc96-fb9bda7fdbc6"
      },
      "source": [
        "print(kardiz[::2])"
      ],
      "execution_count": 5,
      "outputs": [
        {
          "output_type": "stream",
          "text": [
            "İtnu\n"
          ],
          "name": "stdout"
        }
      ]
    },
    {
      "cell_type": "markdown",
      "metadata": {
        "id": "pvGdM2LvDoni",
        "colab_type": "text"
      },
      "source": [
        "Tersten yazıyorsak eksi değerli bir atlama sayısı yazmamız gerekiyor"
      ]
    },
    {
      "cell_type": "code",
      "metadata": {
        "id": "_dxL9uC3D3aw",
        "colab_type": "code",
        "colab": {
          "base_uri": "https://localhost:8080/",
          "height": 50
        },
        "outputId": "8531da47-3c3a-48d7-a508-c5f69adede8a"
      },
      "source": [
        "print(kardiz[::-1])\n",
        "print(kardiz[::-2])"
      ],
      "execution_count": 7,
      "outputs": [
        {
          "output_type": "stream",
          "text": [
            "lubnatsİ\n",
            "lbas\n"
          ],
          "name": "stdout"
        }
      ]
    },
    {
      "cell_type": "markdown",
      "metadata": {
        "id": "jRVNX73gEANI",
        "colab_type": "text"
      },
      "source": [
        "Bu işlemi istersek reversed() adlı fonskiyonla yazabiliriz\n",
        "\n",
        "reversed() fonksiyonu range fonskiyonu gibi for döngüsüyle kullanabiliriz sadece:"
      ]
    },
    {
      "cell_type": "code",
      "metadata": {
        "id": "joX5wBPfEvlr",
        "colab_type": "code",
        "colab": {
          "base_uri": "https://localhost:8080/",
          "height": 184
        },
        "outputId": "11db2974-c055-4c7e-a2e2-c08a1dbffee0"
      },
      "source": [
        "for i in range(10):\n",
        "  print(i)"
      ],
      "execution_count": 8,
      "outputs": [
        {
          "output_type": "stream",
          "text": [
            "0\n",
            "1\n",
            "2\n",
            "3\n",
            "4\n",
            "5\n",
            "6\n",
            "7\n",
            "8\n",
            "9\n"
          ],
          "name": "stdout"
        }
      ]
    },
    {
      "cell_type": "markdown",
      "metadata": {
        "id": "pu-lK-jrE5Cm",
        "colab_type": "text"
      },
      "source": [
        "Veya:"
      ]
    },
    {
      "cell_type": "code",
      "metadata": {
        "id": "UmPrA2jbE7vE",
        "colab_type": "code",
        "colab": {
          "base_uri": "https://localhost:8080/",
          "height": 33
        },
        "outputId": "bfcabab3-fbd1-4716-f2d8-cb45c0781936"
      },
      "source": [
        "print(*range(10))"
      ],
      "execution_count": 9,
      "outputs": [
        {
          "output_type": "stream",
          "text": [
            "0 1 2 3 4 5 6 7 8 9\n"
          ],
          "name": "stdout"
        }
      ]
    },
    {
      "cell_type": "markdown",
      "metadata": {
        "id": "DgJi2DOIE_rG",
        "colab_type": "text"
      },
      "source": [
        "Aynı durum reversed() fonskiyonu içinde geçerlidir:\n",
        "yani reversed() fonksiyonu sade bir şekilde kullanamayız"
      ]
    },
    {
      "cell_type": "code",
      "metadata": {
        "id": "wfacmHxlFKSr",
        "colab_type": "code",
        "colab": {
          "base_uri": "https://localhost:8080/",
          "height": 33
        },
        "outputId": "f3884f6a-6572-4ace-fc73-2e182d7d9b67"
      },
      "source": [
        "for m in reversed(\"Sana Gül Bahçesi Vadetmedim.\"):\n",
        "  print(m,end=\"\")"
      ],
      "execution_count": 15,
      "outputs": [
        {
          "output_type": "stream",
          "text": [
            ".midemtedaV iseçhaB lüG anaS"
          ],
          "name": "stdout"
        }
      ]
    },
    {
      "cell_type": "markdown",
      "metadata": {
        "id": "7PTaZfXOFg1M",
        "colab_type": "text"
      },
      "source": [
        "Veya:"
      ]
    },
    {
      "cell_type": "code",
      "metadata": {
        "id": "omawVTGaFiMF",
        "colab_type": "code",
        "colab": {
          "base_uri": "https://localhost:8080/",
          "height": 33
        },
        "outputId": "5afc3769-4db5-427a-fc85-a3c59f0c9788"
      },
      "source": [
        "print(*reversed(\"Sana Gül Bahçesi Vadetmedim\"),sep=\"\")"
      ],
      "execution_count": 12,
      "outputs": [
        {
          "output_type": "stream",
          "text": [
            "midemtedaV iseçhaB lüG anaS\n"
          ],
          "name": "stdout"
        }
      ]
    }
  ]
}