{
  "nbformat": 4,
  "nbformat_minor": 0,
  "metadata": {
    "colab": {
      "name": "karakterErismek.ipynb",
      "provenance": []
    },
    "kernelspec": {
      "name": "python3",
      "display_name": "Python 3"
    }
  },
  "cells": [
    {
      "cell_type": "markdown",
      "metadata": {
        "id": "lLF1pv2IgSfG",
        "colab_type": "text"
      },
      "source": [
        "# Karakter Dizilerinin Öğelerine Erişmek"
      ]
    },
    {
      "cell_type": "markdown",
      "metadata": {
        "id": "GGdZx1FYgYpt",
        "colab_type": "text"
      },
      "source": [
        "karakter dizisine erişmek için atandığı değişkenin adını kullanmak yeterlidir"
      ]
    },
    {
      "cell_type": "code",
      "metadata": {
        "id": "0nXN4mkCgio7",
        "colab_type": "code",
        "outputId": "04484984-8820-45cd-d7fd-7326a007bc53",
        "colab": {
          "base_uri": "https://localhost:8080/",
          "height": 34
        }
      },
      "source": [
        "nesne = \"Karakter dizisi Örneği\"\n",
        "print(nesne)"
      ],
      "execution_count": 0,
      "outputs": [
        {
          "output_type": "stream",
          "text": [
            "Karakter dizisi Örneği\n"
          ],
          "name": "stdout"
        }
      ]
    },
    {
      "cell_type": "markdown",
      "metadata": {
        "id": "KQRMwkY0gs-1",
        "colab_type": "text"
      },
      "source": [
        "input() fonksiyonu da karakter dizisi üretir"
      ]
    },
    {
      "cell_type": "code",
      "metadata": {
        "id": "R-CX4SfhgwUw",
        "colab_type": "code",
        "outputId": "1c2bd2e8-c420-48b1-fd76-5b1b553357b3",
        "colab": {
          "base_uri": "https://localhost:8080/",
          "height": 50
        }
      },
      "source": [
        "veri = input(\"Herhangi bir şey giriniz: \")\n",
        "print(veri)"
      ],
      "execution_count": 0,
      "outputs": [
        {
          "output_type": "stream",
          "text": [
            "Herhangi bir şey giriniz: l\n",
            "l\n"
          ],
          "name": "stdout"
        }
      ]
    },
    {
      "cell_type": "markdown",
      "metadata": {
        "id": "e-UjAAYKg_VP",
        "colab_type": "text"
      },
      "source": [
        "karakter dizisini for döngüsünün içine alarak her bir öğeye ayrı ayrı erişebiliriz:"
      ]
    },
    {
      "cell_type": "code",
      "metadata": {
        "id": "r_7gbM7whGyz",
        "colab_type": "code",
        "outputId": "9480795b-6dc0-4631-c1ea-e3f6ded69e45",
        "colab": {
          "base_uri": "https://localhost:8080/",
          "height": 386
        }
      },
      "source": [
        "for karakter in nesne:\n",
        "  print(karakter)"
      ],
      "execution_count": 0,
      "outputs": [
        {
          "output_type": "stream",
          "text": [
            "K\n",
            "a\n",
            "r\n",
            "a\n",
            "k\n",
            "t\n",
            "e\n",
            "r\n",
            " \n",
            "d\n",
            "i\n",
            "z\n",
            "i\n",
            "s\n",
            "i\n",
            " \n",
            "Ö\n",
            "r\n",
            "n\n",
            "e\n",
            "ğ\n",
            "i\n"
          ],
          "name": "stdout"
        }
      ]
    },
    {
      "cell_type": "markdown",
      "metadata": {
        "id": "hbYPAw7NhMGR",
        "colab_type": "text"
      },
      "source": [
        "aynı işlemi şu şekilde yazabilirdik:"
      ]
    },
    {
      "cell_type": "code",
      "metadata": {
        "id": "DuyK06eLhPVZ",
        "colab_type": "code",
        "outputId": "2106829e-0afb-4f30-fc4d-c61d6c92da4e",
        "colab": {
          "base_uri": "https://localhost:8080/",
          "height": 34
        }
      },
      "source": [
        "print(*nesne)"
      ],
      "execution_count": 0,
      "outputs": [
        {
          "output_type": "stream",
          "text": [
            "K a r a k t e r   d i z i s i   Ö r n e ğ i\n"
          ],
          "name": "stdout"
        }
      ]
    },
    {
      "cell_type": "markdown",
      "metadata": {
        "id": "iAr2BZDxhUfG",
        "colab_type": "text"
      },
      "source": [
        "Matematiksel işlemler yapalım\n",
        "\n",
        "string ifadelerle matematiksel işlemler yapamayacağımız için işlemden önce karakter dizisini int veri tipine dönüştürmemiz gerekir"
      ]
    },
    {
      "cell_type": "code",
      "metadata": {
        "id": "hXDmZKRShrS3",
        "colab_type": "code",
        "outputId": "71a3d048-514e-40ca-b541-19a867b49eb7",
        "colab": {
          "base_uri": "https://localhost:8080/",
          "height": 67
        }
      },
      "source": [
        "nesneOne = \"123\"\n",
        "for m in nesneOne:\n",
        "  print(int(m)*2)"
      ],
      "execution_count": 0,
      "outputs": [
        {
          "output_type": "stream",
          "text": [
            "2\n",
            "4\n",
            "6\n"
          ],
          "name": "stdout"
        }
      ]
    },
    {
      "cell_type": "markdown",
      "metadata": {
        "id": "Y4A6WYQhh0U3",
        "colab_type": "text"
      },
      "source": [
        "ayrı ayrı her bir öğeyi int değerine çevirip ayrı ayrı 2 ile çarptık"
      ]
    },
    {
      "cell_type": "markdown",
      "metadata": {
        "id": "IUjNBJKBiPqI",
        "colab_type": "text"
      },
      "source": [
        "karakter dizilerin öğelerine indeks sayılarına göre ulaşırız\n",
        "pythonda indeks sayıları 0'dan başlar"
      ]
    },
    {
      "cell_type": "code",
      "metadata": {
        "id": "Bw7EJLB-iaFW",
        "colab_type": "code",
        "outputId": "7552069d-a4d5-472a-d6de-1dbf4838c5b5",
        "colab": {
          "base_uri": "https://localhost:8080/",
          "height": 34
        }
      },
      "source": [
        "kardiz = \"Python\"\n",
        "print(kardiz[2])"
      ],
      "execution_count": 0,
      "outputs": [
        {
          "output_type": "stream",
          "text": [
            "t\n"
          ],
          "name": "stdout"
        }
      ]
    },
    {
      "cell_type": "markdown",
      "metadata": {
        "id": "wWfrne9Kihnn",
        "colab_type": "text"
      },
      "source": [
        "sadece bir sayıyı çarpmak istiyorsak indeks sayı kavramından faydalanırız"
      ]
    },
    {
      "cell_type": "code",
      "metadata": {
        "id": "MsefvUi8iop6",
        "colab_type": "code",
        "outputId": "729b310a-61df-4874-d0b5-00b9959feded",
        "colab": {
          "base_uri": "https://localhost:8080/",
          "height": 34
        }
      },
      "source": [
        "print(int(nesneOne[1])*2)"
      ],
      "execution_count": 0,
      "outputs": [
        {
          "output_type": "stream",
          "text": [
            "4\n"
          ],
          "name": "stdout"
        }
      ]
    },
    {
      "cell_type": "markdown",
      "metadata": {
        "id": "_ZyGfBdjwqVT",
        "colab_type": "text"
      },
      "source": [
        "Eğer karakter dizimiz uzun ise şu taktiği kullanabiliriz:\n",
        "\n",
        "indeks sayıları eleman sayısından her zaman bir küçük olur:"
      ]
    },
    {
      "cell_type": "code",
      "metadata": {
        "id": "0i-df8zqw-7n",
        "colab_type": "code",
        "colab": {
          "base_uri": "https://localhost:8080/",
          "height": 50
        },
        "outputId": "243575b2-61d5-4700-e062-f034aca53474"
      },
      "source": [
        "newKardiz = \"istihza\"\n",
        "print(len(newKardiz))\n",
        "print(newKardiz[6])"
      ],
      "execution_count": 10,
      "outputs": [
        {
          "output_type": "stream",
          "text": [
            "7\n",
            "a\n"
          ],
          "name": "stdout"
        }
      ]
    },
    {
      "cell_type": "markdown",
      "metadata": {
        "id": "vkw831dyxJ9U",
        "colab_type": "text"
      },
      "source": [
        "en sondaki elemana ulaşmak için bir başka taktik:"
      ]
    },
    {
      "cell_type": "code",
      "metadata": {
        "id": "mA5hHyGNxTTL",
        "colab_type": "code",
        "colab": {
          "base_uri": "https://localhost:8080/",
          "height": 50
        },
        "outputId": "21dca26c-b31d-4c2f-9fd1-2fe3003388d6"
      },
      "source": [
        "print(newKardiz[-1])\n",
        "print(newKardiz[-2])"
      ],
      "execution_count": 12,
      "outputs": [
        {
          "output_type": "stream",
          "text": [
            "a\n",
            "z\n"
          ],
          "name": "stdout"
        }
      ]
    },
    {
      "cell_type": "markdown",
      "metadata": {
        "id": "ENYJBWAcxetk",
        "colab_type": "text"
      },
      "source": [
        "olmayan bir indeksi yazarsak IndexError hatası alırız."
      ]
    },
    {
      "cell_type": "markdown",
      "metadata": {
        "id": "ZVGNvULAHuPt",
        "colab_type": "text"
      },
      "source": [
        "range fonksiyonla öğelerin tümüne tek tek ulaşabiliriz"
      ]
    },
    {
      "cell_type": "code",
      "metadata": {
        "id": "BDqoD41qH2yg",
        "colab_type": "code",
        "colab": {
          "base_uri": "https://localhost:8080/",
          "height": 134
        },
        "outputId": "4e3f96bc-a4bd-402a-e284-5e168dbc3bcb"
      },
      "source": [
        "for i in range(7):\n",
        "  print(newKardiz[i])"
      ],
      "execution_count": 13,
      "outputs": [
        {
          "output_type": "stream",
          "text": [
            "i\n",
            "s\n",
            "t\n",
            "i\n",
            "h\n",
            "z\n",
            "a\n"
          ],
          "name": "stdout"
        }
      ]
    },
    {
      "cell_type": "markdown",
      "metadata": {
        "id": "_qPAaax6IPaA",
        "colab_type": "text"
      },
      "source": [
        "peki ya karakter sayısını bilmiyorsak ne yapmalıyız:"
      ]
    },
    {
      "cell_type": "code",
      "metadata": {
        "id": "86k7aWBVIXs_",
        "colab_type": "code",
        "colab": {
          "base_uri": "https://localhost:8080/",
          "height": 134
        },
        "outputId": "72bd265d-85ca-4271-bd0a-a187caf828fc"
      },
      "source": [
        "for oneKarakter in range(len(newKardiz)):\n",
        "  print(newKardiz[oneKarakter])"
      ],
      "execution_count": 14,
      "outputs": [
        {
          "output_type": "stream",
          "text": [
            "i\n",
            "s\n",
            "t\n",
            "i\n",
            "h\n",
            "z\n",
            "a\n"
          ],
          "name": "stdout"
        }
      ]
    },
    {
      "cell_type": "code",
      "metadata": {
        "id": "KBJSmJrtIhwb",
        "colab_type": "code",
        "colab": {
          "base_uri": "https://localhost:8080/",
          "height": 100
        },
        "outputId": "91cb73e9-1f3e-48de-aa01-d9db642ed68a"
      },
      "source": [
        "for u in range(5):\n",
        "  print(newKardiz[u])"
      ],
      "execution_count": 15,
      "outputs": [
        {
          "output_type": "stream",
          "text": [
            "i\n",
            "s\n",
            "t\n",
            "i\n",
            "h\n"
          ],
          "name": "stdout"
        }
      ]
    },
    {
      "cell_type": "markdown",
      "metadata": {
        "id": "PpdDmWKtIrz5",
        "colab_type": "text"
      },
      "source": [
        "kullanıcıya ismininizin 1. harfi.. çıktısını verelim"
      ]
    },
    {
      "cell_type": "code",
      "metadata": {
        "id": "-SBPD7mxI9-s",
        "colab_type": "code",
        "colab": {
          "base_uri": "https://localhost:8080/",
          "height": 100
        },
        "outputId": "bef95337-6d09-46b1-94c5-0d7ad8911f2b"
      },
      "source": [
        "name = input(\"İsminizi giriniz: \")\n",
        "for m in range(len(name)):\n",
        "  print(\"isminizin {}. harfi: {}\".format(m,name[m]))"
      ],
      "execution_count": 18,
      "outputs": [
        {
          "output_type": "stream",
          "text": [
            "İsminizi giriniz: name\n",
            "isminizin 0. harfi: n\n",
            "isminizin 1. harfi: a\n",
            "isminizin 2. harfi: m\n",
            "isminizin 3. harfi: e\n"
          ],
          "name": "stdout"
        }
      ]
    },
    {
      "cell_type": "markdown",
      "metadata": {
        "id": "EryIpXTZJg1P",
        "colab_type": "text"
      },
      "source": [
        "kullanıcıya 0. harfiniz bu demek iyi bir izlenim bırakmaz, bu yüzden yukarıdaki kodumuzu şu şekilde yazabiliriz:"
      ]
    },
    {
      "cell_type": "code",
      "metadata": {
        "id": "kFME9aqbJugQ",
        "colab_type": "code",
        "colab": {
          "base_uri": "https://localhost:8080/",
          "height": 117
        },
        "outputId": "c28ede55-c088-4614-cca5-7b2d8f1a1f3a"
      },
      "source": [
        "isim = input(\"İsminizi giriniz: \")\n",
        "for r in range(len(isim)):\n",
        "  print(\"İsminizin {}. harfi: {}\".format(r+1,isim[r]))"
      ],
      "execution_count": 19,
      "outputs": [
        {
          "output_type": "stream",
          "text": [
            "İsminizi giriniz: murat\n",
            "İsminizin 1. harfi: m\n",
            "İsminizin 2. harfi: u\n",
            "İsminizin 3. harfi: r\n",
            "İsminizin 4. harfi: a\n",
            "İsminizin 5. harfi: t\n"
          ],
          "name": "stdout"
        }
      ]
    }
  ]
}