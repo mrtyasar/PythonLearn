{
  "nbformat": 4,
  "nbformat_minor": 0,
  "metadata": {
    "colab": {
      "name": "karakterDilimlemek.ipynb",
      "provenance": [],
      "collapsed_sections": [],
      "toc_visible": true
    },
    "kernelspec": {
      "name": "python3",
      "display_name": "Python 3"
    }
  },
  "cells": [
    {
      "cell_type": "markdown",
      "metadata": {
        "id": "wWOHBUB-ooMo",
        "colab_type": "text"
      },
      "source": [
        "KARAKTER DİZİLERİNİ DİLİMLEMEK"
      ]
    },
    {
      "cell_type": "markdown",
      "metadata": {
        "id": "nsaLFQQcpR7x",
        "colab_type": "text"
      },
      "source": [
        "Karakter dizilerinin indeks numaralarına göre belli yerlerini almaya dilimleme\n",
        "denir."
      ]
    },
    {
      "cell_type": "code",
      "metadata": {
        "id": "wgLwKc8FpdXg",
        "colab_type": "code",
        "colab": {}
      },
      "source": [
        "site = \"www.istihza.com\"\n",
        "print(site[4:11]) #istihza\n",
        "print(site[12:16]) #com \n",
        "print(site[0:3])#www"
      ],
      "execution_count": 0,
      "outputs": []
    },
    {
      "cell_type": "markdown",
      "metadata": {
        "id": "avXYkS1zp9ci",
        "colab_type": "text"
      },
      "source": [
        "#kısaca formül:\n",
        "\n",
        "karakterDizisi[alıncakÖgeninİlkSırası:alınacakÖgeninsırasının bir fazlası]\n",
        "\n",
        "dikkat etmemiz gereken alınacak öğenin her zaman bir fazlasını yazmamız gerekir"
      ]
    },
    {
      "cell_type": "code",
      "metadata": {
        "id": "b3JP35X-qvDG",
        "colab_type": "code",
        "colab": {}
      },
      "source": [
        "karakterDizisi = \"İstanbul\"\n",
        "print(karakterDizisi[0:3]) #ist"
      ],
      "execution_count": 0,
      "outputs": []
    },
    {
      "cell_type": "markdown",
      "metadata": {
        "id": "3dxyxiTfq8PW",
        "colab_type": "text"
      },
      "source": [
        "burada 0. indeksenten başla 3.indekse kadar olan öğeleri al diyoruz\n",
        "#fakat 3. indeksi dahil etme diyoruz\n",
        "#bu yüzden alacağımız öğenin sonucu bir fazla yazmamız gerekiyor\n",
        "0. indeks = İ \n",
        "1. indeks = s\n",
        "2.indeks = t\n"
      ]
    },
    {
      "cell_type": "markdown",
      "metadata": {
        "id": "sXF2eOaProD4",
        "colab_type": "text"
      },
      "source": [
        "Uygulama yazalım:"
      ]
    },
    {
      "cell_type": "code",
      "metadata": {
        "id": "eEsNvfF_rpxe",
        "colab_type": "code",
        "colab": {}
      },
      "source": [
        "site1 = \"www.google.com\"\n",
        "site2 = \"www.istihza.com\"\n",
        "site3 = \"www.yahoo.com\"\n",
        "site4 = \"www.gnu.org\"\n",
        "\n",
        "for isim in site, site2, site3, site4:\n",
        "  print(\"site: \", isim[4:-4])\n",
        "\n",
        "  #böylece ilk dört öğeyi ve son 4 öğeyi dilimlemiş olduk ve bunun haricinde \n",
        "  #kalanları almış olduk."
      ],
      "execution_count": 0,
      "outputs": []
    },
    {
      "cell_type": "markdown",
      "metadata": {
        "id": "3rPbAFqKs-xg",
        "colab_type": "text"
      },
      "source": [
        "bir örnek daha:"
      ]
    },
    {
      "cell_type": "code",
      "metadata": {
        "id": "gDil3dHjtAKL",
        "colab_type": "code",
        "colab": {}
      },
      "source": [
        "ata1 = \"Akıllı bizi arayıp sormaz deli bacadan akar!\"\n",
        "ata2 = \"Ağa güçlü olunca kul suçlu olur!\"\n",
        "ata3 = \"Avcı ne kadar hile bilirse ayı da o kadar yol bilir!\"\n",
        "ata4 = \"Lafla pilav pişse deniz kadar yağ benden!\"\n",
        "ata5 = \"Zenginin gönlü oluncaya kadar fukaranın canı çıkar!\"\n",
        "#ünlem işaretlerini ortadan kaldırmak\n",
        "for ata in ata1, ata2, ata3, ata4, ata5:\n",
        "  print(ata[0:-1])"
      ],
      "execution_count": 0,
      "outputs": []
    },
    {
      "cell_type": "code",
      "metadata": {
        "id": "4AnvE8f3t3FS",
        "colab_type": "code",
        "colab": {}
      },
      "source": [
        "#ünlem işaretini kaldırdıktan sonra sonuna nokta koymak:\n",
        "for ata in ata1,ata2,ata3,ata4,ata5:\n",
        "  print(ata[0:-1]+\".\")"
      ],
      "execution_count": 0,
      "outputs": []
    },
    {
      "cell_type": "markdown",
      "metadata": {
        "id": "odCotqNcuPH2",
        "colab_type": "text"
      },
      "source": [
        "Dilimleme konusu hakkında bilgiler:"
      ]
    },
    {
      "cell_type": "code",
      "metadata": {
        "id": "tlmpnYlAuXT-",
        "colab_type": "code",
        "colab": {}
      },
      "source": [
        "kardiz = \"Sana Gül Bahçesi Vadetmedim\"\n",
        "# Sana kısmını alalım:\n",
        "print(kardiz[0:4])"
      ],
      "execution_count": 0,
      "outputs": []
    },
    {
      "cell_type": "markdown",
      "metadata": {
        "id": "9ty1F04Cul8F",
        "colab_type": "text"
      },
      "source": [
        "Python'da dilimlemeye 0.indeksten başlayacaksak 0'ı belirtmemize gerek yoktur."
      ]
    },
    {
      "cell_type": "code",
      "metadata": {
        "id": "GDYtSD3xuytV",
        "colab_type": "code",
        "colab": {}
      },
      "source": [
        "print(kardiz[:4])"
      ],
      "execution_count": 0,
      "outputs": []
    },
    {
      "cell_type": "markdown",
      "metadata": {
        "id": "mdC4F5Zqu5V5",
        "colab_type": "text"
      },
      "source": [
        "'Vadetmedim' kısmını alalım"
      ]
    },
    {
      "cell_type": "code",
      "metadata": {
        "id": "5Jt3fl2fu8xQ",
        "colab_type": "code",
        "colab": {}
      },
      "source": [
        "print(kardiz[17:27])"
      ],
      "execution_count": 0,
      "outputs": []
    },
    {
      "cell_type": "markdown",
      "metadata": {
        "id": "-e2QgzQVvT5u",
        "colab_type": "text"
      },
      "source": [
        "ilk index 0 olduğu zaman belirtmeye gerek olmadığı gibi\n",
        "sonun indekse kadar alacaksak son indekside belirtmemize gerek yoktur."
      ]
    },
    {
      "cell_type": "code",
      "metadata": {
        "id": "vuq9q_VDvgU4",
        "colab_type": "code",
        "colab": {}
      },
      "source": [
        "print(kardiz[17:])"
      ],
      "execution_count": 0,
      "outputs": []
    },
    {
      "cell_type": "markdown",
      "metadata": {
        "id": "bPG12yC9vmmB",
        "colab_type": "text"
      },
      "source": [
        "Örnekler:"
      ]
    },
    {
      "cell_type": "code",
      "metadata": {
        "id": "XRdlJKfWvpx4",
        "colab_type": "code",
        "colab": {
          "base_uri": "https://localhost:8080/",
          "height": 50
        },
        "outputId": "f59d9da9-7380-412d-d96f-9609d8db3f4b"
      },
      "source": [
        "name = \"Murat Can\"\n",
        "#Murat'ı alalım\n",
        "print(name[:5])\n",
        "#can'ı alalım\n",
        "print(name[6:])"
      ],
      "execution_count": 14,
      "outputs": [
        {
          "output_type": "stream",
          "text": [
            "Murat\n",
            "Can\n"
          ],
          "name": "stdout"
        }
      ]
    },
    {
      "cell_type": "code",
      "metadata": {
        "id": "7nYKnZQAwE8t",
        "colab_type": "code",
        "colab": {
          "base_uri": "https://localhost:8080/",
          "height": 50
        },
        "outputId": "52c29a69-2543-4125-8a83-44db1699c363"
      },
      "source": [
        "books = \"Karamazov Kardeşler\"\n",
        "# 'amaz'ı alalım\n",
        "print(books[3:7])\n",
        "# amazov kardeş'i alalım\n",
        "print(books[3:-3])"
      ],
      "execution_count": 17,
      "outputs": [
        {
          "output_type": "stream",
          "text": [
            "amaz\n",
            "amazov Kardeş\n"
          ],
          "name": "stdout"
        }
      ]
    }
  ]
}