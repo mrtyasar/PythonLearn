{
  "nbformat": 4,
  "nbformat_minor": 0,
  "metadata": {
    "colab": {
      "name": "karakterAlfabe.ipynb",
      "provenance": [],
      "collapsed_sections": []
    },
    "kernelspec": {
      "name": "python3",
      "display_name": "Python 3"
    }
  },
  "cells": [
    {
      "cell_type": "markdown",
      "metadata": {
        "id": "mrcb-eZswCl8",
        "colab_type": "text"
      },
      "source": [
        "# Karakter Dizilerini Alfabe Sırasına Dizmek"
      ]
    },
    {
      "cell_type": "markdown",
      "metadata": {
        "id": "GtGckjOmwRsv",
        "colab_type": "text"
      },
      "source": [
        "Karakter Dizilerini alfabe sırasınına göre dizmek için sorted() fonskiyonundan yararlanırız."
      ]
    },
    {
      "cell_type": "code",
      "metadata": {
        "id": "7lUQc5P_wa4i",
        "colab_type": "code",
        "outputId": "e60399bc-4ad0-4c74-b6d9-0d1f2d9afe80",
        "colab": {
          "base_uri": "https://localhost:8080/",
          "height": 34
        }
      },
      "source": [
        "print(sorted(\"kitap\"))"
      ],
      "execution_count": 0,
      "outputs": [
        {
          "output_type": "stream",
          "text": [
            "['a', 'i', 'k', 'p', 't']\n"
          ],
          "name": "stdout"
        }
      ]
    },
    {
      "cell_type": "markdown",
      "metadata": {
        "id": "9A9Nqx_Uwibu",
        "colab_type": "text"
      },
      "source": [
        "nasıl ki input() fonskiyonu string değer, len() fosnkiyonu int bir değer \n",
        "sorted() fonksiyonu ise lise veri tipi verir.\n",
        "\n",
        "Bu şekilde çıktılar alabiliriz:"
      ]
    },
    {
      "cell_type": "code",
      "metadata": {
        "id": "OQ4UTi6Jw2lH",
        "colab_type": "code",
        "outputId": "3e2e30c8-e298-4235-90d1-93e63c09e3eb",
        "colab": {
          "base_uri": "https://localhost:8080/",
          "height": 34
        }
      },
      "source": [
        "print(*sorted(\"kitap\"),sep=\" \")"
      ],
      "execution_count": 0,
      "outputs": [
        {
          "output_type": "stream",
          "text": [
            "a i k p t\n"
          ],
          "name": "stdout"
        }
      ]
    },
    {
      "cell_type": "code",
      "metadata": {
        "id": "G8pHrlLaw-NA",
        "colab_type": "code",
        "outputId": "1126a82c-3003-4268-870b-6dcff110ae48",
        "colab": {
          "base_uri": "https://localhost:8080/",
          "height": 34
        }
      },
      "source": [
        "for i in sorted(\"kitap\"):\n",
        "  print(i,end=\"\")"
      ],
      "execution_count": 0,
      "outputs": [
        {
          "output_type": "stream",
          "text": [
            "aikpt"
          ],
          "name": "stdout"
        }
      ]
    },
    {
      "cell_type": "markdown",
      "metadata": {
        "id": "iHiCL1LTxGAQ",
        "colab_type": "text"
      },
      "source": [
        "bir örnek daha:"
      ]
    },
    {
      "cell_type": "code",
      "metadata": {
        "id": "dMdMJCujxHkp",
        "colab_type": "code",
        "outputId": "abc7e10d-52cb-4ffb-b5db-4e674138dcc0",
        "colab": {
          "base_uri": "https://localhost:8080/",
          "height": 34
        }
      },
      "source": [
        "print(sorted(\"armut\"))"
      ],
      "execution_count": 0,
      "outputs": [
        {
          "output_type": "stream",
          "text": [
            "['a', 'm', 'r', 't', 'u']\n"
          ],
          "name": "stdout"
        }
      ]
    },
    {
      "cell_type": "markdown",
      "metadata": {
        "id": "i9J2uYSQxNjD",
        "colab_type": "text"
      },
      "source": [
        "sorted() fonskiyonun kullanımı kolay bir fonksiyondur.\n",
        "fakat bu fonksiyonun önemli bir hatası vardır. o da Türkçe karakterleri doğru sıralayamıyor.\n",
        "Bu problemi şu yöntemle çözebiliriz:"
      ]
    },
    {
      "cell_type": "code",
      "metadata": {
        "id": "WLiZPurDxtx-",
        "colab_type": "code",
        "colab": {}
      },
      "source": [
        "import locale\n",
        "locale.setlocale(locale.LC_ALL, \"Turkish_Turkey.1254\") #Windows için\n",
        "locale.setlocale(locale.LC_ALL,\"tr_TR\") #GNU/Linux\n",
        "print(sorted(\"çicek\",key=locale.strxfrm))"
      ],
      "execution_count": 0,
      "outputs": []
    },
    {
      "cell_type": "markdown",
      "metadata": {
        "id": "eSxCOyKaqEQh",
        "colab_type": "text"
      },
      "source": [
        "locale modülü sys, os ve keyword gibi modüldür\n",
        "Bu modülün içindeki setlocale() fonskiyonu programımızda öntanımlı\n",
        "dil ayarlarında proglama yapma olanağı tanır."
      ]
    },
    {
      "cell_type": "code",
      "metadata": {
        "id": "ggi--4pHqaMd",
        "colab_type": "code",
        "colab": {}
      },
      "source": [
        "print(sorted(\"çiçek\",key=locale.strxfrm))"
      ],
      "execution_count": 0,
      "outputs": []
    },
    {
      "cell_type": "markdown",
      "metadata": {
        "id": "L0Osoa-zqn81",
        "colab_type": "text"
      },
      "source": [
        "Burada sorted() metonun key adlı parametresinin locale.strxfrm değerini vererek Türkçeye duyarlı bir sıralama yapılmasını sağladık."
      ]
    },
    {
      "cell_type": "code",
      "metadata": {
        "id": "l4OOMul0q-lO",
        "colab_type": "code",
        "colab": {}
      },
      "source": [
        "print(sorted(\"afgdhkıi\",key=locale.strxfrm))"
      ],
      "execution_count": 0,
      "outputs": []
    },
    {
      "cell_type": "markdown",
      "metadata": {
        "id": "LLddiLzlrJsr",
        "colab_type": "text"
      },
      "source": [
        "i harfini ı harfinden önce gösteriyor. Bu hata türk.eye özgü değil ingiliz alfabesinde de oluyor.\n",
        "Bu hatayı çözmek için ise:"
      ]
    },
    {
      "cell_type": "code",
      "metadata": {
        "id": "n27ZYRflrTUm",
        "colab_type": "code",
        "colab": {
          "base_uri": "https://localhost:8080/",
          "height": 70
        },
        "outputId": "708a8308-75bd-494c-99f8-cc5993d81c77"
      },
      "source": [
        "harfler = \"abcçdefgğhıijklmnoöprsştuüvyz\"\n",
        "cevrim = {i:harfler.index(i)for i in harfler}\n",
        "print(sorted(\"afgdhkıi\",key=cevrim.get))\n",
        "print(cevrim)"
      ],
      "execution_count": 3,
      "outputs": [
        {
          "output_type": "stream",
          "text": [
            "['a', 'd', 'f', 'g', 'h', 'ı', 'i', 'k']\n",
            "{'a': 0, 'b': 1, 'c': 2, 'ç': 3, 'd': 4, 'e': 5, 'f': 6, 'g': 7, 'ğ': 8, 'h': 9, 'ı': 10, 'i': 11, 'j': 12, 'k': 13, 'l': 14, 'm': 15, 'n': 16, 'o': 17, 'ö': 18, 'p': 19, 'r': 20, 's': 21, 'ş': 22, 't': 23, 'u': 24, 'ü': 25, 'v': 26, 'y': 27, 'z': 28}\n"
          ],
          "name": "stdout"
        }
      ]
    },
    {
      "cell_type": "markdown",
      "metadata": {
        "id": "ktb91NdnspXL",
        "colab_type": "text"
      },
      "source": [
        "Çıktıya dikkatlice bakarsak harfleri sayılarla eşleştiriyor. bu sayede harfler sıralayabiliyor.\n",
        "\n",
        "print(sorted(\"afgdhkıi\"), key= cevrim.get) çıktısıyla ile Python'ın harfler yerine sayıların sıralanmasını sağlıyoruz."
      ]
    }
  ]
}