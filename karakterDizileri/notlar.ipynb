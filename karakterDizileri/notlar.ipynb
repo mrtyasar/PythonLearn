{
  "nbformat": 4,
  "nbformat_minor": 0,
  "metadata": {
    "colab": {
      "name": "notlar.ipynb",
      "provenance": [],
      "collapsed_sections": []
    },
    "kernelspec": {
      "name": "python3",
      "display_name": "Python 3"
    }
  },
  "cells": [
    {
      "cell_type": "code",
      "metadata": {
        "id": "TeB5xHLuE_e4",
        "colab_type": "code",
        "colab": {
          "base_uri": "https://localhost:8080/",
          "height": 134
        },
        "outputId": "7b0b2fcf-c914-4567-ce88-4b5e374f02bb"
      },
      "source": [
        "trHarfler = \"şçöğüİı\"\n",
        "for trHarf in trHarfler:\n",
        "  print(trHarf)"
      ],
      "execution_count": 1,
      "outputs": [
        {
          "output_type": "stream",
          "text": [
            "ş\n",
            "ç\n",
            "ö\n",
            "ğ\n",
            "ü\n",
            "İ\n",
            "ı\n"
          ],
          "name": "stdout"
        }
      ]
    },
    {
      "cell_type": "markdown",
      "metadata": {
        "id": "JtIrLtYAFPmp",
        "colab_type": "text"
      },
      "source": [
        "Bu kodlara alternatif olarak şöyle de yazabiliriz:"
      ]
    },
    {
      "cell_type": "code",
      "metadata": {
        "id": "QfE9damfFUDu",
        "colab_type": "code",
        "colab": {
          "base_uri": "https://localhost:8080/",
          "height": 134
        },
        "outputId": "0ba4c6b0-4c86-4ea2-bf59-dcad75d72a99"
      },
      "source": [
        "trHarfler = \"şçöğüİı\"\n",
        "a = 0\n",
        "while a < len(trHarfler):\n",
        "  print(trHarfler[a],sep=\"\\n\")\n",
        "  a += 1"
      ],
      "execution_count": 5,
      "outputs": [
        {
          "output_type": "stream",
          "text": [
            "ş\n",
            "ç\n",
            "ö\n",
            "ğ\n",
            "ü\n",
            "İ\n",
            "ı\n"
          ],
          "name": "stdout"
        }
      ]
    },
    {
      "cell_type": "markdown",
      "metadata": {
        "id": "rR8lGQqIGFdj",
        "colab_type": "text"
      },
      "source": [
        "Burada yaptığımız şey trHarfler adlı değişkenin eleman uzunluğu(len(trHarfler)) a değişkeninden küçük olduğu müddetçe diyoruz a değişkenin değerini 1 arttırıp yine a değişkenin gönderiyoruz(a += 1)\n",
        "while döngüsünün her dönüşünde de a değişkenin yeni değeri yardımıyla trHarfler adlı değişkenin öğelerine tek tek ve sırayla erişiyoruz (print(trHarfler[a]))"
      ]
    },
    {
      "cell_type": "markdown",
      "metadata": {
        "id": "U-S8RmnaG8eq",
        "colab_type": "text"
      },
      "source": [
        "sys adlı modül version adlı değişken sayesinde bulunduğumuz ortamın python versiyonunu öğrenmiş oluyoruz"
      ]
    },
    {
      "cell_type": "code",
      "metadata": {
        "id": "BudAS5ctHIos",
        "colab_type": "code",
        "colab": {
          "base_uri": "https://localhost:8080/",
          "height": 34
        },
        "outputId": "e708784b-5cbc-4d16-ac1e-43428085c20f"
      },
      "source": [
        "import sys\n",
        "sys.version"
      ],
      "execution_count": 6,
      "outputs": [
        {
          "output_type": "execute_result",
          "data": {
            "text/plain": [
              "'3.6.9 (default, Apr 18 2020, 01:56:04) \\n[GCC 8.4.0]'"
            ]
          },
          "metadata": {
            "tags": []
          },
          "execution_count": 6
        }
      ]
    },
    {
      "cell_type": "markdown",
      "metadata": {
        "id": "aRQc8AwIHO3u",
        "colab_type": "text"
      },
      "source": [
        "istersek bir kısmını alabiliriz"
      ]
    },
    {
      "cell_type": "code",
      "metadata": {
        "id": "PEawf8b_HREg",
        "colab_type": "code",
        "colab": {
          "base_uri": "https://localhost:8080/",
          "height": 34
        },
        "outputId": "a076dc50-ec7d-4484-d446-34e0e13664e7"
      },
      "source": [
        "print(sys.version[:5])"
      ],
      "execution_count": 8,
      "outputs": [
        {
          "output_type": "stream",
          "text": [
            "3.6.9\n"
          ],
          "name": "stdout"
        }
      ]
    },
    {
      "cell_type": "markdown",
      "metadata": {
        "id": "ReccSqHQHe_n",
        "colab_type": "text"
      },
      "source": [
        "bu çıktıyı version_info değişkeni sayesinde de alabiliriz"
      ]
    },
    {
      "cell_type": "code",
      "metadata": {
        "id": "vBXhpkL4Hsig",
        "colab_type": "code",
        "colab": {
          "base_uri": "https://localhost:8080/",
          "height": 34
        },
        "outputId": "3ebab0c9-8833-48de-99d6-bac6e2eaf1a6"
      },
      "source": [
        "print(\"{}.{}.{}\".format(sys.version_info.major,sys.version_info.minor,sys.version_info.micro))"
      ],
      "execution_count": 10,
      "outputs": [
        {
          "output_type": "stream",
          "text": [
            "3.6.9\n"
          ],
          "name": "stdout"
        }
      ]
    },
    {
      "cell_type": "markdown",
      "metadata": {
        "id": "QDEN8vaRIEN_",
        "colab_type": "text"
      },
      "source": [
        "fakat python'ın 2.7 öncesi sürümlerinde version_infor'nun major,minor,micro gibi nitelikleri yok. Dolayısıyla bu sürümden önceki sürümlerde hata almamak için try...except.. bloklarından yararlanıyorduk\n",
        "fakat version_info'nun Python'ın tüm sürümlerinde güvenli bir biçimde çalıştırılmasını sağlayabiliriz:"
      ]
    },
    {
      "cell_type": "code",
      "metadata": {
        "id": "_z0GwSgbIfwk",
        "colab_type": "code",
        "colab": {
          "base_uri": "https://localhost:8080/",
          "height": 34
        },
        "outputId": "dda2ba0e-2263-4bfd-f205-530fa5bb2f3b"
      },
      "source": [
        "major = sys.version_info[0]\n",
        "minor = sys.version_info[1]\n",
        "micro = sys.version_info[2]\n",
        "print(major,minor,micro,sep=\".\")"
      ],
      "execution_count": 11,
      "outputs": [
        {
          "output_type": "stream",
          "text": [
            "3.6.9\n"
          ],
          "name": "stdout"
        }
      ]
    },
    {
      "cell_type": "markdown",
      "metadata": {
        "id": "WLd4UOyhI2jz",
        "colab_type": "text"
      },
      "source": [
        "sürüm kontrolü yapalım:"
      ]
    },
    {
      "cell_type": "code",
      "metadata": {
        "id": "hRC5-clbI55d",
        "colab_type": "code",
        "colab": {
          "base_uri": "https://localhost:8080/",
          "height": 34
        },
        "outputId": "9d219e51-7429-4673-8b9e-d845feba4df7"
      },
      "source": [
        "if sys.version_info[0] < 3:\n",
        "  print(\"Kullandığınız python sürümü eskidir. Lütfen güncelleyiniz!\")\n",
        "else:\n",
        "  print(\"Kullandığınız sürüm günceldir. Sürümünüz {}.{}.{}\".format(sys.version_info[0],sys.version_info[1],sys.version_info[2]))  "
      ],
      "execution_count": 12,
      "outputs": [
        {
          "output_type": "stream",
          "text": [
            "Kullandığınız sürüm günceldir. Sürümünüz 3.6.9\n"
          ],
          "name": "stdout"
        }
      ]
    }
  ]
}