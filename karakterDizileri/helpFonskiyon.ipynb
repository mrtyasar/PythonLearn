{
  "nbformat": 4,
  "nbformat_minor": 0,
  "metadata": {
    "colab": {
      "name": "helpFonskiyon.ipynb",
      "provenance": [],
      "collapsed_sections": []
    },
    "kernelspec": {
      "name": "python3",
      "display_name": "Python 3"
    }
  },
  "cells": [
    {
      "cell_type": "markdown",
      "metadata": {
        "id": "U0_-3cSLCUaX",
        "colab_type": "text"
      },
      "source": [
        "# help() Fonksiyonu"
      ]
    },
    {
      "cell_type": "markdown",
      "metadata": {
        "id": "dPNEPokeCIZm",
        "colab_type": "text"
      },
      "source": [
        "Herhangi bir nesne hakkında hızlıca bilgi almak istiyorsak help() fonskiyonunu kullanırızz\n",
        "1.yöntem:"
      ]
    },
    {
      "cell_type": "code",
      "metadata": {
        "id": "UR8jd2sFCS8R",
        "colab_type": "code",
        "colab": {
          "base_uri": "https://localhost:8080/",
          "height": 739
        },
        "outputId": "c0bcb606-6f2c-48c7-aa49-9bea46053995"
      },
      "source": [
        "help()"
      ],
      "execution_count": 1,
      "outputs": [
        {
          "output_type": "stream",
          "text": [
            "\n",
            "Welcome to Python 3.6's help utility!\n",
            "\n",
            "If this is your first time using Python, you should definitely check out\n",
            "the tutorial on the Internet at https://docs.python.org/3.6/tutorial/.\n",
            "\n",
            "Enter the name of any module, keyword, or topic to get help on writing\n",
            "Python programs and using Python modules.  To quit this help utility and\n",
            "return to the interpreter, just type \"quit\".\n",
            "\n",
            "To get a list of available modules, keywords, symbols, or topics, type\n",
            "\"modules\", \"keywords\", \"symbols\", or \"topics\".  Each module also comes\n",
            "with a one-line summary of what it does; to list the modules whose name\n",
            "or summary contain a given string such as \"spam\", type \"modules spam\".\n",
            "\n",
            "help> dir()\n",
            "No Python documentation found for 'dir()'.\n",
            "Use help() to get the interactive help utility.\n",
            "Use help(str) for help on the str class.\n",
            "\n",
            "help> dir\n",
            "Help on built-in function dir in module builtins:\n",
            "\n",
            "dir(...)\n",
            "    dir([object]) -> list of strings\n",
            "    \n",
            "    If called without an argument, return the names in the current scope.\n",
            "    Else, return an alphabetized list of names comprising (some of) the attributes\n",
            "    of the given object, and of attributes reachable from it.\n",
            "    If the object supplies a method named __dir__, it will be used; otherwise\n",
            "    the default dir() logic is used and returns:\n",
            "      for a module object: the module's attributes.\n",
            "      for a class object:  its attributes, and recursively the attributes\n",
            "        of its bases.\n",
            "      for any other object: its attributes, its class's attributes, and\n",
            "        recursively the attributes of its class's base classes.\n",
            "\n",
            "help> \n",
            "\n",
            "You are now leaving help and returning to the Python interpreter.\n",
            "If you want to ask for help on a particular object directly from the\n",
            "interpreter, you can type \"help(object)\".  Executing \"help('string')\"\n",
            "has the same effect as typing a particular string at the help> prompt.\n"
          ],
          "name": "stdout"
        }
      ]
    },
    {
      "cell_type": "markdown",
      "metadata": {
        "id": "a5hEeUM7Ci83",
        "colab_type": "text"
      },
      "source": [
        "etkileşim kabukta help() yazıp entera tıklayınca özel bir pencere açılır\n",
        "ve help > kısmına hangi nesneyi öğrenmek istiyorsak onu yazıyoruz.\n",
        "eğer öğrenmek istediğimiz nesne fonksiyon ise parantezsiz yazarız."
      ]
    },
    {
      "cell_type": "markdown",
      "metadata": {
        "id": "StcAa6Q4C-cw",
        "colab_type": "text"
      },
      "source": [
        "help ekranından çıkmak için enter düğmesine basabilir veya quit komutu ile çıkabiliriz."
      ]
    },
    {
      "cell_type": "markdown",
      "metadata": {
        "id": "29LGuhLcDKvd",
        "colab_type": "text"
      },
      "source": [
        "help() fonksiyonun kullanmanın ikinci yöntemi ise:\n",
        "help(nesnenin adı) şeklindedir"
      ]
    },
    {
      "cell_type": "code",
      "metadata": {
        "id": "N-pMv-Y3DTfb",
        "colab_type": "code",
        "colab": {
          "base_uri": "https://localhost:8080/",
          "height": 521
        },
        "outputId": "929a3033-dc8f-4a13-882c-0a8bf9e63213"
      },
      "source": [
        "help(reversed)"
      ],
      "execution_count": 2,
      "outputs": [
        {
          "output_type": "stream",
          "text": [
            "Help on class reversed in module builtins:\n",
            "\n",
            "class reversed(object)\n",
            " |  reversed(sequence) -> reverse iterator over values of the sequence\n",
            " |  \n",
            " |  Return a reverse iterator\n",
            " |  \n",
            " |  Methods defined here:\n",
            " |  \n",
            " |  __getattribute__(self, name, /)\n",
            " |      Return getattr(self, name).\n",
            " |  \n",
            " |  __iter__(self, /)\n",
            " |      Implement iter(self).\n",
            " |  \n",
            " |  __length_hint__(...)\n",
            " |      Private method returning an estimate of len(list(it)).\n",
            " |  \n",
            " |  __new__(*args, **kwargs) from builtins.type\n",
            " |      Create and return a new object.  See help(type) for accurate signature.\n",
            " |  \n",
            " |  __next__(self, /)\n",
            " |      Implement next(self).\n",
            " |  \n",
            " |  __reduce__(...)\n",
            " |      Return state information for pickling.\n",
            " |  \n",
            " |  __setstate__(...)\n",
            " |      Set state information for unpickling.\n",
            "\n"
          ],
          "name": "stdout"
        }
      ]
    }
  ]
}