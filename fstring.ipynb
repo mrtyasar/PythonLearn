{
  "nbformat": 4,
  "nbformat_minor": 0,
  "metadata": {
    "colab": {
      "name": "fstring.ipynb",
      "provenance": [],
      "collapsed_sections": []
    },
    "kernelspec": {
      "name": "python3",
      "display_name": "Python 3"
    }
  },
  "cells": [
    {
      "cell_type": "markdown",
      "metadata": {
        "id": "318wKy14rn4S",
        "colab_type": "text"
      },
      "source": [
        "# fstring"
      ]
    },
    {
      "cell_type": "markdown",
      "metadata": {
        "id": "vxBfh5SMrqk5",
        "colab_type": "text"
      },
      "source": [
        "fstring yapısı format() methodunun yeni ve basitleştirilmiş hali\n",
        "\n",
        "f veya F ile gösterilir\n",
        "\n",
        "formül:\n",
        "\n",
        "print(f\"bla{değişkenadı}\")"
      ]
    },
    {
      "cell_type": "markdown",
      "metadata": {
        "id": "ph4dRIqBsAMm",
        "colab_type": "text"
      },
      "source": [
        "format() methodu nasıl çalışıyordu:"
      ]
    },
    {
      "cell_type": "code",
      "metadata": {
        "id": "afg3rmgZsJZW",
        "colab_type": "code",
        "colab": {
          "base_uri": "https://localhost:8080/",
          "height": 67
        },
        "outputId": "5cd07e21-3f31-4ca4-b93d-6f569e053a8b"
      },
      "source": [
        "isim = \"Buğra\"\n",
        "print(\"selam {kime}!\".format(kime = isim))\n",
        "\n",
        "print(\"selam {} \".format(isim))\n",
        "\n",
        "print(\"selamlar {} bey!\".format(\"murat\"))"
      ],
      "execution_count": 2,
      "outputs": [
        {
          "output_type": "stream",
          "text": [
            "selam Buğra!\n",
            "selam Buğra \n",
            "selamlar murat bey!\n"
          ],
          "name": "stdout"
        }
      ]
    },
    {
      "cell_type": "markdown",
      "metadata": {
        "id": "mhxnp8VZsk6Y",
        "colab_type": "text"
      },
      "source": [
        "**f-string nedir?**"
      ]
    },
    {
      "cell_type": "markdown",
      "metadata": {
        "id": "ZN4I8gWSsuGX",
        "colab_type": "text"
      },
      "source": [
        "string türkçede karakter dizisi olarak çevirilir\n",
        "\n",
        "eğer karakter dizimizin üzerinde işlem yapacaksak bu karakter dizisinin normal bir karakter dizisi olmadığını ve üzerinde işlemler yapacağımızı belirtemk için karakter dizisinin başına f veya F harfini koyarız"
      ]
    },
    {
      "cell_type": "markdown",
      "metadata": {
        "id": "FPPEPJe8tEhP",
        "colab_type": "text"
      },
      "source": [
        "peki normal karakter dizisi ile f-string in arasındaki fark ne:"
      ]
    },
    {
      "cell_type": "markdown",
      "metadata": {
        "id": "r9eTU7iatItH",
        "colab_type": "text"
      },
      "source": [
        "normal:"
      ]
    },
    {
      "cell_type": "code",
      "metadata": {
        "id": "sOdqSFSstLIH",
        "colab_type": "code",
        "colab": {
          "base_uri": "https://localhost:8080/",
          "height": 34
        },
        "outputId": "49b24bb0-a688-4660-c76d-29abd08c316a"
      },
      "source": [
        "isim = \"Buğra\"\n",
        "print(\"selam {}\".format(isim))"
      ],
      "execution_count": 3,
      "outputs": [
        {
          "output_type": "stream",
          "text": [
            "selam Buğra\n"
          ],
          "name": "stdout"
        }
      ]
    },
    {
      "cell_type": "markdown",
      "metadata": {
        "id": "Vt1J2JkUtQfL",
        "colab_type": "text"
      },
      "source": [
        "f-string ile yazalım:"
      ]
    },
    {
      "cell_type": "code",
      "metadata": {
        "id": "a-W5whj1tSUU",
        "colab_type": "code",
        "colab": {
          "base_uri": "https://localhost:8080/",
          "height": 34
        },
        "outputId": "91452535-6850-4351-ccd3-29c23e976c20"
      },
      "source": [
        "isim = \"Buğra\"\n",
        "print(f\"selam {isim}\")"
      ],
      "execution_count": 4,
      "outputs": [
        {
          "output_type": "stream",
          "text": [
            "selam Buğra\n"
          ],
          "name": "stdout"
        }
      ]
    },
    {
      "cell_type": "markdown",
      "metadata": {
        "id": "WefbMtNitazC",
        "colab_type": "text"
      },
      "source": [
        "iki kodda aynı işlemi yaptı fakat f-string ile daha kolay işlemimizi hallettik"
      ]
    },
    {
      "cell_type": "code",
      "metadata": {
        "id": "akWyzvHhtg6Z",
        "colab_type": "code",
        "colab": {
          "base_uri": "https://localhost:8080/",
          "height": 34
        },
        "outputId": "9e6d9a39-9c86-4221-ae26-150afcd71266"
      },
      "source": [
        "name = \"Mert\"\n",
        "age = 19\n",
        "print(f\"onun adı {name} ve o {age} yaşındadır!\")"
      ],
      "execution_count": 5,
      "outputs": [
        {
          "output_type": "stream",
          "text": [
            "onun adı Mert ve o 19 yaşındadır!\n"
          ],
          "name": "stdout"
        }
      ]
    },
    {
      "cell_type": "markdown",
      "metadata": {
        "id": "X-YM-vqNttvw",
        "colab_type": "text"
      },
      "source": [
        "f-stringin içinde matematiksel işlemler yapabiliriz:"
      ]
    },
    {
      "cell_type": "code",
      "metadata": {
        "id": "FJlqazfhtxwE",
        "colab_type": "code",
        "colab": {
          "base_uri": "https://localhost:8080/",
          "height": 34
        },
        "outputId": "98f02aa2-96f8-48ce-eec6-b71ce291b692"
      },
      "source": [
        "birinciRakam = 15\n",
        "ikinciRakam = 20\n",
        "print(f\"Sayıların toplamı {birinciRakam + ikinciRakam} eder\")"
      ],
      "execution_count": 7,
      "outputs": [
        {
          "output_type": "stream",
          "text": [
            "Sayıların toplamı 35 eder\n"
          ],
          "name": "stdout"
        }
      ]
    },
    {
      "cell_type": "markdown",
      "metadata": {
        "id": "FdzOA7hZuBvd",
        "colab_type": "text"
      },
      "source": [
        "sadece toplama işlemi yapan bir program yapalım:"
      ]
    },
    {
      "cell_type": "code",
      "metadata": {
        "id": "koEXSPiHuGxp",
        "colab_type": "code",
        "colab": {
          "base_uri": "https://localhost:8080/",
          "height": 67
        },
        "outputId": "2f7e7d7b-9944-4794-cf9f-dc090872f76f"
      },
      "source": [
        "birinciSayi = int(input(\"Birinci rakamı giriniz: \"))\n",
        "ikinciSayi = int(input(\"İkinic rakamı giriniz: \"))\n",
        "print(f\"sayıların toplamı {birinciSayi + ikinciSayi} eder.\")"
      ],
      "execution_count": 8,
      "outputs": [
        {
          "output_type": "stream",
          "text": [
            "Birinci rakamı giriniz: 15\n",
            "İkinic rakamı giriniz: 20\n",
            "sayıların toplamı 35 eder.\n"
          ],
          "name": "stdout"
        }
      ]
    },
    {
      "cell_type": "markdown",
      "metadata": {
        "id": "gDXErmfPuc3Q",
        "colab_type": "text"
      },
      "source": [
        "bu programı sadece f-string in içinde yazabiliriz:"
      ]
    },
    {
      "cell_type": "code",
      "metadata": {
        "id": "Dm6RmAYnugnX",
        "colab_type": "code",
        "colab": {
          "base_uri": "https://localhost:8080/",
          "height": 67
        },
        "outputId": "91845160-f842-4893-8561-a4b1869629b6"
      },
      "source": [
        "print(f\"sayıların toplamı {int(input('ilk sayı: '))+int(input('ikinci sayı giriniz'))} eder.\")\n",
        "\n"
      ],
      "execution_count": 11,
      "outputs": [
        {
          "output_type": "stream",
          "text": [
            "ilk sayı: 25\n",
            "ikinci sayı giriniz68\n",
            "sayıların toplamı 93 eder.\n"
          ],
          "name": "stdout"
        }
      ]
    },
    {
      "cell_type": "markdown",
      "metadata": {
        "id": "6LlxatiBvJUr",
        "colab_type": "text"
      },
      "source": [
        "eğer matematiksel işlemler yapmak istemiyorsak ayraçları çiftlemek lazım:"
      ]
    },
    {
      "cell_type": "code",
      "metadata": {
        "id": "QJDQaPAVvOo6",
        "colab_type": "code",
        "colab": {
          "base_uri": "https://localhost:8080/",
          "height": 34
        },
        "outputId": "a9bfb672-c839-416f-d773-55b8ccdb4eb8"
      },
      "source": [
        "print(f\"{{70+45}}\")"
      ],
      "execution_count": 12,
      "outputs": [
        {
          "output_type": "stream",
          "text": [
            "{70+45}\n"
          ],
          "name": "stdout"
        }
      ]
    },
    {
      "cell_type": "code",
      "metadata": {
        "id": "2TEPNOOOvUuH",
        "colab_type": "code",
        "colab": {
          "base_uri": "https://localhost:8080/",
          "height": 34
        },
        "outputId": "dcfea918-666c-4976-cb7f-d31eac4afa52"
      },
      "source": [
        "print(f\"{70+45}\")"
      ],
      "execution_count": 13,
      "outputs": [
        {
          "output_type": "stream",
          "text": [
            "115\n"
          ],
          "name": "stdout"
        }
      ]
    }
  ]
}