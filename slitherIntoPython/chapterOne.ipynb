{
  "nbformat": 4,
  "nbformat_minor": 0,
  "metadata": {
    "colab": {
      "name": "chapterOne.ipynb",
      "provenance": []
    },
    "kernelspec": {
      "name": "python3",
      "display_name": "Python 3"
    }
  },
  "cells": [
    {
      "cell_type": "markdown",
      "metadata": {
        "id": "70PgI7yLpbgq",
        "colab_type": "text"
      },
      "source": [
        "# Chapter 1 - Introduction"
      ]
    },
    {
      "cell_type": "markdown",
      "metadata": {
        "id": "1fNSUrRCpfLo",
        "colab_type": "text"
      },
      "source": [
        "**1.1 - Who is this book for?**"
      ]
    },
    {
      "cell_type": "markdown",
      "metadata": {
        "id": "sHZiE1urqe1A",
        "colab_type": "text"
      },
      "source": [
        "Bu bölümde Python öğretici kitapların eksiklerinden ve kitabın yazarı bunları görüp gidermek için bilgilerini bir kitapa aktardığından bahsetti.\n",
        "\n",
        "- Programcılığın en önemli kısmı problem çözmedir, bu problemleri farklı açılardan bakarak çözmek çok daha iyidir.\n",
        "- Bir çay yapmayı düşünelim. Fakat bu eylemi bilgisayara anlatır gibi anlatalım, aslında burada algoritmaya giriş yapıyoruz."
      ]
    },
    {
      "cell_type": "code",
      "metadata": {
        "id": "t1dSGvnBpWyt",
        "colab_type": "code",
        "colab": {}
      },
      "source": [
        "Making a cup of tea:\n",
        "- Boil the kettle\n",
        "- Take a cup from the cupboard\n",
        "- Take a teabag from the cupboard\n",
        "- Put the teabag in the cup\n",
        "- Pour water into the cup\n",
        "- İf want sugar:\n",
        "    - Take sugar from cupboard\n",
        "    - Put sugar into cup\n",
        "- Stir the tea\n",
        "- Remove the teabag\n",
        "- if want milk:\n",
        "    - Take milk from fridge\n",
        "    - Pour milk into cup\n",
        "- Stir the tea\n",
        "- Drink tea"
      ],
      "execution_count": null,
      "outputs": []
    },
    {
      "cell_type": "markdown",
      "metadata": {
        "id": "blQcrmRir9Yi",
        "colab_type": "text"
      },
      "source": [
        "**1.2 A bit about Python**"
      ]
    },
    {
      "cell_type": "markdown",
      "metadata": {
        "id": "25uGlYSFsklf",
        "colab_type": "text"
      },
      "source": [
        "Python programlama dili hakkında genel bilgiler verildi.\n",
        "- Python bir çok alanda kullanılabilen, yenilikçi, topluluğu sağlam ve anlaşılması kolay, yorumlanmış bir dildir."
      ]
    },
    {
      "cell_type": "markdown",
      "metadata": {
        "id": "wRQH6i3R7OoT",
        "colab_type": "text"
      },
      "source": [
        "**1.3 Our first Program**"
      ]
    },
    {
      "cell_type": "code",
      "metadata": {
        "id": "LljlYEOf7iZZ",
        "colab_type": "code",
        "colab": {
          "base_uri": "https://localhost:8080/",
          "height": 34
        },
        "outputId": "941e6005-e986-403f-e22a-e1e8bc5db2ae"
      },
      "source": [
        "print('Hello World')"
      ],
      "execution_count": 1,
      "outputs": [
        {
          "output_type": "stream",
          "text": [
            "Hello World\n"
          ],
          "name": "stdout"
        }
      ]
    }
  ]
}