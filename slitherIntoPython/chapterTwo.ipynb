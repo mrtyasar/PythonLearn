{
  "nbformat": 4,
  "nbformat_minor": 0,
  "metadata": {
    "colab": {
      "name": "chapterTwo.ipynb",
      "provenance": [],
      "collapsed_sections": []
    },
    "kernelspec": {
      "name": "python3",
      "display_name": "Python 3"
    }
  },
  "cells": [
    {
      "cell_type": "markdown",
      "metadata": {
        "id": "omeg-eS2Cay1",
        "colab_type": "text"
      },
      "source": [
        "# Chapter 2 - Integers, Operators and Syntax"
      ]
    },
    {
      "cell_type": "markdown",
      "metadata": {
        "id": "jk2akxuwCjGY",
        "colab_type": "text"
      },
      "source": [
        "**2.1 Integers**"
      ]
    },
    {
      "cell_type": "markdown",
      "metadata": {
        "id": "L6kjZc89DjOC",
        "colab_type": "text"
      },
      "source": [
        "Tam sayılar -5 veya 10 gibi alan sayılara tam sayılar denir. -5 yazarken eksiye unary negation operator yani tekli olumsuzlama operatörü denir."
      ]
    },
    {
      "cell_type": "code",
      "metadata": {
        "id": "KsyPnvz2CUCE",
        "colab_type": "code",
        "colab": {}
      },
      "source": [
        "5 + 10\n",
        "100 - 25\n",
        "1 * 5\n",
        "1000 // 250\n",
        "1000 / 250\n",
        "5 * 2 + 2\n",
        "(3+2)*5"
      ],
      "execution_count": null,
      "outputs": []
    },
    {
      "cell_type": "markdown",
      "metadata": {
        "id": "QhJDpvPrETTq",
        "colab_type": "text"
      },
      "source": [
        "Yukarıdaki kodda + işareti ile tam sayıları topluyoruz\n",
        ", - işareiyle tam sayıları çıkartyoruz\n",
        ", * işareyile çarpıyoruz\n",
        ", // işaretiyle tam sayı sonuç alacak şekilde bölüyoruz\n",
        ", / işareti ile bölmenin sonucu float kesirli bir sonuç çıkacak"
      ]
    },
    {
      "cell_type": "code",
      "metadata": {
        "id": "1oumvydXEtEP",
        "colab_type": "code",
        "colab": {
          "base_uri": "https://localhost:8080/",
          "height": 34
        },
        "outputId": "03f62340-839d-4346-8349-282870e711f8"
      },
      "source": [
        "5+ -5\n"
      ],
      "execution_count": null,
      "outputs": [
        {
          "output_type": "execute_result",
          "data": {
            "text/plain": [
              "0"
            ]
          },
          "metadata": {
            "tags": []
          },
          "execution_count": 2
        }
      ]
    },
    {
      "cell_type": "markdown",
      "metadata": {
        "id": "n0GViX89oCnv",
        "colab_type": "text"
      },
      "source": [
        "**2.2 Opeator Precedence**"
      ]
    },
    {
      "cell_type": "markdown",
      "metadata": {
        "id": "F6zfA_mqpuJk",
        "colab_type": "text"
      },
      "source": [
        "İşlem önceliği matematikte olduğu gibi pythonda da geçerlidir. Öncelik olarak * ve / veya //\n",
        "daha sonra + ve - gelir.\n",
        "\n",
        "işlemler soldan sağa doğru gider\n",
        "\n",
        "fakat istersek () içine alarak önceliği bir işleme verebiliriz.\n",
        "\n",
        "örneğin:"
      ]
    },
    {
      "cell_type": "code",
      "metadata": {
        "id": "fDuTTfH_p9PA",
        "colab_type": "code",
        "colab": {}
      },
      "source": [
        "1 + 2 - 4 + 7"
      ],
      "execution_count": null,
      "outputs": []
    },
    {
      "cell_type": "markdown",
      "metadata": {
        "id": "9tO42_8QqA1T",
        "colab_type": "text"
      },
      "source": [
        "önce 1 + 2 toplanır = \n",
        "\n",
        "daha sonra 3 ile -4 işleme alınır\n",
        "\n",
        "çıkan sonuç olan -1 + 7 işleme alınır."
      ]
    },
    {
      "cell_type": "markdown",
      "metadata": {
        "id": "nimzq4QRHcn2",
        "colab_type": "text"
      },
      "source": [
        "**2.3 Syntax**"
      ]
    },
    {
      "cell_type": "code",
      "metadata": {
        "id": "qd8QkkmUNMxM",
        "colab_type": "code",
        "colab": {
          "base_uri": "https://localhost:8080/",
          "height": 128
        },
        "outputId": "e8b9acde-08fa-4040-d8d7-734b79ab70d6"
      },
      "source": [
        "4 + 3 +"
      ],
      "execution_count": null,
      "outputs": [
        {
          "output_type": "error",
          "ename": "SyntaxError",
          "evalue": "ignored",
          "traceback": [
            "\u001b[0;36m  File \u001b[0;32m\"<ipython-input-1-64286b50175e>\"\u001b[0;36m, line \u001b[0;32m1\u001b[0m\n\u001b[0;31m    4 + 3 +\u001b[0m\n\u001b[0m           ^\u001b[0m\n\u001b[0;31mSyntaxError\u001b[0m\u001b[0;31m:\u001b[0m invalid syntax\n"
          ]
        }
      ]
    },
    {
      "cell_type": "code",
      "metadata": {
        "id": "G-Np1BD1OGCL",
        "colab_type": "code",
        "colab": {
          "base_uri": "https://localhost:8080/",
          "height": 128
        },
        "outputId": "cfa21566-f9b5-4c5f-93db-89fe0e74ebce"
      },
      "source": [
        "(1 + 1))"
      ],
      "execution_count": null,
      "outputs": [
        {
          "output_type": "error",
          "ename": "SyntaxError",
          "evalue": "ignored",
          "traceback": [
            "\u001b[0;36m  File \u001b[0;32m\"<ipython-input-2-7689731bb830>\"\u001b[0;36m, line \u001b[0;32m1\u001b[0m\n\u001b[0;31m    (1 + 1))\u001b[0m\n\u001b[0m           ^\u001b[0m\n\u001b[0;31mSyntaxError\u001b[0m\u001b[0;31m:\u001b[0m invalid syntax\n"
          ]
        }
      ]
    },
    {
      "cell_type": "code",
      "metadata": {
        "id": "CTmh5eskOKrU",
        "colab_type": "code",
        "colab": {
          "base_uri": "https://localhost:8080/",
          "height": 128
        },
        "outputId": "5ee4c6ef-64a0-4d63-f652-47507e3ab4e5"
      },
      "source": [
        "1 * * 1"
      ],
      "execution_count": null,
      "outputs": [
        {
          "output_type": "error",
          "ename": "SyntaxError",
          "evalue": "ignored",
          "traceback": [
            "\u001b[0;36m  File \u001b[0;32m\"<ipython-input-3-f778b88d55f7>\"\u001b[0;36m, line \u001b[0;32m1\u001b[0m\n\u001b[0;31m    1 * * 1\u001b[0m\n\u001b[0m        ^\u001b[0m\n\u001b[0;31mSyntaxError\u001b[0m\u001b[0;31m:\u001b[0m invalid syntax\n"
          ]
        }
      ]
    },
    {
      "cell_type": "markdown",
      "metadata": {
        "id": "xFiE1ShUOQJ5",
        "colab_type": "text"
      },
      "source": [
        "Syntax hatası almamızın nedeni python'un kod yazarken neyin yanlış olduğunu söylediği kurallara uymamaktan dolayı olur.\n",
        "Örneğin 4 + 3 +\n",
        "Burada 3 topla dedik ama neyle bunu belirtmeyip boşuna + operatörünü yazıyoruz\n",
        "\n",
        "fazladan veya eksik parantez kullanınca da meydana gelir.\n",
        "\n",
        "Syntax hataların çözümü diğer bir çok hatanın çözümünden daha kolaydır:\n"
      ]
    },
    {
      "cell_type": "code",
      "metadata": {
        "id": "FW5YxewcO2N8",
        "colab_type": "code",
        "colab": {
          "base_uri": "https://localhost:8080/",
          "height": 128
        },
        "outputId": "63a0c901-094a-4938-bf5c-35f82b1e4fe3"
      },
      "source": [
        "(1+(//4))"
      ],
      "execution_count": null,
      "outputs": [
        {
          "output_type": "error",
          "ename": "SyntaxError",
          "evalue": "ignored",
          "traceback": [
            "\u001b[0;36m  File \u001b[0;32m\"<ipython-input-4-800664d55801>\"\u001b[0;36m, line \u001b[0;32m1\u001b[0m\n\u001b[0;31m    (1+(//4))\u001b[0m\n\u001b[0m         ^\u001b[0m\n\u001b[0;31mSyntaxError\u001b[0m\u001b[0;31m:\u001b[0m invalid syntax\n"
          ]
        }
      ]
    },
    {
      "cell_type": "markdown",
      "metadata": {
        "id": "Mk-HpgpKO5ps",
        "colab_type": "text"
      },
      "source": [
        "Python bize hatanın hangii satırda, tam olarak kodun hangi kısmında ve hatanın türüni ve açıklamasını yazarak bize hatanının her türlü bilgisini vererek hatayı çözmemize olanak sağlar."
      ]
    },
    {
      "cell_type": "markdown",
      "metadata": {
        "id": "Mt3L3CuGPIvY",
        "colab_type": "text"
      },
      "source": [
        "**Important Side Note**"
      ]
    },
    {
      "cell_type": "markdown",
      "metadata": {
        "id": "eHisSH4yPUGb",
        "colab_type": "text"
      },
      "source": [
        "kullanabileceğimiz diğer 2 operatör ise ** veya % dir."
      ]
    },
    {
      "cell_type": "code",
      "metadata": {
        "id": "7uth2wqmPi0b",
        "colab_type": "code",
        "colab": {
          "base_uri": "https://localhost:8080/",
          "height": 84
        },
        "outputId": "3db8c02e-db55-4f5f-9f91-5b1af865e3d4"
      },
      "source": [
        "# ** operatörü sayının karesini, karakökünü ve küpünü alabilmemizi\n",
        "# sağlayan operatördür.\n",
        "# veya bir sayıyı birden fazla kez çarptırabiliriz\n",
        "\n",
        "print(2 ** 5)\n",
        "print(2 ** 2)\n",
        "print(100 ** 0.5)\n",
        "\n",
        "# % operatörü modül operatörü olarak geçer\n",
        "# bu operatör bir bölme işleminde kalanı gösterir\n",
        "\n",
        "print(11 % 2)\n",
        "# 11 ile 2 yi böldü ve kalan sayı olan 1 i ise ekrana yazdırdık"
      ],
      "execution_count": null,
      "outputs": [
        {
          "output_type": "stream",
          "text": [
            "32\n",
            "4\n",
            "10.0\n",
            "1\n"
          ],
          "name": "stdout"
        }
      ]
    }
  ]
}