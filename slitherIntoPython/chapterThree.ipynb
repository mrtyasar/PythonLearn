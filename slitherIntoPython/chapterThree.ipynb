{
  "nbformat": 4,
  "nbformat_minor": 0,
  "metadata": {
    "colab": {
      "name": "chapterThree.ipynb",
      "provenance": []
    },
    "kernelspec": {
      "name": "python3",
      "display_name": "Python 3"
    }
  },
  "cells": [
    {
      "cell_type": "markdown",
      "metadata": {
        "id": "v-zR01tNxpuO",
        "colab_type": "text"
      },
      "source": [
        "# Chapter 3 - Veriables, Floats, Input and Printing"
      ]
    },
    {
      "cell_type": "markdown",
      "metadata": {
        "id": "HHhcQEBax3Jl",
        "colab_type": "text"
      },
      "source": [
        "**3.1 - Veriable Assignment**"
      ]
    },
    {
      "cell_type": "markdown",
      "metadata": {
        "id": "hP-ePClYyREx",
        "colab_type": "text"
      },
      "source": [
        "Değişkenler belleği yani rami kullanarak verileri içinde saklayan yapılara denir.\n",
        "\n",
        "Değişken kullanmamızdaki amaç veriyi sürekli yazmak yerine bir değişkene atayarak kolayca kullanabiliriz, ayrıca veriyi temsil edecek bir şekilde değişkenin içinde saklayarak verinin ne olduğunu açıklayarabiliriz"
      ]
    },
    {
      "cell_type": "code",
      "metadata": {
        "id": "8Nk0d2aDxMjf",
        "colab_type": "code",
        "colab": {}
      },
      "source": [
        "değiskenAdi = veri"
      ],
      "execution_count": null,
      "outputs": []
    },
    {
      "cell_type": "markdown",
      "metadata": {
        "id": "92Ef7hTGzI5U",
        "colab_type": "text"
      },
      "source": [
        "= işaretine atama ifadesi denir."
      ]
    },
    {
      "cell_type": "markdown",
      "metadata": {
        "id": "8uPjY0j_056T",
        "colab_type": "text"
      },
      "source": [
        "Dünyanın yaklaşık olarak yüzey yüzey alanını hesaplayalım:"
      ]
    },
    {
      "cell_type": "code",
      "metadata": {
        "id": "pWfRmk8B3z2J",
        "colab_type": "code",
        "colab": {
          "base_uri": "https://localhost:8080/",
          "height": 34
        },
        "outputId": "29c7dd32-ed33-4897-c3d4-227d16b791f3"
      },
      "source": [
        "radius_of_earth = 6371\n",
        "pi = 3.14\n",
        "surface_area = 4 * pi * (radius_of_earth ** 2)\n",
        "print(surface_area)"
      ],
      "execution_count": 2,
      "outputs": [
        {
          "output_type": "stream",
          "text": [
            "509805890.96000004\n"
          ],
          "name": "stdout"
        }
      ]
    },
    {
      "cell_type": "markdown",
      "metadata": {
        "id": "c-Mc7JUx4XAo",
        "colab_type": "text"
      },
      "source": [
        "**yorumlar**"
      ]
    },
    {
      "cell_type": "code",
      "metadata": {
        "id": "1CCCJPFb4aFF",
        "colab_type": "code",
        "colab": {}
      },
      "source": [
        "# bu bir yorumdur\n",
        "\n",
        "\"\"\"\n",
        "bu çok\n",
        "satırlı \n",
        "bir \n",
        "yorumdur\n",
        "\"\"\""
      ],
      "execution_count": null,
      "outputs": []
    },
    {
      "cell_type": "markdown",
      "metadata": {
        "id": "9z2diJ8Q4fjj",
        "colab_type": "text"
      },
      "source": [
        "Yazacağımız kodlarda kessinlikle yorum bulunması gerekir, bunun en büyük sebebi bir süre sonra o kodda neler olduğunu unuttuğumuzda yorumlar işte o zaman hatırlatıcı görevinde bulunurlar.\n",
        "\n",
        "#\n",
        "\n",
        "tek bir satırlık yorumlar için kullanılır\n",
        "\n",
        "\"\"\" \"\"\"\n",
        "\n",
        "çok satırlık yorumlar için kullanılır\n",
        "\n",
        "kodumuzda yorumları bulunması ileride bizde veya başkasına fayda sağlasa da gereksiz yorumlar, kodumuzda yer kaplayacak ve görüntü kirliliği oluşturacak."
      ]
    },
    {
      "cell_type": "markdown",
      "metadata": {
        "id": "O9302rEP5jKQ",
        "colab_type": "text"
      },
      "source": [
        "**3.2 - Floating-point types**"
      ]
    },
    {
      "cell_type": "markdown",
      "metadata": {
        "id": "7aXvnIvb6eQm",
        "colab_type": "text"
      },
      "source": [
        "bizim bildiğimiz ondalık sayılar, python'da float olan sayılar bir veri türüdür."
      ]
    },
    {
      "cell_type": "code",
      "metadata": {
        "id": "PPFarfKP60fo",
        "colab_type": "code",
        "colab": {
          "base_uri": "https://localhost:8080/",
          "height": 34
        },
        "outputId": "b7da8111-390d-4bab-94f8-d8471801c1ee"
      },
      "source": [
        "pi = 3.14\n",
        "\n",
        "ekranInc = 23.8\n",
        "print(type(ekranInc))"
      ],
      "execution_count": 3,
      "outputs": [
        {
          "output_type": "stream",
          "text": [
            "<class 'float'>\n"
          ],
          "name": "stdout"
        }
      ]
    },
    {
      "cell_type": "markdown",
      "metadata": {
        "id": "dPU66aEz6-OV",
        "colab_type": "text"
      },
      "source": [
        "type() fonksiyonu ile verilerin hangi veri tipine sahip olduklarını öğrenebiliriz."
      ]
    },
    {
      "cell_type": "markdown",
      "metadata": {
        "id": "HdyEb4yf7OqU",
        "colab_type": "text"
      },
      "source": [
        "float sayılarda integer sayılar gibi işlemler yapılabilir, ayrıca bu iki ayrı veri tipiyle işlemler yapabiliriz."
      ]
    },
    {
      "cell_type": "code",
      "metadata": {
        "id": "pFYBXHjJ7a9p",
        "colab_type": "code",
        "colab": {
          "base_uri": "https://localhost:8080/",
          "height": 67
        },
        "outputId": "c56e2847-0caf-461f-8e79-d6ef97d5fe51"
      },
      "source": [
        "print(100.5 * 5)\n",
        "print(2.0 // 1.0)\n",
        "print(2.0 * 4.2)"
      ],
      "execution_count": 6,
      "outputs": [
        {
          "output_type": "stream",
          "text": [
            "502.5\n",
            "2.0\n",
            "8.4\n"
          ],
          "name": "stdout"
        }
      ]
    },
    {
      "cell_type": "markdown",
      "metadata": {
        "id": "D12_TPmI79xo",
        "colab_type": "text"
      },
      "source": [
        "neden sadece / bölme işaretini kullanmıyoruz?"
      ]
    },
    {
      "cell_type": "markdown",
      "metadata": {
        "id": "KJXa4sbO8EZ8",
        "colab_type": "text"
      },
      "source": [
        "Çünkü / bölme operatörüyle yapılan bölmelerin sonucu her zaman float türünde olur,\n",
        "\n",
        "// bölme operatörü ise sayıları tam böler bu yüzden sonuç tam sayı olur(integer)."
      ]
    },
    {
      "cell_type": "code",
      "metadata": {
        "id": "mAtXwkkj8Xwi",
        "colab_type": "code",
        "colab": {
          "base_uri": "https://localhost:8080/",
          "height": 50
        },
        "outputId": "6b38536d-e50b-4fdb-fe7f-d92ab6977e7a"
      },
      "source": [
        "print(20 // 10)\n",
        "\n",
        "print(20 / 10)"
      ],
      "execution_count": 7,
      "outputs": [
        {
          "output_type": "stream",
          "text": [
            "2\n",
            "2.0\n"
          ],
          "name": "stdout"
        }
      ]
    },
    {
      "cell_type": "markdown",
      "metadata": {
        "id": "QfVR0N039Rc7",
        "colab_type": "text"
      },
      "source": [
        "negatif kayan noktalı sayıları da normal bir şekilde yazabiliriz:"
      ]
    },
    {
      "cell_type": "code",
      "metadata": {
        "id": "BKdMsiOh9ZHY",
        "colab_type": "code",
        "colab": {}
      },
      "source": [
        "-3.14"
      ],
      "execution_count": null,
      "outputs": []
    },
    {
      "cell_type": "markdown",
      "metadata": {
        "id": "2MwvV_QA9cfi",
        "colab_type": "text"
      },
      "source": [
        "**3.3 - Getting user input**"
      ]
    },
    {
      "cell_type": "markdown",
      "metadata": {
        "id": "nTf_ETHb9lEJ",
        "colab_type": "text"
      },
      "source": [
        ""
      ]
    },
    {
      "cell_type": "markdown",
      "metadata": {
        "id": "f1c0eNPa-cUr",
        "colab_type": "text"
      },
      "source": [
        "Kullanıcıdan girdi almak için input() fonksiyonunu kullanırız.\n",
        "\n",
        "bu fonksiyon sayesinde kullanıcıya ulaşabilir, kullanıcıdan aldığımız verilerle işlemler yapabiliriz.\n",
        "\n",
        "Bu fonksiyonun en büyük ayrıntısı ise, kessinlikle kullanıcıdan gelen veriyi bir değişkene saklamamız lazım. O yüzdendir, input fonkisyonu kullandığımız değişkenlere kullanıcıdan beklediğimiz veriyi temsil eden bir isim koymamız lazım."
      ]
    },
    {
      "cell_type": "code",
      "metadata": {
        "id": "GrI99uGz-84I",
        "colab_type": "code",
        "colab": {
          "base_uri": "https://localhost:8080/",
          "height": 50
        },
        "outputId": "0e512019-8850-4767-f893-bf5f321fbc6a"
      },
      "source": [
        "userName = input('Lütfen adınızı yazınız?: ')\n",
        "print(userName)"
      ],
      "execution_count": 9,
      "outputs": [
        {
          "output_type": "stream",
          "text": [
            "Lütfen adınızı yazınız?: jack\n",
            "jack\n"
          ],
          "name": "stdout"
        }
      ]
    },
    {
      "cell_type": "markdown",
      "metadata": {
        "id": "BaHp4Z6Z_vZ4",
        "colab_type": "text"
      },
      "source": [
        "input() fonksiyonu girdileri str olarak döndürür, bu yüzden eğer kullanıcının yazacaği ve bizim işlerimizi sayısal ise input() fonksiyonu sayısal bir veri tipine dönüştürmemiz lazım."
      ]
    },
    {
      "cell_type": "markdown",
      "metadata": {
        "id": "1TE-GmkPASvf",
        "colab_type": "text"
      },
      "source": [
        "kullanıcının sayısal bir değer girmesine karşılık izlebileceğimiz iki yol var.\n",
        "\n",
        "1. eval() kullanmak."
      ]
    },
    {
      "cell_type": "markdown",
      "metadata": {
        "id": "LXFzr9sxBx-0",
        "colab_type": "text"
      },
      "source": [
        "eval() fonksiyonu tehlikeli bir fonksiyonudr. eğer tehlikeleri bertaraf edilemeyecek bir ortamda kullanılması önerilmez."
      ]
    },
    {
      "cell_type": "code",
      "metadata": {
        "id": "KnTsjWp2AcNo",
        "colab_type": "code",
        "colab": {
          "base_uri": "https://localhost:8080/",
          "height": 50
        },
        "outputId": "3306ed02-0a13-4cac-8d27-90ce0d3ab08d"
      },
      "source": [
        "x = eval(input('bir sayı giriniz: '))\n",
        "print(x + 10)"
      ],
      "execution_count": 10,
      "outputs": [
        {
          "output_type": "stream",
          "text": [
            "bir sayı giriniz: 10\n",
            "20\n"
          ],
          "name": "stdout"
        }
      ]
    },
    {
      "cell_type": "markdown",
      "metadata": {
        "id": "Er4HMnlpAnOb",
        "colab_type": "text"
      },
      "source": [
        "2. int() veri tipi dönüştürücü kullanmak\n",
        "\n",
        "Bu yöntem pratiği ama en hataya meyili yöntemdir. Çünkü eğer input() fonksiyonunu int() veri tipiyle dönüştürmeye çalışırsak ve kullanıcı sayısal bir değer değilde farklı bir değer girerse, int() dönüştürücü veriyi dönüştüremeyecek ve ValueError hatası verecek.\n",
        "\n",
        "Fakat bu hatayı da try...except.. bloğu ile çözülebilir."
      ]
    },
    {
      "cell_type": "markdown",
      "metadata": {
        "id": "jiVR4twSE2_R",
        "colab_type": "text"
      },
      "source": [
        "**3.4 - The Print Function**"
      ]
    },
    {
      "cell_type": "markdown",
      "metadata": {
        "id": "zB3GCjqUFJCw",
        "colab_type": "text"
      },
      "source": [
        "elimizde belli veriler var ve kullanıcıya bunu göstermek istiyoruz, veya kullanıcıdan girdi alıyoruz ve bu girdiyi ekrana print() fonksiyonuyla yazdırıyoruz.\n",
        "\n",
        "yani aslında bilgisayarı işlevleri olan, girdi alan bu girdilerle bir şeyler yapabilen ve sonra değer verip bunu ekranda gösterebilen makineler diyebiliriz."
      ]
    },
    {
      "cell_type": "code",
      "metadata": {
        "id": "G4mitzmLF5c8",
        "colab_type": "code",
        "colab": {
          "base_uri": "https://localhost:8080/",
          "height": 67
        },
        "outputId": "b8d78138-fe21-4a19-f544-c63925b6301e"
      },
      "source": [
        "print('Hello')\n",
        "print('Selamlar')\n",
        "print(10 + 100)"
      ],
      "execution_count": 11,
      "outputs": [
        {
          "output_type": "stream",
          "text": [
            "Hello\n",
            "Selamlar\n",
            "110\n"
          ],
          "name": "stdout"
        }
      ]
    },
    {
      "cell_type": "markdown",
      "metadata": {
        "id": "NaXGUrfcGFcm",
        "colab_type": "text"
      },
      "source": [
        "**Recap:**"
      ]
    },
    {
      "cell_type": "markdown",
      "metadata": {
        "id": "mkDDgmqEGJJH",
        "colab_type": "text"
      },
      "source": [
        "- verileri programımızda nasıl saklayabileceğimizi öğrendik. Bu işlemi değişken oluşturup değişkene veri atayarak yaparız.\n",
        "\n",
        "- Yeni bir veri tipini öğrendik: Float.\n",
        "\n",
        "- Bölünmesinin iki şekilde yapabileceğini öğrendik:\n",
        "\n",
        "// tam bölme işlemi yapar tam sayı döndürür\n",
        "\n",
        "/ küsüratlı böler float döndürür\n",
        "\n",
        "- input() fonksiyonu sayesinde kullanıcıdan giri alabiliriz\n",
        "\n",
        "- print() fonksiyonu sayesinde elimizdeki bilgileri ekrana yazdırabiliriz\n",
        "\n",
        "Tüm bu yeni öğrendiklerimizi bir programda toplayalım:"
      ]
    },
    {
      "cell_type": "code",
      "metadata": {
        "id": "Pyhq5hbXG5Ar",
        "colab_type": "code",
        "colab": {
          "base_uri": "https://localhost:8080/",
          "height": 118
        },
        "outputId": "225fba50-7be2-4918-e983-66581c91cf5b"
      },
      "source": [
        "name = input('İsminizi yazınız: ')\n",
        "print('Selam',name +'.')\n",
        "number = int(input('Tam sayılı olarak 5 e böleceğiniz sayı: '))\n",
        "print(number // 5)\n",
        "numberOne = int(input('Ondalıklı sayıl olarak 5 e böleceğiniz sayı: '))\n",
        "print(numberOne / 5)"
      ],
      "execution_count": 14,
      "outputs": [
        {
          "output_type": "stream",
          "text": [
            "İsminizi yazınız: murat\n",
            "Selam murat.\n",
            "Tam sayılı olarak 5 e böleceğiniz sayı: 10\n",
            "2\n",
            "Ondalıklı sayıl olarak 5 e böleceğiniz sayı: 10\n",
            "2.0\n"
          ],
          "name": "stdout"
        }
      ]
    },
    {
      "cell_type": "markdown",
      "metadata": {
        "id": "gg4rafp7IBNe",
        "colab_type": "text"
      },
      "source": [
        "# 3.5 - Exercises"
      ]
    },
    {
      "cell_type": "markdown",
      "metadata": {
        "id": "Hkdnk59lIGli",
        "colab_type": "text"
      },
      "source": [
        "**Question 1**"
      ]
    },
    {
      "cell_type": "markdown",
      "metadata": {
        "id": "ELaszb6lIJze",
        "colab_type": "text"
      },
      "source": [
        "elimizde 11 tavşan var diyelim: numberOfRabbits = 11\n",
        "\n",
        "bu tavşanlar her 3 ayda bir ikiye katlanıyor.\n",
        "\n",
        "2 yıl sonra tavşan miktarı ne olacaktır?"
      ]
    },
    {
      "cell_type": "markdown",
      "metadata": {
        "id": "YWt3CeS5PnHL",
        "colab_type": "text"
      },
      "source": [
        "benim çözümüm :)) :"
      ]
    },
    {
      "cell_type": "code",
      "metadata": {
        "id": "WJ2hW6mkImYf",
        "colab_type": "code",
        "colab": {
          "base_uri": "https://localhost:8080/",
          "height": 34
        },
        "outputId": "8510ba9e-bc72-43ef-c8e5-2af5b766b872"
      },
      "source": [
        "numberOfRabits = 11\n",
        "months = 24 // 3\n",
        "populasyon = numberOfRabits * months\n",
        "print(populasyon * 2)"
      ],
      "execution_count": 29,
      "outputs": [
        {
          "output_type": "stream",
          "text": [
            "176\n"
          ],
          "name": "stdout"
        }
      ]
    },
    {
      "cell_type": "markdown",
      "metadata": {
        "id": "qc5mHfiKPr-G",
        "colab_type": "text"
      },
      "source": [
        "Doğrusu:"
      ]
    },
    {
      "cell_type": "code",
      "metadata": {
        "id": "payGa6gKP8Ly",
        "colab_type": "code",
        "colab": {
          "base_uri": "https://localhost:8080/",
          "height": 34
        },
        "outputId": "a2a93ba5-536e-4173-8991-f88ca22eeabe"
      },
      "source": [
        "numberOfRabits = 11\n",
        "months = 24\n",
        "# her 3 ayda bir istediği için:\n",
        "pop = months // 3\n",
        "topPopulasyon = numberOfRabits * (2 ** pop)\n",
        "print(topPopulasyon)"
      ],
      "execution_count": 32,
      "outputs": [
        {
          "output_type": "stream",
          "text": [
            "2816\n"
          ],
          "name": "stdout"
        }
      ]
    },
    {
      "cell_type": "markdown",
      "metadata": {
        "id": "67mXmRvuQqo6",
        "colab_type": "text"
      },
      "source": [
        "**Question 2**"
      ]
    },
    {
      "cell_type": "markdown",
      "metadata": {
        "id": "Kyz_uw-YQtsY",
        "colab_type": "text"
      },
      "source": [
        "Bu tavşan işleminin yıl olarak kullanıcının seçebilmesini sağlayın."
      ]
    },
    {
      "cell_type": "code",
      "metadata": {
        "id": "fAaSoaKBQ-Qr",
        "colab_type": "code",
        "colab": {
          "base_uri": "https://localhost:8080/",
          "height": 50
        },
        "outputId": "771cf5e6-f7e3-414d-9ed3-4a70af58a08b"
      },
      "source": [
        "numberOfRabits = 11\n",
        "year = int(input('Seçtiğiniz yılı seçiniz: '))\n",
        "month = 12 * year\n",
        "pop = month // 3\n",
        "topPopulasyon = numberOfRabits * (2 ** pop)\n",
        "print(topPopulasyon)"
      ],
      "execution_count": 42,
      "outputs": [
        {
          "output_type": "stream",
          "text": [
            "Seçtiğiniz yılı seçiniz: 5\n",
            "11534336\n"
          ],
          "name": "stdout"
        }
      ]
    },
    {
      "cell_type": "markdown",
      "metadata": {
        "id": "IL15Ogn6SkV6",
        "colab_type": "text"
      },
      "source": [
        "eğitmenin çözdüğü:"
      ]
    },
    {
      "cell_type": "code",
      "metadata": {
        "id": "quzStQcYRcdY",
        "colab_type": "code",
        "colab": {
          "base_uri": "https://localhost:8080/",
          "height": 50
        },
        "outputId": "d03cdb4a-c8ab-41c2-db4c-eabfd1418c9f"
      },
      "source": [
        "number_of_rabbits = 11\n",
        "years = int(input(\"Enter number of years: \"))\n",
        "\n",
        "months_passed = 12 * years\n",
        "times_pop_doubles = months_passed // 3\n",
        "\n",
        "pop_after_time = number_of_rabbits * (2 ** times_pop_doubles)\n",
        "print(pop_after_time)"
      ],
      "execution_count": 39,
      "outputs": [
        {
          "output_type": "stream",
          "text": [
            "Enter number of years: 5\n",
            "11534336\n"
          ],
          "name": "stdout"
        }
      ]
    },
    {
      "cell_type": "markdown",
      "metadata": {
        "id": "ewGfJbqZSpJd",
        "colab_type": "text"
      },
      "source": [
        "**Question 3**"
      ]
    },
    {
      "cell_type": "markdown",
      "metadata": {
        "id": "0QLZNqdIS7HJ",
        "colab_type": "text"
      },
      "source": [
        "Diyelim kullanıcı x değikenine 3 verdi y değişkenine 11\n",
        "\n",
        "şimdi programamız x değişkeni 11 y değişkeni 3 yapacak peki bunu nasıl yapacağız:"
      ]
    },
    {
      "cell_type": "code",
      "metadata": {
        "id": "1COfk7Z8TH-L",
        "colab_type": "code",
        "colab": {
          "base_uri": "https://localhost:8080/",
          "height": 134
        },
        "outputId": "c075a661-86bf-4ef3-fc9e-124b7700ab30"
      },
      "source": [
        "x = input('x değişkeni için bir değer giriniz: ')\n",
        "y = input('y değişkeni için bir değer giriniz: ')\n",
        "print(x)\n",
        "print(y)\n",
        "\n",
        "askUser = input('Değerleri değiştirmek istiyor musunuz?(E veya H yazınız): ')\n",
        "if askUser == 'E':\n",
        "  x,y = y,x\n",
        "  print('x değişkenin yeni hali,',x)\n",
        "  print('y değişkenin yeni hali,',y)\n",
        "elif askUser == 'H':\n",
        "  print('peki.. bay bay...')\n",
        "  print('x değişkenin değeri,',x)\n",
        "  print('y değişkenin değeri,',y)\n",
        "else:\n",
        "  print('Lütfen sadece sizden istenen harfleri yazınız...')  "
      ],
      "execution_count": 47,
      "outputs": [
        {
          "output_type": "stream",
          "text": [
            "x değişkeni için bir değer giriniz: 3\n",
            "y değişkeni için bir değer giriniz: 11\n",
            "3\n",
            "11\n",
            "Değerleri değiştirmek istiyor musunuz?(E veya H yazınız): E\n",
            "x değişkenin yeni hali, 11\n",
            "y değişkein yeni hali, 3\n"
          ],
          "name": "stdout"
        }
      ]
    },
    {
      "cell_type": "markdown",
      "metadata": {
        "id": "TVv5kiDuUvm-",
        "colab_type": "text"
      },
      "source": [
        "eğitmenin:"
      ]
    },
    {
      "cell_type": "code",
      "metadata": {
        "id": "xp5ptysUUyfN",
        "colab_type": "code",
        "colab": {
          "base_uri": "https://localhost:8080/",
          "height": 84
        },
        "outputId": "0d5d10bf-6e7b-4e67-e9f7-ed377582cb66"
      },
      "source": [
        "x = input('X value: ')\n",
        "y = input('Y values: ')\n",
        "\n",
        "tmp = x\n",
        "x = y\n",
        "y = tmp\n",
        "\n",
        "print('X after swap: '+ x)\n",
        "print('Y after swap: '+ y)"
      ],
      "execution_count": 48,
      "outputs": [
        {
          "output_type": "stream",
          "text": [
            "X value: 3\n",
            "Y values: 11\n",
            "X after swap: 11\n",
            "Y after swap: 3\n"
          ],
          "name": "stdout"
        }
      ]
    }
  ]
}