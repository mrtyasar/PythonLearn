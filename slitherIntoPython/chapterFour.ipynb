{
  "nbformat": 4,
  "nbformat_minor": 0,
  "metadata": {
    "colab": {
      "name": "chapterFour.ipynb",
      "provenance": [],
      "collapsed_sections": []
    },
    "kernelspec": {
      "name": "python3",
      "display_name": "Python 3"
    }
  },
  "cells": [
    {
      "cell_type": "markdown",
      "metadata": {
        "id": "d0mwHVhrhgun",
        "colab_type": "text"
      },
      "source": [
        "# Chapter 4 - Control Flow "
      ]
    },
    {
      "cell_type": "markdown",
      "metadata": {
        "id": "PQ3lRf_BhlqD",
        "colab_type": "text"
      },
      "source": [
        "**4.1 - Booleans**"
      ]
    },
    {
      "cell_type": "markdown",
      "metadata": {
        "id": "Hcn7w7WRxEBB",
        "colab_type": "text"
      },
      "source": [
        "Bu konuları anlamak için truth tables."
      ]
    },
    {
      "cell_type": "code",
      "metadata": {
        "id": "aS9Sjc74hZ2Q",
        "colab_type": "code",
        "colab": {}
      },
      "source": [
        "if want milk:\n",
        "  take wilk from fidge\n",
        "  pour milk"
      ],
      "execution_count": null,
      "outputs": []
    },
    {
      "cell_type": "markdown",
      "metadata": {
        "id": "3b30zqMuxlpP",
        "colab_type": "text"
      },
      "source": [
        "yukarıdaki örneğe programlama da control flow denir. Adı üstünde bir şeyleri kontrol etmek için bu yapıdan yararlanırız.\n",
        "\n",
        "Örneğin burada eğer sütü istersek bunu yap dedik, yani burada sütü isteyip istemediğimizi kontrol edip bu duruma göre işlemler yapıyoruz."
      ]
    },
    {
      "cell_type": "markdown",
      "metadata": {
        "id": "FfmNOBiWyZE_",
        "colab_type": "text"
      },
      "source": [
        "bu kodların veri tipi bool'dur. uzun adıyla boolean.\n",
        "\n",
        "bool ifadeler sadece 2 değer alabilir. 0 veya 1. True or False.\n",
        "\n",
        "yukarıda eğer(if) süt istenilirse: şu kodları çalıştırdık diyerek aslında burada süt istemek veya istememek olarak iki koşul yaratıyor, True gelirse kodumuz çalışacak."
      ]
    },
    {
      "cell_type": "code",
      "metadata": {
        "id": "QrCH7USa2xPw",
        "colab_type": "code",
        "colab": {
          "base_uri": "https://localhost:8080/",
          "height": 34
        },
        "outputId": "8bd612f9-3f58-4f0c-b834-faf2c442094c"
      },
      "source": [
        "type(True)"
      ],
      "execution_count": null,
      "outputs": [
        {
          "output_type": "execute_result",
          "data": {
            "text/plain": [
              "bool"
            ]
          },
          "metadata": {
            "tags": []
          },
          "execution_count": 1
        }
      ]
    },
    {
      "cell_type": "code",
      "metadata": {
        "id": "X_9aJ0gC24dg",
        "colab_type": "code",
        "colab": {
          "base_uri": "https://localhost:8080/",
          "height": 34
        },
        "outputId": "fab8d001-45bd-4653-8e27-f188e6da0822"
      },
      "source": [
        "type(False)"
      ],
      "execution_count": null,
      "outputs": [
        {
          "output_type": "execute_result",
          "data": {
            "text/plain": [
              "bool"
            ]
          },
          "metadata": {
            "tags": []
          },
          "execution_count": 2
        }
      ]
    },
    {
      "cell_type": "markdown",
      "metadata": {
        "id": "vq0onBkL9FDS",
        "colab_type": "text"
      },
      "source": [
        "programlama da 0 haricinde haricinde tüm tam sayılar True dur.\n",
        "0.0 hariç tüm kayan noktalı sayılar True dur\n",
        "'' boş dizler hariç tüm dizeler True dur.\n",
        "\n",
        "yani 0 , 0.0, '' boşluk içeren tüm değerler False olarak geçer."
      ]
    },
    {
      "cell_type": "code",
      "metadata": {
        "id": "M5BdBYOa9coU",
        "colab_type": "code",
        "colab": {
          "base_uri": "https://localhost:8080/",
          "height": 84
        },
        "outputId": "971094ee-951c-4a68-f903-4b38a34b5d6e"
      },
      "source": [
        "print(False == 0)\n",
        "print(False == 1)\n",
        "print(False == 0.0)"
      ],
      "execution_count": null,
      "outputs": [
        {
          "output_type": "stream",
          "text": [
            "True\n",
            "False\n",
            "True\n",
            "False\n"
          ],
          "name": "stdout"
        }
      ]
    },
    {
      "cell_type": "code",
      "metadata": {
        "id": "RRlvkicW97aw",
        "colab_type": "code",
        "colab": {
          "base_uri": "https://localhost:8080/",
          "height": 50
        },
        "outputId": "6cc37601-57bc-4fce-d48d-572b806fb440"
      },
      "source": [
        "print(bool(0.0))\n",
        "\n",
        "print(bool('ksks'))"
      ],
      "execution_count": null,
      "outputs": [
        {
          "output_type": "stream",
          "text": [
            "False\n",
            "True\n"
          ],
          "name": "stdout"
        }
      ]
    },
    {
      "cell_type": "markdown",
      "metadata": {
        "id": "I-_-U2QD-Bqw",
        "colab_type": "text"
      },
      "source": [
        "bool() işlevini kullanarak verilerin True değerli mi yoksa False değerli mi olduğunu bulabiliriz."
      ]
    },
    {
      "cell_type": "markdown",
      "metadata": {
        "id": "1vgz1aDG-QGv",
        "colab_type": "text"
      },
      "source": [
        "**Booleans operators**"
      ]
    },
    {
      "cell_type": "markdown",
      "metadata": {
        "id": "MP7NHegPXg5p",
        "colab_type": "text"
      },
      "source": [
        "OR \n",
        "\n",
        "sadece her iki koşul False olursa ancak o zaman False olur. Bunun haricinde tüm koşulları True dur"
      ]
    },
    {
      "cell_type": "code",
      "metadata": {
        "id": "Knbd5dnaX06-",
        "colab_type": "code",
        "colab": {}
      },
      "source": [
        "True or True == True\n",
        "True or False == True\n",
        "False or True == True\n",
        "False or False == False"
      ],
      "execution_count": null,
      "outputs": []
    },
    {
      "cell_type": "markdown",
      "metadata": {
        "id": "1fGekLOvX_eQ",
        "colab_type": "text"
      },
      "source": [
        "AND\n",
        "\n",
        "Her iki koşulunda True olması lazım onun haricinde tüm koşullar False dir."
      ]
    },
    {
      "cell_type": "code",
      "metadata": {
        "id": "yO8QwrSkYFPA",
        "colab_type": "code",
        "colab": {}
      },
      "source": [
        "True and True == True\n",
        "True and False == False\n",
        "False and True == False\n",
        "False and False == False"
      ],
      "execution_count": null,
      "outputs": []
    },
    {
      "cell_type": "markdown",
      "metadata": {
        "id": "zVi14_BpYTEf",
        "colab_type": "text"
      },
      "source": [
        "NOT\n",
        "\n",
        "yok değil anlamında kullanılır, koşulları tersine çevirir."
      ]
    },
    {
      "cell_type": "code",
      "metadata": {
        "id": "ru4IVcJ6YgFv",
        "colab_type": "code",
        "colab": {}
      },
      "source": [
        "not True == False\n",
        "not False == True"
      ],
      "execution_count": null,
      "outputs": []
    },
    {
      "cell_type": "markdown",
      "metadata": {
        "id": "g4dyz2HKYtdu",
        "colab_type": "text"
      },
      "source": [
        "hatırlatma:\n",
        "\n",
        "Truth tables iyi bilmek lazım, pythonu kullandığımız süre boyunca işimize yarayacaktır."
      ]
    },
    {
      "cell_type": "markdown",
      "metadata": {
        "id": "1MpNd_lGY2If",
        "colab_type": "text"
      },
      "source": [
        "**4.2 - The if Statement**"
      ]
    },
    {
      "cell_type": "markdown",
      "metadata": {
        "id": "roJGuV0OZKrK",
        "colab_type": "text"
      },
      "source": [
        "Comparison Operator"
      ]
    },
    {
      "cell_type": "markdown",
      "metadata": {
        "id": "g-QttNpdZPZA",
        "colab_type": "text"
      },
      "source": [
        "==  eşittir, eşit midir, eşitse\n",
        "\n",
        "!=  eşit değildir\n",
        "\n",
        "<   küçüktür\n",
        "\n",
        "\">\"   büyüktür\n",
        "\n",
        "<=  küçük veya eşittir\n",
        "\n",
        "\">=\" büyük veya eşittir "
      ]
    },
    {
      "cell_type": "code",
      "metadata": {
        "id": "11m2EI3PZpFw",
        "colab_type": "code",
        "colab": {
          "base_uri": "https://localhost:8080/",
          "height": 168
        },
        "outputId": "71c83358-3d18-4a52-b114-632293d7b48d"
      },
      "source": [
        "print(1 == 1)\n",
        "print(1 == 2)\n",
        "print(10 != 4)\n",
        "print(4 != 4)\n",
        "print(11 > 9)\n",
        "print(3 > 5)\n",
        "print(10 < 2)\n",
        "print(2 > 10)\n",
        "print(13 >= 13)"
      ],
      "execution_count": null,
      "outputs": [
        {
          "output_type": "stream",
          "text": [
            "True\n",
            "False\n",
            "True\n",
            "False\n",
            "True\n",
            "False\n",
            "False\n",
            "False\n",
            "True\n"
          ],
          "name": "stdout"
        }
      ]
    },
    {
      "cell_type": "markdown",
      "metadata": {
        "id": "3PfXf4efaFsE",
        "colab_type": "text"
      },
      "source": [
        "**if ifadesi**"
      ]
    },
    {
      "cell_type": "code",
      "metadata": {
        "id": "Eq-Q1Qc9aMnX",
        "colab_type": "code",
        "colab": {
          "base_uri": "https://localhost:8080/",
          "height": 67
        },
        "outputId": "03d5ed0d-71c4-42a2-feaf-0b39b5f80fc8"
      },
      "source": [
        "wantsDrink = input('Do you want a drink with your meal? (yes or no): ')\n",
        "if wantsDrink == 'yes':\n",
        "  print('That will cost an extra $1.50')\n",
        "print('Thank you! Enjoy your meal.')"
      ],
      "execution_count": null,
      "outputs": [
        {
          "output_type": "stream",
          "text": [
            "Do you want a drink with your meal? (yes or no): yes\n",
            "That will cost an extra $1.50\n",
            "Thank you! Enjoy your meal.\n"
          ],
          "name": "stdout"
        }
      ]
    },
    {
      "cell_type": "markdown",
      "metadata": {
        "id": "SkR2iMLqaoSX",
        "colab_type": "text"
      },
      "source": [
        "bu kodda iki türlü çıktı alabiliriz:"
      ]
    },
    {
      "cell_type": "code",
      "metadata": {
        "id": "-lO9ZYGSatJn",
        "colab_type": "code",
        "colab": {}
      },
      "source": [
        "# KULLANICI YES DERSE\n",
        "Do you want a drink with your meal? (yes or no): yes\n",
        "That will cost an extra £1.50\n",
        "Thank you! Enjoy your meal\n",
        "\n",
        "# KULLANICI NO DERSE\n",
        "Do you want a drink with your meal? (yes or no): no\n",
        "Thank you! Enjoy your meal"
      ],
      "execution_count": null,
      "outputs": []
    },
    {
      "cell_type": "markdown",
      "metadata": {
        "id": "v9QuDDa-bCBn",
        "colab_type": "text"
      },
      "source": [
        "if koşulun syntax yapısı şu şekildedir:"
      ]
    },
    {
      "cell_type": "code",
      "metadata": {
        "id": "cSaXmMKdbGRC",
        "colab_type": "code",
        "colab": {}
      },
      "source": [
        "if <koşul>:\n",
        "  # koşul True olursa çalıştıralacak kod bloğu  "
      ],
      "execution_count": null,
      "outputs": []
    },
    {
      "cell_type": "markdown",
      "metadata": {
        "id": "PijesJ7KbfBv",
        "colab_type": "text"
      },
      "source": [
        "syntax yapısında dikkat edilmesi gereken en önemli nokta if koşul yazıldıktan sonra her zaman (:) iki nokta üst üste eklenir:\n",
        "\n",
        "kod bloğu girintili şekilde yazılır.\n",
        "\n",
        "tüm ide ve editörler bunu otamatik olarak belirlese de girinti oluşturmak için 1 tab tuşu veya 4 boşluk tuşuna basarak oluşturabiliriz."
      ]
    },
    {
      "cell_type": "code",
      "metadata": {
        "id": "6Vp4hMZpcM-o",
        "colab_type": "code",
        "colab": {
          "base_uri": "https://localhost:8080/",
          "height": 101
        },
        "outputId": "bc47ed41-f764-4cdd-b682-065ac459084f"
      },
      "source": [
        "myNumber = int(input('Enter your a number: '))\n",
        "if myNumber <= 10:\n",
        "  print('First line')\n",
        "  print('Second line')\n",
        "myFloat = 4.3\n",
        "print('Goodbye')\n",
        "print(myFloat)"
      ],
      "execution_count": null,
      "outputs": [
        {
          "output_type": "stream",
          "text": [
            "Enter your a number: 5\n",
            "First line\n",
            "Second line\n",
            "Goodbye\n",
            "4.3\n"
          ],
          "name": "stdout"
        }
      ]
    },
    {
      "cell_type": "markdown",
      "metadata": {
        "id": "dcGnHQTzcvzO",
        "colab_type": "text"
      },
      "source": [
        "koşulun altında girintili bir şekilde yazılan kodlara kod bloğu denir. Bu kod bloğu bir if koşuluna bağlıdır.\n",
        "\n",
        "eğer bu kodların altında girintisiz bir şekilde yazılan kodlar varsa bu kodlar if koşulundan bağımsız bir şekilde çalışır, tıpki yukarıdaki örnekte bulunan myFlot ve çıktıların işleme alındığı gibi."
      ]
    },
    {
      "cell_type": "markdown",
      "metadata": {
        "id": "CuEd5UuUdksJ",
        "colab_type": "text"
      },
      "source": [
        "**4.3 - The if - else statement**"
      ]
    },
    {
      "cell_type": "markdown",
      "metadata": {
        "id": "x2h4azDFV53_",
        "colab_type": "text"
      },
      "source": [
        "eğer diğer koşulların hiçbiri gerçekleşmezse o zaman else bloğu çalışır."
      ]
    },
    {
      "cell_type": "code",
      "metadata": {
        "id": "oWQupg3HWG6g",
        "colab_type": "code",
        "colab": {
          "base_uri": "https://localhost:8080/",
          "height": 67
        },
        "outputId": "95c0697b-1e48-4ce0-ad76-308cf54d6028"
      },
      "source": [
        "myAge = int(input('Enter your age: '))\n",
        "\n",
        "if myAge >= 18:\n",
        "  print('You can enter')\n",
        "else:\n",
        "  print('You are too young to enter')\n",
        "\n",
        "print('Goodbye')"
      ],
      "execution_count": 1,
      "outputs": [
        {
          "output_type": "stream",
          "text": [
            "Enter your age: 13\n",
            "You are too young to enter\n",
            "Goodbye\n"
          ],
          "name": "stdout"
        }
      ]
    },
    {
      "cell_type": "markdown",
      "metadata": {
        "id": "PUsCQLnmWp5b",
        "colab_type": "text"
      },
      "source": [
        "Yukarıdaki kodda iki farklı çıktı elde edebiliriz:"
      ]
    },
    {
      "cell_type": "code",
      "metadata": {
        "id": "1C2Og3bVWta7",
        "colab_type": "code",
        "colab": {}
      },
      "source": [
        "# Senaryo 1\n",
        "Enter your age: 33\n",
        "you can enter\n",
        "Goodbye\n",
        "\n",
        "# Senaryo 2\n",
        "Enter your age: 14\n",
        "You are too young to enter\n",
        "Goodby"
      ],
      "execution_count": null,
      "outputs": []
    },
    {
      "cell_type": "markdown",
      "metadata": {
        "id": "UdYtekd-W92c",
        "colab_type": "text"
      },
      "source": [
        "syntax yapısı şu şekildedir:"
      ]
    },
    {
      "cell_type": "code",
      "metadata": {
        "id": "2vesYvOPXCGc",
        "colab_type": "code",
        "colab": {}
      },
      "source": [
        "if <koşul>:\n",
        "  # koşul doğruysa bu kod bloğunu çalıştır\n",
        "else:\n",
        "  # koşullar doğru değilse bu kod bloğunu çalıştır"
      ],
      "execution_count": null,
      "outputs": []
    },
    {
      "cell_type": "markdown",
      "metadata": {
        "id": "krlRCMf9XQYG",
        "colab_type": "text"
      },
      "source": [
        "her ifadenin sonunda : eklemeyi unutmayalım\n",
        "\n",
        "ayrıca kod blokları girintili olmak zorundadır."
      ]
    },
    {
      "cell_type": "markdown",
      "metadata": {
        "id": "XDJrrXtoXiz_",
        "colab_type": "text"
      },
      "source": [
        "Girilen sayının çift mi tek mi olduğunu bize söyleyebilen bir program yazalım:"
      ]
    },
    {
      "cell_type": "code",
      "metadata": {
        "id": "YoiP5zinXoqJ",
        "colab_type": "code",
        "colab": {
          "base_uri": "https://localhost:8080/",
          "height": 50
        },
        "outputId": "b25a40fb-f305-4fc9-833e-6e21d959f662"
      },
      "source": [
        "number = int(input('Enter your number: '))\n",
        "\n",
        "if (number % 2) == 0:\n",
        "  print('Your number was even')\n",
        "else:\n",
        "  print('Your number was odd')"
      ],
      "execution_count": 2,
      "outputs": [
        {
          "output_type": "stream",
          "text": [
            "Enter your number:  18\n",
            "Your number was even\n"
          ],
          "name": "stdout"
        }
      ]
    },
    {
      "cell_type": "markdown",
      "metadata": {
        "id": "Vyhx1MXJYLCB",
        "colab_type": "text"
      },
      "source": [
        "karşılaştırma operatörleri ile boole operatörlerini birleştirebiliriz:"
      ]
    },
    {
      "cell_type": "code",
      "metadata": {
        "id": "tsmZMoHPYVu9",
        "colab_type": "code",
        "colab": {
          "base_uri": "https://localhost:8080/",
          "height": 50
        },
        "outputId": "7ea45918-494a-43de-8cbc-3f02465cfcb9"
      },
      "source": [
        "number = int(input('Enter an even number between 50 and 100: '))\n",
        "if (number % 2) == 0 and number > 50 and number < 100:\n",
        "  print(\"you've entered an even number between 50 and 100\")\n",
        "else:\n",
        "  print(\"I don't care about your number\")"
      ],
      "execution_count": 3,
      "outputs": [
        {
          "output_type": "stream",
          "text": [
            "Enter an even number between 50 and 100: 40\n",
            "I don't care about your number\n"
          ],
          "name": "stdout"
        }
      ]
    },
    {
      "cell_type": "markdown",
      "metadata": {
        "id": "2phWeWbZY23u",
        "colab_type": "text"
      },
      "source": [
        "karışık gözükse de bu if koşulumuz 50 ila 100 arasındaki çift sayıları koşul olarak almış yani:\n",
        "\n",
        "50 den büyük 100 den küçük sayıların 2 ile bölünmesinden kalanı 0 ise şunları yap:"
      ]
    },
    {
      "cell_type": "markdown",
      "metadata": {
        "id": "PyuAFdPtZQ5y",
        "colab_type": "text"
      },
      "source": [
        "çift sayı programamızı tek sayı programı haline getirelim:"
      ]
    },
    {
      "cell_type": "code",
      "metadata": {
        "id": "hrc5e3eQZUkK",
        "colab_type": "code",
        "colab": {
          "base_uri": "https://localhost:8080/",
          "height": 34
        },
        "outputId": "c69141fb-b728-46c6-ebbd-5f85c597059d"
      },
      "source": [
        "if (number % 2) != 0:\n",
        "  print('Your number was odd')\n",
        "else:\n",
        "  print('Your number was even')"
      ],
      "execution_count": 4,
      "outputs": [
        {
          "output_type": "stream",
          "text": [
            "Your number was even\n"
          ],
          "name": "stdout"
        }
      ]
    },
    {
      "cell_type": "markdown",
      "metadata": {
        "id": "rIb3JDL1ZlhU",
        "colab_type": "text"
      },
      "source": [
        "bu programı şu şekilde basitleştirebilriz:"
      ]
    },
    {
      "cell_type": "code",
      "metadata": {
        "id": "qV-KyK7AZow_",
        "colab_type": "code",
        "colab": {
          "base_uri": "https://localhost:8080/",
          "height": 50
        },
        "outputId": "631bb3aa-b7c1-473e-e5bd-433dfae92ab7"
      },
      "source": [
        "number = int(input('Enter your number: '))\n",
        "if number % 2:\n",
        "  print('Your number was odd')\n",
        "else:\n",
        "  print('Your number was even')"
      ],
      "execution_count": 10,
      "outputs": [
        {
          "output_type": "stream",
          "text": [
            "Enter your number: 11\n",
            "Your number was odd\n"
          ],
          "name": "stdout"
        }
      ]
    },
    {
      "cell_type": "markdown",
      "metadata": {
        "id": "pWT8w4TZappo",
        "colab_type": "text"
      },
      "source": [
        "Unutmayalım if ancak koşul True olursa çalışır, eğer başka koşullar yoksa else seçenek olarak çalışır.\n",
        "\n",
        "farklı koşullar yaratmak için elif ifadesinden yararlanırız."
      ]
    },
    {
      "cell_type": "markdown",
      "metadata": {
        "id": "4daxEXAYa5nN",
        "colab_type": "text"
      },
      "source": [
        "4.4 - The elif Statement"
      ]
    },
    {
      "cell_type": "markdown",
      "metadata": {
        "id": "yi-5tSX6fkFM",
        "colab_type": "text"
      },
      "source": [
        "elif if gibi bir koşul alır, fakat elif in if den farkı istediğimiz kadar elif koşulu yaratabiliriz.\n",
        "\n",
        "eğer if koşulu doğru değilse, elif koşuluna geçilir, buda False ise varsa diğer elif koşuluna geçilir, yoksa else kod bloğu çalışır ve koşul işlemimiz sonlanır.\n",
        "\n",
        "sıralanışı:\n",
        "\n",
        "if -- elif -- else"
      ]
    },
    {
      "cell_type": "markdown",
      "metadata": {
        "id": "ghS3TuuTgC-z",
        "colab_type": "text"
      },
      "source": [
        "syntax yapısı şu şekildedir:"
      ]
    },
    {
      "cell_type": "code",
      "metadata": {
        "id": "gW_n7b1tgHGC",
        "colab_type": "code",
        "colab": {}
      },
      "source": [
        "if <koşul 1>:\n",
        "  # koşul True ise çalıştıracak kod bloğu\n",
        "elif <koşul 2>:\n",
        "  # if koşulu doğru değilse ve bu koşul doğruysa çalıştıracak kod bloğu\n",
        "elif <koşul 3>:\n",
        "  # önceki elif koşulu doğru değilse ve bu koşul doğruysa çalıştıralacak kod bloğu\n",
        "else:\n",
        "  # hiçbir koşul True değilse çalıştıracak kod bloğu"
      ],
      "execution_count": null,
      "outputs": []
    },
    {
      "cell_type": "markdown",
      "metadata": {
        "id": "Nr6c_nJTgqa-",
        "colab_type": "text"
      },
      "source": [
        "Bir öğrencinin notunu puanına göre hesaplayan bir program yapalım:"
      ]
    },
    {
      "cell_type": "code",
      "metadata": {
        "id": "Xo9rPHoZg0IS",
        "colab_type": "code",
        "colab": {
          "base_uri": "https://localhost:8080/",
          "height": 50
        },
        "outputId": "37611940-4d60-4e08-d0a9-237ba5432d38"
      },
      "source": [
        "mark = int(input('Enter a mark: '))\n",
        "\n",
        "if mark >= 70:\n",
        "  print('You got a first')\n",
        "elif mark >= 50 and mark < 70:\n",
        "  print('You got a second')\n",
        "elif mark >= 40 and mark < 50:\n",
        "  print('You got a third')\n",
        "else:\n",
        "  print('You failed!')"
      ],
      "execution_count": 11,
      "outputs": [
        {
          "output_type": "stream",
          "text": [
            "Enter a mark: 55\n",
            "You got a second\n"
          ],
          "name": "stdout"
        }
      ]
    },
    {
      "cell_type": "markdown",
      "metadata": {
        "id": "JjwokVpShXcf",
        "colab_type": "text"
      },
      "source": [
        "**4.5 - Nested if statements**"
      ]
    },
    {
      "cell_type": "markdown",
      "metadata": {
        "id": "duGHf6Dwhj0Y",
        "colab_type": "text"
      },
      "source": [
        "elimizde 1 den fazla koşul varsa bunu if ifadelerini iç içe geçirerek yapabiliriz:"
      ]
    },
    {
      "cell_type": "markdown",
      "metadata": {
        "id": "fPTO6I4FhvZh",
        "colab_type": "text"
      },
      "source": [
        "0 ile 3 arasındaki sayıları kelime eşdeğerlerine dönştüren bir program yazalım:"
      ]
    },
    {
      "cell_type": "code",
      "metadata": {
        "id": "DqBodT2ah3Di",
        "colab_type": "code",
        "colab": {
          "base_uri": "https://localhost:8080/",
          "height": 50
        },
        "outputId": "a4061876-30c3-455c-c402-2ea4590c0859"
      },
      "source": [
        "number = int(input('Enter a positive number: '))\n",
        "\n",
        "if number >= 0:\n",
        "  if number == 0:\n",
        "    print('Zero')\n",
        "  elif number == 1:\n",
        "    print('One')\n",
        "  elif number == 2:\n",
        "    print('Two')\n",
        "  elif number == 3:\n",
        "    print('Three')\n",
        "  else:\n",
        "    print('You entered a number greather than three')\n",
        "else:\n",
        "  print('You entered a negative number')"
      ],
      "execution_count": 12,
      "outputs": [
        {
          "output_type": "stream",
          "text": [
            "Enter a positive number: -1\n",
            "You entered a negative number\n"
          ],
          "name": "stdout"
        }
      ]
    }
  ]
}