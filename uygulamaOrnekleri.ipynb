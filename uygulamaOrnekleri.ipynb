{
  "nbformat": 4,
  "nbformat_minor": 0,
  "metadata": {
    "colab": {
      "name": "uygulamaOrnekleri.ipynb",
      "provenance": [],
      "collapsed_sections": []
    },
    "kernelspec": {
      "name": "python3",
      "display_name": "Python 3"
    }
  },
  "cells": [
    {
      "cell_type": "markdown",
      "metadata": {
        "id": "k41kzWvpElvw",
        "colab_type": "text"
      },
      "source": [
        "# Uygulama Örnekleri"
      ]
    },
    {
      "cell_type": "markdown",
      "metadata": {
        "id": "fcjf_pMhEp_k",
        "colab_type": "text"
      },
      "source": [
        "Aylık yol masrafımızı hesaplayan bir program yazalım:\n",
        "\n",
        "+ Cumartesi ve Pazar günleri çalışmıyoruz\n",
        "+ Dolayısıyla ayda 22 gün çalışıyoruz\n",
        "+ Evden işe gitmek için kullandığımız vasıtanın ücreti 1.5 tl\n",
        "+ İşten eve dönmek için kullandığımız vasıtanın ücreti 1.4 tl\n",
        "\n",
        "+ aylık yol masrafını bulmak için gidiş ve dönüş ücretlerini toplayıp aylık çalıştığımız güne çarpmamız lazım"
      ]
    },
    {
      "cell_type": "markdown",
      "metadata": {
        "id": "25nIfli3FJ1d",
        "colab_type": "text"
      },
      "source": [
        "  Formül:\n",
        "  masraf = gün sayısı x (gidis ücreti + dönüs ücreti)"
      ]
    },
    {
      "cell_type": "code",
      "metadata": {
        "id": "ds5cbRvoFRJ9",
        "colab_type": "code",
        "colab": {
          "base_uri": "https://localhost:8080/",
          "height": 34
        },
        "outputId": "a26c513c-b8fe-4a42-eac6-f0a41db886fc"
      },
      "source": [
        "print(22*(1.5+1.4))"
      ],
      "execution_count": 1,
      "outputs": [
        {
          "output_type": "stream",
          "text": [
            "63.8\n"
          ],
          "name": "stdout"
        }
      ]
    },
    {
      "cell_type": "markdown",
      "metadata": {
        "id": "ljMgZqO8FWg-",
        "colab_type": "text"
      },
      "source": [
        "Matematikte olduğu gibi Pythonda da işlem önceliği vardır:\n",
        "+ paranter içi her zaman önce yapılır\n",
        "+ çarpma ve bölme her zaman çıkarma ve toplamadan önce yapılır\n",
        "+ işlemler soldan sağa doğru yapılır"
      ]
    },
    {
      "cell_type": "markdown",
      "metadata": {
        "id": "YDM7alW5Fqlk",
        "colab_type": "text"
      },
      "source": [
        "Bir yılda kaç gün çalışılıyor?"
      ]
    },
    {
      "cell_type": "code",
      "metadata": {
        "id": "OwJslGgBFujX",
        "colab_type": "code",
        "colab": {
          "base_uri": "https://localhost:8080/",
          "height": 34
        },
        "outputId": "5d783627-3782-49a6-e4e4-8f6f12ff8239"
      },
      "source": [
        "print(12*22)"
      ],
      "execution_count": 2,
      "outputs": [
        {
          "output_type": "stream",
          "text": [
            "264\n"
          ],
          "name": "stdout"
        }
      ]
    },
    {
      "cell_type": "markdown",
      "metadata": {
        "id": "zqVFH8DhFznK",
        "colab_type": "text"
      },
      "source": [
        "22 sayısını bu şekilde kullanmak verimsiz olur. Çünkü daha ne kadar kullanacağımız bilmiyoruz, üstelikte değişiklik yapma gereği duyduğumuzda kaç kere yazdıysak tek tek değiştirmek gerekiyor\n",
        "eğer ki değişkene atarsak daha kolay olur"
      ]
    },
    {
      "cell_type": "code",
      "metadata": {
        "id": "zxcE6AiEGK8U",
        "colab_type": "code",
        "colab": {
          "base_uri": "https://localhost:8080/",
          "height": 50
        },
        "outputId": "c10a3215-3c5b-4598-9848-66732186b2c2"
      },
      "source": [
        "gun = 22\n",
        "gidisUcreti = 1.5\n",
        "gelisUcreti = 1.4\n",
        "\n",
        "print(gun*(gidisUcreti+gelisUcreti))\n",
        "print(12*gun)"
      ],
      "execution_count": 4,
      "outputs": [
        {
          "output_type": "stream",
          "text": [
            "63.8\n",
            "264\n"
          ],
          "name": "stdout"
        }
      ]
    },
    {
      "cell_type": "markdown",
      "metadata": {
        "id": "aVTvyzZ_ti1y",
        "colab_type": "text"
      },
      "source": [
        "Bir dairenin alanını yaklaşık olarak hesaplayan bir program yazalım"
      ]
    },
    {
      "cell_type": "markdown",
      "metadata": {
        "id": "Kzj8RVkUtpNU",
        "colab_type": "text"
      },
      "source": [
        "dairenin çapını belirleyelim:"
      ]
    },
    {
      "cell_type": "code",
      "metadata": {
        "id": "n5y19c0CttY6",
        "colab_type": "code",
        "colab": {}
      },
      "source": [
        "cap = 16"
      ],
      "execution_count": 0,
      "outputs": []
    },
    {
      "cell_type": "markdown",
      "metadata": {
        "id": "hmP9uNo4tvcx",
        "colab_type": "text"
      },
      "source": [
        "yarıcapı almak için capın yarsını almamız lazım"
      ]
    },
    {
      "cell_type": "code",
      "metadata": {
        "id": "wiallTWctzox",
        "colab_type": "code",
        "colab": {}
      },
      "source": [
        "yaricap = cap/2"
      ],
      "execution_count": 0,
      "outputs": []
    },
    {
      "cell_type": "markdown",
      "metadata": {
        "id": "ZSruQgdit7wh",
        "colab_type": "text"
      },
      "source": [
        "pi sayısını alalım"
      ]
    },
    {
      "cell_type": "code",
      "metadata": {
        "id": "9n7s8Ftlt884",
        "colab_type": "code",
        "colab": {}
      },
      "source": [
        "pi = 3.14159"
      ],
      "execution_count": 0,
      "outputs": []
    },
    {
      "cell_type": "markdown",
      "metadata": {
        "id": "MkzytNeKuBDJ",
        "colab_type": "text"
      },
      "source": [
        "bir dairenin alan formülü pi r kare idir"
      ]
    },
    {
      "cell_type": "code",
      "metadata": {
        "id": "gXXDYfkcuFGm",
        "colab_type": "code",
        "colab": {}
      },
      "source": [
        "alan = pi*(yaricap*yaricap)"
      ],
      "execution_count": 0,
      "outputs": []
    },
    {
      "cell_type": "markdown",
      "metadata": {
        "id": "6Pf9L7AmuLqp",
        "colab_type": "text"
      },
      "source": [
        "alan ı yazdıralım"
      ]
    },
    {
      "cell_type": "code",
      "metadata": {
        "id": "dPtxspr-uNW3",
        "colab_type": "code",
        "colab": {
          "base_uri": "https://localhost:8080/",
          "height": 34
        },
        "outputId": "bac6f2c5-2206-4383-b3a8-795b939ab3b1"
      },
      "source": [
        "print(alan)"
      ],
      "execution_count": 12,
      "outputs": [
        {
          "output_type": "stream",
          "text": [
            "201.06176\n"
          ],
          "name": "stdout"
        }
      ]
    },
    {
      "cell_type": "markdown",
      "metadata": {
        "id": "zcw-DbQiuUBE",
        "colab_type": "text"
      },
      "source": [
        "programın derli toplu hali:"
      ]
    },
    {
      "cell_type": "code",
      "metadata": {
        "id": "Qfqg3P8juWqk",
        "colab_type": "code",
        "colab": {
          "base_uri": "https://localhost:8080/",
          "height": 34
        },
        "outputId": "098bbe8d-01f4-44f1-e1dc-ef511c1db702"
      },
      "source": [
        "cap = 16\n",
        "yaricap = cap/2\n",
        "pi = 3.14159\n",
        "alan = pi*(yaricap*yaricap)\n",
        "print(alan)"
      ],
      "execution_count": 13,
      "outputs": [
        {
          "output_type": "stream",
          "text": [
            "201.06176\n"
          ],
          "name": "stdout"
        }
      ]
    },
    {
      "cell_type": "markdown",
      "metadata": {
        "id": "e3QCDfEBuiTB",
        "colab_type": "text"
      },
      "source": [
        "** işleci sayıların karesini, küpünü ve karakökünü hesaplamamıza yarar"
      ]
    },
    {
      "cell_type": "markdown",
      "metadata": {
        "id": "k7LMZPzhusWe",
        "colab_type": "text"
      },
      "source": [
        "bir sayının karesini alalım (sayi ** 2)"
      ]
    },
    {
      "cell_type": "code",
      "metadata": {
        "id": "gT9hnHJVuveV",
        "colab_type": "code",
        "colab": {
          "base_uri": "https://localhost:8080/",
          "height": 34
        },
        "outputId": "d77c3c03-d2a3-4f7a-f792-8f3834db980a"
      },
      "source": [
        "print(23**2)"
      ],
      "execution_count": 14,
      "outputs": [
        {
          "output_type": "stream",
          "text": [
            "529\n"
          ],
          "name": "stdout"
        }
      ]
    },
    {
      "cell_type": "markdown",
      "metadata": {
        "id": "bxw_xYA2uydT",
        "colab_type": "text"
      },
      "source": [
        "bir sayının karakökünü alalım (sayi**0.5)"
      ]
    },
    {
      "cell_type": "code",
      "metadata": {
        "id": "iEn1NgLyu2lb",
        "colab_type": "code",
        "colab": {
          "base_uri": "https://localhost:8080/",
          "height": 34
        },
        "outputId": "1faf3103-a7af-4de6-fde3-35bb27e8accd"
      },
      "source": [
        "print(25**0.5)"
      ],
      "execution_count": 15,
      "outputs": [
        {
          "output_type": "stream",
          "text": [
            "5.0\n"
          ],
          "name": "stdout"
        }
      ]
    },
    {
      "cell_type": "markdown",
      "metadata": {
        "id": "15m9u36Eu6Z1",
        "colab_type": "text"
      },
      "source": [
        "bir sayının küpünü alalım (sayi ** 3)"
      ]
    },
    {
      "cell_type": "code",
      "metadata": {
        "id": "xSMAnLbYu_MH",
        "colab_type": "code",
        "colab": {
          "base_uri": "https://localhost:8080/",
          "height": 34
        },
        "outputId": "2ccdef81-5a5c-4291-96b4-942d405623ca"
      },
      "source": [
        "print(58 ** 3)"
      ],
      "execution_count": 16,
      "outputs": [
        {
          "output_type": "stream",
          "text": [
            "195112\n"
          ],
          "name": "stdout"
        }
      ]
    },
    {
      "cell_type": "markdown",
      "metadata": {
        "id": "9qpphlbXvQqE",
        "colab_type": "text"
      },
      "source": [
        "pow() fonksiyonu sayesinde sayesinde kolayca yapabiliriz\n",
        "\n",
        "pow() fonksiyonda ilk parametresi hesaplanacak sayı, ikinci parametresinde ise bu sayının hangi kuvvetle hesaplanacağını belirtiririz"
      ]
    },
    {
      "cell_type": "code",
      "metadata": {
        "id": "5QSj9hOGvrZB",
        "colab_type": "code",
        "colab": {
          "base_uri": "https://localhost:8080/",
          "height": 67
        },
        "outputId": "912d0b32-811f-420c-e2da-6b2ec5c44fb7"
      },
      "source": [
        "print(pow(23,2)) #karesini\n",
        "print(pow(100,0.5)) #karakökünü\n",
        "print(pow(20,3)) #küpünü"
      ],
      "execution_count": 18,
      "outputs": [
        {
          "output_type": "stream",
          "text": [
            "529\n",
            "10.0\n",
            "8000\n"
          ],
          "name": "stdout"
        }
      ]
    },
    {
      "cell_type": "markdown",
      "metadata": {
        "id": "IZZVDXhGwEW6",
        "colab_type": "text"
      },
      "source": [
        "pow() fonskiyonun çok kullanılmasa da 3.bir parametresi vardır\n",
        "bu 3.parametre ise çıkan kuvveti böler ve kalanını gösterir"
      ]
    },
    {
      "cell_type": "code",
      "metadata": {
        "id": "tMzOuB1vwfRQ",
        "colab_type": "code",
        "colab": {
          "base_uri": "https://localhost:8080/",
          "height": 34
        },
        "outputId": "9f0f3627-f6f6-462e-978a-5754dc7480a1"
      },
      "source": [
        "print(pow(12,2,2))"
      ],
      "execution_count": 20,
      "outputs": [
        {
          "output_type": "stream",
          "text": [
            "0\n"
          ],
          "name": "stdout"
        }
      ]
    },
    {
      "cell_type": "markdown",
      "metadata": {
        "id": "Htf0llc5wkFb",
        "colab_type": "text"
      },
      "source": [
        "12 nin küpü 144 dür 144 ü ikiye bölümünden kalanı ise sıfırdır."
      ]
    }
  ]
}