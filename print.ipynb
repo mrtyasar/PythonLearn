{
  "nbformat": 4,
  "nbformat_minor": 0,
  "metadata": {
    "colab": {
      "name": "print.ipynb",
      "provenance": [],
      "collapsed_sections": []
    },
    "kernelspec": {
      "name": "python3",
      "display_name": "Python 3"
    }
  },
  "cells": [
    {
      "cell_type": "markdown",
      "metadata": {
        "id": "HxaiJ5SJOc4t",
        "colab_type": "text"
      },
      "source": [
        "print() fonksiyonu ekrana çıktı vermemizi sağlayan bir yapıdır"
      ]
    },
    {
      "cell_type": "code",
      "metadata": {
        "id": "2oIqXXaGOhqO",
        "colab_type": "code",
        "outputId": "68c243ba-2865-41a5-d61f-7fc607e15dee",
        "colab": {
          "base_uri": "https://localhost:8080/",
          "height": 34
        }
      },
      "source": [
        "print(\"Hello World!\")"
      ],
      "execution_count": 0,
      "outputs": [
        {
          "output_type": "stream",
          "text": [
            "Hello World!\n"
          ],
          "name": "stdout"
        }
      ]
    },
    {
      "cell_type": "code",
      "metadata": {
        "id": "J6Bjbci1Orxk",
        "colab_type": "code",
        "outputId": "aefaa8a4-f831-4e82-fcbf-517c2341ae04",
        "colab": {
          "base_uri": "https://localhost:8080/",
          "height": 34
        }
      },
      "source": [
        "hello = \"Hello human\"\n",
        "print(hello)"
      ],
      "execution_count": 0,
      "outputs": [
        {
          "output_type": "stream",
          "text": [
            "Hello human\n"
          ],
          "name": "stdout"
        }
      ]
    },
    {
      "cell_type": "markdown",
      "metadata": {
        "id": "VkfHOCW-Ovy0",
        "colab_type": "text"
      },
      "source": [
        "Ekrana karakter dizisini bastırmak için\n",
        "\n",
        "+ tek tırnak('')\n",
        "+ çift tırnak (\"\")\n",
        "+ üç tırnak (\"\"\" \"\"\")\n",
        "dan yararlanırız.\n",
        "peki aralarındaki fark nedir?"
      ]
    },
    {
      "cell_type": "markdown",
      "metadata": {
        "id": "cABDmZqlPG2L",
        "colab_type": "text"
      },
      "source": [
        "\"piton\" kelimesin yazdıralım"
      ]
    },
    {
      "cell_type": "code",
      "metadata": {
        "id": "Oe5PtcIrPKE0",
        "colab_type": "code",
        "colab": {}
      },
      "source": [
        "print(\"Python proglama dilinin adı \"piton\" yılanında gelmez\") #hata aldık"
      ],
      "execution_count": 0,
      "outputs": []
    },
    {
      "cell_type": "markdown",
      "metadata": {
        "id": "d2Ugw_d0PYxh",
        "colab_type": "text"
      },
      "source": [
        "hata aldık çünkü python karakter dizisinin sonunu anlamakta sorun yaşadı.\n",
        "\n",
        "Doğru bir şekilde yazılışı böyledir:"
      ]
    },
    {
      "cell_type": "code",
      "metadata": {
        "id": "01PZFKAePmJc",
        "colab_type": "code",
        "outputId": "c086ce2e-5203-4374-ff65-4c777b47e875",
        "colab": {
          "base_uri": "https://localhost:8080/",
          "height": 34
        }
      },
      "source": [
        "print('Pthon proglama dilinin adı \"piton\" yılanından gelmez.')"
      ],
      "execution_count": 0,
      "outputs": [
        {
          "output_type": "stream",
          "text": [
            "Pthon proglama dilinin adı \"piton\" yılanından gelmez.\n"
          ],
          "name": "stdout"
        }
      ]
    },
    {
      "cell_type": "markdown",
      "metadata": {
        "id": "o8y7J-8APvnr",
        "colab_type": "text"
      },
      "source": [
        "istanbul'un kelimesini yazdıralım"
      ]
    },
    {
      "cell_type": "code",
      "metadata": {
        "id": "qFWsVy4uP3Hc",
        "colab_type": "code",
        "colab": {}
      },
      "source": [
        "print('istanbul'un 5 günlük hava durumu tahmini') #hata aldık"
      ],
      "execution_count": 0,
      "outputs": []
    },
    {
      "cell_type": "markdown",
      "metadata": {
        "id": "_s60-lx0QCMm",
        "colab_type": "text"
      },
      "source": [
        "Hata aldık çünkü makine karakter dizisinin sonunu anlamakta sorun yaşadı.\n",
        "\n",
        "Doğru bir şekilde yazılışı böyledir:"
      ]
    },
    {
      "cell_type": "code",
      "metadata": {
        "id": "wAbGmrMQQPAf",
        "colab_type": "code",
        "colab": {}
      },
      "source": [
        "print(\"İstanbul'un 5 günlük hava durumu tahmini\")"
      ],
      "execution_count": 0,
      "outputs": []
    },
    {
      "cell_type": "markdown",
      "metadata": {
        "id": "jE6FqCm6QkvI",
        "colab_type": "text"
      },
      "source": [
        "Demek ki Python'da eğer karakter dizisi içinde '' tek tırnak kullanacaksak \"\" çift tırnak\n",
        "\n",
        "eğer ki karakter dizisi içinde \"\" tırnak kullanacaksak ise '' tek tırnak kullanmalıyız. "
      ]
    },
    {
      "cell_type": "markdown",
      "metadata": {
        "id": "DY9_y_wGRa7q",
        "colab_type": "text"
      },
      "source": [
        "Peki ya hepsini kolayca \"\"\" tırnak ile yazamaz mıydık?\n",
        "yazabilirdik fakat Python'da genellikle \"\" tırnak ile '' tırnak kullanılır\n",
        "üç tırnağın kullanma amacı daha çok paragraf gibi birden fazla satırlar için kullanılır."
      ]
    },
    {
      "cell_type": "markdown",
      "metadata": {
        "id": "17bfDThuR3e2",
        "colab_type": "text"
      },
      "source": [
        "print(\"\"\"\n",
        "[H]=========HARMAN=========[-][0][x]\n",
        " |                                |\n",
        " |        Harmancı tarafından     |\n",
        " |            HACKLENDİNİZ!       |\n",
        " |                                |\n",
        " |            MR.ROBOT            | \n",
        " |================================|\n",
        " \"\"\")"
      ]
    },
    {
      "cell_type": "markdown",
      "metadata": {
        "id": "unnxWRStR5f0",
        "colab_type": "text"
      },
      "source": [
        "böyle bir işlemi iki tırnak ile gerçekleştiremezdik"
      ]
    },
    {
      "cell_type": "code",
      "metadata": {
        "id": "QWGICw7vSDhV",
        "colab_type": "code",
        "colab": {}
      },
      "source": [
        "printFirst = \"\"\"Python proglama dili Guido Van Rossum\n",
        "  adlı Hollandalı bir programcı tarafından 90'lı\n",
        "  yılların başında geliştirilmeye başlanmıştır.\n",
        "\"\"\""
      ],
      "execution_count": 0,
      "outputs": []
    },
    {
      "cell_type": "markdown",
      "metadata": {
        "id": "MzpBpIOrSNGu",
        "colab_type": "text"
      },
      "source": [
        "# Bir fonskiyon olarak print()"
      ]
    },
    {
      "cell_type": "code",
      "metadata": {
        "id": "LDqL8FE0cevw",
        "colab_type": "code",
        "colab": {}
      },
      "source": [
        "print(\"Aramak istediğiniz kelimeyi yazınız: \")"
      ],
      "execution_count": 0,
      "outputs": []
    },
    {
      "cell_type": "markdown",
      "metadata": {
        "id": "LnSMmgeKcip7",
        "colab_type": "text"
      },
      "source": [
        "Burada print bir fonkisyondur. \"Aramak istediğiniz kelimeyi yazınız: \" ise bir parametredir. Ve burada tek bir parametre kullanılmıştır"
      ]
    },
    {
      "cell_type": "code",
      "metadata": {
        "id": "mloJ7cbLcsPz",
        "colab_type": "code",
        "colab": {}
      },
      "source": [
        "print(\"Murat\",\"Can\")"
      ],
      "execution_count": 0,
      "outputs": []
    },
    {
      "cell_type": "markdown",
      "metadata": {
        "id": "N3Qx93dYcubx",
        "colab_type": "text"
      },
      "source": [
        "Burada ise \"Murat\" \"Can\" olmak üzere iki parametre vardır.\n",
        "\n",
        "\",\" virgül ise hem karakter dizilerini birleştirir hemde boşluk bırakır. "
      ]
    },
    {
      "cell_type": "code",
      "metadata": {
        "id": "8w89wJuxc-jc",
        "colab_type": "code",
        "colab": {
          "base_uri": "https://localhost:8080/",
          "height": 34
        },
        "outputId": "0b613e09-6d87-4714-ab1b-21a0b0da269c"
      },
      "source": [
        "print(\"Python\",\"Proglama\",\"Dili\")"
      ],
      "execution_count": 1,
      "outputs": [
        {
          "output_type": "stream",
          "text": [
            "Python Proglama Dili\n"
          ],
          "name": "stdout"
        }
      ]
    },
    {
      "cell_type": "code",
      "metadata": {
        "id": "JFpKhB3wdNcJ",
        "colab_type": "code",
        "colab": {
          "base_uri": "https://localhost:8080/",
          "height": 34
        },
        "outputId": "58d2d641-af2f-4e61-f922-80019b9661ec"
      },
      "source": [
        "print('Fırat','Ozgul','Adana',1980,2020)"
      ],
      "execution_count": 2,
      "outputs": [
        {
          "output_type": "stream",
          "text": [
            "Fırat Ozgul Adana 1980 2020\n"
          ],
          "name": "stdout"
        }
      ]
    },
    {
      "cell_type": "markdown",
      "metadata": {
        "id": "6HlpPLyVdV_3",
        "colab_type": "text"
      },
      "source": [
        "Yukarıda hem çift tırnakla hemde tek tırnkala karakter dizisi oluşturduk.\n",
        "Burada önemli olan ise hangi tırnak işaretini kullanıdğımız değil, tırnak kullanımında tutarlı olmaktır."
      ]
    },
    {
      "cell_type": "code",
      "metadata": {
        "id": "aU3tg-ZldnkX",
        "colab_type": "code",
        "colab": {}
      },
      "source": [
        "print(\"Murat') #hata aldık"
      ],
      "execution_count": 0,
      "outputs": []
    },
    {
      "cell_type": "markdown",
      "metadata": {
        "id": "ysYDNXeudrRM",
        "colab_type": "text"
      },
      "source": [
        "yukarıda hata aldık eğer çift tırnakla başlıyorsak çift tırnakla, tek tırnakla başlıyorsak tek tırnakla bitirmeliyiz."
      ]
    },
    {
      "cell_type": "markdown",
      "metadata": {
        "id": "KD5mRpgMd5p7",
        "colab_type": "text"
      },
      "source": [
        "# Print() Fonksiyonun Parametreleri"
      ]
    },
    {
      "cell_type": "markdown",
      "metadata": {
        "id": "hVUmsLuud9iE",
        "colab_type": "text"
      },
      "source": [
        "**sep parametresi**"
      ]
    },
    {
      "cell_type": "markdown",
      "metadata": {
        "id": "Be9h_jXgeJrz",
        "colab_type": "text"
      },
      "source": [
        "print() fonksiyonun içinde \",\" virgül ile parametreleri birleştirirken aralarındaki boşluk ön tanımlı olarak gelir.\n",
        "\n",
        "Bazen ise bu boşlukları istemeyebiliriz. Örneğin:"
      ]
    },
    {
      "cell_type": "code",
      "metadata": {
        "id": "_dq4Ma7lefih",
        "colab_type": "code",
        "colab": {
          "base_uri": "https://localhost:8080/",
          "height": 34
        },
        "outputId": "09aac51b-0281-4c29-c855-1423b2c1a8b4"
      },
      "source": [
        "print(\"http://\",\"www\",\"istihza\",\".com\")"
      ],
      "execution_count": 3,
      "outputs": [
        {
          "output_type": "stream",
          "text": [
            "http:// www istihza .com\n"
          ],
          "name": "stdout"
        }
      ]
    },
    {
      "cell_type": "markdown",
      "metadata": {
        "id": "IMjQl31mexcj",
        "colab_type": "text"
      },
      "source": [
        "iste bu gibi durumları değiştirmek ve parametrelerin arasındaki boşlukları düzenlemek için ise sep parametresinden yararlanırız.\n",
        "\n",
        "pythonda fonksiyonların özel görünümlü, arka planda çalışan parametreleri vardır\n",
        "bu parametrelerden biriside sep parametresidir. Örneğin:"
      ]
    },
    {
      "cell_type": "code",
      "metadata": {
        "id": "5t9KqZNqfG1X",
        "colab_type": "code",
        "colab": {
          "base_uri": "https://localhost:8080/",
          "height": 34
        },
        "outputId": "0cfa8501-8982-44d4-a813-c7980a0de9d9"
      },
      "source": [
        "print(\"Metin\",\"Ali\",\"Feyyza\",2020)"
      ],
      "execution_count": 4,
      "outputs": [
        {
          "output_type": "stream",
          "text": [
            "Metin Ali Feyyza 2020\n"
          ],
          "name": "stdout"
        }
      ]
    },
    {
      "cell_type": "markdown",
      "metadata": {
        "id": "SBqbDx-VfONn",
        "colab_type": "text"
      },
      "source": [
        "yukarıdaki kodu biz sadece bu şekile görsekte python aslında şu şekil görüyor:"
      ]
    },
    {
      "cell_type": "code",
      "metadata": {
        "id": "SrUdJvQffVSL",
        "colab_type": "code",
        "colab": {
          "base_uri": "https://localhost:8080/",
          "height": 34
        },
        "outputId": "728c907a-7f43-4009-c938-2312d9df5ad7"
      },
      "source": [
        "print(\"Metin\",\"Ali\",\"Feyyaz\",2020,sep=\" \")"
      ],
      "execution_count": 5,
      "outputs": [
        {
          "output_type": "stream",
          "text": [
            "Metin Ali Feyyaz 2020\n"
          ],
          "name": "stdout"
        }
      ]
    },
    {
      "cell_type": "markdown",
      "metadata": {
        "id": "QRk6VNl5ffDs",
        "colab_type": "text"
      },
      "source": [
        "sep parametresinin ön tanımlı olarak değeri (\" \") boşluktur.\n",
        "Fakat biz bu boşluk yerine istediğimiz ifadeyi yazabiliriz, böylelikle yazdığımız ifade parametrelerin aralarında kullanılacak."
      ]
    },
    {
      "cell_type": "code",
      "metadata": {
        "id": "bgeCNydwfrhh",
        "colab_type": "code",
        "colab": {
          "base_uri": "https://localhost:8080/",
          "height": 34
        },
        "outputId": "35187d09-a242-423b-c5cf-b5e050fc39d1"
      },
      "source": [
        "print(\"https://\",\"www.\",\"istihza\",\".com\",sep=\"\")"
      ],
      "execution_count": 6,
      "outputs": [
        {
          "output_type": "stream",
          "text": [
            "https://www.istihza.com\n"
          ],
          "name": "stdout"
        }
      ]
    },
    {
      "cell_type": "markdown",
      "metadata": {
        "id": "czF85jqifzCb",
        "colab_type": "text"
      },
      "source": [
        "sep parameresinin ön tanımlı olarak boşluk ifadesini silerek boş bir karakter dizisini yerleştirdik, böylelikle parametrelerimiz aralarında boşluk olmadan birleştirildi."
      ]
    },
    {
      "cell_type": "code",
      "metadata": {
        "id": "L7pTi4-PgACI",
        "colab_type": "code",
        "colab": {
          "base_uri": "https://localhost:8080/",
          "height": 34
        },
        "outputId": "e681b5b1-7d12-470d-fdaf-7b38fabc19c7"
      },
      "source": [
        "print(\"T\",\"C\",sep=\".\")"
      ],
      "execution_count": 7,
      "outputs": [
        {
          "output_type": "stream",
          "text": [
            "T.C\n"
          ],
          "name": "stdout"
        }
      ]
    },
    {
      "cell_type": "markdown",
      "metadata": {
        "id": "R1Xl779tgDgF",
        "colab_type": "text"
      },
      "source": [
        "sep parametresi ismiyle kullanılır. Bu yüzden buna ve buna benzer parametrelere isim parametreler denir."
      ]
    },
    {
      "cell_type": "code",
      "metadata": {
        "id": "yjnGQn8tgPhz",
        "colab_type": "code",
        "colab": {
          "base_uri": "https://localhost:8080/",
          "height": 34
        },
        "outputId": "9af0c30b-ce7f-43c3-8ed5-b1565579ad4d"
      },
      "source": [
        "print(\"Sivas\",\"İstanbul\",sep=\"-\")"
      ],
      "execution_count": 8,
      "outputs": [
        {
          "output_type": "stream",
          "text": [
            "Sivas-İstanbul\n"
          ],
          "name": "stdout"
        }
      ]
    },
    {
      "cell_type": "markdown",
      "metadata": {
        "id": "NeUUeaEZgUVY",
        "colab_type": "text"
      },
      "source": [
        "bir mumdur iki mumdur türküsünü yazalım"
      ]
    },
    {
      "cell_type": "code",
      "metadata": {
        "id": "3fMQcJR_gYUg",
        "colab_type": "code",
        "colab": {
          "base_uri": "https://localhost:8080/",
          "height": 34
        },
        "outputId": "f795fa1f-640a-4f61-d0cf-b93473be2571"
      },
      "source": [
        "print(\"bir\",\"İki\",\"üç\",\"dört\",\"on dört\",sep=\" mumdur \")"
      ],
      "execution_count": 9,
      "outputs": [
        {
          "output_type": "stream",
          "text": [
            "bir mumdur İki mumdur üç mumdur dört mumdur on dört\n"
          ],
          "name": "stdout"
        }
      ]
    },
    {
      "cell_type": "markdown",
      "metadata": {
        "id": "5R3cG8C1gqGF",
        "colab_type": "text"
      },
      "source": [
        "Bu kodu şu keilde de yazabilirdir: Fakat yukarıdaki kod daha okunaklıdır."
      ]
    },
    {
      "cell_type": "code",
      "metadata": {
        "id": "FVwVJZZEgsvx",
        "colab_type": "code",
        "colab": {
          "base_uri": "https://localhost:8080/",
          "height": 34
        },
        "outputId": "b16f88a7-9489-47be-c4ef-5ada49b77798"
      },
      "source": [
        "print(\"bir\",\"iki\",\"üç\",\"dört\",\"on dört\",sep=\" \"+\"mumdur\"+\" \")"
      ],
      "execution_count": 11,
      "outputs": [
        {
          "output_type": "stream",
          "text": [
            "bir mumdur iki mumdur üç mumdur dört mumdur on dört\n"
          ],
          "name": "stdout"
        }
      ]
    },
    {
      "cell_type": "code",
      "metadata": {
        "id": "vyV_nGFrhRF4",
        "colab_type": "code",
        "colab": {
          "base_uri": "https://localhost:8080/",
          "height": 34
        },
        "outputId": "8514f405-a94b-4eeb-fac4-e71967be0a02"
      },
      "source": [
        "print(\"1\",\"2\",\"3\",\"4\",\"5\",sep=\"-\")"
      ],
      "execution_count": 12,
      "outputs": [
        {
          "output_type": "stream",
          "text": [
            "1-2-3-4-5\n"
          ],
          "name": "stdout"
        }
      ]
    },
    {
      "cell_type": "markdown",
      "metadata": {
        "id": "wiaXoi1Khfu3",
        "colab_type": "text"
      },
      "source": [
        "sep parametresinde değer olarak sadece karakter dizisi veya None değerini verebiliriz.\n",
        "\n",
        "Yani sayısal bir değer atayamayız."
      ]
    },
    {
      "cell_type": "code",
      "metadata": {
        "id": "0VOPrsTqhotD",
        "colab_type": "code",
        "colab": {}
      },
      "source": [
        "print(\"a\",\"b\",sep=1) #hata"
      ],
      "execution_count": 0,
      "outputs": []
    },
    {
      "cell_type": "markdown",
      "metadata": {
        "id": "oJfkjRhQhtms",
        "colab_type": "text"
      },
      "source": [
        "None değeri ise ön tanımlı olan değeri yani boşluk anlamındadır"
      ]
    },
    {
      "cell_type": "code",
      "metadata": {
        "id": "Va6drSRGh3Nj",
        "colab_type": "code",
        "colab": {
          "base_uri": "https://localhost:8080/",
          "height": 34
        },
        "outputId": "3d086a39-20e0-41ee-c76a-0f8dc0c558a4"
      },
      "source": [
        "print(\"a\",\"b\",sep=None)"
      ],
      "execution_count": 13,
      "outputs": [
        {
          "output_type": "stream",
          "text": [
            "a b\n"
          ],
          "name": "stdout"
        }
      ]
    },
    {
      "cell_type": "markdown",
      "metadata": {
        "id": "5bx344RGh-HF",
        "colab_type": "text"
      },
      "source": [
        "amaç parametreleri birleştirmekse öntanımlı değerini silip boş bir karakter dizisi yazabiliriz"
      ]
    },
    {
      "cell_type": "code",
      "metadata": {
        "id": "RuNgLQ6siFiD",
        "colab_type": "code",
        "colab": {
          "base_uri": "https://localhost:8080/",
          "height": 34
        },
        "outputId": "c5b5a38b-4089-4138-bf8e-a9e4f150f40f"
      },
      "source": [
        "print(\"a\",\"b\",sep=\"\")"
      ],
      "execution_count": 14,
      "outputs": [
        {
          "output_type": "stream",
          "text": [
            "ab\n"
          ],
          "name": "stdout"
        }
      ]
    },
    {
      "cell_type": "markdown",
      "metadata": {
        "id": "sy8RJvRTiMSf",
        "colab_type": "text"
      },
      "source": [
        "**end Parametresi**"
      ]
    },
    {
      "cell_type": "markdown",
      "metadata": {
        "id": "26NK4Du4iPhz",
        "colab_type": "text"
      },
      "source": [
        "end parametresi sep parametresi gibi özel görünümlü, isimli parametredir.\n",
        "\n",
        "+ end parametresi parametrelerin sonuna neyin geleceğini belirler.\n",
        "+ print() fonksiyonu ön tanımlı olarak satır başı yapar bu sağlayan da end parametresidir.\n",
        "+ end parametresinin ön tanımlı değeri satır başı işleci olan \"\\n\" dir."
      ]
    },
    {
      "cell_type": "code",
      "metadata": {
        "id": "zyR_0o-1i2DA",
        "colab_type": "code",
        "colab": {}
      },
      "source": [
        "print(\"Ubuntu kullanmayı seviyorum\")\n",
        "print(\"Fakat Windows'da fena değil.\")"
      ],
      "execution_count": 0,
      "outputs": []
    },
    {
      "cell_type": "markdown",
      "metadata": {
        "id": "L6JgIRJOi8fx",
        "colab_type": "text"
      },
      "source": [
        "bu işlemde ne denilmek istenildiği etkileşim kabuğunda daha iyi anlaşılır, çünkü print() fonksiyonu çalıştıktan sonra >>> işaretini gösterir, yani her print'ten sonra satır başı yapar."
      ]
    },
    {
      "cell_type": "markdown",
      "metadata": {
        "id": "vzFn1So7jcEO",
        "colab_type": "text"
      },
      "source": [
        "end parametresinin ön tanımlı değeri olan \\n işareti satır başı görevini yapar. \\n işareti newline yani satır başı karakteridir. amacı ise karakter dizinin bir sonraki karakterini alt satırda yazdırmaktır."
      ]
    },
    {
      "cell_type": "code",
      "metadata": {
        "id": "CfsGXgPujudk",
        "colab_type": "code",
        "colab": {
          "base_uri": "https://localhost:8080/",
          "height": 50
        },
        "outputId": "760ab9b9-6a68-40f6-b351-faca62803f55"
      },
      "source": [
        "print(\"ubuntu\\nWindows\")"
      ],
      "execution_count": 15,
      "outputs": [
        {
          "output_type": "stream",
          "text": [
            "ubuntu\n",
            "Windows\n"
          ],
          "name": "stdout"
        }
      ]
    },
    {
      "cell_type": "code",
      "metadata": {
        "id": "iak6F8dVjyv8",
        "colab_type": "code",
        "colab": {
          "base_uri": "https://localhost:8080/",
          "height": 67
        },
        "outputId": "83e62cb0-e5f1-408c-f6f2-7a6f42ad1fe6"
      },
      "source": [
        "print(\"birinci satır\\nikinci satır\\nüçüncü satır\")"
      ],
      "execution_count": 16,
      "outputs": [
        {
          "output_type": "stream",
          "text": [
            "birinci satır\n",
            "ikinci satır\n",
            "üçüncü satır\n"
          ],
          "name": "stdout"
        }
      ]
    },
    {
      "cell_type": "markdown",
      "metadata": {
        "id": "SFvmxTaMkDGc",
        "colab_type": "text"
      },
      "source": [
        "bu kodları sep parametresin ile yazabilirdik:"
      ]
    },
    {
      "cell_type": "code",
      "metadata": {
        "id": "qefWvG6hkGVL",
        "colab_type": "code",
        "colab": {
          "base_uri": "https://localhost:8080/",
          "height": 67
        },
        "outputId": "ca6d0a93-9919-4aa1-afa3-6b25d86c4742"
      },
      "source": [
        "print(\"birinci satır\",\"ikinci satır\",\"üçüncü satır\",sep=\"\\n\")"
      ],
      "execution_count": 17,
      "outputs": [
        {
          "output_type": "stream",
          "text": [
            "birinci satır\n",
            "ikinci satır\n",
            "üçüncü satır\n"
          ],
          "name": "stdout"
        }
      ]
    },
    {
      "cell_type": "code",
      "metadata": {
        "id": "F-rqTZFokSps",
        "colab_type": "code",
        "colab": {
          "base_uri": "https://localhost:8080/",
          "height": 34
        },
        "outputId": "38ca3f34-d694-4807-cefd-0623372effa2"
      },
      "source": [
        "print(\"Bugün hava çok güzel\",end=\".\")"
      ],
      "execution_count": 18,
      "outputs": [
        {
          "output_type": "stream",
          "text": [
            "Bugün hava çok güzel."
          ],
          "name": "stdout"
        }
      ]
    },
    {
      "cell_type": "markdown",
      "metadata": {
        "id": "48BejH5OkZE0",
        "colab_type": "text"
      },
      "source": [
        "parametremizin sonuna end parametresi sayesinde nokta işareti yazabildik. fakat etkileşimli kabukta bunu yazarsak bir sonraki satıra geçmez. bunu engellemk için ise noktanın yanında satır başı işaretini yazabiliriz."
      ]
    },
    {
      "cell_type": "code",
      "metadata": {
        "id": "HCo1TA65koJv",
        "colab_type": "code",
        "colab": {
          "base_uri": "https://localhost:8080/",
          "height": 34
        },
        "outputId": "68b897a3-7639-40ab-bb9b-2255a683ea02"
      },
      "source": [
        "print(\"Bugün hava çok güzel\",end=\".\\n\")"
      ],
      "execution_count": 20,
      "outputs": [
        {
          "output_type": "stream",
          "text": [
            "Bugün hava çok güzel.\n"
          ],
          "name": "stdout"
        }
      ]
    },
    {
      "cell_type": "markdown",
      "metadata": {
        "id": "Q5_Dcaczlax2",
        "colab_type": "text"
      },
      "source": [
        "sep paramtresi ile mumdur türküsünü yazabilmiştik, fakat sonunda mumdur u yazamamaıştık. bu sorunu end parametresi ile kolayca çözebiliriz."
      ]
    },
    {
      "cell_type": "code",
      "metadata": {
        "id": "jSO-F1Vdll2Y",
        "colab_type": "code",
        "colab": {
          "base_uri": "https://localhost:8080/",
          "height": 34
        },
        "outputId": "2e289929-c1d7-4f8a-8cb3-1bbbc450df2c"
      },
      "source": [
        "print(\"bir\",\"iki\",\"üç\",\"dört\",\"on dört\",sep=\" mumdur \",\n",
        "      end =\" mumdur\\n\")"
      ],
      "execution_count": 21,
      "outputs": [
        {
          "output_type": "stream",
          "text": [
            "bir mumdur iki mumdur üç mumdur dört mumdur on dört mumdur\n"
          ],
          "name": "stdout"
        }
      ]
    },
    {
      "cell_type": "markdown",
      "metadata": {
        "id": "sFN07NBUlzSs",
        "colab_type": "text"
      },
      "source": [
        "eğer yazacağımız kod çok uzun ise virgülden sonra bir alt satırdan kodumuza devam edebiliriz."
      ]
    },
    {
      "cell_type": "markdown",
      "metadata": {
        "id": "OrD5OivCl9_N",
        "colab_type": "text"
      },
      "source": [
        "eğer ki bir sonraki yeni satıra geçilmesini istemyorsak ön tamınlı değeri olan \\n işaretini silip \"\" boş bir karakter dizini yazmalıyız."
      ]
    },
    {
      "cell_type": "code",
      "metadata": {
        "id": "TmS-9ZC9mVkT",
        "colab_type": "code",
        "colab": {
          "base_uri": "https://localhost:8080/",
          "height": 34
        },
        "outputId": "500a15ce-f81c-47d3-84cd-c26ca45f5603"
      },
      "source": [
        "print(\"a\",\"b\",end=\"\")"
      ],
      "execution_count": 22,
      "outputs": [
        {
          "output_type": "stream",
          "text": [
            "a b"
          ],
          "name": "stdout"
        }
      ]
    },
    {
      "cell_type": "markdown",
      "metadata": {
        "id": "o2MkfYpSmk3e",
        "colab_type": "text"
      },
      "source": [
        "**file parametresi**"
      ]
    },
    {
      "cell_type": "markdown",
      "metadata": {
        "id": "zslTm3nOmooB",
        "colab_type": "text"
      },
      "source": [
        "file parametresi yazılan kodların nerede çıktı üreteceğini, çalıştırlacağını belirler.\n",
        "+ file parametresinin ön tanımlı değeri standar çıktı komutu olan sys.stdout idir.\n",
        "+ standart çıktı komutu ise programın ürettiği çıktıları verdiği yerdir.\n",
        "+ yani etkileşim kabuğunda yazıyorsak etkileşimde, komut satırında yazıyorsak komut satırıda çıktılar görünür.\n",
        "+ olur da standart çıktı komutunda değilde başka bir yerde mesala bir dosyada görünmesini istiyorsak file nin ön tanımlı değerini silmemiz ve dosyayı yazmamız gerekir:"
      ]
    },
    {
      "cell_type": "markdown",
      "metadata": {
        "id": "YM3Arqn-nSA0",
        "colab_type": "text"
      },
      "source": [
        "print() fonksiyonumuzun deneme.txt adlı dosyada çıktı vermesini sağlayalım"
      ]
    },
    {
      "cell_type": "code",
      "metadata": {
        "id": "HZQu7R7-nYLu",
        "colab_type": "code",
        "colab": {}
      },
      "source": [
        "dosya = open(\"deneme.txt\",\"w\")\n",
        "print(\"Ben python, Monty Python!\",file=dosya)\n",
        "doysa.close()"
      ],
      "execution_count": 0,
      "outputs": []
    },
    {
      "cell_type": "markdown",
      "metadata": {
        "id": "HBVGiHvSn2HU",
        "colab_type": "text"
      },
      "source": [
        "şimdi biz burada dosya adlı değişken oluşturduk ve bu değişkenin içinde deneme.txt adlı bir dosya oluşturduk ve bu dosyanın \"w\" kipinde yani yazma kipinde açılacağını belirttik.\n",
        "file nin ön tanımlı değerini silip dosya adlı değişkenini yazarak çıktılarımızı standart çıktı komutuna değil de deneme adlı dosyada gösterileceğini belirttik.\n",
        "ayrıca close() komutu ile dosyamızın üzerinde uyguladığımız değişikleri kaydetip dosyayı kapattık."
      ]
    },
    {
      "cell_type": "markdown",
      "metadata": {
        "id": "V4PE8KKcoO-y",
        "colab_type": "text"
      },
      "source": [
        "bu dosyayı oluşturduk fakat hangi dizinde oluşturduğumu bilemiyorsak bunu öğrenmek için os modülünden yararlanırız."
      ]
    },
    {
      "cell_type": "code",
      "metadata": {
        "id": "3P_3IwqvoZP9",
        "colab_type": "code",
        "colab": {
          "base_uri": "https://localhost:8080/",
          "height": 34
        },
        "outputId": "805220a6-6a66-4dcd-842f-e9c4fe131822"
      },
      "source": [
        "import os\n",
        "print(os.getcwd())"
      ],
      "execution_count": 26,
      "outputs": [
        {
          "output_type": "stream",
          "text": [
            "/content\n"
          ],
          "name": "stdout"
        }
      ]
    },
    {
      "cell_type": "markdown",
      "metadata": {
        "id": "BzJCh48ppcp3",
        "colab_type": "text"
      },
      "source": [
        "şu şekil kod yazdığımızda:"
      ]
    },
    {
      "cell_type": "code",
      "metadata": {
        "id": "ZqJTbWR1pgzf",
        "colab_type": "code",
        "colab": {}
      },
      "source": [
        "print(\"Hayat her\",\"zaman güzeldir\")"
      ],
      "execution_count": 0,
      "outputs": []
    },
    {
      "cell_type": "markdown",
      "metadata": {
        "id": "fDesVdgGpkRv",
        "colab_type": "text"
      },
      "source": [
        "bu bizim gördüğümüzdür fakat python şu şekil görür:"
      ]
    },
    {
      "cell_type": "code",
      "metadata": {
        "id": "Fc0ry7w-poQ6",
        "colab_type": "code",
        "colab": {}
      },
      "source": [
        "print(\"Hayat her\",\"zaman güzeldir\",sep=\" \",end=\"\\n\",file=sys.stdout)"
      ],
      "execution_count": 0,
      "outputs": []
    },
    {
      "cell_type": "markdown",
      "metadata": {
        "id": "JNWZ5O9Dp21-",
        "colab_type": "text"
      },
      "source": [
        "buradaki işlemler:\n",
        "+ sep parametresi parametrelerin aralarında birer boşluk oyar\n",
        "+ end parametresi ise bir sonraki satıra geçer\n",
        "+ file parametresi ise standart çıktı komutunda çıktı üretir\n",
        "+ print() fonksiyonu ile ise ekrana çıktıyı gösteririz.\n",
        "çıktı:\n",
        "Hayat her zaman güzeldir"
      ]
    },
    {
      "cell_type": "markdown",
      "metadata": {
        "id": "JRtSQ-SUqe43",
        "colab_type": "text"
      },
      "source": [
        "Kişisel bilgilerimi kaydedelim.\n",
        "kişisel bilgilerimi kaydedeceğimiz bir doysa oluşturalım"
      ]
    },
    {
      "cell_type": "code",
      "metadata": {
        "id": "ew_tZ3euqnYz",
        "colab_type": "code",
        "colab": {}
      },
      "source": [
        "kisiselBilgiler = open(\"kisiselBilgiler.txt\",\"w\")\n",
        "print(\"Murat Can\",file=kisiselBilgiler)\n",
        "print(\"İstanbul\",file=kisiselBilgiler)\n",
        "print(\"Windows 10\",file=kisiselBilgiler)\n",
        "#işlemlerin kaydedilmesi için dosyayı kapatıyoruz\n",
        "kisiselBilgiler.close()"
      ],
      "execution_count": 0,
      "outputs": []
    },
    {
      "cell_type": "markdown",
      "metadata": {
        "id": "rki9lTcPrCps",
        "colab_type": "text"
      },
      "source": [
        "Dosyanın nerede oluşturduğunu bulmak"
      ]
    },
    {
      "cell_type": "code",
      "metadata": {
        "id": "-suKi-fTrGXu",
        "colab_type": "code",
        "colab": {}
      },
      "source": [
        "import os\n",
        "print(os.getcwd())"
      ],
      "execution_count": 0,
      "outputs": []
    },
    {
      "cell_type": "markdown",
      "metadata": {
        "id": "5bXNCYZtrXYR",
        "colab_type": "text"
      },
      "source": [
        "**flush**"
      ]
    },
    {
      "cell_type": "markdown",
      "metadata": {
        "id": "4_O_lEYTrkaS",
        "colab_type": "text"
      },
      "source": [
        "Print fonksiyonunda işlemler belirlediğimiz çıktı komutuna yollanmadan tamponda bekletilir.\n",
        "Örneğin:"
      ]
    },
    {
      "cell_type": "code",
      "metadata": {
        "id": "wfQEnEJsrwg_",
        "colab_type": "code",
        "colab": {}
      },
      "source": [
        "f = open(\"DenemeOne.txt\",\"w\")\n",
        "print(\"Murat\",file=f)"
      ],
      "execution_count": 0,
      "outputs": []
    },
    {
      "cell_type": "markdown",
      "metadata": {
        "id": "gihiQ4dRr7c8",
        "colab_type": "text"
      },
      "source": [
        "Yukarıda yazdığımız Murat karakter dizisi biz dosyayı kapatmadan denemeOne.txt dosyasında gözükmez"
      ]
    },
    {
      "cell_type": "code",
      "metadata": {
        "id": "ryyOGhCGsFw2",
        "colab_type": "code",
        "colab": {}
      },
      "source": [
        "f.close()"
      ],
      "execution_count": 0,
      "outputs": []
    },
    {
      "cell_type": "markdown",
      "metadata": {
        "id": "UFdgtQImsHdK",
        "colab_type": "text"
      },
      "source": [
        "dosyayı kapattığımızda ise işlemler kaydedilip, çıktılarımız denemeOne dosyasında gözükecektir.\n",
        "\n",
        "peki ya dosyayı kapatmadan ve tamponda bekletilmeden direk çıktımızı alabilir miyiz? evet. flush parametresi sayesinde alabiliriz."
      ]
    },
    {
      "cell_type": "code",
      "metadata": {
        "id": "EiGUT_z9splm",
        "colab_type": "code",
        "colab": {}
      },
      "source": [
        "m = open(\"denemeTwo.txt\",\"w\")\n",
        "print(\"Murat Can\",file=m,flush=True)"
      ],
      "execution_count": 0,
      "outputs": []
    },
    {
      "cell_type": "markdown",
      "metadata": {
        "id": "7lQCePMhs83B",
        "colab_type": "text"
      },
      "source": [
        "Flush parametresi sadece iki değer alabilir: True ve False\n",
        "flush parametresinin ön tanımlı değeri False'dir\n",
        "eğer ön tanımlı değerini silip True yazarsak, kodlarımızın tamponda bekletilmeden direk çıktının görünmesini sağlarız."
      ]
    },
    {
      "cell_type": "markdown",
      "metadata": {
        "id": "CyPLsMi2tu9C",
        "colab_type": "text"
      },
      "source": [
        "# Birkaç Pratik Bilgi"
      ]
    },
    {
      "cell_type": "markdown",
      "metadata": {
        "id": "RLYd5Pe3wFpw",
        "colab_type": "text"
      },
      "source": [
        "**Yıldızlı Parametreler**"
      ]
    },
    {
      "cell_type": "markdown",
      "metadata": {
        "id": "CYPqyKFIwKjz",
        "colab_type": "text"
      },
      "source": [
        "Yıldızlı parametreler karakter dizilerini parçalarına ayırara tek tek print fonksiyonuna yollar.\n",
        "Bu şekil yazdığımızda:"
      ]
    },
    {
      "cell_type": "code",
      "metadata": {
        "id": "f6lQUMQzwfPG",
        "colab_type": "code",
        "colab": {
          "base_uri": "https://localhost:8080/",
          "height": 34
        },
        "outputId": "d4cf9731-93c9-4b57-ff7d-c8357b9fefbe"
      },
      "source": [
        "print(*\"Windows\")"
      ],
      "execution_count": 29,
      "outputs": [
        {
          "output_type": "stream",
          "text": [
            "W i n d o w s\n"
          ],
          "name": "stdout"
        }
      ]
    },
    {
      "cell_type": "markdown",
      "metadata": {
        "id": "fWqqXyl6wiDJ",
        "colab_type": "text"
      },
      "source": [
        "Aslında şu şekil yazmışız gibi oluyor:"
      ]
    },
    {
      "cell_type": "code",
      "metadata": {
        "id": "GOyL4VYawkk0",
        "colab_type": "code",
        "colab": {}
      },
      "source": [
        "print(\"W\",\"i\",\"n\",\"d\",\"o\",\"w\",\"s\")"
      ],
      "execution_count": 0,
      "outputs": []
    },
    {
      "cell_type": "markdown",
      "metadata": {
        "id": "-o3ZQfg51ESb",
        "colab_type": "text"
      },
      "source": [
        "yıldız parametre öğeleri tek tek ayırdığı için yani her bir öğeyi ayrı bir parametre gibi gösterdiği için print() fonskiyonu gibi birden fazla parametre alabilen fonksiyonlarda çalışabilir:"
      ]
    },
    {
      "cell_type": "code",
      "metadata": {
        "id": "z9efdrGH1TP1",
        "colab_type": "code",
        "colab": {
          "base_uri": "https://localhost:8080/",
          "height": 162
        },
        "outputId": "c519e9b2-aaa6-40c9-e951-a9b3201736d6"
      },
      "source": [
        "print(len(*\"Hello\"))"
      ],
      "execution_count": 30,
      "outputs": [
        {
          "output_type": "error",
          "ename": "TypeError",
          "evalue": "ignored",
          "traceback": [
            "\u001b[0;31m---------------------------------------------------------------------------\u001b[0m",
            "\u001b[0;31mTypeError\u001b[0m                                 Traceback (most recent call last)",
            "\u001b[0;32m<ipython-input-30-07eb147d0d43>\u001b[0m in \u001b[0;36m<module>\u001b[0;34m()\u001b[0m\n\u001b[0;32m----> 1\u001b[0;31m \u001b[0mprint\u001b[0m\u001b[0;34m(\u001b[0m\u001b[0mlen\u001b[0m\u001b[0;34m(\u001b[0m\u001b[0;34m*\u001b[0m\u001b[0;34m\"Hello\"\u001b[0m\u001b[0;34m)\u001b[0m\u001b[0;34m)\u001b[0m\u001b[0;34m\u001b[0m\u001b[0;34m\u001b[0m\u001b[0m\n\u001b[0m",
            "\u001b[0;31mTypeError\u001b[0m: len() takes exactly one argument (5 given)"
          ]
        }
      ]
    },
    {
      "cell_type": "code",
      "metadata": {
        "id": "8wfTs4xn1bx0",
        "colab_type": "code",
        "colab": {
          "base_uri": "https://localhost:8080/",
          "height": 67
        },
        "outputId": "58a6a901-ef86-4ade-9cfb-d8b386f8fba9"
      },
      "source": [
        "print(*\"FenerBahçe\")\n",
        "print(*\"TBMM\",sep=\".\")\n",
        "print(*\"asdfgh\",sep=\"/\")"
      ],
      "execution_count": 33,
      "outputs": [
        {
          "output_type": "stream",
          "text": [
            "F e n e r B a h ç e\n",
            "T.B.M.M\n",
            "a/s/d/f/g/h\n"
          ],
          "name": "stdout"
        }
      ]
    },
    {
      "cell_type": "markdown",
      "metadata": {
        "id": "8KYFibQX1pOe",
        "colab_type": "text"
      },
      "source": [
        "yıldızlı parametreleri sayılarla kullanamayız"
      ]
    },
    {
      "cell_type": "code",
      "metadata": {
        "id": "UHro35tp1s2o",
        "colab_type": "code",
        "colab": {
          "base_uri": "https://localhost:8080/",
          "height": 162
        },
        "outputId": "ac4d6dbc-031e-43d1-d756-1563be318e20"
      },
      "source": [
        "print(*1234)"
      ],
      "execution_count": 34,
      "outputs": [
        {
          "output_type": "error",
          "ename": "TypeError",
          "evalue": "ignored",
          "traceback": [
            "\u001b[0;31m---------------------------------------------------------------------------\u001b[0m",
            "\u001b[0;31mTypeError\u001b[0m                                 Traceback (most recent call last)",
            "\u001b[0;32m<ipython-input-34-6fde31235bb6>\u001b[0m in \u001b[0;36m<module>\u001b[0;34m()\u001b[0m\n\u001b[0;32m----> 1\u001b[0;31m \u001b[0mprint\u001b[0m\u001b[0;34m(\u001b[0m\u001b[0;34m*\u001b[0m\u001b[0;36m1234\u001b[0m\u001b[0;34m)\u001b[0m\u001b[0;34m\u001b[0m\u001b[0;34m\u001b[0m\u001b[0m\n\u001b[0m",
            "\u001b[0;31mTypeError\u001b[0m: print() argument after * must be an iterable, not int"
          ]
        }
      ]
    },
    {
      "cell_type": "markdown",
      "metadata": {
        "id": "4zmalIDO1zpo",
        "colab_type": "text"
      },
      "source": [
        "**sys.stdout'u kalıcı olarak değiştirmek**"
      ]
    },
    {
      "cell_type": "markdown",
      "metadata": {
        "id": "qrzUQR7u13zJ",
        "colab_type": "text"
      },
      "source": [
        "Bazen çıktıların standart çıktı komutunda değil bizim belirlediğimiz yerde çıktı almak isteyebiliriz. Bu isteğimizi şu şekilde yapabiliyoruz:"
      ]
    },
    {
      "cell_type": "code",
      "metadata": {
        "id": "WibenRTD2HUc",
        "colab_type": "code",
        "colab": {}
      },
      "source": [
        "m = open(\"denemeFalan.txt\",\"w\")\n",
        "print(\"Murat\",file=m)\n",
        "m.close()"
      ],
      "execution_count": 0,
      "outputs": []
    },
    {
      "cell_type": "markdown",
      "metadata": {
        "id": "yF7Fr19g2U2T",
        "colab_type": "text"
      },
      "source": [
        "fakat istersekte çıktı komutunu kalıcı olarak değiştirebiliriz"
      ]
    },
    {
      "cell_type": "markdown",
      "metadata": {
        "id": "2gyQN5He2bi7",
        "colab_type": "text"
      },
      "source": [
        "sys modülünü içe aktaralım"
      ]
    },
    {
      "cell_type": "code",
      "metadata": {
        "id": "_qAFxjxo2dW8",
        "colab_type": "code",
        "colab": {}
      },
      "source": [
        "import sys"
      ],
      "execution_count": 0,
      "outputs": []
    },
    {
      "cell_type": "markdown",
      "metadata": {
        "id": "PHr7pPmY2fQG",
        "colab_type": "text"
      },
      "source": [
        "önceden kullandığımız modüller:\n",
        "+ import os\n",
        "os.getcwd() #çıktılarımızın yerini gösterir\n",
        "+ import keyword\n",
        "keyword.kwlist #değişken adı olarak kullanamayacağımız kelimeleri gösterir\n",
        "\n",
        "Python'da modüller import komutuyla içe aktarılır: import sys, import os, import keyword\n",
        "+ modülleri içeri aktardığımızda modül içindeki değişkenlere ve fonskiyonlara ulaşmış oluruz."
      ]
    },
    {
      "cell_type": "code",
      "metadata": {
        "id": "cSb6WDjl3Qwe",
        "colab_type": "code",
        "colab": {
          "base_uri": "https://localhost:8080/",
          "height": 34
        },
        "outputId": "7bc84281-a885-4a0b-a5b4-18fdbf3652ce"
      },
      "source": [
        "print(sys.stdout)"
      ],
      "execution_count": 39,
      "outputs": [
        {
          "output_type": "stream",
          "text": [
            "<ipykernel.iostream.OutStream object at 0x7f4f9e937320>\n"
          ],
          "name": "stdout"
        }
      ]
    },
    {
      "cell_type": "markdown",
      "metadata": {
        "id": "j7fd-dRG3ZQP",
        "colab_type": "text"
      },
      "source": [
        "etkileşim kabuğundan çıkmak için: import sys; sys.exit()\n",
        "veya:\n",
        "\n",
        "import sys\n",
        "sys.exit()"
      ]
    },
    {
      "cell_type": "markdown",
      "metadata": {
        "id": "q66-Beip4NJ5",
        "colab_type": "text"
      },
      "source": [
        "# Bilinmesi gerekenler"
      ]
    },
    {
      "cell_type": "markdown",
      "metadata": {
        "id": "OXmAXxOZ4SUh",
        "colab_type": "text"
      },
      "source": [
        "standart çıktı komutunu kalıcı olarak değiştirmek\n",
        "\n",
        "newKomut = open(\"dosya.txt\",\"w\")\n",
        "sys.stdout = newKomut\n",
        "\n",
        "+ sys.stdout u newKomut ile değiştirerek çıktıların artık dosya.txt de gösterilmesini sağladık."
      ]
    },
    {
      "cell_type": "code",
      "metadata": {
        "id": "TLI8M7lW4uA5",
        "colab_type": "code",
        "colab": {}
      },
      "source": [
        "print(\"Merhaba Yeni Komut\",flush=True)"
      ],
      "execution_count": 0,
      "outputs": []
    },
    {
      "cell_type": "markdown",
      "metadata": {
        "id": "1TqeNCbk43eg",
        "colab_type": "text"
      },
      "source": [
        "bir daha sys.stdout un değerine bakalım"
      ]
    },
    {
      "cell_type": "code",
      "metadata": {
        "id": "U9dgEiqO45-N",
        "colab_type": "code",
        "colab": {}
      },
      "source": [
        "print(sys.stdout,flush=True)"
      ],
      "execution_count": 0,
      "outputs": []
    },
    {
      "cell_type": "markdown",
      "metadata": {
        "id": "u4ZtaBRx5Cln",
        "colab_type": "text"
      },
      "source": [
        "name artık stdout değil dosya.txt olmuştur\n",
        "\n",
        "name, mode, encoding değerlerinde ulaşmak için:"
      ]
    },
    {
      "cell_type": "code",
      "metadata": {
        "id": "XY-4G-GG6H1H",
        "colab_type": "code",
        "colab": {}
      },
      "source": [
        "print(sys.stdout.name,flush=True) #standart çıktı komutunun adını gösterir\n",
        "print(sys.stdout.mode,flush=True) # standar çıktı komutunun hangi kipte olduğunu gösterir\n",
        "print(sys.stdout.encoding,flush=True) # standart çıktı komutunun kodlama biçimini gösterir"
      ],
      "execution_count": 0,
      "outputs": []
    },
    {
      "cell_type": "markdown",
      "metadata": {
        "id": "XR1QVGK-6jIm",
        "colab_type": "text"
      },
      "source": [
        "Windows'ta encoding genellike 'cp1254', GNU/LİNUX'ta ise 'utf-8'dir\n",
        "eğer kodlama biçimi yanlış olursa, mesala dosyaya yazdırdığjmız türkçe karakter düzgün gözükmez"
      ]
    },
    {
      "cell_type": "markdown",
      "metadata": {
        "id": "RMSp-pPJ62sD",
        "colab_type": "text"
      },
      "source": [
        "**standart çıktı konumunun eski haline döndürmek**"
      ]
    },
    {
      "cell_type": "code",
      "metadata": {
        "id": "TOztdrTL695Q",
        "colab_type": "code",
        "colab": {}
      },
      "source": [
        "sys.stdout,newKomut = newKomut,sys.stdout"
      ],
      "execution_count": 0,
      "outputs": []
    },
    {
      "cell_type": "markdown",
      "metadata": {
        "id": "UNynjkwR7Ts5",
        "colab_type": "text"
      },
      "source": [
        "deneyelim"
      ]
    },
    {
      "cell_type": "code",
      "metadata": {
        "id": "j69LN5uz7Una",
        "colab_type": "code",
        "colab": {
          "base_uri": "https://localhost:8080/",
          "height": 34
        },
        "outputId": "076d0218-58f4-437d-c595-45f3af3e28a1"
      },
      "source": [
        "print(\"123\")"
      ],
      "execution_count": 37,
      "outputs": [
        {
          "output_type": "stream",
          "text": [
            "123\n"
          ],
          "name": "stdout"
        }
      ]
    },
    {
      "cell_type": "markdown",
      "metadata": {
        "id": "VnCAnYWA7YO5",
        "colab_type": "text"
      },
      "source": [
        "istersek sys.stdout'un değerini kaybetmemek için yedekleyebiliriz"
      ]
    },
    {
      "cell_type": "code",
      "metadata": {
        "id": "4BZX6b_e7fPO",
        "colab_type": "code",
        "colab": {}
      },
      "source": [
        "oldSys = sys.stdout"
      ],
      "execution_count": 0,
      "outputs": []
    },
    {
      "cell_type": "markdown",
      "metadata": {
        "id": "WhAN3S6E7m-K",
        "colab_type": "text"
      },
      "source": [
        "eski haline döndürme gereksinimi bulduğumuz ise:"
      ]
    },
    {
      "cell_type": "code",
      "metadata": {
        "id": "Cqo1kwNu7rKk",
        "colab_type": "code",
        "colab": {}
      },
      "source": [
        "sys.stdout = oldSys"
      ],
      "execution_count": 0,
      "outputs": []
    }
  ]
}