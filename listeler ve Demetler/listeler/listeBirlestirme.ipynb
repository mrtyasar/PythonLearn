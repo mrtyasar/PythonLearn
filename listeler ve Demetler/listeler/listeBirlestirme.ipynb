{
  "nbformat": 4,
  "nbformat_minor": 0,
  "metadata": {
    "colab": {
      "name": "listeBirlestirme.ipynb",
      "provenance": []
    },
    "kernelspec": {
      "name": "python3",
      "display_name": "Python 3"
    }
  },
  "cells": [
    {
      "cell_type": "markdown",
      "metadata": {
        "id": "mDSm7faz2iaG",
        "colab_type": "text"
      },
      "source": [
        "# Listeleri Birleştirmek"
      ]
    },
    {
      "cell_type": "markdown",
      "metadata": {
        "id": "uvakwhsFkBbi",
        "colab_type": "text"
      },
      "source": [
        "Listeleri birleştirmek için + operatöründen yararlanırız:"
      ]
    },
    {
      "cell_type": "code",
      "metadata": {
        "id": "XvCgFwRWkY9x",
        "colab_type": "code",
        "colab": {}
      },
      "source": [
        "derlemeDiller = [\"C\",\"C++\",\"C#\",\"Java\"]\n",
        "yorumlananDiller = [\"Python\",\"Perl\",\"Ruby\"]"
      ],
      "execution_count": 2,
      "outputs": []
    },
    {
      "cell_type": "markdown",
      "metadata": {
        "id": "d7hwlBWqkm3r",
        "colab_type": "text"
      },
      "source": [
        "Bu iki ayrı listeyi tek bir liste haline getirelim:"
      ]
    },
    {
      "cell_type": "code",
      "metadata": {
        "id": "nZe_TIqnkrLw",
        "colab_type": "code",
        "colab": {
          "base_uri": "https://localhost:8080/",
          "height": 34
        },
        "outputId": "62b39563-c587-45fc-e2d1-74c11afe6010"
      },
      "source": [
        "programlamaDilleri = derlemeDiller + yorumlananDiller\n",
        "print(programlamaDilleri)"
      ],
      "execution_count": 4,
      "outputs": [
        {
          "output_type": "stream",
          "text": [
            "['C', 'C++', 'C#', 'Java', 'Python', 'Perl', 'Ruby']\n"
          ],
          "name": "stdout"
        }
      ]
    },
    {
      "cell_type": "markdown",
      "metadata": {
        "id": "QFAI1-QQlYBq",
        "colab_type": "text"
      },
      "source": [
        "kullanıcıdan girilen sayıların ortamasını hesaplayan bir program yazalım:"
      ]
    },
    {
      "cell_type": "code",
      "metadata": {
        "id": "tdieDg68ldE4",
        "colab_type": "code",
        "colab": {
          "base_uri": "https://localhost:8080/",
          "height": 204
        },
        "outputId": "acbecb27-58b7-4a06-c91b-8077e07ac1d1"
      },
      "source": [
        "sayilar = 0\n",
        "for i in range(10):\n",
        "  sayilar += int(input(\"Not: \"))\n",
        "print(sayilar/10)  "
      ],
      "execution_count": 5,
      "outputs": [
        {
          "output_type": "stream",
          "text": [
            "Not: 100\n",
            "Not: 10\n",
            "Not: 5\n",
            "Not: 55\n",
            "Not: 86\n",
            "Not: 14\n",
            "Not: 20\n",
            "Not: 40\n",
            "Not: 58\n",
            "Not: 6\n",
            "39.4\n"
          ],
          "name": "stdout"
        }
      ]
    },
    {
      "cell_type": "markdown",
      "metadata": {
        "id": "yRw9f0IHmGat",
        "colab_type": "text"
      },
      "source": [
        "biz burada kullanıcı tarafından girilen 10 tane sayının ortalamasını çıkardık.\n",
        "\n",
        "peki ya ortalamayla beraber kullanıcın hangi sayıları girdiğini göstermek istiyorsak ne yapmalıyız:"
      ]
    },
    {
      "cell_type": "code",
      "metadata": {
        "id": "9NgOkX-RmVIE",
        "colab_type": "code",
        "colab": {
          "base_uri": "https://localhost:8080/",
          "height": 221
        },
        "outputId": "c32162a4-b20b-486e-b308-bbf6a11ea3be"
      },
      "source": [
        "sayilar = 0\n",
        "notlar = []\n",
        "for i in range(10):\n",
        "  veri = int(input(\"{}. not: \".format(i+1)))\n",
        "  sayilar += veri\n",
        "  notlar += [veri]\n",
        "print(\"Girdiğiniz notlar: \",*notlar)\n",
        "print(\"Not ortalamanız: \",sayilar/10)"
      ],
      "execution_count": 12,
      "outputs": [
        {
          "output_type": "stream",
          "text": [
            "1. not: 58\n",
            "2. not: 69\n",
            "3. not: 42\n",
            "4. not: 90\n",
            "5. not: 85\n",
            "6. not: 78\n",
            "7. not: 98\n",
            "8. not: 92\n",
            "9. not: 75\n",
            "10. not: 84\n",
            "Girdiğiniz notlar:  58 69 42 90 85 78 98 92 75 84\n",
            "Not ortalamanız:  77.1\n"
          ],
          "name": "stdout"
        }
      ]
    },
    {
      "cell_type": "code",
      "metadata": {
        "id": "rMwi3Ko5oNCl",
        "colab_type": "code",
        "colab": {
          "base_uri": "https://localhost:8080/",
          "height": 170
        },
        "outputId": "ae539528-5e2f-4083-943d-650ce3beb7e9"
      },
      "source": [
        "ders = \"DERS NOTU ORTALAMA\"\n",
        "print(\"-\"*len(ders),\"\\n\",ders,\"\\n\",\"-\"*len(ders),sep=\"\")\n",
        "sayilar = 0 # int değer eklenecek için 0 değeri verdik boş bir değer\n",
        "notlar = [] # listeye eleman ekleyeceğimiz için boş bir liste verdik\n",
        "for i in range(4): # 4 e kadar şunları yap\n",
        "  veri = int(input(\"{}.not: \".format(i+1))) # 1.not şeklinde kullanıcdan veri aldık\n",
        "  # i + 1 eklememizin nedeni her döngüdüde 1.not değerin 1 i arttırmak içindir\n",
        "  sayilar += veri # kullanıcıdan gelen veriyi sayilar değişkene ekledik\n",
        "  notlar += [veri] # kullanıcıdan gelen veriyi notlar değişkenine liste olarka ekledik\n",
        "print(\"Girdiğiniz notlar:\",*notlar) # notları ayrı ayrı çıktı verdik\n",
        "print(\"Not ortalamanız: \",sayilar/4) # girilen notların ortalamasını çıkardık"
      ],
      "execution_count": 22,
      "outputs": [
        {
          "output_type": "stream",
          "text": [
            "------------------\n",
            "DERS NOTU ORTALAMA\n",
            "------------------\n",
            "1.not: 95\n",
            "2.not: 85\n",
            "3.not: 74\n",
            "4.not: 64\n",
            "Girdiğiniz notlar: 95 85 74 64\n",
            "Not ortalamanız:  79.5\n"
          ],
          "name": "stdout"
        }
      ]
    },
    {
      "cell_type": "markdown",
      "metadata": {
        "id": "RFc3AM4Pxo5_",
        "colab_type": "text"
      },
      "source": [
        "programamızıda notlar += [veri] yazmak yerine neden list(veri) şeklinde yazmadık\n",
        "\n",
        "çünkü list() for döngüsüne eş olacak şekilde çalışır, her bir elemanı tek tek listeye çevirir:"
      ]
    },
    {
      "cell_type": "markdown",
      "metadata": {
        "id": "1f7U7DELyRLs",
        "colab_type": "text"
      },
      "source": [
        "yani şu işlemler:"
      ]
    },
    {
      "cell_type": "code",
      "metadata": {
        "id": "HgZLr8loyStP",
        "colab_type": "code",
        "colab": {
          "base_uri": "https://localhost:8080/",
          "height": 54
        },
        "outputId": "87770978-79ad-4e7b-ae44-d413f93ef4e8"
      },
      "source": [
        "alfabe = \"abcçdefgğhıijklmnoöprsştuüvyz\"\n",
        "liste = list(alfabe)\n",
        "print(liste)"
      ],
      "execution_count": 24,
      "outputs": [
        {
          "output_type": "stream",
          "text": [
            "['a', 'b', 'c', 'ç', 'd', 'e', 'f', 'g', 'ğ', 'h', 'ı', 'i', 'j', 'k', 'l', 'm', 'n', 'o', 'ö', 'p', 'r', 's', 'ş', 't', 'u', 'ü', 'v', 'y', 'z']\n"
          ],
          "name": "stdout"
        }
      ]
    },
    {
      "cell_type": "markdown",
      "metadata": {
        "id": "xb4BBI_MyoCS",
        "colab_type": "text"
      },
      "source": [
        "bu işlem aynıdır:"
      ]
    },
    {
      "cell_type": "code",
      "metadata": {
        "id": "flbUchlrypla",
        "colab_type": "code",
        "colab": {
          "base_uri": "https://localhost:8080/",
          "height": 54
        },
        "outputId": "f17f6971-300b-4e17-8e6e-da53e0ffd9df"
      },
      "source": [
        "liste = []\n",
        "for m in alfabe:\n",
        "  liste += m\n",
        "print(liste)  "
      ],
      "execution_count": 28,
      "outputs": [
        {
          "output_type": "stream",
          "text": [
            "['a', 'b', 'c', 'ç', 'd', 'e', 'f', 'g', 'ğ', 'h', 'ı', 'i', 'j', 'k', 'l', 'm', 'n', 'o', 'ö', 'p', 'r', 's', 'ş', 't', 'u', 'ü', 'v', 'y', 'z']\n"
          ],
          "name": "stdout"
        }
      ]
    },
    {
      "cell_type": "markdown",
      "metadata": {
        "id": "anLwhb5TzJls",
        "colab_type": "text"
      },
      "source": [
        "list() fonksiyonun çalışma şekli for döngüsüne benzediğinden dolayı for döngüsü nasılsa sayılar üzerinde çalışamıyorsa list() fonksiyonu da sayılar üzerinde çalışamaz.\n",
        "\n",
        "bunun nedeni sayıların karakter dizileri gibi döngü kurulabilecek bir veri tipi olmadığındandır."
      ]
    },
    {
      "cell_type": "code",
      "metadata": {
        "id": "F9GheXG3zjsi",
        "colab_type": "code",
        "colab": {
          "base_uri": "https://localhost:8080/",
          "height": 180
        },
        "outputId": "1b39f5fe-1e8a-44a4-a18f-8ff33d93210d"
      },
      "source": [
        "for i in 1234:\n",
        "  print(i)"
      ],
      "execution_count": 29,
      "outputs": [
        {
          "output_type": "error",
          "ename": "TypeError",
          "evalue": "ignored",
          "traceback": [
            "\u001b[0;31m---------------------------------------------------------------------------\u001b[0m",
            "\u001b[0;31mTypeError\u001b[0m                                 Traceback (most recent call last)",
            "\u001b[0;32m<ipython-input-29-5482cc680dd9>\u001b[0m in \u001b[0;36m<module>\u001b[0;34m()\u001b[0m\n\u001b[0;32m----> 1\u001b[0;31m \u001b[0;32mfor\u001b[0m \u001b[0mi\u001b[0m \u001b[0;32min\u001b[0m \u001b[0;36m1234\u001b[0m\u001b[0;34m:\u001b[0m\u001b[0;34m\u001b[0m\u001b[0;34m\u001b[0m\u001b[0m\n\u001b[0m\u001b[1;32m      2\u001b[0m   \u001b[0mprint\u001b[0m\u001b[0;34m(\u001b[0m\u001b[0mi\u001b[0m\u001b[0;34m)\u001b[0m\u001b[0;34m\u001b[0m\u001b[0;34m\u001b[0m\u001b[0m\n",
            "\u001b[0;31mTypeError\u001b[0m: 'int' object is not iterable"
          ]
        }
      ]
    },
    {
      "cell_type": "code",
      "metadata": {
        "id": "GVH5E6QxzoK3",
        "colab_type": "code",
        "colab": {
          "base_uri": "https://localhost:8080/",
          "height": 163
        },
        "outputId": "f6774cea-ebe9-4d6c-d39c-80326fec7524"
      },
      "source": [
        "list(12345)"
      ],
      "execution_count": 30,
      "outputs": [
        {
          "output_type": "error",
          "ename": "TypeError",
          "evalue": "ignored",
          "traceback": [
            "\u001b[0;31m---------------------------------------------------------------------------\u001b[0m",
            "\u001b[0;31mTypeError\u001b[0m                                 Traceback (most recent call last)",
            "\u001b[0;32m<ipython-input-30-bab557a07a58>\u001b[0m in \u001b[0;36m<module>\u001b[0;34m()\u001b[0m\n\u001b[0;32m----> 1\u001b[0;31m \u001b[0mlist\u001b[0m\u001b[0;34m(\u001b[0m\u001b[0;36m12345\u001b[0m\u001b[0;34m)\u001b[0m\u001b[0;34m\u001b[0m\u001b[0;34m\u001b[0m\u001b[0m\n\u001b[0m",
            "\u001b[0;31mTypeError\u001b[0m: 'int' object is not iterable"
          ]
        }
      ]
    },
    {
      "cell_type": "code",
      "metadata": {
        "id": "LJqZbngSzt_U",
        "colab_type": "code",
        "colab": {
          "base_uri": "https://localhost:8080/",
          "height": 34
        },
        "outputId": "1ca4b550-91e6-48f7-e15f-738a8f925a20"
      },
      "source": [
        "list(\"12345\")"
      ],
      "execution_count": 31,
      "outputs": [
        {
          "output_type": "execute_result",
          "data": {
            "text/plain": [
              "['1', '2', '3', '4', '5']"
            ]
          },
          "metadata": {
            "tags": []
          },
          "execution_count": 31
        }
      ]
    },
    {
      "cell_type": "markdown",
      "metadata": {
        "id": "nmMGYQVrz0Py",
        "colab_type": "text"
      },
      "source": [
        "yani programımızda notlar += [veri] yazmak yerine notlar += list(veri) şeklinde yazsaydık şöyle bir hatayla karşılaşırdık."
      ]
    },
    {
      "cell_type": "code",
      "metadata": {
        "id": "6t2u2cb00EI3",
        "colab_type": "code",
        "colab": {
          "base_uri": "https://localhost:8080/",
          "height": 231
        },
        "outputId": "196e5eed-7222-4c07-925c-61eba8d0bcb5"
      },
      "source": [
        "notlar = []\n",
        "for m in range(4):\n",
        "  veri = int(input(\"{}.not: \".format(m+1)))\n",
        "  notlar += list(veri)\n",
        "print(\"Girdiğiniz notlar: \",*notlar)  "
      ],
      "execution_count": 32,
      "outputs": [
        {
          "output_type": "stream",
          "text": [
            "1.not: 95\n"
          ],
          "name": "stdout"
        },
        {
          "output_type": "error",
          "ename": "TypeError",
          "evalue": "ignored",
          "traceback": [
            "\u001b[0;31m---------------------------------------------------------------------------\u001b[0m",
            "\u001b[0;31mTypeError\u001b[0m                                 Traceback (most recent call last)",
            "\u001b[0;32m<ipython-input-32-fd4b4070aadd>\u001b[0m in \u001b[0;36m<module>\u001b[0;34m()\u001b[0m\n\u001b[1;32m      2\u001b[0m \u001b[0;32mfor\u001b[0m \u001b[0mm\u001b[0m \u001b[0;32min\u001b[0m \u001b[0mrange\u001b[0m\u001b[0;34m(\u001b[0m\u001b[0;36m4\u001b[0m\u001b[0;34m)\u001b[0m\u001b[0;34m:\u001b[0m\u001b[0;34m\u001b[0m\u001b[0;34m\u001b[0m\u001b[0m\n\u001b[1;32m      3\u001b[0m   \u001b[0mveri\u001b[0m \u001b[0;34m=\u001b[0m \u001b[0mint\u001b[0m\u001b[0;34m(\u001b[0m\u001b[0minput\u001b[0m\u001b[0;34m(\u001b[0m\u001b[0;34m\"{}.not: \"\u001b[0m\u001b[0;34m.\u001b[0m\u001b[0mformat\u001b[0m\u001b[0;34m(\u001b[0m\u001b[0mm\u001b[0m\u001b[0;34m+\u001b[0m\u001b[0;36m1\u001b[0m\u001b[0;34m)\u001b[0m\u001b[0;34m)\u001b[0m\u001b[0;34m)\u001b[0m\u001b[0;34m\u001b[0m\u001b[0;34m\u001b[0m\u001b[0m\n\u001b[0;32m----> 4\u001b[0;31m   \u001b[0mnotlar\u001b[0m \u001b[0;34m+=\u001b[0m \u001b[0mlist\u001b[0m\u001b[0;34m(\u001b[0m\u001b[0mveri\u001b[0m\u001b[0;34m)\u001b[0m\u001b[0;34m\u001b[0m\u001b[0;34m\u001b[0m\u001b[0m\n\u001b[0m\u001b[1;32m      5\u001b[0m \u001b[0mprint\u001b[0m\u001b[0;34m(\u001b[0m\u001b[0;34m\"Girdiğiniz notlar: \"\u001b[0m\u001b[0;34m,\u001b[0m\u001b[0;34m*\u001b[0m\u001b[0mnotlar\u001b[0m\u001b[0;34m)\u001b[0m\u001b[0;34m\u001b[0m\u001b[0;34m\u001b[0m\u001b[0m\n",
            "\u001b[0;31mTypeError\u001b[0m: 'int' object is not iterable"
          ]
        }
      ]
    },
    {
      "cell_type": "markdown",
      "metadata": {
        "id": "orNgA-_B0_-T",
        "colab_type": "text"
      },
      "source": [
        "hata almamızın nedeni kullanıcıdan gelen veriyi int() fonksiyonuyla sayıya dönüştürdüğüm için ve sayılar da döngü kurulabilen bir veri tipi olmadığı için list() fonskiyonuna parametre olarak atayamayız."
      ]
    },
    {
      "cell_type": "markdown",
      "metadata": {
        "id": "SYRaVmB81Pxc",
        "colab_type": "text"
      },
      "source": [
        "peki kullanıcıdan gelen veriyi sayıya dönüştürmeden list() fonksiyonuna parametre olarka verirsek ne olur?"
      ]
    },
    {
      "cell_type": "code",
      "metadata": {
        "id": "0fBi49tP1WYH",
        "colab_type": "code",
        "colab": {
          "base_uri": "https://localhost:8080/",
          "height": 102
        },
        "outputId": "0ea09f6f-7fbc-470c-a92d-d9fb43f27b00"
      },
      "source": [
        "notlar = []\n",
        "for m in range(4):\n",
        "  veri = input(\"{}.not: \".format(i+1))\n",
        "  notlar += list(veri)\n",
        "print(\"Girdiğiniz notlar: \",*notlar)  "
      ],
      "execution_count": 33,
      "outputs": [
        {
          "output_type": "stream",
          "text": [
            "4.not: 5\n",
            "4.not: 58\n",
            "4.not: 85\n",
            "4.not: 78\n",
            "Girdiğiniz notlar:  5 5 8 8 5 7 8\n"
          ],
          "name": "stdout"
        }
      ]
    },
    {
      "cell_type": "markdown",
      "metadata": {
        "id": "GtdNc-DL19fA",
        "colab_type": "text"
      },
      "source": [
        "program hata üretmedi fakat istediğimiz sonucu da vermedi."
      ]
    },
    {
      "cell_type": "markdown",
      "metadata": {
        "id": "wWu-Ox492IKw",
        "colab_type": "text"
      },
      "source": [
        "programı çalıştırdığımızda tek hanelilerin düzgün bir şekilden fakat 1 den fazla basamaklı sayıların tek tek yazıldığı görülüyor. Bunun nedeni döngü yapacak şekilde çalışmasındandır."
      ]
    },
    {
      "cell_type": "code",
      "metadata": {
        "id": "2btb10J0DAzD",
        "colab_type": "code",
        "colab": {
          "base_uri": "https://localhost:8080/",
          "height": 68
        },
        "outputId": "224a1dd7-18d9-4de4-8687-ca337f7fd683"
      },
      "source": [
        "for i in \"234\":\n",
        "  print(i)"
      ],
      "execution_count": 34,
      "outputs": [
        {
          "output_type": "stream",
          "text": [
            "2\n",
            "3\n",
            "4\n"
          ],
          "name": "stdout"
        }
      ]
    },
    {
      "cell_type": "markdown",
      "metadata": {
        "id": "U-ms1nX9DUxZ",
        "colab_type": "text"
      },
      "source": [
        "kullanıcının aynı veriyi birden fazla yazmasını engeleyen bir program yazalım:"
      ]
    },
    {
      "cell_type": "code",
      "metadata": {
        "id": "1QRSjnHBDb4q",
        "colab_type": "code",
        "colab": {
          "base_uri": "https://localhost:8080/",
          "height": 204
        },
        "outputId": "3adc5b16-f083-4fff-bd0f-bb3a8110b229"
      },
      "source": [
        "liste = []\n",
        "while True:\n",
        "  sayi = input(\"Bir sayı giriniz: (çıkmak için q)\")\n",
        "  if sayi == \"q\":\n",
        "    break\n",
        "  sayi = int(sayi) \n",
        "  if sayi not in liste:\n",
        "      liste += [sayi]\n",
        "      print(liste)\n",
        "  else:\n",
        "    print(\"Bu sayıyı daha önce girdiniz!\")     "
      ],
      "execution_count": 35,
      "outputs": [
        {
          "output_type": "stream",
          "text": [
            "Bir sayı giriniz: (çıkmak için q)58\n",
            "[58]\n",
            "Bir sayı giriniz: (çıkmak için q)58\n",
            "Bu sayıyı daha önce girdiniz!\n",
            "Bir sayı giriniz: (çıkmak için q)70\n",
            "[58, 70]\n",
            "Bir sayı giriniz: (çıkmak için q)90\n",
            "[58, 70, 90]\n",
            "Bir sayı giriniz: (çıkmak için q)90\n",
            "Bu sayıyı daha önce girdiniz!\n",
            "Bir sayı giriniz: (çıkmak için q)q\n"
          ],
          "name": "stdout"
        }
      ]
    }
  ]
}