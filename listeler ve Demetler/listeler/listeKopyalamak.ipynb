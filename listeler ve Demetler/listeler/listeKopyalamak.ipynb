{
  "nbformat": 4,
  "nbformat_minor": 0,
  "metadata": {
    "colab": {
      "name": "listeKopyalamak.ipynb",
      "provenance": [],
      "collapsed_sections": []
    },
    "kernelspec": {
      "name": "python3",
      "display_name": "Python 3"
    }
  },
  "cells": [
    {
      "cell_type": "markdown",
      "metadata": {
        "id": "oenYTayisK0f",
        "colab_type": "text"
      },
      "source": [
        "# Listeleri kopyalamak"
      ]
    },
    {
      "cell_type": "markdown",
      "metadata": {
        "id": "SC3BuDfHvIu8",
        "colab_type": "text"
      },
      "source": [
        "elimizde bir liste var diyelim ve bu listeyi kolayca kopyalayalım:"
      ]
    },
    {
      "cell_type": "code",
      "metadata": {
        "id": "Y4jVSUTDvOyJ",
        "colab_type": "code",
        "colab": {}
      },
      "source": [
        "liste1 = [\"Elma\",\"Kavun\",\"Kivi\"]"
      ],
      "execution_count": 1,
      "outputs": []
    },
    {
      "cell_type": "markdown",
      "metadata": {
        "id": "LbEGqMBGvVVY",
        "colab_type": "text"
      },
      "source": [
        "liste1 değişkenimizi kopyalayalım:"
      ]
    },
    {
      "cell_type": "code",
      "metadata": {
        "id": "Mqo8iPtBvZJR",
        "colab_type": "code",
        "colab": {}
      },
      "source": [
        "liste2 = liste1"
      ],
      "execution_count": 3,
      "outputs": []
    },
    {
      "cell_type": "markdown",
      "metadata": {
        "id": "ft9kpAxovf_G",
        "colab_type": "text"
      },
      "source": [
        "kontrol edelim:"
      ]
    },
    {
      "cell_type": "code",
      "metadata": {
        "id": "OexLYYlovhbw",
        "colab_type": "code",
        "colab": {
          "base_uri": "https://localhost:8080/",
          "height": 51
        },
        "outputId": "f59b7de2-17c6-43e1-b5d7-1691d9df5324"
      },
      "source": [
        "print(liste1)\n",
        "print(liste2)"
      ],
      "execution_count": 4,
      "outputs": [
        {
          "output_type": "stream",
          "text": [
            "['Elma', 'Kavun', 'Kivi']\n",
            "['Elma', 'Kavun', 'Kivi']\n"
          ],
          "name": "stdout"
        }
      ]
    },
    {
      "cell_type": "markdown",
      "metadata": {
        "id": "vw_Hc_5tvkpd",
        "colab_type": "text"
      },
      "source": [
        "bu yöntemle başarılı bir şekilde listemizi kopyalamış olduk. \n",
        "\n",
        "fakat burada tam anlamıyla kopyasını oluşturduk yani bir listede değişiklik yaptığımızda diğer bir listede de aynı değişiklik uygulanacak:"
      ]
    },
    {
      "cell_type": "code",
      "metadata": {
        "id": "o1Sn40P4wO8E",
        "colab_type": "code",
        "colab": {}
      },
      "source": [
        "liste1[0] = \"Orange\""
      ],
      "execution_count": 5,
      "outputs": []
    },
    {
      "cell_type": "code",
      "metadata": {
        "id": "MWgzvmd7wT35",
        "colab_type": "code",
        "colab": {
          "base_uri": "https://localhost:8080/",
          "height": 51
        },
        "outputId": "57ce4d75-323a-4932-8650-d825fe3f8776"
      },
      "source": [
        "print(liste1)\n",
        "print(liste2)"
      ],
      "execution_count": 6,
      "outputs": [
        {
          "output_type": "stream",
          "text": [
            "['Orange', 'Kavun', 'Kivi']\n",
            "['Orange', 'Kavun', 'Kivi']\n"
          ],
          "name": "stdout"
        }
      ]
    },
    {
      "cell_type": "markdown",
      "metadata": {
        "id": "Ub7QGywgwWvv",
        "colab_type": "text"
      },
      "source": [
        "görüldüğü gibi liste1 e uyguladığımız değişiklik liste2 ye de yansımış oldu"
      ]
    },
    {
      "cell_type": "markdown",
      "metadata": {
        "id": "ik8k3XL8xOHR",
        "colab_type": "text"
      },
      "source": [
        "Bunun nedeni listelerin değiştirelebilir yani mutable bir veri tipine sahip olduklarındandır.\n",
        "\n",
        "aynı işlemi karakter dizilerin üzerinde yaptığımızda daha başka bir sonuç alacağız:"
      ]
    },
    {
      "cell_type": "code",
      "metadata": {
        "id": "bPzaqK4rxZBX",
        "colab_type": "code",
        "colab": {}
      },
      "source": [
        "a = \"elma\""
      ],
      "execution_count": 7,
      "outputs": []
    },
    {
      "cell_type": "code",
      "metadata": {
        "id": "NPjhh3woxbGh",
        "colab_type": "code",
        "colab": {
          "base_uri": "https://localhost:8080/",
          "height": 51
        },
        "outputId": "5a85720c-7282-4c5f-8562-0fd0fd07a528"
      },
      "source": [
        "b = a\n",
        "print(a)\n",
        "print(b)"
      ],
      "execution_count": 8,
      "outputs": [
        {
          "output_type": "stream",
          "text": [
            "elma\n",
            "elma\n"
          ],
          "name": "stdout"
        }
      ]
    },
    {
      "cell_type": "markdown",
      "metadata": {
        "id": "gvZbrDVTxh0_",
        "colab_type": "text"
      },
      "source": [
        "a'nın üzerine değişiklik yapalım:"
      ]
    },
    {
      "cell_type": "code",
      "metadata": {
        "id": "v4JwbGKsxlHF",
        "colab_type": "code",
        "colab": {
          "base_uri": "https://localhost:8080/",
          "height": 34
        },
        "outputId": "9f772974-9a1b-4654-d1fd-d31e2130173b"
      },
      "source": [
        "a = \"E\" + a[1:]\n",
        "print(a)"
      ],
      "execution_count": 10,
      "outputs": [
        {
          "output_type": "stream",
          "text": [
            "Elma\n"
          ],
          "name": "stdout"
        }
      ]
    },
    {
      "cell_type": "code",
      "metadata": {
        "id": "wKyroydPxt6V",
        "colab_type": "code",
        "colab": {
          "base_uri": "https://localhost:8080/",
          "height": 34
        },
        "outputId": "c55a84ad-1797-46f5-8575-3f146d1fc7d9"
      },
      "source": [
        "print(b)"
      ],
      "execution_count": 11,
      "outputs": [
        {
          "output_type": "stream",
          "text": [
            "elma\n"
          ],
          "name": "stdout"
        }
      ]
    },
    {
      "cell_type": "markdown",
      "metadata": {
        "id": "icfjRzOrxvjH",
        "colab_type": "text"
      },
      "source": [
        "görüldüğü gibi bir değişkende yapılan işlem diğer değişkene yansımıyor."
      ]
    },
    {
      "cell_type": "markdown",
      "metadata": {
        "id": "mei6nPOHzoZa",
        "colab_type": "text"
      },
      "source": [
        "bunun nedeni ise karakter dizilerin değiştirilemeyen(immutable) bir veri tipi olmasındandır."
      ]
    },
    {
      "cell_type": "code",
      "metadata": {
        "id": "wTcK3w3Wz2sU",
        "colab_type": "code",
        "colab": {
          "base_uri": "https://localhost:8080/",
          "height": 34
        },
        "outputId": "4331d1fa-b635-4d51-db50-ef4f880a94c7"
      },
      "source": [
        "id(a)"
      ],
      "execution_count": 12,
      "outputs": [
        {
          "output_type": "execute_result",
          "data": {
            "text/plain": [
              "140364343993992"
            ]
          },
          "metadata": {
            "tags": []
          },
          "execution_count": 12
        }
      ]
    },
    {
      "cell_type": "code",
      "metadata": {
        "id": "T-Cwgt8kz47X",
        "colab_type": "code",
        "colab": {
          "base_uri": "https://localhost:8080/",
          "height": 34
        },
        "outputId": "d62df92e-4a7e-4df4-a598-07a5150a6fb9"
      },
      "source": [
        "id(b)"
      ],
      "execution_count": 13,
      "outputs": [
        {
          "output_type": "execute_result",
          "data": {
            "text/plain": [
              "140364344114848"
            ]
          },
          "metadata": {
            "tags": []
          },
          "execution_count": 13
        }
      ]
    },
    {
      "cell_type": "code",
      "metadata": {
        "id": "XsbJbGgWz9Nx",
        "colab_type": "code",
        "colab": {
          "base_uri": "https://localhost:8080/",
          "height": 34
        },
        "outputId": "6122dc51-5062-402b-e2a9-e83908ac557e"
      },
      "source": [
        "id(a) == id(b)"
      ],
      "execution_count": 14,
      "outputs": [
        {
          "output_type": "execute_result",
          "data": {
            "text/plain": [
              "False"
            ]
          },
          "metadata": {
            "tags": []
          },
          "execution_count": 14
        }
      ]
    },
    {
      "cell_type": "markdown",
      "metadata": {
        "id": "NDhcoWzl0BxC",
        "colab_type": "text"
      },
      "source": [
        "görüldüğü gibi a yı b ye kopyalamak yerine a'nın değerine sahip yeni bir nesne oluşturmuşuz. Bu yüzden yaptığımız değişikler bir bir değişkeni etkilemiyor."
      ]
    },
    {
      "cell_type": "markdown",
      "metadata": {
        "id": "rCXsjaBX0eJI",
        "colab_type": "text"
      },
      "source": [
        "- gelelim listeleri kopyalamak yerine aynı değere sahip yeni bir değişken oluşturmaya:"
      ]
    },
    {
      "cell_type": "code",
      "metadata": {
        "id": "v95_uncZ0kpE",
        "colab_type": "code",
        "colab": {}
      },
      "source": [
        "listeOne = [\"ahmet\",\"mehmet\",\"özlem\"]"
      ],
      "execution_count": 15,
      "outputs": []
    },
    {
      "cell_type": "markdown",
      "metadata": {
        "id": "DNHCQ25N0qmt",
        "colab_type": "text"
      },
      "source": [
        "listeyi kopyalayalım:"
      ]
    },
    {
      "cell_type": "code",
      "metadata": {
        "id": "IjnHgM0i0sw3",
        "colab_type": "code",
        "colab": {}
      },
      "source": [
        "listeTwo = listeOne[:]"
      ],
      "execution_count": 16,
      "outputs": []
    },
    {
      "cell_type": "markdown",
      "metadata": {
        "id": "kzADLxYI0zfc",
        "colab_type": "text"
      },
      "source": [
        "şimdi bir listede yaptığımız değişiklik diğer listede de olacak mı bakalım:"
      ]
    },
    {
      "cell_type": "code",
      "metadata": {
        "id": "KpFJQvqp1Ap6",
        "colab_type": "code",
        "colab": {
          "base_uri": "https://localhost:8080/",
          "height": 51
        },
        "outputId": "e0eda80c-891f-464c-e287-7502fa6dfa68"
      },
      "source": [
        "listeOne[0] = \"veli\"\n",
        "print(listeOne)\n",
        "print(listeTwo)"
      ],
      "execution_count": 19,
      "outputs": [
        {
          "output_type": "stream",
          "text": [
            "['veli', 'mehmet', 'özlem']\n",
            "['ahmet', 'mehmet', 'özlem']\n"
          ],
          "name": "stdout"
        }
      ]
    },
    {
      "cell_type": "markdown",
      "metadata": {
        "id": "NEanjaDp1ZTO",
        "colab_type": "text"
      },
      "source": [
        "demek ki kopyalayacağımız listenin kopyacalacağımız sırada yanına [:] koymak işimizi görebiliyormuş."
      ]
    },
    {
      "cell_type": "markdown",
      "metadata": {
        "id": "f2-muD2t1kkc",
        "colab_type": "text"
      },
      "source": [
        "2. yöntem olarak list() fonksyonunu kullanabiliriz:"
      ]
    },
    {
      "cell_type": "code",
      "metadata": {
        "id": "Fjbn5hp41pJc",
        "colab_type": "code",
        "colab": {}
      },
      "source": [
        "liste1 = [\"Ahmet\",\"Mehmet\",\"Özlem\"]"
      ],
      "execution_count": 20,
      "outputs": []
    },
    {
      "cell_type": "markdown",
      "metadata": {
        "id": "7gggn3FH2C7z",
        "colab_type": "text"
      },
      "source": [
        "şimdi bunu yeni bir değişkene kopyalayalım:"
      ]
    },
    {
      "cell_type": "code",
      "metadata": {
        "id": "a7FT76a42Gly",
        "colab_type": "code",
        "colab": {}
      },
      "source": [
        "liste2 = list(liste1)"
      ],
      "execution_count": 22,
      "outputs": []
    },
    {
      "cell_type": "code",
      "metadata": {
        "id": "12kmNU_Z2M5a",
        "colab_type": "code",
        "colab": {
          "base_uri": "https://localhost:8080/",
          "height": 51
        },
        "outputId": "b2346b4b-5c59-4758-c9a9-54ea5535001d"
      },
      "source": [
        "print(liste1)\n",
        "print(liste2)"
      ],
      "execution_count": 23,
      "outputs": [
        {
          "output_type": "stream",
          "text": [
            "['Ahmet', 'Mehmet', 'Özlem']\n",
            "['Ahmet', 'Mehmet', 'Özlem']\n"
          ],
          "name": "stdout"
        }
      ]
    },
    {
      "cell_type": "markdown",
      "metadata": {
        "id": "YNe5GfEp2U8W",
        "colab_type": "text"
      },
      "source": [
        "liste2 üzerinde değişiklik yapalım:"
      ]
    },
    {
      "cell_type": "code",
      "metadata": {
        "id": "r1igBtcw2YCs",
        "colab_type": "code",
        "colab": {}
      },
      "source": [
        "liste2[0] = \"Caner\""
      ],
      "execution_count": 24,
      "outputs": []
    },
    {
      "cell_type": "code",
      "metadata": {
        "id": "2zCoNtCN2cjQ",
        "colab_type": "code",
        "colab": {
          "base_uri": "https://localhost:8080/",
          "height": 51
        },
        "outputId": "088201da-c1fc-4996-ed77-10577238fb82"
      },
      "source": [
        "print(liste2)\n",
        "print(liste1)"
      ],
      "execution_count": 26,
      "outputs": [
        {
          "output_type": "stream",
          "text": [
            "['Caner', 'Mehmet', 'Özlem']\n",
            "['Ahmet', 'Mehmet', 'Özlem']\n"
          ],
          "name": "stdout"
        }
      ]
    },
    {
      "cell_type": "markdown",
      "metadata": {
        "id": "JyHdC0I72i-9",
        "colab_type": "text"
      },
      "source": [
        "demek ki list() yöntemi de işe yarıyormuş bu iki yöntem ile kopyaladığımız değişkenlerin üzerinde işlem yaptığımızda diğer değişkenler değişikliğe uğramayacak."
      ]
    },
    {
      "cell_type": "markdown",
      "metadata": {
        "id": "nqRTayq43NUJ",
        "colab_type": "text"
      },
      "source": [
        "**örnekleme**"
      ]
    },
    {
      "cell_type": "code",
      "metadata": {
        "id": "owByC7yr3ZM4",
        "colab_type": "code",
        "colab": {
          "base_uri": "https://localhost:8080/",
          "height": 153
        },
        "outputId": "1a0e3224-26e0-4163-aad4-7fc5e12cb33b"
      },
      "source": [
        "# gezilen şehir listesi\n",
        "gezilenSehirler = [\"İstanbul\",\"Trabzon\",\"Manisa\",\"İzmir\"]\n",
        "# bu değişkeni kopyalayalım\n",
        "gezilenSehirler2 = gezilenSehirler\n",
        "# kontrol edelim\n",
        "print(gezilenSehirler)\n",
        "print(gezilenSehirler2)\n",
        "# üzerinde değişiklik yapalım yeni bir şehir ekleyelim\n",
        "gezilenSehirler += [\"Aydın\"]\n",
        "print(gezilenSehirler)\n",
        "# diğerini de yazdıralım\n",
        "print(gezilenSehirler2)\n",
        "# demekki klonladığımız listeler birbirine bağlıymış\n",
        "# bunu engelleyelim:\n",
        "gezilenSehirler2 = gezilenSehirler[:]\n",
        "gezilenSehirler += [\"Eskişehir\"]\n",
        "# ikisini de kontrol edelim\n",
        "print(gezilenSehirler)\n",
        "print(gezilenSehirler2)\n",
        "# bu yöntemin birde 2. versiyonu vardır\n",
        "gezilenSehirler2 = list(gezilenSehirler)\n",
        "gezilenSehirler2 += [\"Ordu\"]\n",
        "# ikisini de kontrol edelim\n",
        "print(gezilenSehirler)\n",
        "print(gezilenSehirler2)"
      ],
      "execution_count": 34,
      "outputs": [
        {
          "output_type": "stream",
          "text": [
            "['İstanbul', 'Trabzon', 'Manisa', 'İzmir']\n",
            "['İstanbul', 'Trabzon', 'Manisa', 'İzmir']\n",
            "['İstanbul', 'Trabzon', 'Manisa', 'İzmir', 'Aydın']\n",
            "['İstanbul', 'Trabzon', 'Manisa', 'İzmir', 'Aydın']\n",
            "['İstanbul', 'Trabzon', 'Manisa', 'İzmir', 'Aydın', 'Eskişehir']\n",
            "['İstanbul', 'Trabzon', 'Manisa', 'İzmir', 'Aydın']\n",
            "['İstanbul', 'Trabzon', 'Manisa', 'İzmir', 'Aydın', 'Eskişehir']\n",
            "['İstanbul', 'Trabzon', 'Manisa', 'İzmir', 'Aydın', 'Eskişehir', 'Ordu']\n"
          ],
          "name": "stdout"
        }
      ]
    }
  ]
}