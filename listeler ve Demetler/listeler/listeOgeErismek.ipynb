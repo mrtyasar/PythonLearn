{
  "nbformat": 4,
  "nbformat_minor": 0,
  "metadata": {
    "colab": {
      "name": "listeOgeErismek.ipynb",
      "provenance": [],
      "collapsed_sections": []
    },
    "kernelspec": {
      "name": "python3",
      "display_name": "Python 3"
    }
  },
  "cells": [
    {
      "cell_type": "markdown",
      "metadata": {
        "id": "g2ajXhkvtNbj",
        "colab_type": "text"
      },
      "source": [
        "# Listelerin Öğelerine Erişmek"
      ]
    },
    {
      "cell_type": "markdown",
      "metadata": {
        "id": "HhmgfpFmtZG5",
        "colab_type": "text"
      },
      "source": [
        "Karakter dizilerinde olduğu gibi listelerde de indeks numalarına göre ulaşırız:"
      ]
    },
    {
      "cell_type": "code",
      "metadata": {
        "id": "G_oLxLiDtfEw",
        "colab_type": "code",
        "colab": {
          "base_uri": "https://localhost:8080/",
          "height": 34
        },
        "outputId": "50290bfd-df0d-4de2-9e3b-d1bb75cd8f21"
      },
      "source": [
        "kardiz = \"Python\"\n",
        "print(kardiz[0])"
      ],
      "execution_count": 1,
      "outputs": [
        {
          "output_type": "stream",
          "text": [
            "P\n"
          ],
          "name": "stdout"
        }
      ]
    },
    {
      "cell_type": "markdown",
      "metadata": {
        "id": "crtl-_nptj9a",
        "colab_type": "text"
      },
      "source": [
        "listede:"
      ]
    },
    {
      "cell_type": "code",
      "metadata": {
        "id": "t2KlMcS1tl8W",
        "colab_type": "code",
        "colab": {
          "base_uri": "https://localhost:8080/",
          "height": 34
        },
        "outputId": "2ad4e4b4-c806-4dad-deab-07a25f9bb98f"
      },
      "source": [
        "kardiz = [\"Elma\",\"Karpuz\",\"Kivi\"]\n",
        "print(kardiz[0])"
      ],
      "execution_count": 2,
      "outputs": [
        {
          "output_type": "stream",
          "text": [
            "Elma\n"
          ],
          "name": "stdout"
        }
      ]
    },
    {
      "cell_type": "markdown",
      "metadata": {
        "id": "JJGk2mXXtufv",
        "colab_type": "text"
      },
      "source": [
        "Aralarındaki tek fark karakter dizisinde harfleri, liste de öğelerine erişmiş oluruz."
      ]
    },
    {
      "cell_type": "markdown",
      "metadata": {
        "id": "rWYmV5ght5oQ",
        "colab_type": "text"
      },
      "source": [
        "Listedeki öğelere tek tek ulaşmak için for döngüsünden yararlanabiliriz."
      ]
    },
    {
      "cell_type": "code",
      "metadata": {
        "id": "-u8cpDc8uQgG",
        "colab_type": "code",
        "colab": {
          "base_uri": "https://localhost:8080/",
          "height": 68
        },
        "outputId": "d713387b-b3fc-4c3e-90fd-59c29be9af12"
      },
      "source": [
        "for m in kardiz:\n",
        "  print(m)"
      ],
      "execution_count": 3,
      "outputs": [
        {
          "output_type": "stream",
          "text": [
            "Elma\n",
            "Karpuz\n",
            "Kivi\n"
          ],
          "name": "stdout"
        }
      ]
    },
    {
      "cell_type": "markdown",
      "metadata": {
        "id": "LZg2M9hguVJ4",
        "colab_type": "text"
      },
      "source": [
        "Öğeleri numaralandıralım:"
      ]
    },
    {
      "cell_type": "code",
      "metadata": {
        "id": "9PPpqB_fuhfU",
        "colab_type": "code",
        "colab": {
          "base_uri": "https://localhost:8080/",
          "height": 68
        },
        "outputId": "44294870-4b52-4e99-a2e6-ada8adc6a1a2"
      },
      "source": [
        "for ogeSirasi in range(len(kardiz)):\n",
        "  print(\"{}.      {}\".format(ogeSirasi,kardiz[ogeSirasi]))"
      ],
      "execution_count": 7,
      "outputs": [
        {
          "output_type": "stream",
          "text": [
            "0.      Elma\n",
            "1.      Karpuz\n",
            "2.      Kivi\n"
          ],
          "name": "stdout"
        }
      ]
    },
    {
      "cell_type": "markdown",
      "metadata": {
        "id": "30VgLQPJvD_b",
        "colab_type": "text"
      },
      "source": [
        "bu işlemi enumerate() fonksiyonu kullanarakta yapabiliriz:"
      ]
    },
    {
      "cell_type": "code",
      "metadata": {
        "id": "49rTBMLyvKLM",
        "colab_type": "code",
        "colab": {
          "base_uri": "https://localhost:8080/",
          "height": 68
        },
        "outputId": "2128a8e4-804b-4739-9cc6-27989a5121a3"
      },
      "source": [
        "for sıra, oge in enumerate(kardiz,1):\n",
        "  print(\"{}. {}\".format(sıra,oge))"
      ],
      "execution_count": 10,
      "outputs": [
        {
          "output_type": "stream",
          "text": [
            "1. Elma\n",
            "2. Karpuz\n",
            "3. Kivi\n"
          ],
          "name": "stdout"
        }
      ]
    },
    {
      "cell_type": "markdown",
      "metadata": {
        "id": "WbxX94Y8v6m0",
        "colab_type": "text"
      },
      "source": [
        "listenin son öğesine erişmek:"
      ]
    },
    {
      "cell_type": "code",
      "metadata": {
        "id": "cl7WnH9dwkfG",
        "colab_type": "code",
        "colab": {
          "base_uri": "https://localhost:8080/",
          "height": 34
        },
        "outputId": "6d64173d-b4ea-4b8d-91d9-eaf956543b45"
      },
      "source": [
        "print(kardiz[-1])"
      ],
      "execution_count": 11,
      "outputs": [
        {
          "output_type": "stream",
          "text": [
            "Kivi\n"
          ],
          "name": "stdout"
        }
      ]
    },
    {
      "cell_type": "markdown",
      "metadata": {
        "id": "fQik5JH9wpPQ",
        "colab_type": "text"
      },
      "source": [
        "karakter dizisinde yaptığımız dilimleme işlemlerini aynı şekilde liste de yapabiliriz:"
      ]
    },
    {
      "cell_type": "code",
      "metadata": {
        "id": "4b3K6ZZHwx0_",
        "colab_type": "code",
        "colab": {
          "base_uri": "https://localhost:8080/",
          "height": 34
        },
        "outputId": "da26aef2-e83f-4f4a-dd4e-166b03a84c84"
      },
      "source": [
        "print(kardiz[0:2])"
      ],
      "execution_count": 12,
      "outputs": [
        {
          "output_type": "stream",
          "text": [
            "['Elma', 'Karpuz']\n"
          ],
          "name": "stdout"
        }
      ]
    },
    {
      "cell_type": "markdown",
      "metadata": {
        "id": "w4oV9Yl3w5cG",
        "colab_type": "text"
      },
      "source": [
        "liste öğelerini ters çevirme:"
      ]
    },
    {
      "cell_type": "code",
      "metadata": {
        "id": "owapka78w8hj",
        "colab_type": "code",
        "colab": {
          "base_uri": "https://localhost:8080/",
          "height": 34
        },
        "outputId": "31b5658e-14e5-4967-b743-54eb95e5e082"
      },
      "source": [
        "print(kardiz[::-1])"
      ],
      "execution_count": 13,
      "outputs": [
        {
          "output_type": "stream",
          "text": [
            "['Kivi', 'Karpuz', 'Elma']\n"
          ],
          "name": "stdout"
        }
      ]
    },
    {
      "cell_type": "markdown",
      "metadata": {
        "id": "YH59ENZ5xFsG",
        "colab_type": "text"
      },
      "source": [
        "listeler içinde başka listeleri de barındırabilir:"
      ]
    },
    {
      "cell_type": "code",
      "metadata": {
        "id": "5suqdhTOxJdS",
        "colab_type": "code",
        "colab": {
          "base_uri": "https://localhost:8080/",
          "height": 153
        },
        "outputId": "5729fe2b-b93c-4a43-d9cf-950f42bd108d"
      },
      "source": [
        "liste = [\"Ali\",\"Veli\",[\"Ayşe\",\"Nazan\",\"Zeynep\"],34,65,33,5.6]\n",
        "print(liste)\n",
        "for m in liste:\n",
        "    print(m)"
      ],
      "execution_count": 15,
      "outputs": [
        {
          "output_type": "stream",
          "text": [
            "['Ali', 'Veli', ['Ayşe', 'Nazan', 'Zeynep'], 34, 65, 33, 5.6]\n",
            "Ali\n",
            "Veli\n",
            "['Ayşe', 'Nazan', 'Zeynep']\n",
            "34\n",
            "65\n",
            "33\n",
            "5.6\n"
          ],
          "name": "stdout"
        }
      ]
    },
    {
      "cell_type": "markdown",
      "metadata": {
        "id": "kgnzwFzoxey3",
        "colab_type": "text"
      },
      "source": [
        "listemizin içindeki listenin öğeleri 3 tane olsa da listenin içinde tek bir öğe olarak gözükür:"
      ]
    },
    {
      "cell_type": "code",
      "metadata": {
        "id": "lDv4eo_HxlS5",
        "colab_type": "code",
        "colab": {
          "base_uri": "https://localhost:8080/",
          "height": 34
        },
        "outputId": "b82fe3a6-484b-433c-b997-16944d761026"
      },
      "source": [
        "print(len(liste))"
      ],
      "execution_count": 16,
      "outputs": [
        {
          "output_type": "stream",
          "text": [
            "7\n"
          ],
          "name": "stdout"
        }
      ]
    },
    {
      "cell_type": "markdown",
      "metadata": {
        "id": "8IkblVnExpe9",
        "colab_type": "text"
      },
      "source": [
        "Peki ya listemizin içindeki listedeki öğelere nasıl ulaşabiliriz:"
      ]
    },
    {
      "cell_type": "code",
      "metadata": {
        "id": "rHfh3eNIxvK-",
        "colab_type": "code",
        "colab": {
          "base_uri": "https://localhost:8080/",
          "height": 34
        },
        "outputId": "7972b535-d87c-42f5-e320-99032f6cd014"
      },
      "source": [
        "print(liste[2][1])"
      ],
      "execution_count": 17,
      "outputs": [
        {
          "output_type": "stream",
          "text": [
            "Nazan\n"
          ],
          "name": "stdout"
        }
      ]
    },
    {
      "cell_type": "code",
      "metadata": {
        "id": "1LIG1ixhx0fH",
        "colab_type": "code",
        "colab": {
          "base_uri": "https://localhost:8080/",
          "height": 34
        },
        "outputId": "798555e4-fb04-480c-ed05-db0652e3322c"
      },
      "source": [
        "print(liste[2][2])"
      ],
      "execution_count": 18,
      "outputs": [
        {
          "output_type": "stream",
          "text": [
            "Zeynep\n"
          ],
          "name": "stdout"
        }
      ]
    },
    {
      "cell_type": "markdown",
      "metadata": {
        "id": "a71Zm93hx4zl",
        "colab_type": "text"
      },
      "source": [
        "ilk başka gömülü listeyi ana listedekini konumunu daha sonra gömülü listemizdeki öğenin konumunu belirterek iç içe geçmiş listelerde öğeye erişebiliriz:"
      ]
    },
    {
      "cell_type": "markdown",
      "metadata": {
        "id": "FYzZja5YyLuw",
        "colab_type": "text"
      },
      "source": [
        "istersek gömülü listeyi ayrı bir liste olarak alabiliriz:"
      ]
    },
    {
      "cell_type": "code",
      "metadata": {
        "id": "xTGcJc69yROq",
        "colab_type": "code",
        "colab": {
          "base_uri": "https://localhost:8080/",
          "height": 34
        },
        "outputId": "42432966-242d-4b52-9990-340981fb52fc"
      },
      "source": [
        "newList = liste[2]\n",
        "print(newList)"
      ],
      "execution_count": 19,
      "outputs": [
        {
          "output_type": "stream",
          "text": [
            "['Ayşe', 'Nazan', 'Zeynep']\n"
          ],
          "name": "stdout"
        }
      ]
    },
    {
      "cell_type": "markdown",
      "metadata": {
        "id": "UKKM5xV_yWp_",
        "colab_type": "text"
      },
      "source": [
        "bundan sonra ise normal şekilde ögelere erişebiliriz:"
      ]
    },
    {
      "cell_type": "code",
      "metadata": {
        "id": "sdSPUT2VycZg",
        "colab_type": "code",
        "colab": {
          "base_uri": "https://localhost:8080/",
          "height": 34
        },
        "outputId": "15c5604a-a060-4c5e-fea2-e30ead0305e4"
      },
      "source": [
        "print(newList[2])"
      ],
      "execution_count": 20,
      "outputs": [
        {
          "output_type": "stream",
          "text": [
            "Zeynep\n"
          ],
          "name": "stdout"
        }
      ]
    },
    {
      "cell_type": "code",
      "metadata": {
        "id": "1Npbmz4SyhKV",
        "colab_type": "code",
        "colab": {
          "base_uri": "https://localhost:8080/",
          "height": 34
        },
        "outputId": "013f22d1-5fb6-4e9d-85c5-4e904b67db22"
      },
      "source": [
        "print(newList[1])"
      ],
      "execution_count": 21,
      "outputs": [
        {
          "output_type": "stream",
          "text": [
            "Nazan\n"
          ],
          "name": "stdout"
        }
      ]
    },
    {
      "cell_type": "markdown",
      "metadata": {
        "id": "IOAQ_U6FypFe",
        "colab_type": "text"
      },
      "source": [
        "Listelerin öğelerine erişirken var olmayan bir sıra numarası, indeks numarası girilirse program çöker ve hata verir:"
      ]
    }
  ]
}