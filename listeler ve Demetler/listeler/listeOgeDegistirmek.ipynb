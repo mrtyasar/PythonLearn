{
  "nbformat": 4,
  "nbformat_minor": 0,
  "metadata": {
    "colab": {
      "name": "listeOgeDegistirmek.ipynb",
      "provenance": []
    },
    "kernelspec": {
      "name": "python3",
      "display_name": "Python 3"
    }
  },
  "cells": [
    {
      "cell_type": "markdown",
      "metadata": {
        "id": "zZahz8hSa1Na",
        "colab_type": "text"
      },
      "source": [
        "# Liste Ögelerini Değiştirmek"
      ]
    },
    {
      "cell_type": "markdown",
      "metadata": {
        "id": "CB8O_a91fgGx",
        "colab_type": "text"
      },
      "source": [
        "Karakter dizilerinde yaptığımız değişikliğin kalıcı olması için yeni bir değişkene atmamız gerekiyordu:"
      ]
    },
    {
      "cell_type": "code",
      "metadata": {
        "id": "HFaUtgwMf4BG",
        "colab_type": "code",
        "colab": {
          "base_uri": "https://localhost:8080/",
          "height": 34
        },
        "outputId": "aea173da-ceaf-4d81-93fe-296d26ece98b"
      },
      "source": [
        "kardiz = \"istihza\"\n",
        "kardiz = \"İ\" + kardiz[1:]\n",
        "print(kardiz)"
      ],
      "execution_count": 1,
      "outputs": [
        {
          "output_type": "stream",
          "text": [
            "İstihza\n"
          ],
          "name": "stdout"
        }
      ]
    },
    {
      "cell_type": "markdown",
      "metadata": {
        "id": "-NCDfPMUf-u_",
        "colab_type": "text"
      },
      "source": [
        "fakat bu işlemi listelerde gerçekleştirmemize gerek yoktur. Çünkü listeler değiştirilebilen yani mutable bir veri tipidir."
      ]
    },
    {
      "cell_type": "code",
      "metadata": {
        "id": "mM3xiXNTgLVf",
        "colab_type": "code",
        "colab": {
          "base_uri": "https://localhost:8080/",
          "height": 51
        },
        "outputId": "d6c01ceb-9521-4615-8d7c-995e18c2a8c8"
      },
      "source": [
        "renkler = [\"kırmızı\",\"sarı\",\"mavi\",\"yeşil\",\"beyaz\"]\n",
        "print(renkler)\n",
        "\n",
        "renkler[1] = \"siyah\"\n",
        "print(renkler)"
      ],
      "execution_count": 3,
      "outputs": [
        {
          "output_type": "stream",
          "text": [
            "['kırmızı', 'sarı', 'mavi', 'yeşil', 'beyaz']\n",
            "['kırmızı', 'siyah', 'mavi', 'yeşil', 'beyaz']\n"
          ],
          "name": "stdout"
        }
      ]
    },
    {
      "cell_type": "markdown",
      "metadata": {
        "id": "zTLUsGm5gmCd",
        "colab_type": "text"
      },
      "source": [
        "formül:"
      ]
    },
    {
      "cell_type": "code",
      "metadata": {
        "id": "RG2S2Hoognll",
        "colab_type": "code",
        "colab": {}
      },
      "source": [
        "renkler[ögesırası] = yeniÖge"
      ],
      "execution_count": null,
      "outputs": []
    },
    {
      "cell_type": "code",
      "metadata": {
        "id": "pb4LJTsNgrpF",
        "colab_type": "code",
        "colab": {
          "base_uri": "https://localhost:8080/",
          "height": 34
        },
        "outputId": "00d180d0-ed84-4f30-81c0-8029dfaf18a9"
      },
      "source": [
        "renkler[2] = \"mor\"\n",
        "print(renkler)"
      ],
      "execution_count": 4,
      "outputs": [
        {
          "output_type": "stream",
          "text": [
            "['kırmızı', 'siyah', 'mor', 'yeşil', 'beyaz']\n"
          ],
          "name": "stdout"
        }
      ]
    },
    {
      "cell_type": "markdown",
      "metadata": {
        "id": "3hb-Smjpgylg",
        "colab_type": "text"
      },
      "source": [
        "eğer liste öğelerini değiştirmeye çalışırken var olmayan br sora numarası yazarsak program hata verir:"
      ]
    },
    {
      "cell_type": "code",
      "metadata": {
        "id": "d5ScP6fAg6mV",
        "colab_type": "code",
        "colab": {
          "base_uri": "https://localhost:8080/",
          "height": 163
        },
        "outputId": "4ed5f21e-fe2f-4804-b92e-7a98ac2a868a"
      },
      "source": [
        "renkler[12] = \"Pembe\""
      ],
      "execution_count": 5,
      "outputs": [
        {
          "output_type": "error",
          "ename": "IndexError",
          "evalue": "ignored",
          "traceback": [
            "\u001b[0;31m---------------------------------------------------------------------------\u001b[0m",
            "\u001b[0;31mIndexError\u001b[0m                                Traceback (most recent call last)",
            "\u001b[0;32m<ipython-input-5-bec0a91a8b51>\u001b[0m in \u001b[0;36m<module>\u001b[0;34m()\u001b[0m\n\u001b[0;32m----> 1\u001b[0;31m \u001b[0mrenkler\u001b[0m\u001b[0;34m[\u001b[0m\u001b[0;36m12\u001b[0m\u001b[0;34m]\u001b[0m \u001b[0;34m=\u001b[0m \u001b[0;34m\"Pembe\"\u001b[0m\u001b[0;34m\u001b[0m\u001b[0;34m\u001b[0m\u001b[0m\n\u001b[0m",
            "\u001b[0;31mIndexError\u001b[0m: list assignment index out of range"
          ]
        }
      ]
    },
    {
      "cell_type": "markdown",
      "metadata": {
        "id": "kQt0dSuNhBGl",
        "colab_type": "text"
      },
      "source": [
        "sıra aralıklarını kullanarak birden fazla değeri değiştirebiliriz:"
      ]
    },
    {
      "cell_type": "code",
      "metadata": {
        "id": "j5DVGkxuhIEV",
        "colab_type": "code",
        "colab": {
          "base_uri": "https://localhost:8080/",
          "height": 51
        },
        "outputId": "ccca3563-fbba-436d-e536-1cdaf6f5efe7"
      },
      "source": [
        "liste = [1,2,3]\n",
        "print(liste)\n",
        "liste[0:len(liste)] = 5,6,7\n",
        "print(liste)"
      ],
      "execution_count": 6,
      "outputs": [
        {
          "output_type": "stream",
          "text": [
            "[1, 2, 3]\n",
            "[5, 6, 7]\n"
          ],
          "name": "stdout"
        }
      ]
    },
    {
      "cell_type": "markdown",
      "metadata": {
        "id": "eKphB7_XhUWG",
        "colab_type": "text"
      },
      "source": [
        "bu işlemi şu şekilde de yazabiliriz:"
      ]
    },
    {
      "cell_type": "code",
      "metadata": {
        "id": "JApfC3-3hWsy",
        "colab_type": "code",
        "colab": {
          "base_uri": "https://localhost:8080/",
          "height": 34
        },
        "outputId": "01e096dc-c69b-4be9-f213-cd07c3f3b300"
      },
      "source": [
        "liste[0:3] = 7,8,9\n",
        "print(liste)"
      ],
      "execution_count": 7,
      "outputs": [
        {
          "output_type": "stream",
          "text": [
            "[7, 8, 9]\n"
          ],
          "name": "stdout"
        }
      ]
    },
    {
      "cell_type": "markdown",
      "metadata": {
        "id": "_-WhmQR7hegh",
        "colab_type": "text"
      },
      "source": [
        "eğer bir listenin içindeki tüm öğeyi değiştereceksek sıra numarası yerine sadece : işaretini kullanabiliriz:"
      ]
    },
    {
      "cell_type": "code",
      "metadata": {
        "id": "dFU0bgRLhpGg",
        "colab_type": "code",
        "colab": {
          "base_uri": "https://localhost:8080/",
          "height": 34
        },
        "outputId": "b289fe52-372e-4711-f941-d34753df0c97"
      },
      "source": [
        "liste[:] = 1,2,3\n",
        "print(liste)"
      ],
      "execution_count": 8,
      "outputs": [
        {
          "output_type": "stream",
          "text": [
            "[1, 2, 3]\n"
          ],
          "name": "stdout"
        }
      ]
    }
  ]
}