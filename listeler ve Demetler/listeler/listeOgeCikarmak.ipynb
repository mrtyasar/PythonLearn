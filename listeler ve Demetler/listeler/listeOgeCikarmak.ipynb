{
  "nbformat": 4,
  "nbformat_minor": 0,
  "metadata": {
    "colab": {
      "name": "listeOgeCikarmak.ipynb",
      "provenance": []
    },
    "kernelspec": {
      "name": "python3",
      "display_name": "Python 3"
    }
  },
  "cells": [
    {
      "cell_type": "markdown",
      "metadata": {
        "id": "7OMafxVSHtvZ",
        "colab_type": "text"
      },
      "source": [
        "# Listeden Öğe Çıkarmak"
      ]
    },
    {
      "cell_type": "markdown",
      "metadata": {
        "id": "-ZzEzVQwH2Rz",
        "colab_type": "text"
      },
      "source": [
        "Listedeki bir elemanı silmek için del ifadesinden yararlanırız:"
      ]
    },
    {
      "cell_type": "code",
      "metadata": {
        "id": "RJJJu143H6oF",
        "colab_type": "code",
        "colab": {
          "base_uri": "https://localhost:8080/",
          "height": 34
        },
        "outputId": "f4523127-c2b4-4a8f-8dd9-03af49a6249e"
      },
      "source": [
        "liste = [1,2,5,7,8,9]\n",
        "del liste[2]\n",
        "print(liste)"
      ],
      "execution_count": 1,
      "outputs": [
        {
          "output_type": "stream",
          "text": [
            "[1, 2, 7, 8, 9]\n"
          ],
          "name": "stdout"
        }
      ]
    },
    {
      "cell_type": "code",
      "metadata": {
        "id": "_NKw0wruIBlK",
        "colab_type": "code",
        "colab": {
          "base_uri": "https://localhost:8080/",
          "height": 34
        },
        "outputId": "05b11be1-5c7a-4a67-aac5-67c00ebd77e7"
      },
      "source": [
        "del liste[-1]\n",
        "print(liste)"
      ],
      "execution_count": 2,
      "outputs": [
        {
          "output_type": "stream",
          "text": [
            "[1, 2, 7, 8]\n"
          ],
          "name": "stdout"
        }
      ]
    }
  ]
}