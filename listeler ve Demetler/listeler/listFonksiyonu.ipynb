{
  "nbformat": 4,
  "nbformat_minor": 0,
  "metadata": {
    "colab": {
      "name": "listFonksiyonu.ipynb",
      "provenance": []
    },
    "kernelspec": {
      "name": "python3",
      "display_name": "Python 3"
    }
  },
  "cells": [
    {
      "cell_type": "markdown",
      "metadata": {
        "id": "NMyVjhT6MAxm",
        "colab_type": "text"
      },
      "source": [
        "# list() Fonksiyonu"
      ]
    },
    {
      "cell_type": "markdown",
      "metadata": {
        "id": "RuH1O7I5MO9m",
        "colab_type": "text"
      },
      "source": [
        " bir değeri liste yapmak için o değeri köşeli parantezlerin içine almamız yeterli olur.\n",
        "\n",
        " fakat bu işlemi list() fonskiyonu ile yapabiliriz:"
      ]
    },
    {
      "cell_type": "code",
      "metadata": {
        "id": "HIADfUIpRomr",
        "colab_type": "code",
        "colab": {}
      },
      "source": [
        "alfabe = \"abcçdefgğhıijklmnoöprsştuüvyz\""
      ],
      "execution_count": 1,
      "outputs": []
    },
    {
      "cell_type": "markdown",
      "metadata": {
        "id": "aJUa__KyR0v2",
        "colab_type": "text"
      },
      "source": [
        "list() fonksiyonu:"
      ]
    },
    {
      "cell_type": "code",
      "metadata": {
        "id": "9vd3o375R7U0",
        "colab_type": "code",
        "colab": {
          "base_uri": "https://localhost:8080/",
          "height": 54
        },
        "outputId": "77e19ca5-922e-41cb-fca2-820d05d39b7c"
      },
      "source": [
        "harfSiralama = list(alfabe)\n",
        "print(harfSiralama)"
      ],
      "execution_count": 2,
      "outputs": [
        {
          "output_type": "stream",
          "text": [
            "['a', 'b', 'c', 'ç', 'd', 'e', 'f', 'g', 'ğ', 'h', 'ı', 'i', 'j', 'k', 'l', 'm', 'n', 'o', 'ö', 'p', 'r', 's', 'ş', 't', 'u', 'ü', 'v', 'y', 'z']\n"
          ],
          "name": "stdout"
        }
      ]
    },
    {
      "cell_type": "markdown",
      "metadata": {
        "id": "rhA1c04RSDwq",
        "colab_type": "text"
      },
      "source": [
        "list() fonksiyonu sayesinde karakter dizisini liste haline getirmiş olduk."
      ]
    },
    {
      "cell_type": "markdown",
      "metadata": {
        "id": "chREYtoyTJTb",
        "colab_type": "text"
      },
      "source": [
        "daha öncelerde nasılsa bir değeri istediğimiz veri tipine çevirmek istediğimizde int(), str(), float() gibi fonksiyonlarda yararlandıysak, değerin listeye çevrilmesi gerektiği zamanlarda list() fonksiyonunu kullanırız."
      ]
    },
    {
      "cell_type": "markdown",
      "metadata": {
        "id": "cG5fsB9MTkp1",
        "colab_type": "text"
      },
      "source": [
        "- input() fonksiyonu çıktı olarak karakter dizisi veriyor.\n",
        "\n",
        "matemtatiksel işlemler yapmak için ise değeri önce int değerine çevirmemiz gerekiyor:"
      ]
    },
    {
      "cell_type": "code",
      "metadata": {
        "id": "DelJI-ZuT0LQ",
        "colab_type": "code",
        "colab": {
          "base_uri": "https://localhost:8080/",
          "height": 51
        },
        "outputId": "2558b87a-f7df-4d45-e491-5d0684a77c7f"
      },
      "source": [
        "sayi = input(\"Herhangi bir sayı giriniz: \")\n",
        "print(int(sayi)+5)"
      ],
      "execution_count": 3,
      "outputs": [
        {
          "output_type": "stream",
          "text": [
            "Herhangi bir sayı giriniz: 15\n",
            "20\n"
          ],
          "name": "stdout"
        }
      ]
    },
    {
      "cell_type": "markdown",
      "metadata": {
        "id": "ejUZZ93bUBJv",
        "colab_type": "text"
      },
      "source": [
        "eğer int e çevirmeseydik typeError hatası alırdık."
      ]
    },
    {
      "cell_type": "markdown",
      "metadata": {
        "id": "0cObttfzUE_S",
        "colab_type": "text"
      },
      "source": [
        "işte bazen ise farklı veri tiplerine sahip değerleri liste yapısına çevirmemiz gerekebilir."
      ]
    },
    {
      "cell_type": "code",
      "metadata": {
        "id": "CvITz0wjUNQG",
        "colab_type": "code",
        "colab": {
          "base_uri": "https://localhost:8080/",
          "height": 68
        },
        "outputId": "56ad14ca-16d4-4f14-e19e-8c63af0424ae"
      },
      "source": [
        "harf = input(\"Herhangi 4 ayrı harf yazınız: \")\n",
        "harf2 = list(harf)\n",
        "print(\"Girdiğiniz harfin ilk harfini yazınız: \")\n",
        "print(harf2[0])"
      ],
      "execution_count": 5,
      "outputs": [
        {
          "output_type": "stream",
          "text": [
            "Herhangi 4 ayrı harf yazınız: xcvb\n",
            "Girdiğiniz harfin ilk harfini yazınız: \n",
            "x\n"
          ],
          "name": "stdout"
        }
      ]
    },
    {
      "cell_type": "markdown",
      "metadata": {
        "id": "POBrlfQFVff0",
        "colab_type": "text"
      },
      "source": [
        "list() fonksiyonu ile boş bir liste oluşturabilir:"
      ]
    },
    {
      "cell_type": "code",
      "metadata": {
        "id": "lb-QIWWhVjsC",
        "colab_type": "code",
        "colab": {
          "base_uri": "https://localhost:8080/",
          "height": 34
        },
        "outputId": "3b8c60a1-6a39-4237-9428-1e50fe64b843"
      },
      "source": [
        "kl = list()\n",
        "print(kl)"
      ],
      "execution_count": 6,
      "outputs": [
        {
          "output_type": "stream",
          "text": [
            "[]\n"
          ],
          "name": "stdout"
        }
      ]
    },
    {
      "cell_type": "markdown",
      "metadata": {
        "id": "96Hh2_DSWGAO",
        "colab_type": "text"
      },
      "source": [
        "range fonksiyonunu kullanarak bir sayı ile başka bir sayı aralığını öğrenebiliriz:\n",
        "\n",
        "bunu öğrenmek için range() fonksiyonunu for döngüsü içinde kullanabiliriz:"
      ]
    },
    {
      "cell_type": "code",
      "metadata": {
        "id": "iVMwT2lRWRqX",
        "colab_type": "code",
        "colab": {
          "base_uri": "https://localhost:8080/",
          "height": 187
        },
        "outputId": "59ff94cc-3c64-49d3-b9f6-79ff098a2dc8"
      },
      "source": [
        "for i in range(10):\n",
        "  print(i)"
      ],
      "execution_count": 8,
      "outputs": [
        {
          "output_type": "stream",
          "text": [
            "0\n",
            "1\n",
            "2\n",
            "3\n",
            "4\n",
            "5\n",
            "6\n",
            "7\n",
            "8\n",
            "9\n"
          ],
          "name": "stdout"
        }
      ]
    },
    {
      "cell_type": "markdown",
      "metadata": {
        "id": "PlnqeehZWXHw",
        "colab_type": "text"
      },
      "source": [
        "veya şu şekilde de sayı aralığını öğrenebiliriz:"
      ]
    },
    {
      "cell_type": "code",
      "metadata": {
        "id": "18jc3pz9Wbc2",
        "colab_type": "code",
        "colab": {
          "base_uri": "https://localhost:8080/",
          "height": 34
        },
        "outputId": "469bdfa1-b6a7-48d0-ac67-8f9b2e6b920b"
      },
      "source": [
        "print(*range(10))"
      ],
      "execution_count": 9,
      "outputs": [
        {
          "output_type": "stream",
          "text": [
            "0 1 2 3 4 5 6 7 8 9\n"
          ],
          "name": "stdout"
        }
      ]
    },
    {
      "cell_type": "markdown",
      "metadata": {
        "id": "_TCrKlQscBen",
        "colab_type": "text"
      },
      "source": [
        "bu işlemi birde list() fonksiyonuyla gerçeleştirebiliriz:"
      ]
    },
    {
      "cell_type": "code",
      "metadata": {
        "id": "w6RYHD7NcIOA",
        "colab_type": "code",
        "colab": {
          "base_uri": "https://localhost:8080/",
          "height": 34
        },
        "outputId": "cd793a52-b6c4-4aa7-c125-3dc8ced7df57"
      },
      "source": [
        "print(list(range(10)))"
      ],
      "execution_count": 10,
      "outputs": [
        {
          "output_type": "stream",
          "text": [
            "[0, 1, 2, 3, 4, 5, 6, 7, 8, 9]\n"
          ],
          "name": "stdout"
        }
      ]
    },
    {
      "cell_type": "code",
      "metadata": {
        "id": "rMyknGCtcMhY",
        "colab_type": "code",
        "colab": {
          "base_uri": "https://localhost:8080/",
          "height": 51
        },
        "outputId": "8fb9cf03-6312-44a6-803d-24361aa4704c"
      },
      "source": [
        "print(type(range(10)))\n",
        "ls = list(range(10))\n",
        "print(type(ls))"
      ],
      "execution_count": 13,
      "outputs": [
        {
          "output_type": "stream",
          "text": [
            "<class 'range'>\n",
            "<class 'list'>\n"
          ],
          "name": "stdout"
        }
      ]
    },
    {
      "cell_type": "markdown",
      "metadata": {
        "id": "c_g8ErIHccIf",
        "colab_type": "text"
      },
      "source": [
        "demek ki sayı aralıklarını 3 ayrı yöntemle çıkartabiliyormuşuz. Burada önemli olan işimize hangi veri tipine sahip çıktının yaradığı."
      ]
    },
    {
      "cell_type": "markdown",
      "metadata": {
        "id": "ygqFf5Ejdpgb",
        "colab_type": "text"
      },
      "source": [
        "Örnekler:"
      ]
    },
    {
      "cell_type": "code",
      "metadata": {
        "id": "a9O9hnN_dqyq",
        "colab_type": "code",
        "colab": {
          "base_uri": "https://localhost:8080/",
          "height": 34
        },
        "outputId": "c0ea4a8b-db40-4862-8fa5-8a0fef6ebc29"
      },
      "source": [
        "x = list((\"Apple\",\"Banana\",\"Cherry\"))\n",
        "print(x)"
      ],
      "execution_count": 14,
      "outputs": [
        {
          "output_type": "stream",
          "text": [
            "['Apple', 'Banana', 'Cherry']\n"
          ],
          "name": "stdout"
        }
      ]
    }
  ]
}