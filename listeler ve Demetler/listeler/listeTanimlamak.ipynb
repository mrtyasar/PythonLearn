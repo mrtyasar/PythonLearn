{
  "nbformat": 4,
  "nbformat_minor": 0,
  "metadata": {
    "colab": {
      "name": "listeTanimlamak.ipynb",
      "provenance": [],
      "collapsed_sections": []
    },
    "kernelspec": {
      "name": "python3",
      "display_name": "Python 3"
    }
  },
  "cells": [
    {
      "cell_type": "markdown",
      "metadata": {
        "id": "rtlBp_OMAhMe",
        "colab_type": "text"
      },
      "source": [
        "# Liste Tanımlamak"
      ]
    },
    {
      "cell_type": "markdown",
      "metadata": {
        "id": "VewA3snhA-HU",
        "colab_type": "text"
      },
      "source": [
        "nasılsa karakter dizisini tırnak işaretleriyle tanımlıyorsak, listleride köşeli parantezlerin içine alarak tanımlarız.\n",
        "\n",
        "yani bir öğeyi tırnak içine aldığımızda karakter dizisi olduğu gibi, köşeli parantez içine aldığımız her bir öğe ise list dir."
      ]
    },
    {
      "cell_type": "markdown",
      "metadata": {
        "id": "vzLp2Nn5BbxD",
        "colab_type": "text"
      },
      "source": [
        "karakter dizisini tanımlama:"
      ]
    },
    {
      "cell_type": "code",
      "metadata": {
        "id": "yTfTTyu6BebI",
        "colab_type": "code",
        "colab": {}
      },
      "source": [
        "kardiz = \"Karakter Dizisi\""
      ],
      "execution_count": null,
      "outputs": []
    },
    {
      "cell_type": "markdown",
      "metadata": {
        "id": "C-pOC_-CBhNQ",
        "colab_type": "text"
      },
      "source": [
        "liste tanımlama:"
      ]
    },
    {
      "cell_type": "code",
      "metadata": {
        "id": "yliGMbJUBihY",
        "colab_type": "code",
        "colab": {}
      },
      "source": [
        "liste = [\"öge1\",\"öge2\",\"öge3\"]"
      ],
      "execution_count": 1,
      "outputs": []
    },
    {
      "cell_type": "markdown",
      "metadata": {
        "id": "TOuivq0EBqp6",
        "colab_type": "text"
      },
      "source": [
        "listenin veri tipi list idir. bunu type() fonksiyonu ile öğrenebiliriz:"
      ]
    },
    {
      "cell_type": "code",
      "metadata": {
        "id": "VtEKfHKOB_q2",
        "colab_type": "code",
        "colab": {
          "base_uri": "https://localhost:8080/",
          "height": 34
        },
        "outputId": "d0f68bc1-d9b1-48c1-a532-81ff46923799"
      },
      "source": [
        "print(type(liste))"
      ],
      "execution_count": 2,
      "outputs": [
        {
          "output_type": "stream",
          "text": [
            "<class 'list'>\n"
          ],
          "name": "stdout"
        }
      ]
    },
    {
      "cell_type": "markdown",
      "metadata": {
        "id": "FoRThLs-CE_z",
        "colab_type": "text"
      },
      "source": [
        "Listeler kapsayıcı bir veri tipidir. listelerin içinde karakter dizisi, tam sayılar, float sayılar olmak üzera daha bir çok veri tipi barınabilir.\n",
        "\n",
        "Bu yüzden birden fazla değerimiz olduğunda listeleri tercih etmek çok daha kullanışlı olur:"
      ]
    },
    {
      "cell_type": "code",
      "metadata": {
        "id": "csj4Ccb2CgQI",
        "colab_type": "code",
        "colab": {
          "base_uri": "https://localhost:8080/",
          "height": 34
        },
        "outputId": "2d63e2b6-f6f2-4078-e996-376abeeef11b"
      },
      "source": [
        "listeler = [\"Selam\",14,\"Falan\",29.78]\n",
        "print(listeler)"
      ],
      "execution_count": 3,
      "outputs": [
        {
          "output_type": "stream",
          "text": [
            "['Selam', 14, 'Falan', 29.78]\n"
          ],
          "name": "stdout"
        }
      ]
    },
    {
      "cell_type": "markdown",
      "metadata": {
        "id": "fdMhLsjfCphR",
        "colab_type": "text"
      },
      "source": [
        "listeler değişkenin içinde birden çok veri tipi olduğu halde değerler bir listenin içinde olduğundan dolayı list olarak algılanır:"
      ]
    },
    {
      "cell_type": "code",
      "metadata": {
        "id": "i4ZrlXJbCzkY",
        "colab_type": "code",
        "colab": {
          "base_uri": "https://localhost:8080/",
          "height": 34
        },
        "outputId": "45102d84-301d-4f13-c3e9-a541d69aff48"
      },
      "source": [
        "print(type(listeler))"
      ],
      "execution_count": 4,
      "outputs": [
        {
          "output_type": "stream",
          "text": [
            "<class 'list'>\n"
          ],
          "name": "stdout"
        }
      ]
    },
    {
      "cell_type": "markdown",
      "metadata": {
        "id": "XarVFg1qC4j5",
        "colab_type": "text"
      },
      "source": [
        "eğer listemizin içindeki değerlerin veri tiplerini tek tek öğrenmek istiyorsak for döngüsünü kullanabiliriz:"
      ]
    },
    {
      "cell_type": "code",
      "metadata": {
        "id": "UBFD9SArDNcr",
        "colab_type": "code",
        "colab": {
          "base_uri": "https://localhost:8080/",
          "height": 85
        },
        "outputId": "76ec05bf-01b4-4c1d-cb33-98ec2596d178"
      },
      "source": [
        "for m in listeler:\n",
        "  print(\"{} adlı öğenin veri tipi: {}\".format(m,type(m)))"
      ],
      "execution_count": 6,
      "outputs": [
        {
          "output_type": "stream",
          "text": [
            "Selam adlı öğenin veri tipi: <class 'str'>\n",
            "14 adlı öğenin veri tipi: <class 'int'>\n",
            "Falan adlı öğenin veri tipi: <class 'str'>\n",
            "29.78 adlı öğenin veri tipi: <class 'float'>\n"
          ],
          "name": "stdout"
        }
      ]
    },
    {
      "cell_type": "markdown",
      "metadata": {
        "id": "NtO6vj9pEmVl",
        "colab_type": "text"
      },
      "source": [
        "boş bir karakter dizisi:"
      ]
    },
    {
      "cell_type": "code",
      "metadata": {
        "id": "tgILSIxVEoTK",
        "colab_type": "code",
        "colab": {}
      },
      "source": [
        "karakter = \"\""
      ],
      "execution_count": null,
      "outputs": []
    },
    {
      "cell_type": "markdown",
      "metadata": {
        "id": "nh8OsasHEp7M",
        "colab_type": "text"
      },
      "source": [
        "boş bir liste:"
      ]
    },
    {
      "cell_type": "code",
      "metadata": {
        "id": "kr4fz4gwEujW",
        "colab_type": "code",
        "colab": {}
      },
      "source": [
        "liste = []"
      ],
      "execution_count": null,
      "outputs": []
    },
    {
      "cell_type": "markdown",
      "metadata": {
        "id": "2dMXPe3zFdHk",
        "colab_type": "text"
      },
      "source": [
        "tıpki karakter dizisinde olduğu gibi listelerle iki şekilde karşılaşabiliriz:\n",
        "\n",
        "1. Listeyi kendiniz tanımlamış olabilirsiniz\n",
        "2. Liste size başka bir kaynaktan gelmiş olabilir?\n",
        "\n",
        "peki listeler başka hangi kaynaklardan gelebilir:\n",
        "\n",
        "örneğin dir() fonksiyonu:"
      ]
    },
    {
      "cell_type": "code",
      "metadata": {
        "id": "xRsRrk3PF0mc",
        "colab_type": "code",
        "colab": {
          "base_uri": "https://localhost:8080/",
          "height": 54
        },
        "outputId": "d91f9baf-6e35-4e0a-ad9f-abf0e81adf5d"
      },
      "source": [
        "print(dir(str))"
      ],
      "execution_count": 7,
      "outputs": [
        {
          "output_type": "stream",
          "text": [
            "['__add__', '__class__', '__contains__', '__delattr__', '__dir__', '__doc__', '__eq__', '__format__', '__ge__', '__getattribute__', '__getitem__', '__getnewargs__', '__gt__', '__hash__', '__init__', '__init_subclass__', '__iter__', '__le__', '__len__', '__lt__', '__mod__', '__mul__', '__ne__', '__new__', '__reduce__', '__reduce_ex__', '__repr__', '__rmod__', '__rmul__', '__setattr__', '__sizeof__', '__str__', '__subclasshook__', 'capitalize', 'casefold', 'center', 'count', 'encode', 'endswith', 'expandtabs', 'find', 'format', 'format_map', 'index', 'isalnum', 'isalpha', 'isdecimal', 'isdigit', 'isidentifier', 'islower', 'isnumeric', 'isprintable', 'isspace', 'istitle', 'isupper', 'join', 'ljust', 'lower', 'lstrip', 'maketrans', 'partition', 'replace', 'rfind', 'rindex', 'rjust', 'rpartition', 'rsplit', 'rstrip', 'split', 'splitlines', 'startswith', 'strip', 'swapcase', 'title', 'translate', 'upper', 'zfill']\n"
          ],
          "name": "stdout"
        }
      ]
    },
    {
      "cell_type": "markdown",
      "metadata": {
        "id": "WvTk8mRXF6J9",
        "colab_type": "text"
      },
      "source": [
        "dir() fonksiyonu veri tiplerin hangi metotları alabileceğini gösteren bir fonksiyondur\n",
        "\n",
        "bu fonskiyonun çıktısı ise köşeli parantezlerle çevrili yani list veri tipli çıktı verir."
      ]
    },
    {
      "cell_type": "markdown",
      "metadata": {
        "id": "CUJT-tODGTGE",
        "colab_type": "text"
      },
      "source": [
        "başka bir örnekte split() methodur.\n",
        "\n",
        "split() methodu da çıktısı list veri tiplidir."
      ]
    },
    {
      "cell_type": "code",
      "metadata": {
        "id": "cMgJY7JwGgT_",
        "colab_type": "code",
        "colab": {
          "base_uri": "https://localhost:8080/",
          "height": 34
        },
        "outputId": "eaac0d4d-6824-4eb6-a27e-4b8a3abc2927"
      },
      "source": [
        "kardiz = \"İstanbul Büyükşehir Belediyesi\"\n",
        "print(kardiz.split())"
      ],
      "execution_count": 8,
      "outputs": [
        {
          "output_type": "stream",
          "text": [
            "['İstanbul', 'Büyükşehir', 'Belediyesi']\n"
          ],
          "name": "stdout"
        }
      ]
    },
    {
      "cell_type": "markdown",
      "metadata": {
        "id": "dR5oGtIEG-y-",
        "colab_type": "text"
      },
      "source": [
        "peki bir fonksiyonun karakter dizisi mi liste mi yoksa başka bir veri tipi vermesi neden bu kadar önemlidir."
      ]
    },
    {
      "cell_type": "markdown",
      "metadata": {
        "id": "FBNJJI8XHHtL",
        "colab_type": "text"
      },
      "source": [
        "Kullanıcıdan değer olarak İstanbul Büyükşehir Belediyesi değerini alalım\n",
        "\n",
        "ve bu değerin ilk öğesini alalım"
      ]
    },
    {
      "cell_type": "markdown",
      "metadata": {
        "id": "Q88FcxhzHTVw",
        "colab_type": "text"
      },
      "source": [
        "eğer değeri karakter dizisi olarak ele alırsak şöyle bir sonuçla:"
      ]
    },
    {
      "cell_type": "code",
      "metadata": {
        "id": "yjtx7fAmHaSC",
        "colab_type": "code",
        "colab": {
          "base_uri": "https://localhost:8080/",
          "height": 34
        },
        "outputId": "16dbe81c-0e8c-43dc-bdc0-d6622f96b95b"
      },
      "source": [
        "kardiz = \"İstanbul Büyükşehir Belediyesi\"\n",
        "print(kardiz[0])"
      ],
      "execution_count": 9,
      "outputs": [
        {
          "output_type": "stream",
          "text": [
            "İ\n"
          ],
          "name": "stdout"
        }
      ]
    },
    {
      "cell_type": "markdown",
      "metadata": {
        "id": "XvlhGwc8Hgq6",
        "colab_type": "text"
      },
      "source": [
        "Eğer değeri liste olarak ele alırsak böyle bir sonuçla karşılaşırız:"
      ]
    },
    {
      "cell_type": "code",
      "metadata": {
        "id": "1fJM8xSYHn5Y",
        "colab_type": "code",
        "colab": {
          "base_uri": "https://localhost:8080/",
          "height": 34
        },
        "outputId": "935d14bf-8a08-4259-89a4-576706e3ff08"
      },
      "source": [
        "liste = kardiz.split()\n",
        "print(liste[0])"
      ],
      "execution_count": 10,
      "outputs": [
        {
          "output_type": "stream",
          "text": [
            "İstanbul\n"
          ],
          "name": "stdout"
        }
      ]
    },
    {
      "cell_type": "markdown",
      "metadata": {
        "id": "jsYuNfRAH4l-",
        "colab_type": "text"
      },
      "source": [
        "görüldüğü gibi karakter dizisinde değerin ilk harfi olarak i\n",
        "\n",
        "liste veri tipinde değerin sonucu istanbul buldu.\n",
        "\n",
        "Bu da değerin hangi veri tipinde olduğunu bilmenin önemini vurgular. Çünkü değerin veri tipini bilmeden işlemler yaparsak, programamız hata verir vermezse bile yanlış sonuçlar üretir."
      ]
    },
    {
      "cell_type": "markdown",
      "metadata": {
        "id": "tyLqEh5tKT5C",
        "colab_type": "text"
      },
      "source": [
        "karakter dizisi ile listeler tam anlamıyla aynı olmasalarda çoğu yönleri benzerdir. örneğin karakter dizisinde kullanılan birçok fonksiyon listeler içinde kullanılabilir.\n",
        "\n",
        "mesala len() fonksiyonu. len() fonksiyonu sayesinde listelerin eleman sayısını bulabiliriz:"
      ]
    },
    {
      "cell_type": "code",
      "metadata": {
        "id": "NAZMJtbMKp2t",
        "colab_type": "code",
        "colab": {
          "base_uri": "https://localhost:8080/",
          "height": 34
        },
        "outputId": "3b9df928-e7c4-47b3-a7cb-f5350d05c7f1"
      },
      "source": [
        "diller = [\"İngilizce\",\"Fransızca\",\"Türkçe\",\"İtalyanca\",\"İspanyolca\"]\n",
        "print(len(diller))"
      ],
      "execution_count": 11,
      "outputs": [
        {
          "output_type": "stream",
          "text": [
            "5\n"
          ],
          "name": "stdout"
        }
      ]
    },
    {
      "cell_type": "markdown",
      "metadata": {
        "id": "cj3akxHIK44k",
        "colab_type": "text"
      },
      "source": [
        "len() fonksiyonu gibi range() fonskiyonu da kullanılabilir\n",
        "\n",
        "örneği kullanıcıdan iki öğeli listeler geliyor:"
      ]
    },
    {
      "cell_type": "code",
      "metadata": {
        "id": "u_0x7rPQLJXO",
        "colab_type": "code",
        "colab": {
          "base_uri": "https://localhost:8080/",
          "height": 34
        },
        "outputId": "02981349-5572-4e86-fb3e-226dc586abfb"
      },
      "source": [
        "[0,10]\n",
        "[6,60]\n",
        "[12,54]\n",
        "[67,99]"
      ],
      "execution_count": 14,
      "outputs": [
        {
          "output_type": "execute_result",
          "data": {
            "text/plain": [
              "[67, 99]"
            ]
          },
          "metadata": {
            "tags": []
          },
          "execution_count": 14
        }
      ]
    },
    {
      "cell_type": "markdown",
      "metadata": {
        "id": "52AQ1bHCLVyU",
        "colab_type": "text"
      },
      "source": [
        "bu iki öğeli listeleri tek bir liste içinde toplayabiliriz:"
      ]
    },
    {
      "cell_type": "code",
      "metadata": {
        "id": "1uVy1hnZLccI",
        "colab_type": "code",
        "colab": {
          "base_uri": "https://localhost:8080/",
          "height": 105
        },
        "outputId": "c74e2f9f-70cf-4ac9-a925-c7ce771a54b3"
      },
      "source": [
        "sayilar = [[0,10],[6,60],[12,54],[67,99]]\n",
        "for i in sayilar:\n",
        "  print(*range(*i))"
      ],
      "execution_count": 19,
      "outputs": [
        {
          "output_type": "stream",
          "text": [
            "0 1 2 3 4 5 6 7 8 9\n",
            "6 7 8 9 10 11 12 13 14 15 16 17 18 19 20 21 22 23 24 25 26 27 28 29 30 31 32 33 34 35 36 37 38 39 40 41 42 43 44 45 46 47 48 49 50 51 52 53 54 55 56 57 58 59\n",
            "12 13 14 15 16 17 18 19 20 21 22 23 24 25 26 27 28 29 30 31 32 33 34 35 36 37 38 39 40 41 42 43 44 45 46 47 48 49 50 51 52 53\n",
            "67 68 69 70 71 72 73 74 75 76 77 78 79 80 81 82 83 84 85 86 87 88 89 90 91 92 93 94 95 96 97 98\n"
          ],
          "name": "stdout"
        }
      ]
    },
    {
      "cell_type": "markdown",
      "metadata": {
        "id": "FiHMEtstXu9B",
        "colab_type": "text"
      },
      "source": [
        "sadece öğeleri ekrana yazdırmak isteseydik böyle yapardık:"
      ]
    },
    {
      "cell_type": "code",
      "metadata": {
        "id": "qeHOXxZNXzlS",
        "colab_type": "code",
        "colab": {
          "base_uri": "https://localhost:8080/",
          "height": 85
        },
        "outputId": "5bd22052-91c7-49cc-da15-e8c9a9fe45f3"
      },
      "source": [
        "for n in sayilar:\n",
        "  print(n)"
      ],
      "execution_count": 20,
      "outputs": [
        {
          "output_type": "stream",
          "text": [
            "[0, 10]\n",
            "[6, 60]\n",
            "[12, 54]\n",
            "[67, 99]\n"
          ],
          "name": "stdout"
        }
      ]
    },
    {
      "cell_type": "markdown",
      "metadata": {
        "id": "MfCMiI1QYEHx",
        "colab_type": "text"
      },
      "source": [
        "şu şekilde de aynı sonucu alırdık:"
      ]
    },
    {
      "cell_type": "code",
      "metadata": {
        "id": "71jJ8RZpX7mv",
        "colab_type": "code",
        "colab": {
          "base_uri": "https://localhost:8080/",
          "height": 85
        },
        "outputId": "6718e8bc-22a1-4204-b0fa-7cc90edafa6f"
      },
      "source": [
        "for u in sayilar:\n",
        "  print(range(u[0],u[1]))"
      ],
      "execution_count": 21,
      "outputs": [
        {
          "output_type": "stream",
          "text": [
            "range(0, 10)\n",
            "range(6, 60)\n",
            "range(12, 54)\n",
            "range(67, 99)\n"
          ],
          "name": "stdout"
        }
      ]
    },
    {
      "cell_type": "markdown",
      "metadata": {
        "id": "EcUVqIh9YnWZ",
        "colab_type": "text"
      },
      "source": [
        "demek ki karakter dizilerine nasılsa indeks numalarına göre ulaşabiliyorsak, listelerde de ögelere bu şekilde ulaşabildik"
      ]
    },
    {
      "cell_type": "code",
      "metadata": {
        "id": "5nU2byZ5YQv_",
        "colab_type": "code",
        "colab": {
          "base_uri": "https://localhost:8080/",
          "height": 85
        },
        "outputId": "0f909687-d7df-43f0-d03a-ff122d378c63"
      },
      "source": [
        "for y in sayilar:\n",
        "  print(range(*y))"
      ],
      "execution_count": 22,
      "outputs": [
        {
          "output_type": "stream",
          "text": [
            "range(0, 10)\n",
            "range(6, 60)\n",
            "range(12, 54)\n",
            "range(67, 99)\n"
          ],
          "name": "stdout"
        }
      ]
    },
    {
      "cell_type": "markdown",
      "metadata": {
        "id": "PjGuqFrKY1ou",
        "colab_type": "text"
      },
      "source": [
        "range() fonksiyonunu eğer for döngünün içinde kullanmıyorsak sayı aralarıklarını vermez\n",
        "\n",
        "örneğin ilk örnekte for döngünün dışında range fonksiyonunu kullandık fakat bize sayı aralıklarını vermedi"
      ]
    },
    {
      "cell_type": "code",
      "metadata": {
        "id": "BcpWpstjZS4v",
        "colab_type": "code",
        "colab": {
          "base_uri": "https://localhost:8080/",
          "height": 187
        },
        "outputId": "ab4e655a-1dda-4c26-83c5-527cf8d9f257"
      },
      "source": [
        "for m in range(0,10):\n",
        "  print(m)"
      ],
      "execution_count": 24,
      "outputs": [
        {
          "output_type": "stream",
          "text": [
            "0\n",
            "1\n",
            "2\n",
            "3\n",
            "4\n",
            "5\n",
            "6\n",
            "7\n",
            "8\n",
            "9\n"
          ],
          "name": "stdout"
        }
      ]
    },
    {
      "cell_type": "markdown",
      "metadata": {
        "id": "rB2Lp16RZfMt",
        "colab_type": "text"
      },
      "source": [
        "bunun yerine ise * yıldızlı parametreden yararlanabiliriz:"
      ]
    },
    {
      "cell_type": "code",
      "metadata": {
        "id": "scRGPNADZj8M",
        "colab_type": "code",
        "colab": {
          "base_uri": "https://localhost:8080/",
          "height": 34
        },
        "outputId": "97b51a7c-a413-47d2-ddee-a387c1aa5a1d"
      },
      "source": [
        "print(*range(0,10))"
      ],
      "execution_count": 25,
      "outputs": [
        {
          "output_type": "stream",
          "text": [
            "0 1 2 3 4 5 6 7 8 9\n"
          ],
          "name": "stdout"
        }
      ]
    },
    {
      "cell_type": "markdown",
      "metadata": {
        "id": "MwnHxSsYZrSE",
        "colab_type": "text"
      },
      "source": [
        "ilk verilen örnekte ise hem range fonksiyonuna hemde her bir öğeyi temsil eden i değerine yıldızlı paramtere vererek her bir listenin öğelerinin sayı aralalarını bulmuş olduk."
      ]
    }
  ]
}