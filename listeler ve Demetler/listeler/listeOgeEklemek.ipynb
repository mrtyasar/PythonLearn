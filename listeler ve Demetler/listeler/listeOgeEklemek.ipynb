{
  "nbformat": 4,
  "nbformat_minor": 0,
  "metadata": {
    "colab": {
      "name": "listeOgeEklemek.ipynb",
      "provenance": [],
      "collapsed_sections": []
    },
    "kernelspec": {
      "name": "python3",
      "display_name": "Python 3"
    }
  },
  "cells": [
    {
      "cell_type": "markdown",
      "metadata": {
        "id": "My1LsUlEmbqs",
        "colab_type": "text"
      },
      "source": [
        "# Listeye Öğe Eklemek"
      ]
    },
    {
      "cell_type": "markdown",
      "metadata": {
        "id": "xkzfx8ilnoHp",
        "colab_type": "text"
      },
      "source": [
        "Listeye istediğimiz kadar öge ekleyebiliriz.\n",
        "\n",
        "öğe eklemek için + işaretinden yararlanırız:"
      ]
    },
    {
      "cell_type": "code",
      "metadata": {
        "id": "rd9ZpcU7nwgg",
        "colab_type": "code",
        "colab": {
          "base_uri": "https://localhost:8080/",
          "height": 34
        },
        "outputId": "5f206fba-f49f-4ea4-c510-202f0c8b261e"
      },
      "source": [
        "liste = [1,4,7,9]\n",
        "print(liste)"
      ],
      "execution_count": 2,
      "outputs": [
        {
          "output_type": "stream",
          "text": [
            "[1, 4, 7, 9]\n"
          ],
          "name": "stdout"
        }
      ]
    },
    {
      "cell_type": "code",
      "metadata": {
        "id": "2NG-pUFrn2wZ",
        "colab_type": "code",
        "colab": {
          "base_uri": "https://localhost:8080/",
          "height": 34
        },
        "outputId": "b39f2e33-20d7-4f16-d9db-a7191d169839"
      },
      "source": [
        "liste + [8,5,9]"
      ],
      "execution_count": 11,
      "outputs": [
        {
          "output_type": "execute_result",
          "data": {
            "text/plain": [
              "[1, 4, 7, 9, 8, 5, 9]"
            ]
          },
          "metadata": {
            "tags": []
          },
          "execution_count": 11
        }
      ]
    },
    {
      "cell_type": "code",
      "metadata": {
        "id": "UQFnuhKIogez",
        "colab_type": "code",
        "colab": {
          "base_uri": "https://localhost:8080/",
          "height": 34
        },
        "outputId": "ae68f7ee-03d6-4c08-d257-047f24e740ac"
      },
      "source": [
        "liste + [2]"
      ],
      "execution_count": 12,
      "outputs": [
        {
          "output_type": "execute_result",
          "data": {
            "text/plain": [
              "[1, 4, 7, 9, 2]"
            ]
          },
          "metadata": {
            "tags": []
          },
          "execution_count": 12
        }
      ]
    },
    {
      "cell_type": "markdown",
      "metadata": {
        "id": "f5UdxINhormD",
        "colab_type": "text"
      },
      "source": [
        "öğe eklerken dikkat edilmesi gereken şey listeye sadece list veri tipli bir değer ekleyebiliriz yani direk olarak sayıları veye karakter dizilerini ekleyemeyiz"
      ]
    },
    {
      "cell_type": "code",
      "metadata": {
        "id": "NoaFJoSJp-Rg",
        "colab_type": "code",
        "colab": {
          "base_uri": "https://localhost:8080/",
          "height": 163
        },
        "outputId": "d916bcf6-541f-4672-b913-3ce054cbf7b9"
      },
      "source": [
        "liste + 8"
      ],
      "execution_count": 13,
      "outputs": [
        {
          "output_type": "error",
          "ename": "TypeError",
          "evalue": "ignored",
          "traceback": [
            "\u001b[0;31m---------------------------------------------------------------------------\u001b[0m",
            "\u001b[0;31mTypeError\u001b[0m                                 Traceback (most recent call last)",
            "\u001b[0;32m<ipython-input-13-114334947ffc>\u001b[0m in \u001b[0;36m<module>\u001b[0;34m()\u001b[0m\n\u001b[0;32m----> 1\u001b[0;31m \u001b[0mliste\u001b[0m \u001b[0;34m+\u001b[0m \u001b[0;36m8\u001b[0m\u001b[0;34m\u001b[0m\u001b[0;34m\u001b[0m\u001b[0m\n\u001b[0m",
            "\u001b[0;31mTypeError\u001b[0m: can only concatenate list (not \"int\") to list"
          ]
        }
      ]
    },
    {
      "cell_type": "code",
      "metadata": {
        "id": "gTsYHHIbqAVm",
        "colab_type": "code",
        "colab": {
          "base_uri": "https://localhost:8080/",
          "height": 163
        },
        "outputId": "5437cccd-af11-452b-fad2-cf3558738e96"
      },
      "source": [
        "liste + \"bla\""
      ],
      "execution_count": 14,
      "outputs": [
        {
          "output_type": "error",
          "ename": "TypeError",
          "evalue": "ignored",
          "traceback": [
            "\u001b[0;31m---------------------------------------------------------------------------\u001b[0m",
            "\u001b[0;31mTypeError\u001b[0m                                 Traceback (most recent call last)",
            "\u001b[0;32m<ipython-input-14-ca750d78a751>\u001b[0m in \u001b[0;36m<module>\u001b[0;34m()\u001b[0m\n\u001b[0;32m----> 1\u001b[0;31m \u001b[0mliste\u001b[0m \u001b[0;34m+\u001b[0m \u001b[0;34m\"bla\"\u001b[0m\u001b[0;34m\u001b[0m\u001b[0;34m\u001b[0m\u001b[0m\n\u001b[0m",
            "\u001b[0;31mTypeError\u001b[0m: can only concatenate list (not \"str\") to list"
          ]
        }
      ]
    },
    {
      "cell_type": "code",
      "metadata": {
        "id": "iDyFaz_7qDIv",
        "colab_type": "code",
        "colab": {
          "base_uri": "https://localhost:8080/",
          "height": 34
        },
        "outputId": "4cc63152-64d1-4362-ae1d-184928542d97"
      },
      "source": [
        "liste + [\"bla\"]"
      ],
      "execution_count": 15,
      "outputs": [
        {
          "output_type": "execute_result",
          "data": {
            "text/plain": [
              "[1, 4, 7, 9, 'bla']"
            ]
          },
          "metadata": {
            "tags": []
          },
          "execution_count": 15
        }
      ]
    },
    {
      "cell_type": "markdown",
      "metadata": {
        "id": "cI_9SFPDqWQD",
        "colab_type": "text"
      },
      "source": [
        "- bazı metotları kullanarakta listeye öğe ekleyebiliriz:"
      ]
    },
    {
      "cell_type": "markdown",
      "metadata": {
        "id": "Wf4zqgkwsx3f",
        "colab_type": "text"
      },
      "source": [
        "ayrıca + operatörünü listeleri birleştirmek içinde kullanabiliriz:"
      ]
    },
    {
      "cell_type": "code",
      "metadata": {
        "id": "h_4IBPyFs2Qd",
        "colab_type": "code",
        "colab": {
          "base_uri": "https://localhost:8080/",
          "height": 34
        },
        "outputId": "925b916e-2179-4a77-bbef-bf7db6c051d5"
      },
      "source": [
        "evens = [1,2,3,4]\n",
        "odds = [5,6,7,8]\n",
        "nums = evens + odds\n",
        "print(nums)"
      ],
      "execution_count": 19,
      "outputs": [
        {
          "output_type": "stream",
          "text": [
            "[1, 2, 3, 4, 5, 6, 7, 8]\n"
          ],
          "name": "stdout"
        }
      ]
    },
    {
      "cell_type": "markdown",
      "metadata": {
        "id": "07EBXQiQqbwS",
        "colab_type": "text"
      },
      "source": [
        "**append()**"
      ]
    },
    {
      "cell_type": "markdown",
      "metadata": {
        "id": "aUic2El-rN7-",
        "colab_type": "text"
      },
      "source": [
        "bu işlev, öğeyi listenin sonuna ekler"
      ]
    },
    {
      "cell_type": "code",
      "metadata": {
        "id": "YL75r4Fqqdzp",
        "colab_type": "code",
        "colab": {
          "base_uri": "https://localhost:8080/",
          "height": 102
        },
        "outputId": "8d007275-ec87-4218-886f-9517f382a923"
      },
      "source": [
        "fruits = [\"Apple\",\"Banana\"]\n",
        "fruits.append(\"Kivi\")\n",
        "print(fruits)\n",
        "\n",
        "print(f\"Curren Fruits Lİst {fruits}\")\n",
        "# kullanıcıdan meyve ismi isteme\n",
        "f = input(\"LÜtfen herhangi bir meyve ismi giriniz:\\n\")\n",
        "fruits.append(f)\n",
        "print(f\"güncellenen meyve listesin son hali : {fruits}\")"
      ],
      "execution_count": 18,
      "outputs": [
        {
          "output_type": "stream",
          "text": [
            "['Apple', 'Banana', 'Kivi']\n",
            "Curren Fruits Lİst ['Apple', 'Banana', 'Kivi']\n",
            "LÜtfen herhangi bir meyve ismi giriniz:\n",
            "orange\n",
            "güncellenen meyve listesin son hali : ['Apple', 'Banana', 'Kivi', 'orange']\n"
          ],
          "name": "stdout"
        }
      ]
    },
    {
      "cell_type": "markdown",
      "metadata": {
        "id": "TuKwryXaw0vH",
        "colab_type": "text"
      },
      "source": [
        "**extend()**"
      ]
    },
    {
      "cell_type": "markdown",
      "metadata": {
        "id": "Z1OtDj3uw6Fx",
        "colab_type": "text"
      },
      "source": [
        "bu işlev listelere öge eklemeye yarar fakat diğerlerinden ayıran en önemli şey\n",
        "bir çok farklı veri tipine sahip değeri eklememizi sağlar"
      ]
    },
    {
      "cell_type": "code",
      "metadata": {
        "id": "u5vm6LjUxNII",
        "colab_type": "code",
        "colab": {
          "base_uri": "https://localhost:8080/",
          "height": 34
        },
        "outputId": "f67f2b52-ee8f-439a-9176-5da17fb43128"
      },
      "source": [
        "listNum = []\n",
        "listNum.extend(\"ABC\")\n",
        "print(listNum)"
      ],
      "execution_count": 32,
      "outputs": [
        {
          "output_type": "stream",
          "text": [
            "['A', 'B', 'C']\n"
          ],
          "name": "stdout"
        }
      ]
    },
    {
      "cell_type": "code",
      "metadata": {
        "id": "C_pC0G9Xxvtz",
        "colab_type": "code",
        "colab": {
          "base_uri": "https://localhost:8080/",
          "height": 51
        },
        "outputId": "521fc9ae-3037-47f6-d276-eed582440e6d"
      },
      "source": [
        "# language List\n",
        "language = [\"French\"]\n",
        "# language Tuple\n",
        "languageTuple = (\"Spanish\",\"Portuguese\")\n",
        "# language Set\n",
        "languageSet = {\"Chinese\",\"Japanese\"}\n",
        "language.extend(languageTuple)\n",
        "print(\"New Language List: \", language)\n",
        "# set\n",
        "language.extend(languageSet)\n",
        "print(\"New Language List: \", language)"
      ],
      "execution_count": 30,
      "outputs": [
        {
          "output_type": "stream",
          "text": [
            "New Language List:  ['French', 'Spanish', 'Portuguese']\n",
            "New Language List:  ['French', 'Spanish', 'Portuguese', 'Japanese', 'Chinese']\n"
          ],
          "name": "stdout"
        }
      ]
    },
    {
      "cell_type": "markdown",
      "metadata": {
        "id": "6AyTWqO00OYv",
        "colab_type": "text"
      },
      "source": [
        "farklı veri tipteki ögeleri extend() ile eklemiş olduk"
      ]
    },
    {
      "cell_type": "markdown",
      "metadata": {
        "id": "pcb_j4cf0UBQ",
        "colab_type": "text"
      },
      "source": [
        "**insert()**"
      ]
    },
    {
      "cell_type": "markdown",
      "metadata": {
        "id": "YoObXWX30Vym",
        "colab_type": "text"
      },
      "source": [
        "insert() listeye indesk numarsına göre öge ekler\n",
        "\n",
        "- intsert() iki tane parametre alır\n",
        "1. parametre eklenecek ögenin listenin hangi indeksine koyulacağı yazılır\n",
        "2. parametre eklenecek yeni öge yazılır"
      ]
    },
    {
      "cell_type": "code",
      "metadata": {
        "id": "LfiWFFc901bd",
        "colab_type": "code",
        "colab": {
          "base_uri": "https://localhost:8080/",
          "height": 34
        },
        "outputId": "85bb3819-19c8-44a8-9f8e-473061cc9a02"
      },
      "source": [
        "wowel = [\"a\",\"e\",\"i\",\"u\"]\n",
        "# o harfini 3. indekse koy\n",
        "wowel.insert(3,\"o\")\n",
        "print(wowel)"
      ],
      "execution_count": 31,
      "outputs": [
        {
          "output_type": "stream",
          "text": [
            "['a', 'e', 'i', 'o', 'u']\n"
          ],
          "name": "stdout"
        }
      ]
    }
  ]
}